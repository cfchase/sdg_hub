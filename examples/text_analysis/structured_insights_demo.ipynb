{
 "cells": [
  {
   "cell_type": "markdown",
   "metadata": {},
   "source": [
    "# Structured Text Insights Extraction Demo\n",
    "\n",
    "This notebook demonstrates the **Structured Text Insights Flow** using the Bloomberg Financial News dataset. \n",
    "\n",
    "## What You'll Learn\n",
    "- How to use the structured insights flow for comprehensive text analysis\n",
    "- Extract summaries, keywords, entities, and sentiment from financial news\n",
    "- Analyze and visualize results across large datasets\n",
    "- Extend the flow with custom blocks for domain-specific analysis\n",
    "\n",
    "## Flow Capabilities\n",
    "The structured insights flow performs **4 key analyses** on any text:\n",
    "1. **📝 Summary**: Concise 2-3 sentence summaries\n",
    "2. **🔑 Keywords**: Top 10 most important terms\n",
    "3. **🏷️ Entities**: Named entities (people, organizations, locations)\n",
    "4. **😊 Sentiment**: Emotional tone analysis (positive/negative/neutral)\n",
    "\n",
    "All results are combined into a **structured JSON output** for easy processing and analysis."
   ]
  },
  {
   "cell_type": "markdown",
   "metadata": {},
   "source": [
    "## Setup and Installation"
   ]
  },
  {
   "cell_type": "code",
   "execution_count": 1,
   "metadata": {},
   "outputs": [],
   "source": [
    "%load_ext autoreload\n",
    "%autoreload 2\n",
    "\n",
    "# pip install sdg_hub[examples]"
   ]
  },
  {
   "cell_type": "code",
   "execution_count": 2,
   "metadata": {},
   "outputs": [
    {
     "name": "stderr",
     "output_type": "stream",
     "text": [
      "/Users/shiv/workspace/sdg_hub/.venv/lib/python3.12/site-packages/tqdm/auto.py:21: TqdmWarning: IProgress not found. Please update jupyter and ipywidgets. See https://ipywidgets.readthedocs.io/en/stable/user_install.html\n",
      "  from .autonotebook import tqdm as notebook_tqdm\n"
     ]
    }
   ],
   "source": [
    "import json\n",
    "import random\n",
    "import warnings\n",
    "\n",
    "from datasets import load_dataset\n",
    "import nest_asyncio\n",
    "\n",
    "from sdg_hub import Flow, FlowRegistry\n",
    "\n",
    "warnings.filterwarnings('ignore')\n",
    "\n",
    "# Required for async execution in notebooks\n",
    "nest_asyncio.apply()"
   ]
  },
  {
   "cell_type": "markdown",
   "metadata": {},
   "source": [
    "## 1. Flow Discovery and Loading\n",
    "\n",
    "SDG Hub automatically discovers all available flows. Let's find our structured insights flow:"
   ]
  },
  {
   "cell_type": "code",
   "execution_count": 3,
   "metadata": {},
   "outputs": [
    {
     "data": {
      "text/html": [
       "<pre style=\"white-space:pre;overflow-x:auto;line-height:normal;font-family:Menlo,'DejaVu Sans Mono',consolas,'Courier New',monospace\"><span style=\"color: #7fbfbf; text-decoration-color: #7fbfbf\">[15:18:35] </span><span style=\"color: #000080; text-decoration-color: #000080\">INFO    </span> Discovered <span style=\"color: #008080; text-decoration-color: #008080; font-weight: bold\">5</span> flows                                                              <a href=\"file:///Users/shiv/workspace/sdg_hub/src/sdg_hub/core/flow/registry.py\" target=\"_blank\"><span style=\"color: #7f7f7f; text-decoration-color: #7f7f7f\">registry.py</span></a><span style=\"color: #7f7f7f; text-decoration-color: #7f7f7f\">:</span><a href=\"file:///Users/shiv/workspace/sdg_hub/src/sdg_hub/core/flow/registry.py#113\" target=\"_blank\"><span style=\"color: #7f7f7f; text-decoration-color: #7f7f7f\">113</span></a>\n",
       "</pre>\n"
      ],
      "text/plain": [
       "\u001b[2;36m[15:18:35]\u001b[0m\u001b[2;36m \u001b[0m\u001b[34mINFO    \u001b[0m Discovered \u001b[1;36m5\u001b[0m flows                                                              \u001b]8;id=396155;file:///Users/shiv/workspace/sdg_hub/src/sdg_hub/core/flow/registry.py\u001b\\\u001b[2mregistry.py\u001b[0m\u001b]8;;\u001b\\\u001b[2m:\u001b[0m\u001b]8;id=934608;file:///Users/shiv/workspace/sdg_hub/src/sdg_hub/core/flow/registry.py#113\u001b\\\u001b[2m113\u001b[0m\u001b]8;;\u001b\\\n"
      ]
     },
     "metadata": {},
     "output_type": "display_data"
    },
    {
     "data": {
      "text/html": [
       "<pre style=\"white-space:pre;overflow-x:auto;line-height:normal;font-family:Menlo,'DejaVu Sans Mono',consolas,'Courier New',monospace\">┏━━━━━━━━━━━━━━━━━━┳━━━━━━━━━━━━━━━━━━━━━━━┳━━━━━━━━━━━━━━━━━━━━━━┳━━━━━━━━━━━━━━━━━━━━━━━┳━━━━━━━━━━━━━━━━━━━━━━━┓\n",
       "┃<span style=\"color: #ff00ff; text-decoration-color: #ff00ff; font-weight: bold\"> ID               </span>┃<span style=\"color: #ff00ff; text-decoration-color: #ff00ff; font-weight: bold\"> Name                  </span>┃<span style=\"color: #ff00ff; text-decoration-color: #ff00ff; font-weight: bold\"> Author               </span>┃<span style=\"color: #ff00ff; text-decoration-color: #ff00ff; font-weight: bold\"> Tags                  </span>┃<span style=\"color: #ff00ff; text-decoration-color: #ff00ff; font-weight: bold\"> Description           </span>┃\n",
       "┡━━━━━━━━━━━━━━━━━━╇━━━━━━━━━━━━━━━━━━━━━━━╇━━━━━━━━━━━━━━━━━━━━━━╇━━━━━━━━━━━━━━━━━━━━━━━╇━━━━━━━━━━━━━━━━━━━━━━━┩\n",
       "│<span style=\"color: #ff00ff; text-decoration-color: #ff00ff; font-weight: bold\"> epic-jade-656    </span>│<span style=\"color: #00ffff; text-decoration-color: #00ffff; font-weight: bold\"> Extractive Summary    </span>│<span style=\"color: #00ff00; text-decoration-color: #00ff00\"> SDG Hub Contributors </span>│<span style=\"color: #808000; text-decoration-color: #808000\"> knowledge-tuning,     </span>│<span style=\"color: #c0c0c0; text-decoration-color: #c0c0c0\"> Generate extractive   </span>│\n",
       "│<span style=\"color: #ff00ff; text-decoration-color: #ff00ff; font-weight: bold\">                  </span>│<span style=\"color: #00ffff; text-decoration-color: #00ffff; font-weight: bold\"> Knowledge Tuning      </span>│<span style=\"color: #00ff00; text-decoration-color: #00ff00\">                      </span>│<span style=\"color: #808000; text-decoration-color: #808000\"> document-internaliza… </span>│<span style=\"color: #c0c0c0; text-decoration-color: #c0c0c0\"> summary from the      </span>│\n",
       "│<span style=\"color: #ff00ff; text-decoration-color: #ff00ff; font-weight: bold\">                  </span>│<span style=\"color: #00ffff; text-decoration-color: #00ffff; font-weight: bold\"> Dataset Generation    </span>│<span style=\"color: #00ff00; text-decoration-color: #00ff00\">                      </span>│<span style=\"color: #808000; text-decoration-color: #808000\"> question-generation,  </span>│<span style=\"color: #c0c0c0; text-decoration-color: #c0c0c0\"> input document. Each  </span>│\n",
       "│<span style=\"color: #ff00ff; text-decoration-color: #ff00ff; font-weight: bold\">                  </span>│<span style=\"color: #00ffff; text-decoration-color: #00ffff; font-weight: bold\"> Flow                  </span>│<span style=\"color: #00ff00; text-decoration-color: #00ff00\">                      </span>│<span style=\"color: #808000; text-decoration-color: #808000\"> knowledge-extractive… </span>│<span style=\"color: #c0c0c0; text-decoration-color: #c0c0c0\"> document is first     </span>│\n",
       "│<span style=\"color: #ff00ff; text-decoration-color: #ff00ff; font-weight: bold\">                  </span>│<span style=\"color: #00ffff; text-decoration-color: #00ffff; font-weight: bold\">                       </span>│<span style=\"color: #00ff00; text-decoration-color: #00ff00\">                      </span>│<span style=\"color: #808000; text-decoration-color: #808000\"> qa-pairs,             </span>│<span style=\"color: #c0c0c0; text-decoration-color: #c0c0c0\"> converted into list   </span>│\n",
       "│<span style=\"color: #ff00ff; text-decoration-color: #ff00ff; font-weight: bold\">                  </span>│<span style=\"color: #00ffff; text-decoration-color: #00ffff; font-weight: bold\">                       </span>│<span style=\"color: #00ff00; text-decoration-color: #00ff00\">                      </span>│<span style=\"color: #808000; text-decoration-color: #808000\"> extractive-summaries  </span>│<span style=\"color: #c0c0c0; text-decoration-color: #c0c0c0\"> of knowledge segments </span>│\n",
       "│<span style=\"color: #ff00ff; text-decoration-color: #ff00ff; font-weight: bold\">                  </span>│<span style=\"color: #00ffff; text-decoration-color: #00ffff; font-weight: bold\">                       </span>│<span style=\"color: #00ff00; text-decoration-color: #00ff00\">                      </span>│<span style=\"color: #808000; text-decoration-color: #808000\">                       </span>│<span style=\"color: #c0c0c0; text-decoration-color: #c0c0c0\"> for creating          </span>│\n",
       "│<span style=\"color: #ff00ff; text-decoration-color: #ff00ff; font-weight: bold\">                  </span>│<span style=\"color: #00ffff; text-decoration-color: #00ffff; font-weight: bold\">                       </span>│<span style=\"color: #00ff00; text-decoration-color: #00ff00\">                      </span>│<span style=\"color: #808000; text-decoration-color: #808000\">                       </span>│<span style=\"color: #c0c0c0; text-decoration-color: #c0c0c0\"> extractive summary    </span>│\n",
       "│<span style=\"color: #ff00ff; text-decoration-color: #ff00ff; font-weight: bold\">                  </span>│<span style=\"color: #00ffff; text-decoration-color: #00ffff; font-weight: bold\">                       </span>│<span style=\"color: #00ff00; text-decoration-color: #00ff00\">                      </span>│<span style=\"color: #808000; text-decoration-color: #808000\">                       </span>│<span style=\"color: #c0c0c0; text-decoration-color: #c0c0c0\"> and then annotated    </span>│\n",
       "│<span style=\"color: #ff00ff; text-decoration-color: #ff00ff; font-weight: bold\">                  </span>│<span style=\"color: #00ffff; text-decoration-color: #00ffff; font-weight: bold\">                       </span>│<span style=\"color: #00ff00; text-decoration-color: #00ff00\">                      </span>│<span style=\"color: #808000; text-decoration-color: #808000\">                       </span>│<span style=\"color: #c0c0c0; text-decoration-color: #c0c0c0\"> with context,         </span>│\n",
       "│<span style=\"color: #ff00ff; text-decoration-color: #ff00ff; font-weight: bold\">                  </span>│<span style=\"color: #00ffff; text-decoration-color: #00ffff; font-weight: bold\">                       </span>│<span style=\"color: #00ff00; text-decoration-color: #00ff00\">                      </span>│<span style=\"color: #808000; text-decoration-color: #808000\">                       </span>│<span style=\"color: #c0c0c0; text-decoration-color: #c0c0c0\"> relationship and      </span>│\n",
       "│<span style=\"color: #ff00ff; text-decoration-color: #ff00ff; font-weight: bold\">                  </span>│<span style=\"color: #00ffff; text-decoration-color: #00ffff; font-weight: bold\">                       </span>│<span style=\"color: #00ff00; text-decoration-color: #00ff00\">                      </span>│<span style=\"color: #808000; text-decoration-color: #808000\">                       </span>│<span style=\"color: #c0c0c0; text-decoration-color: #c0c0c0\"> relevance. This is    </span>│\n",
       "│<span style=\"color: #ff00ff; text-decoration-color: #ff00ff; font-weight: bold\">                  </span>│<span style=\"color: #00ffff; text-decoration-color: #00ffff; font-weight: bold\">                       </span>│<span style=\"color: #00ff00; text-decoration-color: #00ff00\">                      </span>│<span style=\"color: #808000; text-decoration-color: #808000\">                       </span>│<span style=\"color: #c0c0c0; text-decoration-color: #c0c0c0\"> then converted into   </span>│\n",
       "│<span style=\"color: #ff00ff; text-decoration-color: #ff00ff; font-weight: bold\">                  </span>│<span style=\"color: #00ffff; text-decoration-color: #00ffff; font-weight: bold\">                       </span>│<span style=\"color: #00ff00; text-decoration-color: #00ff00\">                      </span>│<span style=\"color: #808000; text-decoration-color: #808000\">                       </span>│<span style=\"color: #c0c0c0; text-decoration-color: #c0c0c0\"> Question-Answer       </span>│\n",
       "│<span style=\"color: #ff00ff; text-decoration-color: #ff00ff; font-weight: bold\">                  </span>│<span style=\"color: #00ffff; text-decoration-color: #00ffff; font-weight: bold\">                       </span>│<span style=\"color: #00ff00; text-decoration-color: #00ff00\">                      </span>│<span style=\"color: #808000; text-decoration-color: #808000\">                       </span>│<span style=\"color: #c0c0c0; text-decoration-color: #c0c0c0\"> pairs.                </span>│\n",
       "│<span style=\"color: #ff00ff; text-decoration-color: #ff00ff; font-weight: bold\"> green-clay-812   </span>│<span style=\"color: #00ffff; text-decoration-color: #00ffff; font-weight: bold\"> Structured Text       </span>│<span style=\"color: #00ff00; text-decoration-color: #00ff00\"> SDG Hub Contributors </span>│<span style=\"color: #808000; text-decoration-color: #808000\"> text-analysis,        </span>│<span style=\"color: #c0c0c0; text-decoration-color: #c0c0c0\"> Multi-step pipeline   </span>│\n",
       "│<span style=\"color: #ff00ff; text-decoration-color: #ff00ff; font-weight: bold\">                  </span>│<span style=\"color: #00ffff; text-decoration-color: #00ffff; font-weight: bold\"> Insights Extraction   </span>│<span style=\"color: #00ff00; text-decoration-color: #00ff00\">                      </span>│<span style=\"color: #808000; text-decoration-color: #808000\"> summarization, nlp,   </span>│<span style=\"color: #c0c0c0; text-decoration-color: #c0c0c0\"> for extracting        </span>│\n",
       "│<span style=\"color: #ff00ff; text-decoration-color: #ff00ff; font-weight: bold\">                  </span>│<span style=\"color: #00ffff; text-decoration-color: #00ffff; font-weight: bold\"> Flow                  </span>│<span style=\"color: #00ff00; text-decoration-color: #00ff00\">                      </span>│<span style=\"color: #808000; text-decoration-color: #808000\"> structured-output,    </span>│<span style=\"color: #c0c0c0; text-decoration-color: #c0c0c0\"> structured insights   </span>│\n",
       "│<span style=\"color: #ff00ff; text-decoration-color: #ff00ff; font-weight: bold\">                  </span>│<span style=\"color: #00ffff; text-decoration-color: #00ffff; font-weight: bold\">                       </span>│<span style=\"color: #00ff00; text-decoration-color: #00ff00\">                      </span>│<span style=\"color: #808000; text-decoration-color: #808000\"> insights,             </span>│<span style=\"color: #c0c0c0; text-decoration-color: #c0c0c0\"> from text including   </span>│\n",
       "│<span style=\"color: #ff00ff; text-decoration-color: #ff00ff; font-weight: bold\">                  </span>│<span style=\"color: #00ffff; text-decoration-color: #00ffff; font-weight: bold\">                       </span>│<span style=\"color: #00ff00; text-decoration-color: #00ff00\">                      </span>│<span style=\"color: #808000; text-decoration-color: #808000\"> sentiment-analysis,   </span>│<span style=\"color: #c0c0c0; text-decoration-color: #c0c0c0\"> summary, keywords,    </span>│\n",
       "│<span style=\"color: #ff00ff; text-decoration-color: #ff00ff; font-weight: bold\">                  </span>│<span style=\"color: #00ffff; text-decoration-color: #00ffff; font-weight: bold\">                       </span>│<span style=\"color: #00ff00; text-decoration-color: #00ff00\">                      </span>│<span style=\"color: #808000; text-decoration-color: #808000\"> entity-extraction,    </span>│<span style=\"color: #c0c0c0; text-decoration-color: #c0c0c0\"> entities, and         </span>│\n",
       "│<span style=\"color: #ff00ff; text-decoration-color: #ff00ff; font-weight: bold\">                  </span>│<span style=\"color: #00ffff; text-decoration-color: #00ffff; font-weight: bold\">                       </span>│<span style=\"color: #00ff00; text-decoration-color: #00ff00\">                      </span>│<span style=\"color: #808000; text-decoration-color: #808000\"> keyword-extraction    </span>│<span style=\"color: #c0c0c0; text-decoration-color: #c0c0c0\"> sentiment analysis    </span>│\n",
       "│<span style=\"color: #ff00ff; text-decoration-color: #ff00ff; font-weight: bold\">                  </span>│<span style=\"color: #00ffff; text-decoration-color: #00ffff; font-weight: bold\">                       </span>│<span style=\"color: #00ff00; text-decoration-color: #00ff00\">                      </span>│<span style=\"color: #808000; text-decoration-color: #808000\">                       </span>│<span style=\"color: #c0c0c0; text-decoration-color: #c0c0c0\"> combined into a JSON  </span>│\n",
       "│<span style=\"color: #ff00ff; text-decoration-color: #ff00ff; font-weight: bold\">                  </span>│<span style=\"color: #00ffff; text-decoration-color: #00ffff; font-weight: bold\">                       </span>│<span style=\"color: #00ff00; text-decoration-color: #00ff00\">                      </span>│<span style=\"color: #808000; text-decoration-color: #808000\">                       </span>│<span style=\"color: #c0c0c0; text-decoration-color: #c0c0c0\"> output                </span>│\n",
       "│<span style=\"color: #ff00ff; text-decoration-color: #ff00ff; font-weight: bold\"> heavy-heart-77   </span>│<span style=\"color: #00ffff; text-decoration-color: #00ffff; font-weight: bold\"> Key Facts Knowledge   </span>│<span style=\"color: #00ff00; text-decoration-color: #00ff00\"> SDG Hub Contributors </span>│<span style=\"color: #808000; text-decoration-color: #808000\"> knowledge-tuning,     </span>│<span style=\"color: #c0c0c0; text-decoration-color: #c0c0c0\"> Generates training    </span>│\n",
       "│<span style=\"color: #ff00ff; text-decoration-color: #ff00ff; font-weight: bold\">                  </span>│<span style=\"color: #00ffff; text-decoration-color: #00ffff; font-weight: bold\"> Tuning Dataset        </span>│<span style=\"color: #00ff00; text-decoration-color: #00ff00\">                      </span>│<span style=\"color: #808000; text-decoration-color: #808000\"> document-internaliza… </span>│<span style=\"color: #c0c0c0; text-decoration-color: #c0c0c0\"> datasets for          </span>│\n",
       "│<span style=\"color: #ff00ff; text-decoration-color: #ff00ff; font-weight: bold\">                  </span>│<span style=\"color: #00ffff; text-decoration-color: #00ffff; font-weight: bold\"> Generation Flow       </span>│<span style=\"color: #00ff00; text-decoration-color: #00ff00\">                      </span>│<span style=\"color: #808000; text-decoration-color: #808000\"> question-generation,  </span>│<span style=\"color: #c0c0c0; text-decoration-color: #c0c0c0\"> knowledge tuning by   </span>│\n",
       "│<span style=\"color: #ff00ff; text-decoration-color: #ff00ff; font-weight: bold\">                  </span>│<span style=\"color: #00ffff; text-decoration-color: #00ffff; font-weight: bold\">                       </span>│<span style=\"color: #00ff00; text-decoration-color: #00ff00\">                      </span>│<span style=\"color: #808000; text-decoration-color: #808000\"> knowledge-extraction, </span>│<span style=\"color: #c0c0c0; text-decoration-color: #c0c0c0\"> creating diverse      </span>│\n",
       "│<span style=\"color: #ff00ff; text-decoration-color: #ff00ff; font-weight: bold\">                  </span>│<span style=\"color: #00ffff; text-decoration-color: #00ffff; font-weight: bold\">                       </span>│<span style=\"color: #00ff00; text-decoration-color: #00ff00\">                      </span>│<span style=\"color: #808000; text-decoration-color: #808000\"> qa-pairs,             </span>│<span style=\"color: #c0c0c0; text-decoration-color: #c0c0c0\"> question-answer pairs </span>│\n",
       "│<span style=\"color: #ff00ff; text-decoration-color: #ff00ff; font-weight: bold\">                  </span>│<span style=\"color: #00ffff; text-decoration-color: #00ffff; font-weight: bold\">                       </span>│<span style=\"color: #00ff00; text-decoration-color: #00ff00\">                      </span>│<span style=\"color: #808000; text-decoration-color: #808000\"> document-processing,  </span>│<span style=\"color: #c0c0c0; text-decoration-color: #c0c0c0\"> from documents. Uses  </span>│\n",
       "│<span style=\"color: #ff00ff; text-decoration-color: #ff00ff; font-weight: bold\">                  </span>│<span style=\"color: #00ffff; text-decoration-color: #00ffff; font-weight: bold\">                       </span>│<span style=\"color: #00ff00; text-decoration-color: #00ff00\">                      </span>│<span style=\"color: #808000; text-decoration-color: #808000\"> educational,          </span>│<span style=\"color: #c0c0c0; text-decoration-color: #c0c0c0\"> three summarization   </span>│\n",
       "│<span style=\"color: #ff00ff; text-decoration-color: #ff00ff; font-weight: bold\">                  </span>│<span style=\"color: #00ffff; text-decoration-color: #00ffff; font-weight: bold\">                       </span>│<span style=\"color: #00ff00; text-decoration-color: #00ff00\">                      </span>│<span style=\"color: #808000; text-decoration-color: #808000\"> multi-strategy-synth… </span>│<span style=\"color: #c0c0c0; text-decoration-color: #c0c0c0\"> strategies (detailed  </span>│\n",
       "│<span style=\"color: #ff00ff; text-decoration-color: #ff00ff; font-weight: bold\">                  </span>│<span style=\"color: #00ffff; text-decoration-color: #00ffff; font-weight: bold\">                       </span>│<span style=\"color: #00ff00; text-decoration-color: #00ff00\">                      </span>│<span style=\"color: #808000; text-decoration-color: #808000\"> detailed-summaries,   </span>│<span style=\"color: #c0c0c0; text-decoration-color: #c0c0c0\"> summaries, extractive </span>│\n",
       "│<span style=\"color: #ff00ff; text-decoration-color: #ff00ff; font-weight: bold\">                  </span>│<span style=\"color: #00ffff; text-decoration-color: #00ffff; font-weight: bold\">                       </span>│<span style=\"color: #00ff00; text-decoration-color: #00ff00\">                      </span>│<span style=\"color: #808000; text-decoration-color: #808000\"> extractive-summaries, </span>│<span style=\"color: #c0c0c0; text-decoration-color: #c0c0c0\"> summaries, key facts) </span>│\n",
       "│<span style=\"color: #ff00ff; text-decoration-color: #ff00ff; font-weight: bold\">                  </span>│<span style=\"color: #00ffff; text-decoration-color: #00ffff; font-weight: bold\">                       </span>│<span style=\"color: #00ff00; text-decoration-color: #00ff00\">                      </span>│<span style=\"color: #808000; text-decoration-color: #808000\"> key-facts             </span>│<span style=\"color: #c0c0c0; text-decoration-color: #c0c0c0\"> to help LLMs          </span>│\n",
       "│<span style=\"color: #ff00ff; text-decoration-color: #ff00ff; font-weight: bold\">                  </span>│<span style=\"color: #00ffff; text-decoration-color: #00ffff; font-weight: bold\">                       </span>│<span style=\"color: #00ff00; text-decoration-color: #00ff00\">                      </span>│<span style=\"color: #808000; text-decoration-color: #808000\">                       </span>│<span style=\"color: #c0c0c0; text-decoration-color: #c0c0c0\"> internalize document  </span>│\n",
       "│<span style=\"color: #ff00ff; text-decoration-color: #ff00ff; font-weight: bold\">                  </span>│<span style=\"color: #00ffff; text-decoration-color: #00ffff; font-weight: bold\">                       </span>│<span style=\"color: #00ff00; text-decoration-color: #00ff00\">                      </span>│<span style=\"color: #808000; text-decoration-color: #808000\">                       </span>│<span style=\"color: #c0c0c0; text-decoration-color: #c0c0c0\"> knowledge, enabling   </span>│\n",
       "│<span style=\"color: #ff00ff; text-decoration-color: #ff00ff; font-weight: bold\">                  </span>│<span style=\"color: #00ffff; text-decoration-color: #00ffff; font-weight: bold\">                       </span>│<span style=\"color: #00ff00; text-decoration-color: #00ff00\">                      </span>│<span style=\"color: #808000; text-decoration-color: #808000\">                       </span>│<span style=\"color: #c0c0c0; text-decoration-color: #c0c0c0\"> them to answer        </span>│\n",
       "│<span style=\"color: #ff00ff; text-decoration-color: #ff00ff; font-weight: bold\">                  </span>│<span style=\"color: #00ffff; text-decoration-color: #00ffff; font-weight: bold\">                       </span>│<span style=\"color: #00ff00; text-decoration-color: #00ff00\">                      </span>│<span style=\"color: #808000; text-decoration-color: #808000\">                       </span>│<span style=\"color: #c0c0c0; text-decoration-color: #c0c0c0\"> queries without       </span>│\n",
       "│<span style=\"color: #ff00ff; text-decoration-color: #ff00ff; font-weight: bold\">                  </span>│<span style=\"color: #00ffff; text-decoration-color: #00ffff; font-weight: bold\">                       </span>│<span style=\"color: #00ff00; text-decoration-color: #00ff00\">                      </span>│<span style=\"color: #808000; text-decoration-color: #808000\">                       </span>│<span style=\"color: #c0c0c0; text-decoration-color: #c0c0c0\"> requiring the         </span>│\n",
       "│<span style=\"color: #ff00ff; text-decoration-color: #ff00ff; font-weight: bold\">                  </span>│<span style=\"color: #00ffff; text-decoration-color: #00ffff; font-weight: bold\">                       </span>│<span style=\"color: #00ff00; text-decoration-color: #00ff00\">                      </span>│<span style=\"color: #808000; text-decoration-color: #808000\">                       </span>│<span style=\"color: #c0c0c0; text-decoration-color: #c0c0c0\"> original document in  </span>│\n",
       "│<span style=\"color: #ff00ff; text-decoration-color: #ff00ff; font-weight: bold\">                  </span>│<span style=\"color: #00ffff; text-decoration-color: #00ffff; font-weight: bold\">                       </span>│<span style=\"color: #00ff00; text-decoration-color: #00ff00\">                      </span>│<span style=\"color: #808000; text-decoration-color: #808000\">                       </span>│<span style=\"color: #c0c0c0; text-decoration-color: #c0c0c0\"> context.              </span>│\n",
       "│<span style=\"color: #ff00ff; text-decoration-color: #ff00ff; font-weight: bold\"> mild-thunder-748 </span>│<span style=\"color: #00ffff; text-decoration-color: #00ffff; font-weight: bold\"> Detailed Summary      </span>│<span style=\"color: #00ff00; text-decoration-color: #00ff00\"> SDG Hub Contributors </span>│<span style=\"color: #808000; text-decoration-color: #808000\"> knowledge-tuning,     </span>│<span style=\"color: #c0c0c0; text-decoration-color: #c0c0c0\"> Generates high level  </span>│\n",
       "│<span style=\"color: #ff00ff; text-decoration-color: #ff00ff; font-weight: bold\">                  </span>│<span style=\"color: #00ffff; text-decoration-color: #00ffff; font-weight: bold\"> Knowledge Tuning      </span>│<span style=\"color: #00ff00; text-decoration-color: #00ff00\">                      </span>│<span style=\"color: #808000; text-decoration-color: #808000\"> document-internaliza… </span>│<span style=\"color: #c0c0c0; text-decoration-color: #c0c0c0\"> summaries of the      </span>│\n",
       "│<span style=\"color: #ff00ff; text-decoration-color: #ff00ff; font-weight: bold\">                  </span>│<span style=\"color: #00ffff; text-decoration-color: #00ffff; font-weight: bold\"> Dataset Generation    </span>│<span style=\"color: #00ff00; text-decoration-color: #00ff00\">                      </span>│<span style=\"color: #808000; text-decoration-color: #808000\"> question-generation,  </span>│<span style=\"color: #c0c0c0; text-decoration-color: #c0c0c0\"> document focusing on  </span>│\n",
       "│<span style=\"color: #ff00ff; text-decoration-color: #ff00ff; font-weight: bold\">                  </span>│<span style=\"color: #00ffff; text-decoration-color: #00ffff; font-weight: bold\"> Flow                  </span>│<span style=\"color: #00ff00; text-decoration-color: #00ff00\">                      </span>│<span style=\"color: #808000; text-decoration-color: #808000\"> qa-pairs,             </span>│<span style=\"color: #c0c0c0; text-decoration-color: #c0c0c0\"> overarching themes,   </span>│\n",
       "│<span style=\"color: #ff00ff; text-decoration-color: #ff00ff; font-weight: bold\">                  </span>│<span style=\"color: #00ffff; text-decoration-color: #00ffff; font-weight: bold\">                       </span>│<span style=\"color: #00ff00; text-decoration-color: #00ff00\">                      </span>│<span style=\"color: #808000; text-decoration-color: #808000\"> detailed-summaries    </span>│<span style=\"color: #c0c0c0; text-decoration-color: #c0c0c0\"> main arguments, and   </span>│\n",
       "│<span style=\"color: #ff00ff; text-decoration-color: #ff00ff; font-weight: bold\">                  </span>│<span style=\"color: #00ffff; text-decoration-color: #00ffff; font-weight: bold\">                       </span>│<span style=\"color: #00ff00; text-decoration-color: #00ff00\">                      </span>│<span style=\"color: #808000; text-decoration-color: #808000\">                       </span>│<span style=\"color: #c0c0c0; text-decoration-color: #c0c0c0\"> core principles. This </span>│\n",
       "│<span style=\"color: #ff00ff; text-decoration-color: #ff00ff; font-weight: bold\">                  </span>│<span style=\"color: #00ffff; text-decoration-color: #00ffff; font-weight: bold\">                       </span>│<span style=\"color: #00ff00; text-decoration-color: #00ff00\">                      </span>│<span style=\"color: #808000; text-decoration-color: #808000\">                       </span>│<span style=\"color: #c0c0c0; text-decoration-color: #c0c0c0\"> is then converted     </span>│\n",
       "│<span style=\"color: #ff00ff; text-decoration-color: #ff00ff; font-weight: bold\">                  </span>│<span style=\"color: #00ffff; text-decoration-color: #00ffff; font-weight: bold\">                       </span>│<span style=\"color: #00ff00; text-decoration-color: #00ff00\">                      </span>│<span style=\"color: #808000; text-decoration-color: #808000\">                       </span>│<span style=\"color: #c0c0c0; text-decoration-color: #c0c0c0\"> into Question-Answer  </span>│\n",
       "│<span style=\"color: #ff00ff; text-decoration-color: #ff00ff; font-weight: bold\">                  </span>│<span style=\"color: #00ffff; text-decoration-color: #00ffff; font-weight: bold\">                       </span>│<span style=\"color: #00ff00; text-decoration-color: #00ff00\">                      </span>│<span style=\"color: #808000; text-decoration-color: #808000\">                       </span>│<span style=\"color: #c0c0c0; text-decoration-color: #c0c0c0\"> pairs.                </span>│\n",
       "│<span style=\"color: #ff00ff; text-decoration-color: #ff00ff; font-weight: bold\"> small-rock-799   </span>│<span style=\"color: #00ffff; text-decoration-color: #00ffff; font-weight: bold\"> Advanced Document     </span>│<span style=\"color: #00ff00; text-decoration-color: #00ff00\"> SDG Hub Contributors </span>│<span style=\"color: #808000; text-decoration-color: #808000\"> question-generation,  </span>│<span style=\"color: #c0c0c0; text-decoration-color: #c0c0c0\"> A comprehensive flow  </span>│\n",
       "│<span style=\"color: #ff00ff; text-decoration-color: #ff00ff; font-weight: bold\">                  </span>│<span style=\"color: #00ffff; text-decoration-color: #00ffff; font-weight: bold\"> Grounded              </span>│<span style=\"color: #00ff00; text-decoration-color: #00ff00\">                      </span>│<span style=\"color: #808000; text-decoration-color: #808000\"> knowledge-extraction, </span>│<span style=\"color: #c0c0c0; text-decoration-color: #c0c0c0\"> that generates        </span>│\n",
       "│<span style=\"color: #ff00ff; text-decoration-color: #ff00ff; font-weight: bold\">                  </span>│<span style=\"color: #00ffff; text-decoration-color: #00ffff; font-weight: bold\"> Question-Answer       </span>│<span style=\"color: #00ff00; text-decoration-color: #00ff00\">                      </span>│<span style=\"color: #808000; text-decoration-color: #808000\"> qa-pairs,             </span>│<span style=\"color: #c0c0c0; text-decoration-color: #c0c0c0\"> high-quality          </span>│\n",
       "│<span style=\"color: #ff00ff; text-decoration-color: #ff00ff; font-weight: bold\">                  </span>│<span style=\"color: #00ffff; text-decoration-color: #00ffff; font-weight: bold\"> Generation Flow for   </span>│<span style=\"color: #00ff00; text-decoration-color: #00ff00\">                      </span>│<span style=\"color: #808000; text-decoration-color: #808000\"> document-processing,  </span>│<span style=\"color: #c0c0c0; text-decoration-color: #c0c0c0\"> question-answer pairs </span>│\n",
       "│<span style=\"color: #ff00ff; text-decoration-color: #ff00ff; font-weight: bold\">                  </span>│<span style=\"color: #00ffff; text-decoration-color: #00ffff; font-weight: bold\"> Knowledge Tuning      </span>│<span style=\"color: #00ff00; text-decoration-color: #00ff00\">                      </span>│<span style=\"color: #808000; text-decoration-color: #808000\"> educational           </span>│<span style=\"color: #c0c0c0; text-decoration-color: #c0c0c0\"> from input documents  </span>│\n",
       "│<span style=\"color: #ff00ff; text-decoration-color: #ff00ff; font-weight: bold\">                  </span>│<span style=\"color: #00ffff; text-decoration-color: #00ffff; font-weight: bold\">                       </span>│<span style=\"color: #00ff00; text-decoration-color: #00ff00\">                      </span>│<span style=\"color: #808000; text-decoration-color: #808000\">                       </span>│<span style=\"color: #c0c0c0; text-decoration-color: #c0c0c0\"> using multiple LLM    </span>│\n",
       "│<span style=\"color: #ff00ff; text-decoration-color: #ff00ff; font-weight: bold\">                  </span>│<span style=\"color: #00ffff; text-decoration-color: #00ffff; font-weight: bold\">                       </span>│<span style=\"color: #00ff00; text-decoration-color: #00ff00\">                      </span>│<span style=\"color: #808000; text-decoration-color: #808000\">                       </span>│<span style=\"color: #c0c0c0; text-decoration-color: #c0c0c0\"> blocks for question   </span>│\n",
       "│<span style=\"color: #ff00ff; text-decoration-color: #ff00ff; font-weight: bold\">                  </span>│<span style=\"color: #00ffff; text-decoration-color: #00ffff; font-weight: bold\">                       </span>│<span style=\"color: #00ff00; text-decoration-color: #00ff00\">                      </span>│<span style=\"color: #808000; text-decoration-color: #808000\">                       </span>│<span style=\"color: #c0c0c0; text-decoration-color: #c0c0c0\"> generation, answer    </span>│\n",
       "│<span style=\"color: #ff00ff; text-decoration-color: #ff00ff; font-weight: bold\">                  </span>│<span style=\"color: #00ffff; text-decoration-color: #00ffff; font-weight: bold\">                       </span>│<span style=\"color: #00ff00; text-decoration-color: #00ff00\">                      </span>│<span style=\"color: #808000; text-decoration-color: #808000\">                       </span>│<span style=\"color: #c0c0c0; text-decoration-color: #c0c0c0\"> synthesis, and        </span>│\n",
       "│<span style=\"color: #ff00ff; text-decoration-color: #ff00ff; font-weight: bold\">                  </span>│<span style=\"color: #00ffff; text-decoration-color: #00ffff; font-weight: bold\">                       </span>│<span style=\"color: #00ff00; text-decoration-color: #00ff00\">                      </span>│<span style=\"color: #808000; text-decoration-color: #808000\">                       </span>│<span style=\"color: #c0c0c0; text-decoration-color: #c0c0c0\"> quality evaluation.   </span>│\n",
       "└──────────────────┴───────────────────────┴──────────────────────┴───────────────────────┴───────────────────────┘\n",
       "</pre>\n"
      ],
      "text/plain": [
       "┏━━━━━━━━━━━━━━━━━━┳━━━━━━━━━━━━━━━━━━━━━━━┳━━━━━━━━━━━━━━━━━━━━━━┳━━━━━━━━━━━━━━━━━━━━━━━┳━━━━━━━━━━━━━━━━━━━━━━━┓\n",
       "┃\u001b[1;95m \u001b[0m\u001b[1;95mID              \u001b[0m\u001b[1;95m \u001b[0m┃\u001b[1;95m \u001b[0m\u001b[1;95mName                 \u001b[0m\u001b[1;95m \u001b[0m┃\u001b[1;95m \u001b[0m\u001b[1;95mAuthor              \u001b[0m\u001b[1;95m \u001b[0m┃\u001b[1;95m \u001b[0m\u001b[1;95mTags                 \u001b[0m\u001b[1;95m \u001b[0m┃\u001b[1;95m \u001b[0m\u001b[1;95mDescription          \u001b[0m\u001b[1;95m \u001b[0m┃\n",
       "┡━━━━━━━━━━━━━━━━━━╇━━━━━━━━━━━━━━━━━━━━━━━╇━━━━━━━━━━━━━━━━━━━━━━╇━━━━━━━━━━━━━━━━━━━━━━━╇━━━━━━━━━━━━━━━━━━━━━━━┩\n",
       "│\u001b[1;95m \u001b[0m\u001b[1;95mepic-jade-656   \u001b[0m\u001b[1;95m \u001b[0m│\u001b[1;96m \u001b[0m\u001b[1;96mExtractive Summary   \u001b[0m\u001b[1;96m \u001b[0m│\u001b[92m \u001b[0m\u001b[92mSDG Hub Contributors\u001b[0m\u001b[92m \u001b[0m│\u001b[33m \u001b[0m\u001b[33mknowledge-tuning,    \u001b[0m\u001b[33m \u001b[0m│\u001b[37m \u001b[0m\u001b[37mGenerate extractive  \u001b[0m\u001b[37m \u001b[0m│\n",
       "│\u001b[1;95m                  \u001b[0m│\u001b[1;96m \u001b[0m\u001b[1;96mKnowledge Tuning     \u001b[0m\u001b[1;96m \u001b[0m│\u001b[92m                      \u001b[0m│\u001b[33m \u001b[0m\u001b[33mdocument-internaliza…\u001b[0m\u001b[33m \u001b[0m│\u001b[37m \u001b[0m\u001b[37msummary from the     \u001b[0m\u001b[37m \u001b[0m│\n",
       "│\u001b[1;95m                  \u001b[0m│\u001b[1;96m \u001b[0m\u001b[1;96mDataset Generation   \u001b[0m\u001b[1;96m \u001b[0m│\u001b[92m                      \u001b[0m│\u001b[33m \u001b[0m\u001b[33mquestion-generation, \u001b[0m\u001b[33m \u001b[0m│\u001b[37m \u001b[0m\u001b[37minput document. Each \u001b[0m\u001b[37m \u001b[0m│\n",
       "│\u001b[1;95m                  \u001b[0m│\u001b[1;96m \u001b[0m\u001b[1;96mFlow                 \u001b[0m\u001b[1;96m \u001b[0m│\u001b[92m                      \u001b[0m│\u001b[33m \u001b[0m\u001b[33mknowledge-extractive…\u001b[0m\u001b[33m \u001b[0m│\u001b[37m \u001b[0m\u001b[37mdocument is first    \u001b[0m\u001b[37m \u001b[0m│\n",
       "│\u001b[1;95m                  \u001b[0m│\u001b[1;96m                       \u001b[0m│\u001b[92m                      \u001b[0m│\u001b[33m \u001b[0m\u001b[33mqa-pairs,            \u001b[0m\u001b[33m \u001b[0m│\u001b[37m \u001b[0m\u001b[37mconverted into list  \u001b[0m\u001b[37m \u001b[0m│\n",
       "│\u001b[1;95m                  \u001b[0m│\u001b[1;96m                       \u001b[0m│\u001b[92m                      \u001b[0m│\u001b[33m \u001b[0m\u001b[33mextractive-summaries \u001b[0m\u001b[33m \u001b[0m│\u001b[37m \u001b[0m\u001b[37mof knowledge segments\u001b[0m\u001b[37m \u001b[0m│\n",
       "│\u001b[1;95m                  \u001b[0m│\u001b[1;96m                       \u001b[0m│\u001b[92m                      \u001b[0m│\u001b[33m                       \u001b[0m│\u001b[37m \u001b[0m\u001b[37mfor creating         \u001b[0m\u001b[37m \u001b[0m│\n",
       "│\u001b[1;95m                  \u001b[0m│\u001b[1;96m                       \u001b[0m│\u001b[92m                      \u001b[0m│\u001b[33m                       \u001b[0m│\u001b[37m \u001b[0m\u001b[37mextractive summary   \u001b[0m\u001b[37m \u001b[0m│\n",
       "│\u001b[1;95m                  \u001b[0m│\u001b[1;96m                       \u001b[0m│\u001b[92m                      \u001b[0m│\u001b[33m                       \u001b[0m│\u001b[37m \u001b[0m\u001b[37mand then annotated   \u001b[0m\u001b[37m \u001b[0m│\n",
       "│\u001b[1;95m                  \u001b[0m│\u001b[1;96m                       \u001b[0m│\u001b[92m                      \u001b[0m│\u001b[33m                       \u001b[0m│\u001b[37m \u001b[0m\u001b[37mwith context,        \u001b[0m\u001b[37m \u001b[0m│\n",
       "│\u001b[1;95m                  \u001b[0m│\u001b[1;96m                       \u001b[0m│\u001b[92m                      \u001b[0m│\u001b[33m                       \u001b[0m│\u001b[37m \u001b[0m\u001b[37mrelationship and     \u001b[0m\u001b[37m \u001b[0m│\n",
       "│\u001b[1;95m                  \u001b[0m│\u001b[1;96m                       \u001b[0m│\u001b[92m                      \u001b[0m│\u001b[33m                       \u001b[0m│\u001b[37m \u001b[0m\u001b[37mrelevance. This is   \u001b[0m\u001b[37m \u001b[0m│\n",
       "│\u001b[1;95m                  \u001b[0m│\u001b[1;96m                       \u001b[0m│\u001b[92m                      \u001b[0m│\u001b[33m                       \u001b[0m│\u001b[37m \u001b[0m\u001b[37mthen converted into  \u001b[0m\u001b[37m \u001b[0m│\n",
       "│\u001b[1;95m                  \u001b[0m│\u001b[1;96m                       \u001b[0m│\u001b[92m                      \u001b[0m│\u001b[33m                       \u001b[0m│\u001b[37m \u001b[0m\u001b[37mQuestion-Answer      \u001b[0m\u001b[37m \u001b[0m│\n",
       "│\u001b[1;95m                  \u001b[0m│\u001b[1;96m                       \u001b[0m│\u001b[92m                      \u001b[0m│\u001b[33m                       \u001b[0m│\u001b[37m \u001b[0m\u001b[37mpairs.               \u001b[0m\u001b[37m \u001b[0m│\n",
       "│\u001b[1;95m \u001b[0m\u001b[1;95mgreen-clay-812  \u001b[0m\u001b[1;95m \u001b[0m│\u001b[1;96m \u001b[0m\u001b[1;96mStructured Text      \u001b[0m\u001b[1;96m \u001b[0m│\u001b[92m \u001b[0m\u001b[92mSDG Hub Contributors\u001b[0m\u001b[92m \u001b[0m│\u001b[33m \u001b[0m\u001b[33mtext-analysis,       \u001b[0m\u001b[33m \u001b[0m│\u001b[37m \u001b[0m\u001b[37mMulti-step pipeline  \u001b[0m\u001b[37m \u001b[0m│\n",
       "│\u001b[1;95m                  \u001b[0m│\u001b[1;96m \u001b[0m\u001b[1;96mInsights Extraction  \u001b[0m\u001b[1;96m \u001b[0m│\u001b[92m                      \u001b[0m│\u001b[33m \u001b[0m\u001b[33msummarization, nlp,  \u001b[0m\u001b[33m \u001b[0m│\u001b[37m \u001b[0m\u001b[37mfor extracting       \u001b[0m\u001b[37m \u001b[0m│\n",
       "│\u001b[1;95m                  \u001b[0m│\u001b[1;96m \u001b[0m\u001b[1;96mFlow                 \u001b[0m\u001b[1;96m \u001b[0m│\u001b[92m                      \u001b[0m│\u001b[33m \u001b[0m\u001b[33mstructured-output,   \u001b[0m\u001b[33m \u001b[0m│\u001b[37m \u001b[0m\u001b[37mstructured insights  \u001b[0m\u001b[37m \u001b[0m│\n",
       "│\u001b[1;95m                  \u001b[0m│\u001b[1;96m                       \u001b[0m│\u001b[92m                      \u001b[0m│\u001b[33m \u001b[0m\u001b[33minsights,            \u001b[0m\u001b[33m \u001b[0m│\u001b[37m \u001b[0m\u001b[37mfrom text including  \u001b[0m\u001b[37m \u001b[0m│\n",
       "│\u001b[1;95m                  \u001b[0m│\u001b[1;96m                       \u001b[0m│\u001b[92m                      \u001b[0m│\u001b[33m \u001b[0m\u001b[33msentiment-analysis,  \u001b[0m\u001b[33m \u001b[0m│\u001b[37m \u001b[0m\u001b[37msummary, keywords,   \u001b[0m\u001b[37m \u001b[0m│\n",
       "│\u001b[1;95m                  \u001b[0m│\u001b[1;96m                       \u001b[0m│\u001b[92m                      \u001b[0m│\u001b[33m \u001b[0m\u001b[33mentity-extraction,   \u001b[0m\u001b[33m \u001b[0m│\u001b[37m \u001b[0m\u001b[37mentities, and        \u001b[0m\u001b[37m \u001b[0m│\n",
       "│\u001b[1;95m                  \u001b[0m│\u001b[1;96m                       \u001b[0m│\u001b[92m                      \u001b[0m│\u001b[33m \u001b[0m\u001b[33mkeyword-extraction   \u001b[0m\u001b[33m \u001b[0m│\u001b[37m \u001b[0m\u001b[37msentiment analysis   \u001b[0m\u001b[37m \u001b[0m│\n",
       "│\u001b[1;95m                  \u001b[0m│\u001b[1;96m                       \u001b[0m│\u001b[92m                      \u001b[0m│\u001b[33m                       \u001b[0m│\u001b[37m \u001b[0m\u001b[37mcombined into a JSON \u001b[0m\u001b[37m \u001b[0m│\n",
       "│\u001b[1;95m                  \u001b[0m│\u001b[1;96m                       \u001b[0m│\u001b[92m                      \u001b[0m│\u001b[33m                       \u001b[0m│\u001b[37m \u001b[0m\u001b[37moutput               \u001b[0m\u001b[37m \u001b[0m│\n",
       "│\u001b[1;95m \u001b[0m\u001b[1;95mheavy-heart-77  \u001b[0m\u001b[1;95m \u001b[0m│\u001b[1;96m \u001b[0m\u001b[1;96mKey Facts Knowledge  \u001b[0m\u001b[1;96m \u001b[0m│\u001b[92m \u001b[0m\u001b[92mSDG Hub Contributors\u001b[0m\u001b[92m \u001b[0m│\u001b[33m \u001b[0m\u001b[33mknowledge-tuning,    \u001b[0m\u001b[33m \u001b[0m│\u001b[37m \u001b[0m\u001b[37mGenerates training   \u001b[0m\u001b[37m \u001b[0m│\n",
       "│\u001b[1;95m                  \u001b[0m│\u001b[1;96m \u001b[0m\u001b[1;96mTuning Dataset       \u001b[0m\u001b[1;96m \u001b[0m│\u001b[92m                      \u001b[0m│\u001b[33m \u001b[0m\u001b[33mdocument-internaliza…\u001b[0m\u001b[33m \u001b[0m│\u001b[37m \u001b[0m\u001b[37mdatasets for         \u001b[0m\u001b[37m \u001b[0m│\n",
       "│\u001b[1;95m                  \u001b[0m│\u001b[1;96m \u001b[0m\u001b[1;96mGeneration Flow      \u001b[0m\u001b[1;96m \u001b[0m│\u001b[92m                      \u001b[0m│\u001b[33m \u001b[0m\u001b[33mquestion-generation, \u001b[0m\u001b[33m \u001b[0m│\u001b[37m \u001b[0m\u001b[37mknowledge tuning by  \u001b[0m\u001b[37m \u001b[0m│\n",
       "│\u001b[1;95m                  \u001b[0m│\u001b[1;96m                       \u001b[0m│\u001b[92m                      \u001b[0m│\u001b[33m \u001b[0m\u001b[33mknowledge-extraction,\u001b[0m\u001b[33m \u001b[0m│\u001b[37m \u001b[0m\u001b[37mcreating diverse     \u001b[0m\u001b[37m \u001b[0m│\n",
       "│\u001b[1;95m                  \u001b[0m│\u001b[1;96m                       \u001b[0m│\u001b[92m                      \u001b[0m│\u001b[33m \u001b[0m\u001b[33mqa-pairs,            \u001b[0m\u001b[33m \u001b[0m│\u001b[37m \u001b[0m\u001b[37mquestion-answer pairs\u001b[0m\u001b[37m \u001b[0m│\n",
       "│\u001b[1;95m                  \u001b[0m│\u001b[1;96m                       \u001b[0m│\u001b[92m                      \u001b[0m│\u001b[33m \u001b[0m\u001b[33mdocument-processing, \u001b[0m\u001b[33m \u001b[0m│\u001b[37m \u001b[0m\u001b[37mfrom documents. Uses \u001b[0m\u001b[37m \u001b[0m│\n",
       "│\u001b[1;95m                  \u001b[0m│\u001b[1;96m                       \u001b[0m│\u001b[92m                      \u001b[0m│\u001b[33m \u001b[0m\u001b[33meducational,         \u001b[0m\u001b[33m \u001b[0m│\u001b[37m \u001b[0m\u001b[37mthree summarization  \u001b[0m\u001b[37m \u001b[0m│\n",
       "│\u001b[1;95m                  \u001b[0m│\u001b[1;96m                       \u001b[0m│\u001b[92m                      \u001b[0m│\u001b[33m \u001b[0m\u001b[33mmulti-strategy-synth…\u001b[0m\u001b[33m \u001b[0m│\u001b[37m \u001b[0m\u001b[37mstrategies (detailed \u001b[0m\u001b[37m \u001b[0m│\n",
       "│\u001b[1;95m                  \u001b[0m│\u001b[1;96m                       \u001b[0m│\u001b[92m                      \u001b[0m│\u001b[33m \u001b[0m\u001b[33mdetailed-summaries,  \u001b[0m\u001b[33m \u001b[0m│\u001b[37m \u001b[0m\u001b[37msummaries, extractive\u001b[0m\u001b[37m \u001b[0m│\n",
       "│\u001b[1;95m                  \u001b[0m│\u001b[1;96m                       \u001b[0m│\u001b[92m                      \u001b[0m│\u001b[33m \u001b[0m\u001b[33mextractive-summaries,\u001b[0m\u001b[33m \u001b[0m│\u001b[37m \u001b[0m\u001b[37msummaries, key facts)\u001b[0m\u001b[37m \u001b[0m│\n",
       "│\u001b[1;95m                  \u001b[0m│\u001b[1;96m                       \u001b[0m│\u001b[92m                      \u001b[0m│\u001b[33m \u001b[0m\u001b[33mkey-facts            \u001b[0m\u001b[33m \u001b[0m│\u001b[37m \u001b[0m\u001b[37mto help LLMs         \u001b[0m\u001b[37m \u001b[0m│\n",
       "│\u001b[1;95m                  \u001b[0m│\u001b[1;96m                       \u001b[0m│\u001b[92m                      \u001b[0m│\u001b[33m                       \u001b[0m│\u001b[37m \u001b[0m\u001b[37minternalize document \u001b[0m\u001b[37m \u001b[0m│\n",
       "│\u001b[1;95m                  \u001b[0m│\u001b[1;96m                       \u001b[0m│\u001b[92m                      \u001b[0m│\u001b[33m                       \u001b[0m│\u001b[37m \u001b[0m\u001b[37mknowledge, enabling  \u001b[0m\u001b[37m \u001b[0m│\n",
       "│\u001b[1;95m                  \u001b[0m│\u001b[1;96m                       \u001b[0m│\u001b[92m                      \u001b[0m│\u001b[33m                       \u001b[0m│\u001b[37m \u001b[0m\u001b[37mthem to answer       \u001b[0m\u001b[37m \u001b[0m│\n",
       "│\u001b[1;95m                  \u001b[0m│\u001b[1;96m                       \u001b[0m│\u001b[92m                      \u001b[0m│\u001b[33m                       \u001b[0m│\u001b[37m \u001b[0m\u001b[37mqueries without      \u001b[0m\u001b[37m \u001b[0m│\n",
       "│\u001b[1;95m                  \u001b[0m│\u001b[1;96m                       \u001b[0m│\u001b[92m                      \u001b[0m│\u001b[33m                       \u001b[0m│\u001b[37m \u001b[0m\u001b[37mrequiring the        \u001b[0m\u001b[37m \u001b[0m│\n",
       "│\u001b[1;95m                  \u001b[0m│\u001b[1;96m                       \u001b[0m│\u001b[92m                      \u001b[0m│\u001b[33m                       \u001b[0m│\u001b[37m \u001b[0m\u001b[37moriginal document in \u001b[0m\u001b[37m \u001b[0m│\n",
       "│\u001b[1;95m                  \u001b[0m│\u001b[1;96m                       \u001b[0m│\u001b[92m                      \u001b[0m│\u001b[33m                       \u001b[0m│\u001b[37m \u001b[0m\u001b[37mcontext.             \u001b[0m\u001b[37m \u001b[0m│\n",
       "│\u001b[1;95m \u001b[0m\u001b[1;95mmild-thunder-748\u001b[0m\u001b[1;95m \u001b[0m│\u001b[1;96m \u001b[0m\u001b[1;96mDetailed Summary     \u001b[0m\u001b[1;96m \u001b[0m│\u001b[92m \u001b[0m\u001b[92mSDG Hub Contributors\u001b[0m\u001b[92m \u001b[0m│\u001b[33m \u001b[0m\u001b[33mknowledge-tuning,    \u001b[0m\u001b[33m \u001b[0m│\u001b[37m \u001b[0m\u001b[37mGenerates high level \u001b[0m\u001b[37m \u001b[0m│\n",
       "│\u001b[1;95m                  \u001b[0m│\u001b[1;96m \u001b[0m\u001b[1;96mKnowledge Tuning     \u001b[0m\u001b[1;96m \u001b[0m│\u001b[92m                      \u001b[0m│\u001b[33m \u001b[0m\u001b[33mdocument-internaliza…\u001b[0m\u001b[33m \u001b[0m│\u001b[37m \u001b[0m\u001b[37msummaries of the     \u001b[0m\u001b[37m \u001b[0m│\n",
       "│\u001b[1;95m                  \u001b[0m│\u001b[1;96m \u001b[0m\u001b[1;96mDataset Generation   \u001b[0m\u001b[1;96m \u001b[0m│\u001b[92m                      \u001b[0m│\u001b[33m \u001b[0m\u001b[33mquestion-generation, \u001b[0m\u001b[33m \u001b[0m│\u001b[37m \u001b[0m\u001b[37mdocument focusing on \u001b[0m\u001b[37m \u001b[0m│\n",
       "│\u001b[1;95m                  \u001b[0m│\u001b[1;96m \u001b[0m\u001b[1;96mFlow                 \u001b[0m\u001b[1;96m \u001b[0m│\u001b[92m                      \u001b[0m│\u001b[33m \u001b[0m\u001b[33mqa-pairs,            \u001b[0m\u001b[33m \u001b[0m│\u001b[37m \u001b[0m\u001b[37moverarching themes,  \u001b[0m\u001b[37m \u001b[0m│\n",
       "│\u001b[1;95m                  \u001b[0m│\u001b[1;96m                       \u001b[0m│\u001b[92m                      \u001b[0m│\u001b[33m \u001b[0m\u001b[33mdetailed-summaries   \u001b[0m\u001b[33m \u001b[0m│\u001b[37m \u001b[0m\u001b[37mmain arguments, and  \u001b[0m\u001b[37m \u001b[0m│\n",
       "│\u001b[1;95m                  \u001b[0m│\u001b[1;96m                       \u001b[0m│\u001b[92m                      \u001b[0m│\u001b[33m                       \u001b[0m│\u001b[37m \u001b[0m\u001b[37mcore principles. This\u001b[0m\u001b[37m \u001b[0m│\n",
       "│\u001b[1;95m                  \u001b[0m│\u001b[1;96m                       \u001b[0m│\u001b[92m                      \u001b[0m│\u001b[33m                       \u001b[0m│\u001b[37m \u001b[0m\u001b[37mis then converted    \u001b[0m\u001b[37m \u001b[0m│\n",
       "│\u001b[1;95m                  \u001b[0m│\u001b[1;96m                       \u001b[0m│\u001b[92m                      \u001b[0m│\u001b[33m                       \u001b[0m│\u001b[37m \u001b[0m\u001b[37minto Question-Answer \u001b[0m\u001b[37m \u001b[0m│\n",
       "│\u001b[1;95m                  \u001b[0m│\u001b[1;96m                       \u001b[0m│\u001b[92m                      \u001b[0m│\u001b[33m                       \u001b[0m│\u001b[37m \u001b[0m\u001b[37mpairs.               \u001b[0m\u001b[37m \u001b[0m│\n",
       "│\u001b[1;95m \u001b[0m\u001b[1;95msmall-rock-799  \u001b[0m\u001b[1;95m \u001b[0m│\u001b[1;96m \u001b[0m\u001b[1;96mAdvanced Document    \u001b[0m\u001b[1;96m \u001b[0m│\u001b[92m \u001b[0m\u001b[92mSDG Hub Contributors\u001b[0m\u001b[92m \u001b[0m│\u001b[33m \u001b[0m\u001b[33mquestion-generation, \u001b[0m\u001b[33m \u001b[0m│\u001b[37m \u001b[0m\u001b[37mA comprehensive flow \u001b[0m\u001b[37m \u001b[0m│\n",
       "│\u001b[1;95m                  \u001b[0m│\u001b[1;96m \u001b[0m\u001b[1;96mGrounded             \u001b[0m\u001b[1;96m \u001b[0m│\u001b[92m                      \u001b[0m│\u001b[33m \u001b[0m\u001b[33mknowledge-extraction,\u001b[0m\u001b[33m \u001b[0m│\u001b[37m \u001b[0m\u001b[37mthat generates       \u001b[0m\u001b[37m \u001b[0m│\n",
       "│\u001b[1;95m                  \u001b[0m│\u001b[1;96m \u001b[0m\u001b[1;96mQuestion-Answer      \u001b[0m\u001b[1;96m \u001b[0m│\u001b[92m                      \u001b[0m│\u001b[33m \u001b[0m\u001b[33mqa-pairs,            \u001b[0m\u001b[33m \u001b[0m│\u001b[37m \u001b[0m\u001b[37mhigh-quality         \u001b[0m\u001b[37m \u001b[0m│\n",
       "│\u001b[1;95m                  \u001b[0m│\u001b[1;96m \u001b[0m\u001b[1;96mGeneration Flow for  \u001b[0m\u001b[1;96m \u001b[0m│\u001b[92m                      \u001b[0m│\u001b[33m \u001b[0m\u001b[33mdocument-processing, \u001b[0m\u001b[33m \u001b[0m│\u001b[37m \u001b[0m\u001b[37mquestion-answer pairs\u001b[0m\u001b[37m \u001b[0m│\n",
       "│\u001b[1;95m                  \u001b[0m│\u001b[1;96m \u001b[0m\u001b[1;96mKnowledge Tuning     \u001b[0m\u001b[1;96m \u001b[0m│\u001b[92m                      \u001b[0m│\u001b[33m \u001b[0m\u001b[33meducational          \u001b[0m\u001b[33m \u001b[0m│\u001b[37m \u001b[0m\u001b[37mfrom input documents \u001b[0m\u001b[37m \u001b[0m│\n",
       "│\u001b[1;95m                  \u001b[0m│\u001b[1;96m                       \u001b[0m│\u001b[92m                      \u001b[0m│\u001b[33m                       \u001b[0m│\u001b[37m \u001b[0m\u001b[37musing multiple LLM   \u001b[0m\u001b[37m \u001b[0m│\n",
       "│\u001b[1;95m                  \u001b[0m│\u001b[1;96m                       \u001b[0m│\u001b[92m                      \u001b[0m│\u001b[33m                       \u001b[0m│\u001b[37m \u001b[0m\u001b[37mblocks for question  \u001b[0m\u001b[37m \u001b[0m│\n",
       "│\u001b[1;95m                  \u001b[0m│\u001b[1;96m                       \u001b[0m│\u001b[92m                      \u001b[0m│\u001b[33m                       \u001b[0m│\u001b[37m \u001b[0m\u001b[37mgeneration, answer   \u001b[0m\u001b[37m \u001b[0m│\n",
       "│\u001b[1;95m                  \u001b[0m│\u001b[1;96m                       \u001b[0m│\u001b[92m                      \u001b[0m│\u001b[33m                       \u001b[0m│\u001b[37m \u001b[0m\u001b[37msynthesis, and       \u001b[0m\u001b[37m \u001b[0m│\n",
       "│\u001b[1;95m                  \u001b[0m│\u001b[1;96m                       \u001b[0m│\u001b[92m                      \u001b[0m│\u001b[33m                       \u001b[0m│\u001b[37m \u001b[0m\u001b[37mquality evaluation.  \u001b[0m\u001b[37m \u001b[0m│\n",
       "└──────────────────┴───────────────────────┴──────────────────────┴───────────────────────┴───────────────────────┘\n"
      ]
     },
     "metadata": {},
     "output_type": "display_data"
    }
   ],
   "source": [
    "# Auto-discover all available flows\n",
    "FlowRegistry.discover_flows()\n",
    "\n",
    "# List all flows\n",
    "flows = FlowRegistry.list_flows()"
   ]
  },
  {
   "cell_type": "code",
   "execution_count": 4,
   "metadata": {},
   "outputs": [
    {
     "name": "stdout",
     "output_type": "stream",
     "text": [
      "Text analysis flows: [{'id': 'green-clay-812', 'name': 'Structured Text Insights Extraction Flow'}]\n"
     ]
    },
    {
     "data": {
      "text/html": [
       "<pre style=\"white-space:pre;overflow-x:auto;line-height:normal;font-family:Menlo,'DejaVu Sans Mono',consolas,'Courier New',monospace\"><span style=\"color: #7fbfbf; text-decoration-color: #7fbfbf\">[15:18:35] </span><span style=\"color: #000080; text-decoration-color: #000080\">INFO    </span> Loading flow from:                                                                  <a href=\"file:///Users/shiv/workspace/sdg_hub/src/sdg_hub/core/flow/base.py\" target=\"_blank\"><span style=\"color: #7f7f7f; text-decoration-color: #7f7f7f\">base.py</span></a><span style=\"color: #7f7f7f; text-decoration-color: #7f7f7f\">:</span><a href=\"file:///Users/shiv/workspace/sdg_hub/src/sdg_hub/core/flow/base.py#172\" target=\"_blank\"><span style=\"color: #7f7f7f; text-decoration-color: #7f7f7f\">172</span></a>\n",
       "<span style=\"color: #7fbfbf; text-decoration-color: #7fbfbf\">           </span>         <span style=\"color: #800080; text-decoration-color: #800080\">/Users/shiv/workspace/sdg_hub/src/sdg_hub/flows/text_analysis/structured_insights/</span><span style=\"color: #ff00ff; text-decoration-color: #ff00ff\">f</span> <span style=\"color: #7f7f7f; text-decoration-color: #7f7f7f\">           </span>\n",
       "<span style=\"color: #7fbfbf; text-decoration-color: #7fbfbf\">           </span>         <span style=\"color: #ff00ff; text-decoration-color: #ff00ff\">low.yaml</span>                                                                            <span style=\"color: #7f7f7f; text-decoration-color: #7f7f7f\">           </span>\n",
       "</pre>\n"
      ],
      "text/plain": [
       "\u001b[2;36m[15:18:35]\u001b[0m\u001b[2;36m \u001b[0m\u001b[34mINFO    \u001b[0m Loading flow from:                                                                  \u001b]8;id=257475;file:///Users/shiv/workspace/sdg_hub/src/sdg_hub/core/flow/base.py\u001b\\\u001b[2mbase.py\u001b[0m\u001b]8;;\u001b\\\u001b[2m:\u001b[0m\u001b]8;id=582566;file:///Users/shiv/workspace/sdg_hub/src/sdg_hub/core/flow/base.py#172\u001b\\\u001b[2m172\u001b[0m\u001b]8;;\u001b\\\n",
       "\u001b[2;36m           \u001b[0m         \u001b[35m/Users/shiv/workspace/sdg_hub/src/sdg_hub/flows/text_analysis/structured_insights/\u001b[0m\u001b[95mf\u001b[0m \u001b[2m           \u001b[0m\n",
       "\u001b[2;36m           \u001b[0m         \u001b[95mlow.yaml\u001b[0m                                                                            \u001b[2m           \u001b[0m\n"
      ]
     },
     "metadata": {},
     "output_type": "display_data"
    },
    {
     "name": "stdout",
     "output_type": "stream",
     "text": [
      "\n",
      "✅ Loaded flow: green-clay-812\n"
     ]
    },
    {
     "data": {
      "text/html": [
       "<pre style=\"white-space:pre;overflow-x:auto;line-height:normal;font-family:Menlo,'DejaVu Sans Mono',consolas,'Courier New',monospace\">\n",
       "</pre>\n"
      ],
      "text/plain": [
       "\n"
      ]
     },
     "metadata": {},
     "output_type": "display_data"
    },
    {
     "data": {
      "text/html": [
       "<pre style=\"white-space:pre;overflow-x:auto;line-height:normal;font-family:Menlo,'DejaVu Sans Mono',consolas,'Courier New',monospace\"><span style=\"color: #0000ff; text-decoration-color: #0000ff\">╭─────────────────────────────────────────────── </span><span style=\"color: #ffffff; text-decoration-color: #ffffff; font-weight: bold\">Flow Information</span><span style=\"color: #0000ff; text-decoration-color: #0000ff\"> ────────────────────────────────────────────────╮</span>\n",
       "<span style=\"color: #0000ff; text-decoration-color: #0000ff\">│</span> <span style=\"color: #0000ff; text-decoration-color: #0000ff; font-weight: bold\">Structured Text Insights Extraction Flow</span> Flow                                                                   <span style=\"color: #0000ff; text-decoration-color: #0000ff\">│</span>\n",
       "<span style=\"color: #0000ff; text-decoration-color: #0000ff\">│</span> ├── <span style=\"color: #00ff00; text-decoration-color: #00ff00; font-weight: bold\">Metadata</span>                                                                                                    <span style=\"color: #0000ff; text-decoration-color: #0000ff\">│</span>\n",
       "<span style=\"color: #0000ff; text-decoration-color: #0000ff\">│</span> │   ├── Version: <span style=\"color: #00ffff; text-decoration-color: #00ffff\">1.0.0</span>                                                                                          <span style=\"color: #0000ff; text-decoration-color: #0000ff\">│</span>\n",
       "<span style=\"color: #0000ff; text-decoration-color: #0000ff\">│</span> │   ├── Author: <span style=\"color: #00ffff; text-decoration-color: #00ffff\">SDG Hub Contributors</span>                                                                            <span style=\"color: #0000ff; text-decoration-color: #0000ff\">│</span>\n",
       "<span style=\"color: #0000ff; text-decoration-color: #0000ff\">│</span> │   └── Description: <span style=\"color: #c0c0c0; text-decoration-color: #c0c0c0\">Multi-step pipeline for extracting structured insights from text including summary, </span>       <span style=\"color: #0000ff; text-decoration-color: #0000ff\">│</span>\n",
       "<span style=\"color: #0000ff; text-decoration-color: #0000ff\">│</span> │       <span style=\"color: #c0c0c0; text-decoration-color: #c0c0c0\">keywords, entities, and sentiment analysis combined into a JSON output</span>                                  <span style=\"color: #0000ff; text-decoration-color: #0000ff\">│</span>\n",
       "<span style=\"color: #0000ff; text-decoration-color: #0000ff\">│</span> └── <span style=\"color: #ff00ff; text-decoration-color: #ff00ff; font-weight: bold\">Blocks</span> (13 total)                                                                                           <span style=\"color: #0000ff; text-decoration-color: #0000ff\">│</span>\n",
       "<span style=\"color: #0000ff; text-decoration-color: #0000ff\">╰─────────────────────────────────────────────────────────────────────────────────────────────────────────────────╯</span>\n",
       "</pre>\n"
      ],
      "text/plain": [
       "\u001b[94m╭─\u001b[0m\u001b[94m──────────────────────────────────────────────\u001b[0m\u001b[94m \u001b[0m\u001b[1;97mFlow Information\u001b[0m\u001b[94m \u001b[0m\u001b[94m───────────────────────────────────────────────\u001b[0m\u001b[94m─╮\u001b[0m\n",
       "\u001b[94m│\u001b[0m \u001b[1;94mStructured Text Insights Extraction Flow\u001b[0m Flow                                                                   \u001b[94m│\u001b[0m\n",
       "\u001b[94m│\u001b[0m ├── \u001b[1;92mMetadata\u001b[0m                                                                                                    \u001b[94m│\u001b[0m\n",
       "\u001b[94m│\u001b[0m │   ├── Version: \u001b[96m1.0.0\u001b[0m                                                                                          \u001b[94m│\u001b[0m\n",
       "\u001b[94m│\u001b[0m │   ├── Author: \u001b[96mSDG Hub Contributors\u001b[0m                                                                            \u001b[94m│\u001b[0m\n",
       "\u001b[94m│\u001b[0m │   └── Description: \u001b[37mMulti-step pipeline for extracting structured insights from text including summary, \u001b[0m       \u001b[94m│\u001b[0m\n",
       "\u001b[94m│\u001b[0m │       \u001b[37mkeywords, entities, and sentiment analysis combined into a JSON output\u001b[0m                                  \u001b[94m│\u001b[0m\n",
       "\u001b[94m│\u001b[0m └── \u001b[1;95mBlocks\u001b[0m (13 total)                                                                                           \u001b[94m│\u001b[0m\n",
       "\u001b[94m╰─────────────────────────────────────────────────────────────────────────────────────────────────────────────────╯\u001b[0m\n"
      ]
     },
     "metadata": {},
     "output_type": "display_data"
    },
    {
     "data": {
      "text/html": [
       "<pre style=\"white-space:pre;overflow-x:auto;line-height:normal;font-family:Menlo,'DejaVu Sans Mono',consolas,'Courier New',monospace\">\n",
       "</pre>\n"
      ],
      "text/plain": [
       "\n"
      ]
     },
     "metadata": {},
     "output_type": "display_data"
    },
    {
     "data": {
      "text/html": [
       "<pre style=\"white-space:pre;overflow-x:auto;line-height:normal;font-family:Menlo,'DejaVu Sans Mono',consolas,'Courier New',monospace\"><span style=\"color: #ff00ff; text-decoration-color: #ff00ff\">╭───────────────────────────────────────────────── </span><span style=\"color: #ffffff; text-decoration-color: #ffffff; font-weight: bold\">Block Details</span><span style=\"color: #ff00ff; text-decoration-color: #ff00ff\"> ─────────────────────────────────────────────────╮</span>\n",
       "<span style=\"color: #ff00ff; text-decoration-color: #ff00ff\">│</span> ┏━━━━━━━━━━━━━━━━━━━━━━━━━━━━┳━━━━━━━━━━━━━━━━━━━━┳━━━━━━━━━━━━━━━━━━━━━━━━━━━━━━━━━┳━━━━━━━━━━━━━━━━━━━━━━━━━┓ <span style=\"color: #ff00ff; text-decoration-color: #ff00ff\">│</span>\n",
       "<span style=\"color: #ff00ff; text-decoration-color: #ff00ff\">│</span> ┃<span style=\"color: #ffffff; text-decoration-color: #ffffff; font-weight: bold\"> Block Name                 </span>┃<span style=\"color: #ffffff; text-decoration-color: #ffffff; font-weight: bold\"> Type               </span>┃<span style=\"color: #ffffff; text-decoration-color: #ffffff; font-weight: bold\"> Input Cols                      </span>┃<span style=\"color: #ffffff; text-decoration-color: #ffffff; font-weight: bold\"> Output Cols             </span>┃ <span style=\"color: #ff00ff; text-decoration-color: #ff00ff\">│</span>\n",
       "<span style=\"color: #ff00ff; text-decoration-color: #ff00ff\">│</span> ┡━━━━━━━━━━━━━━━━━━━━━━━━━━━━╇━━━━━━━━━━━━━━━━━━━━╇━━━━━━━━━━━━━━━━━━━━━━━━━━━━━━━━━╇━━━━━━━━━━━━━━━━━━━━━━━━━┩ <span style=\"color: #ff00ff; text-decoration-color: #ff00ff\">│</span>\n",
       "<span style=\"color: #ff00ff; text-decoration-color: #ff00ff\">│</span> │<span style=\"color: #00ffff; text-decoration-color: #00ffff\"> build_summary_prompt       </span>│<span style=\"color: #00ff00; text-decoration-color: #00ff00\"> PromptBuilderBlock </span>│<span style=\"color: #ffff00; text-decoration-color: #ffff00\"> ['text']                        </span>│<span style=\"color: #ff0000; text-decoration-color: #ff0000\"> ['summary_prompt']      </span>│ <span style=\"color: #ff00ff; text-decoration-color: #ff00ff\">│</span>\n",
       "<span style=\"color: #ff00ff; text-decoration-color: #ff00ff\">│</span> │<span style=\"color: #00ffff; text-decoration-color: #00ffff\"> generate_summary           </span>│<span style=\"color: #00ff00; text-decoration-color: #00ff00\"> LLMChatBlock       </span>│<span style=\"color: #ffff00; text-decoration-color: #ffff00\"> ['summary_prompt']              </span>│<span style=\"color: #ff0000; text-decoration-color: #ff0000\"> ['raw_summary']         </span>│ <span style=\"color: #ff00ff; text-decoration-color: #ff00ff\">│</span>\n",
       "<span style=\"color: #ff00ff; text-decoration-color: #ff00ff\">│</span> │<span style=\"color: #00ffff; text-decoration-color: #00ffff\"> parse_summary              </span>│<span style=\"color: #00ff00; text-decoration-color: #00ff00\"> TextParserBlock    </span>│<span style=\"color: #ffff00; text-decoration-color: #ffff00\"> ['raw_summary']                 </span>│<span style=\"color: #ff0000; text-decoration-color: #ff0000\"> ['summary']             </span>│ <span style=\"color: #ff00ff; text-decoration-color: #ff00ff\">│</span>\n",
       "<span style=\"color: #ff00ff; text-decoration-color: #ff00ff\">│</span> │<span style=\"color: #00ffff; text-decoration-color: #00ffff\"> build_keywords_prompt      </span>│<span style=\"color: #00ff00; text-decoration-color: #00ff00\"> PromptBuilderBlock </span>│<span style=\"color: #ffff00; text-decoration-color: #ffff00\"> ['text']                        </span>│<span style=\"color: #ff0000; text-decoration-color: #ff0000\"> ['keywords_prompt']     </span>│ <span style=\"color: #ff00ff; text-decoration-color: #ff00ff\">│</span>\n",
       "<span style=\"color: #ff00ff; text-decoration-color: #ff00ff\">│</span> │<span style=\"color: #00ffff; text-decoration-color: #00ffff\"> generate_keywords          </span>│<span style=\"color: #00ff00; text-decoration-color: #00ff00\"> LLMChatBlock       </span>│<span style=\"color: #ffff00; text-decoration-color: #ffff00\"> ['keywords_prompt']             </span>│<span style=\"color: #ff0000; text-decoration-color: #ff0000\"> ['raw_keywords']        </span>│ <span style=\"color: #ff00ff; text-decoration-color: #ff00ff\">│</span>\n",
       "<span style=\"color: #ff00ff; text-decoration-color: #ff00ff\">│</span> │<span style=\"color: #00ffff; text-decoration-color: #00ffff\"> parse_keywords             </span>│<span style=\"color: #00ff00; text-decoration-color: #00ff00\"> TextParserBlock    </span>│<span style=\"color: #ffff00; text-decoration-color: #ffff00\"> ['raw_keywords']                </span>│<span style=\"color: #ff0000; text-decoration-color: #ff0000\"> ['keywords']            </span>│ <span style=\"color: #ff00ff; text-decoration-color: #ff00ff\">│</span>\n",
       "<span style=\"color: #ff00ff; text-decoration-color: #ff00ff\">│</span> │<span style=\"color: #00ffff; text-decoration-color: #00ffff\"> build_entities_prompt      </span>│<span style=\"color: #00ff00; text-decoration-color: #00ff00\"> PromptBuilderBlock </span>│<span style=\"color: #ffff00; text-decoration-color: #ffff00\"> ['text']                        </span>│<span style=\"color: #ff0000; text-decoration-color: #ff0000\"> ['entities_prompt']     </span>│ <span style=\"color: #ff00ff; text-decoration-color: #ff00ff\">│</span>\n",
       "<span style=\"color: #ff00ff; text-decoration-color: #ff00ff\">│</span> │<span style=\"color: #00ffff; text-decoration-color: #00ffff\"> generate_entities          </span>│<span style=\"color: #00ff00; text-decoration-color: #00ff00\"> LLMChatBlock       </span>│<span style=\"color: #ffff00; text-decoration-color: #ffff00\"> ['entities_prompt']             </span>│<span style=\"color: #ff0000; text-decoration-color: #ff0000\"> ['raw_entities']        </span>│ <span style=\"color: #ff00ff; text-decoration-color: #ff00ff\">│</span>\n",
       "<span style=\"color: #ff00ff; text-decoration-color: #ff00ff\">│</span> │<span style=\"color: #00ffff; text-decoration-color: #00ffff\"> parse_entities             </span>│<span style=\"color: #00ff00; text-decoration-color: #00ff00\"> TextParserBlock    </span>│<span style=\"color: #ffff00; text-decoration-color: #ffff00\"> ['raw_entities']                </span>│<span style=\"color: #ff0000; text-decoration-color: #ff0000\"> ['entities']            </span>│ <span style=\"color: #ff00ff; text-decoration-color: #ff00ff\">│</span>\n",
       "<span style=\"color: #ff00ff; text-decoration-color: #ff00ff\">│</span> │<span style=\"color: #00ffff; text-decoration-color: #00ffff\"> build_sentiment_prompt     </span>│<span style=\"color: #00ff00; text-decoration-color: #00ff00\"> PromptBuilderBlock </span>│<span style=\"color: #ffff00; text-decoration-color: #ffff00\"> ['text']                        </span>│<span style=\"color: #ff0000; text-decoration-color: #ff0000\"> ['sentiment_prompt']    </span>│ <span style=\"color: #ff00ff; text-decoration-color: #ff00ff\">│</span>\n",
       "<span style=\"color: #ff00ff; text-decoration-color: #ff00ff\">│</span> │<span style=\"color: #00ffff; text-decoration-color: #00ffff\"> generate_sentiment         </span>│<span style=\"color: #00ff00; text-decoration-color: #00ff00\"> LLMChatBlock       </span>│<span style=\"color: #ffff00; text-decoration-color: #ffff00\"> ['sentiment_prompt']            </span>│<span style=\"color: #ff0000; text-decoration-color: #ff0000\"> ['raw_sentiment']       </span>│ <span style=\"color: #ff00ff; text-decoration-color: #ff00ff\">│</span>\n",
       "<span style=\"color: #ff00ff; text-decoration-color: #ff00ff\">│</span> │<span style=\"color: #00ffff; text-decoration-color: #00ffff\"> parse_sentiment            </span>│<span style=\"color: #00ff00; text-decoration-color: #00ff00\"> TextParserBlock    </span>│<span style=\"color: #ffff00; text-decoration-color: #ffff00\"> ['raw_sentiment']               </span>│<span style=\"color: #ff0000; text-decoration-color: #ff0000\"> ['sentiment']           </span>│ <span style=\"color: #ff00ff; text-decoration-color: #ff00ff\">│</span>\n",
       "<span style=\"color: #ff00ff; text-decoration-color: #ff00ff\">│</span> │<span style=\"color: #00ffff; text-decoration-color: #00ffff\"> create_structured_insights </span>│<span style=\"color: #00ff00; text-decoration-color: #00ff00\"> JSONStructureBlock </span>│<span style=\"color: #ffff00; text-decoration-color: #ffff00\"> ['summary', 'keywords',         </span>│<span style=\"color: #ff0000; text-decoration-color: #ff0000\"> ['structured_insights'] </span>│ <span style=\"color: #ff00ff; text-decoration-color: #ff00ff\">│</span>\n",
       "<span style=\"color: #ff00ff; text-decoration-color: #ff00ff\">│</span> │<span style=\"color: #00ffff; text-decoration-color: #00ffff\">                            </span>│<span style=\"color: #00ff00; text-decoration-color: #00ff00\">                    </span>│<span style=\"color: #ffff00; text-decoration-color: #ffff00\"> 'entities', 'sentiment']        </span>│<span style=\"color: #ff0000; text-decoration-color: #ff0000\">                         </span>│ <span style=\"color: #ff00ff; text-decoration-color: #ff00ff\">│</span>\n",
       "<span style=\"color: #ff00ff; text-decoration-color: #ff00ff\">│</span> └────────────────────────────┴────────────────────┴─────────────────────────────────┴─────────────────────────┘ <span style=\"color: #ff00ff; text-decoration-color: #ff00ff\">│</span>\n",
       "<span style=\"color: #ff00ff; text-decoration-color: #ff00ff\">╰─────────────────────────────────────────────────────────────────────────────────────────────────────────────────╯</span>\n",
       "</pre>\n"
      ],
      "text/plain": [
       "\u001b[95m╭─\u001b[0m\u001b[95m────────────────────────────────────────────────\u001b[0m\u001b[95m \u001b[0m\u001b[1;97mBlock Details\u001b[0m\u001b[95m \u001b[0m\u001b[95m────────────────────────────────────────────────\u001b[0m\u001b[95m─╮\u001b[0m\n",
       "\u001b[95m│\u001b[0m ┏━━━━━━━━━━━━━━━━━━━━━━━━━━━━┳━━━━━━━━━━━━━━━━━━━━┳━━━━━━━━━━━━━━━━━━━━━━━━━━━━━━━━━┳━━━━━━━━━━━━━━━━━━━━━━━━━┓ \u001b[95m│\u001b[0m\n",
       "\u001b[95m│\u001b[0m ┃\u001b[1;97m \u001b[0m\u001b[1;97mBlock Name                \u001b[0m\u001b[1;97m \u001b[0m┃\u001b[1;97m \u001b[0m\u001b[1;97mType              \u001b[0m\u001b[1;97m \u001b[0m┃\u001b[1;97m \u001b[0m\u001b[1;97mInput Cols                     \u001b[0m\u001b[1;97m \u001b[0m┃\u001b[1;97m \u001b[0m\u001b[1;97mOutput Cols            \u001b[0m\u001b[1;97m \u001b[0m┃ \u001b[95m│\u001b[0m\n",
       "\u001b[95m│\u001b[0m ┡━━━━━━━━━━━━━━━━━━━━━━━━━━━━╇━━━━━━━━━━━━━━━━━━━━╇━━━━━━━━━━━━━━━━━━━━━━━━━━━━━━━━━╇━━━━━━━━━━━━━━━━━━━━━━━━━┩ \u001b[95m│\u001b[0m\n",
       "\u001b[95m│\u001b[0m │\u001b[96m \u001b[0m\u001b[96mbuild_summary_prompt      \u001b[0m\u001b[96m \u001b[0m│\u001b[92m \u001b[0m\u001b[92mPromptBuilderBlock\u001b[0m\u001b[92m \u001b[0m│\u001b[93m \u001b[0m\u001b[93m['text']                       \u001b[0m\u001b[93m \u001b[0m│\u001b[91m \u001b[0m\u001b[91m['summary_prompt']     \u001b[0m\u001b[91m \u001b[0m│ \u001b[95m│\u001b[0m\n",
       "\u001b[95m│\u001b[0m │\u001b[96m \u001b[0m\u001b[96mgenerate_summary          \u001b[0m\u001b[96m \u001b[0m│\u001b[92m \u001b[0m\u001b[92mLLMChatBlock      \u001b[0m\u001b[92m \u001b[0m│\u001b[93m \u001b[0m\u001b[93m['summary_prompt']             \u001b[0m\u001b[93m \u001b[0m│\u001b[91m \u001b[0m\u001b[91m['raw_summary']        \u001b[0m\u001b[91m \u001b[0m│ \u001b[95m│\u001b[0m\n",
       "\u001b[95m│\u001b[0m │\u001b[96m \u001b[0m\u001b[96mparse_summary             \u001b[0m\u001b[96m \u001b[0m│\u001b[92m \u001b[0m\u001b[92mTextParserBlock   \u001b[0m\u001b[92m \u001b[0m│\u001b[93m \u001b[0m\u001b[93m['raw_summary']                \u001b[0m\u001b[93m \u001b[0m│\u001b[91m \u001b[0m\u001b[91m['summary']            \u001b[0m\u001b[91m \u001b[0m│ \u001b[95m│\u001b[0m\n",
       "\u001b[95m│\u001b[0m │\u001b[96m \u001b[0m\u001b[96mbuild_keywords_prompt     \u001b[0m\u001b[96m \u001b[0m│\u001b[92m \u001b[0m\u001b[92mPromptBuilderBlock\u001b[0m\u001b[92m \u001b[0m│\u001b[93m \u001b[0m\u001b[93m['text']                       \u001b[0m\u001b[93m \u001b[0m│\u001b[91m \u001b[0m\u001b[91m['keywords_prompt']    \u001b[0m\u001b[91m \u001b[0m│ \u001b[95m│\u001b[0m\n",
       "\u001b[95m│\u001b[0m │\u001b[96m \u001b[0m\u001b[96mgenerate_keywords         \u001b[0m\u001b[96m \u001b[0m│\u001b[92m \u001b[0m\u001b[92mLLMChatBlock      \u001b[0m\u001b[92m \u001b[0m│\u001b[93m \u001b[0m\u001b[93m['keywords_prompt']            \u001b[0m\u001b[93m \u001b[0m│\u001b[91m \u001b[0m\u001b[91m['raw_keywords']       \u001b[0m\u001b[91m \u001b[0m│ \u001b[95m│\u001b[0m\n",
       "\u001b[95m│\u001b[0m │\u001b[96m \u001b[0m\u001b[96mparse_keywords            \u001b[0m\u001b[96m \u001b[0m│\u001b[92m \u001b[0m\u001b[92mTextParserBlock   \u001b[0m\u001b[92m \u001b[0m│\u001b[93m \u001b[0m\u001b[93m['raw_keywords']               \u001b[0m\u001b[93m \u001b[0m│\u001b[91m \u001b[0m\u001b[91m['keywords']           \u001b[0m\u001b[91m \u001b[0m│ \u001b[95m│\u001b[0m\n",
       "\u001b[95m│\u001b[0m │\u001b[96m \u001b[0m\u001b[96mbuild_entities_prompt     \u001b[0m\u001b[96m \u001b[0m│\u001b[92m \u001b[0m\u001b[92mPromptBuilderBlock\u001b[0m\u001b[92m \u001b[0m│\u001b[93m \u001b[0m\u001b[93m['text']                       \u001b[0m\u001b[93m \u001b[0m│\u001b[91m \u001b[0m\u001b[91m['entities_prompt']    \u001b[0m\u001b[91m \u001b[0m│ \u001b[95m│\u001b[0m\n",
       "\u001b[95m│\u001b[0m │\u001b[96m \u001b[0m\u001b[96mgenerate_entities         \u001b[0m\u001b[96m \u001b[0m│\u001b[92m \u001b[0m\u001b[92mLLMChatBlock      \u001b[0m\u001b[92m \u001b[0m│\u001b[93m \u001b[0m\u001b[93m['entities_prompt']            \u001b[0m\u001b[93m \u001b[0m│\u001b[91m \u001b[0m\u001b[91m['raw_entities']       \u001b[0m\u001b[91m \u001b[0m│ \u001b[95m│\u001b[0m\n",
       "\u001b[95m│\u001b[0m │\u001b[96m \u001b[0m\u001b[96mparse_entities            \u001b[0m\u001b[96m \u001b[0m│\u001b[92m \u001b[0m\u001b[92mTextParserBlock   \u001b[0m\u001b[92m \u001b[0m│\u001b[93m \u001b[0m\u001b[93m['raw_entities']               \u001b[0m\u001b[93m \u001b[0m│\u001b[91m \u001b[0m\u001b[91m['entities']           \u001b[0m\u001b[91m \u001b[0m│ \u001b[95m│\u001b[0m\n",
       "\u001b[95m│\u001b[0m │\u001b[96m \u001b[0m\u001b[96mbuild_sentiment_prompt    \u001b[0m\u001b[96m \u001b[0m│\u001b[92m \u001b[0m\u001b[92mPromptBuilderBlock\u001b[0m\u001b[92m \u001b[0m│\u001b[93m \u001b[0m\u001b[93m['text']                       \u001b[0m\u001b[93m \u001b[0m│\u001b[91m \u001b[0m\u001b[91m['sentiment_prompt']   \u001b[0m\u001b[91m \u001b[0m│ \u001b[95m│\u001b[0m\n",
       "\u001b[95m│\u001b[0m │\u001b[96m \u001b[0m\u001b[96mgenerate_sentiment        \u001b[0m\u001b[96m \u001b[0m│\u001b[92m \u001b[0m\u001b[92mLLMChatBlock      \u001b[0m\u001b[92m \u001b[0m│\u001b[93m \u001b[0m\u001b[93m['sentiment_prompt']           \u001b[0m\u001b[93m \u001b[0m│\u001b[91m \u001b[0m\u001b[91m['raw_sentiment']      \u001b[0m\u001b[91m \u001b[0m│ \u001b[95m│\u001b[0m\n",
       "\u001b[95m│\u001b[0m │\u001b[96m \u001b[0m\u001b[96mparse_sentiment           \u001b[0m\u001b[96m \u001b[0m│\u001b[92m \u001b[0m\u001b[92mTextParserBlock   \u001b[0m\u001b[92m \u001b[0m│\u001b[93m \u001b[0m\u001b[93m['raw_sentiment']              \u001b[0m\u001b[93m \u001b[0m│\u001b[91m \u001b[0m\u001b[91m['sentiment']          \u001b[0m\u001b[91m \u001b[0m│ \u001b[95m│\u001b[0m\n",
       "\u001b[95m│\u001b[0m │\u001b[96m \u001b[0m\u001b[96mcreate_structured_insights\u001b[0m\u001b[96m \u001b[0m│\u001b[92m \u001b[0m\u001b[92mJSONStructureBlock\u001b[0m\u001b[92m \u001b[0m│\u001b[93m \u001b[0m\u001b[93m['summary', 'keywords',        \u001b[0m\u001b[93m \u001b[0m│\u001b[91m \u001b[0m\u001b[91m['structured_insights']\u001b[0m\u001b[91m \u001b[0m│ \u001b[95m│\u001b[0m\n",
       "\u001b[95m│\u001b[0m │\u001b[96m                            \u001b[0m│\u001b[92m                    \u001b[0m│\u001b[93m \u001b[0m\u001b[93m'entities', 'sentiment']       \u001b[0m\u001b[93m \u001b[0m│\u001b[91m                         \u001b[0m│ \u001b[95m│\u001b[0m\n",
       "\u001b[95m│\u001b[0m └────────────────────────────┴────────────────────┴─────────────────────────────────┴─────────────────────────┘ \u001b[95m│\u001b[0m\n",
       "\u001b[95m╰─────────────────────────────────────────────────────────────────────────────────────────────────────────────────╯\u001b[0m\n"
      ]
     },
     "metadata": {},
     "output_type": "display_data"
    },
    {
     "data": {
      "text/html": [
       "<pre style=\"white-space:pre;overflow-x:auto;line-height:normal;font-family:Menlo,'DejaVu Sans Mono',consolas,'Courier New',monospace\">\n",
       "</pre>\n"
      ],
      "text/plain": [
       "\n"
      ]
     },
     "metadata": {},
     "output_type": "display_data"
    }
   ],
   "source": [
    "# Search for text analysis flows\n",
    "text_flows = FlowRegistry.search_flows(tag=\"text-analysis\")\n",
    "print(f\"Text analysis flows: {text_flows}\")\n",
    "\n",
    "# Load our structured insights flow\n",
    "flow_id = \"green-clay-812\" \n",
    "flow_path = FlowRegistry.get_flow_path(flow_id)\n",
    "flow = Flow.from_yaml(flow_path)\n",
    "\n",
    "print(f\"\\n✅ Loaded flow: {flow_id}\") \n",
    "\n",
    "flow.print_info()"
   ]
  },
  {
   "cell_type": "markdown",
   "metadata": {},
   "source": [
    "## 2. Model Configuration\n",
    "\n",
    "The flow supports multiple LLM models. Let's configure it:"
   ]
  },
  {
   "cell_type": "code",
   "execution_count": 5,
   "metadata": {},
   "outputs": [
    {
     "name": "stdout",
     "output_type": "stream",
     "text": [
      "Default model: openai/gpt-oss-120b\n",
      "Model recommendations: {'default': 'openai/gpt-oss-120b', 'compatible': ['meta-llama/Llama-3.3-70B-Instruct', 'microsoft/phi-4', 'mistralai/Mixtral-8x7B-Instruct-v0.1'], 'experimental': ['gpt-4o']}\n"
     ]
    }
   ],
   "source": [
    "# Check recommended models\n",
    "print(\"Default model:\", flow.get_default_model())\n",
    "print(\"Model recommendations:\", flow.get_model_recommendations())"
   ]
  },
  {
   "cell_type": "code",
   "execution_count": 6,
   "metadata": {},
   "outputs": [
    {
     "data": {
      "text/html": [
       "<pre style=\"white-space:pre;overflow-x:auto;line-height:normal;font-family:Menlo,'DejaVu Sans Mono',consolas,'Courier New',monospace\"><span style=\"color: #7fbfbf; text-decoration-color: #7fbfbf\">           </span><span style=\"color: #000080; text-decoration-color: #000080\">INFO    </span> Auto-detected <span style=\"color: #008080; text-decoration-color: #008080; font-weight: bold\">4</span> LLM blocks for configuration: <span style=\"font-weight: bold\">[</span><span style=\"color: #008000; text-decoration-color: #008000\">'generate_entities'</span>,                 <a href=\"file:///Users/shiv/workspace/sdg_hub/src/sdg_hub/core/flow/base.py\" target=\"_blank\"><span style=\"color: #7f7f7f; text-decoration-color: #7f7f7f\">base.py</span></a><span style=\"color: #7f7f7f; text-decoration-color: #7f7f7f\">:</span><a href=\"file:///Users/shiv/workspace/sdg_hub/src/sdg_hub/core/flow/base.py#864\" target=\"_blank\"><span style=\"color: #7f7f7f; text-decoration-color: #7f7f7f\">864</span></a>\n",
       "<span style=\"color: #7fbfbf; text-decoration-color: #7fbfbf\">           </span>         <span style=\"color: #008000; text-decoration-color: #008000\">'generate_keywords'</span>, <span style=\"color: #008000; text-decoration-color: #008000\">'generate_sentiment'</span>, <span style=\"color: #008000; text-decoration-color: #008000\">'generate_summary'</span><span style=\"font-weight: bold\">]</span>                      <span style=\"color: #7f7f7f; text-decoration-color: #7f7f7f\">           </span>\n",
       "</pre>\n"
      ],
      "text/plain": [
       "\u001b[2;36m          \u001b[0m\u001b[2;36m \u001b[0m\u001b[34mINFO    \u001b[0m Auto-detected \u001b[1;36m4\u001b[0m LLM blocks for configuration: \u001b[1m[\u001b[0m\u001b[32m'generate_entities'\u001b[0m,                 \u001b]8;id=291396;file:///Users/shiv/workspace/sdg_hub/src/sdg_hub/core/flow/base.py\u001b\\\u001b[2mbase.py\u001b[0m\u001b]8;;\u001b\\\u001b[2m:\u001b[0m\u001b]8;id=440878;file:///Users/shiv/workspace/sdg_hub/src/sdg_hub/core/flow/base.py#864\u001b\\\u001b[2m864\u001b[0m\u001b]8;;\u001b\\\n",
       "\u001b[2;36m           \u001b[0m         \u001b[32m'generate_keywords'\u001b[0m, \u001b[32m'generate_sentiment'\u001b[0m, \u001b[32m'generate_summary'\u001b[0m\u001b[1m]\u001b[0m                      \u001b[2m           \u001b[0m\n"
      ]
     },
     "metadata": {},
     "output_type": "display_data"
    },
    {
     "data": {
      "text/html": [
       "<pre style=\"white-space:pre;overflow-x:auto;line-height:normal;font-family:Menlo,'DejaVu Sans Mono',consolas,'Courier New',monospace\"><span style=\"color: #7fbfbf; text-decoration-color: #7fbfbf\">[15:18:35] </span><span style=\"color: #000080; text-decoration-color: #000080\">INFO    </span> Loaded LLM client for model <span style=\"color: #008000; text-decoration-color: #008000\">'hosted_vllm/openai/gpt-oss-120b'</span>              <a href=\"file:///Users/shiv/workspace/sdg_hub/src/sdg_hub/core/blocks/llm/client_manager.py\" target=\"_blank\"><span style=\"color: #7f7f7f; text-decoration-color: #7f7f7f\">client_manager.py</span></a><span style=\"color: #7f7f7f; text-decoration-color: #7f7f7f\">:</span><a href=\"file:///Users/shiv/workspace/sdg_hub/src/sdg_hub/core/blocks/llm/client_manager.py#61\" target=\"_blank\"><span style=\"color: #7f7f7f; text-decoration-color: #7f7f7f\">61</span></a>\n",
       "</pre>\n"
      ],
      "text/plain": [
       "\u001b[2;36m[15:18:35]\u001b[0m\u001b[2;36m \u001b[0m\u001b[34mINFO    \u001b[0m Loaded LLM client for model \u001b[32m'hosted_vllm/openai/gpt-oss-120b'\u001b[0m              \u001b]8;id=306589;file:///Users/shiv/workspace/sdg_hub/src/sdg_hub/core/blocks/llm/client_manager.py\u001b\\\u001b[2mclient_manager.py\u001b[0m\u001b]8;;\u001b\\\u001b[2m:\u001b[0m\u001b]8;id=239361;file:///Users/shiv/workspace/sdg_hub/src/sdg_hub/core/blocks/llm/client_manager.py#61\u001b\\\u001b[2m61\u001b[0m\u001b]8;;\u001b\\\n"
      ]
     },
     "metadata": {},
     "output_type": "display_data"
    },
    {
     "data": {
      "text/html": [
       "<pre style=\"white-space:pre;overflow-x:auto;line-height:normal;font-family:Menlo,'DejaVu Sans Mono',consolas,'Courier New',monospace\"><span style=\"color: #7fbfbf; text-decoration-color: #7fbfbf\">[15:18:35] </span><span style=\"color: #000080; text-decoration-color: #000080\">INFO    </span> Initialized LLMChatBlock <span style=\"color: #008000; text-decoration-color: #008000\">'generate_summary'</span> with model                    <a href=\"file:///Users/shiv/workspace/sdg_hub/src/sdg_hub/core/blocks/llm/llm_chat_block.py\" target=\"_blank\"><span style=\"color: #7f7f7f; text-decoration-color: #7f7f7f\">llm_chat_block.py</span></a><span style=\"color: #7f7f7f; text-decoration-color: #7f7f7f\">:</span><a href=\"file:///Users/shiv/workspace/sdg_hub/src/sdg_hub/core/blocks/llm/llm_chat_block.py#265\" target=\"_blank\"><span style=\"color: #7f7f7f; text-decoration-color: #7f7f7f\">265</span></a>\n",
       "<span style=\"color: #7fbfbf; text-decoration-color: #7fbfbf\">           </span>         <span style=\"color: #008000; text-decoration-color: #008000\">'hosted_vllm/openai/gpt-oss-120b'</span>                                         <span style=\"color: #7f7f7f; text-decoration-color: #7f7f7f\">                     </span>\n",
       "</pre>\n"
      ],
      "text/plain": [
       "\u001b[2;36m[15:18:35]\u001b[0m\u001b[2;36m \u001b[0m\u001b[34mINFO    \u001b[0m Initialized LLMChatBlock \u001b[32m'generate_summary'\u001b[0m with model                    \u001b]8;id=242992;file:///Users/shiv/workspace/sdg_hub/src/sdg_hub/core/blocks/llm/llm_chat_block.py\u001b\\\u001b[2mllm_chat_block.py\u001b[0m\u001b]8;;\u001b\\\u001b[2m:\u001b[0m\u001b]8;id=372401;file:///Users/shiv/workspace/sdg_hub/src/sdg_hub/core/blocks/llm/llm_chat_block.py#265\u001b\\\u001b[2m265\u001b[0m\u001b]8;;\u001b\\\n",
       "\u001b[2;36m           \u001b[0m         \u001b[32m'hosted_vllm/openai/gpt-oss-120b'\u001b[0m                                         \u001b[2m                     \u001b[0m\n"
      ]
     },
     "metadata": {},
     "output_type": "display_data"
    },
    {
     "data": {
      "text/html": [
       "<pre style=\"white-space:pre;overflow-x:auto;line-height:normal;font-family:Menlo,'DejaVu Sans Mono',consolas,'Courier New',monospace\"><span style=\"color: #7fbfbf; text-decoration-color: #7fbfbf\">           </span><span style=\"color: #000080; text-decoration-color: #000080\">INFO    </span> Loaded LLM client for model <span style=\"color: #008000; text-decoration-color: #008000\">'hosted_vllm/openai/gpt-oss-120b'</span>              <a href=\"file:///Users/shiv/workspace/sdg_hub/src/sdg_hub/core/blocks/llm/client_manager.py\" target=\"_blank\"><span style=\"color: #7f7f7f; text-decoration-color: #7f7f7f\">client_manager.py</span></a><span style=\"color: #7f7f7f; text-decoration-color: #7f7f7f\">:</span><a href=\"file:///Users/shiv/workspace/sdg_hub/src/sdg_hub/core/blocks/llm/client_manager.py#61\" target=\"_blank\"><span style=\"color: #7f7f7f; text-decoration-color: #7f7f7f\">61</span></a>\n",
       "</pre>\n"
      ],
      "text/plain": [
       "\u001b[2;36m          \u001b[0m\u001b[2;36m \u001b[0m\u001b[34mINFO    \u001b[0m Loaded LLM client for model \u001b[32m'hosted_vllm/openai/gpt-oss-120b'\u001b[0m              \u001b]8;id=747070;file:///Users/shiv/workspace/sdg_hub/src/sdg_hub/core/blocks/llm/client_manager.py\u001b\\\u001b[2mclient_manager.py\u001b[0m\u001b]8;;\u001b\\\u001b[2m:\u001b[0m\u001b]8;id=154749;file:///Users/shiv/workspace/sdg_hub/src/sdg_hub/core/blocks/llm/client_manager.py#61\u001b\\\u001b[2m61\u001b[0m\u001b]8;;\u001b\\\n"
      ]
     },
     "metadata": {},
     "output_type": "display_data"
    },
    {
     "data": {
      "text/html": [
       "<pre style=\"white-space:pre;overflow-x:auto;line-height:normal;font-family:Menlo,'DejaVu Sans Mono',consolas,'Courier New',monospace\"><span style=\"color: #7fbfbf; text-decoration-color: #7fbfbf\">           </span><span style=\"color: #000080; text-decoration-color: #000080\">INFO    </span> Initialized LLMChatBlock <span style=\"color: #008000; text-decoration-color: #008000\">'generate_keywords'</span> with model                   <a href=\"file:///Users/shiv/workspace/sdg_hub/src/sdg_hub/core/blocks/llm/llm_chat_block.py\" target=\"_blank\"><span style=\"color: #7f7f7f; text-decoration-color: #7f7f7f\">llm_chat_block.py</span></a><span style=\"color: #7f7f7f; text-decoration-color: #7f7f7f\">:</span><a href=\"file:///Users/shiv/workspace/sdg_hub/src/sdg_hub/core/blocks/llm/llm_chat_block.py#265\" target=\"_blank\"><span style=\"color: #7f7f7f; text-decoration-color: #7f7f7f\">265</span></a>\n",
       "<span style=\"color: #7fbfbf; text-decoration-color: #7fbfbf\">           </span>         <span style=\"color: #008000; text-decoration-color: #008000\">'hosted_vllm/openai/gpt-oss-120b'</span>                                         <span style=\"color: #7f7f7f; text-decoration-color: #7f7f7f\">                     </span>\n",
       "</pre>\n"
      ],
      "text/plain": [
       "\u001b[2;36m          \u001b[0m\u001b[2;36m \u001b[0m\u001b[34mINFO    \u001b[0m Initialized LLMChatBlock \u001b[32m'generate_keywords'\u001b[0m with model                   \u001b]8;id=638474;file:///Users/shiv/workspace/sdg_hub/src/sdg_hub/core/blocks/llm/llm_chat_block.py\u001b\\\u001b[2mllm_chat_block.py\u001b[0m\u001b]8;;\u001b\\\u001b[2m:\u001b[0m\u001b]8;id=48241;file:///Users/shiv/workspace/sdg_hub/src/sdg_hub/core/blocks/llm/llm_chat_block.py#265\u001b\\\u001b[2m265\u001b[0m\u001b]8;;\u001b\\\n",
       "\u001b[2;36m           \u001b[0m         \u001b[32m'hosted_vllm/openai/gpt-oss-120b'\u001b[0m                                         \u001b[2m                     \u001b[0m\n"
      ]
     },
     "metadata": {},
     "output_type": "display_data"
    },
    {
     "data": {
      "text/html": [
       "<pre style=\"white-space:pre;overflow-x:auto;line-height:normal;font-family:Menlo,'DejaVu Sans Mono',consolas,'Courier New',monospace\"><span style=\"color: #7fbfbf; text-decoration-color: #7fbfbf\">           </span><span style=\"color: #000080; text-decoration-color: #000080\">INFO    </span> Loaded LLM client for model <span style=\"color: #008000; text-decoration-color: #008000\">'hosted_vllm/openai/gpt-oss-120b'</span>              <a href=\"file:///Users/shiv/workspace/sdg_hub/src/sdg_hub/core/blocks/llm/client_manager.py\" target=\"_blank\"><span style=\"color: #7f7f7f; text-decoration-color: #7f7f7f\">client_manager.py</span></a><span style=\"color: #7f7f7f; text-decoration-color: #7f7f7f\">:</span><a href=\"file:///Users/shiv/workspace/sdg_hub/src/sdg_hub/core/blocks/llm/client_manager.py#61\" target=\"_blank\"><span style=\"color: #7f7f7f; text-decoration-color: #7f7f7f\">61</span></a>\n",
       "</pre>\n"
      ],
      "text/plain": [
       "\u001b[2;36m          \u001b[0m\u001b[2;36m \u001b[0m\u001b[34mINFO    \u001b[0m Loaded LLM client for model \u001b[32m'hosted_vllm/openai/gpt-oss-120b'\u001b[0m              \u001b]8;id=7171;file:///Users/shiv/workspace/sdg_hub/src/sdg_hub/core/blocks/llm/client_manager.py\u001b\\\u001b[2mclient_manager.py\u001b[0m\u001b]8;;\u001b\\\u001b[2m:\u001b[0m\u001b]8;id=865389;file:///Users/shiv/workspace/sdg_hub/src/sdg_hub/core/blocks/llm/client_manager.py#61\u001b\\\u001b[2m61\u001b[0m\u001b]8;;\u001b\\\n"
      ]
     },
     "metadata": {},
     "output_type": "display_data"
    },
    {
     "data": {
      "text/html": [
       "<pre style=\"white-space:pre;overflow-x:auto;line-height:normal;font-family:Menlo,'DejaVu Sans Mono',consolas,'Courier New',monospace\"><span style=\"color: #7fbfbf; text-decoration-color: #7fbfbf\">           </span><span style=\"color: #000080; text-decoration-color: #000080\">INFO    </span> Initialized LLMChatBlock <span style=\"color: #008000; text-decoration-color: #008000\">'generate_entities'</span> with model                   <a href=\"file:///Users/shiv/workspace/sdg_hub/src/sdg_hub/core/blocks/llm/llm_chat_block.py\" target=\"_blank\"><span style=\"color: #7f7f7f; text-decoration-color: #7f7f7f\">llm_chat_block.py</span></a><span style=\"color: #7f7f7f; text-decoration-color: #7f7f7f\">:</span><a href=\"file:///Users/shiv/workspace/sdg_hub/src/sdg_hub/core/blocks/llm/llm_chat_block.py#265\" target=\"_blank\"><span style=\"color: #7f7f7f; text-decoration-color: #7f7f7f\">265</span></a>\n",
       "<span style=\"color: #7fbfbf; text-decoration-color: #7fbfbf\">           </span>         <span style=\"color: #008000; text-decoration-color: #008000\">'hosted_vllm/openai/gpt-oss-120b'</span>                                         <span style=\"color: #7f7f7f; text-decoration-color: #7f7f7f\">                     </span>\n",
       "</pre>\n"
      ],
      "text/plain": [
       "\u001b[2;36m          \u001b[0m\u001b[2;36m \u001b[0m\u001b[34mINFO    \u001b[0m Initialized LLMChatBlock \u001b[32m'generate_entities'\u001b[0m with model                   \u001b]8;id=595285;file:///Users/shiv/workspace/sdg_hub/src/sdg_hub/core/blocks/llm/llm_chat_block.py\u001b\\\u001b[2mllm_chat_block.py\u001b[0m\u001b]8;;\u001b\\\u001b[2m:\u001b[0m\u001b]8;id=910664;file:///Users/shiv/workspace/sdg_hub/src/sdg_hub/core/blocks/llm/llm_chat_block.py#265\u001b\\\u001b[2m265\u001b[0m\u001b]8;;\u001b\\\n",
       "\u001b[2;36m           \u001b[0m         \u001b[32m'hosted_vllm/openai/gpt-oss-120b'\u001b[0m                                         \u001b[2m                     \u001b[0m\n"
      ]
     },
     "metadata": {},
     "output_type": "display_data"
    },
    {
     "data": {
      "text/html": [
       "<pre style=\"white-space:pre;overflow-x:auto;line-height:normal;font-family:Menlo,'DejaVu Sans Mono',consolas,'Courier New',monospace\"><span style=\"color: #7fbfbf; text-decoration-color: #7fbfbf\">           </span><span style=\"color: #000080; text-decoration-color: #000080\">INFO    </span> Loaded LLM client for model <span style=\"color: #008000; text-decoration-color: #008000\">'hosted_vllm/openai/gpt-oss-120b'</span>              <a href=\"file:///Users/shiv/workspace/sdg_hub/src/sdg_hub/core/blocks/llm/client_manager.py\" target=\"_blank\"><span style=\"color: #7f7f7f; text-decoration-color: #7f7f7f\">client_manager.py</span></a><span style=\"color: #7f7f7f; text-decoration-color: #7f7f7f\">:</span><a href=\"file:///Users/shiv/workspace/sdg_hub/src/sdg_hub/core/blocks/llm/client_manager.py#61\" target=\"_blank\"><span style=\"color: #7f7f7f; text-decoration-color: #7f7f7f\">61</span></a>\n",
       "</pre>\n"
      ],
      "text/plain": [
       "\u001b[2;36m          \u001b[0m\u001b[2;36m \u001b[0m\u001b[34mINFO    \u001b[0m Loaded LLM client for model \u001b[32m'hosted_vllm/openai/gpt-oss-120b'\u001b[0m              \u001b]8;id=597388;file:///Users/shiv/workspace/sdg_hub/src/sdg_hub/core/blocks/llm/client_manager.py\u001b\\\u001b[2mclient_manager.py\u001b[0m\u001b]8;;\u001b\\\u001b[2m:\u001b[0m\u001b]8;id=252803;file:///Users/shiv/workspace/sdg_hub/src/sdg_hub/core/blocks/llm/client_manager.py#61\u001b\\\u001b[2m61\u001b[0m\u001b]8;;\u001b\\\n"
      ]
     },
     "metadata": {},
     "output_type": "display_data"
    },
    {
     "data": {
      "text/html": [
       "<pre style=\"white-space:pre;overflow-x:auto;line-height:normal;font-family:Menlo,'DejaVu Sans Mono',consolas,'Courier New',monospace\"><span style=\"color: #7fbfbf; text-decoration-color: #7fbfbf\">           </span><span style=\"color: #000080; text-decoration-color: #000080\">INFO    </span> Initialized LLMChatBlock <span style=\"color: #008000; text-decoration-color: #008000\">'generate_sentiment'</span> with model                  <a href=\"file:///Users/shiv/workspace/sdg_hub/src/sdg_hub/core/blocks/llm/llm_chat_block.py\" target=\"_blank\"><span style=\"color: #7f7f7f; text-decoration-color: #7f7f7f\">llm_chat_block.py</span></a><span style=\"color: #7f7f7f; text-decoration-color: #7f7f7f\">:</span><a href=\"file:///Users/shiv/workspace/sdg_hub/src/sdg_hub/core/blocks/llm/llm_chat_block.py#265\" target=\"_blank\"><span style=\"color: #7f7f7f; text-decoration-color: #7f7f7f\">265</span></a>\n",
       "<span style=\"color: #7fbfbf; text-decoration-color: #7fbfbf\">           </span>         <span style=\"color: #008000; text-decoration-color: #008000\">'hosted_vllm/openai/gpt-oss-120b'</span>                                         <span style=\"color: #7f7f7f; text-decoration-color: #7f7f7f\">                     </span>\n",
       "</pre>\n"
      ],
      "text/plain": [
       "\u001b[2;36m          \u001b[0m\u001b[2;36m \u001b[0m\u001b[34mINFO    \u001b[0m Initialized LLMChatBlock \u001b[32m'generate_sentiment'\u001b[0m with model                  \u001b]8;id=618912;file:///Users/shiv/workspace/sdg_hub/src/sdg_hub/core/blocks/llm/llm_chat_block.py\u001b\\\u001b[2mllm_chat_block.py\u001b[0m\u001b]8;;\u001b\\\u001b[2m:\u001b[0m\u001b]8;id=566524;file:///Users/shiv/workspace/sdg_hub/src/sdg_hub/core/blocks/llm/llm_chat_block.py#265\u001b\\\u001b[2m265\u001b[0m\u001b]8;;\u001b\\\n",
       "\u001b[2;36m           \u001b[0m         \u001b[32m'hosted_vllm/openai/gpt-oss-120b'\u001b[0m                                         \u001b[2m                     \u001b[0m\n"
      ]
     },
     "metadata": {},
     "output_type": "display_data"
    },
    {
     "data": {
      "text/html": [
       "<pre style=\"white-space:pre;overflow-x:auto;line-height:normal;font-family:Menlo,'DejaVu Sans Mono',consolas,'Courier New',monospace\"><span style=\"color: #7fbfbf; text-decoration-color: #7fbfbf\">           </span><span style=\"color: #000080; text-decoration-color: #000080\">INFO    </span> Successfully configured <span style=\"color: #008080; text-decoration-color: #008080; font-weight: bold\">4</span> LLM blocks with: model:                                   <a href=\"file:///Users/shiv/workspace/sdg_hub/src/sdg_hub/core/flow/base.py\" target=\"_blank\"><span style=\"color: #7f7f7f; text-decoration-color: #7f7f7f\">base.py</span></a><span style=\"color: #7f7f7f; text-decoration-color: #7f7f7f\">:</span><a href=\"file:///Users/shiv/workspace/sdg_hub/src/sdg_hub/core/flow/base.py#903\" target=\"_blank\"><span style=\"color: #7f7f7f; text-decoration-color: #7f7f7f\">903</span></a>\n",
       "<span style=\"color: #7fbfbf; text-decoration-color: #7fbfbf\">           </span>         <span style=\"color: #008000; text-decoration-color: #008000\">'hosted_vllm/openai/gpt-oss-120b'</span>, api_base: <span style=\"color: #008000; text-decoration-color: #008000\">'http://localhost:8201/v1'</span>, api_key:   <span style=\"color: #7f7f7f; text-decoration-color: #7f7f7f\">           </span>\n",
       "<span style=\"color: #7fbfbf; text-decoration-color: #7fbfbf\">           </span>         EMPTY, extra_body: <span style=\"font-weight: bold\">{</span><span style=\"color: #008000; text-decoration-color: #008000\">'reasoning_effort'</span>: <span style=\"color: #008000; text-decoration-color: #008000\">'low'</span><span style=\"font-weight: bold\">}</span>                                      <span style=\"color: #7f7f7f; text-decoration-color: #7f7f7f\">           </span>\n",
       "</pre>\n"
      ],
      "text/plain": [
       "\u001b[2;36m          \u001b[0m\u001b[2;36m \u001b[0m\u001b[34mINFO    \u001b[0m Successfully configured \u001b[1;36m4\u001b[0m LLM blocks with: model:                                   \u001b]8;id=563346;file:///Users/shiv/workspace/sdg_hub/src/sdg_hub/core/flow/base.py\u001b\\\u001b[2mbase.py\u001b[0m\u001b]8;;\u001b\\\u001b[2m:\u001b[0m\u001b]8;id=483653;file:///Users/shiv/workspace/sdg_hub/src/sdg_hub/core/flow/base.py#903\u001b\\\u001b[2m903\u001b[0m\u001b]8;;\u001b\\\n",
       "\u001b[2;36m           \u001b[0m         \u001b[32m'hosted_vllm/openai/gpt-oss-120b'\u001b[0m, api_base: \u001b[32m'http://localhost:8201/v1'\u001b[0m, api_key:   \u001b[2m           \u001b[0m\n",
       "\u001b[2;36m           \u001b[0m         EMPTY, extra_body: \u001b[1m{\u001b[0m\u001b[32m'reasoning_effort'\u001b[0m: \u001b[32m'low'\u001b[0m\u001b[1m}\u001b[0m                                      \u001b[2m           \u001b[0m\n"
      ]
     },
     "metadata": {},
     "output_type": "display_data"
    },
    {
     "data": {
      "text/html": [
       "<pre style=\"white-space:pre;overflow-x:auto;line-height:normal;font-family:Menlo,'DejaVu Sans Mono',consolas,'Courier New',monospace\"><span style=\"color: #7fbfbf; text-decoration-color: #7fbfbf\">           </span><span style=\"color: #000080; text-decoration-color: #000080\">INFO    </span> Configured blocks: <span style=\"font-weight: bold\">[</span><span style=\"color: #008000; text-decoration-color: #008000\">'generate_entities'</span>, <span style=\"color: #008000; text-decoration-color: #008000\">'generate_keywords'</span>, <span style=\"color: #008000; text-decoration-color: #008000\">'generate_sentiment'</span>, <a href=\"file:///Users/shiv/workspace/sdg_hub/src/sdg_hub/core/flow/base.py\" target=\"_blank\"><span style=\"color: #7f7f7f; text-decoration-color: #7f7f7f\">base.py</span></a><span style=\"color: #7f7f7f; text-decoration-color: #7f7f7f\">:</span><a href=\"file:///Users/shiv/workspace/sdg_hub/src/sdg_hub/core/flow/base.py#906\" target=\"_blank\"><span style=\"color: #7f7f7f; text-decoration-color: #7f7f7f\">906</span></a>\n",
       "<span style=\"color: #7fbfbf; text-decoration-color: #7fbfbf\">           </span>         <span style=\"color: #008000; text-decoration-color: #008000\">'generate_summary'</span><span style=\"font-weight: bold\">]</span>                                                                 <span style=\"color: #7f7f7f; text-decoration-color: #7f7f7f\">           </span>\n",
       "</pre>\n"
      ],
      "text/plain": [
       "\u001b[2;36m          \u001b[0m\u001b[2;36m \u001b[0m\u001b[34mINFO    \u001b[0m Configured blocks: \u001b[1m[\u001b[0m\u001b[32m'generate_entities'\u001b[0m, \u001b[32m'generate_keywords'\u001b[0m, \u001b[32m'generate_sentiment'\u001b[0m, \u001b]8;id=406501;file:///Users/shiv/workspace/sdg_hub/src/sdg_hub/core/flow/base.py\u001b\\\u001b[2mbase.py\u001b[0m\u001b]8;;\u001b\\\u001b[2m:\u001b[0m\u001b]8;id=806391;file:///Users/shiv/workspace/sdg_hub/src/sdg_hub/core/flow/base.py#906\u001b\\\u001b[2m906\u001b[0m\u001b]8;;\u001b\\\n",
       "\u001b[2;36m           \u001b[0m         \u001b[32m'generate_summary'\u001b[0m\u001b[1m]\u001b[0m                                                                 \u001b[2m           \u001b[0m\n"
      ]
     },
     "metadata": {},
     "output_type": "display_data"
    },
    {
     "name": "stdout",
     "output_type": "stream",
     "text": [
      "✅ Model configuration ready\n"
     ]
    }
   ],
   "source": [
    "# Configure the flow to use a specific model\n",
    "# Option 1: Use a local vLLM server\n",
    "flow.set_model_config(\n",
    "    model=\"hosted_vllm/openai/gpt-oss-120b\",\n",
    "    api_base=\"http://localhost:8201/v1\",\n",
    "    api_key=\"EMPTY\",\n",
    "    # this only works with models which support reasoning_effort\n",
    "    # if your model does not support it, you can remove this parameter\n",
    "    extra_body={\"reasoning_effort\": \"low\"}\n",
    ")\n",
    "\n",
    "# Option 2: Use OpenAI (requires API key)\n",
    "# flow.set_model_config(\n",
    "#     model=\"gpt-4o-mini\",\n",
    "#     api_key=\"your-openai-api-key\"\n",
    "# )\n",
    "\n",
    "# Option 3: Use Anthropic Claude (requires API key)\n",
    "# flow.set_model_config(\n",
    "#     model=\"anthropic/claude-3-haiku\",\n",
    "#     api_key=\"your-anthropic-api-key\"\n",
    "# )\n",
    "\n",
    "print(\"✅ Model configuration ready\")"
   ]
  },
  {
   "cell_type": "markdown",
   "metadata": {},
   "source": [
    "## 3. Dataset Loading and Exploration\n",
    "\n",
    "We'll use the **Bloomberg Financial News dataset** - 447k financial news articles from 2006-2013:"
   ]
  },
  {
   "cell_type": "code",
   "execution_count": 7,
   "metadata": {},
   "outputs": [
    {
     "name": "stdout",
     "output_type": "stream",
     "text": [
      "Loading Bloomberg Financial News dataset...\n",
      "📊 Dataset size: 446,762 articles\n",
      "📅 Columns: ['Headline', 'Journalists', 'Date', 'Link', 'Article']\n",
      "💾 Dataset features: {'Headline': Value(dtype='string', id=None), 'Journalists': Sequence(feature=Value(dtype='string', id=None), length=-1, id=None), 'Date': Value(dtype='timestamp[ns]', id=None), 'Link': Value(dtype='string', id=None), 'Article': Value(dtype='string', id=None)}\n"
     ]
    }
   ],
   "source": [
    "# Load the Bloomberg Financial News dataset\n",
    "print(\"Loading Bloomberg Financial News dataset...\")\n",
    "dataset = load_dataset(\"danidanou/Bloomberg_Financial_News\", split=\"train\")\n",
    "\n",
    "print(f\"📊 Dataset size: {len(dataset):,} articles\")\n",
    "print(f\"📅 Columns: {dataset.column_names}\")\n",
    "print(f\"💾 Dataset features: {dataset.features}\")"
   ]
  },
  {
   "cell_type": "code",
   "execution_count": 8,
   "metadata": {},
   "outputs": [
    {
     "name": "stdout",
     "output_type": "stream",
     "text": [
      "=== Sample Article ===\n",
      "Headline: Ivory Coast Keeps Cocoa Export Tax Below 22%, Document Shows\n",
      "Date: 2011-10-06 15:14:20\n",
      "Journalists: ['Baudelaire Mieu']\n",
      "Article length: 2530 characters\n",
      "Article preview: Export taxes on cocoa beans from Ivory Coast , the world’s biggest producer of the chocolate ingredient, won’t exceed 22 percent of the international price this season, meeting a commitment to the International Monetary Fund , according to a finance ministry document. In the 2008-9 season taxes aver...\n"
     ]
    }
   ],
   "source": [
    "# Explore the dataset structure\n",
    "sample = dataset[0]\n",
    "print(\"=== Sample Article ===\")\n",
    "print(f\"Headline: {sample['Headline']}\")\n",
    "print(f\"Date: {sample['Date']}\")\n",
    "print(f\"Journalists: {sample['Journalists']}\")\n",
    "print(f\"Article length: {len(sample['Article'])} characters\")\n",
    "print(f\"Article preview: {sample['Article'][:300]}...\")"
   ]
  },
  {
   "cell_type": "code",
   "execution_count": 9,
   "metadata": {},
   "outputs": [
    {
     "name": "stdout",
     "output_type": "stream",
     "text": [
      "📝 Demo dataset prepared: 50 articles\n",
      "📊 Average article length: 2397 characters\n"
     ]
    }
   ],
   "source": [
    "# Select a small sample for demonstration (start with 50 articles)\n",
    "# For production, you can process thousands of articles\n",
    "sample_size = 50\n",
    "demo_dataset = dataset.shuffle(seed=42).select(range(sample_size))\n",
    "\n",
    "print(f\"📝 Demo dataset prepared: {len(demo_dataset)} articles\")\n",
    "print(f\"📊 Average article length: {sum(len(article['Article']) for article in demo_dataset) / len(demo_dataset):.0f} characters\")"
   ]
  },
  {
   "cell_type": "code",
   "execution_count": 10,
   "metadata": {},
   "outputs": [
    {
     "name": "stdout",
     "output_type": "stream",
     "text": [
      "Required columns: ['text']\n",
      "Schema: {'text': Value(dtype='string', id=None)}\n"
     ]
    }
   ],
   "source": [
    "# Discover what dataset schema is expected by the flow\n",
    "\n",
    "schema_dataset = flow.get_dataset_schema() \n",
    "print(f\"Required columns: {schema_dataset.column_names}\")\n",
    "print(f\"Schema: {schema_dataset.features}\")"
   ]
  },
  {
   "cell_type": "code",
   "execution_count": 11,
   "metadata": {},
   "outputs": [],
   "source": [
    "# The flow expects a 'text' column, so we'll use rename the 'Article' column to 'text'\n",
    "demo_dataset = demo_dataset.rename_column(\"Article\", \"text\")"
   ]
  },
  {
   "cell_type": "markdown",
   "metadata": {},
   "source": [
    "## 4. Running the Structured Insights Flow\n",
    "\n",
    "Now let's extract structured insights from our financial news articles:"
   ]
  },
  {
   "cell_type": "code",
   "execution_count": 12,
   "metadata": {},
   "outputs": [
    {
     "name": "stdout",
     "output_type": "stream",
     "text": [
      "🚀 Running structured insights extraction...\n",
      "⏱️ This may take a few minutes depending on your model setup...\n"
     ]
    },
    {
     "data": {
      "text/html": [
       "<pre style=\"white-space:pre;overflow-x:auto;line-height:normal;font-family:Menlo,'DejaVu Sans Mono',consolas,'Courier New',monospace\"><span style=\"color: #7fbfbf; text-decoration-color: #7fbfbf\">[15:18:37] </span><span style=\"color: #000080; text-decoration-color: #000080\">INFO    </span> Starting flow <span style=\"color: #008000; text-decoration-color: #008000\">'Structured Text Insights Extraction Flow'</span> v1.<span style=\"color: #008080; text-decoration-color: #008080; font-weight: bold\">0.0</span> with <span style=\"color: #008080; text-decoration-color: #008080; font-weight: bold\">50</span> samples     <a href=\"file:///Users/shiv/workspace/sdg_hub/src/sdg_hub/core/flow/base.py\" target=\"_blank\"><span style=\"color: #7f7f7f; text-decoration-color: #7f7f7f\">base.py</span></a><span style=\"color: #7f7f7f; text-decoration-color: #7f7f7f\">:</span><a href=\"file:///Users/shiv/workspace/sdg_hub/src/sdg_hub/core/flow/base.py#515\" target=\"_blank\"><span style=\"color: #7f7f7f; text-decoration-color: #7f7f7f\">515</span></a>\n",
       "<span style=\"color: #7fbfbf; text-decoration-color: #7fbfbf\">           </span>         across <span style=\"color: #008080; text-decoration-color: #008080; font-weight: bold\">13</span> blocks                                                                    <span style=\"color: #7f7f7f; text-decoration-color: #7f7f7f\">           </span>\n",
       "</pre>\n"
      ],
      "text/plain": [
       "\u001b[2;36m[15:18:37]\u001b[0m\u001b[2;36m \u001b[0m\u001b[34mINFO    \u001b[0m Starting flow \u001b[32m'Structured Text Insights Extraction Flow'\u001b[0m v1.\u001b[1;36m0.0\u001b[0m with \u001b[1;36m50\u001b[0m samples     \u001b]8;id=339763;file:///Users/shiv/workspace/sdg_hub/src/sdg_hub/core/flow/base.py\u001b\\\u001b[2mbase.py\u001b[0m\u001b]8;;\u001b\\\u001b[2m:\u001b[0m\u001b]8;id=168649;file:///Users/shiv/workspace/sdg_hub/src/sdg_hub/core/flow/base.py#515\u001b\\\u001b[2m515\u001b[0m\u001b]8;;\u001b\\\n",
       "\u001b[2;36m           \u001b[0m         across \u001b[1;36m13\u001b[0m blocks                                                                    \u001b[2m           \u001b[0m\n"
      ]
     },
     "metadata": {},
     "output_type": "display_data"
    },
    {
     "data": {
      "text/html": [
       "<pre style=\"white-space:pre;overflow-x:auto;line-height:normal;font-family:Menlo,'DejaVu Sans Mono',consolas,'Courier New',monospace\"><span style=\"color: #7fbfbf; text-decoration-color: #7fbfbf\">           </span><span style=\"color: #000080; text-decoration-color: #000080\">INFO    </span> Executing block <span style=\"color: #008080; text-decoration-color: #008080; font-weight: bold\">1</span>/<span style=\"color: #008080; text-decoration-color: #008080; font-weight: bold\">13</span>: build_summary_prompt <span style=\"font-weight: bold\">(</span>PromptBuilderBlock<span style=\"font-weight: bold\">)</span>                     <a href=\"file:///Users/shiv/workspace/sdg_hub/src/sdg_hub/core/flow/base.py\" target=\"_blank\"><span style=\"color: #7f7f7f; text-decoration-color: #7f7f7f\">base.py</span></a><span style=\"color: #7f7f7f; text-decoration-color: #7f7f7f\">:</span><a href=\"file:///Users/shiv/workspace/sdg_hub/src/sdg_hub/core/flow/base.py#670\" target=\"_blank\"><span style=\"color: #7f7f7f; text-decoration-color: #7f7f7f\">670</span></a>\n",
       "</pre>\n"
      ],
      "text/plain": [
       "\u001b[2;36m          \u001b[0m\u001b[2;36m \u001b[0m\u001b[34mINFO    \u001b[0m Executing block \u001b[1;36m1\u001b[0m/\u001b[1;36m13\u001b[0m: build_summary_prompt \u001b[1m(\u001b[0mPromptBuilderBlock\u001b[1m)\u001b[0m                     \u001b]8;id=36224;file:///Users/shiv/workspace/sdg_hub/src/sdg_hub/core/flow/base.py\u001b\\\u001b[2mbase.py\u001b[0m\u001b]8;;\u001b\\\u001b[2m:\u001b[0m\u001b]8;id=387258;file:///Users/shiv/workspace/sdg_hub/src/sdg_hub/core/flow/base.py#670\u001b\\\u001b[2m670\u001b[0m\u001b]8;;\u001b\\\n"
      ]
     },
     "metadata": {},
     "output_type": "display_data"
    },
    {
     "data": {
      "text/html": [
       "<pre style=\"white-space:pre;overflow-x:auto;line-height:normal;font-family:Menlo,'DejaVu Sans Mono',consolas,'Courier New',monospace\"><span style=\"color: #000080; text-decoration-color: #000080\">╭───────────────────────────────────────────── </span><span style=\"color: #000080; text-decoration-color: #000080; font-weight: bold\">build_summary_prompt</span><span style=\"color: #000080; text-decoration-color: #000080\"> ──────────────────────────────────────────────╮</span>\n",
       "<span style=\"color: #000080; text-decoration-color: #000080\">│</span> <span style=\"color: #000080; text-decoration-color: #000080; font-weight: bold\">📊 Processing Input Data</span>                                                                                        <span style=\"color: #000080; text-decoration-color: #000080\">│</span>\n",
       "<span style=\"color: #000080; text-decoration-color: #000080\">│</span> <span style=\"color: #008080; text-decoration-color: #008080\">Block Type: PromptBuilderBlock</span>                                                                                  <span style=\"color: #000080; text-decoration-color: #000080\">│</span>\n",
       "<span style=\"color: #000080; text-decoration-color: #000080\">│</span> <span style=\"color: #008080; text-decoration-color: #008080; font-weight: bold\">Input Rows: 50</span>                                                                                                  <span style=\"color: #000080; text-decoration-color: #000080\">│</span>\n",
       "<span style=\"color: #000080; text-decoration-color: #000080\">│</span> <span style=\"color: #008080; text-decoration-color: #008080\">Input Columns: 5</span>                                                                                                <span style=\"color: #000080; text-decoration-color: #000080\">│</span>\n",
       "<span style=\"color: #000080; text-decoration-color: #000080\">│</span> <span style=\"color: #c0c0c0; text-decoration-color: #c0c0c0\">Column Names: Headline, Journalists, Date, Link, text</span>                                                           <span style=\"color: #000080; text-decoration-color: #000080\">│</span>\n",
       "<span style=\"color: #000080; text-decoration-color: #000080\">│</span> <span style=\"color: #008000; text-decoration-color: #008000\">Expected Output Columns: summary_prompt</span>                                                                         <span style=\"color: #000080; text-decoration-color: #000080\">│</span>\n",
       "<span style=\"color: #000080; text-decoration-color: #000080\">╰─────────────────────────────────────────────────────────────────────────────────────────────────────────────────╯</span>\n",
       "</pre>\n"
      ],
      "text/plain": [
       "\u001b[34m╭─\u001b[0m\u001b[34m────────────────────────────────────────────\u001b[0m\u001b[34m \u001b[0m\u001b[1;34mbuild_summary_prompt\u001b[0m\u001b[34m \u001b[0m\u001b[34m─────────────────────────────────────────────\u001b[0m\u001b[34m─╮\u001b[0m\n",
       "\u001b[34m│\u001b[0m \u001b[1;34m📊 Processing Input Data\u001b[0m                                                                                        \u001b[34m│\u001b[0m\n",
       "\u001b[34m│\u001b[0m \u001b[36mBlock Type: PromptBuilderBlock\u001b[0m                                                                                  \u001b[34m│\u001b[0m\n",
       "\u001b[34m│\u001b[0m \u001b[1;36mInput Rows: 50\u001b[0m                                                                                                  \u001b[34m│\u001b[0m\n",
       "\u001b[34m│\u001b[0m \u001b[36mInput Columns: 5\u001b[0m                                                                                                \u001b[34m│\u001b[0m\n",
       "\u001b[34m│\u001b[0m \u001b[37mColumn Names: Headline, Journalists, Date, Link, text\u001b[0m                                                           \u001b[34m│\u001b[0m\n",
       "\u001b[34m│\u001b[0m \u001b[32mExpected Output Columns: summary_prompt\u001b[0m                                                                         \u001b[34m│\u001b[0m\n",
       "\u001b[34m╰─────────────────────────────────────────────────────────────────────────────────────────────────────────────────╯\u001b[0m\n"
      ]
     },
     "metadata": {},
     "output_type": "display_data"
    },
    {
     "data": {
      "text/html": [
       "<pre style=\"white-space:pre;overflow-x:auto;line-height:normal;font-family:Menlo,'DejaVu Sans Mono',consolas,'Courier New',monospace\"><span style=\"color: #008000; text-decoration-color: #008000\">╭──────────────────────────────────────── </span><span style=\"color: #008000; text-decoration-color: #008000; font-weight: bold\">build_summary_prompt - Complete</span><span style=\"color: #008000; text-decoration-color: #008000\"> ────────────────────────────────────────╮</span>\n",
       "<span style=\"color: #008000; text-decoration-color: #008000\">│</span> <span style=\"color: #008000; text-decoration-color: #008000; font-weight: bold\">✅ Processing Complete</span>                                                                                          <span style=\"color: #008000; text-decoration-color: #008000\">│</span>\n",
       "<span style=\"color: #008000; text-decoration-color: #008000\">│</span> <span style=\"color: #008080; text-decoration-color: #008080\">Rows: 50 → 50</span>                                                                                                   <span style=\"color: #008000; text-decoration-color: #008000\">│</span>\n",
       "<span style=\"color: #008000; text-decoration-color: #008000\">│</span> <span style=\"color: #008080; text-decoration-color: #008080\">Columns: 5 → 6</span>                                                                                                  <span style=\"color: #008000; text-decoration-color: #008000\">│</span>\n",
       "<span style=\"color: #008000; text-decoration-color: #008000\">│</span> <span style=\"color: #008000; text-decoration-color: #008000\">🟢 Added: summary_prompt</span>                                                                                        <span style=\"color: #008000; text-decoration-color: #008000\">│</span>\n",
       "<span style=\"color: #008000; text-decoration-color: #008000\">│</span> <span style=\"color: #c0c0c0; text-decoration-color: #c0c0c0\">📋 Final Columns: Date, Headline, Journalists, Link, summary_prompt, text</span>                                       <span style=\"color: #008000; text-decoration-color: #008000\">│</span>\n",
       "<span style=\"color: #008000; text-decoration-color: #008000\">╰─────────────────────────────────────────────────────────────────────────────────────────────────────────────────╯</span>\n",
       "</pre>\n"
      ],
      "text/plain": [
       "\u001b[32m╭─\u001b[0m\u001b[32m───────────────────────────────────────\u001b[0m\u001b[32m \u001b[0m\u001b[1;32mbuild_summary_prompt - Complete\u001b[0m\u001b[32m \u001b[0m\u001b[32m───────────────────────────────────────\u001b[0m\u001b[32m─╮\u001b[0m\n",
       "\u001b[32m│\u001b[0m \u001b[1;32m✅ Processing Complete\u001b[0m                                                                                          \u001b[32m│\u001b[0m\n",
       "\u001b[32m│\u001b[0m \u001b[36mRows: 50 → 50\u001b[0m                                                                                                   \u001b[32m│\u001b[0m\n",
       "\u001b[32m│\u001b[0m \u001b[36mColumns: 5 → 6\u001b[0m                                                                                                  \u001b[32m│\u001b[0m\n",
       "\u001b[32m│\u001b[0m \u001b[32m🟢 Added: summary_prompt\u001b[0m                                                                                        \u001b[32m│\u001b[0m\n",
       "\u001b[32m│\u001b[0m \u001b[37m📋 Final Columns: Date, Headline, Journalists, Link, summary_prompt, text\u001b[0m                                       \u001b[32m│\u001b[0m\n",
       "\u001b[32m╰─────────────────────────────────────────────────────────────────────────────────────────────────────────────────╯\u001b[0m\n"
      ]
     },
     "metadata": {},
     "output_type": "display_data"
    },
    {
     "data": {
      "text/html": [
       "<pre style=\"white-space:pre;overflow-x:auto;line-height:normal;font-family:Menlo,'DejaVu Sans Mono',consolas,'Courier New',monospace\"><span style=\"color: #7fbfbf; text-decoration-color: #7fbfbf\">           </span><span style=\"color: #000080; text-decoration-color: #000080\">INFO    </span> Block <span style=\"color: #008000; text-decoration-color: #008000\">'build_summary_prompt'</span> completed successfully: <span style=\"color: #008080; text-decoration-color: #008080; font-weight: bold\">50</span> samples, <span style=\"color: #008080; text-decoration-color: #008080; font-weight: bold\">6</span> columns          <a href=\"file:///Users/shiv/workspace/sdg_hub/src/sdg_hub/core/flow/base.py\" target=\"_blank\"><span style=\"color: #7f7f7f; text-decoration-color: #7f7f7f\">base.py</span></a><span style=\"color: #7f7f7f; text-decoration-color: #7f7f7f\">:</span><a href=\"file:///Users/shiv/workspace/sdg_hub/src/sdg_hub/core/flow/base.py#732\" target=\"_blank\"><span style=\"color: #7f7f7f; text-decoration-color: #7f7f7f\">732</span></a>\n",
       "</pre>\n"
      ],
      "text/plain": [
       "\u001b[2;36m          \u001b[0m\u001b[2;36m \u001b[0m\u001b[34mINFO    \u001b[0m Block \u001b[32m'build_summary_prompt'\u001b[0m completed successfully: \u001b[1;36m50\u001b[0m samples, \u001b[1;36m6\u001b[0m columns          \u001b]8;id=727124;file:///Users/shiv/workspace/sdg_hub/src/sdg_hub/core/flow/base.py\u001b\\\u001b[2mbase.py\u001b[0m\u001b]8;;\u001b\\\u001b[2m:\u001b[0m\u001b]8;id=645743;file:///Users/shiv/workspace/sdg_hub/src/sdg_hub/core/flow/base.py#732\u001b\\\u001b[2m732\u001b[0m\u001b]8;;\u001b\\\n"
      ]
     },
     "metadata": {},
     "output_type": "display_data"
    },
    {
     "data": {
      "text/html": [
       "<pre style=\"white-space:pre;overflow-x:auto;line-height:normal;font-family:Menlo,'DejaVu Sans Mono',consolas,'Courier New',monospace\"><span style=\"color: #7fbfbf; text-decoration-color: #7fbfbf\">           </span><span style=\"color: #000080; text-decoration-color: #000080\">INFO    </span> Executing block <span style=\"color: #008080; text-decoration-color: #008080; font-weight: bold\">2</span>/<span style=\"color: #008080; text-decoration-color: #008080; font-weight: bold\">13</span>: generate_summary <span style=\"font-weight: bold\">(</span>LLMChatBlock<span style=\"font-weight: bold\">)</span>                               <a href=\"file:///Users/shiv/workspace/sdg_hub/src/sdg_hub/core/flow/base.py\" target=\"_blank\"><span style=\"color: #7f7f7f; text-decoration-color: #7f7f7f\">base.py</span></a><span style=\"color: #7f7f7f; text-decoration-color: #7f7f7f\">:</span><a href=\"file:///Users/shiv/workspace/sdg_hub/src/sdg_hub/core/flow/base.py#670\" target=\"_blank\"><span style=\"color: #7f7f7f; text-decoration-color: #7f7f7f\">670</span></a>\n",
       "</pre>\n"
      ],
      "text/plain": [
       "\u001b[2;36m          \u001b[0m\u001b[2;36m \u001b[0m\u001b[34mINFO    \u001b[0m Executing block \u001b[1;36m2\u001b[0m/\u001b[1;36m13\u001b[0m: generate_summary \u001b[1m(\u001b[0mLLMChatBlock\u001b[1m)\u001b[0m                               \u001b]8;id=217392;file:///Users/shiv/workspace/sdg_hub/src/sdg_hub/core/flow/base.py\u001b\\\u001b[2mbase.py\u001b[0m\u001b]8;;\u001b\\\u001b[2m:\u001b[0m\u001b]8;id=711112;file:///Users/shiv/workspace/sdg_hub/src/sdg_hub/core/flow/base.py#670\u001b\\\u001b[2m670\u001b[0m\u001b]8;;\u001b\\\n"
      ]
     },
     "metadata": {},
     "output_type": "display_data"
    },
    {
     "data": {
      "text/html": [
       "<pre style=\"white-space:pre;overflow-x:auto;line-height:normal;font-family:Menlo,'DejaVu Sans Mono',consolas,'Courier New',monospace\"><span style=\"color: #000080; text-decoration-color: #000080\">╭─────────────────────────────────────────────── </span><span style=\"color: #000080; text-decoration-color: #000080; font-weight: bold\">generate_summary</span><span style=\"color: #000080; text-decoration-color: #000080\"> ────────────────────────────────────────────────╮</span>\n",
       "<span style=\"color: #000080; text-decoration-color: #000080\">│</span> <span style=\"color: #000080; text-decoration-color: #000080; font-weight: bold\">📊 Processing Input Data</span>                                                                                        <span style=\"color: #000080; text-decoration-color: #000080\">│</span>\n",
       "<span style=\"color: #000080; text-decoration-color: #000080\">│</span> <span style=\"color: #008080; text-decoration-color: #008080\">Block Type: LLMChatBlock</span>                                                                                        <span style=\"color: #000080; text-decoration-color: #000080\">│</span>\n",
       "<span style=\"color: #000080; text-decoration-color: #000080\">│</span> <span style=\"color: #008080; text-decoration-color: #008080; font-weight: bold\">Input Rows: 50</span>                                                                                                  <span style=\"color: #000080; text-decoration-color: #000080\">│</span>\n",
       "<span style=\"color: #000080; text-decoration-color: #000080\">│</span> <span style=\"color: #008080; text-decoration-color: #008080\">Input Columns: 6</span>                                                                                                <span style=\"color: #000080; text-decoration-color: #000080\">│</span>\n",
       "<span style=\"color: #000080; text-decoration-color: #000080\">│</span> <span style=\"color: #c0c0c0; text-decoration-color: #c0c0c0\">Column Names: Headline, Journalists, Date, Link, text, summary_prompt</span>                                           <span style=\"color: #000080; text-decoration-color: #000080\">│</span>\n",
       "<span style=\"color: #000080; text-decoration-color: #000080\">│</span> <span style=\"color: #008000; text-decoration-color: #008000\">Expected Output Columns: raw_summary</span>                                                                            <span style=\"color: #000080; text-decoration-color: #000080\">│</span>\n",
       "<span style=\"color: #000080; text-decoration-color: #000080\">╰─────────────────────────────────────────────────────────────────────────────────────────────────────────────────╯</span>\n",
       "</pre>\n"
      ],
      "text/plain": [
       "\u001b[34m╭─\u001b[0m\u001b[34m──────────────────────────────────────────────\u001b[0m\u001b[34m \u001b[0m\u001b[1;34mgenerate_summary\u001b[0m\u001b[34m \u001b[0m\u001b[34m───────────────────────────────────────────────\u001b[0m\u001b[34m─╮\u001b[0m\n",
       "\u001b[34m│\u001b[0m \u001b[1;34m📊 Processing Input Data\u001b[0m                                                                                        \u001b[34m│\u001b[0m\n",
       "\u001b[34m│\u001b[0m \u001b[36mBlock Type: LLMChatBlock\u001b[0m                                                                                        \u001b[34m│\u001b[0m\n",
       "\u001b[34m│\u001b[0m \u001b[1;36mInput Rows: 50\u001b[0m                                                                                                  \u001b[34m│\u001b[0m\n",
       "\u001b[34m│\u001b[0m \u001b[36mInput Columns: 6\u001b[0m                                                                                                \u001b[34m│\u001b[0m\n",
       "\u001b[34m│\u001b[0m \u001b[37mColumn Names: Headline, Journalists, Date, Link, text, summary_prompt\u001b[0m                                           \u001b[34m│\u001b[0m\n",
       "\u001b[34m│\u001b[0m \u001b[32mExpected Output Columns: raw_summary\u001b[0m                                                                            \u001b[34m│\u001b[0m\n",
       "\u001b[34m╰─────────────────────────────────────────────────────────────────────────────────────────────────────────────────╯\u001b[0m\n"
      ]
     },
     "metadata": {},
     "output_type": "display_data"
    },
    {
     "data": {
      "text/html": [
       "<pre style=\"white-space:pre;overflow-x:auto;line-height:normal;font-family:Menlo,'DejaVu Sans Mono',consolas,'Courier New',monospace\"><span style=\"color: #7fbfbf; text-decoration-color: #7fbfbf\">[15:18:37] </span><span style=\"color: #000080; text-decoration-color: #000080\">INFO    </span> Starting async generation for <span style=\"color: #008080; text-decoration-color: #008080; font-weight: bold\">50</span> samples                                  <a href=\"file:///Users/shiv/workspace/sdg_hub/src/sdg_hub/core/blocks/llm/llm_chat_block.py\" target=\"_blank\"><span style=\"color: #7f7f7f; text-decoration-color: #7f7f7f\">llm_chat_block.py</span></a><span style=\"color: #7f7f7f; text-decoration-color: #7f7f7f\">:</span><a href=\"file:///Users/shiv/workspace/sdg_hub/src/sdg_hub/core/blocks/llm/llm_chat_block.py#329\" target=\"_blank\"><span style=\"color: #7f7f7f; text-decoration-color: #7f7f7f\">329</span></a>\n",
       "</pre>\n"
      ],
      "text/plain": [
       "\u001b[2;36m[15:18:37]\u001b[0m\u001b[2;36m \u001b[0m\u001b[34mINFO    \u001b[0m Starting async generation for \u001b[1;36m50\u001b[0m samples                                  \u001b]8;id=181713;file:///Users/shiv/workspace/sdg_hub/src/sdg_hub/core/blocks/llm/llm_chat_block.py\u001b\\\u001b[2mllm_chat_block.py\u001b[0m\u001b]8;;\u001b\\\u001b[2m:\u001b[0m\u001b]8;id=348522;file:///Users/shiv/workspace/sdg_hub/src/sdg_hub/core/blocks/llm/llm_chat_block.py#329\u001b\\\u001b[2m329\u001b[0m\u001b]8;;\u001b\\\n"
      ]
     },
     "metadata": {},
     "output_type": "display_data"
    },
    {
     "data": {
      "text/html": [
       "<pre style=\"white-space:pre;overflow-x:auto;line-height:normal;font-family:Menlo,'DejaVu Sans Mono',consolas,'Courier New',monospace\"><span style=\"color: #7fbfbf; text-decoration-color: #7fbfbf\">[15:18:38] </span><span style=\"color: #000080; text-decoration-color: #000080\">INFO    </span> Generation completed successfully for <span style=\"color: #008080; text-decoration-color: #008080; font-weight: bold\">50</span> samples                          <a href=\"file:///Users/shiv/workspace/sdg_hub/src/sdg_hub/core/blocks/llm/llm_chat_block.py\" target=\"_blank\"><span style=\"color: #7f7f7f; text-decoration-color: #7f7f7f\">llm_chat_block.py</span></a><span style=\"color: #7f7f7f; text-decoration-color: #7f7f7f\">:</span><a href=\"file:///Users/shiv/workspace/sdg_hub/src/sdg_hub/core/blocks/llm/llm_chat_block.py#393\" target=\"_blank\"><span style=\"color: #7f7f7f; text-decoration-color: #7f7f7f\">393</span></a>\n",
       "</pre>\n"
      ],
      "text/plain": [
       "\u001b[2;36m[15:18:38]\u001b[0m\u001b[2;36m \u001b[0m\u001b[34mINFO    \u001b[0m Generation completed successfully for \u001b[1;36m50\u001b[0m samples                          \u001b]8;id=515293;file:///Users/shiv/workspace/sdg_hub/src/sdg_hub/core/blocks/llm/llm_chat_block.py\u001b\\\u001b[2mllm_chat_block.py\u001b[0m\u001b]8;;\u001b\\\u001b[2m:\u001b[0m\u001b]8;id=788087;file:///Users/shiv/workspace/sdg_hub/src/sdg_hub/core/blocks/llm/llm_chat_block.py#393\u001b\\\u001b[2m393\u001b[0m\u001b]8;;\u001b\\\n"
      ]
     },
     "metadata": {},
     "output_type": "display_data"
    },
    {
     "data": {
      "text/html": [
       "<pre style=\"white-space:pre;overflow-x:auto;line-height:normal;font-family:Menlo,'DejaVu Sans Mono',consolas,'Courier New',monospace\"><span style=\"color: #008000; text-decoration-color: #008000\">╭────────────────────────────────────────── </span><span style=\"color: #008000; text-decoration-color: #008000; font-weight: bold\">generate_summary - Complete</span><span style=\"color: #008000; text-decoration-color: #008000\"> ──────────────────────────────────────────╮</span>\n",
       "<span style=\"color: #008000; text-decoration-color: #008000\">│</span> <span style=\"color: #008000; text-decoration-color: #008000; font-weight: bold\">✅ Processing Complete</span>                                                                                          <span style=\"color: #008000; text-decoration-color: #008000\">│</span>\n",
       "<span style=\"color: #008000; text-decoration-color: #008000\">│</span> <span style=\"color: #008080; text-decoration-color: #008080\">Rows: 50 → 50</span>                                                                                                   <span style=\"color: #008000; text-decoration-color: #008000\">│</span>\n",
       "<span style=\"color: #008000; text-decoration-color: #008000\">│</span> <span style=\"color: #008080; text-decoration-color: #008080\">Columns: 6 → 7</span>                                                                                                  <span style=\"color: #008000; text-decoration-color: #008000\">│</span>\n",
       "<span style=\"color: #008000; text-decoration-color: #008000\">│</span> <span style=\"color: #008000; text-decoration-color: #008000\">🟢 Added: raw_summary</span>                                                                                           <span style=\"color: #008000; text-decoration-color: #008000\">│</span>\n",
       "<span style=\"color: #008000; text-decoration-color: #008000\">│</span> <span style=\"color: #c0c0c0; text-decoration-color: #c0c0c0\">📋 Final Columns: Date, Headline, Journalists, Link, raw_summary, summary_prompt, text</span>                          <span style=\"color: #008000; text-decoration-color: #008000\">│</span>\n",
       "<span style=\"color: #008000; text-decoration-color: #008000\">╰─────────────────────────────────────────────────────────────────────────────────────────────────────────────────╯</span>\n",
       "</pre>\n"
      ],
      "text/plain": [
       "\u001b[32m╭─\u001b[0m\u001b[32m─────────────────────────────────────────\u001b[0m\u001b[32m \u001b[0m\u001b[1;32mgenerate_summary - Complete\u001b[0m\u001b[32m \u001b[0m\u001b[32m─────────────────────────────────────────\u001b[0m\u001b[32m─╮\u001b[0m\n",
       "\u001b[32m│\u001b[0m \u001b[1;32m✅ Processing Complete\u001b[0m                                                                                          \u001b[32m│\u001b[0m\n",
       "\u001b[32m│\u001b[0m \u001b[36mRows: 50 → 50\u001b[0m                                                                                                   \u001b[32m│\u001b[0m\n",
       "\u001b[32m│\u001b[0m \u001b[36mColumns: 6 → 7\u001b[0m                                                                                                  \u001b[32m│\u001b[0m\n",
       "\u001b[32m│\u001b[0m \u001b[32m🟢 Added: raw_summary\u001b[0m                                                                                           \u001b[32m│\u001b[0m\n",
       "\u001b[32m│\u001b[0m \u001b[37m📋 Final Columns: Date, Headline, Journalists, Link, raw_summary, summary_prompt, text\u001b[0m                          \u001b[32m│\u001b[0m\n",
       "\u001b[32m╰─────────────────────────────────────────────────────────────────────────────────────────────────────────────────╯\u001b[0m\n"
      ]
     },
     "metadata": {},
     "output_type": "display_data"
    },
    {
     "data": {
      "text/html": [
       "<pre style=\"white-space:pre;overflow-x:auto;line-height:normal;font-family:Menlo,'DejaVu Sans Mono',consolas,'Courier New',monospace\"><span style=\"color: #7fbfbf; text-decoration-color: #7fbfbf\">[15:18:38] </span><span style=\"color: #000080; text-decoration-color: #000080\">INFO    </span> Block <span style=\"color: #008000; text-decoration-color: #008000\">'generate_summary'</span> completed successfully: <span style=\"color: #008080; text-decoration-color: #008080; font-weight: bold\">50</span> samples, <span style=\"color: #008080; text-decoration-color: #008080; font-weight: bold\">7</span> columns              <a href=\"file:///Users/shiv/workspace/sdg_hub/src/sdg_hub/core/flow/base.py\" target=\"_blank\"><span style=\"color: #7f7f7f; text-decoration-color: #7f7f7f\">base.py</span></a><span style=\"color: #7f7f7f; text-decoration-color: #7f7f7f\">:</span><a href=\"file:///Users/shiv/workspace/sdg_hub/src/sdg_hub/core/flow/base.py#732\" target=\"_blank\"><span style=\"color: #7f7f7f; text-decoration-color: #7f7f7f\">732</span></a>\n",
       "</pre>\n"
      ],
      "text/plain": [
       "\u001b[2;36m[15:18:38]\u001b[0m\u001b[2;36m \u001b[0m\u001b[34mINFO    \u001b[0m Block \u001b[32m'generate_summary'\u001b[0m completed successfully: \u001b[1;36m50\u001b[0m samples, \u001b[1;36m7\u001b[0m columns              \u001b]8;id=60627;file:///Users/shiv/workspace/sdg_hub/src/sdg_hub/core/flow/base.py\u001b\\\u001b[2mbase.py\u001b[0m\u001b]8;;\u001b\\\u001b[2m:\u001b[0m\u001b]8;id=410854;file:///Users/shiv/workspace/sdg_hub/src/sdg_hub/core/flow/base.py#732\u001b\\\u001b[2m732\u001b[0m\u001b]8;;\u001b\\\n"
      ]
     },
     "metadata": {},
     "output_type": "display_data"
    },
    {
     "data": {
      "text/html": [
       "<pre style=\"white-space:pre;overflow-x:auto;line-height:normal;font-family:Menlo,'DejaVu Sans Mono',consolas,'Courier New',monospace\"><span style=\"color: #7fbfbf; text-decoration-color: #7fbfbf\">           </span><span style=\"color: #000080; text-decoration-color: #000080\">INFO    </span> Executing block <span style=\"color: #008080; text-decoration-color: #008080; font-weight: bold\">3</span>/<span style=\"color: #008080; text-decoration-color: #008080; font-weight: bold\">13</span>: parse_summary <span style=\"font-weight: bold\">(</span>TextParserBlock<span style=\"font-weight: bold\">)</span>                               <a href=\"file:///Users/shiv/workspace/sdg_hub/src/sdg_hub/core/flow/base.py\" target=\"_blank\"><span style=\"color: #7f7f7f; text-decoration-color: #7f7f7f\">base.py</span></a><span style=\"color: #7f7f7f; text-decoration-color: #7f7f7f\">:</span><a href=\"file:///Users/shiv/workspace/sdg_hub/src/sdg_hub/core/flow/base.py#670\" target=\"_blank\"><span style=\"color: #7f7f7f; text-decoration-color: #7f7f7f\">670</span></a>\n",
       "</pre>\n"
      ],
      "text/plain": [
       "\u001b[2;36m          \u001b[0m\u001b[2;36m \u001b[0m\u001b[34mINFO    \u001b[0m Executing block \u001b[1;36m3\u001b[0m/\u001b[1;36m13\u001b[0m: parse_summary \u001b[1m(\u001b[0mTextParserBlock\u001b[1m)\u001b[0m                               \u001b]8;id=504819;file:///Users/shiv/workspace/sdg_hub/src/sdg_hub/core/flow/base.py\u001b\\\u001b[2mbase.py\u001b[0m\u001b]8;;\u001b\\\u001b[2m:\u001b[0m\u001b]8;id=689582;file:///Users/shiv/workspace/sdg_hub/src/sdg_hub/core/flow/base.py#670\u001b\\\u001b[2m670\u001b[0m\u001b]8;;\u001b\\\n"
      ]
     },
     "metadata": {},
     "output_type": "display_data"
    },
    {
     "data": {
      "text/html": [
       "<pre style=\"white-space:pre;overflow-x:auto;line-height:normal;font-family:Menlo,'DejaVu Sans Mono',consolas,'Courier New',monospace\"><span style=\"color: #000080; text-decoration-color: #000080\">╭───────────────────────────────────────────────── </span><span style=\"color: #000080; text-decoration-color: #000080; font-weight: bold\">parse_summary</span><span style=\"color: #000080; text-decoration-color: #000080\"> ─────────────────────────────────────────────────╮</span>\n",
       "<span style=\"color: #000080; text-decoration-color: #000080\">│</span> <span style=\"color: #000080; text-decoration-color: #000080; font-weight: bold\">📊 Processing Input Data</span>                                                                                        <span style=\"color: #000080; text-decoration-color: #000080\">│</span>\n",
       "<span style=\"color: #000080; text-decoration-color: #000080\">│</span> <span style=\"color: #008080; text-decoration-color: #008080\">Block Type: TextParserBlock</span>                                                                                     <span style=\"color: #000080; text-decoration-color: #000080\">│</span>\n",
       "<span style=\"color: #000080; text-decoration-color: #000080\">│</span> <span style=\"color: #008080; text-decoration-color: #008080; font-weight: bold\">Input Rows: 50</span>                                                                                                  <span style=\"color: #000080; text-decoration-color: #000080\">│</span>\n",
       "<span style=\"color: #000080; text-decoration-color: #000080\">│</span> <span style=\"color: #008080; text-decoration-color: #008080\">Input Columns: 7</span>                                                                                                <span style=\"color: #000080; text-decoration-color: #000080\">│</span>\n",
       "<span style=\"color: #000080; text-decoration-color: #000080\">│</span> <span style=\"color: #c0c0c0; text-decoration-color: #c0c0c0\">Column Names: Headline, Journalists, Date, Link, text, summary_prompt, raw_summary</span>                              <span style=\"color: #000080; text-decoration-color: #000080\">│</span>\n",
       "<span style=\"color: #000080; text-decoration-color: #000080\">│</span> <span style=\"color: #008000; text-decoration-color: #008000\">Expected Output Columns: summary</span>                                                                                <span style=\"color: #000080; text-decoration-color: #000080\">│</span>\n",
       "<span style=\"color: #000080; text-decoration-color: #000080\">╰─────────────────────────────────────────────────────────────────────────────────────────────────────────────────╯</span>\n",
       "</pre>\n"
      ],
      "text/plain": [
       "\u001b[34m╭─\u001b[0m\u001b[34m────────────────────────────────────────────────\u001b[0m\u001b[34m \u001b[0m\u001b[1;34mparse_summary\u001b[0m\u001b[34m \u001b[0m\u001b[34m────────────────────────────────────────────────\u001b[0m\u001b[34m─╮\u001b[0m\n",
       "\u001b[34m│\u001b[0m \u001b[1;34m📊 Processing Input Data\u001b[0m                                                                                        \u001b[34m│\u001b[0m\n",
       "\u001b[34m│\u001b[0m \u001b[36mBlock Type: TextParserBlock\u001b[0m                                                                                     \u001b[34m│\u001b[0m\n",
       "\u001b[34m│\u001b[0m \u001b[1;36mInput Rows: 50\u001b[0m                                                                                                  \u001b[34m│\u001b[0m\n",
       "\u001b[34m│\u001b[0m \u001b[36mInput Columns: 7\u001b[0m                                                                                                \u001b[34m│\u001b[0m\n",
       "\u001b[34m│\u001b[0m \u001b[37mColumn Names: Headline, Journalists, Date, Link, text, summary_prompt, raw_summary\u001b[0m                              \u001b[34m│\u001b[0m\n",
       "\u001b[34m│\u001b[0m \u001b[32mExpected Output Columns: summary\u001b[0m                                                                                \u001b[34m│\u001b[0m\n",
       "\u001b[34m╰─────────────────────────────────────────────────────────────────────────────────────────────────────────────────╯\u001b[0m\n"
      ]
     },
     "metadata": {},
     "output_type": "display_data"
    },
    {
     "data": {
      "text/html": [
       "<pre style=\"white-space:pre;overflow-x:auto;line-height:normal;font-family:Menlo,'DejaVu Sans Mono',consolas,'Courier New',monospace\"><span style=\"color: #008000; text-decoration-color: #008000\">╭─────────────────────────────────────────── </span><span style=\"color: #008000; text-decoration-color: #008000; font-weight: bold\">parse_summary - Complete</span><span style=\"color: #008000; text-decoration-color: #008000\"> ────────────────────────────────────────────╮</span>\n",
       "<span style=\"color: #008000; text-decoration-color: #008000\">│</span> <span style=\"color: #008000; text-decoration-color: #008000; font-weight: bold\">✅ Processing Complete</span>                                                                                          <span style=\"color: #008000; text-decoration-color: #008000\">│</span>\n",
       "<span style=\"color: #008000; text-decoration-color: #008000\">│</span> <span style=\"color: #008080; text-decoration-color: #008080\">Rows: 50 → 50</span>                                                                                                   <span style=\"color: #008000; text-decoration-color: #008000\">│</span>\n",
       "<span style=\"color: #008000; text-decoration-color: #008000\">│</span> <span style=\"color: #008080; text-decoration-color: #008080\">Columns: 7 → 8</span>                                                                                                  <span style=\"color: #008000; text-decoration-color: #008000\">│</span>\n",
       "<span style=\"color: #008000; text-decoration-color: #008000\">│</span> <span style=\"color: #008000; text-decoration-color: #008000\">🟢 Added: summary</span>                                                                                               <span style=\"color: #008000; text-decoration-color: #008000\">│</span>\n",
       "<span style=\"color: #008000; text-decoration-color: #008000\">│</span> <span style=\"color: #c0c0c0; text-decoration-color: #c0c0c0\">📋 Final Columns: Date, Headline, Journalists, Link, raw_summary, summary, summary_prompt, text</span>                 <span style=\"color: #008000; text-decoration-color: #008000\">│</span>\n",
       "<span style=\"color: #008000; text-decoration-color: #008000\">╰─────────────────────────────────────────────────────────────────────────────────────────────────────────────────╯</span>\n",
       "</pre>\n"
      ],
      "text/plain": [
       "\u001b[32m╭─\u001b[0m\u001b[32m──────────────────────────────────────────\u001b[0m\u001b[32m \u001b[0m\u001b[1;32mparse_summary - Complete\u001b[0m\u001b[32m \u001b[0m\u001b[32m───────────────────────────────────────────\u001b[0m\u001b[32m─╮\u001b[0m\n",
       "\u001b[32m│\u001b[0m \u001b[1;32m✅ Processing Complete\u001b[0m                                                                                          \u001b[32m│\u001b[0m\n",
       "\u001b[32m│\u001b[0m \u001b[36mRows: 50 → 50\u001b[0m                                                                                                   \u001b[32m│\u001b[0m\n",
       "\u001b[32m│\u001b[0m \u001b[36mColumns: 7 → 8\u001b[0m                                                                                                  \u001b[32m│\u001b[0m\n",
       "\u001b[32m│\u001b[0m \u001b[32m🟢 Added: summary\u001b[0m                                                                                               \u001b[32m│\u001b[0m\n",
       "\u001b[32m│\u001b[0m \u001b[37m📋 Final Columns: Date, Headline, Journalists, Link, raw_summary, summary, summary_prompt, text\u001b[0m                 \u001b[32m│\u001b[0m\n",
       "\u001b[32m╰─────────────────────────────────────────────────────────────────────────────────────────────────────────────────╯\u001b[0m\n"
      ]
     },
     "metadata": {},
     "output_type": "display_data"
    },
    {
     "data": {
      "text/html": [
       "<pre style=\"white-space:pre;overflow-x:auto;line-height:normal;font-family:Menlo,'DejaVu Sans Mono',consolas,'Courier New',monospace\"><span style=\"color: #7fbfbf; text-decoration-color: #7fbfbf\">           </span><span style=\"color: #000080; text-decoration-color: #000080\">INFO    </span> Block <span style=\"color: #008000; text-decoration-color: #008000\">'parse_summary'</span> completed successfully: <span style=\"color: #008080; text-decoration-color: #008080; font-weight: bold\">50</span> samples, <span style=\"color: #008080; text-decoration-color: #008080; font-weight: bold\">8</span> columns                 <a href=\"file:///Users/shiv/workspace/sdg_hub/src/sdg_hub/core/flow/base.py\" target=\"_blank\"><span style=\"color: #7f7f7f; text-decoration-color: #7f7f7f\">base.py</span></a><span style=\"color: #7f7f7f; text-decoration-color: #7f7f7f\">:</span><a href=\"file:///Users/shiv/workspace/sdg_hub/src/sdg_hub/core/flow/base.py#732\" target=\"_blank\"><span style=\"color: #7f7f7f; text-decoration-color: #7f7f7f\">732</span></a>\n",
       "</pre>\n"
      ],
      "text/plain": [
       "\u001b[2;36m          \u001b[0m\u001b[2;36m \u001b[0m\u001b[34mINFO    \u001b[0m Block \u001b[32m'parse_summary'\u001b[0m completed successfully: \u001b[1;36m50\u001b[0m samples, \u001b[1;36m8\u001b[0m columns                 \u001b]8;id=692878;file:///Users/shiv/workspace/sdg_hub/src/sdg_hub/core/flow/base.py\u001b\\\u001b[2mbase.py\u001b[0m\u001b]8;;\u001b\\\u001b[2m:\u001b[0m\u001b]8;id=852221;file:///Users/shiv/workspace/sdg_hub/src/sdg_hub/core/flow/base.py#732\u001b\\\u001b[2m732\u001b[0m\u001b]8;;\u001b\\\n"
      ]
     },
     "metadata": {},
     "output_type": "display_data"
    },
    {
     "data": {
      "text/html": [
       "<pre style=\"white-space:pre;overflow-x:auto;line-height:normal;font-family:Menlo,'DejaVu Sans Mono',consolas,'Courier New',monospace\"><span style=\"color: #7fbfbf; text-decoration-color: #7fbfbf\">           </span><span style=\"color: #000080; text-decoration-color: #000080\">INFO    </span> Executing block <span style=\"color: #008080; text-decoration-color: #008080; font-weight: bold\">4</span>/<span style=\"color: #008080; text-decoration-color: #008080; font-weight: bold\">13</span>: build_keywords_prompt <span style=\"font-weight: bold\">(</span>PromptBuilderBlock<span style=\"font-weight: bold\">)</span>                    <a href=\"file:///Users/shiv/workspace/sdg_hub/src/sdg_hub/core/flow/base.py\" target=\"_blank\"><span style=\"color: #7f7f7f; text-decoration-color: #7f7f7f\">base.py</span></a><span style=\"color: #7f7f7f; text-decoration-color: #7f7f7f\">:</span><a href=\"file:///Users/shiv/workspace/sdg_hub/src/sdg_hub/core/flow/base.py#670\" target=\"_blank\"><span style=\"color: #7f7f7f; text-decoration-color: #7f7f7f\">670</span></a>\n",
       "</pre>\n"
      ],
      "text/plain": [
       "\u001b[2;36m          \u001b[0m\u001b[2;36m \u001b[0m\u001b[34mINFO    \u001b[0m Executing block \u001b[1;36m4\u001b[0m/\u001b[1;36m13\u001b[0m: build_keywords_prompt \u001b[1m(\u001b[0mPromptBuilderBlock\u001b[1m)\u001b[0m                    \u001b]8;id=882457;file:///Users/shiv/workspace/sdg_hub/src/sdg_hub/core/flow/base.py\u001b\\\u001b[2mbase.py\u001b[0m\u001b]8;;\u001b\\\u001b[2m:\u001b[0m\u001b]8;id=647798;file:///Users/shiv/workspace/sdg_hub/src/sdg_hub/core/flow/base.py#670\u001b\\\u001b[2m670\u001b[0m\u001b]8;;\u001b\\\n"
      ]
     },
     "metadata": {},
     "output_type": "display_data"
    },
    {
     "data": {
      "text/html": [
       "<pre style=\"white-space:pre;overflow-x:auto;line-height:normal;font-family:Menlo,'DejaVu Sans Mono',consolas,'Courier New',monospace\"><span style=\"color: #000080; text-decoration-color: #000080\">╭───────────────────────────────────────────── </span><span style=\"color: #000080; text-decoration-color: #000080; font-weight: bold\">build_keywords_prompt</span><span style=\"color: #000080; text-decoration-color: #000080\"> ─────────────────────────────────────────────╮</span>\n",
       "<span style=\"color: #000080; text-decoration-color: #000080\">│</span> <span style=\"color: #000080; text-decoration-color: #000080; font-weight: bold\">📊 Processing Input Data</span>                                                                                        <span style=\"color: #000080; text-decoration-color: #000080\">│</span>\n",
       "<span style=\"color: #000080; text-decoration-color: #000080\">│</span> <span style=\"color: #008080; text-decoration-color: #008080\">Block Type: PromptBuilderBlock</span>                                                                                  <span style=\"color: #000080; text-decoration-color: #000080\">│</span>\n",
       "<span style=\"color: #000080; text-decoration-color: #000080\">│</span> <span style=\"color: #008080; text-decoration-color: #008080; font-weight: bold\">Input Rows: 50</span>                                                                                                  <span style=\"color: #000080; text-decoration-color: #000080\">│</span>\n",
       "<span style=\"color: #000080; text-decoration-color: #000080\">│</span> <span style=\"color: #008080; text-decoration-color: #008080\">Input Columns: 8</span>                                                                                                <span style=\"color: #000080; text-decoration-color: #000080\">│</span>\n",
       "<span style=\"color: #000080; text-decoration-color: #000080\">│</span> <span style=\"color: #c0c0c0; text-decoration-color: #c0c0c0\">Column Names: Headline, Journalists, Date, Link, text, summary_prompt, raw_summary, summary</span>                     <span style=\"color: #000080; text-decoration-color: #000080\">│</span>\n",
       "<span style=\"color: #000080; text-decoration-color: #000080\">│</span> <span style=\"color: #008000; text-decoration-color: #008000\">Expected Output Columns: keywords_prompt</span>                                                                        <span style=\"color: #000080; text-decoration-color: #000080\">│</span>\n",
       "<span style=\"color: #000080; text-decoration-color: #000080\">╰─────────────────────────────────────────────────────────────────────────────────────────────────────────────────╯</span>\n",
       "</pre>\n"
      ],
      "text/plain": [
       "\u001b[34m╭─\u001b[0m\u001b[34m────────────────────────────────────────────\u001b[0m\u001b[34m \u001b[0m\u001b[1;34mbuild_keywords_prompt\u001b[0m\u001b[34m \u001b[0m\u001b[34m────────────────────────────────────────────\u001b[0m\u001b[34m─╮\u001b[0m\n",
       "\u001b[34m│\u001b[0m \u001b[1;34m📊 Processing Input Data\u001b[0m                                                                                        \u001b[34m│\u001b[0m\n",
       "\u001b[34m│\u001b[0m \u001b[36mBlock Type: PromptBuilderBlock\u001b[0m                                                                                  \u001b[34m│\u001b[0m\n",
       "\u001b[34m│\u001b[0m \u001b[1;36mInput Rows: 50\u001b[0m                                                                                                  \u001b[34m│\u001b[0m\n",
       "\u001b[34m│\u001b[0m \u001b[36mInput Columns: 8\u001b[0m                                                                                                \u001b[34m│\u001b[0m\n",
       "\u001b[34m│\u001b[0m \u001b[37mColumn Names: Headline, Journalists, Date, Link, text, summary_prompt, raw_summary, summary\u001b[0m                     \u001b[34m│\u001b[0m\n",
       "\u001b[34m│\u001b[0m \u001b[32mExpected Output Columns: keywords_prompt\u001b[0m                                                                        \u001b[34m│\u001b[0m\n",
       "\u001b[34m╰─────────────────────────────────────────────────────────────────────────────────────────────────────────────────╯\u001b[0m\n"
      ]
     },
     "metadata": {},
     "output_type": "display_data"
    },
    {
     "name": "stderr",
     "output_type": "stream",
     "text": [
      "Map: 100%|██████████| 50/50 [00:00<00:00, 5957.99 examples/s]\n"
     ]
    },
    {
     "data": {
      "text/html": [
       "<pre style=\"white-space:pre;overflow-x:auto;line-height:normal;font-family:Menlo,'DejaVu Sans Mono',consolas,'Courier New',monospace\"><span style=\"color: #008000; text-decoration-color: #008000\">╭─────────────────────────────────────── </span><span style=\"color: #008000; text-decoration-color: #008000; font-weight: bold\">build_keywords_prompt - Complete</span><span style=\"color: #008000; text-decoration-color: #008000\"> ────────────────────────────────────────╮</span>\n",
       "<span style=\"color: #008000; text-decoration-color: #008000\">│</span> <span style=\"color: #008000; text-decoration-color: #008000; font-weight: bold\">✅ Processing Complete</span>                                                                                          <span style=\"color: #008000; text-decoration-color: #008000\">│</span>\n",
       "<span style=\"color: #008000; text-decoration-color: #008000\">│</span> <span style=\"color: #008080; text-decoration-color: #008080\">Rows: 50 → 50</span>                                                                                                   <span style=\"color: #008000; text-decoration-color: #008000\">│</span>\n",
       "<span style=\"color: #008000; text-decoration-color: #008000\">│</span> <span style=\"color: #008080; text-decoration-color: #008080\">Columns: 8 → 9</span>                                                                                                  <span style=\"color: #008000; text-decoration-color: #008000\">│</span>\n",
       "<span style=\"color: #008000; text-decoration-color: #008000\">│</span> <span style=\"color: #008000; text-decoration-color: #008000\">🟢 Added: keywords_prompt</span>                                                                                       <span style=\"color: #008000; text-decoration-color: #008000\">│</span>\n",
       "<span style=\"color: #008000; text-decoration-color: #008000\">│</span> <span style=\"color: #c0c0c0; text-decoration-color: #c0c0c0\">📋 Final Columns: Date, Headline, Journalists, Link, keywords_prompt, raw_summary, summary, summary_prompt, </span>    <span style=\"color: #008000; text-decoration-color: #008000\">│</span>\n",
       "<span style=\"color: #008000; text-decoration-color: #008000\">│</span> <span style=\"color: #c0c0c0; text-decoration-color: #c0c0c0\">text</span>                                                                                                            <span style=\"color: #008000; text-decoration-color: #008000\">│</span>\n",
       "<span style=\"color: #008000; text-decoration-color: #008000\">╰─────────────────────────────────────────────────────────────────────────────────────────────────────────────────╯</span>\n",
       "</pre>\n"
      ],
      "text/plain": [
       "\u001b[32m╭─\u001b[0m\u001b[32m──────────────────────────────────────\u001b[0m\u001b[32m \u001b[0m\u001b[1;32mbuild_keywords_prompt - Complete\u001b[0m\u001b[32m \u001b[0m\u001b[32m───────────────────────────────────────\u001b[0m\u001b[32m─╮\u001b[0m\n",
       "\u001b[32m│\u001b[0m \u001b[1;32m✅ Processing Complete\u001b[0m                                                                                          \u001b[32m│\u001b[0m\n",
       "\u001b[32m│\u001b[0m \u001b[36mRows: 50 → 50\u001b[0m                                                                                                   \u001b[32m│\u001b[0m\n",
       "\u001b[32m│\u001b[0m \u001b[36mColumns: 8 → 9\u001b[0m                                                                                                  \u001b[32m│\u001b[0m\n",
       "\u001b[32m│\u001b[0m \u001b[32m🟢 Added: keywords_prompt\u001b[0m                                                                                       \u001b[32m│\u001b[0m\n",
       "\u001b[32m│\u001b[0m \u001b[37m📋 Final Columns: Date, Headline, Journalists, Link, keywords_prompt, raw_summary, summary, summary_prompt, \u001b[0m    \u001b[32m│\u001b[0m\n",
       "\u001b[32m│\u001b[0m \u001b[37mtext\u001b[0m                                                                                                            \u001b[32m│\u001b[0m\n",
       "\u001b[32m╰─────────────────────────────────────────────────────────────────────────────────────────────────────────────────╯\u001b[0m\n"
      ]
     },
     "metadata": {},
     "output_type": "display_data"
    },
    {
     "data": {
      "text/html": [
       "<pre style=\"white-space:pre;overflow-x:auto;line-height:normal;font-family:Menlo,'DejaVu Sans Mono',consolas,'Courier New',monospace\"><span style=\"color: #7fbfbf; text-decoration-color: #7fbfbf\">           </span><span style=\"color: #000080; text-decoration-color: #000080\">INFO    </span> Block <span style=\"color: #008000; text-decoration-color: #008000\">'build_keywords_prompt'</span> completed successfully: <span style=\"color: #008080; text-decoration-color: #008080; font-weight: bold\">50</span> samples, <span style=\"color: #008080; text-decoration-color: #008080; font-weight: bold\">9</span> columns         <a href=\"file:///Users/shiv/workspace/sdg_hub/src/sdg_hub/core/flow/base.py\" target=\"_blank\"><span style=\"color: #7f7f7f; text-decoration-color: #7f7f7f\">base.py</span></a><span style=\"color: #7f7f7f; text-decoration-color: #7f7f7f\">:</span><a href=\"file:///Users/shiv/workspace/sdg_hub/src/sdg_hub/core/flow/base.py#732\" target=\"_blank\"><span style=\"color: #7f7f7f; text-decoration-color: #7f7f7f\">732</span></a>\n",
       "</pre>\n"
      ],
      "text/plain": [
       "\u001b[2;36m          \u001b[0m\u001b[2;36m \u001b[0m\u001b[34mINFO    \u001b[0m Block \u001b[32m'build_keywords_prompt'\u001b[0m completed successfully: \u001b[1;36m50\u001b[0m samples, \u001b[1;36m9\u001b[0m columns         \u001b]8;id=808708;file:///Users/shiv/workspace/sdg_hub/src/sdg_hub/core/flow/base.py\u001b\\\u001b[2mbase.py\u001b[0m\u001b]8;;\u001b\\\u001b[2m:\u001b[0m\u001b]8;id=858935;file:///Users/shiv/workspace/sdg_hub/src/sdg_hub/core/flow/base.py#732\u001b\\\u001b[2m732\u001b[0m\u001b]8;;\u001b\\\n"
      ]
     },
     "metadata": {},
     "output_type": "display_data"
    },
    {
     "data": {
      "text/html": [
       "<pre style=\"white-space:pre;overflow-x:auto;line-height:normal;font-family:Menlo,'DejaVu Sans Mono',consolas,'Courier New',monospace\"><span style=\"color: #7fbfbf; text-decoration-color: #7fbfbf\">           </span><span style=\"color: #000080; text-decoration-color: #000080\">INFO    </span> Executing block <span style=\"color: #008080; text-decoration-color: #008080; font-weight: bold\">5</span>/<span style=\"color: #008080; text-decoration-color: #008080; font-weight: bold\">13</span>: generate_keywords <span style=\"font-weight: bold\">(</span>LLMChatBlock<span style=\"font-weight: bold\">)</span>                              <a href=\"file:///Users/shiv/workspace/sdg_hub/src/sdg_hub/core/flow/base.py\" target=\"_blank\"><span style=\"color: #7f7f7f; text-decoration-color: #7f7f7f\">base.py</span></a><span style=\"color: #7f7f7f; text-decoration-color: #7f7f7f\">:</span><a href=\"file:///Users/shiv/workspace/sdg_hub/src/sdg_hub/core/flow/base.py#670\" target=\"_blank\"><span style=\"color: #7f7f7f; text-decoration-color: #7f7f7f\">670</span></a>\n",
       "</pre>\n"
      ],
      "text/plain": [
       "\u001b[2;36m          \u001b[0m\u001b[2;36m \u001b[0m\u001b[34mINFO    \u001b[0m Executing block \u001b[1;36m5\u001b[0m/\u001b[1;36m13\u001b[0m: generate_keywords \u001b[1m(\u001b[0mLLMChatBlock\u001b[1m)\u001b[0m                              \u001b]8;id=878608;file:///Users/shiv/workspace/sdg_hub/src/sdg_hub/core/flow/base.py\u001b\\\u001b[2mbase.py\u001b[0m\u001b]8;;\u001b\\\u001b[2m:\u001b[0m\u001b]8;id=551355;file:///Users/shiv/workspace/sdg_hub/src/sdg_hub/core/flow/base.py#670\u001b\\\u001b[2m670\u001b[0m\u001b]8;;\u001b\\\n"
      ]
     },
     "metadata": {},
     "output_type": "display_data"
    },
    {
     "data": {
      "text/html": [
       "<pre style=\"white-space:pre;overflow-x:auto;line-height:normal;font-family:Menlo,'DejaVu Sans Mono',consolas,'Courier New',monospace\"><span style=\"color: #000080; text-decoration-color: #000080\">╭─────────────────────────────────────────────── </span><span style=\"color: #000080; text-decoration-color: #000080; font-weight: bold\">generate_keywords</span><span style=\"color: #000080; text-decoration-color: #000080\"> ───────────────────────────────────────────────╮</span>\n",
       "<span style=\"color: #000080; text-decoration-color: #000080\">│</span> <span style=\"color: #000080; text-decoration-color: #000080; font-weight: bold\">📊 Processing Input Data</span>                                                                                        <span style=\"color: #000080; text-decoration-color: #000080\">│</span>\n",
       "<span style=\"color: #000080; text-decoration-color: #000080\">│</span> <span style=\"color: #008080; text-decoration-color: #008080\">Block Type: LLMChatBlock</span>                                                                                        <span style=\"color: #000080; text-decoration-color: #000080\">│</span>\n",
       "<span style=\"color: #000080; text-decoration-color: #000080\">│</span> <span style=\"color: #008080; text-decoration-color: #008080; font-weight: bold\">Input Rows: 50</span>                                                                                                  <span style=\"color: #000080; text-decoration-color: #000080\">│</span>\n",
       "<span style=\"color: #000080; text-decoration-color: #000080\">│</span> <span style=\"color: #008080; text-decoration-color: #008080\">Input Columns: 9</span>                                                                                                <span style=\"color: #000080; text-decoration-color: #000080\">│</span>\n",
       "<span style=\"color: #000080; text-decoration-color: #000080\">│</span> <span style=\"color: #c0c0c0; text-decoration-color: #c0c0c0\">Column Names: Headline, Journalists, Date, Link, text, summary_prompt, raw_summary, summary, keywords_prompt</span>    <span style=\"color: #000080; text-decoration-color: #000080\">│</span>\n",
       "<span style=\"color: #000080; text-decoration-color: #000080\">│</span> <span style=\"color: #008000; text-decoration-color: #008000\">Expected Output Columns: raw_keywords</span>                                                                           <span style=\"color: #000080; text-decoration-color: #000080\">│</span>\n",
       "<span style=\"color: #000080; text-decoration-color: #000080\">╰─────────────────────────────────────────────────────────────────────────────────────────────────────────────────╯</span>\n",
       "</pre>\n"
      ],
      "text/plain": [
       "\u001b[34m╭─\u001b[0m\u001b[34m──────────────────────────────────────────────\u001b[0m\u001b[34m \u001b[0m\u001b[1;34mgenerate_keywords\u001b[0m\u001b[34m \u001b[0m\u001b[34m──────────────────────────────────────────────\u001b[0m\u001b[34m─╮\u001b[0m\n",
       "\u001b[34m│\u001b[0m \u001b[1;34m📊 Processing Input Data\u001b[0m                                                                                        \u001b[34m│\u001b[0m\n",
       "\u001b[34m│\u001b[0m \u001b[36mBlock Type: LLMChatBlock\u001b[0m                                                                                        \u001b[34m│\u001b[0m\n",
       "\u001b[34m│\u001b[0m \u001b[1;36mInput Rows: 50\u001b[0m                                                                                                  \u001b[34m│\u001b[0m\n",
       "\u001b[34m│\u001b[0m \u001b[36mInput Columns: 9\u001b[0m                                                                                                \u001b[34m│\u001b[0m\n",
       "\u001b[34m│\u001b[0m \u001b[37mColumn Names: Headline, Journalists, Date, Link, text, summary_prompt, raw_summary, summary, keywords_prompt\u001b[0m    \u001b[34m│\u001b[0m\n",
       "\u001b[34m│\u001b[0m \u001b[32mExpected Output Columns: raw_keywords\u001b[0m                                                                           \u001b[34m│\u001b[0m\n",
       "\u001b[34m╰─────────────────────────────────────────────────────────────────────────────────────────────────────────────────╯\u001b[0m\n"
      ]
     },
     "metadata": {},
     "output_type": "display_data"
    },
    {
     "data": {
      "text/html": [
       "<pre style=\"white-space:pre;overflow-x:auto;line-height:normal;font-family:Menlo,'DejaVu Sans Mono',consolas,'Courier New',monospace\"><span style=\"color: #7fbfbf; text-decoration-color: #7fbfbf\">           </span><span style=\"color: #000080; text-decoration-color: #000080\">INFO    </span> Starting async generation for <span style=\"color: #008080; text-decoration-color: #008080; font-weight: bold\">50</span> samples                                  <a href=\"file:///Users/shiv/workspace/sdg_hub/src/sdg_hub/core/blocks/llm/llm_chat_block.py\" target=\"_blank\"><span style=\"color: #7f7f7f; text-decoration-color: #7f7f7f\">llm_chat_block.py</span></a><span style=\"color: #7f7f7f; text-decoration-color: #7f7f7f\">:</span><a href=\"file:///Users/shiv/workspace/sdg_hub/src/sdg_hub/core/blocks/llm/llm_chat_block.py#329\" target=\"_blank\"><span style=\"color: #7f7f7f; text-decoration-color: #7f7f7f\">329</span></a>\n",
       "</pre>\n"
      ],
      "text/plain": [
       "\u001b[2;36m          \u001b[0m\u001b[2;36m \u001b[0m\u001b[34mINFO    \u001b[0m Starting async generation for \u001b[1;36m50\u001b[0m samples                                  \u001b]8;id=911926;file:///Users/shiv/workspace/sdg_hub/src/sdg_hub/core/blocks/llm/llm_chat_block.py\u001b\\\u001b[2mllm_chat_block.py\u001b[0m\u001b]8;;\u001b\\\u001b[2m:\u001b[0m\u001b]8;id=305811;file:///Users/shiv/workspace/sdg_hub/src/sdg_hub/core/blocks/llm/llm_chat_block.py#329\u001b\\\u001b[2m329\u001b[0m\u001b]8;;\u001b\\\n"
      ]
     },
     "metadata": {},
     "output_type": "display_data"
    },
    {
     "data": {
      "text/html": [
       "<pre style=\"white-space:pre;overflow-x:auto;line-height:normal;font-family:Menlo,'DejaVu Sans Mono',consolas,'Courier New',monospace\"><span style=\"color: #7fbfbf; text-decoration-color: #7fbfbf\">[15:18:39] </span><span style=\"color: #000080; text-decoration-color: #000080\">INFO    </span> Generation completed successfully for <span style=\"color: #008080; text-decoration-color: #008080; font-weight: bold\">50</span> samples                          <a href=\"file:///Users/shiv/workspace/sdg_hub/src/sdg_hub/core/blocks/llm/llm_chat_block.py\" target=\"_blank\"><span style=\"color: #7f7f7f; text-decoration-color: #7f7f7f\">llm_chat_block.py</span></a><span style=\"color: #7f7f7f; text-decoration-color: #7f7f7f\">:</span><a href=\"file:///Users/shiv/workspace/sdg_hub/src/sdg_hub/core/blocks/llm/llm_chat_block.py#393\" target=\"_blank\"><span style=\"color: #7f7f7f; text-decoration-color: #7f7f7f\">393</span></a>\n",
       "</pre>\n"
      ],
      "text/plain": [
       "\u001b[2;36m[15:18:39]\u001b[0m\u001b[2;36m \u001b[0m\u001b[34mINFO    \u001b[0m Generation completed successfully for \u001b[1;36m50\u001b[0m samples                          \u001b]8;id=995157;file:///Users/shiv/workspace/sdg_hub/src/sdg_hub/core/blocks/llm/llm_chat_block.py\u001b\\\u001b[2mllm_chat_block.py\u001b[0m\u001b]8;;\u001b\\\u001b[2m:\u001b[0m\u001b]8;id=341715;file:///Users/shiv/workspace/sdg_hub/src/sdg_hub/core/blocks/llm/llm_chat_block.py#393\u001b\\\u001b[2m393\u001b[0m\u001b]8;;\u001b\\\n"
      ]
     },
     "metadata": {},
     "output_type": "display_data"
    },
    {
     "data": {
      "text/html": [
       "<pre style=\"white-space:pre;overflow-x:auto;line-height:normal;font-family:Menlo,'DejaVu Sans Mono',consolas,'Courier New',monospace\"><span style=\"color: #008000; text-decoration-color: #008000\">╭───────────────────────────────────────── </span><span style=\"color: #008000; text-decoration-color: #008000; font-weight: bold\">generate_keywords - Complete</span><span style=\"color: #008000; text-decoration-color: #008000\"> ──────────────────────────────────────────╮</span>\n",
       "<span style=\"color: #008000; text-decoration-color: #008000\">│</span> <span style=\"color: #008000; text-decoration-color: #008000; font-weight: bold\">✅ Processing Complete</span>                                                                                          <span style=\"color: #008000; text-decoration-color: #008000\">│</span>\n",
       "<span style=\"color: #008000; text-decoration-color: #008000\">│</span> <span style=\"color: #008080; text-decoration-color: #008080\">Rows: 50 → 50</span>                                                                                                   <span style=\"color: #008000; text-decoration-color: #008000\">│</span>\n",
       "<span style=\"color: #008000; text-decoration-color: #008000\">│</span> <span style=\"color: #008080; text-decoration-color: #008080\">Columns: 9 → 10</span>                                                                                                 <span style=\"color: #008000; text-decoration-color: #008000\">│</span>\n",
       "<span style=\"color: #008000; text-decoration-color: #008000\">│</span> <span style=\"color: #008000; text-decoration-color: #008000\">🟢 Added: raw_keywords</span>                                                                                          <span style=\"color: #008000; text-decoration-color: #008000\">│</span>\n",
       "<span style=\"color: #008000; text-decoration-color: #008000\">│</span> <span style=\"color: #c0c0c0; text-decoration-color: #c0c0c0\">📋 Final Columns: Date, Headline, Journalists, Link, keywords_prompt, raw_keywords, raw_summary, summary, </span>      <span style=\"color: #008000; text-decoration-color: #008000\">│</span>\n",
       "<span style=\"color: #008000; text-decoration-color: #008000\">│</span> <span style=\"color: #c0c0c0; text-decoration-color: #c0c0c0\">summary_prompt, text</span>                                                                                            <span style=\"color: #008000; text-decoration-color: #008000\">│</span>\n",
       "<span style=\"color: #008000; text-decoration-color: #008000\">╰─────────────────────────────────────────────────────────────────────────────────────────────────────────────────╯</span>\n",
       "</pre>\n"
      ],
      "text/plain": [
       "\u001b[32m╭─\u001b[0m\u001b[32m────────────────────────────────────────\u001b[0m\u001b[32m \u001b[0m\u001b[1;32mgenerate_keywords - Complete\u001b[0m\u001b[32m \u001b[0m\u001b[32m─────────────────────────────────────────\u001b[0m\u001b[32m─╮\u001b[0m\n",
       "\u001b[32m│\u001b[0m \u001b[1;32m✅ Processing Complete\u001b[0m                                                                                          \u001b[32m│\u001b[0m\n",
       "\u001b[32m│\u001b[0m \u001b[36mRows: 50 → 50\u001b[0m                                                                                                   \u001b[32m│\u001b[0m\n",
       "\u001b[32m│\u001b[0m \u001b[36mColumns: 9 → 10\u001b[0m                                                                                                 \u001b[32m│\u001b[0m\n",
       "\u001b[32m│\u001b[0m \u001b[32m🟢 Added: raw_keywords\u001b[0m                                                                                          \u001b[32m│\u001b[0m\n",
       "\u001b[32m│\u001b[0m \u001b[37m📋 Final Columns: Date, Headline, Journalists, Link, keywords_prompt, raw_keywords, raw_summary, summary, \u001b[0m      \u001b[32m│\u001b[0m\n",
       "\u001b[32m│\u001b[0m \u001b[37msummary_prompt, text\u001b[0m                                                                                            \u001b[32m│\u001b[0m\n",
       "\u001b[32m╰─────────────────────────────────────────────────────────────────────────────────────────────────────────────────╯\u001b[0m\n"
      ]
     },
     "metadata": {},
     "output_type": "display_data"
    },
    {
     "data": {
      "text/html": [
       "<pre style=\"white-space:pre;overflow-x:auto;line-height:normal;font-family:Menlo,'DejaVu Sans Mono',consolas,'Courier New',monospace\"><span style=\"color: #7fbfbf; text-decoration-color: #7fbfbf\">[15:18:40] </span><span style=\"color: #000080; text-decoration-color: #000080\">INFO    </span> Block <span style=\"color: #008000; text-decoration-color: #008000\">'generate_keywords'</span> completed successfully: <span style=\"color: #008080; text-decoration-color: #008080; font-weight: bold\">50</span> samples, <span style=\"color: #008080; text-decoration-color: #008080; font-weight: bold\">10</span> columns            <a href=\"file:///Users/shiv/workspace/sdg_hub/src/sdg_hub/core/flow/base.py\" target=\"_blank\"><span style=\"color: #7f7f7f; text-decoration-color: #7f7f7f\">base.py</span></a><span style=\"color: #7f7f7f; text-decoration-color: #7f7f7f\">:</span><a href=\"file:///Users/shiv/workspace/sdg_hub/src/sdg_hub/core/flow/base.py#732\" target=\"_blank\"><span style=\"color: #7f7f7f; text-decoration-color: #7f7f7f\">732</span></a>\n",
       "</pre>\n"
      ],
      "text/plain": [
       "\u001b[2;36m[15:18:40]\u001b[0m\u001b[2;36m \u001b[0m\u001b[34mINFO    \u001b[0m Block \u001b[32m'generate_keywords'\u001b[0m completed successfully: \u001b[1;36m50\u001b[0m samples, \u001b[1;36m10\u001b[0m columns            \u001b]8;id=241246;file:///Users/shiv/workspace/sdg_hub/src/sdg_hub/core/flow/base.py\u001b\\\u001b[2mbase.py\u001b[0m\u001b]8;;\u001b\\\u001b[2m:\u001b[0m\u001b]8;id=940952;file:///Users/shiv/workspace/sdg_hub/src/sdg_hub/core/flow/base.py#732\u001b\\\u001b[2m732\u001b[0m\u001b]8;;\u001b\\\n"
      ]
     },
     "metadata": {},
     "output_type": "display_data"
    },
    {
     "data": {
      "text/html": [
       "<pre style=\"white-space:pre;overflow-x:auto;line-height:normal;font-family:Menlo,'DejaVu Sans Mono',consolas,'Courier New',monospace\"><span style=\"color: #7fbfbf; text-decoration-color: #7fbfbf\">           </span><span style=\"color: #000080; text-decoration-color: #000080\">INFO    </span> Executing block <span style=\"color: #008080; text-decoration-color: #008080; font-weight: bold\">6</span>/<span style=\"color: #008080; text-decoration-color: #008080; font-weight: bold\">13</span>: parse_keywords <span style=\"font-weight: bold\">(</span>TextParserBlock<span style=\"font-weight: bold\">)</span>                              <a href=\"file:///Users/shiv/workspace/sdg_hub/src/sdg_hub/core/flow/base.py\" target=\"_blank\"><span style=\"color: #7f7f7f; text-decoration-color: #7f7f7f\">base.py</span></a><span style=\"color: #7f7f7f; text-decoration-color: #7f7f7f\">:</span><a href=\"file:///Users/shiv/workspace/sdg_hub/src/sdg_hub/core/flow/base.py#670\" target=\"_blank\"><span style=\"color: #7f7f7f; text-decoration-color: #7f7f7f\">670</span></a>\n",
       "</pre>\n"
      ],
      "text/plain": [
       "\u001b[2;36m          \u001b[0m\u001b[2;36m \u001b[0m\u001b[34mINFO    \u001b[0m Executing block \u001b[1;36m6\u001b[0m/\u001b[1;36m13\u001b[0m: parse_keywords \u001b[1m(\u001b[0mTextParserBlock\u001b[1m)\u001b[0m                              \u001b]8;id=153501;file:///Users/shiv/workspace/sdg_hub/src/sdg_hub/core/flow/base.py\u001b\\\u001b[2mbase.py\u001b[0m\u001b]8;;\u001b\\\u001b[2m:\u001b[0m\u001b]8;id=310255;file:///Users/shiv/workspace/sdg_hub/src/sdg_hub/core/flow/base.py#670\u001b\\\u001b[2m670\u001b[0m\u001b]8;;\u001b\\\n"
      ]
     },
     "metadata": {},
     "output_type": "display_data"
    },
    {
     "data": {
      "text/html": [
       "<pre style=\"white-space:pre;overflow-x:auto;line-height:normal;font-family:Menlo,'DejaVu Sans Mono',consolas,'Courier New',monospace\"><span style=\"color: #000080; text-decoration-color: #000080\">╭──────────────────────────────────────────────── </span><span style=\"color: #000080; text-decoration-color: #000080; font-weight: bold\">parse_keywords</span><span style=\"color: #000080; text-decoration-color: #000080\"> ─────────────────────────────────────────────────╮</span>\n",
       "<span style=\"color: #000080; text-decoration-color: #000080\">│</span> <span style=\"color: #000080; text-decoration-color: #000080; font-weight: bold\">📊 Processing Input Data</span>                                                                                        <span style=\"color: #000080; text-decoration-color: #000080\">│</span>\n",
       "<span style=\"color: #000080; text-decoration-color: #000080\">│</span> <span style=\"color: #008080; text-decoration-color: #008080\">Block Type: TextParserBlock</span>                                                                                     <span style=\"color: #000080; text-decoration-color: #000080\">│</span>\n",
       "<span style=\"color: #000080; text-decoration-color: #000080\">│</span> <span style=\"color: #008080; text-decoration-color: #008080; font-weight: bold\">Input Rows: 50</span>                                                                                                  <span style=\"color: #000080; text-decoration-color: #000080\">│</span>\n",
       "<span style=\"color: #000080; text-decoration-color: #000080\">│</span> <span style=\"color: #008080; text-decoration-color: #008080\">Input Columns: 10</span>                                                                                               <span style=\"color: #000080; text-decoration-color: #000080\">│</span>\n",
       "<span style=\"color: #000080; text-decoration-color: #000080\">│</span> <span style=\"color: #c0c0c0; text-decoration-color: #c0c0c0\">Column Names: Headline, Journalists, Date, Link, text, summary_prompt, raw_summary, summary, keywords_prompt, </span>  <span style=\"color: #000080; text-decoration-color: #000080\">│</span>\n",
       "<span style=\"color: #000080; text-decoration-color: #000080\">│</span> <span style=\"color: #c0c0c0; text-decoration-color: #c0c0c0\">raw_keywords</span>                                                                                                    <span style=\"color: #000080; text-decoration-color: #000080\">│</span>\n",
       "<span style=\"color: #000080; text-decoration-color: #000080\">│</span> <span style=\"color: #008000; text-decoration-color: #008000\">Expected Output Columns: keywords</span>                                                                               <span style=\"color: #000080; text-decoration-color: #000080\">│</span>\n",
       "<span style=\"color: #000080; text-decoration-color: #000080\">╰─────────────────────────────────────────────────────────────────────────────────────────────────────────────────╯</span>\n",
       "</pre>\n"
      ],
      "text/plain": [
       "\u001b[34m╭─\u001b[0m\u001b[34m───────────────────────────────────────────────\u001b[0m\u001b[34m \u001b[0m\u001b[1;34mparse_keywords\u001b[0m\u001b[34m \u001b[0m\u001b[34m────────────────────────────────────────────────\u001b[0m\u001b[34m─╮\u001b[0m\n",
       "\u001b[34m│\u001b[0m \u001b[1;34m📊 Processing Input Data\u001b[0m                                                                                        \u001b[34m│\u001b[0m\n",
       "\u001b[34m│\u001b[0m \u001b[36mBlock Type: TextParserBlock\u001b[0m                                                                                     \u001b[34m│\u001b[0m\n",
       "\u001b[34m│\u001b[0m \u001b[1;36mInput Rows: 50\u001b[0m                                                                                                  \u001b[34m│\u001b[0m\n",
       "\u001b[34m│\u001b[0m \u001b[36mInput Columns: 10\u001b[0m                                                                                               \u001b[34m│\u001b[0m\n",
       "\u001b[34m│\u001b[0m \u001b[37mColumn Names: Headline, Journalists, Date, Link, text, summary_prompt, raw_summary, summary, keywords_prompt, \u001b[0m  \u001b[34m│\u001b[0m\n",
       "\u001b[34m│\u001b[0m \u001b[37mraw_keywords\u001b[0m                                                                                                    \u001b[34m│\u001b[0m\n",
       "\u001b[34m│\u001b[0m \u001b[32mExpected Output Columns: keywords\u001b[0m                                                                               \u001b[34m│\u001b[0m\n",
       "\u001b[34m╰─────────────────────────────────────────────────────────────────────────────────────────────────────────────────╯\u001b[0m\n"
      ]
     },
     "metadata": {},
     "output_type": "display_data"
    },
    {
     "data": {
      "text/html": [
       "<pre style=\"white-space:pre;overflow-x:auto;line-height:normal;font-family:Menlo,'DejaVu Sans Mono',consolas,'Courier New',monospace\"><span style=\"color: #008000; text-decoration-color: #008000\">╭─────────────────────────────────────────── </span><span style=\"color: #008000; text-decoration-color: #008000; font-weight: bold\">parse_keywords - Complete</span><span style=\"color: #008000; text-decoration-color: #008000\"> ───────────────────────────────────────────╮</span>\n",
       "<span style=\"color: #008000; text-decoration-color: #008000\">│</span> <span style=\"color: #008000; text-decoration-color: #008000; font-weight: bold\">✅ Processing Complete</span>                                                                                          <span style=\"color: #008000; text-decoration-color: #008000\">│</span>\n",
       "<span style=\"color: #008000; text-decoration-color: #008000\">│</span> <span style=\"color: #008080; text-decoration-color: #008080\">Rows: 50 → 50</span>                                                                                                   <span style=\"color: #008000; text-decoration-color: #008000\">│</span>\n",
       "<span style=\"color: #008000; text-decoration-color: #008000\">│</span> <span style=\"color: #008080; text-decoration-color: #008080\">Columns: 10 → 11</span>                                                                                                <span style=\"color: #008000; text-decoration-color: #008000\">│</span>\n",
       "<span style=\"color: #008000; text-decoration-color: #008000\">│</span> <span style=\"color: #008000; text-decoration-color: #008000\">🟢 Added: keywords</span>                                                                                              <span style=\"color: #008000; text-decoration-color: #008000\">│</span>\n",
       "<span style=\"color: #008000; text-decoration-color: #008000\">│</span> <span style=\"color: #c0c0c0; text-decoration-color: #c0c0c0\">📋 Final Columns: Date, Headline, Journalists, Link, keywords, keywords_prompt, raw_keywords, raw_summary, </span>     <span style=\"color: #008000; text-decoration-color: #008000\">│</span>\n",
       "<span style=\"color: #008000; text-decoration-color: #008000\">│</span> <span style=\"color: #c0c0c0; text-decoration-color: #c0c0c0\">summary, summary_prompt, text</span>                                                                                   <span style=\"color: #008000; text-decoration-color: #008000\">│</span>\n",
       "<span style=\"color: #008000; text-decoration-color: #008000\">╰─────────────────────────────────────────────────────────────────────────────────────────────────────────────────╯</span>\n",
       "</pre>\n"
      ],
      "text/plain": [
       "\u001b[32m╭─\u001b[0m\u001b[32m──────────────────────────────────────────\u001b[0m\u001b[32m \u001b[0m\u001b[1;32mparse_keywords - Complete\u001b[0m\u001b[32m \u001b[0m\u001b[32m──────────────────────────────────────────\u001b[0m\u001b[32m─╮\u001b[0m\n",
       "\u001b[32m│\u001b[0m \u001b[1;32m✅ Processing Complete\u001b[0m                                                                                          \u001b[32m│\u001b[0m\n",
       "\u001b[32m│\u001b[0m \u001b[36mRows: 50 → 50\u001b[0m                                                                                                   \u001b[32m│\u001b[0m\n",
       "\u001b[32m│\u001b[0m \u001b[36mColumns: 10 → 11\u001b[0m                                                                                                \u001b[32m│\u001b[0m\n",
       "\u001b[32m│\u001b[0m \u001b[32m🟢 Added: keywords\u001b[0m                                                                                              \u001b[32m│\u001b[0m\n",
       "\u001b[32m│\u001b[0m \u001b[37m📋 Final Columns: Date, Headline, Journalists, Link, keywords, keywords_prompt, raw_keywords, raw_summary, \u001b[0m     \u001b[32m│\u001b[0m\n",
       "\u001b[32m│\u001b[0m \u001b[37msummary, summary_prompt, text\u001b[0m                                                                                   \u001b[32m│\u001b[0m\n",
       "\u001b[32m╰─────────────────────────────────────────────────────────────────────────────────────────────────────────────────╯\u001b[0m\n"
      ]
     },
     "metadata": {},
     "output_type": "display_data"
    },
    {
     "data": {
      "text/html": [
       "<pre style=\"white-space:pre;overflow-x:auto;line-height:normal;font-family:Menlo,'DejaVu Sans Mono',consolas,'Courier New',monospace\"><span style=\"color: #7fbfbf; text-decoration-color: #7fbfbf\">           </span><span style=\"color: #000080; text-decoration-color: #000080\">INFO    </span> Block <span style=\"color: #008000; text-decoration-color: #008000\">'parse_keywords'</span> completed successfully: <span style=\"color: #008080; text-decoration-color: #008080; font-weight: bold\">50</span> samples, <span style=\"color: #008080; text-decoration-color: #008080; font-weight: bold\">11</span> columns               <a href=\"file:///Users/shiv/workspace/sdg_hub/src/sdg_hub/core/flow/base.py\" target=\"_blank\"><span style=\"color: #7f7f7f; text-decoration-color: #7f7f7f\">base.py</span></a><span style=\"color: #7f7f7f; text-decoration-color: #7f7f7f\">:</span><a href=\"file:///Users/shiv/workspace/sdg_hub/src/sdg_hub/core/flow/base.py#732\" target=\"_blank\"><span style=\"color: #7f7f7f; text-decoration-color: #7f7f7f\">732</span></a>\n",
       "</pre>\n"
      ],
      "text/plain": [
       "\u001b[2;36m          \u001b[0m\u001b[2;36m \u001b[0m\u001b[34mINFO    \u001b[0m Block \u001b[32m'parse_keywords'\u001b[0m completed successfully: \u001b[1;36m50\u001b[0m samples, \u001b[1;36m11\u001b[0m columns               \u001b]8;id=453038;file:///Users/shiv/workspace/sdg_hub/src/sdg_hub/core/flow/base.py\u001b\\\u001b[2mbase.py\u001b[0m\u001b]8;;\u001b\\\u001b[2m:\u001b[0m\u001b]8;id=681648;file:///Users/shiv/workspace/sdg_hub/src/sdg_hub/core/flow/base.py#732\u001b\\\u001b[2m732\u001b[0m\u001b]8;;\u001b\\\n"
      ]
     },
     "metadata": {},
     "output_type": "display_data"
    },
    {
     "data": {
      "text/html": [
       "<pre style=\"white-space:pre;overflow-x:auto;line-height:normal;font-family:Menlo,'DejaVu Sans Mono',consolas,'Courier New',monospace\"><span style=\"color: #7fbfbf; text-decoration-color: #7fbfbf\">           </span><span style=\"color: #000080; text-decoration-color: #000080\">INFO    </span> Executing block <span style=\"color: #008080; text-decoration-color: #008080; font-weight: bold\">7</span>/<span style=\"color: #008080; text-decoration-color: #008080; font-weight: bold\">13</span>: build_entities_prompt <span style=\"font-weight: bold\">(</span>PromptBuilderBlock<span style=\"font-weight: bold\">)</span>                    <a href=\"file:///Users/shiv/workspace/sdg_hub/src/sdg_hub/core/flow/base.py\" target=\"_blank\"><span style=\"color: #7f7f7f; text-decoration-color: #7f7f7f\">base.py</span></a><span style=\"color: #7f7f7f; text-decoration-color: #7f7f7f\">:</span><a href=\"file:///Users/shiv/workspace/sdg_hub/src/sdg_hub/core/flow/base.py#670\" target=\"_blank\"><span style=\"color: #7f7f7f; text-decoration-color: #7f7f7f\">670</span></a>\n",
       "</pre>\n"
      ],
      "text/plain": [
       "\u001b[2;36m          \u001b[0m\u001b[2;36m \u001b[0m\u001b[34mINFO    \u001b[0m Executing block \u001b[1;36m7\u001b[0m/\u001b[1;36m13\u001b[0m: build_entities_prompt \u001b[1m(\u001b[0mPromptBuilderBlock\u001b[1m)\u001b[0m                    \u001b]8;id=184945;file:///Users/shiv/workspace/sdg_hub/src/sdg_hub/core/flow/base.py\u001b\\\u001b[2mbase.py\u001b[0m\u001b]8;;\u001b\\\u001b[2m:\u001b[0m\u001b]8;id=542330;file:///Users/shiv/workspace/sdg_hub/src/sdg_hub/core/flow/base.py#670\u001b\\\u001b[2m670\u001b[0m\u001b]8;;\u001b\\\n"
      ]
     },
     "metadata": {},
     "output_type": "display_data"
    },
    {
     "data": {
      "text/html": [
       "<pre style=\"white-space:pre;overflow-x:auto;line-height:normal;font-family:Menlo,'DejaVu Sans Mono',consolas,'Courier New',monospace\"><span style=\"color: #000080; text-decoration-color: #000080\">╭───────────────────────────────────────────── </span><span style=\"color: #000080; text-decoration-color: #000080; font-weight: bold\">build_entities_prompt</span><span style=\"color: #000080; text-decoration-color: #000080\"> ─────────────────────────────────────────────╮</span>\n",
       "<span style=\"color: #000080; text-decoration-color: #000080\">│</span> <span style=\"color: #000080; text-decoration-color: #000080; font-weight: bold\">📊 Processing Input Data</span>                                                                                        <span style=\"color: #000080; text-decoration-color: #000080\">│</span>\n",
       "<span style=\"color: #000080; text-decoration-color: #000080\">│</span> <span style=\"color: #008080; text-decoration-color: #008080\">Block Type: PromptBuilderBlock</span>                                                                                  <span style=\"color: #000080; text-decoration-color: #000080\">│</span>\n",
       "<span style=\"color: #000080; text-decoration-color: #000080\">│</span> <span style=\"color: #008080; text-decoration-color: #008080; font-weight: bold\">Input Rows: 50</span>                                                                                                  <span style=\"color: #000080; text-decoration-color: #000080\">│</span>\n",
       "<span style=\"color: #000080; text-decoration-color: #000080\">│</span> <span style=\"color: #008080; text-decoration-color: #008080\">Input Columns: 11</span>                                                                                               <span style=\"color: #000080; text-decoration-color: #000080\">│</span>\n",
       "<span style=\"color: #000080; text-decoration-color: #000080\">│</span> <span style=\"color: #c0c0c0; text-decoration-color: #c0c0c0\">Column Names: Headline, Journalists, Date, Link, text, summary_prompt, raw_summary, summary, keywords_prompt, </span>  <span style=\"color: #000080; text-decoration-color: #000080\">│</span>\n",
       "<span style=\"color: #000080; text-decoration-color: #000080\">│</span> <span style=\"color: #c0c0c0; text-decoration-color: #c0c0c0\">raw_keywords, keywords</span>                                                                                          <span style=\"color: #000080; text-decoration-color: #000080\">│</span>\n",
       "<span style=\"color: #000080; text-decoration-color: #000080\">│</span> <span style=\"color: #008000; text-decoration-color: #008000\">Expected Output Columns: entities_prompt</span>                                                                        <span style=\"color: #000080; text-decoration-color: #000080\">│</span>\n",
       "<span style=\"color: #000080; text-decoration-color: #000080\">╰─────────────────────────────────────────────────────────────────────────────────────────────────────────────────╯</span>\n",
       "</pre>\n"
      ],
      "text/plain": [
       "\u001b[34m╭─\u001b[0m\u001b[34m────────────────────────────────────────────\u001b[0m\u001b[34m \u001b[0m\u001b[1;34mbuild_entities_prompt\u001b[0m\u001b[34m \u001b[0m\u001b[34m────────────────────────────────────────────\u001b[0m\u001b[34m─╮\u001b[0m\n",
       "\u001b[34m│\u001b[0m \u001b[1;34m📊 Processing Input Data\u001b[0m                                                                                        \u001b[34m│\u001b[0m\n",
       "\u001b[34m│\u001b[0m \u001b[36mBlock Type: PromptBuilderBlock\u001b[0m                                                                                  \u001b[34m│\u001b[0m\n",
       "\u001b[34m│\u001b[0m \u001b[1;36mInput Rows: 50\u001b[0m                                                                                                  \u001b[34m│\u001b[0m\n",
       "\u001b[34m│\u001b[0m \u001b[36mInput Columns: 11\u001b[0m                                                                                               \u001b[34m│\u001b[0m\n",
       "\u001b[34m│\u001b[0m \u001b[37mColumn Names: Headline, Journalists, Date, Link, text, summary_prompt, raw_summary, summary, keywords_prompt, \u001b[0m  \u001b[34m│\u001b[0m\n",
       "\u001b[34m│\u001b[0m \u001b[37mraw_keywords, keywords\u001b[0m                                                                                          \u001b[34m│\u001b[0m\n",
       "\u001b[34m│\u001b[0m \u001b[32mExpected Output Columns: entities_prompt\u001b[0m                                                                        \u001b[34m│\u001b[0m\n",
       "\u001b[34m╰─────────────────────────────────────────────────────────────────────────────────────────────────────────────────╯\u001b[0m\n"
      ]
     },
     "metadata": {},
     "output_type": "display_data"
    },
    {
     "name": "stderr",
     "output_type": "stream",
     "text": [
      "Map: 100%|██████████| 50/50 [00:00<00:00, 5731.33 examples/s]\n"
     ]
    },
    {
     "data": {
      "text/html": [
       "<pre style=\"white-space:pre;overflow-x:auto;line-height:normal;font-family:Menlo,'DejaVu Sans Mono',consolas,'Courier New',monospace\"><span style=\"color: #008000; text-decoration-color: #008000\">╭─────────────────────────────────────── </span><span style=\"color: #008000; text-decoration-color: #008000; font-weight: bold\">build_entities_prompt - Complete</span><span style=\"color: #008000; text-decoration-color: #008000\"> ────────────────────────────────────────╮</span>\n",
       "<span style=\"color: #008000; text-decoration-color: #008000\">│</span> <span style=\"color: #008000; text-decoration-color: #008000; font-weight: bold\">✅ Processing Complete</span>                                                                                          <span style=\"color: #008000; text-decoration-color: #008000\">│</span>\n",
       "<span style=\"color: #008000; text-decoration-color: #008000\">│</span> <span style=\"color: #008080; text-decoration-color: #008080\">Rows: 50 → 50</span>                                                                                                   <span style=\"color: #008000; text-decoration-color: #008000\">│</span>\n",
       "<span style=\"color: #008000; text-decoration-color: #008000\">│</span> <span style=\"color: #008080; text-decoration-color: #008080\">Columns: 11 → 12</span>                                                                                                <span style=\"color: #008000; text-decoration-color: #008000\">│</span>\n",
       "<span style=\"color: #008000; text-decoration-color: #008000\">│</span> <span style=\"color: #008000; text-decoration-color: #008000\">🟢 Added: entities_prompt</span>                                                                                       <span style=\"color: #008000; text-decoration-color: #008000\">│</span>\n",
       "<span style=\"color: #008000; text-decoration-color: #008000\">│</span> <span style=\"color: #c0c0c0; text-decoration-color: #c0c0c0\">📋 Final Columns: Date, Headline, Journalists, Link, entities_prompt, keywords, keywords_prompt, raw_keywords, </span> <span style=\"color: #008000; text-decoration-color: #008000\">│</span>\n",
       "<span style=\"color: #008000; text-decoration-color: #008000\">│</span> <span style=\"color: #c0c0c0; text-decoration-color: #c0c0c0\">raw_summary, summary, summary_prompt, text</span>                                                                      <span style=\"color: #008000; text-decoration-color: #008000\">│</span>\n",
       "<span style=\"color: #008000; text-decoration-color: #008000\">╰─────────────────────────────────────────────────────────────────────────────────────────────────────────────────╯</span>\n",
       "</pre>\n"
      ],
      "text/plain": [
       "\u001b[32m╭─\u001b[0m\u001b[32m──────────────────────────────────────\u001b[0m\u001b[32m \u001b[0m\u001b[1;32mbuild_entities_prompt - Complete\u001b[0m\u001b[32m \u001b[0m\u001b[32m───────────────────────────────────────\u001b[0m\u001b[32m─╮\u001b[0m\n",
       "\u001b[32m│\u001b[0m \u001b[1;32m✅ Processing Complete\u001b[0m                                                                                          \u001b[32m│\u001b[0m\n",
       "\u001b[32m│\u001b[0m \u001b[36mRows: 50 → 50\u001b[0m                                                                                                   \u001b[32m│\u001b[0m\n",
       "\u001b[32m│\u001b[0m \u001b[36mColumns: 11 → 12\u001b[0m                                                                                                \u001b[32m│\u001b[0m\n",
       "\u001b[32m│\u001b[0m \u001b[32m🟢 Added: entities_prompt\u001b[0m                                                                                       \u001b[32m│\u001b[0m\n",
       "\u001b[32m│\u001b[0m \u001b[37m📋 Final Columns: Date, Headline, Journalists, Link, entities_prompt, keywords, keywords_prompt, raw_keywords, \u001b[0m \u001b[32m│\u001b[0m\n",
       "\u001b[32m│\u001b[0m \u001b[37mraw_summary, summary, summary_prompt, text\u001b[0m                                                                      \u001b[32m│\u001b[0m\n",
       "\u001b[32m╰─────────────────────────────────────────────────────────────────────────────────────────────────────────────────╯\u001b[0m\n"
      ]
     },
     "metadata": {},
     "output_type": "display_data"
    },
    {
     "data": {
      "text/html": [
       "<pre style=\"white-space:pre;overflow-x:auto;line-height:normal;font-family:Menlo,'DejaVu Sans Mono',consolas,'Courier New',monospace\"><span style=\"color: #7fbfbf; text-decoration-color: #7fbfbf\">           </span><span style=\"color: #000080; text-decoration-color: #000080\">INFO    </span> Block <span style=\"color: #008000; text-decoration-color: #008000\">'build_entities_prompt'</span> completed successfully: <span style=\"color: #008080; text-decoration-color: #008080; font-weight: bold\">50</span> samples, <span style=\"color: #008080; text-decoration-color: #008080; font-weight: bold\">12</span> columns        <a href=\"file:///Users/shiv/workspace/sdg_hub/src/sdg_hub/core/flow/base.py\" target=\"_blank\"><span style=\"color: #7f7f7f; text-decoration-color: #7f7f7f\">base.py</span></a><span style=\"color: #7f7f7f; text-decoration-color: #7f7f7f\">:</span><a href=\"file:///Users/shiv/workspace/sdg_hub/src/sdg_hub/core/flow/base.py#732\" target=\"_blank\"><span style=\"color: #7f7f7f; text-decoration-color: #7f7f7f\">732</span></a>\n",
       "</pre>\n"
      ],
      "text/plain": [
       "\u001b[2;36m          \u001b[0m\u001b[2;36m \u001b[0m\u001b[34mINFO    \u001b[0m Block \u001b[32m'build_entities_prompt'\u001b[0m completed successfully: \u001b[1;36m50\u001b[0m samples, \u001b[1;36m12\u001b[0m columns        \u001b]8;id=412751;file:///Users/shiv/workspace/sdg_hub/src/sdg_hub/core/flow/base.py\u001b\\\u001b[2mbase.py\u001b[0m\u001b]8;;\u001b\\\u001b[2m:\u001b[0m\u001b]8;id=724335;file:///Users/shiv/workspace/sdg_hub/src/sdg_hub/core/flow/base.py#732\u001b\\\u001b[2m732\u001b[0m\u001b]8;;\u001b\\\n"
      ]
     },
     "metadata": {},
     "output_type": "display_data"
    },
    {
     "data": {
      "text/html": [
       "<pre style=\"white-space:pre;overflow-x:auto;line-height:normal;font-family:Menlo,'DejaVu Sans Mono',consolas,'Courier New',monospace\"><span style=\"color: #7fbfbf; text-decoration-color: #7fbfbf\">           </span><span style=\"color: #000080; text-decoration-color: #000080\">INFO    </span> Executing block <span style=\"color: #008080; text-decoration-color: #008080; font-weight: bold\">8</span>/<span style=\"color: #008080; text-decoration-color: #008080; font-weight: bold\">13</span>: generate_entities <span style=\"font-weight: bold\">(</span>LLMChatBlock<span style=\"font-weight: bold\">)</span>                              <a href=\"file:///Users/shiv/workspace/sdg_hub/src/sdg_hub/core/flow/base.py\" target=\"_blank\"><span style=\"color: #7f7f7f; text-decoration-color: #7f7f7f\">base.py</span></a><span style=\"color: #7f7f7f; text-decoration-color: #7f7f7f\">:</span><a href=\"file:///Users/shiv/workspace/sdg_hub/src/sdg_hub/core/flow/base.py#670\" target=\"_blank\"><span style=\"color: #7f7f7f; text-decoration-color: #7f7f7f\">670</span></a>\n",
       "</pre>\n"
      ],
      "text/plain": [
       "\u001b[2;36m          \u001b[0m\u001b[2;36m \u001b[0m\u001b[34mINFO    \u001b[0m Executing block \u001b[1;36m8\u001b[0m/\u001b[1;36m13\u001b[0m: generate_entities \u001b[1m(\u001b[0mLLMChatBlock\u001b[1m)\u001b[0m                              \u001b]8;id=569079;file:///Users/shiv/workspace/sdg_hub/src/sdg_hub/core/flow/base.py\u001b\\\u001b[2mbase.py\u001b[0m\u001b]8;;\u001b\\\u001b[2m:\u001b[0m\u001b]8;id=993651;file:///Users/shiv/workspace/sdg_hub/src/sdg_hub/core/flow/base.py#670\u001b\\\u001b[2m670\u001b[0m\u001b]8;;\u001b\\\n"
      ]
     },
     "metadata": {},
     "output_type": "display_data"
    },
    {
     "data": {
      "text/html": [
       "<pre style=\"white-space:pre;overflow-x:auto;line-height:normal;font-family:Menlo,'DejaVu Sans Mono',consolas,'Courier New',monospace\"><span style=\"color: #000080; text-decoration-color: #000080\">╭─────────────────────────────────────────────── </span><span style=\"color: #000080; text-decoration-color: #000080; font-weight: bold\">generate_entities</span><span style=\"color: #000080; text-decoration-color: #000080\"> ───────────────────────────────────────────────╮</span>\n",
       "<span style=\"color: #000080; text-decoration-color: #000080\">│</span> <span style=\"color: #000080; text-decoration-color: #000080; font-weight: bold\">📊 Processing Input Data</span>                                                                                        <span style=\"color: #000080; text-decoration-color: #000080\">│</span>\n",
       "<span style=\"color: #000080; text-decoration-color: #000080\">│</span> <span style=\"color: #008080; text-decoration-color: #008080\">Block Type: LLMChatBlock</span>                                                                                        <span style=\"color: #000080; text-decoration-color: #000080\">│</span>\n",
       "<span style=\"color: #000080; text-decoration-color: #000080\">│</span> <span style=\"color: #008080; text-decoration-color: #008080; font-weight: bold\">Input Rows: 50</span>                                                                                                  <span style=\"color: #000080; text-decoration-color: #000080\">│</span>\n",
       "<span style=\"color: #000080; text-decoration-color: #000080\">│</span> <span style=\"color: #008080; text-decoration-color: #008080\">Input Columns: 12</span>                                                                                               <span style=\"color: #000080; text-decoration-color: #000080\">│</span>\n",
       "<span style=\"color: #000080; text-decoration-color: #000080\">│</span> <span style=\"color: #c0c0c0; text-decoration-color: #c0c0c0\">Column Names: Headline, Journalists, Date, Link, text, summary_prompt, raw_summary, summary, keywords_prompt, </span>  <span style=\"color: #000080; text-decoration-color: #000080\">│</span>\n",
       "<span style=\"color: #000080; text-decoration-color: #000080\">│</span> <span style=\"color: #c0c0c0; text-decoration-color: #c0c0c0\">raw_keywords, keywords, entities_prompt</span>                                                                         <span style=\"color: #000080; text-decoration-color: #000080\">│</span>\n",
       "<span style=\"color: #000080; text-decoration-color: #000080\">│</span> <span style=\"color: #008000; text-decoration-color: #008000\">Expected Output Columns: raw_entities</span>                                                                           <span style=\"color: #000080; text-decoration-color: #000080\">│</span>\n",
       "<span style=\"color: #000080; text-decoration-color: #000080\">╰─────────────────────────────────────────────────────────────────────────────────────────────────────────────────╯</span>\n",
       "</pre>\n"
      ],
      "text/plain": [
       "\u001b[34m╭─\u001b[0m\u001b[34m──────────────────────────────────────────────\u001b[0m\u001b[34m \u001b[0m\u001b[1;34mgenerate_entities\u001b[0m\u001b[34m \u001b[0m\u001b[34m──────────────────────────────────────────────\u001b[0m\u001b[34m─╮\u001b[0m\n",
       "\u001b[34m│\u001b[0m \u001b[1;34m📊 Processing Input Data\u001b[0m                                                                                        \u001b[34m│\u001b[0m\n",
       "\u001b[34m│\u001b[0m \u001b[36mBlock Type: LLMChatBlock\u001b[0m                                                                                        \u001b[34m│\u001b[0m\n",
       "\u001b[34m│\u001b[0m \u001b[1;36mInput Rows: 50\u001b[0m                                                                                                  \u001b[34m│\u001b[0m\n",
       "\u001b[34m│\u001b[0m \u001b[36mInput Columns: 12\u001b[0m                                                                                               \u001b[34m│\u001b[0m\n",
       "\u001b[34m│\u001b[0m \u001b[37mColumn Names: Headline, Journalists, Date, Link, text, summary_prompt, raw_summary, summary, keywords_prompt, \u001b[0m  \u001b[34m│\u001b[0m\n",
       "\u001b[34m│\u001b[0m \u001b[37mraw_keywords, keywords, entities_prompt\u001b[0m                                                                         \u001b[34m│\u001b[0m\n",
       "\u001b[34m│\u001b[0m \u001b[32mExpected Output Columns: raw_entities\u001b[0m                                                                           \u001b[34m│\u001b[0m\n",
       "\u001b[34m╰─────────────────────────────────────────────────────────────────────────────────────────────────────────────────╯\u001b[0m\n"
      ]
     },
     "metadata": {},
     "output_type": "display_data"
    },
    {
     "data": {
      "text/html": [
       "<pre style=\"white-space:pre;overflow-x:auto;line-height:normal;font-family:Menlo,'DejaVu Sans Mono',consolas,'Courier New',monospace\"><span style=\"color: #7fbfbf; text-decoration-color: #7fbfbf\">[15:18:40] </span><span style=\"color: #000080; text-decoration-color: #000080\">INFO    </span> Starting async generation for <span style=\"color: #008080; text-decoration-color: #008080; font-weight: bold\">50</span> samples                                  <a href=\"file:///Users/shiv/workspace/sdg_hub/src/sdg_hub/core/blocks/llm/llm_chat_block.py\" target=\"_blank\"><span style=\"color: #7f7f7f; text-decoration-color: #7f7f7f\">llm_chat_block.py</span></a><span style=\"color: #7f7f7f; text-decoration-color: #7f7f7f\">:</span><a href=\"file:///Users/shiv/workspace/sdg_hub/src/sdg_hub/core/blocks/llm/llm_chat_block.py#329\" target=\"_blank\"><span style=\"color: #7f7f7f; text-decoration-color: #7f7f7f\">329</span></a>\n",
       "</pre>\n"
      ],
      "text/plain": [
       "\u001b[2;36m[15:18:40]\u001b[0m\u001b[2;36m \u001b[0m\u001b[34mINFO    \u001b[0m Starting async generation for \u001b[1;36m50\u001b[0m samples                                  \u001b]8;id=928285;file:///Users/shiv/workspace/sdg_hub/src/sdg_hub/core/blocks/llm/llm_chat_block.py\u001b\\\u001b[2mllm_chat_block.py\u001b[0m\u001b]8;;\u001b\\\u001b[2m:\u001b[0m\u001b]8;id=649320;file:///Users/shiv/workspace/sdg_hub/src/sdg_hub/core/blocks/llm/llm_chat_block.py#329\u001b\\\u001b[2m329\u001b[0m\u001b]8;;\u001b\\\n"
      ]
     },
     "metadata": {},
     "output_type": "display_data"
    },
    {
     "data": {
      "text/html": [
       "<pre style=\"white-space:pre;overflow-x:auto;line-height:normal;font-family:Menlo,'DejaVu Sans Mono',consolas,'Courier New',monospace\"><span style=\"color: #7fbfbf; text-decoration-color: #7fbfbf\">[15:18:44] </span><span style=\"color: #000080; text-decoration-color: #000080\">INFO    </span> Generation completed successfully for <span style=\"color: #008080; text-decoration-color: #008080; font-weight: bold\">50</span> samples                          <a href=\"file:///Users/shiv/workspace/sdg_hub/src/sdg_hub/core/blocks/llm/llm_chat_block.py\" target=\"_blank\"><span style=\"color: #7f7f7f; text-decoration-color: #7f7f7f\">llm_chat_block.py</span></a><span style=\"color: #7f7f7f; text-decoration-color: #7f7f7f\">:</span><a href=\"file:///Users/shiv/workspace/sdg_hub/src/sdg_hub/core/blocks/llm/llm_chat_block.py#393\" target=\"_blank\"><span style=\"color: #7f7f7f; text-decoration-color: #7f7f7f\">393</span></a>\n",
       "</pre>\n"
      ],
      "text/plain": [
       "\u001b[2;36m[15:18:44]\u001b[0m\u001b[2;36m \u001b[0m\u001b[34mINFO    \u001b[0m Generation completed successfully for \u001b[1;36m50\u001b[0m samples                          \u001b]8;id=264304;file:///Users/shiv/workspace/sdg_hub/src/sdg_hub/core/blocks/llm/llm_chat_block.py\u001b\\\u001b[2mllm_chat_block.py\u001b[0m\u001b]8;;\u001b\\\u001b[2m:\u001b[0m\u001b]8;id=231378;file:///Users/shiv/workspace/sdg_hub/src/sdg_hub/core/blocks/llm/llm_chat_block.py#393\u001b\\\u001b[2m393\u001b[0m\u001b]8;;\u001b\\\n"
      ]
     },
     "metadata": {},
     "output_type": "display_data"
    },
    {
     "data": {
      "text/html": [
       "<pre style=\"white-space:pre;overflow-x:auto;line-height:normal;font-family:Menlo,'DejaVu Sans Mono',consolas,'Courier New',monospace\"><span style=\"color: #008000; text-decoration-color: #008000\">╭───────────────────────────────────────── </span><span style=\"color: #008000; text-decoration-color: #008000; font-weight: bold\">generate_entities - Complete</span><span style=\"color: #008000; text-decoration-color: #008000\"> ──────────────────────────────────────────╮</span>\n",
       "<span style=\"color: #008000; text-decoration-color: #008000\">│</span> <span style=\"color: #008000; text-decoration-color: #008000; font-weight: bold\">✅ Processing Complete</span>                                                                                          <span style=\"color: #008000; text-decoration-color: #008000\">│</span>\n",
       "<span style=\"color: #008000; text-decoration-color: #008000\">│</span> <span style=\"color: #008080; text-decoration-color: #008080\">Rows: 50 → 50</span>                                                                                                   <span style=\"color: #008000; text-decoration-color: #008000\">│</span>\n",
       "<span style=\"color: #008000; text-decoration-color: #008000\">│</span> <span style=\"color: #008080; text-decoration-color: #008080\">Columns: 12 → 13</span>                                                                                                <span style=\"color: #008000; text-decoration-color: #008000\">│</span>\n",
       "<span style=\"color: #008000; text-decoration-color: #008000\">│</span> <span style=\"color: #008000; text-decoration-color: #008000\">🟢 Added: raw_entities</span>                                                                                          <span style=\"color: #008000; text-decoration-color: #008000\">│</span>\n",
       "<span style=\"color: #008000; text-decoration-color: #008000\">│</span> <span style=\"color: #c0c0c0; text-decoration-color: #c0c0c0\">📋 Final Columns: Date, Headline, Journalists, Link, entities_prompt, keywords, keywords_prompt, raw_entities, </span> <span style=\"color: #008000; text-decoration-color: #008000\">│</span>\n",
       "<span style=\"color: #008000; text-decoration-color: #008000\">│</span> <span style=\"color: #c0c0c0; text-decoration-color: #c0c0c0\">raw_keywords, raw_summary, summary, summary_prompt, text</span>                                                        <span style=\"color: #008000; text-decoration-color: #008000\">│</span>\n",
       "<span style=\"color: #008000; text-decoration-color: #008000\">╰─────────────────────────────────────────────────────────────────────────────────────────────────────────────────╯</span>\n",
       "</pre>\n"
      ],
      "text/plain": [
       "\u001b[32m╭─\u001b[0m\u001b[32m────────────────────────────────────────\u001b[0m\u001b[32m \u001b[0m\u001b[1;32mgenerate_entities - Complete\u001b[0m\u001b[32m \u001b[0m\u001b[32m─────────────────────────────────────────\u001b[0m\u001b[32m─╮\u001b[0m\n",
       "\u001b[32m│\u001b[0m \u001b[1;32m✅ Processing Complete\u001b[0m                                                                                          \u001b[32m│\u001b[0m\n",
       "\u001b[32m│\u001b[0m \u001b[36mRows: 50 → 50\u001b[0m                                                                                                   \u001b[32m│\u001b[0m\n",
       "\u001b[32m│\u001b[0m \u001b[36mColumns: 12 → 13\u001b[0m                                                                                                \u001b[32m│\u001b[0m\n",
       "\u001b[32m│\u001b[0m \u001b[32m🟢 Added: raw_entities\u001b[0m                                                                                          \u001b[32m│\u001b[0m\n",
       "\u001b[32m│\u001b[0m \u001b[37m📋 Final Columns: Date, Headline, Journalists, Link, entities_prompt, keywords, keywords_prompt, raw_entities, \u001b[0m \u001b[32m│\u001b[0m\n",
       "\u001b[32m│\u001b[0m \u001b[37mraw_keywords, raw_summary, summary, summary_prompt, text\u001b[0m                                                        \u001b[32m│\u001b[0m\n",
       "\u001b[32m╰─────────────────────────────────────────────────────────────────────────────────────────────────────────────────╯\u001b[0m\n"
      ]
     },
     "metadata": {},
     "output_type": "display_data"
    },
    {
     "data": {
      "text/html": [
       "<pre style=\"white-space:pre;overflow-x:auto;line-height:normal;font-family:Menlo,'DejaVu Sans Mono',consolas,'Courier New',monospace\"><span style=\"color: #7fbfbf; text-decoration-color: #7fbfbf\">[15:18:44] </span><span style=\"color: #000080; text-decoration-color: #000080\">INFO    </span> Block <span style=\"color: #008000; text-decoration-color: #008000\">'generate_entities'</span> completed successfully: <span style=\"color: #008080; text-decoration-color: #008080; font-weight: bold\">50</span> samples, <span style=\"color: #008080; text-decoration-color: #008080; font-weight: bold\">13</span> columns            <a href=\"file:///Users/shiv/workspace/sdg_hub/src/sdg_hub/core/flow/base.py\" target=\"_blank\"><span style=\"color: #7f7f7f; text-decoration-color: #7f7f7f\">base.py</span></a><span style=\"color: #7f7f7f; text-decoration-color: #7f7f7f\">:</span><a href=\"file:///Users/shiv/workspace/sdg_hub/src/sdg_hub/core/flow/base.py#732\" target=\"_blank\"><span style=\"color: #7f7f7f; text-decoration-color: #7f7f7f\">732</span></a>\n",
       "</pre>\n"
      ],
      "text/plain": [
       "\u001b[2;36m[15:18:44]\u001b[0m\u001b[2;36m \u001b[0m\u001b[34mINFO    \u001b[0m Block \u001b[32m'generate_entities'\u001b[0m completed successfully: \u001b[1;36m50\u001b[0m samples, \u001b[1;36m13\u001b[0m columns            \u001b]8;id=473221;file:///Users/shiv/workspace/sdg_hub/src/sdg_hub/core/flow/base.py\u001b\\\u001b[2mbase.py\u001b[0m\u001b]8;;\u001b\\\u001b[2m:\u001b[0m\u001b]8;id=436819;file:///Users/shiv/workspace/sdg_hub/src/sdg_hub/core/flow/base.py#732\u001b\\\u001b[2m732\u001b[0m\u001b]8;;\u001b\\\n"
      ]
     },
     "metadata": {},
     "output_type": "display_data"
    },
    {
     "data": {
      "text/html": [
       "<pre style=\"white-space:pre;overflow-x:auto;line-height:normal;font-family:Menlo,'DejaVu Sans Mono',consolas,'Courier New',monospace\"><span style=\"color: #7fbfbf; text-decoration-color: #7fbfbf\">           </span><span style=\"color: #000080; text-decoration-color: #000080\">INFO    </span> Executing block <span style=\"color: #008080; text-decoration-color: #008080; font-weight: bold\">9</span>/<span style=\"color: #008080; text-decoration-color: #008080; font-weight: bold\">13</span>: parse_entities <span style=\"font-weight: bold\">(</span>TextParserBlock<span style=\"font-weight: bold\">)</span>                              <a href=\"file:///Users/shiv/workspace/sdg_hub/src/sdg_hub/core/flow/base.py\" target=\"_blank\"><span style=\"color: #7f7f7f; text-decoration-color: #7f7f7f\">base.py</span></a><span style=\"color: #7f7f7f; text-decoration-color: #7f7f7f\">:</span><a href=\"file:///Users/shiv/workspace/sdg_hub/src/sdg_hub/core/flow/base.py#670\" target=\"_blank\"><span style=\"color: #7f7f7f; text-decoration-color: #7f7f7f\">670</span></a>\n",
       "</pre>\n"
      ],
      "text/plain": [
       "\u001b[2;36m          \u001b[0m\u001b[2;36m \u001b[0m\u001b[34mINFO    \u001b[0m Executing block \u001b[1;36m9\u001b[0m/\u001b[1;36m13\u001b[0m: parse_entities \u001b[1m(\u001b[0mTextParserBlock\u001b[1m)\u001b[0m                              \u001b]8;id=469021;file:///Users/shiv/workspace/sdg_hub/src/sdg_hub/core/flow/base.py\u001b\\\u001b[2mbase.py\u001b[0m\u001b]8;;\u001b\\\u001b[2m:\u001b[0m\u001b]8;id=297279;file:///Users/shiv/workspace/sdg_hub/src/sdg_hub/core/flow/base.py#670\u001b\\\u001b[2m670\u001b[0m\u001b]8;;\u001b\\\n"
      ]
     },
     "metadata": {},
     "output_type": "display_data"
    },
    {
     "data": {
      "text/html": [
       "<pre style=\"white-space:pre;overflow-x:auto;line-height:normal;font-family:Menlo,'DejaVu Sans Mono',consolas,'Courier New',monospace\"><span style=\"color: #000080; text-decoration-color: #000080\">╭──────────────────────────────────────────────── </span><span style=\"color: #000080; text-decoration-color: #000080; font-weight: bold\">parse_entities</span><span style=\"color: #000080; text-decoration-color: #000080\"> ─────────────────────────────────────────────────╮</span>\n",
       "<span style=\"color: #000080; text-decoration-color: #000080\">│</span> <span style=\"color: #000080; text-decoration-color: #000080; font-weight: bold\">📊 Processing Input Data</span>                                                                                        <span style=\"color: #000080; text-decoration-color: #000080\">│</span>\n",
       "<span style=\"color: #000080; text-decoration-color: #000080\">│</span> <span style=\"color: #008080; text-decoration-color: #008080\">Block Type: TextParserBlock</span>                                                                                     <span style=\"color: #000080; text-decoration-color: #000080\">│</span>\n",
       "<span style=\"color: #000080; text-decoration-color: #000080\">│</span> <span style=\"color: #008080; text-decoration-color: #008080; font-weight: bold\">Input Rows: 50</span>                                                                                                  <span style=\"color: #000080; text-decoration-color: #000080\">│</span>\n",
       "<span style=\"color: #000080; text-decoration-color: #000080\">│</span> <span style=\"color: #008080; text-decoration-color: #008080\">Input Columns: 13</span>                                                                                               <span style=\"color: #000080; text-decoration-color: #000080\">│</span>\n",
       "<span style=\"color: #000080; text-decoration-color: #000080\">│</span> <span style=\"color: #c0c0c0; text-decoration-color: #c0c0c0\">Column Names: Headline, Journalists, Date, Link, text, summary_prompt, raw_summary, summary, keywords_prompt, </span>  <span style=\"color: #000080; text-decoration-color: #000080\">│</span>\n",
       "<span style=\"color: #000080; text-decoration-color: #000080\">│</span> <span style=\"color: #c0c0c0; text-decoration-color: #c0c0c0\">raw_keywords, keywords, entities_prompt, raw_entities</span>                                                           <span style=\"color: #000080; text-decoration-color: #000080\">│</span>\n",
       "<span style=\"color: #000080; text-decoration-color: #000080\">│</span> <span style=\"color: #008000; text-decoration-color: #008000\">Expected Output Columns: entities</span>                                                                               <span style=\"color: #000080; text-decoration-color: #000080\">│</span>\n",
       "<span style=\"color: #000080; text-decoration-color: #000080\">╰─────────────────────────────────────────────────────────────────────────────────────────────────────────────────╯</span>\n",
       "</pre>\n"
      ],
      "text/plain": [
       "\u001b[34m╭─\u001b[0m\u001b[34m───────────────────────────────────────────────\u001b[0m\u001b[34m \u001b[0m\u001b[1;34mparse_entities\u001b[0m\u001b[34m \u001b[0m\u001b[34m────────────────────────────────────────────────\u001b[0m\u001b[34m─╮\u001b[0m\n",
       "\u001b[34m│\u001b[0m \u001b[1;34m📊 Processing Input Data\u001b[0m                                                                                        \u001b[34m│\u001b[0m\n",
       "\u001b[34m│\u001b[0m \u001b[36mBlock Type: TextParserBlock\u001b[0m                                                                                     \u001b[34m│\u001b[0m\n",
       "\u001b[34m│\u001b[0m \u001b[1;36mInput Rows: 50\u001b[0m                                                                                                  \u001b[34m│\u001b[0m\n",
       "\u001b[34m│\u001b[0m \u001b[36mInput Columns: 13\u001b[0m                                                                                               \u001b[34m│\u001b[0m\n",
       "\u001b[34m│\u001b[0m \u001b[37mColumn Names: Headline, Journalists, Date, Link, text, summary_prompt, raw_summary, summary, keywords_prompt, \u001b[0m  \u001b[34m│\u001b[0m\n",
       "\u001b[34m│\u001b[0m \u001b[37mraw_keywords, keywords, entities_prompt, raw_entities\u001b[0m                                                           \u001b[34m│\u001b[0m\n",
       "\u001b[34m│\u001b[0m \u001b[32mExpected Output Columns: entities\u001b[0m                                                                               \u001b[34m│\u001b[0m\n",
       "\u001b[34m╰─────────────────────────────────────────────────────────────────────────────────────────────────────────────────╯\u001b[0m\n"
      ]
     },
     "metadata": {},
     "output_type": "display_data"
    },
    {
     "data": {
      "text/html": [
       "<pre style=\"white-space:pre;overflow-x:auto;line-height:normal;font-family:Menlo,'DejaVu Sans Mono',consolas,'Courier New',monospace\"><span style=\"color: #008000; text-decoration-color: #008000\">╭─────────────────────────────────────────── </span><span style=\"color: #008000; text-decoration-color: #008000; font-weight: bold\">parse_entities - Complete</span><span style=\"color: #008000; text-decoration-color: #008000\"> ───────────────────────────────────────────╮</span>\n",
       "<span style=\"color: #008000; text-decoration-color: #008000\">│</span> <span style=\"color: #008000; text-decoration-color: #008000; font-weight: bold\">✅ Processing Complete</span>                                                                                          <span style=\"color: #008000; text-decoration-color: #008000\">│</span>\n",
       "<span style=\"color: #008000; text-decoration-color: #008000\">│</span> <span style=\"color: #008080; text-decoration-color: #008080\">Rows: 50 → 50</span>                                                                                                   <span style=\"color: #008000; text-decoration-color: #008000\">│</span>\n",
       "<span style=\"color: #008000; text-decoration-color: #008000\">│</span> <span style=\"color: #008080; text-decoration-color: #008080\">Columns: 13 → 14</span>                                                                                                <span style=\"color: #008000; text-decoration-color: #008000\">│</span>\n",
       "<span style=\"color: #008000; text-decoration-color: #008000\">│</span> <span style=\"color: #008000; text-decoration-color: #008000\">🟢 Added: entities</span>                                                                                              <span style=\"color: #008000; text-decoration-color: #008000\">│</span>\n",
       "<span style=\"color: #008000; text-decoration-color: #008000\">│</span> <span style=\"color: #c0c0c0; text-decoration-color: #c0c0c0\">📋 Final Columns: Date, Headline, Journalists, Link, entities, entities_prompt, keywords, keywords_prompt, </span>     <span style=\"color: #008000; text-decoration-color: #008000\">│</span>\n",
       "<span style=\"color: #008000; text-decoration-color: #008000\">│</span> <span style=\"color: #c0c0c0; text-decoration-color: #c0c0c0\">raw_entities, raw_keywords, raw_summary, summary, summary_prompt, text</span>                                          <span style=\"color: #008000; text-decoration-color: #008000\">│</span>\n",
       "<span style=\"color: #008000; text-decoration-color: #008000\">╰─────────────────────────────────────────────────────────────────────────────────────────────────────────────────╯</span>\n",
       "</pre>\n"
      ],
      "text/plain": [
       "\u001b[32m╭─\u001b[0m\u001b[32m──────────────────────────────────────────\u001b[0m\u001b[32m \u001b[0m\u001b[1;32mparse_entities - Complete\u001b[0m\u001b[32m \u001b[0m\u001b[32m──────────────────────────────────────────\u001b[0m\u001b[32m─╮\u001b[0m\n",
       "\u001b[32m│\u001b[0m \u001b[1;32m✅ Processing Complete\u001b[0m                                                                                          \u001b[32m│\u001b[0m\n",
       "\u001b[32m│\u001b[0m \u001b[36mRows: 50 → 50\u001b[0m                                                                                                   \u001b[32m│\u001b[0m\n",
       "\u001b[32m│\u001b[0m \u001b[36mColumns: 13 → 14\u001b[0m                                                                                                \u001b[32m│\u001b[0m\n",
       "\u001b[32m│\u001b[0m \u001b[32m🟢 Added: entities\u001b[0m                                                                                              \u001b[32m│\u001b[0m\n",
       "\u001b[32m│\u001b[0m \u001b[37m📋 Final Columns: Date, Headline, Journalists, Link, entities, entities_prompt, keywords, keywords_prompt, \u001b[0m     \u001b[32m│\u001b[0m\n",
       "\u001b[32m│\u001b[0m \u001b[37mraw_entities, raw_keywords, raw_summary, summary, summary_prompt, text\u001b[0m                                          \u001b[32m│\u001b[0m\n",
       "\u001b[32m╰─────────────────────────────────────────────────────────────────────────────────────────────────────────────────╯\u001b[0m\n"
      ]
     },
     "metadata": {},
     "output_type": "display_data"
    },
    {
     "data": {
      "text/html": [
       "<pre style=\"white-space:pre;overflow-x:auto;line-height:normal;font-family:Menlo,'DejaVu Sans Mono',consolas,'Courier New',monospace\"><span style=\"color: #7fbfbf; text-decoration-color: #7fbfbf\">           </span><span style=\"color: #000080; text-decoration-color: #000080\">INFO    </span> Block <span style=\"color: #008000; text-decoration-color: #008000\">'parse_entities'</span> completed successfully: <span style=\"color: #008080; text-decoration-color: #008080; font-weight: bold\">50</span> samples, <span style=\"color: #008080; text-decoration-color: #008080; font-weight: bold\">14</span> columns               <a href=\"file:///Users/shiv/workspace/sdg_hub/src/sdg_hub/core/flow/base.py\" target=\"_blank\"><span style=\"color: #7f7f7f; text-decoration-color: #7f7f7f\">base.py</span></a><span style=\"color: #7f7f7f; text-decoration-color: #7f7f7f\">:</span><a href=\"file:///Users/shiv/workspace/sdg_hub/src/sdg_hub/core/flow/base.py#732\" target=\"_blank\"><span style=\"color: #7f7f7f; text-decoration-color: #7f7f7f\">732</span></a>\n",
       "</pre>\n"
      ],
      "text/plain": [
       "\u001b[2;36m          \u001b[0m\u001b[2;36m \u001b[0m\u001b[34mINFO    \u001b[0m Block \u001b[32m'parse_entities'\u001b[0m completed successfully: \u001b[1;36m50\u001b[0m samples, \u001b[1;36m14\u001b[0m columns               \u001b]8;id=110342;file:///Users/shiv/workspace/sdg_hub/src/sdg_hub/core/flow/base.py\u001b\\\u001b[2mbase.py\u001b[0m\u001b]8;;\u001b\\\u001b[2m:\u001b[0m\u001b]8;id=171983;file:///Users/shiv/workspace/sdg_hub/src/sdg_hub/core/flow/base.py#732\u001b\\\u001b[2m732\u001b[0m\u001b]8;;\u001b\\\n"
      ]
     },
     "metadata": {},
     "output_type": "display_data"
    },
    {
     "data": {
      "text/html": [
       "<pre style=\"white-space:pre;overflow-x:auto;line-height:normal;font-family:Menlo,'DejaVu Sans Mono',consolas,'Courier New',monospace\"><span style=\"color: #7fbfbf; text-decoration-color: #7fbfbf\">           </span><span style=\"color: #000080; text-decoration-color: #000080\">INFO    </span> Executing block <span style=\"color: #008080; text-decoration-color: #008080; font-weight: bold\">10</span>/<span style=\"color: #008080; text-decoration-color: #008080; font-weight: bold\">13</span>: build_sentiment_prompt <span style=\"font-weight: bold\">(</span>PromptBuilderBlock<span style=\"font-weight: bold\">)</span>                  <a href=\"file:///Users/shiv/workspace/sdg_hub/src/sdg_hub/core/flow/base.py\" target=\"_blank\"><span style=\"color: #7f7f7f; text-decoration-color: #7f7f7f\">base.py</span></a><span style=\"color: #7f7f7f; text-decoration-color: #7f7f7f\">:</span><a href=\"file:///Users/shiv/workspace/sdg_hub/src/sdg_hub/core/flow/base.py#670\" target=\"_blank\"><span style=\"color: #7f7f7f; text-decoration-color: #7f7f7f\">670</span></a>\n",
       "</pre>\n"
      ],
      "text/plain": [
       "\u001b[2;36m          \u001b[0m\u001b[2;36m \u001b[0m\u001b[34mINFO    \u001b[0m Executing block \u001b[1;36m10\u001b[0m/\u001b[1;36m13\u001b[0m: build_sentiment_prompt \u001b[1m(\u001b[0mPromptBuilderBlock\u001b[1m)\u001b[0m                  \u001b]8;id=945601;file:///Users/shiv/workspace/sdg_hub/src/sdg_hub/core/flow/base.py\u001b\\\u001b[2mbase.py\u001b[0m\u001b]8;;\u001b\\\u001b[2m:\u001b[0m\u001b]8;id=683183;file:///Users/shiv/workspace/sdg_hub/src/sdg_hub/core/flow/base.py#670\u001b\\\u001b[2m670\u001b[0m\u001b]8;;\u001b\\\n"
      ]
     },
     "metadata": {},
     "output_type": "display_data"
    },
    {
     "data": {
      "text/html": [
       "<pre style=\"white-space:pre;overflow-x:auto;line-height:normal;font-family:Menlo,'DejaVu Sans Mono',consolas,'Courier New',monospace\"><span style=\"color: #000080; text-decoration-color: #000080\">╭──────────────────────────────────────────── </span><span style=\"color: #000080; text-decoration-color: #000080; font-weight: bold\">build_sentiment_prompt</span><span style=\"color: #000080; text-decoration-color: #000080\"> ─────────────────────────────────────────────╮</span>\n",
       "<span style=\"color: #000080; text-decoration-color: #000080\">│</span> <span style=\"color: #000080; text-decoration-color: #000080; font-weight: bold\">📊 Processing Input Data</span>                                                                                        <span style=\"color: #000080; text-decoration-color: #000080\">│</span>\n",
       "<span style=\"color: #000080; text-decoration-color: #000080\">│</span> <span style=\"color: #008080; text-decoration-color: #008080\">Block Type: PromptBuilderBlock</span>                                                                                  <span style=\"color: #000080; text-decoration-color: #000080\">│</span>\n",
       "<span style=\"color: #000080; text-decoration-color: #000080\">│</span> <span style=\"color: #008080; text-decoration-color: #008080; font-weight: bold\">Input Rows: 50</span>                                                                                                  <span style=\"color: #000080; text-decoration-color: #000080\">│</span>\n",
       "<span style=\"color: #000080; text-decoration-color: #000080\">│</span> <span style=\"color: #008080; text-decoration-color: #008080\">Input Columns: 14</span>                                                                                               <span style=\"color: #000080; text-decoration-color: #000080\">│</span>\n",
       "<span style=\"color: #000080; text-decoration-color: #000080\">│</span> <span style=\"color: #c0c0c0; text-decoration-color: #c0c0c0\">Column Names: Headline, Journalists, Date, Link, text, summary_prompt, raw_summary, summary, keywords_prompt, </span>  <span style=\"color: #000080; text-decoration-color: #000080\">│</span>\n",
       "<span style=\"color: #000080; text-decoration-color: #000080\">│</span> <span style=\"color: #c0c0c0; text-decoration-color: #c0c0c0\">raw_keywords, keywords, entities_prompt, raw_entities, entities</span>                                                 <span style=\"color: #000080; text-decoration-color: #000080\">│</span>\n",
       "<span style=\"color: #000080; text-decoration-color: #000080\">│</span> <span style=\"color: #008000; text-decoration-color: #008000\">Expected Output Columns: sentiment_prompt</span>                                                                       <span style=\"color: #000080; text-decoration-color: #000080\">│</span>\n",
       "<span style=\"color: #000080; text-decoration-color: #000080\">╰─────────────────────────────────────────────────────────────────────────────────────────────────────────────────╯</span>\n",
       "</pre>\n"
      ],
      "text/plain": [
       "\u001b[34m╭─\u001b[0m\u001b[34m───────────────────────────────────────────\u001b[0m\u001b[34m \u001b[0m\u001b[1;34mbuild_sentiment_prompt\u001b[0m\u001b[34m \u001b[0m\u001b[34m────────────────────────────────────────────\u001b[0m\u001b[34m─╮\u001b[0m\n",
       "\u001b[34m│\u001b[0m \u001b[1;34m📊 Processing Input Data\u001b[0m                                                                                        \u001b[34m│\u001b[0m\n",
       "\u001b[34m│\u001b[0m \u001b[36mBlock Type: PromptBuilderBlock\u001b[0m                                                                                  \u001b[34m│\u001b[0m\n",
       "\u001b[34m│\u001b[0m \u001b[1;36mInput Rows: 50\u001b[0m                                                                                                  \u001b[34m│\u001b[0m\n",
       "\u001b[34m│\u001b[0m \u001b[36mInput Columns: 14\u001b[0m                                                                                               \u001b[34m│\u001b[0m\n",
       "\u001b[34m│\u001b[0m \u001b[37mColumn Names: Headline, Journalists, Date, Link, text, summary_prompt, raw_summary, summary, keywords_prompt, \u001b[0m  \u001b[34m│\u001b[0m\n",
       "\u001b[34m│\u001b[0m \u001b[37mraw_keywords, keywords, entities_prompt, raw_entities, entities\u001b[0m                                                 \u001b[34m│\u001b[0m\n",
       "\u001b[34m│\u001b[0m \u001b[32mExpected Output Columns: sentiment_prompt\u001b[0m                                                                       \u001b[34m│\u001b[0m\n",
       "\u001b[34m╰─────────────────────────────────────────────────────────────────────────────────────────────────────────────────╯\u001b[0m\n"
      ]
     },
     "metadata": {},
     "output_type": "display_data"
    },
    {
     "name": "stderr",
     "output_type": "stream",
     "text": [
      "Map: 100%|██████████| 50/50 [00:00<00:00, 4648.56 examples/s]\n"
     ]
    },
    {
     "data": {
      "text/html": [
       "<pre style=\"white-space:pre;overflow-x:auto;line-height:normal;font-family:Menlo,'DejaVu Sans Mono',consolas,'Courier New',monospace\"><span style=\"color: #008000; text-decoration-color: #008000\">╭─────────────────────────────────────── </span><span style=\"color: #008000; text-decoration-color: #008000; font-weight: bold\">build_sentiment_prompt - Complete</span><span style=\"color: #008000; text-decoration-color: #008000\"> ───────────────────────────────────────╮</span>\n",
       "<span style=\"color: #008000; text-decoration-color: #008000\">│</span> <span style=\"color: #008000; text-decoration-color: #008000; font-weight: bold\">✅ Processing Complete</span>                                                                                          <span style=\"color: #008000; text-decoration-color: #008000\">│</span>\n",
       "<span style=\"color: #008000; text-decoration-color: #008000\">│</span> <span style=\"color: #008080; text-decoration-color: #008080\">Rows: 50 → 50</span>                                                                                                   <span style=\"color: #008000; text-decoration-color: #008000\">│</span>\n",
       "<span style=\"color: #008000; text-decoration-color: #008000\">│</span> <span style=\"color: #008080; text-decoration-color: #008080\">Columns: 14 → 15</span>                                                                                                <span style=\"color: #008000; text-decoration-color: #008000\">│</span>\n",
       "<span style=\"color: #008000; text-decoration-color: #008000\">│</span> <span style=\"color: #008000; text-decoration-color: #008000\">🟢 Added: sentiment_prompt</span>                                                                                      <span style=\"color: #008000; text-decoration-color: #008000\">│</span>\n",
       "<span style=\"color: #008000; text-decoration-color: #008000\">│</span> <span style=\"color: #c0c0c0; text-decoration-color: #c0c0c0\">📋 Final Columns: Date, Headline, Journalists, Link, entities, entities_prompt, keywords, keywords_prompt, </span>     <span style=\"color: #008000; text-decoration-color: #008000\">│</span>\n",
       "<span style=\"color: #008000; text-decoration-color: #008000\">│</span> <span style=\"color: #c0c0c0; text-decoration-color: #c0c0c0\">raw_entities, raw_keywords, raw_summary, sentiment_prompt, summary, summary_prompt, text</span>                        <span style=\"color: #008000; text-decoration-color: #008000\">│</span>\n",
       "<span style=\"color: #008000; text-decoration-color: #008000\">╰─────────────────────────────────────────────────────────────────────────────────────────────────────────────────╯</span>\n",
       "</pre>\n"
      ],
      "text/plain": [
       "\u001b[32m╭─\u001b[0m\u001b[32m──────────────────────────────────────\u001b[0m\u001b[32m \u001b[0m\u001b[1;32mbuild_sentiment_prompt - Complete\u001b[0m\u001b[32m \u001b[0m\u001b[32m──────────────────────────────────────\u001b[0m\u001b[32m─╮\u001b[0m\n",
       "\u001b[32m│\u001b[0m \u001b[1;32m✅ Processing Complete\u001b[0m                                                                                          \u001b[32m│\u001b[0m\n",
       "\u001b[32m│\u001b[0m \u001b[36mRows: 50 → 50\u001b[0m                                                                                                   \u001b[32m│\u001b[0m\n",
       "\u001b[32m│\u001b[0m \u001b[36mColumns: 14 → 15\u001b[0m                                                                                                \u001b[32m│\u001b[0m\n",
       "\u001b[32m│\u001b[0m \u001b[32m🟢 Added: sentiment_prompt\u001b[0m                                                                                      \u001b[32m│\u001b[0m\n",
       "\u001b[32m│\u001b[0m \u001b[37m📋 Final Columns: Date, Headline, Journalists, Link, entities, entities_prompt, keywords, keywords_prompt, \u001b[0m     \u001b[32m│\u001b[0m\n",
       "\u001b[32m│\u001b[0m \u001b[37mraw_entities, raw_keywords, raw_summary, sentiment_prompt, summary, summary_prompt, text\u001b[0m                        \u001b[32m│\u001b[0m\n",
       "\u001b[32m╰─────────────────────────────────────────────────────────────────────────────────────────────────────────────────╯\u001b[0m\n"
      ]
     },
     "metadata": {},
     "output_type": "display_data"
    },
    {
     "data": {
      "text/html": [
       "<pre style=\"white-space:pre;overflow-x:auto;line-height:normal;font-family:Menlo,'DejaVu Sans Mono',consolas,'Courier New',monospace\"><span style=\"color: #7fbfbf; text-decoration-color: #7fbfbf\">           </span><span style=\"color: #000080; text-decoration-color: #000080\">INFO    </span> Block <span style=\"color: #008000; text-decoration-color: #008000\">'build_sentiment_prompt'</span> completed successfully: <span style=\"color: #008080; text-decoration-color: #008080; font-weight: bold\">50</span> samples, <span style=\"color: #008080; text-decoration-color: #008080; font-weight: bold\">15</span> columns       <a href=\"file:///Users/shiv/workspace/sdg_hub/src/sdg_hub/core/flow/base.py\" target=\"_blank\"><span style=\"color: #7f7f7f; text-decoration-color: #7f7f7f\">base.py</span></a><span style=\"color: #7f7f7f; text-decoration-color: #7f7f7f\">:</span><a href=\"file:///Users/shiv/workspace/sdg_hub/src/sdg_hub/core/flow/base.py#732\" target=\"_blank\"><span style=\"color: #7f7f7f; text-decoration-color: #7f7f7f\">732</span></a>\n",
       "</pre>\n"
      ],
      "text/plain": [
       "\u001b[2;36m          \u001b[0m\u001b[2;36m \u001b[0m\u001b[34mINFO    \u001b[0m Block \u001b[32m'build_sentiment_prompt'\u001b[0m completed successfully: \u001b[1;36m50\u001b[0m samples, \u001b[1;36m15\u001b[0m columns       \u001b]8;id=848188;file:///Users/shiv/workspace/sdg_hub/src/sdg_hub/core/flow/base.py\u001b\\\u001b[2mbase.py\u001b[0m\u001b]8;;\u001b\\\u001b[2m:\u001b[0m\u001b]8;id=388599;file:///Users/shiv/workspace/sdg_hub/src/sdg_hub/core/flow/base.py#732\u001b\\\u001b[2m732\u001b[0m\u001b]8;;\u001b\\\n"
      ]
     },
     "metadata": {},
     "output_type": "display_data"
    },
    {
     "data": {
      "text/html": [
       "<pre style=\"white-space:pre;overflow-x:auto;line-height:normal;font-family:Menlo,'DejaVu Sans Mono',consolas,'Courier New',monospace\"><span style=\"color: #7fbfbf; text-decoration-color: #7fbfbf\">           </span><span style=\"color: #000080; text-decoration-color: #000080\">INFO    </span> Executing block <span style=\"color: #008080; text-decoration-color: #008080; font-weight: bold\">11</span>/<span style=\"color: #008080; text-decoration-color: #008080; font-weight: bold\">13</span>: generate_sentiment <span style=\"font-weight: bold\">(</span>LLMChatBlock<span style=\"font-weight: bold\">)</span>                            <a href=\"file:///Users/shiv/workspace/sdg_hub/src/sdg_hub/core/flow/base.py\" target=\"_blank\"><span style=\"color: #7f7f7f; text-decoration-color: #7f7f7f\">base.py</span></a><span style=\"color: #7f7f7f; text-decoration-color: #7f7f7f\">:</span><a href=\"file:///Users/shiv/workspace/sdg_hub/src/sdg_hub/core/flow/base.py#670\" target=\"_blank\"><span style=\"color: #7f7f7f; text-decoration-color: #7f7f7f\">670</span></a>\n",
       "</pre>\n"
      ],
      "text/plain": [
       "\u001b[2;36m          \u001b[0m\u001b[2;36m \u001b[0m\u001b[34mINFO    \u001b[0m Executing block \u001b[1;36m11\u001b[0m/\u001b[1;36m13\u001b[0m: generate_sentiment \u001b[1m(\u001b[0mLLMChatBlock\u001b[1m)\u001b[0m                            \u001b]8;id=219270;file:///Users/shiv/workspace/sdg_hub/src/sdg_hub/core/flow/base.py\u001b\\\u001b[2mbase.py\u001b[0m\u001b]8;;\u001b\\\u001b[2m:\u001b[0m\u001b]8;id=474229;file:///Users/shiv/workspace/sdg_hub/src/sdg_hub/core/flow/base.py#670\u001b\\\u001b[2m670\u001b[0m\u001b]8;;\u001b\\\n"
      ]
     },
     "metadata": {},
     "output_type": "display_data"
    },
    {
     "data": {
      "text/html": [
       "<pre style=\"white-space:pre;overflow-x:auto;line-height:normal;font-family:Menlo,'DejaVu Sans Mono',consolas,'Courier New',monospace\"><span style=\"color: #000080; text-decoration-color: #000080\">╭────────────────────────────────────────────── </span><span style=\"color: #000080; text-decoration-color: #000080; font-weight: bold\">generate_sentiment</span><span style=\"color: #000080; text-decoration-color: #000080\"> ───────────────────────────────────────────────╮</span>\n",
       "<span style=\"color: #000080; text-decoration-color: #000080\">│</span> <span style=\"color: #000080; text-decoration-color: #000080; font-weight: bold\">📊 Processing Input Data</span>                                                                                        <span style=\"color: #000080; text-decoration-color: #000080\">│</span>\n",
       "<span style=\"color: #000080; text-decoration-color: #000080\">│</span> <span style=\"color: #008080; text-decoration-color: #008080\">Block Type: LLMChatBlock</span>                                                                                        <span style=\"color: #000080; text-decoration-color: #000080\">│</span>\n",
       "<span style=\"color: #000080; text-decoration-color: #000080\">│</span> <span style=\"color: #008080; text-decoration-color: #008080; font-weight: bold\">Input Rows: 50</span>                                                                                                  <span style=\"color: #000080; text-decoration-color: #000080\">│</span>\n",
       "<span style=\"color: #000080; text-decoration-color: #000080\">│</span> <span style=\"color: #008080; text-decoration-color: #008080\">Input Columns: 15</span>                                                                                               <span style=\"color: #000080; text-decoration-color: #000080\">│</span>\n",
       "<span style=\"color: #000080; text-decoration-color: #000080\">│</span> <span style=\"color: #c0c0c0; text-decoration-color: #c0c0c0\">Column Names: Headline, Journalists, Date, Link, text, summary_prompt, raw_summary, summary, keywords_prompt, </span>  <span style=\"color: #000080; text-decoration-color: #000080\">│</span>\n",
       "<span style=\"color: #000080; text-decoration-color: #000080\">│</span> <span style=\"color: #c0c0c0; text-decoration-color: #c0c0c0\">raw_keywords, keywords, entities_prompt, raw_entities, entities, sentiment_prompt</span>                               <span style=\"color: #000080; text-decoration-color: #000080\">│</span>\n",
       "<span style=\"color: #000080; text-decoration-color: #000080\">│</span> <span style=\"color: #008000; text-decoration-color: #008000\">Expected Output Columns: raw_sentiment</span>                                                                          <span style=\"color: #000080; text-decoration-color: #000080\">│</span>\n",
       "<span style=\"color: #000080; text-decoration-color: #000080\">╰─────────────────────────────────────────────────────────────────────────────────────────────────────────────────╯</span>\n",
       "</pre>\n"
      ],
      "text/plain": [
       "\u001b[34m╭─\u001b[0m\u001b[34m─────────────────────────────────────────────\u001b[0m\u001b[34m \u001b[0m\u001b[1;34mgenerate_sentiment\u001b[0m\u001b[34m \u001b[0m\u001b[34m──────────────────────────────────────────────\u001b[0m\u001b[34m─╮\u001b[0m\n",
       "\u001b[34m│\u001b[0m \u001b[1;34m📊 Processing Input Data\u001b[0m                                                                                        \u001b[34m│\u001b[0m\n",
       "\u001b[34m│\u001b[0m \u001b[36mBlock Type: LLMChatBlock\u001b[0m                                                                                        \u001b[34m│\u001b[0m\n",
       "\u001b[34m│\u001b[0m \u001b[1;36mInput Rows: 50\u001b[0m                                                                                                  \u001b[34m│\u001b[0m\n",
       "\u001b[34m│\u001b[0m \u001b[36mInput Columns: 15\u001b[0m                                                                                               \u001b[34m│\u001b[0m\n",
       "\u001b[34m│\u001b[0m \u001b[37mColumn Names: Headline, Journalists, Date, Link, text, summary_prompt, raw_summary, summary, keywords_prompt, \u001b[0m  \u001b[34m│\u001b[0m\n",
       "\u001b[34m│\u001b[0m \u001b[37mraw_keywords, keywords, entities_prompt, raw_entities, entities, sentiment_prompt\u001b[0m                               \u001b[34m│\u001b[0m\n",
       "\u001b[34m│\u001b[0m \u001b[32mExpected Output Columns: raw_sentiment\u001b[0m                                                                          \u001b[34m│\u001b[0m\n",
       "\u001b[34m╰─────────────────────────────────────────────────────────────────────────────────────────────────────────────────╯\u001b[0m\n"
      ]
     },
     "metadata": {},
     "output_type": "display_data"
    },
    {
     "data": {
      "text/html": [
       "<pre style=\"white-space:pre;overflow-x:auto;line-height:normal;font-family:Menlo,'DejaVu Sans Mono',consolas,'Courier New',monospace\"><span style=\"color: #7fbfbf; text-decoration-color: #7fbfbf\">           </span><span style=\"color: #000080; text-decoration-color: #000080\">INFO    </span> Starting async generation for <span style=\"color: #008080; text-decoration-color: #008080; font-weight: bold\">50</span> samples                                  <a href=\"file:///Users/shiv/workspace/sdg_hub/src/sdg_hub/core/blocks/llm/llm_chat_block.py\" target=\"_blank\"><span style=\"color: #7f7f7f; text-decoration-color: #7f7f7f\">llm_chat_block.py</span></a><span style=\"color: #7f7f7f; text-decoration-color: #7f7f7f\">:</span><a href=\"file:///Users/shiv/workspace/sdg_hub/src/sdg_hub/core/blocks/llm/llm_chat_block.py#329\" target=\"_blank\"><span style=\"color: #7f7f7f; text-decoration-color: #7f7f7f\">329</span></a>\n",
       "</pre>\n"
      ],
      "text/plain": [
       "\u001b[2;36m          \u001b[0m\u001b[2;36m \u001b[0m\u001b[34mINFO    \u001b[0m Starting async generation for \u001b[1;36m50\u001b[0m samples                                  \u001b]8;id=790034;file:///Users/shiv/workspace/sdg_hub/src/sdg_hub/core/blocks/llm/llm_chat_block.py\u001b\\\u001b[2mllm_chat_block.py\u001b[0m\u001b]8;;\u001b\\\u001b[2m:\u001b[0m\u001b]8;id=191589;file:///Users/shiv/workspace/sdg_hub/src/sdg_hub/core/blocks/llm/llm_chat_block.py#329\u001b\\\u001b[2m329\u001b[0m\u001b]8;;\u001b\\\n"
      ]
     },
     "metadata": {},
     "output_type": "display_data"
    },
    {
     "data": {
      "text/html": [
       "<pre style=\"white-space:pre;overflow-x:auto;line-height:normal;font-family:Menlo,'DejaVu Sans Mono',consolas,'Courier New',monospace\"><span style=\"color: #7fbfbf; text-decoration-color: #7fbfbf\">           </span><span style=\"color: #000080; text-decoration-color: #000080\">INFO    </span> Generation completed successfully for <span style=\"color: #008080; text-decoration-color: #008080; font-weight: bold\">50</span> samples                          <a href=\"file:///Users/shiv/workspace/sdg_hub/src/sdg_hub/core/blocks/llm/llm_chat_block.py\" target=\"_blank\"><span style=\"color: #7f7f7f; text-decoration-color: #7f7f7f\">llm_chat_block.py</span></a><span style=\"color: #7f7f7f; text-decoration-color: #7f7f7f\">:</span><a href=\"file:///Users/shiv/workspace/sdg_hub/src/sdg_hub/core/blocks/llm/llm_chat_block.py#393\" target=\"_blank\"><span style=\"color: #7f7f7f; text-decoration-color: #7f7f7f\">393</span></a>\n",
       "</pre>\n"
      ],
      "text/plain": [
       "\u001b[2;36m          \u001b[0m\u001b[2;36m \u001b[0m\u001b[34mINFO    \u001b[0m Generation completed successfully for \u001b[1;36m50\u001b[0m samples                          \u001b]8;id=203377;file:///Users/shiv/workspace/sdg_hub/src/sdg_hub/core/blocks/llm/llm_chat_block.py\u001b\\\u001b[2mllm_chat_block.py\u001b[0m\u001b]8;;\u001b\\\u001b[2m:\u001b[0m\u001b]8;id=750140;file:///Users/shiv/workspace/sdg_hub/src/sdg_hub/core/blocks/llm/llm_chat_block.py#393\u001b\\\u001b[2m393\u001b[0m\u001b]8;;\u001b\\\n"
      ]
     },
     "metadata": {},
     "output_type": "display_data"
    },
    {
     "data": {
      "text/html": [
       "<pre style=\"white-space:pre;overflow-x:auto;line-height:normal;font-family:Menlo,'DejaVu Sans Mono',consolas,'Courier New',monospace\"><span style=\"color: #008000; text-decoration-color: #008000\">╭───────────────────────────────────────── </span><span style=\"color: #008000; text-decoration-color: #008000; font-weight: bold\">generate_sentiment - Complete</span><span style=\"color: #008000; text-decoration-color: #008000\"> ─────────────────────────────────────────╮</span>\n",
       "<span style=\"color: #008000; text-decoration-color: #008000\">│</span> <span style=\"color: #008000; text-decoration-color: #008000; font-weight: bold\">✅ Processing Complete</span>                                                                                          <span style=\"color: #008000; text-decoration-color: #008000\">│</span>\n",
       "<span style=\"color: #008000; text-decoration-color: #008000\">│</span> <span style=\"color: #008080; text-decoration-color: #008080\">Rows: 50 → 50</span>                                                                                                   <span style=\"color: #008000; text-decoration-color: #008000\">│</span>\n",
       "<span style=\"color: #008000; text-decoration-color: #008000\">│</span> <span style=\"color: #008080; text-decoration-color: #008080\">Columns: 15 → 16</span>                                                                                                <span style=\"color: #008000; text-decoration-color: #008000\">│</span>\n",
       "<span style=\"color: #008000; text-decoration-color: #008000\">│</span> <span style=\"color: #008000; text-decoration-color: #008000\">🟢 Added: raw_sentiment</span>                                                                                         <span style=\"color: #008000; text-decoration-color: #008000\">│</span>\n",
       "<span style=\"color: #008000; text-decoration-color: #008000\">│</span> <span style=\"color: #c0c0c0; text-decoration-color: #c0c0c0\">📋 Final Columns: Date, Headline, Journalists, Link, entities, entities_prompt, keywords, keywords_prompt, </span>     <span style=\"color: #008000; text-decoration-color: #008000\">│</span>\n",
       "<span style=\"color: #008000; text-decoration-color: #008000\">│</span> <span style=\"color: #c0c0c0; text-decoration-color: #c0c0c0\">raw_entities, raw_keywords, raw_sentiment, raw_summary, sentiment_prompt, summary, summary_prompt, text</span>         <span style=\"color: #008000; text-decoration-color: #008000\">│</span>\n",
       "<span style=\"color: #008000; text-decoration-color: #008000\">╰─────────────────────────────────────────────────────────────────────────────────────────────────────────────────╯</span>\n",
       "</pre>\n"
      ],
      "text/plain": [
       "\u001b[32m╭─\u001b[0m\u001b[32m────────────────────────────────────────\u001b[0m\u001b[32m \u001b[0m\u001b[1;32mgenerate_sentiment - Complete\u001b[0m\u001b[32m \u001b[0m\u001b[32m────────────────────────────────────────\u001b[0m\u001b[32m─╮\u001b[0m\n",
       "\u001b[32m│\u001b[0m \u001b[1;32m✅ Processing Complete\u001b[0m                                                                                          \u001b[32m│\u001b[0m\n",
       "\u001b[32m│\u001b[0m \u001b[36mRows: 50 → 50\u001b[0m                                                                                                   \u001b[32m│\u001b[0m\n",
       "\u001b[32m│\u001b[0m \u001b[36mColumns: 15 → 16\u001b[0m                                                                                                \u001b[32m│\u001b[0m\n",
       "\u001b[32m│\u001b[0m \u001b[32m🟢 Added: raw_sentiment\u001b[0m                                                                                         \u001b[32m│\u001b[0m\n",
       "\u001b[32m│\u001b[0m \u001b[37m📋 Final Columns: Date, Headline, Journalists, Link, entities, entities_prompt, keywords, keywords_prompt, \u001b[0m     \u001b[32m│\u001b[0m\n",
       "\u001b[32m│\u001b[0m \u001b[37mraw_entities, raw_keywords, raw_sentiment, raw_summary, sentiment_prompt, summary, summary_prompt, text\u001b[0m         \u001b[32m│\u001b[0m\n",
       "\u001b[32m╰─────────────────────────────────────────────────────────────────────────────────────────────────────────────────╯\u001b[0m\n"
      ]
     },
     "metadata": {},
     "output_type": "display_data"
    },
    {
     "data": {
      "text/html": [
       "<pre style=\"white-space:pre;overflow-x:auto;line-height:normal;font-family:Menlo,'DejaVu Sans Mono',consolas,'Courier New',monospace\"><span style=\"color: #7fbfbf; text-decoration-color: #7fbfbf\">           </span><span style=\"color: #000080; text-decoration-color: #000080\">INFO    </span> Block <span style=\"color: #008000; text-decoration-color: #008000\">'generate_sentiment'</span> completed successfully: <span style=\"color: #008080; text-decoration-color: #008080; font-weight: bold\">50</span> samples, <span style=\"color: #008080; text-decoration-color: #008080; font-weight: bold\">16</span> columns           <a href=\"file:///Users/shiv/workspace/sdg_hub/src/sdg_hub/core/flow/base.py\" target=\"_blank\"><span style=\"color: #7f7f7f; text-decoration-color: #7f7f7f\">base.py</span></a><span style=\"color: #7f7f7f; text-decoration-color: #7f7f7f\">:</span><a href=\"file:///Users/shiv/workspace/sdg_hub/src/sdg_hub/core/flow/base.py#732\" target=\"_blank\"><span style=\"color: #7f7f7f; text-decoration-color: #7f7f7f\">732</span></a>\n",
       "</pre>\n"
      ],
      "text/plain": [
       "\u001b[2;36m          \u001b[0m\u001b[2;36m \u001b[0m\u001b[34mINFO    \u001b[0m Block \u001b[32m'generate_sentiment'\u001b[0m completed successfully: \u001b[1;36m50\u001b[0m samples, \u001b[1;36m16\u001b[0m columns           \u001b]8;id=498819;file:///Users/shiv/workspace/sdg_hub/src/sdg_hub/core/flow/base.py\u001b\\\u001b[2mbase.py\u001b[0m\u001b]8;;\u001b\\\u001b[2m:\u001b[0m\u001b]8;id=816352;file:///Users/shiv/workspace/sdg_hub/src/sdg_hub/core/flow/base.py#732\u001b\\\u001b[2m732\u001b[0m\u001b]8;;\u001b\\\n"
      ]
     },
     "metadata": {},
     "output_type": "display_data"
    },
    {
     "data": {
      "text/html": [
       "<pre style=\"white-space:pre;overflow-x:auto;line-height:normal;font-family:Menlo,'DejaVu Sans Mono',consolas,'Courier New',monospace\"><span style=\"color: #7fbfbf; text-decoration-color: #7fbfbf\">           </span><span style=\"color: #000080; text-decoration-color: #000080\">INFO    </span> Executing block <span style=\"color: #008080; text-decoration-color: #008080; font-weight: bold\">12</span>/<span style=\"color: #008080; text-decoration-color: #008080; font-weight: bold\">13</span>: parse_sentiment <span style=\"font-weight: bold\">(</span>TextParserBlock<span style=\"font-weight: bold\">)</span>                            <a href=\"file:///Users/shiv/workspace/sdg_hub/src/sdg_hub/core/flow/base.py\" target=\"_blank\"><span style=\"color: #7f7f7f; text-decoration-color: #7f7f7f\">base.py</span></a><span style=\"color: #7f7f7f; text-decoration-color: #7f7f7f\">:</span><a href=\"file:///Users/shiv/workspace/sdg_hub/src/sdg_hub/core/flow/base.py#670\" target=\"_blank\"><span style=\"color: #7f7f7f; text-decoration-color: #7f7f7f\">670</span></a>\n",
       "</pre>\n"
      ],
      "text/plain": [
       "\u001b[2;36m          \u001b[0m\u001b[2;36m \u001b[0m\u001b[34mINFO    \u001b[0m Executing block \u001b[1;36m12\u001b[0m/\u001b[1;36m13\u001b[0m: parse_sentiment \u001b[1m(\u001b[0mTextParserBlock\u001b[1m)\u001b[0m                            \u001b]8;id=406194;file:///Users/shiv/workspace/sdg_hub/src/sdg_hub/core/flow/base.py\u001b\\\u001b[2mbase.py\u001b[0m\u001b]8;;\u001b\\\u001b[2m:\u001b[0m\u001b]8;id=298655;file:///Users/shiv/workspace/sdg_hub/src/sdg_hub/core/flow/base.py#670\u001b\\\u001b[2m670\u001b[0m\u001b]8;;\u001b\\\n"
      ]
     },
     "metadata": {},
     "output_type": "display_data"
    },
    {
     "data": {
      "text/html": [
       "<pre style=\"white-space:pre;overflow-x:auto;line-height:normal;font-family:Menlo,'DejaVu Sans Mono',consolas,'Courier New',monospace\"><span style=\"color: #000080; text-decoration-color: #000080\">╭──────────────────────────────────────────────── </span><span style=\"color: #000080; text-decoration-color: #000080; font-weight: bold\">parse_sentiment</span><span style=\"color: #000080; text-decoration-color: #000080\"> ────────────────────────────────────────────────╮</span>\n",
       "<span style=\"color: #000080; text-decoration-color: #000080\">│</span> <span style=\"color: #000080; text-decoration-color: #000080; font-weight: bold\">📊 Processing Input Data</span>                                                                                        <span style=\"color: #000080; text-decoration-color: #000080\">│</span>\n",
       "<span style=\"color: #000080; text-decoration-color: #000080\">│</span> <span style=\"color: #008080; text-decoration-color: #008080\">Block Type: TextParserBlock</span>                                                                                     <span style=\"color: #000080; text-decoration-color: #000080\">│</span>\n",
       "<span style=\"color: #000080; text-decoration-color: #000080\">│</span> <span style=\"color: #008080; text-decoration-color: #008080; font-weight: bold\">Input Rows: 50</span>                                                                                                  <span style=\"color: #000080; text-decoration-color: #000080\">│</span>\n",
       "<span style=\"color: #000080; text-decoration-color: #000080\">│</span> <span style=\"color: #008080; text-decoration-color: #008080\">Input Columns: 16</span>                                                                                               <span style=\"color: #000080; text-decoration-color: #000080\">│</span>\n",
       "<span style=\"color: #000080; text-decoration-color: #000080\">│</span> <span style=\"color: #c0c0c0; text-decoration-color: #c0c0c0\">Column Names: Headline, Journalists, Date, Link, text, summary_prompt, raw_summary, summary, keywords_prompt, </span>  <span style=\"color: #000080; text-decoration-color: #000080\">│</span>\n",
       "<span style=\"color: #000080; text-decoration-color: #000080\">│</span> <span style=\"color: #c0c0c0; text-decoration-color: #c0c0c0\">raw_keywords, keywords, entities_prompt, raw_entities, entities, sentiment_prompt, raw_sentiment</span>                <span style=\"color: #000080; text-decoration-color: #000080\">│</span>\n",
       "<span style=\"color: #000080; text-decoration-color: #000080\">│</span> <span style=\"color: #008000; text-decoration-color: #008000\">Expected Output Columns: sentiment</span>                                                                              <span style=\"color: #000080; text-decoration-color: #000080\">│</span>\n",
       "<span style=\"color: #000080; text-decoration-color: #000080\">╰─────────────────────────────────────────────────────────────────────────────────────────────────────────────────╯</span>\n",
       "</pre>\n"
      ],
      "text/plain": [
       "\u001b[34m╭─\u001b[0m\u001b[34m───────────────────────────────────────────────\u001b[0m\u001b[34m \u001b[0m\u001b[1;34mparse_sentiment\u001b[0m\u001b[34m \u001b[0m\u001b[34m───────────────────────────────────────────────\u001b[0m\u001b[34m─╮\u001b[0m\n",
       "\u001b[34m│\u001b[0m \u001b[1;34m📊 Processing Input Data\u001b[0m                                                                                        \u001b[34m│\u001b[0m\n",
       "\u001b[34m│\u001b[0m \u001b[36mBlock Type: TextParserBlock\u001b[0m                                                                                     \u001b[34m│\u001b[0m\n",
       "\u001b[34m│\u001b[0m \u001b[1;36mInput Rows: 50\u001b[0m                                                                                                  \u001b[34m│\u001b[0m\n",
       "\u001b[34m│\u001b[0m \u001b[36mInput Columns: 16\u001b[0m                                                                                               \u001b[34m│\u001b[0m\n",
       "\u001b[34m│\u001b[0m \u001b[37mColumn Names: Headline, Journalists, Date, Link, text, summary_prompt, raw_summary, summary, keywords_prompt, \u001b[0m  \u001b[34m│\u001b[0m\n",
       "\u001b[34m│\u001b[0m \u001b[37mraw_keywords, keywords, entities_prompt, raw_entities, entities, sentiment_prompt, raw_sentiment\u001b[0m                \u001b[34m│\u001b[0m\n",
       "\u001b[34m│\u001b[0m \u001b[32mExpected Output Columns: sentiment\u001b[0m                                                                              \u001b[34m│\u001b[0m\n",
       "\u001b[34m╰─────────────────────────────────────────────────────────────────────────────────────────────────────────────────╯\u001b[0m\n"
      ]
     },
     "metadata": {},
     "output_type": "display_data"
    },
    {
     "data": {
      "text/html": [
       "<pre style=\"white-space:pre;overflow-x:auto;line-height:normal;font-family:Menlo,'DejaVu Sans Mono',consolas,'Courier New',monospace\"><span style=\"color: #008000; text-decoration-color: #008000\">╭────────────────────────────────────────── </span><span style=\"color: #008000; text-decoration-color: #008000; font-weight: bold\">parse_sentiment - Complete</span><span style=\"color: #008000; text-decoration-color: #008000\"> ───────────────────────────────────────────╮</span>\n",
       "<span style=\"color: #008000; text-decoration-color: #008000\">│</span> <span style=\"color: #008000; text-decoration-color: #008000; font-weight: bold\">✅ Processing Complete</span>                                                                                          <span style=\"color: #008000; text-decoration-color: #008000\">│</span>\n",
       "<span style=\"color: #008000; text-decoration-color: #008000\">│</span> <span style=\"color: #008080; text-decoration-color: #008080\">Rows: 50 → 50</span>                                                                                                   <span style=\"color: #008000; text-decoration-color: #008000\">│</span>\n",
       "<span style=\"color: #008000; text-decoration-color: #008000\">│</span> <span style=\"color: #008080; text-decoration-color: #008080\">Columns: 16 → 17</span>                                                                                                <span style=\"color: #008000; text-decoration-color: #008000\">│</span>\n",
       "<span style=\"color: #008000; text-decoration-color: #008000\">│</span> <span style=\"color: #008000; text-decoration-color: #008000\">🟢 Added: sentiment</span>                                                                                             <span style=\"color: #008000; text-decoration-color: #008000\">│</span>\n",
       "<span style=\"color: #008000; text-decoration-color: #008000\">│</span> <span style=\"color: #c0c0c0; text-decoration-color: #c0c0c0\">📋 Final Columns: Date, Headline, Journalists, Link, entities, entities_prompt, keywords, keywords_prompt, </span>     <span style=\"color: #008000; text-decoration-color: #008000\">│</span>\n",
       "<span style=\"color: #008000; text-decoration-color: #008000\">│</span> <span style=\"color: #c0c0c0; text-decoration-color: #c0c0c0\">raw_entities, raw_keywords, raw_sentiment, raw_summary, sentiment, sentiment_prompt, summary, summary_prompt, </span>  <span style=\"color: #008000; text-decoration-color: #008000\">│</span>\n",
       "<span style=\"color: #008000; text-decoration-color: #008000\">│</span> <span style=\"color: #c0c0c0; text-decoration-color: #c0c0c0\">text</span>                                                                                                            <span style=\"color: #008000; text-decoration-color: #008000\">│</span>\n",
       "<span style=\"color: #008000; text-decoration-color: #008000\">╰─────────────────────────────────────────────────────────────────────────────────────────────────────────────────╯</span>\n",
       "</pre>\n"
      ],
      "text/plain": [
       "\u001b[32m╭─\u001b[0m\u001b[32m─────────────────────────────────────────\u001b[0m\u001b[32m \u001b[0m\u001b[1;32mparse_sentiment - Complete\u001b[0m\u001b[32m \u001b[0m\u001b[32m──────────────────────────────────────────\u001b[0m\u001b[32m─╮\u001b[0m\n",
       "\u001b[32m│\u001b[0m \u001b[1;32m✅ Processing Complete\u001b[0m                                                                                          \u001b[32m│\u001b[0m\n",
       "\u001b[32m│\u001b[0m \u001b[36mRows: 50 → 50\u001b[0m                                                                                                   \u001b[32m│\u001b[0m\n",
       "\u001b[32m│\u001b[0m \u001b[36mColumns: 16 → 17\u001b[0m                                                                                                \u001b[32m│\u001b[0m\n",
       "\u001b[32m│\u001b[0m \u001b[32m🟢 Added: sentiment\u001b[0m                                                                                             \u001b[32m│\u001b[0m\n",
       "\u001b[32m│\u001b[0m \u001b[37m📋 Final Columns: Date, Headline, Journalists, Link, entities, entities_prompt, keywords, keywords_prompt, \u001b[0m     \u001b[32m│\u001b[0m\n",
       "\u001b[32m│\u001b[0m \u001b[37mraw_entities, raw_keywords, raw_sentiment, raw_summary, sentiment, sentiment_prompt, summary, summary_prompt, \u001b[0m  \u001b[32m│\u001b[0m\n",
       "\u001b[32m│\u001b[0m \u001b[37mtext\u001b[0m                                                                                                            \u001b[32m│\u001b[0m\n",
       "\u001b[32m╰─────────────────────────────────────────────────────────────────────────────────────────────────────────────────╯\u001b[0m\n"
      ]
     },
     "metadata": {},
     "output_type": "display_data"
    },
    {
     "data": {
      "text/html": [
       "<pre style=\"white-space:pre;overflow-x:auto;line-height:normal;font-family:Menlo,'DejaVu Sans Mono',consolas,'Courier New',monospace\"><span style=\"color: #7fbfbf; text-decoration-color: #7fbfbf\">           </span><span style=\"color: #000080; text-decoration-color: #000080\">INFO    </span> Block <span style=\"color: #008000; text-decoration-color: #008000\">'parse_sentiment'</span> completed successfully: <span style=\"color: #008080; text-decoration-color: #008080; font-weight: bold\">50</span> samples, <span style=\"color: #008080; text-decoration-color: #008080; font-weight: bold\">17</span> columns              <a href=\"file:///Users/shiv/workspace/sdg_hub/src/sdg_hub/core/flow/base.py\" target=\"_blank\"><span style=\"color: #7f7f7f; text-decoration-color: #7f7f7f\">base.py</span></a><span style=\"color: #7f7f7f; text-decoration-color: #7f7f7f\">:</span><a href=\"file:///Users/shiv/workspace/sdg_hub/src/sdg_hub/core/flow/base.py#732\" target=\"_blank\"><span style=\"color: #7f7f7f; text-decoration-color: #7f7f7f\">732</span></a>\n",
       "</pre>\n"
      ],
      "text/plain": [
       "\u001b[2;36m          \u001b[0m\u001b[2;36m \u001b[0m\u001b[34mINFO    \u001b[0m Block \u001b[32m'parse_sentiment'\u001b[0m completed successfully: \u001b[1;36m50\u001b[0m samples, \u001b[1;36m17\u001b[0m columns              \u001b]8;id=665472;file:///Users/shiv/workspace/sdg_hub/src/sdg_hub/core/flow/base.py\u001b\\\u001b[2mbase.py\u001b[0m\u001b]8;;\u001b\\\u001b[2m:\u001b[0m\u001b]8;id=604611;file:///Users/shiv/workspace/sdg_hub/src/sdg_hub/core/flow/base.py#732\u001b\\\u001b[2m732\u001b[0m\u001b]8;;\u001b\\\n"
      ]
     },
     "metadata": {},
     "output_type": "display_data"
    },
    {
     "data": {
      "text/html": [
       "<pre style=\"white-space:pre;overflow-x:auto;line-height:normal;font-family:Menlo,'DejaVu Sans Mono',consolas,'Courier New',monospace\"><span style=\"color: #7fbfbf; text-decoration-color: #7fbfbf\">           </span><span style=\"color: #000080; text-decoration-color: #000080\">INFO    </span> Executing block <span style=\"color: #008080; text-decoration-color: #008080; font-weight: bold\">13</span>/<span style=\"color: #008080; text-decoration-color: #008080; font-weight: bold\">13</span>: create_structured_insights <span style=\"font-weight: bold\">(</span>JSONStructureBlock<span style=\"font-weight: bold\">)</span>              <a href=\"file:///Users/shiv/workspace/sdg_hub/src/sdg_hub/core/flow/base.py\" target=\"_blank\"><span style=\"color: #7f7f7f; text-decoration-color: #7f7f7f\">base.py</span></a><span style=\"color: #7f7f7f; text-decoration-color: #7f7f7f\">:</span><a href=\"file:///Users/shiv/workspace/sdg_hub/src/sdg_hub/core/flow/base.py#670\" target=\"_blank\"><span style=\"color: #7f7f7f; text-decoration-color: #7f7f7f\">670</span></a>\n",
       "</pre>\n"
      ],
      "text/plain": [
       "\u001b[2;36m          \u001b[0m\u001b[2;36m \u001b[0m\u001b[34mINFO    \u001b[0m Executing block \u001b[1;36m13\u001b[0m/\u001b[1;36m13\u001b[0m: create_structured_insights \u001b[1m(\u001b[0mJSONStructureBlock\u001b[1m)\u001b[0m              \u001b]8;id=564497;file:///Users/shiv/workspace/sdg_hub/src/sdg_hub/core/flow/base.py\u001b\\\u001b[2mbase.py\u001b[0m\u001b]8;;\u001b\\\u001b[2m:\u001b[0m\u001b]8;id=346282;file:///Users/shiv/workspace/sdg_hub/src/sdg_hub/core/flow/base.py#670\u001b\\\u001b[2m670\u001b[0m\u001b]8;;\u001b\\\n"
      ]
     },
     "metadata": {},
     "output_type": "display_data"
    },
    {
     "data": {
      "text/html": [
       "<pre style=\"white-space:pre;overflow-x:auto;line-height:normal;font-family:Menlo,'DejaVu Sans Mono',consolas,'Courier New',monospace\"><span style=\"color: #000080; text-decoration-color: #000080\">╭────────────────────────────────────────── </span><span style=\"color: #000080; text-decoration-color: #000080; font-weight: bold\">create_structured_insights</span><span style=\"color: #000080; text-decoration-color: #000080\"> ───────────────────────────────────────────╮</span>\n",
       "<span style=\"color: #000080; text-decoration-color: #000080\">│</span> <span style=\"color: #000080; text-decoration-color: #000080; font-weight: bold\">📊 Processing Input Data</span>                                                                                        <span style=\"color: #000080; text-decoration-color: #000080\">│</span>\n",
       "<span style=\"color: #000080; text-decoration-color: #000080\">│</span> <span style=\"color: #008080; text-decoration-color: #008080\">Block Type: JSONStructureBlock</span>                                                                                  <span style=\"color: #000080; text-decoration-color: #000080\">│</span>\n",
       "<span style=\"color: #000080; text-decoration-color: #000080\">│</span> <span style=\"color: #008080; text-decoration-color: #008080; font-weight: bold\">Input Rows: 50</span>                                                                                                  <span style=\"color: #000080; text-decoration-color: #000080\">│</span>\n",
       "<span style=\"color: #000080; text-decoration-color: #000080\">│</span> <span style=\"color: #008080; text-decoration-color: #008080\">Input Columns: 17</span>                                                                                               <span style=\"color: #000080; text-decoration-color: #000080\">│</span>\n",
       "<span style=\"color: #000080; text-decoration-color: #000080\">│</span> <span style=\"color: #c0c0c0; text-decoration-color: #c0c0c0\">Column Names: Headline, Journalists, Date, Link, text, summary_prompt, raw_summary, summary, keywords_prompt, </span>  <span style=\"color: #000080; text-decoration-color: #000080\">│</span>\n",
       "<span style=\"color: #000080; text-decoration-color: #000080\">│</span> <span style=\"color: #c0c0c0; text-decoration-color: #c0c0c0\">raw_keywords, keywords, entities_prompt, raw_entities, entities, sentiment_prompt, raw_sentiment, sentiment</span>     <span style=\"color: #000080; text-decoration-color: #000080\">│</span>\n",
       "<span style=\"color: #000080; text-decoration-color: #000080\">│</span> <span style=\"color: #008000; text-decoration-color: #008000\">Expected Output Columns: structured_insights</span>                                                                    <span style=\"color: #000080; text-decoration-color: #000080\">│</span>\n",
       "<span style=\"color: #000080; text-decoration-color: #000080\">╰─────────────────────────────────────────────────────────────────────────────────────────────────────────────────╯</span>\n",
       "</pre>\n"
      ],
      "text/plain": [
       "\u001b[34m╭─\u001b[0m\u001b[34m─────────────────────────────────────────\u001b[0m\u001b[34m \u001b[0m\u001b[1;34mcreate_structured_insights\u001b[0m\u001b[34m \u001b[0m\u001b[34m──────────────────────────────────────────\u001b[0m\u001b[34m─╮\u001b[0m\n",
       "\u001b[34m│\u001b[0m \u001b[1;34m📊 Processing Input Data\u001b[0m                                                                                        \u001b[34m│\u001b[0m\n",
       "\u001b[34m│\u001b[0m \u001b[36mBlock Type: JSONStructureBlock\u001b[0m                                                                                  \u001b[34m│\u001b[0m\n",
       "\u001b[34m│\u001b[0m \u001b[1;36mInput Rows: 50\u001b[0m                                                                                                  \u001b[34m│\u001b[0m\n",
       "\u001b[34m│\u001b[0m \u001b[36mInput Columns: 17\u001b[0m                                                                                               \u001b[34m│\u001b[0m\n",
       "\u001b[34m│\u001b[0m \u001b[37mColumn Names: Headline, Journalists, Date, Link, text, summary_prompt, raw_summary, summary, keywords_prompt, \u001b[0m  \u001b[34m│\u001b[0m\n",
       "\u001b[34m│\u001b[0m \u001b[37mraw_keywords, keywords, entities_prompt, raw_entities, entities, sentiment_prompt, raw_sentiment, sentiment\u001b[0m     \u001b[34m│\u001b[0m\n",
       "\u001b[34m│\u001b[0m \u001b[32mExpected Output Columns: structured_insights\u001b[0m                                                                    \u001b[34m│\u001b[0m\n",
       "\u001b[34m╰─────────────────────────────────────────────────────────────────────────────────────────────────────────────────╯\u001b[0m\n"
      ]
     },
     "metadata": {},
     "output_type": "display_data"
    },
    {
     "name": "stderr",
     "output_type": "stream",
     "text": [
      "Map: 100%|██████████| 50/50 [00:00<00:00, 4670.30 examples/s]\n"
     ]
    },
    {
     "data": {
      "text/html": [
       "<pre style=\"white-space:pre;overflow-x:auto;line-height:normal;font-family:Menlo,'DejaVu Sans Mono',consolas,'Courier New',monospace\"><span style=\"color: #008000; text-decoration-color: #008000\">╭───────────────────────────────────── </span><span style=\"color: #008000; text-decoration-color: #008000; font-weight: bold\">create_structured_insights - Complete</span><span style=\"color: #008000; text-decoration-color: #008000\"> ─────────────────────────────────────╮</span>\n",
       "<span style=\"color: #008000; text-decoration-color: #008000\">│</span> <span style=\"color: #008000; text-decoration-color: #008000; font-weight: bold\">✅ Processing Complete</span>                                                                                          <span style=\"color: #008000; text-decoration-color: #008000\">│</span>\n",
       "<span style=\"color: #008000; text-decoration-color: #008000\">│</span> <span style=\"color: #008080; text-decoration-color: #008080\">Rows: 50 → 50</span>                                                                                                   <span style=\"color: #008000; text-decoration-color: #008000\">│</span>\n",
       "<span style=\"color: #008000; text-decoration-color: #008000\">│</span> <span style=\"color: #008080; text-decoration-color: #008080\">Columns: 17 → 18</span>                                                                                                <span style=\"color: #008000; text-decoration-color: #008000\">│</span>\n",
       "<span style=\"color: #008000; text-decoration-color: #008000\">│</span> <span style=\"color: #008000; text-decoration-color: #008000\">🟢 Added: structured_insights</span>                                                                                   <span style=\"color: #008000; text-decoration-color: #008000\">│</span>\n",
       "<span style=\"color: #008000; text-decoration-color: #008000\">│</span> <span style=\"color: #c0c0c0; text-decoration-color: #c0c0c0\">📋 Final Columns: Date, Headline, Journalists, Link, entities, entities_prompt, keywords, keywords_prompt, </span>     <span style=\"color: #008000; text-decoration-color: #008000\">│</span>\n",
       "<span style=\"color: #008000; text-decoration-color: #008000\">│</span> <span style=\"color: #c0c0c0; text-decoration-color: #c0c0c0\">raw_entities, raw_keywords, raw_sentiment, raw_summary, sentiment, sentiment_prompt, structured_insights, </span>      <span style=\"color: #008000; text-decoration-color: #008000\">│</span>\n",
       "<span style=\"color: #008000; text-decoration-color: #008000\">│</span> <span style=\"color: #c0c0c0; text-decoration-color: #c0c0c0\">summary, summary_prompt, text</span>                                                                                   <span style=\"color: #008000; text-decoration-color: #008000\">│</span>\n",
       "<span style=\"color: #008000; text-decoration-color: #008000\">╰─────────────────────────────────────────────────────────────────────────────────────────────────────────────────╯</span>\n",
       "</pre>\n"
      ],
      "text/plain": [
       "\u001b[32m╭─\u001b[0m\u001b[32m────────────────────────────────────\u001b[0m\u001b[32m \u001b[0m\u001b[1;32mcreate_structured_insights - Complete\u001b[0m\u001b[32m \u001b[0m\u001b[32m────────────────────────────────────\u001b[0m\u001b[32m─╮\u001b[0m\n",
       "\u001b[32m│\u001b[0m \u001b[1;32m✅ Processing Complete\u001b[0m                                                                                          \u001b[32m│\u001b[0m\n",
       "\u001b[32m│\u001b[0m \u001b[36mRows: 50 → 50\u001b[0m                                                                                                   \u001b[32m│\u001b[0m\n",
       "\u001b[32m│\u001b[0m \u001b[36mColumns: 17 → 18\u001b[0m                                                                                                \u001b[32m│\u001b[0m\n",
       "\u001b[32m│\u001b[0m \u001b[32m🟢 Added: structured_insights\u001b[0m                                                                                   \u001b[32m│\u001b[0m\n",
       "\u001b[32m│\u001b[0m \u001b[37m📋 Final Columns: Date, Headline, Journalists, Link, entities, entities_prompt, keywords, keywords_prompt, \u001b[0m     \u001b[32m│\u001b[0m\n",
       "\u001b[32m│\u001b[0m \u001b[37mraw_entities, raw_keywords, raw_sentiment, raw_summary, sentiment, sentiment_prompt, structured_insights, \u001b[0m      \u001b[32m│\u001b[0m\n",
       "\u001b[32m│\u001b[0m \u001b[37msummary, summary_prompt, text\u001b[0m                                                                                   \u001b[32m│\u001b[0m\n",
       "\u001b[32m╰─────────────────────────────────────────────────────────────────────────────────────────────────────────────────╯\u001b[0m\n"
      ]
     },
     "metadata": {},
     "output_type": "display_data"
    },
    {
     "data": {
      "text/html": [
       "<pre style=\"white-space:pre;overflow-x:auto;line-height:normal;font-family:Menlo,'DejaVu Sans Mono',consolas,'Courier New',monospace\"><span style=\"color: #7fbfbf; text-decoration-color: #7fbfbf\">           </span><span style=\"color: #000080; text-decoration-color: #000080\">INFO    </span> Block <span style=\"color: #008000; text-decoration-color: #008000\">'create_structured_insights'</span> completed successfully: <span style=\"color: #008080; text-decoration-color: #008080; font-weight: bold\">50</span> samples, <span style=\"color: #008080; text-decoration-color: #008080; font-weight: bold\">18</span> columns   <a href=\"file:///Users/shiv/workspace/sdg_hub/src/sdg_hub/core/flow/base.py\" target=\"_blank\"><span style=\"color: #7f7f7f; text-decoration-color: #7f7f7f\">base.py</span></a><span style=\"color: #7f7f7f; text-decoration-color: #7f7f7f\">:</span><a href=\"file:///Users/shiv/workspace/sdg_hub/src/sdg_hub/core/flow/base.py#732\" target=\"_blank\"><span style=\"color: #7f7f7f; text-decoration-color: #7f7f7f\">732</span></a>\n",
       "</pre>\n"
      ],
      "text/plain": [
       "\u001b[2;36m          \u001b[0m\u001b[2;36m \u001b[0m\u001b[34mINFO    \u001b[0m Block \u001b[32m'create_structured_insights'\u001b[0m completed successfully: \u001b[1;36m50\u001b[0m samples, \u001b[1;36m18\u001b[0m columns   \u001b]8;id=718570;file:///Users/shiv/workspace/sdg_hub/src/sdg_hub/core/flow/base.py\u001b\\\u001b[2mbase.py\u001b[0m\u001b]8;;\u001b\\\u001b[2m:\u001b[0m\u001b]8;id=46399;file:///Users/shiv/workspace/sdg_hub/src/sdg_hub/core/flow/base.py#732\u001b\\\u001b[2m732\u001b[0m\u001b]8;;\u001b\\\n"
      ]
     },
     "metadata": {},
     "output_type": "display_data"
    },
    {
     "data": {
      "text/html": [
       "<pre style=\"white-space:pre;overflow-x:auto;line-height:normal;font-family:Menlo,'DejaVu Sans Mono',consolas,'Courier New',monospace\">\n",
       "</pre>\n"
      ],
      "text/plain": [
       "\n"
      ]
     },
     "metadata": {},
     "output_type": "display_data"
    },
    {
     "data": {
      "text/html": [
       "<pre style=\"white-space:pre;overflow-x:auto;line-height:normal;font-family:Menlo,'DejaVu Sans Mono',consolas,'Courier New',monospace\"><span style=\"color: #00ff00; text-decoration-color: #00ff00\">╭────────────────────────────── </span><span style=\"color: #ffffff; text-decoration-color: #ffffff; font-weight: bold\">Structured Text Insights Extraction Flow</span><span style=\"color: #00ff00; text-decoration-color: #00ff00\"> - </span><span style=\"color: #008000; text-decoration-color: #008000\">Complete</span><span style=\"color: #00ff00; text-decoration-color: #00ff00\"> ──────────────────────────────╮</span>\n",
       "<span style=\"color: #00ff00; text-decoration-color: #00ff00\">│</span> <span style=\"font-style: italic\">                                       Flow Execution Summary                                        </span>           <span style=\"color: #00ff00; text-decoration-color: #00ff00\">│</span>\n",
       "<span style=\"color: #00ff00; text-decoration-color: #00ff00\">│</span> ┏━━━━━━━━━━━━━━━━━━━━━━┳━━━━━━━━━━━━━━━━━┳━━━━━━━━━━━━┳━━━━━━━━━━━━━━┳━━━━━━━━━━━━━━━━━┳━━━━━━━━━━━━┓           <span style=\"color: #00ff00; text-decoration-color: #00ff00\">│</span>\n",
       "<span style=\"color: #00ff00; text-decoration-color: #00ff00\">│</span> ┃<span style=\"color: #ffffff; text-decoration-color: #ffffff; font-weight: bold\"> Block Name           </span>┃<span style=\"color: #ffffff; text-decoration-color: #ffffff; font-weight: bold\"> Type            </span>┃<span style=\"color: #ffffff; text-decoration-color: #ffffff; font-weight: bold\">   Duration </span>┃<span style=\"color: #ffffff; text-decoration-color: #ffffff; font-weight: bold\">     Rows     </span>┃<span style=\"color: #ffffff; text-decoration-color: #ffffff; font-weight: bold\">     Columns     </span>┃<span style=\"color: #ffffff; text-decoration-color: #ffffff; font-weight: bold\">   Status   </span>┃           <span style=\"color: #00ff00; text-decoration-color: #00ff00\">│</span>\n",
       "<span style=\"color: #00ff00; text-decoration-color: #00ff00\">│</span> ┡━━━━━━━━━━━━━━━━━━━━━━╇━━━━━━━━━━━━━━━━━╇━━━━━━━━━━━━╇━━━━━━━━━━━━━━╇━━━━━━━━━━━━━━━━━╇━━━━━━━━━━━━┩           <span style=\"color: #00ff00; text-decoration-color: #00ff00\">│</span>\n",
       "<span style=\"color: #00ff00; text-decoration-color: #00ff00\">│</span> │<span style=\"color: #00ffff; text-decoration-color: #00ffff\"> build_summary_prompt </span>│<span style=\"color: #00ff00; text-decoration-color: #00ff00\"> PromptBuilderB… </span>│<span style=\"color: #ffff00; text-decoration-color: #ffff00\">      0.01s </span>│<span style=\"color: #0000ff; text-decoration-color: #0000ff\">   50 → 50    </span>│<span style=\"color: #ff00ff; text-decoration-color: #ff00ff\">       +1        </span>│     <span style=\"color: #008000; text-decoration-color: #008000\">✓</span>      │           <span style=\"color: #00ff00; text-decoration-color: #00ff00\">│</span>\n",
       "<span style=\"color: #00ff00; text-decoration-color: #00ff00\">│</span> │<span style=\"color: #00ffff; text-decoration-color: #00ffff\"> generate_summary     </span>│<span style=\"color: #00ff00; text-decoration-color: #00ff00\"> LLMChatBlock    </span>│<span style=\"color: #ffff00; text-decoration-color: #ffff00\">      1.81s </span>│<span style=\"color: #0000ff; text-decoration-color: #0000ff\">   50 → 50    </span>│<span style=\"color: #ff00ff; text-decoration-color: #ff00ff\">       +1        </span>│     <span style=\"color: #008000; text-decoration-color: #008000\">✓</span>      │           <span style=\"color: #00ff00; text-decoration-color: #00ff00\">│</span>\n",
       "<span style=\"color: #00ff00; text-decoration-color: #00ff00\">│</span> │<span style=\"color: #00ffff; text-decoration-color: #00ffff\"> parse_summary        </span>│<span style=\"color: #00ff00; text-decoration-color: #00ff00\"> TextParserBlock </span>│<span style=\"color: #ffff00; text-decoration-color: #ffff00\">      0.02s </span>│<span style=\"color: #0000ff; text-decoration-color: #0000ff\">   50 → 50    </span>│<span style=\"color: #ff00ff; text-decoration-color: #ff00ff\">       +1        </span>│     <span style=\"color: #008000; text-decoration-color: #008000\">✓</span>      │           <span style=\"color: #00ff00; text-decoration-color: #00ff00\">│</span>\n",
       "<span style=\"color: #00ff00; text-decoration-color: #00ff00\">│</span> │<span style=\"color: #00ffff; text-decoration-color: #00ffff\"> build_keywords_prom… </span>│<span style=\"color: #00ff00; text-decoration-color: #00ff00\"> PromptBuilderB… </span>│<span style=\"color: #ffff00; text-decoration-color: #ffff00\">      0.01s </span>│<span style=\"color: #0000ff; text-decoration-color: #0000ff\">   50 → 50    </span>│<span style=\"color: #ff00ff; text-decoration-color: #ff00ff\">       +1        </span>│     <span style=\"color: #008000; text-decoration-color: #008000\">✓</span>      │           <span style=\"color: #00ff00; text-decoration-color: #00ff00\">│</span>\n",
       "<span style=\"color: #00ff00; text-decoration-color: #00ff00\">│</span> │<span style=\"color: #00ffff; text-decoration-color: #00ffff\"> generate_keywords    </span>│<span style=\"color: #00ff00; text-decoration-color: #00ff00\"> LLMChatBlock    </span>│<span style=\"color: #ffff00; text-decoration-color: #ffff00\">      1.14s </span>│<span style=\"color: #0000ff; text-decoration-color: #0000ff\">   50 → 50    </span>│<span style=\"color: #ff00ff; text-decoration-color: #ff00ff\">       +1        </span>│     <span style=\"color: #008000; text-decoration-color: #008000\">✓</span>      │           <span style=\"color: #00ff00; text-decoration-color: #00ff00\">│</span>\n",
       "<span style=\"color: #00ff00; text-decoration-color: #00ff00\">│</span> │<span style=\"color: #00ffff; text-decoration-color: #00ffff\"> parse_keywords       </span>│<span style=\"color: #00ff00; text-decoration-color: #00ff00\"> TextParserBlock </span>│<span style=\"color: #ffff00; text-decoration-color: #ffff00\">      0.02s </span>│<span style=\"color: #0000ff; text-decoration-color: #0000ff\">   50 → 50    </span>│<span style=\"color: #ff00ff; text-decoration-color: #ff00ff\">       +1        </span>│     <span style=\"color: #008000; text-decoration-color: #008000\">✓</span>      │           <span style=\"color: #00ff00; text-decoration-color: #00ff00\">│</span>\n",
       "<span style=\"color: #00ff00; text-decoration-color: #00ff00\">│</span> │<span style=\"color: #00ffff; text-decoration-color: #00ffff\"> build_entities_prom… </span>│<span style=\"color: #00ff00; text-decoration-color: #00ff00\"> PromptBuilderB… </span>│<span style=\"color: #ffff00; text-decoration-color: #ffff00\">      0.01s </span>│<span style=\"color: #0000ff; text-decoration-color: #0000ff\">   50 → 50    </span>│<span style=\"color: #ff00ff; text-decoration-color: #ff00ff\">       +1        </span>│     <span style=\"color: #008000; text-decoration-color: #008000\">✓</span>      │           <span style=\"color: #00ff00; text-decoration-color: #00ff00\">│</span>\n",
       "<span style=\"color: #00ff00; text-decoration-color: #00ff00\">│</span> │<span style=\"color: #00ffff; text-decoration-color: #00ffff\"> generate_entities    </span>│<span style=\"color: #00ff00; text-decoration-color: #00ff00\"> LLMChatBlock    </span>│<span style=\"color: #ffff00; text-decoration-color: #ffff00\">      4.05s </span>│<span style=\"color: #0000ff; text-decoration-color: #0000ff\">   50 → 50    </span>│<span style=\"color: #ff00ff; text-decoration-color: #ff00ff\">       +1        </span>│     <span style=\"color: #008000; text-decoration-color: #008000\">✓</span>      │           <span style=\"color: #00ff00; text-decoration-color: #00ff00\">│</span>\n",
       "<span style=\"color: #00ff00; text-decoration-color: #00ff00\">│</span> │<span style=\"color: #00ffff; text-decoration-color: #00ffff\"> parse_entities       </span>│<span style=\"color: #00ff00; text-decoration-color: #00ff00\"> TextParserBlock </span>│<span style=\"color: #ffff00; text-decoration-color: #ffff00\">      0.03s </span>│<span style=\"color: #0000ff; text-decoration-color: #0000ff\">   50 → 50    </span>│<span style=\"color: #ff00ff; text-decoration-color: #ff00ff\">       +1        </span>│     <span style=\"color: #008000; text-decoration-color: #008000\">✓</span>      │           <span style=\"color: #00ff00; text-decoration-color: #00ff00\">│</span>\n",
       "<span style=\"color: #00ff00; text-decoration-color: #00ff00\">│</span> │<span style=\"color: #00ffff; text-decoration-color: #00ffff\"> build_sentiment_pro… </span>│<span style=\"color: #00ff00; text-decoration-color: #00ff00\"> PromptBuilderB… </span>│<span style=\"color: #ffff00; text-decoration-color: #ffff00\">      0.02s </span>│<span style=\"color: #0000ff; text-decoration-color: #0000ff\">   50 → 50    </span>│<span style=\"color: #ff00ff; text-decoration-color: #ff00ff\">       +1        </span>│     <span style=\"color: #008000; text-decoration-color: #008000\">✓</span>      │           <span style=\"color: #00ff00; text-decoration-color: #00ff00\">│</span>\n",
       "<span style=\"color: #00ff00; text-decoration-color: #00ff00\">│</span> │<span style=\"color: #00ffff; text-decoration-color: #00ffff\"> generate_sentiment   </span>│<span style=\"color: #00ff00; text-decoration-color: #00ff00\"> LLMChatBlock    </span>│<span style=\"color: #ffff00; text-decoration-color: #ffff00\">      0.60s </span>│<span style=\"color: #0000ff; text-decoration-color: #0000ff\">   50 → 50    </span>│<span style=\"color: #ff00ff; text-decoration-color: #ff00ff\">       +1        </span>│     <span style=\"color: #008000; text-decoration-color: #008000\">✓</span>      │           <span style=\"color: #00ff00; text-decoration-color: #00ff00\">│</span>\n",
       "<span style=\"color: #00ff00; text-decoration-color: #00ff00\">│</span> │<span style=\"color: #00ffff; text-decoration-color: #00ffff\"> parse_sentiment      </span>│<span style=\"color: #00ff00; text-decoration-color: #00ff00\"> TextParserBlock </span>│<span style=\"color: #ffff00; text-decoration-color: #ffff00\">      0.04s </span>│<span style=\"color: #0000ff; text-decoration-color: #0000ff\">   50 → 50    </span>│<span style=\"color: #ff00ff; text-decoration-color: #ff00ff\">       +1        </span>│     <span style=\"color: #008000; text-decoration-color: #008000\">✓</span>      │           <span style=\"color: #00ff00; text-decoration-color: #00ff00\">│</span>\n",
       "<span style=\"color: #00ff00; text-decoration-color: #00ff00\">│</span> │<span style=\"color: #00ffff; text-decoration-color: #00ffff\"> create_structured_i… </span>│<span style=\"color: #00ff00; text-decoration-color: #00ff00\"> JSONStructureB… </span>│<span style=\"color: #ffff00; text-decoration-color: #ffff00\">      0.02s </span>│<span style=\"color: #0000ff; text-decoration-color: #0000ff\">   50 → 50    </span>│<span style=\"color: #ff00ff; text-decoration-color: #ff00ff\">       +1        </span>│     <span style=\"color: #008000; text-decoration-color: #008000\">✓</span>      │           <span style=\"color: #00ff00; text-decoration-color: #00ff00\">│</span>\n",
       "<span style=\"color: #00ff00; text-decoration-color: #00ff00\">│</span> ├──────────────────────┼─────────────────┼────────────┼──────────────┼─────────────────┼────────────┤           <span style=\"color: #00ff00; text-decoration-color: #00ff00\">│</span>\n",
       "<span style=\"color: #00ff00; text-decoration-color: #00ff00\">│</span> │<span style=\"color: #00ffff; text-decoration-color: #00ffff\"> </span><span style=\"color: #00ffff; text-decoration-color: #00ffff; font-weight: bold\">TOTAL</span><span style=\"color: #00ffff; text-decoration-color: #00ffff\">                </span>│<span style=\"color: #00ff00; text-decoration-color: #00ff00\"> </span><span style=\"color: #00ff00; text-decoration-color: #00ff00; font-weight: bold\">13 blocks</span><span style=\"color: #00ff00; text-decoration-color: #00ff00\">       </span>│<span style=\"color: #ffff00; text-decoration-color: #ffff00\">      </span><span style=\"color: #ffff00; text-decoration-color: #ffff00; font-weight: bold\">7.77s</span><span style=\"color: #ffff00; text-decoration-color: #ffff00\"> </span>│<span style=\"color: #0000ff; text-decoration-color: #0000ff\">   </span><span style=\"color: #0000ff; text-decoration-color: #0000ff; font-weight: bold\">50 final</span><span style=\"color: #0000ff; text-decoration-color: #0000ff\">   </span>│<span style=\"color: #ff00ff; text-decoration-color: #ff00ff\">    </span><span style=\"color: #ff00ff; text-decoration-color: #ff00ff; font-weight: bold\">18 final</span><span style=\"color: #ff00ff; text-decoration-color: #ff00ff\">     </span>│   <span style=\"color: #008000; text-decoration-color: #008000; font-weight: bold\">13/13</span>    │           <span style=\"color: #00ff00; text-decoration-color: #00ff00\">│</span>\n",
       "<span style=\"color: #00ff00; text-decoration-color: #00ff00\">│</span> └──────────────────────┴─────────────────┴────────────┴──────────────┴─────────────────┴────────────┘           <span style=\"color: #00ff00; text-decoration-color: #00ff00\">│</span>\n",
       "<span style=\"color: #00ff00; text-decoration-color: #00ff00\">╰─────────────────────────────────────────────────────────────────────────────────────────────────────────────────╯</span>\n",
       "</pre>\n"
      ],
      "text/plain": [
       "\u001b[92m╭─\u001b[0m\u001b[92m─────────────────────────────\u001b[0m\u001b[92m \u001b[0m\u001b[1;97mStructured Text Insights Extraction Flow\u001b[0m\u001b[92m - \u001b[0m\u001b[32mComplete\u001b[0m\u001b[92m \u001b[0m\u001b[92m─────────────────────────────\u001b[0m\u001b[92m─╮\u001b[0m\n",
       "\u001b[92m│\u001b[0m \u001b[3m                                       Flow Execution Summary                                        \u001b[0m           \u001b[92m│\u001b[0m\n",
       "\u001b[92m│\u001b[0m ┏━━━━━━━━━━━━━━━━━━━━━━┳━━━━━━━━━━━━━━━━━┳━━━━━━━━━━━━┳━━━━━━━━━━━━━━┳━━━━━━━━━━━━━━━━━┳━━━━━━━━━━━━┓           \u001b[92m│\u001b[0m\n",
       "\u001b[92m│\u001b[0m ┃\u001b[1;97m \u001b[0m\u001b[1;97mBlock Name          \u001b[0m\u001b[1;97m \u001b[0m┃\u001b[1;97m \u001b[0m\u001b[1;97mType           \u001b[0m\u001b[1;97m \u001b[0m┃\u001b[1;97m \u001b[0m\u001b[1;97m  Duration\u001b[0m\u001b[1;97m \u001b[0m┃\u001b[1;97m \u001b[0m\u001b[1;97m    Rows    \u001b[0m\u001b[1;97m \u001b[0m┃\u001b[1;97m \u001b[0m\u001b[1;97m    Columns    \u001b[0m\u001b[1;97m \u001b[0m┃\u001b[1;97m \u001b[0m\u001b[1;97m  Status  \u001b[0m\u001b[1;97m \u001b[0m┃           \u001b[92m│\u001b[0m\n",
       "\u001b[92m│\u001b[0m ┡━━━━━━━━━━━━━━━━━━━━━━╇━━━━━━━━━━━━━━━━━╇━━━━━━━━━━━━╇━━━━━━━━━━━━━━╇━━━━━━━━━━━━━━━━━╇━━━━━━━━━━━━┩           \u001b[92m│\u001b[0m\n",
       "\u001b[92m│\u001b[0m │\u001b[96m \u001b[0m\u001b[96mbuild_summary_prompt\u001b[0m\u001b[96m \u001b[0m│\u001b[92m \u001b[0m\u001b[92mPromptBuilderB…\u001b[0m\u001b[92m \u001b[0m│\u001b[93m \u001b[0m\u001b[93m     0.01s\u001b[0m\u001b[93m \u001b[0m│\u001b[94m \u001b[0m\u001b[94m  50 → 50   \u001b[0m\u001b[94m \u001b[0m│\u001b[95m \u001b[0m\u001b[95m      +1       \u001b[0m\u001b[95m \u001b[0m│     \u001b[32m✓\u001b[0m      │           \u001b[92m│\u001b[0m\n",
       "\u001b[92m│\u001b[0m │\u001b[96m \u001b[0m\u001b[96mgenerate_summary    \u001b[0m\u001b[96m \u001b[0m│\u001b[92m \u001b[0m\u001b[92mLLMChatBlock   \u001b[0m\u001b[92m \u001b[0m│\u001b[93m \u001b[0m\u001b[93m     1.81s\u001b[0m\u001b[93m \u001b[0m│\u001b[94m \u001b[0m\u001b[94m  50 → 50   \u001b[0m\u001b[94m \u001b[0m│\u001b[95m \u001b[0m\u001b[95m      +1       \u001b[0m\u001b[95m \u001b[0m│     \u001b[32m✓\u001b[0m      │           \u001b[92m│\u001b[0m\n",
       "\u001b[92m│\u001b[0m │\u001b[96m \u001b[0m\u001b[96mparse_summary       \u001b[0m\u001b[96m \u001b[0m│\u001b[92m \u001b[0m\u001b[92mTextParserBlock\u001b[0m\u001b[92m \u001b[0m│\u001b[93m \u001b[0m\u001b[93m     0.02s\u001b[0m\u001b[93m \u001b[0m│\u001b[94m \u001b[0m\u001b[94m  50 → 50   \u001b[0m\u001b[94m \u001b[0m│\u001b[95m \u001b[0m\u001b[95m      +1       \u001b[0m\u001b[95m \u001b[0m│     \u001b[32m✓\u001b[0m      │           \u001b[92m│\u001b[0m\n",
       "\u001b[92m│\u001b[0m │\u001b[96m \u001b[0m\u001b[96mbuild_keywords_prom…\u001b[0m\u001b[96m \u001b[0m│\u001b[92m \u001b[0m\u001b[92mPromptBuilderB…\u001b[0m\u001b[92m \u001b[0m│\u001b[93m \u001b[0m\u001b[93m     0.01s\u001b[0m\u001b[93m \u001b[0m│\u001b[94m \u001b[0m\u001b[94m  50 → 50   \u001b[0m\u001b[94m \u001b[0m│\u001b[95m \u001b[0m\u001b[95m      +1       \u001b[0m\u001b[95m \u001b[0m│     \u001b[32m✓\u001b[0m      │           \u001b[92m│\u001b[0m\n",
       "\u001b[92m│\u001b[0m │\u001b[96m \u001b[0m\u001b[96mgenerate_keywords   \u001b[0m\u001b[96m \u001b[0m│\u001b[92m \u001b[0m\u001b[92mLLMChatBlock   \u001b[0m\u001b[92m \u001b[0m│\u001b[93m \u001b[0m\u001b[93m     1.14s\u001b[0m\u001b[93m \u001b[0m│\u001b[94m \u001b[0m\u001b[94m  50 → 50   \u001b[0m\u001b[94m \u001b[0m│\u001b[95m \u001b[0m\u001b[95m      +1       \u001b[0m\u001b[95m \u001b[0m│     \u001b[32m✓\u001b[0m      │           \u001b[92m│\u001b[0m\n",
       "\u001b[92m│\u001b[0m │\u001b[96m \u001b[0m\u001b[96mparse_keywords      \u001b[0m\u001b[96m \u001b[0m│\u001b[92m \u001b[0m\u001b[92mTextParserBlock\u001b[0m\u001b[92m \u001b[0m│\u001b[93m \u001b[0m\u001b[93m     0.02s\u001b[0m\u001b[93m \u001b[0m│\u001b[94m \u001b[0m\u001b[94m  50 → 50   \u001b[0m\u001b[94m \u001b[0m│\u001b[95m \u001b[0m\u001b[95m      +1       \u001b[0m\u001b[95m \u001b[0m│     \u001b[32m✓\u001b[0m      │           \u001b[92m│\u001b[0m\n",
       "\u001b[92m│\u001b[0m │\u001b[96m \u001b[0m\u001b[96mbuild_entities_prom…\u001b[0m\u001b[96m \u001b[0m│\u001b[92m \u001b[0m\u001b[92mPromptBuilderB…\u001b[0m\u001b[92m \u001b[0m│\u001b[93m \u001b[0m\u001b[93m     0.01s\u001b[0m\u001b[93m \u001b[0m│\u001b[94m \u001b[0m\u001b[94m  50 → 50   \u001b[0m\u001b[94m \u001b[0m│\u001b[95m \u001b[0m\u001b[95m      +1       \u001b[0m\u001b[95m \u001b[0m│     \u001b[32m✓\u001b[0m      │           \u001b[92m│\u001b[0m\n",
       "\u001b[92m│\u001b[0m │\u001b[96m \u001b[0m\u001b[96mgenerate_entities   \u001b[0m\u001b[96m \u001b[0m│\u001b[92m \u001b[0m\u001b[92mLLMChatBlock   \u001b[0m\u001b[92m \u001b[0m│\u001b[93m \u001b[0m\u001b[93m     4.05s\u001b[0m\u001b[93m \u001b[0m│\u001b[94m \u001b[0m\u001b[94m  50 → 50   \u001b[0m\u001b[94m \u001b[0m│\u001b[95m \u001b[0m\u001b[95m      +1       \u001b[0m\u001b[95m \u001b[0m│     \u001b[32m✓\u001b[0m      │           \u001b[92m│\u001b[0m\n",
       "\u001b[92m│\u001b[0m │\u001b[96m \u001b[0m\u001b[96mparse_entities      \u001b[0m\u001b[96m \u001b[0m│\u001b[92m \u001b[0m\u001b[92mTextParserBlock\u001b[0m\u001b[92m \u001b[0m│\u001b[93m \u001b[0m\u001b[93m     0.03s\u001b[0m\u001b[93m \u001b[0m│\u001b[94m \u001b[0m\u001b[94m  50 → 50   \u001b[0m\u001b[94m \u001b[0m│\u001b[95m \u001b[0m\u001b[95m      +1       \u001b[0m\u001b[95m \u001b[0m│     \u001b[32m✓\u001b[0m      │           \u001b[92m│\u001b[0m\n",
       "\u001b[92m│\u001b[0m │\u001b[96m \u001b[0m\u001b[96mbuild_sentiment_pro…\u001b[0m\u001b[96m \u001b[0m│\u001b[92m \u001b[0m\u001b[92mPromptBuilderB…\u001b[0m\u001b[92m \u001b[0m│\u001b[93m \u001b[0m\u001b[93m     0.02s\u001b[0m\u001b[93m \u001b[0m│\u001b[94m \u001b[0m\u001b[94m  50 → 50   \u001b[0m\u001b[94m \u001b[0m│\u001b[95m \u001b[0m\u001b[95m      +1       \u001b[0m\u001b[95m \u001b[0m│     \u001b[32m✓\u001b[0m      │           \u001b[92m│\u001b[0m\n",
       "\u001b[92m│\u001b[0m │\u001b[96m \u001b[0m\u001b[96mgenerate_sentiment  \u001b[0m\u001b[96m \u001b[0m│\u001b[92m \u001b[0m\u001b[92mLLMChatBlock   \u001b[0m\u001b[92m \u001b[0m│\u001b[93m \u001b[0m\u001b[93m     0.60s\u001b[0m\u001b[93m \u001b[0m│\u001b[94m \u001b[0m\u001b[94m  50 → 50   \u001b[0m\u001b[94m \u001b[0m│\u001b[95m \u001b[0m\u001b[95m      +1       \u001b[0m\u001b[95m \u001b[0m│     \u001b[32m✓\u001b[0m      │           \u001b[92m│\u001b[0m\n",
       "\u001b[92m│\u001b[0m │\u001b[96m \u001b[0m\u001b[96mparse_sentiment     \u001b[0m\u001b[96m \u001b[0m│\u001b[92m \u001b[0m\u001b[92mTextParserBlock\u001b[0m\u001b[92m \u001b[0m│\u001b[93m \u001b[0m\u001b[93m     0.04s\u001b[0m\u001b[93m \u001b[0m│\u001b[94m \u001b[0m\u001b[94m  50 → 50   \u001b[0m\u001b[94m \u001b[0m│\u001b[95m \u001b[0m\u001b[95m      +1       \u001b[0m\u001b[95m \u001b[0m│     \u001b[32m✓\u001b[0m      │           \u001b[92m│\u001b[0m\n",
       "\u001b[92m│\u001b[0m │\u001b[96m \u001b[0m\u001b[96mcreate_structured_i…\u001b[0m\u001b[96m \u001b[0m│\u001b[92m \u001b[0m\u001b[92mJSONStructureB…\u001b[0m\u001b[92m \u001b[0m│\u001b[93m \u001b[0m\u001b[93m     0.02s\u001b[0m\u001b[93m \u001b[0m│\u001b[94m \u001b[0m\u001b[94m  50 → 50   \u001b[0m\u001b[94m \u001b[0m│\u001b[95m \u001b[0m\u001b[95m      +1       \u001b[0m\u001b[95m \u001b[0m│     \u001b[32m✓\u001b[0m      │           \u001b[92m│\u001b[0m\n",
       "\u001b[92m│\u001b[0m ├──────────────────────┼─────────────────┼────────────┼──────────────┼─────────────────┼────────────┤           \u001b[92m│\u001b[0m\n",
       "\u001b[92m│\u001b[0m │\u001b[96m \u001b[0m\u001b[1;96mTOTAL\u001b[0m\u001b[96m               \u001b[0m\u001b[96m \u001b[0m│\u001b[92m \u001b[0m\u001b[1;92m13 blocks\u001b[0m\u001b[92m      \u001b[0m\u001b[92m \u001b[0m│\u001b[93m \u001b[0m\u001b[93m     \u001b[0m\u001b[1;93m7.77s\u001b[0m\u001b[93m \u001b[0m│\u001b[94m \u001b[0m\u001b[94m  \u001b[0m\u001b[1;94m50 final\u001b[0m\u001b[94m  \u001b[0m\u001b[94m \u001b[0m│\u001b[95m \u001b[0m\u001b[95m   \u001b[0m\u001b[1;95m18 final\u001b[0m\u001b[95m    \u001b[0m\u001b[95m \u001b[0m│   \u001b[1;32m13/13\u001b[0m    │           \u001b[92m│\u001b[0m\n",
       "\u001b[92m│\u001b[0m └──────────────────────┴─────────────────┴────────────┴──────────────┴─────────────────┴────────────┘           \u001b[92m│\u001b[0m\n",
       "\u001b[92m╰─────────────────────────────────────────────────────────────────────────────────────────────────────────────────╯\u001b[0m\n"
      ]
     },
     "metadata": {},
     "output_type": "display_data"
    },
    {
     "data": {
      "text/html": [
       "<pre style=\"white-space:pre;overflow-x:auto;line-height:normal;font-family:Menlo,'DejaVu Sans Mono',consolas,'Courier New',monospace\">\n",
       "</pre>\n"
      ],
      "text/plain": [
       "\n"
      ]
     },
     "metadata": {},
     "output_type": "display_data"
    },
    {
     "data": {
      "text/html": [
       "<pre style=\"white-space:pre;overflow-x:auto;line-height:normal;font-family:Menlo,'DejaVu Sans Mono',consolas,'Courier New',monospace\"><span style=\"color: #7fbfbf; text-decoration-color: #7fbfbf\">           </span><span style=\"color: #000080; text-decoration-color: #000080\">INFO    </span> Flow <span style=\"color: #008000; text-decoration-color: #008000\">'Structured Text Insights Extraction Flow'</span> completed successfully: <span style=\"color: #008080; text-decoration-color: #008080; font-weight: bold\">50</span> final    <a href=\"file:///Users/shiv/workspace/sdg_hub/src/sdg_hub/core/flow/base.py\" target=\"_blank\"><span style=\"color: #7f7f7f; text-decoration-color: #7f7f7f\">base.py</span></a><span style=\"color: #7f7f7f; text-decoration-color: #7f7f7f\">:</span><a href=\"file:///Users/shiv/workspace/sdg_hub/src/sdg_hub/core/flow/base.py#620\" target=\"_blank\"><span style=\"color: #7f7f7f; text-decoration-color: #7f7f7f\">620</span></a>\n",
       "<span style=\"color: #7fbfbf; text-decoration-color: #7fbfbf\">           </span>         samples, <span style=\"color: #008080; text-decoration-color: #008080; font-weight: bold\">18</span> final columns                                                           <span style=\"color: #7f7f7f; text-decoration-color: #7f7f7f\">           </span>\n",
       "</pre>\n"
      ],
      "text/plain": [
       "\u001b[2;36m          \u001b[0m\u001b[2;36m \u001b[0m\u001b[34mINFO    \u001b[0m Flow \u001b[32m'Structured Text Insights Extraction Flow'\u001b[0m completed successfully: \u001b[1;36m50\u001b[0m final    \u001b]8;id=770959;file:///Users/shiv/workspace/sdg_hub/src/sdg_hub/core/flow/base.py\u001b\\\u001b[2mbase.py\u001b[0m\u001b]8;;\u001b\\\u001b[2m:\u001b[0m\u001b]8;id=830464;file:///Users/shiv/workspace/sdg_hub/src/sdg_hub/core/flow/base.py#620\u001b\\\u001b[2m620\u001b[0m\u001b]8;;\u001b\\\n",
       "\u001b[2;36m           \u001b[0m         samples, \u001b[1;36m18\u001b[0m final columns                                                           \u001b[2m           \u001b[0m\n"
      ]
     },
     "metadata": {},
     "output_type": "display_data"
    },
    {
     "name": "stdout",
     "output_type": "stream",
     "text": [
      "✅ Processing complete!\n",
      "📊 Generated insights for 50 articles\n",
      "📋 Result columns: ['Headline', 'Journalists', 'Date', 'Link', 'text', 'summary_prompt', 'raw_summary', 'summary', 'keywords_prompt', 'raw_keywords', 'keywords', 'entities_prompt', 'raw_entities', 'entities', 'sentiment_prompt', 'raw_sentiment', 'sentiment', 'structured_insights']\n"
     ]
    }
   ],
   "source": [
    "# Generate structured insights\n",
    "print(\"🚀 Running structured insights extraction...\")\n",
    "print(\"⏱️ This may take a few minutes depending on your model setup...\")\n",
    "\n",
    "# Run the flow\n",
    "results = flow.generate(demo_dataset)\n",
    "\n",
    "print(\"✅ Processing complete!\")\n",
    "print(f\"📊 Generated insights for {len(results)} articles\")\n",
    "print(f\"📋 Result columns: {results.column_names}\")"
   ]
  },
  {
   "cell_type": "code",
   "execution_count": 13,
   "metadata": {},
   "outputs": [
    {
     "name": "stdout",
     "output_type": "stream",
     "text": [
      "=== First Article Analysis ===\n",
      "📰 Original headline: Ivory Coast Keeps Cocoa Export Tax Below 22%, Document Shows\n",
      "📅 Date: 2011-10-06 15:14:20\n",
      "✍️ Journalists: ['Baudelaire Mieu']\n",
      "📄 Article length: 6138 characters\n",
      "\n",
      "🔍 EXTRACTED INSIGHTS:\n",
      "{\n",
      "  \"summary\": \"As of July 13 2012, Dreyfus Cash Management Funds reported daily and weekly yields ranging from 0.00% to 0.16% across various share classes (institutional, investor, administrative, etc.) with total assets per fund ranging from about $376 K to $27.9 million. The listed funds include cash management, government, treasury, municipal, tax‑exempt, and amount‑free municipal shares, each identified by CUSIP and maturity days. For more details or assistance, contact the Dreyfus Institutional Client Administrator at (800) 346‑3621 or Tom Haje at (609) 279‑4146.\",\n",
      "  \"keywords\": \"Dreyfus Cash Management, Institutional Shares, Yield%, Maturity, CUSIP, Treasury Cash Management, Municipal Cash Management, Administrative Shares, Bloomberg, Millrate\",\n",
      "  \"entities\": \"{\\n  \\\"people\\\": [\\\"Tom Haje\\\"],\\n  \\\"organizations\\\": [\\n    \\\"DREYFUS\\\",\\n    \\\"DREYFUS CASH MANAGEMENT FUNDS\\\",\\n    \\\"DREYFUS ELECTRONIC TRADING SYSTEM\\\",\\n    \\\"Bloomberg\\\"\\n  ],\\n  \\\"locations\\\": [\\\"Princeton\\\"]\\n}\",\n",
      "  \"sentiment\": \"neutral\"\n",
      "}\n"
     ]
    }
   ],
   "source": [
    "# Display a sample result\n",
    "sample_result = results[random.randint(0, len(results) - 1)]\n",
    "\n",
    "print(\"=== First Article Analysis ===\")\n",
    "print(f\"📰 Original headline: {dataset[0]['Headline']}\")\n",
    "print(f\"📅 Date: {dataset[0]['Date']}\")\n",
    "print(f\"✍️ Journalists: {dataset[0]['Journalists']}\")\n",
    "print(f\"📄 Article length: {len(sample_result['text'])} characters\")\n",
    "print()\n",
    "\n",
    "# Parse and display the structured insights\n",
    "insights = json.loads(sample_result[\"structured_insights\"])\n",
    "print(\"🔍 EXTRACTED INSIGHTS:\")\n",
    "print(json.dumps(insights, indent=2, ensure_ascii=False))"
   ]
  },
  {
   "cell_type": "markdown",
   "metadata": {},
   "source": [
    "## 5. Dynamic Flow Extension: Adding Stock Ticker Extraction\n",
    "\n",
    "Now we'll demonstrate SDG Hub's **dynamic flow modification** capabilities. Instead of creating separate flow files, we can extend flows at runtime by adding custom processing blocks using existing SDG Hub components.\n",
    "\n",
    "### What We'll Add:\n",
    "We'll extend our structured insights flow to extract **stock ticker symbols** from financial news articles. This is perfect for Bloomberg financial news analysis!\n",
    "\n",
    "### Approach:\n",
    "We'll use three existing SDG Hub blocks:\n",
    "1. **PromptBuilderBlock** - Create a prompt to extract stock tickers\n",
    "2. **LLMChatBlock** - Process the extraction using the LLM\n",
    "3. **TextParserBlock** - Parse the output to a clean list\n",
    "\n",
    "Let's see how to modify flows at runtime!"
   ]
  },
  {
   "cell_type": "code",
   "execution_count": 14,
   "metadata": {},
   "outputs": [
    {
     "data": {
      "text/html": [
       "<pre style=\"white-space:pre;overflow-x:auto;line-height:normal;font-family:Menlo,'DejaVu Sans Mono',consolas,'Courier New',monospace\">\n",
       "</pre>\n"
      ],
      "text/plain": [
       "\n"
      ]
     },
     "metadata": {},
     "output_type": "display_data"
    },
    {
     "data": {
      "text/html": [
       "<pre style=\"white-space:pre;overflow-x:auto;line-height:normal;font-family:Menlo,'DejaVu Sans Mono',consolas,'Courier New',monospace\"><span style=\"color: #0000ff; text-decoration-color: #0000ff\">╭─────────────────────────────────────────────── </span><span style=\"color: #ffffff; text-decoration-color: #ffffff; font-weight: bold\">Flow Information</span><span style=\"color: #0000ff; text-decoration-color: #0000ff\"> ────────────────────────────────────────────────╮</span>\n",
       "<span style=\"color: #0000ff; text-decoration-color: #0000ff\">│</span> <span style=\"color: #0000ff; text-decoration-color: #0000ff; font-weight: bold\">Structured Text Insights Extraction Flow</span> Flow                                                                   <span style=\"color: #0000ff; text-decoration-color: #0000ff\">│</span>\n",
       "<span style=\"color: #0000ff; text-decoration-color: #0000ff\">│</span> ├── <span style=\"color: #00ff00; text-decoration-color: #00ff00; font-weight: bold\">Metadata</span>                                                                                                    <span style=\"color: #0000ff; text-decoration-color: #0000ff\">│</span>\n",
       "<span style=\"color: #0000ff; text-decoration-color: #0000ff\">│</span> │   ├── Version: <span style=\"color: #00ffff; text-decoration-color: #00ffff\">1.0.0</span>                                                                                          <span style=\"color: #0000ff; text-decoration-color: #0000ff\">│</span>\n",
       "<span style=\"color: #0000ff; text-decoration-color: #0000ff\">│</span> │   ├── Author: <span style=\"color: #00ffff; text-decoration-color: #00ffff\">SDG Hub Contributors</span>                                                                            <span style=\"color: #0000ff; text-decoration-color: #0000ff\">│</span>\n",
       "<span style=\"color: #0000ff; text-decoration-color: #0000ff\">│</span> │   └── Description: <span style=\"color: #c0c0c0; text-decoration-color: #c0c0c0\">Multi-step pipeline for extracting structured insights from text including summary, </span>       <span style=\"color: #0000ff; text-decoration-color: #0000ff\">│</span>\n",
       "<span style=\"color: #0000ff; text-decoration-color: #0000ff\">│</span> │       <span style=\"color: #c0c0c0; text-decoration-color: #c0c0c0\">keywords, entities, and sentiment analysis combined into a JSON output</span>                                  <span style=\"color: #0000ff; text-decoration-color: #0000ff\">│</span>\n",
       "<span style=\"color: #0000ff; text-decoration-color: #0000ff\">│</span> └── <span style=\"color: #ff00ff; text-decoration-color: #ff00ff; font-weight: bold\">Blocks</span> (13 total)                                                                                           <span style=\"color: #0000ff; text-decoration-color: #0000ff\">│</span>\n",
       "<span style=\"color: #0000ff; text-decoration-color: #0000ff\">╰─────────────────────────────────────────────────────────────────────────────────────────────────────────────────╯</span>\n",
       "</pre>\n"
      ],
      "text/plain": [
       "\u001b[94m╭─\u001b[0m\u001b[94m──────────────────────────────────────────────\u001b[0m\u001b[94m \u001b[0m\u001b[1;97mFlow Information\u001b[0m\u001b[94m \u001b[0m\u001b[94m───────────────────────────────────────────────\u001b[0m\u001b[94m─╮\u001b[0m\n",
       "\u001b[94m│\u001b[0m \u001b[1;94mStructured Text Insights Extraction Flow\u001b[0m Flow                                                                   \u001b[94m│\u001b[0m\n",
       "\u001b[94m│\u001b[0m ├── \u001b[1;92mMetadata\u001b[0m                                                                                                    \u001b[94m│\u001b[0m\n",
       "\u001b[94m│\u001b[0m │   ├── Version: \u001b[96m1.0.0\u001b[0m                                                                                          \u001b[94m│\u001b[0m\n",
       "\u001b[94m│\u001b[0m │   ├── Author: \u001b[96mSDG Hub Contributors\u001b[0m                                                                            \u001b[94m│\u001b[0m\n",
       "\u001b[94m│\u001b[0m │   └── Description: \u001b[37mMulti-step pipeline for extracting structured insights from text including summary, \u001b[0m       \u001b[94m│\u001b[0m\n",
       "\u001b[94m│\u001b[0m │       \u001b[37mkeywords, entities, and sentiment analysis combined into a JSON output\u001b[0m                                  \u001b[94m│\u001b[0m\n",
       "\u001b[94m│\u001b[0m └── \u001b[1;95mBlocks\u001b[0m (13 total)                                                                                           \u001b[94m│\u001b[0m\n",
       "\u001b[94m╰─────────────────────────────────────────────────────────────────────────────────────────────────────────────────╯\u001b[0m\n"
      ]
     },
     "metadata": {},
     "output_type": "display_data"
    },
    {
     "data": {
      "text/html": [
       "<pre style=\"white-space:pre;overflow-x:auto;line-height:normal;font-family:Menlo,'DejaVu Sans Mono',consolas,'Courier New',monospace\">\n",
       "</pre>\n"
      ],
      "text/plain": [
       "\n"
      ]
     },
     "metadata": {},
     "output_type": "display_data"
    },
    {
     "data": {
      "text/html": [
       "<pre style=\"white-space:pre;overflow-x:auto;line-height:normal;font-family:Menlo,'DejaVu Sans Mono',consolas,'Courier New',monospace\"><span style=\"color: #ff00ff; text-decoration-color: #ff00ff\">╭───────────────────────────────────────────────── </span><span style=\"color: #ffffff; text-decoration-color: #ffffff; font-weight: bold\">Block Details</span><span style=\"color: #ff00ff; text-decoration-color: #ff00ff\"> ─────────────────────────────────────────────────╮</span>\n",
       "<span style=\"color: #ff00ff; text-decoration-color: #ff00ff\">│</span> ┏━━━━━━━━━━━━━━━━━━━━━━━━━━━━┳━━━━━━━━━━━━━━━━━━━━┳━━━━━━━━━━━━━━━━━━━━━━━━━━━━━━━━━┳━━━━━━━━━━━━━━━━━━━━━━━━━┓ <span style=\"color: #ff00ff; text-decoration-color: #ff00ff\">│</span>\n",
       "<span style=\"color: #ff00ff; text-decoration-color: #ff00ff\">│</span> ┃<span style=\"color: #ffffff; text-decoration-color: #ffffff; font-weight: bold\"> Block Name                 </span>┃<span style=\"color: #ffffff; text-decoration-color: #ffffff; font-weight: bold\"> Type               </span>┃<span style=\"color: #ffffff; text-decoration-color: #ffffff; font-weight: bold\"> Input Cols                      </span>┃<span style=\"color: #ffffff; text-decoration-color: #ffffff; font-weight: bold\"> Output Cols             </span>┃ <span style=\"color: #ff00ff; text-decoration-color: #ff00ff\">│</span>\n",
       "<span style=\"color: #ff00ff; text-decoration-color: #ff00ff\">│</span> ┡━━━━━━━━━━━━━━━━━━━━━━━━━━━━╇━━━━━━━━━━━━━━━━━━━━╇━━━━━━━━━━━━━━━━━━━━━━━━━━━━━━━━━╇━━━━━━━━━━━━━━━━━━━━━━━━━┩ <span style=\"color: #ff00ff; text-decoration-color: #ff00ff\">│</span>\n",
       "<span style=\"color: #ff00ff; text-decoration-color: #ff00ff\">│</span> │<span style=\"color: #00ffff; text-decoration-color: #00ffff\"> build_summary_prompt       </span>│<span style=\"color: #00ff00; text-decoration-color: #00ff00\"> PromptBuilderBlock </span>│<span style=\"color: #ffff00; text-decoration-color: #ffff00\"> ['text']                        </span>│<span style=\"color: #ff0000; text-decoration-color: #ff0000\"> ['summary_prompt']      </span>│ <span style=\"color: #ff00ff; text-decoration-color: #ff00ff\">│</span>\n",
       "<span style=\"color: #ff00ff; text-decoration-color: #ff00ff\">│</span> │<span style=\"color: #00ffff; text-decoration-color: #00ffff\"> generate_summary           </span>│<span style=\"color: #00ff00; text-decoration-color: #00ff00\"> LLMChatBlock       </span>│<span style=\"color: #ffff00; text-decoration-color: #ffff00\"> ['summary_prompt']              </span>│<span style=\"color: #ff0000; text-decoration-color: #ff0000\"> ['raw_summary']         </span>│ <span style=\"color: #ff00ff; text-decoration-color: #ff00ff\">│</span>\n",
       "<span style=\"color: #ff00ff; text-decoration-color: #ff00ff\">│</span> │<span style=\"color: #00ffff; text-decoration-color: #00ffff\"> parse_summary              </span>│<span style=\"color: #00ff00; text-decoration-color: #00ff00\"> TextParserBlock    </span>│<span style=\"color: #ffff00; text-decoration-color: #ffff00\"> ['raw_summary']                 </span>│<span style=\"color: #ff0000; text-decoration-color: #ff0000\"> ['summary']             </span>│ <span style=\"color: #ff00ff; text-decoration-color: #ff00ff\">│</span>\n",
       "<span style=\"color: #ff00ff; text-decoration-color: #ff00ff\">│</span> │<span style=\"color: #00ffff; text-decoration-color: #00ffff\"> build_keywords_prompt      </span>│<span style=\"color: #00ff00; text-decoration-color: #00ff00\"> PromptBuilderBlock </span>│<span style=\"color: #ffff00; text-decoration-color: #ffff00\"> ['text']                        </span>│<span style=\"color: #ff0000; text-decoration-color: #ff0000\"> ['keywords_prompt']     </span>│ <span style=\"color: #ff00ff; text-decoration-color: #ff00ff\">│</span>\n",
       "<span style=\"color: #ff00ff; text-decoration-color: #ff00ff\">│</span> │<span style=\"color: #00ffff; text-decoration-color: #00ffff\"> generate_keywords          </span>│<span style=\"color: #00ff00; text-decoration-color: #00ff00\"> LLMChatBlock       </span>│<span style=\"color: #ffff00; text-decoration-color: #ffff00\"> ['keywords_prompt']             </span>│<span style=\"color: #ff0000; text-decoration-color: #ff0000\"> ['raw_keywords']        </span>│ <span style=\"color: #ff00ff; text-decoration-color: #ff00ff\">│</span>\n",
       "<span style=\"color: #ff00ff; text-decoration-color: #ff00ff\">│</span> │<span style=\"color: #00ffff; text-decoration-color: #00ffff\"> parse_keywords             </span>│<span style=\"color: #00ff00; text-decoration-color: #00ff00\"> TextParserBlock    </span>│<span style=\"color: #ffff00; text-decoration-color: #ffff00\"> ['raw_keywords']                </span>│<span style=\"color: #ff0000; text-decoration-color: #ff0000\"> ['keywords']            </span>│ <span style=\"color: #ff00ff; text-decoration-color: #ff00ff\">│</span>\n",
       "<span style=\"color: #ff00ff; text-decoration-color: #ff00ff\">│</span> │<span style=\"color: #00ffff; text-decoration-color: #00ffff\"> build_entities_prompt      </span>│<span style=\"color: #00ff00; text-decoration-color: #00ff00\"> PromptBuilderBlock </span>│<span style=\"color: #ffff00; text-decoration-color: #ffff00\"> ['text']                        </span>│<span style=\"color: #ff0000; text-decoration-color: #ff0000\"> ['entities_prompt']     </span>│ <span style=\"color: #ff00ff; text-decoration-color: #ff00ff\">│</span>\n",
       "<span style=\"color: #ff00ff; text-decoration-color: #ff00ff\">│</span> │<span style=\"color: #00ffff; text-decoration-color: #00ffff\"> generate_entities          </span>│<span style=\"color: #00ff00; text-decoration-color: #00ff00\"> LLMChatBlock       </span>│<span style=\"color: #ffff00; text-decoration-color: #ffff00\"> ['entities_prompt']             </span>│<span style=\"color: #ff0000; text-decoration-color: #ff0000\"> ['raw_entities']        </span>│ <span style=\"color: #ff00ff; text-decoration-color: #ff00ff\">│</span>\n",
       "<span style=\"color: #ff00ff; text-decoration-color: #ff00ff\">│</span> │<span style=\"color: #00ffff; text-decoration-color: #00ffff\"> parse_entities             </span>│<span style=\"color: #00ff00; text-decoration-color: #00ff00\"> TextParserBlock    </span>│<span style=\"color: #ffff00; text-decoration-color: #ffff00\"> ['raw_entities']                </span>│<span style=\"color: #ff0000; text-decoration-color: #ff0000\"> ['entities']            </span>│ <span style=\"color: #ff00ff; text-decoration-color: #ff00ff\">│</span>\n",
       "<span style=\"color: #ff00ff; text-decoration-color: #ff00ff\">│</span> │<span style=\"color: #00ffff; text-decoration-color: #00ffff\"> build_sentiment_prompt     </span>│<span style=\"color: #00ff00; text-decoration-color: #00ff00\"> PromptBuilderBlock </span>│<span style=\"color: #ffff00; text-decoration-color: #ffff00\"> ['text']                        </span>│<span style=\"color: #ff0000; text-decoration-color: #ff0000\"> ['sentiment_prompt']    </span>│ <span style=\"color: #ff00ff; text-decoration-color: #ff00ff\">│</span>\n",
       "<span style=\"color: #ff00ff; text-decoration-color: #ff00ff\">│</span> │<span style=\"color: #00ffff; text-decoration-color: #00ffff\"> generate_sentiment         </span>│<span style=\"color: #00ff00; text-decoration-color: #00ff00\"> LLMChatBlock       </span>│<span style=\"color: #ffff00; text-decoration-color: #ffff00\"> ['sentiment_prompt']            </span>│<span style=\"color: #ff0000; text-decoration-color: #ff0000\"> ['raw_sentiment']       </span>│ <span style=\"color: #ff00ff; text-decoration-color: #ff00ff\">│</span>\n",
       "<span style=\"color: #ff00ff; text-decoration-color: #ff00ff\">│</span> │<span style=\"color: #00ffff; text-decoration-color: #00ffff\"> parse_sentiment            </span>│<span style=\"color: #00ff00; text-decoration-color: #00ff00\"> TextParserBlock    </span>│<span style=\"color: #ffff00; text-decoration-color: #ffff00\"> ['raw_sentiment']               </span>│<span style=\"color: #ff0000; text-decoration-color: #ff0000\"> ['sentiment']           </span>│ <span style=\"color: #ff00ff; text-decoration-color: #ff00ff\">│</span>\n",
       "<span style=\"color: #ff00ff; text-decoration-color: #ff00ff\">│</span> │<span style=\"color: #00ffff; text-decoration-color: #00ffff\"> create_structured_insights </span>│<span style=\"color: #00ff00; text-decoration-color: #00ff00\"> JSONStructureBlock </span>│<span style=\"color: #ffff00; text-decoration-color: #ffff00\"> ['summary', 'keywords',         </span>│<span style=\"color: #ff0000; text-decoration-color: #ff0000\"> ['structured_insights'] </span>│ <span style=\"color: #ff00ff; text-decoration-color: #ff00ff\">│</span>\n",
       "<span style=\"color: #ff00ff; text-decoration-color: #ff00ff\">│</span> │<span style=\"color: #00ffff; text-decoration-color: #00ffff\">                            </span>│<span style=\"color: #00ff00; text-decoration-color: #00ff00\">                    </span>│<span style=\"color: #ffff00; text-decoration-color: #ffff00\"> 'entities', 'sentiment']        </span>│<span style=\"color: #ff0000; text-decoration-color: #ff0000\">                         </span>│ <span style=\"color: #ff00ff; text-decoration-color: #ff00ff\">│</span>\n",
       "<span style=\"color: #ff00ff; text-decoration-color: #ff00ff\">│</span> └────────────────────────────┴────────────────────┴─────────────────────────────────┴─────────────────────────┘ <span style=\"color: #ff00ff; text-decoration-color: #ff00ff\">│</span>\n",
       "<span style=\"color: #ff00ff; text-decoration-color: #ff00ff\">╰─────────────────────────────────────────────────────────────────────────────────────────────────────────────────╯</span>\n",
       "</pre>\n"
      ],
      "text/plain": [
       "\u001b[95m╭─\u001b[0m\u001b[95m────────────────────────────────────────────────\u001b[0m\u001b[95m \u001b[0m\u001b[1;97mBlock Details\u001b[0m\u001b[95m \u001b[0m\u001b[95m────────────────────────────────────────────────\u001b[0m\u001b[95m─╮\u001b[0m\n",
       "\u001b[95m│\u001b[0m ┏━━━━━━━━━━━━━━━━━━━━━━━━━━━━┳━━━━━━━━━━━━━━━━━━━━┳━━━━━━━━━━━━━━━━━━━━━━━━━━━━━━━━━┳━━━━━━━━━━━━━━━━━━━━━━━━━┓ \u001b[95m│\u001b[0m\n",
       "\u001b[95m│\u001b[0m ┃\u001b[1;97m \u001b[0m\u001b[1;97mBlock Name                \u001b[0m\u001b[1;97m \u001b[0m┃\u001b[1;97m \u001b[0m\u001b[1;97mType              \u001b[0m\u001b[1;97m \u001b[0m┃\u001b[1;97m \u001b[0m\u001b[1;97mInput Cols                     \u001b[0m\u001b[1;97m \u001b[0m┃\u001b[1;97m \u001b[0m\u001b[1;97mOutput Cols            \u001b[0m\u001b[1;97m \u001b[0m┃ \u001b[95m│\u001b[0m\n",
       "\u001b[95m│\u001b[0m ┡━━━━━━━━━━━━━━━━━━━━━━━━━━━━╇━━━━━━━━━━━━━━━━━━━━╇━━━━━━━━━━━━━━━━━━━━━━━━━━━━━━━━━╇━━━━━━━━━━━━━━━━━━━━━━━━━┩ \u001b[95m│\u001b[0m\n",
       "\u001b[95m│\u001b[0m │\u001b[96m \u001b[0m\u001b[96mbuild_summary_prompt      \u001b[0m\u001b[96m \u001b[0m│\u001b[92m \u001b[0m\u001b[92mPromptBuilderBlock\u001b[0m\u001b[92m \u001b[0m│\u001b[93m \u001b[0m\u001b[93m['text']                       \u001b[0m\u001b[93m \u001b[0m│\u001b[91m \u001b[0m\u001b[91m['summary_prompt']     \u001b[0m\u001b[91m \u001b[0m│ \u001b[95m│\u001b[0m\n",
       "\u001b[95m│\u001b[0m │\u001b[96m \u001b[0m\u001b[96mgenerate_summary          \u001b[0m\u001b[96m \u001b[0m│\u001b[92m \u001b[0m\u001b[92mLLMChatBlock      \u001b[0m\u001b[92m \u001b[0m│\u001b[93m \u001b[0m\u001b[93m['summary_prompt']             \u001b[0m\u001b[93m \u001b[0m│\u001b[91m \u001b[0m\u001b[91m['raw_summary']        \u001b[0m\u001b[91m \u001b[0m│ \u001b[95m│\u001b[0m\n",
       "\u001b[95m│\u001b[0m │\u001b[96m \u001b[0m\u001b[96mparse_summary             \u001b[0m\u001b[96m \u001b[0m│\u001b[92m \u001b[0m\u001b[92mTextParserBlock   \u001b[0m\u001b[92m \u001b[0m│\u001b[93m \u001b[0m\u001b[93m['raw_summary']                \u001b[0m\u001b[93m \u001b[0m│\u001b[91m \u001b[0m\u001b[91m['summary']            \u001b[0m\u001b[91m \u001b[0m│ \u001b[95m│\u001b[0m\n",
       "\u001b[95m│\u001b[0m │\u001b[96m \u001b[0m\u001b[96mbuild_keywords_prompt     \u001b[0m\u001b[96m \u001b[0m│\u001b[92m \u001b[0m\u001b[92mPromptBuilderBlock\u001b[0m\u001b[92m \u001b[0m│\u001b[93m \u001b[0m\u001b[93m['text']                       \u001b[0m\u001b[93m \u001b[0m│\u001b[91m \u001b[0m\u001b[91m['keywords_prompt']    \u001b[0m\u001b[91m \u001b[0m│ \u001b[95m│\u001b[0m\n",
       "\u001b[95m│\u001b[0m │\u001b[96m \u001b[0m\u001b[96mgenerate_keywords         \u001b[0m\u001b[96m \u001b[0m│\u001b[92m \u001b[0m\u001b[92mLLMChatBlock      \u001b[0m\u001b[92m \u001b[0m│\u001b[93m \u001b[0m\u001b[93m['keywords_prompt']            \u001b[0m\u001b[93m \u001b[0m│\u001b[91m \u001b[0m\u001b[91m['raw_keywords']       \u001b[0m\u001b[91m \u001b[0m│ \u001b[95m│\u001b[0m\n",
       "\u001b[95m│\u001b[0m │\u001b[96m \u001b[0m\u001b[96mparse_keywords            \u001b[0m\u001b[96m \u001b[0m│\u001b[92m \u001b[0m\u001b[92mTextParserBlock   \u001b[0m\u001b[92m \u001b[0m│\u001b[93m \u001b[0m\u001b[93m['raw_keywords']               \u001b[0m\u001b[93m \u001b[0m│\u001b[91m \u001b[0m\u001b[91m['keywords']           \u001b[0m\u001b[91m \u001b[0m│ \u001b[95m│\u001b[0m\n",
       "\u001b[95m│\u001b[0m │\u001b[96m \u001b[0m\u001b[96mbuild_entities_prompt     \u001b[0m\u001b[96m \u001b[0m│\u001b[92m \u001b[0m\u001b[92mPromptBuilderBlock\u001b[0m\u001b[92m \u001b[0m│\u001b[93m \u001b[0m\u001b[93m['text']                       \u001b[0m\u001b[93m \u001b[0m│\u001b[91m \u001b[0m\u001b[91m['entities_prompt']    \u001b[0m\u001b[91m \u001b[0m│ \u001b[95m│\u001b[0m\n",
       "\u001b[95m│\u001b[0m │\u001b[96m \u001b[0m\u001b[96mgenerate_entities         \u001b[0m\u001b[96m \u001b[0m│\u001b[92m \u001b[0m\u001b[92mLLMChatBlock      \u001b[0m\u001b[92m \u001b[0m│\u001b[93m \u001b[0m\u001b[93m['entities_prompt']            \u001b[0m\u001b[93m \u001b[0m│\u001b[91m \u001b[0m\u001b[91m['raw_entities']       \u001b[0m\u001b[91m \u001b[0m│ \u001b[95m│\u001b[0m\n",
       "\u001b[95m│\u001b[0m │\u001b[96m \u001b[0m\u001b[96mparse_entities            \u001b[0m\u001b[96m \u001b[0m│\u001b[92m \u001b[0m\u001b[92mTextParserBlock   \u001b[0m\u001b[92m \u001b[0m│\u001b[93m \u001b[0m\u001b[93m['raw_entities']               \u001b[0m\u001b[93m \u001b[0m│\u001b[91m \u001b[0m\u001b[91m['entities']           \u001b[0m\u001b[91m \u001b[0m│ \u001b[95m│\u001b[0m\n",
       "\u001b[95m│\u001b[0m │\u001b[96m \u001b[0m\u001b[96mbuild_sentiment_prompt    \u001b[0m\u001b[96m \u001b[0m│\u001b[92m \u001b[0m\u001b[92mPromptBuilderBlock\u001b[0m\u001b[92m \u001b[0m│\u001b[93m \u001b[0m\u001b[93m['text']                       \u001b[0m\u001b[93m \u001b[0m│\u001b[91m \u001b[0m\u001b[91m['sentiment_prompt']   \u001b[0m\u001b[91m \u001b[0m│ \u001b[95m│\u001b[0m\n",
       "\u001b[95m│\u001b[0m │\u001b[96m \u001b[0m\u001b[96mgenerate_sentiment        \u001b[0m\u001b[96m \u001b[0m│\u001b[92m \u001b[0m\u001b[92mLLMChatBlock      \u001b[0m\u001b[92m \u001b[0m│\u001b[93m \u001b[0m\u001b[93m['sentiment_prompt']           \u001b[0m\u001b[93m \u001b[0m│\u001b[91m \u001b[0m\u001b[91m['raw_sentiment']      \u001b[0m\u001b[91m \u001b[0m│ \u001b[95m│\u001b[0m\n",
       "\u001b[95m│\u001b[0m │\u001b[96m \u001b[0m\u001b[96mparse_sentiment           \u001b[0m\u001b[96m \u001b[0m│\u001b[92m \u001b[0m\u001b[92mTextParserBlock   \u001b[0m\u001b[92m \u001b[0m│\u001b[93m \u001b[0m\u001b[93m['raw_sentiment']              \u001b[0m\u001b[93m \u001b[0m│\u001b[91m \u001b[0m\u001b[91m['sentiment']          \u001b[0m\u001b[91m \u001b[0m│ \u001b[95m│\u001b[0m\n",
       "\u001b[95m│\u001b[0m │\u001b[96m \u001b[0m\u001b[96mcreate_structured_insights\u001b[0m\u001b[96m \u001b[0m│\u001b[92m \u001b[0m\u001b[92mJSONStructureBlock\u001b[0m\u001b[92m \u001b[0m│\u001b[93m \u001b[0m\u001b[93m['summary', 'keywords',        \u001b[0m\u001b[93m \u001b[0m│\u001b[91m \u001b[0m\u001b[91m['structured_insights']\u001b[0m\u001b[91m \u001b[0m│ \u001b[95m│\u001b[0m\n",
       "\u001b[95m│\u001b[0m │\u001b[96m                            \u001b[0m│\u001b[92m                    \u001b[0m│\u001b[93m \u001b[0m\u001b[93m'entities', 'sentiment']       \u001b[0m\u001b[93m \u001b[0m│\u001b[91m                         \u001b[0m│ \u001b[95m│\u001b[0m\n",
       "\u001b[95m│\u001b[0m └────────────────────────────┴────────────────────┴─────────────────────────────────┴─────────────────────────┘ \u001b[95m│\u001b[0m\n",
       "\u001b[95m╰─────────────────────────────────────────────────────────────────────────────────────────────────────────────────╯\u001b[0m\n"
      ]
     },
     "metadata": {},
     "output_type": "display_data"
    },
    {
     "data": {
      "text/html": [
       "<pre style=\"white-space:pre;overflow-x:auto;line-height:normal;font-family:Menlo,'DejaVu Sans Mono',consolas,'Courier New',monospace\">\n",
       "</pre>\n"
      ],
      "text/plain": [
       "\n"
      ]
     },
     "metadata": {},
     "output_type": "display_data"
    }
   ],
   "source": [
    "# We'll modify the existing flow by adding our ticker extraction blocks\n",
    "# First, let's examine the current flow structure\n",
    "flow.print_info()"
   ]
  },
  {
   "cell_type": "code",
   "execution_count": 15,
   "metadata": {},
   "outputs": [
    {
     "name": "stdout",
     "output_type": "stream",
     "text": [
      "🚀 Adding stock ticker extraction blocks to the flow...\n",
      "✅ Created ticker extraction blocks:\n",
      "  1. stock_ticker_prompt - Builds extraction prompt\n",
      "  2. extract_stock_tickers - Extracts tickers via LLM\n",
      "  3. parse_stock_tickers - Parses LLM output\n",
      "🔧 Updating JSON structure to include stock ticker field...\n",
      "✅ Enhanced JSON structure will include:\n",
      "  📝 summary - Article summary\n",
      "  🔑 keywords - Important keywords\n",
      "  🏷️ entities - Named entities\n",
      "  😊 sentiment - Emotional tone\n",
      "  📈 stock_tickers - Stock ticker symbols (NEW!)\n"
     ]
    }
   ],
   "source": [
    "# Import the blocks we need\n",
    "from sdg_hub.core.blocks.llm import LLMChatBlock, PromptBuilderBlock, TextParserBlock\n",
    "from sdg_hub.core.blocks.transform import JSONStructureBlock\n",
    "\n",
    "# Step 1: Add stock ticker extraction blocks to the flow\n",
    "print(\"🚀 Adding stock ticker extraction blocks to the flow...\")\n",
    "\n",
    "# Create the stock ticker extraction blocks\n",
    "ticker_prompt_block = PromptBuilderBlock(\n",
    "    block_name=\"stock_ticker_prompt\",\n",
    "    input_cols=[\"text\"],\n",
    "    output_cols=[\"ticker_prompt\"],\n",
    "    prompt_config_path=\"extract_stock_tickers.yaml\"\n",
    ")\n",
    "\n",
    "ticker_llm_block = LLMChatBlock(\n",
    "    block_name=\"extract_stock_tickers\",\n",
    "    input_cols=[\"ticker_prompt\"],\n",
    "    output_cols=[\"raw_stock_tickers\"],\n",
    "    max_tokens=512,\n",
    "    temperature=0.1  # Low temperature for more consistent extraction\n",
    ")\n",
    "\n",
    "ticker_parser_block = TextParserBlock(\n",
    "    block_name=\"parse_stock_tickers\",\n",
    "    input_cols=[\"raw_stock_tickers\"],\n",
    "    output_cols=[\"stock_tickers\"],\n",
    "    start_tags=[\"[STOCK_TICKERS]\"],\n",
    "    end_tags=[\"[/STOCK_TICKERS]\"]\n",
    ")\n",
    "\n",
    "print(\"✅ Created ticker extraction blocks:\")\n",
    "print(f\"  1. {ticker_prompt_block.block_name} - Builds extraction prompt\")\n",
    "print(f\"  2. {ticker_llm_block.block_name} - Extracts tickers via LLM\")\n",
    "print(f\"  3. {ticker_parser_block.block_name} - Parses LLM output\")\n",
    "\n",
    "# Step 2: Update the JSONStructureBlock to include stock tickers\n",
    "print(\"🔧 Updating JSON structure to include stock ticker field...\")\n",
    "\n",
    "# Create a new JSONStructureBlock configuration that includes our new stock_tickers field\n",
    "enhanced_json_block = JSONStructureBlock(\n",
    "    block_name=\"create_enhanced_structured_insights\",\n",
    "    input_cols=[\"summary\", \"keywords\", \"entities\", \"sentiment\", \"stock_tickers\"],\n",
    "    output_cols=[\"enhanced_structured_insights\"]\n",
    ")\n",
    "\n",
    "print(\"✅ Enhanced JSON structure will include:\")\n",
    "print(\"  📝 summary - Article summary\")\n",
    "print(\"  🔑 keywords - Important keywords\")\n",
    "print(\"  🏷️ entities - Named entities\")\n",
    "print(\"  😊 sentiment - Emotional tone\")\n",
    "print(\"  📈 stock_tickers - Stock ticker symbols (NEW!)\")"
   ]
  },
  {
   "cell_type": "code",
   "execution_count": 16,
   "metadata": {},
   "outputs": [
    {
     "data": {
      "text/html": [
       "<pre style=\"white-space:pre;overflow-x:auto;line-height:normal;font-family:Menlo,'DejaVu Sans Mono',consolas,'Courier New',monospace\">\n",
       "</pre>\n"
      ],
      "text/plain": [
       "\n"
      ]
     },
     "metadata": {},
     "output_type": "display_data"
    },
    {
     "data": {
      "text/html": [
       "<pre style=\"white-space:pre;overflow-x:auto;line-height:normal;font-family:Menlo,'DejaVu Sans Mono',consolas,'Courier New',monospace\"><span style=\"color: #0000ff; text-decoration-color: #0000ff\">╭─────────────────────────────────────────────── </span><span style=\"color: #ffffff; text-decoration-color: #ffffff; font-weight: bold\">Flow Information</span><span style=\"color: #0000ff; text-decoration-color: #0000ff\"> ────────────────────────────────────────────────╮</span>\n",
       "<span style=\"color: #0000ff; text-decoration-color: #0000ff\">│</span> <span style=\"color: #0000ff; text-decoration-color: #0000ff; font-weight: bold\">Structured Text Insights Extraction Flow</span> Flow                                                                   <span style=\"color: #0000ff; text-decoration-color: #0000ff\">│</span>\n",
       "<span style=\"color: #0000ff; text-decoration-color: #0000ff\">│</span> ├── <span style=\"color: #00ff00; text-decoration-color: #00ff00; font-weight: bold\">Metadata</span>                                                                                                    <span style=\"color: #0000ff; text-decoration-color: #0000ff\">│</span>\n",
       "<span style=\"color: #0000ff; text-decoration-color: #0000ff\">│</span> │   ├── Version: <span style=\"color: #00ffff; text-decoration-color: #00ffff\">1.0.0</span>                                                                                          <span style=\"color: #0000ff; text-decoration-color: #0000ff\">│</span>\n",
       "<span style=\"color: #0000ff; text-decoration-color: #0000ff\">│</span> │   ├── Author: <span style=\"color: #00ffff; text-decoration-color: #00ffff\">SDG Hub Contributors</span>                                                                            <span style=\"color: #0000ff; text-decoration-color: #0000ff\">│</span>\n",
       "<span style=\"color: #0000ff; text-decoration-color: #0000ff\">│</span> │   └── Description: <span style=\"color: #c0c0c0; text-decoration-color: #c0c0c0\">Multi-step pipeline for extracting structured insights from text including summary, </span>       <span style=\"color: #0000ff; text-decoration-color: #0000ff\">│</span>\n",
       "<span style=\"color: #0000ff; text-decoration-color: #0000ff\">│</span> │       <span style=\"color: #c0c0c0; text-decoration-color: #c0c0c0\">keywords, entities, and sentiment analysis combined into a JSON output</span>                                  <span style=\"color: #0000ff; text-decoration-color: #0000ff\">│</span>\n",
       "<span style=\"color: #0000ff; text-decoration-color: #0000ff\">│</span> └── <span style=\"color: #ff00ff; text-decoration-color: #ff00ff; font-weight: bold\">Blocks</span> (16 total)                                                                                           <span style=\"color: #0000ff; text-decoration-color: #0000ff\">│</span>\n",
       "<span style=\"color: #0000ff; text-decoration-color: #0000ff\">╰─────────────────────────────────────────────────────────────────────────────────────────────────────────────────╯</span>\n",
       "</pre>\n"
      ],
      "text/plain": [
       "\u001b[94m╭─\u001b[0m\u001b[94m──────────────────────────────────────────────\u001b[0m\u001b[94m \u001b[0m\u001b[1;97mFlow Information\u001b[0m\u001b[94m \u001b[0m\u001b[94m───────────────────────────────────────────────\u001b[0m\u001b[94m─╮\u001b[0m\n",
       "\u001b[94m│\u001b[0m \u001b[1;94mStructured Text Insights Extraction Flow\u001b[0m Flow                                                                   \u001b[94m│\u001b[0m\n",
       "\u001b[94m│\u001b[0m ├── \u001b[1;92mMetadata\u001b[0m                                                                                                    \u001b[94m│\u001b[0m\n",
       "\u001b[94m│\u001b[0m │   ├── Version: \u001b[96m1.0.0\u001b[0m                                                                                          \u001b[94m│\u001b[0m\n",
       "\u001b[94m│\u001b[0m │   ├── Author: \u001b[96mSDG Hub Contributors\u001b[0m                                                                            \u001b[94m│\u001b[0m\n",
       "\u001b[94m│\u001b[0m │   └── Description: \u001b[37mMulti-step pipeline for extracting structured insights from text including summary, \u001b[0m       \u001b[94m│\u001b[0m\n",
       "\u001b[94m│\u001b[0m │       \u001b[37mkeywords, entities, and sentiment analysis combined into a JSON output\u001b[0m                                  \u001b[94m│\u001b[0m\n",
       "\u001b[94m│\u001b[0m └── \u001b[1;95mBlocks\u001b[0m (16 total)                                                                                           \u001b[94m│\u001b[0m\n",
       "\u001b[94m╰─────────────────────────────────────────────────────────────────────────────────────────────────────────────────╯\u001b[0m\n"
      ]
     },
     "metadata": {},
     "output_type": "display_data"
    },
    {
     "data": {
      "text/html": [
       "<pre style=\"white-space:pre;overflow-x:auto;line-height:normal;font-family:Menlo,'DejaVu Sans Mono',consolas,'Courier New',monospace\">\n",
       "</pre>\n"
      ],
      "text/plain": [
       "\n"
      ]
     },
     "metadata": {},
     "output_type": "display_data"
    },
    {
     "data": {
      "text/html": [
       "<pre style=\"white-space:pre;overflow-x:auto;line-height:normal;font-family:Menlo,'DejaVu Sans Mono',consolas,'Courier New',monospace\"><span style=\"color: #ff00ff; text-decoration-color: #ff00ff\">╭───────────────────────────────────────────────── </span><span style=\"color: #ffffff; text-decoration-color: #ffffff; font-weight: bold\">Block Details</span><span style=\"color: #ff00ff; text-decoration-color: #ff00ff\"> ─────────────────────────────────────────────────╮</span>\n",
       "<span style=\"color: #ff00ff; text-decoration-color: #ff00ff\">│</span> ┏━━━━━━━━━━━━━━━━━━━━━━━━━━━━━┳━━━━━━━━━━━━━━━━━━━━┳━━━━━━━━━━━━━━━━━━━━━━━━━━━━┳━━━━━━━━━━━━━━━━━━━━━━━━━━━━━┓ <span style=\"color: #ff00ff; text-decoration-color: #ff00ff\">│</span>\n",
       "<span style=\"color: #ff00ff; text-decoration-color: #ff00ff\">│</span> ┃<span style=\"color: #ffffff; text-decoration-color: #ffffff; font-weight: bold\"> Block Name                  </span>┃<span style=\"color: #ffffff; text-decoration-color: #ffffff; font-weight: bold\"> Type               </span>┃<span style=\"color: #ffffff; text-decoration-color: #ffffff; font-weight: bold\"> Input Cols                 </span>┃<span style=\"color: #ffffff; text-decoration-color: #ffffff; font-weight: bold\"> Output Cols                 </span>┃ <span style=\"color: #ff00ff; text-decoration-color: #ff00ff\">│</span>\n",
       "<span style=\"color: #ff00ff; text-decoration-color: #ff00ff\">│</span> ┡━━━━━━━━━━━━━━━━━━━━━━━━━━━━━╇━━━━━━━━━━━━━━━━━━━━╇━━━━━━━━━━━━━━━━━━━━━━━━━━━━╇━━━━━━━━━━━━━━━━━━━━━━━━━━━━━┩ <span style=\"color: #ff00ff; text-decoration-color: #ff00ff\">│</span>\n",
       "<span style=\"color: #ff00ff; text-decoration-color: #ff00ff\">│</span> │<span style=\"color: #00ffff; text-decoration-color: #00ffff\"> build_summary_prompt        </span>│<span style=\"color: #00ff00; text-decoration-color: #00ff00\"> PromptBuilderBlock </span>│<span style=\"color: #ffff00; text-decoration-color: #ffff00\"> ['text']                   </span>│<span style=\"color: #ff0000; text-decoration-color: #ff0000\"> ['summary_prompt']          </span>│ <span style=\"color: #ff00ff; text-decoration-color: #ff00ff\">│</span>\n",
       "<span style=\"color: #ff00ff; text-decoration-color: #ff00ff\">│</span> │<span style=\"color: #00ffff; text-decoration-color: #00ffff\"> generate_summary            </span>│<span style=\"color: #00ff00; text-decoration-color: #00ff00\"> LLMChatBlock       </span>│<span style=\"color: #ffff00; text-decoration-color: #ffff00\"> ['summary_prompt']         </span>│<span style=\"color: #ff0000; text-decoration-color: #ff0000\"> ['raw_summary']             </span>│ <span style=\"color: #ff00ff; text-decoration-color: #ff00ff\">│</span>\n",
       "<span style=\"color: #ff00ff; text-decoration-color: #ff00ff\">│</span> │<span style=\"color: #00ffff; text-decoration-color: #00ffff\"> parse_summary               </span>│<span style=\"color: #00ff00; text-decoration-color: #00ff00\"> TextParserBlock    </span>│<span style=\"color: #ffff00; text-decoration-color: #ffff00\"> ['raw_summary']            </span>│<span style=\"color: #ff0000; text-decoration-color: #ff0000\"> ['summary']                 </span>│ <span style=\"color: #ff00ff; text-decoration-color: #ff00ff\">│</span>\n",
       "<span style=\"color: #ff00ff; text-decoration-color: #ff00ff\">│</span> │<span style=\"color: #00ffff; text-decoration-color: #00ffff\"> build_keywords_prompt       </span>│<span style=\"color: #00ff00; text-decoration-color: #00ff00\"> PromptBuilderBlock </span>│<span style=\"color: #ffff00; text-decoration-color: #ffff00\"> ['text']                   </span>│<span style=\"color: #ff0000; text-decoration-color: #ff0000\"> ['keywords_prompt']         </span>│ <span style=\"color: #ff00ff; text-decoration-color: #ff00ff\">│</span>\n",
       "<span style=\"color: #ff00ff; text-decoration-color: #ff00ff\">│</span> │<span style=\"color: #00ffff; text-decoration-color: #00ffff\"> generate_keywords           </span>│<span style=\"color: #00ff00; text-decoration-color: #00ff00\"> LLMChatBlock       </span>│<span style=\"color: #ffff00; text-decoration-color: #ffff00\"> ['keywords_prompt']        </span>│<span style=\"color: #ff0000; text-decoration-color: #ff0000\"> ['raw_keywords']            </span>│ <span style=\"color: #ff00ff; text-decoration-color: #ff00ff\">│</span>\n",
       "<span style=\"color: #ff00ff; text-decoration-color: #ff00ff\">│</span> │<span style=\"color: #00ffff; text-decoration-color: #00ffff\"> parse_keywords              </span>│<span style=\"color: #00ff00; text-decoration-color: #00ff00\"> TextParserBlock    </span>│<span style=\"color: #ffff00; text-decoration-color: #ffff00\"> ['raw_keywords']           </span>│<span style=\"color: #ff0000; text-decoration-color: #ff0000\"> ['keywords']                </span>│ <span style=\"color: #ff00ff; text-decoration-color: #ff00ff\">│</span>\n",
       "<span style=\"color: #ff00ff; text-decoration-color: #ff00ff\">│</span> │<span style=\"color: #00ffff; text-decoration-color: #00ffff\"> build_entities_prompt       </span>│<span style=\"color: #00ff00; text-decoration-color: #00ff00\"> PromptBuilderBlock </span>│<span style=\"color: #ffff00; text-decoration-color: #ffff00\"> ['text']                   </span>│<span style=\"color: #ff0000; text-decoration-color: #ff0000\"> ['entities_prompt']         </span>│ <span style=\"color: #ff00ff; text-decoration-color: #ff00ff\">│</span>\n",
       "<span style=\"color: #ff00ff; text-decoration-color: #ff00ff\">│</span> │<span style=\"color: #00ffff; text-decoration-color: #00ffff\"> generate_entities           </span>│<span style=\"color: #00ff00; text-decoration-color: #00ff00\"> LLMChatBlock       </span>│<span style=\"color: #ffff00; text-decoration-color: #ffff00\"> ['entities_prompt']        </span>│<span style=\"color: #ff0000; text-decoration-color: #ff0000\"> ['raw_entities']            </span>│ <span style=\"color: #ff00ff; text-decoration-color: #ff00ff\">│</span>\n",
       "<span style=\"color: #ff00ff; text-decoration-color: #ff00ff\">│</span> │<span style=\"color: #00ffff; text-decoration-color: #00ffff\"> parse_entities              </span>│<span style=\"color: #00ff00; text-decoration-color: #00ff00\"> TextParserBlock    </span>│<span style=\"color: #ffff00; text-decoration-color: #ffff00\"> ['raw_entities']           </span>│<span style=\"color: #ff0000; text-decoration-color: #ff0000\"> ['entities']                </span>│ <span style=\"color: #ff00ff; text-decoration-color: #ff00ff\">│</span>\n",
       "<span style=\"color: #ff00ff; text-decoration-color: #ff00ff\">│</span> │<span style=\"color: #00ffff; text-decoration-color: #00ffff\"> build_sentiment_prompt      </span>│<span style=\"color: #00ff00; text-decoration-color: #00ff00\"> PromptBuilderBlock </span>│<span style=\"color: #ffff00; text-decoration-color: #ffff00\"> ['text']                   </span>│<span style=\"color: #ff0000; text-decoration-color: #ff0000\"> ['sentiment_prompt']        </span>│ <span style=\"color: #ff00ff; text-decoration-color: #ff00ff\">│</span>\n",
       "<span style=\"color: #ff00ff; text-decoration-color: #ff00ff\">│</span> │<span style=\"color: #00ffff; text-decoration-color: #00ffff\"> generate_sentiment          </span>│<span style=\"color: #00ff00; text-decoration-color: #00ff00\"> LLMChatBlock       </span>│<span style=\"color: #ffff00; text-decoration-color: #ffff00\"> ['sentiment_prompt']       </span>│<span style=\"color: #ff0000; text-decoration-color: #ff0000\"> ['raw_sentiment']           </span>│ <span style=\"color: #ff00ff; text-decoration-color: #ff00ff\">│</span>\n",
       "<span style=\"color: #ff00ff; text-decoration-color: #ff00ff\">│</span> │<span style=\"color: #00ffff; text-decoration-color: #00ffff\"> parse_sentiment             </span>│<span style=\"color: #00ff00; text-decoration-color: #00ff00\"> TextParserBlock    </span>│<span style=\"color: #ffff00; text-decoration-color: #ffff00\"> ['raw_sentiment']          </span>│<span style=\"color: #ff0000; text-decoration-color: #ff0000\"> ['sentiment']               </span>│ <span style=\"color: #ff00ff; text-decoration-color: #ff00ff\">│</span>\n",
       "<span style=\"color: #ff00ff; text-decoration-color: #ff00ff\">│</span> │<span style=\"color: #00ffff; text-decoration-color: #00ffff\"> stock_ticker_prompt         </span>│<span style=\"color: #00ff00; text-decoration-color: #00ff00\"> PromptBuilderBlock </span>│<span style=\"color: #ffff00; text-decoration-color: #ffff00\"> ['text']                   </span>│<span style=\"color: #ff0000; text-decoration-color: #ff0000\"> ['ticker_prompt']           </span>│ <span style=\"color: #ff00ff; text-decoration-color: #ff00ff\">│</span>\n",
       "<span style=\"color: #ff00ff; text-decoration-color: #ff00ff\">│</span> │<span style=\"color: #00ffff; text-decoration-color: #00ffff\"> extract_stock_tickers       </span>│<span style=\"color: #00ff00; text-decoration-color: #00ff00\"> LLMChatBlock       </span>│<span style=\"color: #ffff00; text-decoration-color: #ffff00\"> ['ticker_prompt']          </span>│<span style=\"color: #ff0000; text-decoration-color: #ff0000\"> ['raw_stock_tickers']       </span>│ <span style=\"color: #ff00ff; text-decoration-color: #ff00ff\">│</span>\n",
       "<span style=\"color: #ff00ff; text-decoration-color: #ff00ff\">│</span> │<span style=\"color: #00ffff; text-decoration-color: #00ffff\"> parse_stock_tickers         </span>│<span style=\"color: #00ff00; text-decoration-color: #00ff00\"> TextParserBlock    </span>│<span style=\"color: #ffff00; text-decoration-color: #ffff00\"> ['raw_stock_tickers']      </span>│<span style=\"color: #ff0000; text-decoration-color: #ff0000\"> ['stock_tickers']           </span>│ <span style=\"color: #ff00ff; text-decoration-color: #ff00ff\">│</span>\n",
       "<span style=\"color: #ff00ff; text-decoration-color: #ff00ff\">│</span> │<span style=\"color: #00ffff; text-decoration-color: #00ffff\"> create_enhanced_structured… </span>│<span style=\"color: #00ff00; text-decoration-color: #00ff00\"> JSONStructureBlock </span>│<span style=\"color: #ffff00; text-decoration-color: #ffff00\"> ['summary', 'keywords',    </span>│<span style=\"color: #ff0000; text-decoration-color: #ff0000\"> ['enhanced_structured_insi… </span>│ <span style=\"color: #ff00ff; text-decoration-color: #ff00ff\">│</span>\n",
       "<span style=\"color: #ff00ff; text-decoration-color: #ff00ff\">│</span> │<span style=\"color: #00ffff; text-decoration-color: #00ffff\">                             </span>│<span style=\"color: #00ff00; text-decoration-color: #00ff00\">                    </span>│<span style=\"color: #ffff00; text-decoration-color: #ffff00\"> 'entities', 'sentiment',   </span>│<span style=\"color: #ff0000; text-decoration-color: #ff0000\">                             </span>│ <span style=\"color: #ff00ff; text-decoration-color: #ff00ff\">│</span>\n",
       "<span style=\"color: #ff00ff; text-decoration-color: #ff00ff\">│</span> │<span style=\"color: #00ffff; text-decoration-color: #00ffff\">                             </span>│<span style=\"color: #00ff00; text-decoration-color: #00ff00\">                    </span>│<span style=\"color: #ffff00; text-decoration-color: #ffff00\"> 'stock_tickers']           </span>│<span style=\"color: #ff0000; text-decoration-color: #ff0000\">                             </span>│ <span style=\"color: #ff00ff; text-decoration-color: #ff00ff\">│</span>\n",
       "<span style=\"color: #ff00ff; text-decoration-color: #ff00ff\">│</span> └─────────────────────────────┴────────────────────┴────────────────────────────┴─────────────────────────────┘ <span style=\"color: #ff00ff; text-decoration-color: #ff00ff\">│</span>\n",
       "<span style=\"color: #ff00ff; text-decoration-color: #ff00ff\">╰─────────────────────────────────────────────────────────────────────────────────────────────────────────────────╯</span>\n",
       "</pre>\n"
      ],
      "text/plain": [
       "\u001b[95m╭─\u001b[0m\u001b[95m────────────────────────────────────────────────\u001b[0m\u001b[95m \u001b[0m\u001b[1;97mBlock Details\u001b[0m\u001b[95m \u001b[0m\u001b[95m────────────────────────────────────────────────\u001b[0m\u001b[95m─╮\u001b[0m\n",
       "\u001b[95m│\u001b[0m ┏━━━━━━━━━━━━━━━━━━━━━━━━━━━━━┳━━━━━━━━━━━━━━━━━━━━┳━━━━━━━━━━━━━━━━━━━━━━━━━━━━┳━━━━━━━━━━━━━━━━━━━━━━━━━━━━━┓ \u001b[95m│\u001b[0m\n",
       "\u001b[95m│\u001b[0m ┃\u001b[1;97m \u001b[0m\u001b[1;97mBlock Name                 \u001b[0m\u001b[1;97m \u001b[0m┃\u001b[1;97m \u001b[0m\u001b[1;97mType              \u001b[0m\u001b[1;97m \u001b[0m┃\u001b[1;97m \u001b[0m\u001b[1;97mInput Cols                \u001b[0m\u001b[1;97m \u001b[0m┃\u001b[1;97m \u001b[0m\u001b[1;97mOutput Cols                \u001b[0m\u001b[1;97m \u001b[0m┃ \u001b[95m│\u001b[0m\n",
       "\u001b[95m│\u001b[0m ┡━━━━━━━━━━━━━━━━━━━━━━━━━━━━━╇━━━━━━━━━━━━━━━━━━━━╇━━━━━━━━━━━━━━━━━━━━━━━━━━━━╇━━━━━━━━━━━━━━━━━━━━━━━━━━━━━┩ \u001b[95m│\u001b[0m\n",
       "\u001b[95m│\u001b[0m │\u001b[96m \u001b[0m\u001b[96mbuild_summary_prompt       \u001b[0m\u001b[96m \u001b[0m│\u001b[92m \u001b[0m\u001b[92mPromptBuilderBlock\u001b[0m\u001b[92m \u001b[0m│\u001b[93m \u001b[0m\u001b[93m['text']                  \u001b[0m\u001b[93m \u001b[0m│\u001b[91m \u001b[0m\u001b[91m['summary_prompt']         \u001b[0m\u001b[91m \u001b[0m│ \u001b[95m│\u001b[0m\n",
       "\u001b[95m│\u001b[0m │\u001b[96m \u001b[0m\u001b[96mgenerate_summary           \u001b[0m\u001b[96m \u001b[0m│\u001b[92m \u001b[0m\u001b[92mLLMChatBlock      \u001b[0m\u001b[92m \u001b[0m│\u001b[93m \u001b[0m\u001b[93m['summary_prompt']        \u001b[0m\u001b[93m \u001b[0m│\u001b[91m \u001b[0m\u001b[91m['raw_summary']            \u001b[0m\u001b[91m \u001b[0m│ \u001b[95m│\u001b[0m\n",
       "\u001b[95m│\u001b[0m │\u001b[96m \u001b[0m\u001b[96mparse_summary              \u001b[0m\u001b[96m \u001b[0m│\u001b[92m \u001b[0m\u001b[92mTextParserBlock   \u001b[0m\u001b[92m \u001b[0m│\u001b[93m \u001b[0m\u001b[93m['raw_summary']           \u001b[0m\u001b[93m \u001b[0m│\u001b[91m \u001b[0m\u001b[91m['summary']                \u001b[0m\u001b[91m \u001b[0m│ \u001b[95m│\u001b[0m\n",
       "\u001b[95m│\u001b[0m │\u001b[96m \u001b[0m\u001b[96mbuild_keywords_prompt      \u001b[0m\u001b[96m \u001b[0m│\u001b[92m \u001b[0m\u001b[92mPromptBuilderBlock\u001b[0m\u001b[92m \u001b[0m│\u001b[93m \u001b[0m\u001b[93m['text']                  \u001b[0m\u001b[93m \u001b[0m│\u001b[91m \u001b[0m\u001b[91m['keywords_prompt']        \u001b[0m\u001b[91m \u001b[0m│ \u001b[95m│\u001b[0m\n",
       "\u001b[95m│\u001b[0m │\u001b[96m \u001b[0m\u001b[96mgenerate_keywords          \u001b[0m\u001b[96m \u001b[0m│\u001b[92m \u001b[0m\u001b[92mLLMChatBlock      \u001b[0m\u001b[92m \u001b[0m│\u001b[93m \u001b[0m\u001b[93m['keywords_prompt']       \u001b[0m\u001b[93m \u001b[0m│\u001b[91m \u001b[0m\u001b[91m['raw_keywords']           \u001b[0m\u001b[91m \u001b[0m│ \u001b[95m│\u001b[0m\n",
       "\u001b[95m│\u001b[0m │\u001b[96m \u001b[0m\u001b[96mparse_keywords             \u001b[0m\u001b[96m \u001b[0m│\u001b[92m \u001b[0m\u001b[92mTextParserBlock   \u001b[0m\u001b[92m \u001b[0m│\u001b[93m \u001b[0m\u001b[93m['raw_keywords']          \u001b[0m\u001b[93m \u001b[0m│\u001b[91m \u001b[0m\u001b[91m['keywords']               \u001b[0m\u001b[91m \u001b[0m│ \u001b[95m│\u001b[0m\n",
       "\u001b[95m│\u001b[0m │\u001b[96m \u001b[0m\u001b[96mbuild_entities_prompt      \u001b[0m\u001b[96m \u001b[0m│\u001b[92m \u001b[0m\u001b[92mPromptBuilderBlock\u001b[0m\u001b[92m \u001b[0m│\u001b[93m \u001b[0m\u001b[93m['text']                  \u001b[0m\u001b[93m \u001b[0m│\u001b[91m \u001b[0m\u001b[91m['entities_prompt']        \u001b[0m\u001b[91m \u001b[0m│ \u001b[95m│\u001b[0m\n",
       "\u001b[95m│\u001b[0m │\u001b[96m \u001b[0m\u001b[96mgenerate_entities          \u001b[0m\u001b[96m \u001b[0m│\u001b[92m \u001b[0m\u001b[92mLLMChatBlock      \u001b[0m\u001b[92m \u001b[0m│\u001b[93m \u001b[0m\u001b[93m['entities_prompt']       \u001b[0m\u001b[93m \u001b[0m│\u001b[91m \u001b[0m\u001b[91m['raw_entities']           \u001b[0m\u001b[91m \u001b[0m│ \u001b[95m│\u001b[0m\n",
       "\u001b[95m│\u001b[0m │\u001b[96m \u001b[0m\u001b[96mparse_entities             \u001b[0m\u001b[96m \u001b[0m│\u001b[92m \u001b[0m\u001b[92mTextParserBlock   \u001b[0m\u001b[92m \u001b[0m│\u001b[93m \u001b[0m\u001b[93m['raw_entities']          \u001b[0m\u001b[93m \u001b[0m│\u001b[91m \u001b[0m\u001b[91m['entities']               \u001b[0m\u001b[91m \u001b[0m│ \u001b[95m│\u001b[0m\n",
       "\u001b[95m│\u001b[0m │\u001b[96m \u001b[0m\u001b[96mbuild_sentiment_prompt     \u001b[0m\u001b[96m \u001b[0m│\u001b[92m \u001b[0m\u001b[92mPromptBuilderBlock\u001b[0m\u001b[92m \u001b[0m│\u001b[93m \u001b[0m\u001b[93m['text']                  \u001b[0m\u001b[93m \u001b[0m│\u001b[91m \u001b[0m\u001b[91m['sentiment_prompt']       \u001b[0m\u001b[91m \u001b[0m│ \u001b[95m│\u001b[0m\n",
       "\u001b[95m│\u001b[0m │\u001b[96m \u001b[0m\u001b[96mgenerate_sentiment         \u001b[0m\u001b[96m \u001b[0m│\u001b[92m \u001b[0m\u001b[92mLLMChatBlock      \u001b[0m\u001b[92m \u001b[0m│\u001b[93m \u001b[0m\u001b[93m['sentiment_prompt']      \u001b[0m\u001b[93m \u001b[0m│\u001b[91m \u001b[0m\u001b[91m['raw_sentiment']          \u001b[0m\u001b[91m \u001b[0m│ \u001b[95m│\u001b[0m\n",
       "\u001b[95m│\u001b[0m │\u001b[96m \u001b[0m\u001b[96mparse_sentiment            \u001b[0m\u001b[96m \u001b[0m│\u001b[92m \u001b[0m\u001b[92mTextParserBlock   \u001b[0m\u001b[92m \u001b[0m│\u001b[93m \u001b[0m\u001b[93m['raw_sentiment']         \u001b[0m\u001b[93m \u001b[0m│\u001b[91m \u001b[0m\u001b[91m['sentiment']              \u001b[0m\u001b[91m \u001b[0m│ \u001b[95m│\u001b[0m\n",
       "\u001b[95m│\u001b[0m │\u001b[96m \u001b[0m\u001b[96mstock_ticker_prompt        \u001b[0m\u001b[96m \u001b[0m│\u001b[92m \u001b[0m\u001b[92mPromptBuilderBlock\u001b[0m\u001b[92m \u001b[0m│\u001b[93m \u001b[0m\u001b[93m['text']                  \u001b[0m\u001b[93m \u001b[0m│\u001b[91m \u001b[0m\u001b[91m['ticker_prompt']          \u001b[0m\u001b[91m \u001b[0m│ \u001b[95m│\u001b[0m\n",
       "\u001b[95m│\u001b[0m │\u001b[96m \u001b[0m\u001b[96mextract_stock_tickers      \u001b[0m\u001b[96m \u001b[0m│\u001b[92m \u001b[0m\u001b[92mLLMChatBlock      \u001b[0m\u001b[92m \u001b[0m│\u001b[93m \u001b[0m\u001b[93m['ticker_prompt']         \u001b[0m\u001b[93m \u001b[0m│\u001b[91m \u001b[0m\u001b[91m['raw_stock_tickers']      \u001b[0m\u001b[91m \u001b[0m│ \u001b[95m│\u001b[0m\n",
       "\u001b[95m│\u001b[0m │\u001b[96m \u001b[0m\u001b[96mparse_stock_tickers        \u001b[0m\u001b[96m \u001b[0m│\u001b[92m \u001b[0m\u001b[92mTextParserBlock   \u001b[0m\u001b[92m \u001b[0m│\u001b[93m \u001b[0m\u001b[93m['raw_stock_tickers']     \u001b[0m\u001b[93m \u001b[0m│\u001b[91m \u001b[0m\u001b[91m['stock_tickers']          \u001b[0m\u001b[91m \u001b[0m│ \u001b[95m│\u001b[0m\n",
       "\u001b[95m│\u001b[0m │\u001b[96m \u001b[0m\u001b[96mcreate_enhanced_structured…\u001b[0m\u001b[96m \u001b[0m│\u001b[92m \u001b[0m\u001b[92mJSONStructureBlock\u001b[0m\u001b[92m \u001b[0m│\u001b[93m \u001b[0m\u001b[93m['summary', 'keywords',   \u001b[0m\u001b[93m \u001b[0m│\u001b[91m \u001b[0m\u001b[91m['enhanced_structured_insi…\u001b[0m\u001b[91m \u001b[0m│ \u001b[95m│\u001b[0m\n",
       "\u001b[95m│\u001b[0m │\u001b[96m                             \u001b[0m│\u001b[92m                    \u001b[0m│\u001b[93m \u001b[0m\u001b[93m'entities', 'sentiment',  \u001b[0m\u001b[93m \u001b[0m│\u001b[91m                             \u001b[0m│ \u001b[95m│\u001b[0m\n",
       "\u001b[95m│\u001b[0m │\u001b[96m                             \u001b[0m│\u001b[92m                    \u001b[0m│\u001b[93m \u001b[0m\u001b[93m'stock_tickers']          \u001b[0m\u001b[93m \u001b[0m│\u001b[91m                             \u001b[0m│ \u001b[95m│\u001b[0m\n",
       "\u001b[95m│\u001b[0m └─────────────────────────────┴────────────────────┴────────────────────────────┴─────────────────────────────┘ \u001b[95m│\u001b[0m\n",
       "\u001b[95m╰─────────────────────────────────────────────────────────────────────────────────────────────────────────────────╯\u001b[0m\n"
      ]
     },
     "metadata": {},
     "output_type": "display_data"
    },
    {
     "data": {
      "text/html": [
       "<pre style=\"white-space:pre;overflow-x:auto;line-height:normal;font-family:Menlo,'DejaVu Sans Mono',consolas,'Courier New',monospace\">\n",
       "</pre>\n"
      ],
      "text/plain": [
       "\n"
      ]
     },
     "metadata": {},
     "output_type": "display_data"
    }
   ],
   "source": [
    "\n",
    "# Remove the original JSONStructureBlock (if it exists in your flow/blocks list)\n",
    "# (Assume we are not using a flow object here, just not using the old block.)\n",
    "\n",
    "# Add the new blocks to a list for the enhanced pipeline\n",
    "ticker_blocks = [\n",
    "    ticker_prompt_block,\n",
    "    ticker_llm_block,\n",
    "    ticker_parser_block,\n",
    "    enhanced_json_block\n",
    "]\n",
    "\n",
    "flow.blocks.pop()\n",
    "flow.blocks.extend(ticker_blocks)\n",
    "flow.print_info()\n"
   ]
  },
  {
   "cell_type": "code",
   "execution_count": 17,
   "metadata": {},
   "outputs": [
    {
     "data": {
      "text/html": [
       "<pre style=\"white-space:pre;overflow-x:auto;line-height:normal;font-family:Menlo,'DejaVu Sans Mono',consolas,'Courier New',monospace\"><span style=\"color: #7fbfbf; text-decoration-color: #7fbfbf\">           </span><span style=\"color: #000080; text-decoration-color: #000080\">INFO    </span> Auto-detected <span style=\"color: #008080; text-decoration-color: #008080; font-weight: bold\">5</span> LLM blocks for configuration: <span style=\"font-weight: bold\">[</span><span style=\"color: #008000; text-decoration-color: #008000\">'extract_stock_tickers'</span>,             <a href=\"file:///Users/shiv/workspace/sdg_hub/src/sdg_hub/core/flow/base.py\" target=\"_blank\"><span style=\"color: #7f7f7f; text-decoration-color: #7f7f7f\">base.py</span></a><span style=\"color: #7f7f7f; text-decoration-color: #7f7f7f\">:</span><a href=\"file:///Users/shiv/workspace/sdg_hub/src/sdg_hub/core/flow/base.py#864\" target=\"_blank\"><span style=\"color: #7f7f7f; text-decoration-color: #7f7f7f\">864</span></a>\n",
       "<span style=\"color: #7fbfbf; text-decoration-color: #7fbfbf\">           </span>         <span style=\"color: #008000; text-decoration-color: #008000\">'generate_entities'</span>, <span style=\"color: #008000; text-decoration-color: #008000\">'generate_keywords'</span>, <span style=\"color: #008000; text-decoration-color: #008000\">'generate_sentiment'</span>, <span style=\"color: #008000; text-decoration-color: #008000\">'generate_summary'</span><span style=\"font-weight: bold\">]</span> <span style=\"color: #7f7f7f; text-decoration-color: #7f7f7f\">           </span>\n",
       "</pre>\n"
      ],
      "text/plain": [
       "\u001b[2;36m          \u001b[0m\u001b[2;36m \u001b[0m\u001b[34mINFO    \u001b[0m Auto-detected \u001b[1;36m5\u001b[0m LLM blocks for configuration: \u001b[1m[\u001b[0m\u001b[32m'extract_stock_tickers'\u001b[0m,             \u001b]8;id=30480;file:///Users/shiv/workspace/sdg_hub/src/sdg_hub/core/flow/base.py\u001b\\\u001b[2mbase.py\u001b[0m\u001b]8;;\u001b\\\u001b[2m:\u001b[0m\u001b]8;id=527682;file:///Users/shiv/workspace/sdg_hub/src/sdg_hub/core/flow/base.py#864\u001b\\\u001b[2m864\u001b[0m\u001b]8;;\u001b\\\n",
       "\u001b[2;36m           \u001b[0m         \u001b[32m'generate_entities'\u001b[0m, \u001b[32m'generate_keywords'\u001b[0m, \u001b[32m'generate_sentiment'\u001b[0m, \u001b[32m'generate_summary'\u001b[0m\u001b[1m]\u001b[0m \u001b[2m           \u001b[0m\n"
      ]
     },
     "metadata": {},
     "output_type": "display_data"
    },
    {
     "data": {
      "text/html": [
       "<pre style=\"white-space:pre;overflow-x:auto;line-height:normal;font-family:Menlo,'DejaVu Sans Mono',consolas,'Courier New',monospace\"><span style=\"color: #7fbfbf; text-decoration-color: #7fbfbf\">[15:18:44] </span><span style=\"color: #000080; text-decoration-color: #000080\">INFO    </span> Loaded LLM client for model <span style=\"color: #008000; text-decoration-color: #008000\">'hosted_vllm/openai/gpt-oss-120b'</span>              <a href=\"file:///Users/shiv/workspace/sdg_hub/src/sdg_hub/core/blocks/llm/client_manager.py\" target=\"_blank\"><span style=\"color: #7f7f7f; text-decoration-color: #7f7f7f\">client_manager.py</span></a><span style=\"color: #7f7f7f; text-decoration-color: #7f7f7f\">:</span><a href=\"file:///Users/shiv/workspace/sdg_hub/src/sdg_hub/core/blocks/llm/client_manager.py#61\" target=\"_blank\"><span style=\"color: #7f7f7f; text-decoration-color: #7f7f7f\">61</span></a>\n",
       "</pre>\n"
      ],
      "text/plain": [
       "\u001b[2;36m[15:18:44]\u001b[0m\u001b[2;36m \u001b[0m\u001b[34mINFO    \u001b[0m Loaded LLM client for model \u001b[32m'hosted_vllm/openai/gpt-oss-120b'\u001b[0m              \u001b]8;id=563206;file:///Users/shiv/workspace/sdg_hub/src/sdg_hub/core/blocks/llm/client_manager.py\u001b\\\u001b[2mclient_manager.py\u001b[0m\u001b]8;;\u001b\\\u001b[2m:\u001b[0m\u001b]8;id=815211;file:///Users/shiv/workspace/sdg_hub/src/sdg_hub/core/blocks/llm/client_manager.py#61\u001b\\\u001b[2m61\u001b[0m\u001b]8;;\u001b\\\n"
      ]
     },
     "metadata": {},
     "output_type": "display_data"
    },
    {
     "data": {
      "text/html": [
       "<pre style=\"white-space:pre;overflow-x:auto;line-height:normal;font-family:Menlo,'DejaVu Sans Mono',consolas,'Courier New',monospace\"><span style=\"color: #7fbfbf; text-decoration-color: #7fbfbf\">           </span><span style=\"color: #000080; text-decoration-color: #000080\">INFO    </span> Initialized LLMChatBlock <span style=\"color: #008000; text-decoration-color: #008000\">'generate_summary'</span> with model                    <a href=\"file:///Users/shiv/workspace/sdg_hub/src/sdg_hub/core/blocks/llm/llm_chat_block.py\" target=\"_blank\"><span style=\"color: #7f7f7f; text-decoration-color: #7f7f7f\">llm_chat_block.py</span></a><span style=\"color: #7f7f7f; text-decoration-color: #7f7f7f\">:</span><a href=\"file:///Users/shiv/workspace/sdg_hub/src/sdg_hub/core/blocks/llm/llm_chat_block.py#265\" target=\"_blank\"><span style=\"color: #7f7f7f; text-decoration-color: #7f7f7f\">265</span></a>\n",
       "<span style=\"color: #7fbfbf; text-decoration-color: #7fbfbf\">           </span>         <span style=\"color: #008000; text-decoration-color: #008000\">'hosted_vllm/openai/gpt-oss-120b'</span>                                         <span style=\"color: #7f7f7f; text-decoration-color: #7f7f7f\">                     </span>\n",
       "</pre>\n"
      ],
      "text/plain": [
       "\u001b[2;36m          \u001b[0m\u001b[2;36m \u001b[0m\u001b[34mINFO    \u001b[0m Initialized LLMChatBlock \u001b[32m'generate_summary'\u001b[0m with model                    \u001b]8;id=554149;file:///Users/shiv/workspace/sdg_hub/src/sdg_hub/core/blocks/llm/llm_chat_block.py\u001b\\\u001b[2mllm_chat_block.py\u001b[0m\u001b]8;;\u001b\\\u001b[2m:\u001b[0m\u001b]8;id=276166;file:///Users/shiv/workspace/sdg_hub/src/sdg_hub/core/blocks/llm/llm_chat_block.py#265\u001b\\\u001b[2m265\u001b[0m\u001b]8;;\u001b\\\n",
       "\u001b[2;36m           \u001b[0m         \u001b[32m'hosted_vllm/openai/gpt-oss-120b'\u001b[0m                                         \u001b[2m                     \u001b[0m\n"
      ]
     },
     "metadata": {},
     "output_type": "display_data"
    },
    {
     "data": {
      "text/html": [
       "<pre style=\"white-space:pre;overflow-x:auto;line-height:normal;font-family:Menlo,'DejaVu Sans Mono',consolas,'Courier New',monospace\"><span style=\"color: #7fbfbf; text-decoration-color: #7fbfbf\">           </span><span style=\"color: #000080; text-decoration-color: #000080\">INFO    </span> Loaded LLM client for model <span style=\"color: #008000; text-decoration-color: #008000\">'hosted_vllm/openai/gpt-oss-120b'</span>              <a href=\"file:///Users/shiv/workspace/sdg_hub/src/sdg_hub/core/blocks/llm/client_manager.py\" target=\"_blank\"><span style=\"color: #7f7f7f; text-decoration-color: #7f7f7f\">client_manager.py</span></a><span style=\"color: #7f7f7f; text-decoration-color: #7f7f7f\">:</span><a href=\"file:///Users/shiv/workspace/sdg_hub/src/sdg_hub/core/blocks/llm/client_manager.py#61\" target=\"_blank\"><span style=\"color: #7f7f7f; text-decoration-color: #7f7f7f\">61</span></a>\n",
       "</pre>\n"
      ],
      "text/plain": [
       "\u001b[2;36m          \u001b[0m\u001b[2;36m \u001b[0m\u001b[34mINFO    \u001b[0m Loaded LLM client for model \u001b[32m'hosted_vllm/openai/gpt-oss-120b'\u001b[0m              \u001b]8;id=301702;file:///Users/shiv/workspace/sdg_hub/src/sdg_hub/core/blocks/llm/client_manager.py\u001b\\\u001b[2mclient_manager.py\u001b[0m\u001b]8;;\u001b\\\u001b[2m:\u001b[0m\u001b]8;id=923055;file:///Users/shiv/workspace/sdg_hub/src/sdg_hub/core/blocks/llm/client_manager.py#61\u001b\\\u001b[2m61\u001b[0m\u001b]8;;\u001b\\\n"
      ]
     },
     "metadata": {},
     "output_type": "display_data"
    },
    {
     "data": {
      "text/html": [
       "<pre style=\"white-space:pre;overflow-x:auto;line-height:normal;font-family:Menlo,'DejaVu Sans Mono',consolas,'Courier New',monospace\"><span style=\"color: #7fbfbf; text-decoration-color: #7fbfbf\">           </span><span style=\"color: #000080; text-decoration-color: #000080\">INFO    </span> Initialized LLMChatBlock <span style=\"color: #008000; text-decoration-color: #008000\">'generate_keywords'</span> with model                   <a href=\"file:///Users/shiv/workspace/sdg_hub/src/sdg_hub/core/blocks/llm/llm_chat_block.py\" target=\"_blank\"><span style=\"color: #7f7f7f; text-decoration-color: #7f7f7f\">llm_chat_block.py</span></a><span style=\"color: #7f7f7f; text-decoration-color: #7f7f7f\">:</span><a href=\"file:///Users/shiv/workspace/sdg_hub/src/sdg_hub/core/blocks/llm/llm_chat_block.py#265\" target=\"_blank\"><span style=\"color: #7f7f7f; text-decoration-color: #7f7f7f\">265</span></a>\n",
       "<span style=\"color: #7fbfbf; text-decoration-color: #7fbfbf\">           </span>         <span style=\"color: #008000; text-decoration-color: #008000\">'hosted_vllm/openai/gpt-oss-120b'</span>                                         <span style=\"color: #7f7f7f; text-decoration-color: #7f7f7f\">                     </span>\n",
       "</pre>\n"
      ],
      "text/plain": [
       "\u001b[2;36m          \u001b[0m\u001b[2;36m \u001b[0m\u001b[34mINFO    \u001b[0m Initialized LLMChatBlock \u001b[32m'generate_keywords'\u001b[0m with model                   \u001b]8;id=522047;file:///Users/shiv/workspace/sdg_hub/src/sdg_hub/core/blocks/llm/llm_chat_block.py\u001b\\\u001b[2mllm_chat_block.py\u001b[0m\u001b]8;;\u001b\\\u001b[2m:\u001b[0m\u001b]8;id=427985;file:///Users/shiv/workspace/sdg_hub/src/sdg_hub/core/blocks/llm/llm_chat_block.py#265\u001b\\\u001b[2m265\u001b[0m\u001b]8;;\u001b\\\n",
       "\u001b[2;36m           \u001b[0m         \u001b[32m'hosted_vllm/openai/gpt-oss-120b'\u001b[0m                                         \u001b[2m                     \u001b[0m\n"
      ]
     },
     "metadata": {},
     "output_type": "display_data"
    },
    {
     "data": {
      "text/html": [
       "<pre style=\"white-space:pre;overflow-x:auto;line-height:normal;font-family:Menlo,'DejaVu Sans Mono',consolas,'Courier New',monospace\"><span style=\"color: #7fbfbf; text-decoration-color: #7fbfbf\">           </span><span style=\"color: #000080; text-decoration-color: #000080\">INFO    </span> Loaded LLM client for model <span style=\"color: #008000; text-decoration-color: #008000\">'hosted_vllm/openai/gpt-oss-120b'</span>              <a href=\"file:///Users/shiv/workspace/sdg_hub/src/sdg_hub/core/blocks/llm/client_manager.py\" target=\"_blank\"><span style=\"color: #7f7f7f; text-decoration-color: #7f7f7f\">client_manager.py</span></a><span style=\"color: #7f7f7f; text-decoration-color: #7f7f7f\">:</span><a href=\"file:///Users/shiv/workspace/sdg_hub/src/sdg_hub/core/blocks/llm/client_manager.py#61\" target=\"_blank\"><span style=\"color: #7f7f7f; text-decoration-color: #7f7f7f\">61</span></a>\n",
       "</pre>\n"
      ],
      "text/plain": [
       "\u001b[2;36m          \u001b[0m\u001b[2;36m \u001b[0m\u001b[34mINFO    \u001b[0m Loaded LLM client for model \u001b[32m'hosted_vllm/openai/gpt-oss-120b'\u001b[0m              \u001b]8;id=960470;file:///Users/shiv/workspace/sdg_hub/src/sdg_hub/core/blocks/llm/client_manager.py\u001b\\\u001b[2mclient_manager.py\u001b[0m\u001b]8;;\u001b\\\u001b[2m:\u001b[0m\u001b]8;id=241891;file:///Users/shiv/workspace/sdg_hub/src/sdg_hub/core/blocks/llm/client_manager.py#61\u001b\\\u001b[2m61\u001b[0m\u001b]8;;\u001b\\\n"
      ]
     },
     "metadata": {},
     "output_type": "display_data"
    },
    {
     "data": {
      "text/html": [
       "<pre style=\"white-space:pre;overflow-x:auto;line-height:normal;font-family:Menlo,'DejaVu Sans Mono',consolas,'Courier New',monospace\"><span style=\"color: #7fbfbf; text-decoration-color: #7fbfbf\">           </span><span style=\"color: #000080; text-decoration-color: #000080\">INFO    </span> Initialized LLMChatBlock <span style=\"color: #008000; text-decoration-color: #008000\">'generate_entities'</span> with model                   <a href=\"file:///Users/shiv/workspace/sdg_hub/src/sdg_hub/core/blocks/llm/llm_chat_block.py\" target=\"_blank\"><span style=\"color: #7f7f7f; text-decoration-color: #7f7f7f\">llm_chat_block.py</span></a><span style=\"color: #7f7f7f; text-decoration-color: #7f7f7f\">:</span><a href=\"file:///Users/shiv/workspace/sdg_hub/src/sdg_hub/core/blocks/llm/llm_chat_block.py#265\" target=\"_blank\"><span style=\"color: #7f7f7f; text-decoration-color: #7f7f7f\">265</span></a>\n",
       "<span style=\"color: #7fbfbf; text-decoration-color: #7fbfbf\">           </span>         <span style=\"color: #008000; text-decoration-color: #008000\">'hosted_vllm/openai/gpt-oss-120b'</span>                                         <span style=\"color: #7f7f7f; text-decoration-color: #7f7f7f\">                     </span>\n",
       "</pre>\n"
      ],
      "text/plain": [
       "\u001b[2;36m          \u001b[0m\u001b[2;36m \u001b[0m\u001b[34mINFO    \u001b[0m Initialized LLMChatBlock \u001b[32m'generate_entities'\u001b[0m with model                   \u001b]8;id=466862;file:///Users/shiv/workspace/sdg_hub/src/sdg_hub/core/blocks/llm/llm_chat_block.py\u001b\\\u001b[2mllm_chat_block.py\u001b[0m\u001b]8;;\u001b\\\u001b[2m:\u001b[0m\u001b]8;id=611877;file:///Users/shiv/workspace/sdg_hub/src/sdg_hub/core/blocks/llm/llm_chat_block.py#265\u001b\\\u001b[2m265\u001b[0m\u001b]8;;\u001b\\\n",
       "\u001b[2;36m           \u001b[0m         \u001b[32m'hosted_vllm/openai/gpt-oss-120b'\u001b[0m                                         \u001b[2m                     \u001b[0m\n"
      ]
     },
     "metadata": {},
     "output_type": "display_data"
    },
    {
     "data": {
      "text/html": [
       "<pre style=\"white-space:pre;overflow-x:auto;line-height:normal;font-family:Menlo,'DejaVu Sans Mono',consolas,'Courier New',monospace\"><span style=\"color: #7fbfbf; text-decoration-color: #7fbfbf\">           </span><span style=\"color: #000080; text-decoration-color: #000080\">INFO    </span> Loaded LLM client for model <span style=\"color: #008000; text-decoration-color: #008000\">'hosted_vllm/openai/gpt-oss-120b'</span>              <a href=\"file:///Users/shiv/workspace/sdg_hub/src/sdg_hub/core/blocks/llm/client_manager.py\" target=\"_blank\"><span style=\"color: #7f7f7f; text-decoration-color: #7f7f7f\">client_manager.py</span></a><span style=\"color: #7f7f7f; text-decoration-color: #7f7f7f\">:</span><a href=\"file:///Users/shiv/workspace/sdg_hub/src/sdg_hub/core/blocks/llm/client_manager.py#61\" target=\"_blank\"><span style=\"color: #7f7f7f; text-decoration-color: #7f7f7f\">61</span></a>\n",
       "</pre>\n"
      ],
      "text/plain": [
       "\u001b[2;36m          \u001b[0m\u001b[2;36m \u001b[0m\u001b[34mINFO    \u001b[0m Loaded LLM client for model \u001b[32m'hosted_vllm/openai/gpt-oss-120b'\u001b[0m              \u001b]8;id=776499;file:///Users/shiv/workspace/sdg_hub/src/sdg_hub/core/blocks/llm/client_manager.py\u001b\\\u001b[2mclient_manager.py\u001b[0m\u001b]8;;\u001b\\\u001b[2m:\u001b[0m\u001b]8;id=985505;file:///Users/shiv/workspace/sdg_hub/src/sdg_hub/core/blocks/llm/client_manager.py#61\u001b\\\u001b[2m61\u001b[0m\u001b]8;;\u001b\\\n"
      ]
     },
     "metadata": {},
     "output_type": "display_data"
    },
    {
     "data": {
      "text/html": [
       "<pre style=\"white-space:pre;overflow-x:auto;line-height:normal;font-family:Menlo,'DejaVu Sans Mono',consolas,'Courier New',monospace\"><span style=\"color: #7fbfbf; text-decoration-color: #7fbfbf\">           </span><span style=\"color: #000080; text-decoration-color: #000080\">INFO    </span> Initialized LLMChatBlock <span style=\"color: #008000; text-decoration-color: #008000\">'generate_sentiment'</span> with model                  <a href=\"file:///Users/shiv/workspace/sdg_hub/src/sdg_hub/core/blocks/llm/llm_chat_block.py\" target=\"_blank\"><span style=\"color: #7f7f7f; text-decoration-color: #7f7f7f\">llm_chat_block.py</span></a><span style=\"color: #7f7f7f; text-decoration-color: #7f7f7f\">:</span><a href=\"file:///Users/shiv/workspace/sdg_hub/src/sdg_hub/core/blocks/llm/llm_chat_block.py#265\" target=\"_blank\"><span style=\"color: #7f7f7f; text-decoration-color: #7f7f7f\">265</span></a>\n",
       "<span style=\"color: #7fbfbf; text-decoration-color: #7fbfbf\">           </span>         <span style=\"color: #008000; text-decoration-color: #008000\">'hosted_vllm/openai/gpt-oss-120b'</span>                                         <span style=\"color: #7f7f7f; text-decoration-color: #7f7f7f\">                     </span>\n",
       "</pre>\n"
      ],
      "text/plain": [
       "\u001b[2;36m          \u001b[0m\u001b[2;36m \u001b[0m\u001b[34mINFO    \u001b[0m Initialized LLMChatBlock \u001b[32m'generate_sentiment'\u001b[0m with model                  \u001b]8;id=135169;file:///Users/shiv/workspace/sdg_hub/src/sdg_hub/core/blocks/llm/llm_chat_block.py\u001b\\\u001b[2mllm_chat_block.py\u001b[0m\u001b]8;;\u001b\\\u001b[2m:\u001b[0m\u001b]8;id=385348;file:///Users/shiv/workspace/sdg_hub/src/sdg_hub/core/blocks/llm/llm_chat_block.py#265\u001b\\\u001b[2m265\u001b[0m\u001b]8;;\u001b\\\n",
       "\u001b[2;36m           \u001b[0m         \u001b[32m'hosted_vllm/openai/gpt-oss-120b'\u001b[0m                                         \u001b[2m                     \u001b[0m\n"
      ]
     },
     "metadata": {},
     "output_type": "display_data"
    },
    {
     "data": {
      "text/html": [
       "<pre style=\"white-space:pre;overflow-x:auto;line-height:normal;font-family:Menlo,'DejaVu Sans Mono',consolas,'Courier New',monospace\"><span style=\"color: #7fbfbf; text-decoration-color: #7fbfbf\">           </span><span style=\"color: #000080; text-decoration-color: #000080\">INFO    </span> Loaded LLM client for model <span style=\"color: #008000; text-decoration-color: #008000\">'hosted_vllm/openai/gpt-oss-120b'</span>              <a href=\"file:///Users/shiv/workspace/sdg_hub/src/sdg_hub/core/blocks/llm/client_manager.py\" target=\"_blank\"><span style=\"color: #7f7f7f; text-decoration-color: #7f7f7f\">client_manager.py</span></a><span style=\"color: #7f7f7f; text-decoration-color: #7f7f7f\">:</span><a href=\"file:///Users/shiv/workspace/sdg_hub/src/sdg_hub/core/blocks/llm/client_manager.py#61\" target=\"_blank\"><span style=\"color: #7f7f7f; text-decoration-color: #7f7f7f\">61</span></a>\n",
       "</pre>\n"
      ],
      "text/plain": [
       "\u001b[2;36m          \u001b[0m\u001b[2;36m \u001b[0m\u001b[34mINFO    \u001b[0m Loaded LLM client for model \u001b[32m'hosted_vllm/openai/gpt-oss-120b'\u001b[0m              \u001b]8;id=117139;file:///Users/shiv/workspace/sdg_hub/src/sdg_hub/core/blocks/llm/client_manager.py\u001b\\\u001b[2mclient_manager.py\u001b[0m\u001b]8;;\u001b\\\u001b[2m:\u001b[0m\u001b]8;id=158377;file:///Users/shiv/workspace/sdg_hub/src/sdg_hub/core/blocks/llm/client_manager.py#61\u001b\\\u001b[2m61\u001b[0m\u001b]8;;\u001b\\\n"
      ]
     },
     "metadata": {},
     "output_type": "display_data"
    },
    {
     "data": {
      "text/html": [
       "<pre style=\"white-space:pre;overflow-x:auto;line-height:normal;font-family:Menlo,'DejaVu Sans Mono',consolas,'Courier New',monospace\"><span style=\"color: #7fbfbf; text-decoration-color: #7fbfbf\">           </span><span style=\"color: #000080; text-decoration-color: #000080\">INFO    </span> Initialized LLMChatBlock <span style=\"color: #008000; text-decoration-color: #008000\">'extract_stock_tickers'</span> with model               <a href=\"file:///Users/shiv/workspace/sdg_hub/src/sdg_hub/core/blocks/llm/llm_chat_block.py\" target=\"_blank\"><span style=\"color: #7f7f7f; text-decoration-color: #7f7f7f\">llm_chat_block.py</span></a><span style=\"color: #7f7f7f; text-decoration-color: #7f7f7f\">:</span><a href=\"file:///Users/shiv/workspace/sdg_hub/src/sdg_hub/core/blocks/llm/llm_chat_block.py#265\" target=\"_blank\"><span style=\"color: #7f7f7f; text-decoration-color: #7f7f7f\">265</span></a>\n",
       "<span style=\"color: #7fbfbf; text-decoration-color: #7fbfbf\">           </span>         <span style=\"color: #008000; text-decoration-color: #008000\">'hosted_vllm/openai/gpt-oss-120b'</span>                                         <span style=\"color: #7f7f7f; text-decoration-color: #7f7f7f\">                     </span>\n",
       "</pre>\n"
      ],
      "text/plain": [
       "\u001b[2;36m          \u001b[0m\u001b[2;36m \u001b[0m\u001b[34mINFO    \u001b[0m Initialized LLMChatBlock \u001b[32m'extract_stock_tickers'\u001b[0m with model               \u001b]8;id=789761;file:///Users/shiv/workspace/sdg_hub/src/sdg_hub/core/blocks/llm/llm_chat_block.py\u001b\\\u001b[2mllm_chat_block.py\u001b[0m\u001b]8;;\u001b\\\u001b[2m:\u001b[0m\u001b]8;id=726964;file:///Users/shiv/workspace/sdg_hub/src/sdg_hub/core/blocks/llm/llm_chat_block.py#265\u001b\\\u001b[2m265\u001b[0m\u001b]8;;\u001b\\\n",
       "\u001b[2;36m           \u001b[0m         \u001b[32m'hosted_vllm/openai/gpt-oss-120b'\u001b[0m                                         \u001b[2m                     \u001b[0m\n"
      ]
     },
     "metadata": {},
     "output_type": "display_data"
    },
    {
     "data": {
      "text/html": [
       "<pre style=\"white-space:pre;overflow-x:auto;line-height:normal;font-family:Menlo,'DejaVu Sans Mono',consolas,'Courier New',monospace\"><span style=\"color: #7fbfbf; text-decoration-color: #7fbfbf\">           </span><span style=\"color: #000080; text-decoration-color: #000080\">INFO    </span> Successfully configured <span style=\"color: #008080; text-decoration-color: #008080; font-weight: bold\">5</span> LLM blocks with: model:                                   <a href=\"file:///Users/shiv/workspace/sdg_hub/src/sdg_hub/core/flow/base.py\" target=\"_blank\"><span style=\"color: #7f7f7f; text-decoration-color: #7f7f7f\">base.py</span></a><span style=\"color: #7f7f7f; text-decoration-color: #7f7f7f\">:</span><a href=\"file:///Users/shiv/workspace/sdg_hub/src/sdg_hub/core/flow/base.py#903\" target=\"_blank\"><span style=\"color: #7f7f7f; text-decoration-color: #7f7f7f\">903</span></a>\n",
       "<span style=\"color: #7fbfbf; text-decoration-color: #7fbfbf\">           </span>         <span style=\"color: #008000; text-decoration-color: #008000\">'hosted_vllm/openai/gpt-oss-120b'</span>, api_base: <span style=\"color: #008000; text-decoration-color: #008000\">'http://localhost:8201/v1'</span>, api_key:   <span style=\"color: #7f7f7f; text-decoration-color: #7f7f7f\">           </span>\n",
       "<span style=\"color: #7fbfbf; text-decoration-color: #7fbfbf\">           </span>         EMPTY, extra_body: <span style=\"font-weight: bold\">{</span><span style=\"color: #008000; text-decoration-color: #008000\">'reasoning_effort'</span>: <span style=\"color: #008000; text-decoration-color: #008000\">'low'</span><span style=\"font-weight: bold\">}</span>                                      <span style=\"color: #7f7f7f; text-decoration-color: #7f7f7f\">           </span>\n",
       "</pre>\n"
      ],
      "text/plain": [
       "\u001b[2;36m          \u001b[0m\u001b[2;36m \u001b[0m\u001b[34mINFO    \u001b[0m Successfully configured \u001b[1;36m5\u001b[0m LLM blocks with: model:                                   \u001b]8;id=544094;file:///Users/shiv/workspace/sdg_hub/src/sdg_hub/core/flow/base.py\u001b\\\u001b[2mbase.py\u001b[0m\u001b]8;;\u001b\\\u001b[2m:\u001b[0m\u001b]8;id=568704;file:///Users/shiv/workspace/sdg_hub/src/sdg_hub/core/flow/base.py#903\u001b\\\u001b[2m903\u001b[0m\u001b]8;;\u001b\\\n",
       "\u001b[2;36m           \u001b[0m         \u001b[32m'hosted_vllm/openai/gpt-oss-120b'\u001b[0m, api_base: \u001b[32m'http://localhost:8201/v1'\u001b[0m, api_key:   \u001b[2m           \u001b[0m\n",
       "\u001b[2;36m           \u001b[0m         EMPTY, extra_body: \u001b[1m{\u001b[0m\u001b[32m'reasoning_effort'\u001b[0m: \u001b[32m'low'\u001b[0m\u001b[1m}\u001b[0m                                      \u001b[2m           \u001b[0m\n"
      ]
     },
     "metadata": {},
     "output_type": "display_data"
    },
    {
     "data": {
      "text/html": [
       "<pre style=\"white-space:pre;overflow-x:auto;line-height:normal;font-family:Menlo,'DejaVu Sans Mono',consolas,'Courier New',monospace\"><span style=\"color: #7fbfbf; text-decoration-color: #7fbfbf\">           </span><span style=\"color: #000080; text-decoration-color: #000080\">INFO    </span> Configured blocks: <span style=\"font-weight: bold\">[</span><span style=\"color: #008000; text-decoration-color: #008000\">'extract_stock_tickers'</span>, <span style=\"color: #008000; text-decoration-color: #008000\">'generate_entities'</span>,                   <a href=\"file:///Users/shiv/workspace/sdg_hub/src/sdg_hub/core/flow/base.py\" target=\"_blank\"><span style=\"color: #7f7f7f; text-decoration-color: #7f7f7f\">base.py</span></a><span style=\"color: #7f7f7f; text-decoration-color: #7f7f7f\">:</span><a href=\"file:///Users/shiv/workspace/sdg_hub/src/sdg_hub/core/flow/base.py#906\" target=\"_blank\"><span style=\"color: #7f7f7f; text-decoration-color: #7f7f7f\">906</span></a>\n",
       "<span style=\"color: #7fbfbf; text-decoration-color: #7fbfbf\">           </span>         <span style=\"color: #008000; text-decoration-color: #008000\">'generate_keywords'</span>, <span style=\"color: #008000; text-decoration-color: #008000\">'generate_sentiment'</span>, <span style=\"color: #008000; text-decoration-color: #008000\">'generate_summary'</span><span style=\"font-weight: bold\">]</span>                      <span style=\"color: #7f7f7f; text-decoration-color: #7f7f7f\">           </span>\n",
       "</pre>\n"
      ],
      "text/plain": [
       "\u001b[2;36m          \u001b[0m\u001b[2;36m \u001b[0m\u001b[34mINFO    \u001b[0m Configured blocks: \u001b[1m[\u001b[0m\u001b[32m'extract_stock_tickers'\u001b[0m, \u001b[32m'generate_entities'\u001b[0m,                   \u001b]8;id=274655;file:///Users/shiv/workspace/sdg_hub/src/sdg_hub/core/flow/base.py\u001b\\\u001b[2mbase.py\u001b[0m\u001b]8;;\u001b\\\u001b[2m:\u001b[0m\u001b]8;id=511695;file:///Users/shiv/workspace/sdg_hub/src/sdg_hub/core/flow/base.py#906\u001b\\\u001b[2m906\u001b[0m\u001b]8;;\u001b\\\n",
       "\u001b[2;36m           \u001b[0m         \u001b[32m'generate_keywords'\u001b[0m, \u001b[32m'generate_sentiment'\u001b[0m, \u001b[32m'generate_summary'\u001b[0m\u001b[1m]\u001b[0m                      \u001b[2m           \u001b[0m\n"
      ]
     },
     "metadata": {},
     "output_type": "display_data"
    },
    {
     "name": "stdout",
     "output_type": "stream",
     "text": [
      "\n",
      "🎯 Ready to run enhanced flow with stock ticker extraction!\n"
     ]
    }
   ],
   "source": [
    "# Configure the new LLM blocks with our model settings\n",
    "flow.set_model_config(\n",
    "    model=\"hosted_vllm/openai/gpt-oss-120b\",\n",
    "    api_base=\"http://localhost:8201/v1\", \n",
    "    api_key=\"EMPTY\",\n",
    "    # this only works with models which support reasoning_effort\n",
    "    # if your model does not support it, you can remove this parameter\n",
    "    extra_body={\"reasoning_effort\": \"low\"}\n",
    ")\n",
    "\n",
    "print(\"\\n🎯 Ready to run enhanced flow with stock ticker extraction!\")"
   ]
  },
  {
   "cell_type": "code",
   "execution_count": 18,
   "metadata": {},
   "outputs": [
    {
     "name": "stdout",
     "output_type": "stream",
     "text": [
      "🚀 Running structured insights extraction...\n",
      "⏱️ This may take a few minutes depending on your model setup...\n"
     ]
    },
    {
     "data": {
      "text/html": [
       "<pre style=\"white-space:pre;overflow-x:auto;line-height:normal;font-family:Menlo,'DejaVu Sans Mono',consolas,'Courier New',monospace\"><span style=\"color: #7fbfbf; text-decoration-color: #7fbfbf\">           </span><span style=\"color: #000080; text-decoration-color: #000080\">INFO    </span> Starting flow <span style=\"color: #008000; text-decoration-color: #008000\">'Structured Text Insights Extraction Flow'</span> v1.<span style=\"color: #008080; text-decoration-color: #008080; font-weight: bold\">0.0</span> with <span style=\"color: #008080; text-decoration-color: #008080; font-weight: bold\">50</span> samples     <a href=\"file:///Users/shiv/workspace/sdg_hub/src/sdg_hub/core/flow/base.py\" target=\"_blank\"><span style=\"color: #7f7f7f; text-decoration-color: #7f7f7f\">base.py</span></a><span style=\"color: #7f7f7f; text-decoration-color: #7f7f7f\">:</span><a href=\"file:///Users/shiv/workspace/sdg_hub/src/sdg_hub/core/flow/base.py#515\" target=\"_blank\"><span style=\"color: #7f7f7f; text-decoration-color: #7f7f7f\">515</span></a>\n",
       "<span style=\"color: #7fbfbf; text-decoration-color: #7fbfbf\">           </span>         across <span style=\"color: #008080; text-decoration-color: #008080; font-weight: bold\">16</span> blocks                                                                    <span style=\"color: #7f7f7f; text-decoration-color: #7f7f7f\">           </span>\n",
       "</pre>\n"
      ],
      "text/plain": [
       "\u001b[2;36m          \u001b[0m\u001b[2;36m \u001b[0m\u001b[34mINFO    \u001b[0m Starting flow \u001b[32m'Structured Text Insights Extraction Flow'\u001b[0m v1.\u001b[1;36m0.0\u001b[0m with \u001b[1;36m50\u001b[0m samples     \u001b]8;id=426521;file:///Users/shiv/workspace/sdg_hub/src/sdg_hub/core/flow/base.py\u001b\\\u001b[2mbase.py\u001b[0m\u001b]8;;\u001b\\\u001b[2m:\u001b[0m\u001b]8;id=671132;file:///Users/shiv/workspace/sdg_hub/src/sdg_hub/core/flow/base.py#515\u001b\\\u001b[2m515\u001b[0m\u001b]8;;\u001b\\\n",
       "\u001b[2;36m           \u001b[0m         across \u001b[1;36m16\u001b[0m blocks                                                                    \u001b[2m           \u001b[0m\n"
      ]
     },
     "metadata": {},
     "output_type": "display_data"
    },
    {
     "data": {
      "text/html": [
       "<pre style=\"white-space:pre;overflow-x:auto;line-height:normal;font-family:Menlo,'DejaVu Sans Mono',consolas,'Courier New',monospace\"><span style=\"color: #7fbfbf; text-decoration-color: #7fbfbf\">           </span><span style=\"color: #000080; text-decoration-color: #000080\">INFO    </span> Executing block <span style=\"color: #008080; text-decoration-color: #008080; font-weight: bold\">1</span>/<span style=\"color: #008080; text-decoration-color: #008080; font-weight: bold\">16</span>: build_summary_prompt <span style=\"font-weight: bold\">(</span>PromptBuilderBlock<span style=\"font-weight: bold\">)</span>                     <a href=\"file:///Users/shiv/workspace/sdg_hub/src/sdg_hub/core/flow/base.py\" target=\"_blank\"><span style=\"color: #7f7f7f; text-decoration-color: #7f7f7f\">base.py</span></a><span style=\"color: #7f7f7f; text-decoration-color: #7f7f7f\">:</span><a href=\"file:///Users/shiv/workspace/sdg_hub/src/sdg_hub/core/flow/base.py#670\" target=\"_blank\"><span style=\"color: #7f7f7f; text-decoration-color: #7f7f7f\">670</span></a>\n",
       "</pre>\n"
      ],
      "text/plain": [
       "\u001b[2;36m          \u001b[0m\u001b[2;36m \u001b[0m\u001b[34mINFO    \u001b[0m Executing block \u001b[1;36m1\u001b[0m/\u001b[1;36m16\u001b[0m: build_summary_prompt \u001b[1m(\u001b[0mPromptBuilderBlock\u001b[1m)\u001b[0m                     \u001b]8;id=106077;file:///Users/shiv/workspace/sdg_hub/src/sdg_hub/core/flow/base.py\u001b\\\u001b[2mbase.py\u001b[0m\u001b]8;;\u001b\\\u001b[2m:\u001b[0m\u001b]8;id=129853;file:///Users/shiv/workspace/sdg_hub/src/sdg_hub/core/flow/base.py#670\u001b\\\u001b[2m670\u001b[0m\u001b]8;;\u001b\\\n"
      ]
     },
     "metadata": {},
     "output_type": "display_data"
    },
    {
     "data": {
      "text/html": [
       "<pre style=\"white-space:pre;overflow-x:auto;line-height:normal;font-family:Menlo,'DejaVu Sans Mono',consolas,'Courier New',monospace\"><span style=\"color: #000080; text-decoration-color: #000080\">╭───────────────────────────────────────────── </span><span style=\"color: #000080; text-decoration-color: #000080; font-weight: bold\">build_summary_prompt</span><span style=\"color: #000080; text-decoration-color: #000080\"> ──────────────────────────────────────────────╮</span>\n",
       "<span style=\"color: #000080; text-decoration-color: #000080\">│</span> <span style=\"color: #000080; text-decoration-color: #000080; font-weight: bold\">📊 Processing Input Data</span>                                                                                        <span style=\"color: #000080; text-decoration-color: #000080\">│</span>\n",
       "<span style=\"color: #000080; text-decoration-color: #000080\">│</span> <span style=\"color: #008080; text-decoration-color: #008080\">Block Type: PromptBuilderBlock</span>                                                                                  <span style=\"color: #000080; text-decoration-color: #000080\">│</span>\n",
       "<span style=\"color: #000080; text-decoration-color: #000080\">│</span> <span style=\"color: #008080; text-decoration-color: #008080; font-weight: bold\">Input Rows: 50</span>                                                                                                  <span style=\"color: #000080; text-decoration-color: #000080\">│</span>\n",
       "<span style=\"color: #000080; text-decoration-color: #000080\">│</span> <span style=\"color: #008080; text-decoration-color: #008080\">Input Columns: 5</span>                                                                                                <span style=\"color: #000080; text-decoration-color: #000080\">│</span>\n",
       "<span style=\"color: #000080; text-decoration-color: #000080\">│</span> <span style=\"color: #c0c0c0; text-decoration-color: #c0c0c0\">Column Names: Headline, Journalists, Date, Link, text</span>                                                           <span style=\"color: #000080; text-decoration-color: #000080\">│</span>\n",
       "<span style=\"color: #000080; text-decoration-color: #000080\">│</span> <span style=\"color: #008000; text-decoration-color: #008000\">Expected Output Columns: summary_prompt</span>                                                                         <span style=\"color: #000080; text-decoration-color: #000080\">│</span>\n",
       "<span style=\"color: #000080; text-decoration-color: #000080\">╰─────────────────────────────────────────────────────────────────────────────────────────────────────────────────╯</span>\n",
       "</pre>\n"
      ],
      "text/plain": [
       "\u001b[34m╭─\u001b[0m\u001b[34m────────────────────────────────────────────\u001b[0m\u001b[34m \u001b[0m\u001b[1;34mbuild_summary_prompt\u001b[0m\u001b[34m \u001b[0m\u001b[34m─────────────────────────────────────────────\u001b[0m\u001b[34m─╮\u001b[0m\n",
       "\u001b[34m│\u001b[0m \u001b[1;34m📊 Processing Input Data\u001b[0m                                                                                        \u001b[34m│\u001b[0m\n",
       "\u001b[34m│\u001b[0m \u001b[36mBlock Type: PromptBuilderBlock\u001b[0m                                                                                  \u001b[34m│\u001b[0m\n",
       "\u001b[34m│\u001b[0m \u001b[1;36mInput Rows: 50\u001b[0m                                                                                                  \u001b[34m│\u001b[0m\n",
       "\u001b[34m│\u001b[0m \u001b[36mInput Columns: 5\u001b[0m                                                                                                \u001b[34m│\u001b[0m\n",
       "\u001b[34m│\u001b[0m \u001b[37mColumn Names: Headline, Journalists, Date, Link, text\u001b[0m                                                           \u001b[34m│\u001b[0m\n",
       "\u001b[34m│\u001b[0m \u001b[32mExpected Output Columns: summary_prompt\u001b[0m                                                                         \u001b[34m│\u001b[0m\n",
       "\u001b[34m╰─────────────────────────────────────────────────────────────────────────────────────────────────────────────────╯\u001b[0m\n"
      ]
     },
     "metadata": {},
     "output_type": "display_data"
    },
    {
     "data": {
      "text/html": [
       "<pre style=\"white-space:pre;overflow-x:auto;line-height:normal;font-family:Menlo,'DejaVu Sans Mono',consolas,'Courier New',monospace\"><span style=\"color: #008000; text-decoration-color: #008000\">╭──────────────────────────────────────── </span><span style=\"color: #008000; text-decoration-color: #008000; font-weight: bold\">build_summary_prompt - Complete</span><span style=\"color: #008000; text-decoration-color: #008000\"> ────────────────────────────────────────╮</span>\n",
       "<span style=\"color: #008000; text-decoration-color: #008000\">│</span> <span style=\"color: #008000; text-decoration-color: #008000; font-weight: bold\">✅ Processing Complete</span>                                                                                          <span style=\"color: #008000; text-decoration-color: #008000\">│</span>\n",
       "<span style=\"color: #008000; text-decoration-color: #008000\">│</span> <span style=\"color: #008080; text-decoration-color: #008080\">Rows: 50 → 50</span>                                                                                                   <span style=\"color: #008000; text-decoration-color: #008000\">│</span>\n",
       "<span style=\"color: #008000; text-decoration-color: #008000\">│</span> <span style=\"color: #008080; text-decoration-color: #008080\">Columns: 5 → 6</span>                                                                                                  <span style=\"color: #008000; text-decoration-color: #008000\">│</span>\n",
       "<span style=\"color: #008000; text-decoration-color: #008000\">│</span> <span style=\"color: #008000; text-decoration-color: #008000\">🟢 Added: summary_prompt</span>                                                                                        <span style=\"color: #008000; text-decoration-color: #008000\">│</span>\n",
       "<span style=\"color: #008000; text-decoration-color: #008000\">│</span> <span style=\"color: #c0c0c0; text-decoration-color: #c0c0c0\">📋 Final Columns: Date, Headline, Journalists, Link, summary_prompt, text</span>                                       <span style=\"color: #008000; text-decoration-color: #008000\">│</span>\n",
       "<span style=\"color: #008000; text-decoration-color: #008000\">╰─────────────────────────────────────────────────────────────────────────────────────────────────────────────────╯</span>\n",
       "</pre>\n"
      ],
      "text/plain": [
       "\u001b[32m╭─\u001b[0m\u001b[32m───────────────────────────────────────\u001b[0m\u001b[32m \u001b[0m\u001b[1;32mbuild_summary_prompt - Complete\u001b[0m\u001b[32m \u001b[0m\u001b[32m───────────────────────────────────────\u001b[0m\u001b[32m─╮\u001b[0m\n",
       "\u001b[32m│\u001b[0m \u001b[1;32m✅ Processing Complete\u001b[0m                                                                                          \u001b[32m│\u001b[0m\n",
       "\u001b[32m│\u001b[0m \u001b[36mRows: 50 → 50\u001b[0m                                                                                                   \u001b[32m│\u001b[0m\n",
       "\u001b[32m│\u001b[0m \u001b[36mColumns: 5 → 6\u001b[0m                                                                                                  \u001b[32m│\u001b[0m\n",
       "\u001b[32m│\u001b[0m \u001b[32m🟢 Added: summary_prompt\u001b[0m                                                                                        \u001b[32m│\u001b[0m\n",
       "\u001b[32m│\u001b[0m \u001b[37m📋 Final Columns: Date, Headline, Journalists, Link, summary_prompt, text\u001b[0m                                       \u001b[32m│\u001b[0m\n",
       "\u001b[32m╰─────────────────────────────────────────────────────────────────────────────────────────────────────────────────╯\u001b[0m\n"
      ]
     },
     "metadata": {},
     "output_type": "display_data"
    },
    {
     "data": {
      "text/html": [
       "<pre style=\"white-space:pre;overflow-x:auto;line-height:normal;font-family:Menlo,'DejaVu Sans Mono',consolas,'Courier New',monospace\"><span style=\"color: #7fbfbf; text-decoration-color: #7fbfbf\">           </span><span style=\"color: #000080; text-decoration-color: #000080\">INFO    </span> Block <span style=\"color: #008000; text-decoration-color: #008000\">'build_summary_prompt'</span> completed successfully: <span style=\"color: #008080; text-decoration-color: #008080; font-weight: bold\">50</span> samples, <span style=\"color: #008080; text-decoration-color: #008080; font-weight: bold\">6</span> columns          <a href=\"file:///Users/shiv/workspace/sdg_hub/src/sdg_hub/core/flow/base.py\" target=\"_blank\"><span style=\"color: #7f7f7f; text-decoration-color: #7f7f7f\">base.py</span></a><span style=\"color: #7f7f7f; text-decoration-color: #7f7f7f\">:</span><a href=\"file:///Users/shiv/workspace/sdg_hub/src/sdg_hub/core/flow/base.py#732\" target=\"_blank\"><span style=\"color: #7f7f7f; text-decoration-color: #7f7f7f\">732</span></a>\n",
       "</pre>\n"
      ],
      "text/plain": [
       "\u001b[2;36m          \u001b[0m\u001b[2;36m \u001b[0m\u001b[34mINFO    \u001b[0m Block \u001b[32m'build_summary_prompt'\u001b[0m completed successfully: \u001b[1;36m50\u001b[0m samples, \u001b[1;36m6\u001b[0m columns          \u001b]8;id=531227;file:///Users/shiv/workspace/sdg_hub/src/sdg_hub/core/flow/base.py\u001b\\\u001b[2mbase.py\u001b[0m\u001b]8;;\u001b\\\u001b[2m:\u001b[0m\u001b]8;id=873054;file:///Users/shiv/workspace/sdg_hub/src/sdg_hub/core/flow/base.py#732\u001b\\\u001b[2m732\u001b[0m\u001b]8;;\u001b\\\n"
      ]
     },
     "metadata": {},
     "output_type": "display_data"
    },
    {
     "data": {
      "text/html": [
       "<pre style=\"white-space:pre;overflow-x:auto;line-height:normal;font-family:Menlo,'DejaVu Sans Mono',consolas,'Courier New',monospace\"><span style=\"color: #7fbfbf; text-decoration-color: #7fbfbf\">           </span><span style=\"color: #000080; text-decoration-color: #000080\">INFO    </span> Executing block <span style=\"color: #008080; text-decoration-color: #008080; font-weight: bold\">2</span>/<span style=\"color: #008080; text-decoration-color: #008080; font-weight: bold\">16</span>: generate_summary <span style=\"font-weight: bold\">(</span>LLMChatBlock<span style=\"font-weight: bold\">)</span>                               <a href=\"file:///Users/shiv/workspace/sdg_hub/src/sdg_hub/core/flow/base.py\" target=\"_blank\"><span style=\"color: #7f7f7f; text-decoration-color: #7f7f7f\">base.py</span></a><span style=\"color: #7f7f7f; text-decoration-color: #7f7f7f\">:</span><a href=\"file:///Users/shiv/workspace/sdg_hub/src/sdg_hub/core/flow/base.py#670\" target=\"_blank\"><span style=\"color: #7f7f7f; text-decoration-color: #7f7f7f\">670</span></a>\n",
       "</pre>\n"
      ],
      "text/plain": [
       "\u001b[2;36m          \u001b[0m\u001b[2;36m \u001b[0m\u001b[34mINFO    \u001b[0m Executing block \u001b[1;36m2\u001b[0m/\u001b[1;36m16\u001b[0m: generate_summary \u001b[1m(\u001b[0mLLMChatBlock\u001b[1m)\u001b[0m                               \u001b]8;id=263159;file:///Users/shiv/workspace/sdg_hub/src/sdg_hub/core/flow/base.py\u001b\\\u001b[2mbase.py\u001b[0m\u001b]8;;\u001b\\\u001b[2m:\u001b[0m\u001b]8;id=786048;file:///Users/shiv/workspace/sdg_hub/src/sdg_hub/core/flow/base.py#670\u001b\\\u001b[2m670\u001b[0m\u001b]8;;\u001b\\\n"
      ]
     },
     "metadata": {},
     "output_type": "display_data"
    },
    {
     "data": {
      "text/html": [
       "<pre style=\"white-space:pre;overflow-x:auto;line-height:normal;font-family:Menlo,'DejaVu Sans Mono',consolas,'Courier New',monospace\"><span style=\"color: #000080; text-decoration-color: #000080\">╭─────────────────────────────────────────────── </span><span style=\"color: #000080; text-decoration-color: #000080; font-weight: bold\">generate_summary</span><span style=\"color: #000080; text-decoration-color: #000080\"> ────────────────────────────────────────────────╮</span>\n",
       "<span style=\"color: #000080; text-decoration-color: #000080\">│</span> <span style=\"color: #000080; text-decoration-color: #000080; font-weight: bold\">📊 Processing Input Data</span>                                                                                        <span style=\"color: #000080; text-decoration-color: #000080\">│</span>\n",
       "<span style=\"color: #000080; text-decoration-color: #000080\">│</span> <span style=\"color: #008080; text-decoration-color: #008080\">Block Type: LLMChatBlock</span>                                                                                        <span style=\"color: #000080; text-decoration-color: #000080\">│</span>\n",
       "<span style=\"color: #000080; text-decoration-color: #000080\">│</span> <span style=\"color: #008080; text-decoration-color: #008080; font-weight: bold\">Input Rows: 50</span>                                                                                                  <span style=\"color: #000080; text-decoration-color: #000080\">│</span>\n",
       "<span style=\"color: #000080; text-decoration-color: #000080\">│</span> <span style=\"color: #008080; text-decoration-color: #008080\">Input Columns: 6</span>                                                                                                <span style=\"color: #000080; text-decoration-color: #000080\">│</span>\n",
       "<span style=\"color: #000080; text-decoration-color: #000080\">│</span> <span style=\"color: #c0c0c0; text-decoration-color: #c0c0c0\">Column Names: Headline, Journalists, Date, Link, text, summary_prompt</span>                                           <span style=\"color: #000080; text-decoration-color: #000080\">│</span>\n",
       "<span style=\"color: #000080; text-decoration-color: #000080\">│</span> <span style=\"color: #008000; text-decoration-color: #008000\">Expected Output Columns: raw_summary</span>                                                                            <span style=\"color: #000080; text-decoration-color: #000080\">│</span>\n",
       "<span style=\"color: #000080; text-decoration-color: #000080\">╰─────────────────────────────────────────────────────────────────────────────────────────────────────────────────╯</span>\n",
       "</pre>\n"
      ],
      "text/plain": [
       "\u001b[34m╭─\u001b[0m\u001b[34m──────────────────────────────────────────────\u001b[0m\u001b[34m \u001b[0m\u001b[1;34mgenerate_summary\u001b[0m\u001b[34m \u001b[0m\u001b[34m───────────────────────────────────────────────\u001b[0m\u001b[34m─╮\u001b[0m\n",
       "\u001b[34m│\u001b[0m \u001b[1;34m📊 Processing Input Data\u001b[0m                                                                                        \u001b[34m│\u001b[0m\n",
       "\u001b[34m│\u001b[0m \u001b[36mBlock Type: LLMChatBlock\u001b[0m                                                                                        \u001b[34m│\u001b[0m\n",
       "\u001b[34m│\u001b[0m \u001b[1;36mInput Rows: 50\u001b[0m                                                                                                  \u001b[34m│\u001b[0m\n",
       "\u001b[34m│\u001b[0m \u001b[36mInput Columns: 6\u001b[0m                                                                                                \u001b[34m│\u001b[0m\n",
       "\u001b[34m│\u001b[0m \u001b[37mColumn Names: Headline, Journalists, Date, Link, text, summary_prompt\u001b[0m                                           \u001b[34m│\u001b[0m\n",
       "\u001b[34m│\u001b[0m \u001b[32mExpected Output Columns: raw_summary\u001b[0m                                                                            \u001b[34m│\u001b[0m\n",
       "\u001b[34m╰─────────────────────────────────────────────────────────────────────────────────────────────────────────────────╯\u001b[0m\n"
      ]
     },
     "metadata": {},
     "output_type": "display_data"
    },
    {
     "data": {
      "text/html": [
       "<pre style=\"white-space:pre;overflow-x:auto;line-height:normal;font-family:Menlo,'DejaVu Sans Mono',consolas,'Courier New',monospace\"><span style=\"color: #7fbfbf; text-decoration-color: #7fbfbf\">           </span><span style=\"color: #000080; text-decoration-color: #000080\">INFO    </span> Starting async generation for <span style=\"color: #008080; text-decoration-color: #008080; font-weight: bold\">50</span> samples                                  <a href=\"file:///Users/shiv/workspace/sdg_hub/src/sdg_hub/core/blocks/llm/llm_chat_block.py\" target=\"_blank\"><span style=\"color: #7f7f7f; text-decoration-color: #7f7f7f\">llm_chat_block.py</span></a><span style=\"color: #7f7f7f; text-decoration-color: #7f7f7f\">:</span><a href=\"file:///Users/shiv/workspace/sdg_hub/src/sdg_hub/core/blocks/llm/llm_chat_block.py#329\" target=\"_blank\"><span style=\"color: #7f7f7f; text-decoration-color: #7f7f7f\">329</span></a>\n",
       "</pre>\n"
      ],
      "text/plain": [
       "\u001b[2;36m          \u001b[0m\u001b[2;36m \u001b[0m\u001b[34mINFO    \u001b[0m Starting async generation for \u001b[1;36m50\u001b[0m samples                                  \u001b]8;id=821974;file:///Users/shiv/workspace/sdg_hub/src/sdg_hub/core/blocks/llm/llm_chat_block.py\u001b\\\u001b[2mllm_chat_block.py\u001b[0m\u001b]8;;\u001b\\\u001b[2m:\u001b[0m\u001b]8;id=845582;file:///Users/shiv/workspace/sdg_hub/src/sdg_hub/core/blocks/llm/llm_chat_block.py#329\u001b\\\u001b[2m329\u001b[0m\u001b]8;;\u001b\\\n"
      ]
     },
     "metadata": {},
     "output_type": "display_data"
    },
    {
     "data": {
      "text/html": [
       "<pre style=\"white-space:pre;overflow-x:auto;line-height:normal;font-family:Menlo,'DejaVu Sans Mono',consolas,'Courier New',monospace\"><span style=\"color: #7fbfbf; text-decoration-color: #7fbfbf\">[15:18:46] </span><span style=\"color: #000080; text-decoration-color: #000080\">INFO    </span> Generation completed successfully for <span style=\"color: #008080; text-decoration-color: #008080; font-weight: bold\">50</span> samples                          <a href=\"file:///Users/shiv/workspace/sdg_hub/src/sdg_hub/core/blocks/llm/llm_chat_block.py\" target=\"_blank\"><span style=\"color: #7f7f7f; text-decoration-color: #7f7f7f\">llm_chat_block.py</span></a><span style=\"color: #7f7f7f; text-decoration-color: #7f7f7f\">:</span><a href=\"file:///Users/shiv/workspace/sdg_hub/src/sdg_hub/core/blocks/llm/llm_chat_block.py#393\" target=\"_blank\"><span style=\"color: #7f7f7f; text-decoration-color: #7f7f7f\">393</span></a>\n",
       "</pre>\n"
      ],
      "text/plain": [
       "\u001b[2;36m[15:18:46]\u001b[0m\u001b[2;36m \u001b[0m\u001b[34mINFO    \u001b[0m Generation completed successfully for \u001b[1;36m50\u001b[0m samples                          \u001b]8;id=692549;file:///Users/shiv/workspace/sdg_hub/src/sdg_hub/core/blocks/llm/llm_chat_block.py\u001b\\\u001b[2mllm_chat_block.py\u001b[0m\u001b]8;;\u001b\\\u001b[2m:\u001b[0m\u001b]8;id=539805;file:///Users/shiv/workspace/sdg_hub/src/sdg_hub/core/blocks/llm/llm_chat_block.py#393\u001b\\\u001b[2m393\u001b[0m\u001b]8;;\u001b\\\n"
      ]
     },
     "metadata": {},
     "output_type": "display_data"
    },
    {
     "data": {
      "text/html": [
       "<pre style=\"white-space:pre;overflow-x:auto;line-height:normal;font-family:Menlo,'DejaVu Sans Mono',consolas,'Courier New',monospace\"><span style=\"color: #008000; text-decoration-color: #008000\">╭────────────────────────────────────────── </span><span style=\"color: #008000; text-decoration-color: #008000; font-weight: bold\">generate_summary - Complete</span><span style=\"color: #008000; text-decoration-color: #008000\"> ──────────────────────────────────────────╮</span>\n",
       "<span style=\"color: #008000; text-decoration-color: #008000\">│</span> <span style=\"color: #008000; text-decoration-color: #008000; font-weight: bold\">✅ Processing Complete</span>                                                                                          <span style=\"color: #008000; text-decoration-color: #008000\">│</span>\n",
       "<span style=\"color: #008000; text-decoration-color: #008000\">│</span> <span style=\"color: #008080; text-decoration-color: #008080\">Rows: 50 → 50</span>                                                                                                   <span style=\"color: #008000; text-decoration-color: #008000\">│</span>\n",
       "<span style=\"color: #008000; text-decoration-color: #008000\">│</span> <span style=\"color: #008080; text-decoration-color: #008080\">Columns: 6 → 7</span>                                                                                                  <span style=\"color: #008000; text-decoration-color: #008000\">│</span>\n",
       "<span style=\"color: #008000; text-decoration-color: #008000\">│</span> <span style=\"color: #008000; text-decoration-color: #008000\">🟢 Added: raw_summary</span>                                                                                           <span style=\"color: #008000; text-decoration-color: #008000\">│</span>\n",
       "<span style=\"color: #008000; text-decoration-color: #008000\">│</span> <span style=\"color: #c0c0c0; text-decoration-color: #c0c0c0\">📋 Final Columns: Date, Headline, Journalists, Link, raw_summary, summary_prompt, text</span>                          <span style=\"color: #008000; text-decoration-color: #008000\">│</span>\n",
       "<span style=\"color: #008000; text-decoration-color: #008000\">╰─────────────────────────────────────────────────────────────────────────────────────────────────────────────────╯</span>\n",
       "</pre>\n"
      ],
      "text/plain": [
       "\u001b[32m╭─\u001b[0m\u001b[32m─────────────────────────────────────────\u001b[0m\u001b[32m \u001b[0m\u001b[1;32mgenerate_summary - Complete\u001b[0m\u001b[32m \u001b[0m\u001b[32m─────────────────────────────────────────\u001b[0m\u001b[32m─╮\u001b[0m\n",
       "\u001b[32m│\u001b[0m \u001b[1;32m✅ Processing Complete\u001b[0m                                                                                          \u001b[32m│\u001b[0m\n",
       "\u001b[32m│\u001b[0m \u001b[36mRows: 50 → 50\u001b[0m                                                                                                   \u001b[32m│\u001b[0m\n",
       "\u001b[32m│\u001b[0m \u001b[36mColumns: 6 → 7\u001b[0m                                                                                                  \u001b[32m│\u001b[0m\n",
       "\u001b[32m│\u001b[0m \u001b[32m🟢 Added: raw_summary\u001b[0m                                                                                           \u001b[32m│\u001b[0m\n",
       "\u001b[32m│\u001b[0m \u001b[37m📋 Final Columns: Date, Headline, Journalists, Link, raw_summary, summary_prompt, text\u001b[0m                          \u001b[32m│\u001b[0m\n",
       "\u001b[32m╰─────────────────────────────────────────────────────────────────────────────────────────────────────────────────╯\u001b[0m\n"
      ]
     },
     "metadata": {},
     "output_type": "display_data"
    },
    {
     "data": {
      "text/html": [
       "<pre style=\"white-space:pre;overflow-x:auto;line-height:normal;font-family:Menlo,'DejaVu Sans Mono',consolas,'Courier New',monospace\"><span style=\"color: #7fbfbf; text-decoration-color: #7fbfbf\">[15:18:46] </span><span style=\"color: #000080; text-decoration-color: #000080\">INFO    </span> Block <span style=\"color: #008000; text-decoration-color: #008000\">'generate_summary'</span> completed successfully: <span style=\"color: #008080; text-decoration-color: #008080; font-weight: bold\">50</span> samples, <span style=\"color: #008080; text-decoration-color: #008080; font-weight: bold\">7</span> columns              <a href=\"file:///Users/shiv/workspace/sdg_hub/src/sdg_hub/core/flow/base.py\" target=\"_blank\"><span style=\"color: #7f7f7f; text-decoration-color: #7f7f7f\">base.py</span></a><span style=\"color: #7f7f7f; text-decoration-color: #7f7f7f\">:</span><a href=\"file:///Users/shiv/workspace/sdg_hub/src/sdg_hub/core/flow/base.py#732\" target=\"_blank\"><span style=\"color: #7f7f7f; text-decoration-color: #7f7f7f\">732</span></a>\n",
       "</pre>\n"
      ],
      "text/plain": [
       "\u001b[2;36m[15:18:46]\u001b[0m\u001b[2;36m \u001b[0m\u001b[34mINFO    \u001b[0m Block \u001b[32m'generate_summary'\u001b[0m completed successfully: \u001b[1;36m50\u001b[0m samples, \u001b[1;36m7\u001b[0m columns              \u001b]8;id=904084;file:///Users/shiv/workspace/sdg_hub/src/sdg_hub/core/flow/base.py\u001b\\\u001b[2mbase.py\u001b[0m\u001b]8;;\u001b\\\u001b[2m:\u001b[0m\u001b]8;id=741017;file:///Users/shiv/workspace/sdg_hub/src/sdg_hub/core/flow/base.py#732\u001b\\\u001b[2m732\u001b[0m\u001b]8;;\u001b\\\n"
      ]
     },
     "metadata": {},
     "output_type": "display_data"
    },
    {
     "data": {
      "text/html": [
       "<pre style=\"white-space:pre;overflow-x:auto;line-height:normal;font-family:Menlo,'DejaVu Sans Mono',consolas,'Courier New',monospace\"><span style=\"color: #7fbfbf; text-decoration-color: #7fbfbf\">           </span><span style=\"color: #000080; text-decoration-color: #000080\">INFO    </span> Executing block <span style=\"color: #008080; text-decoration-color: #008080; font-weight: bold\">3</span>/<span style=\"color: #008080; text-decoration-color: #008080; font-weight: bold\">16</span>: parse_summary <span style=\"font-weight: bold\">(</span>TextParserBlock<span style=\"font-weight: bold\">)</span>                               <a href=\"file:///Users/shiv/workspace/sdg_hub/src/sdg_hub/core/flow/base.py\" target=\"_blank\"><span style=\"color: #7f7f7f; text-decoration-color: #7f7f7f\">base.py</span></a><span style=\"color: #7f7f7f; text-decoration-color: #7f7f7f\">:</span><a href=\"file:///Users/shiv/workspace/sdg_hub/src/sdg_hub/core/flow/base.py#670\" target=\"_blank\"><span style=\"color: #7f7f7f; text-decoration-color: #7f7f7f\">670</span></a>\n",
       "</pre>\n"
      ],
      "text/plain": [
       "\u001b[2;36m          \u001b[0m\u001b[2;36m \u001b[0m\u001b[34mINFO    \u001b[0m Executing block \u001b[1;36m3\u001b[0m/\u001b[1;36m16\u001b[0m: parse_summary \u001b[1m(\u001b[0mTextParserBlock\u001b[1m)\u001b[0m                               \u001b]8;id=568517;file:///Users/shiv/workspace/sdg_hub/src/sdg_hub/core/flow/base.py\u001b\\\u001b[2mbase.py\u001b[0m\u001b]8;;\u001b\\\u001b[2m:\u001b[0m\u001b]8;id=11064;file:///Users/shiv/workspace/sdg_hub/src/sdg_hub/core/flow/base.py#670\u001b\\\u001b[2m670\u001b[0m\u001b]8;;\u001b\\\n"
      ]
     },
     "metadata": {},
     "output_type": "display_data"
    },
    {
     "data": {
      "text/html": [
       "<pre style=\"white-space:pre;overflow-x:auto;line-height:normal;font-family:Menlo,'DejaVu Sans Mono',consolas,'Courier New',monospace\"><span style=\"color: #000080; text-decoration-color: #000080\">╭───────────────────────────────────────────────── </span><span style=\"color: #000080; text-decoration-color: #000080; font-weight: bold\">parse_summary</span><span style=\"color: #000080; text-decoration-color: #000080\"> ─────────────────────────────────────────────────╮</span>\n",
       "<span style=\"color: #000080; text-decoration-color: #000080\">│</span> <span style=\"color: #000080; text-decoration-color: #000080; font-weight: bold\">📊 Processing Input Data</span>                                                                                        <span style=\"color: #000080; text-decoration-color: #000080\">│</span>\n",
       "<span style=\"color: #000080; text-decoration-color: #000080\">│</span> <span style=\"color: #008080; text-decoration-color: #008080\">Block Type: TextParserBlock</span>                                                                                     <span style=\"color: #000080; text-decoration-color: #000080\">│</span>\n",
       "<span style=\"color: #000080; text-decoration-color: #000080\">│</span> <span style=\"color: #008080; text-decoration-color: #008080; font-weight: bold\">Input Rows: 50</span>                                                                                                  <span style=\"color: #000080; text-decoration-color: #000080\">│</span>\n",
       "<span style=\"color: #000080; text-decoration-color: #000080\">│</span> <span style=\"color: #008080; text-decoration-color: #008080\">Input Columns: 7</span>                                                                                                <span style=\"color: #000080; text-decoration-color: #000080\">│</span>\n",
       "<span style=\"color: #000080; text-decoration-color: #000080\">│</span> <span style=\"color: #c0c0c0; text-decoration-color: #c0c0c0\">Column Names: Headline, Journalists, Date, Link, text, summary_prompt, raw_summary</span>                              <span style=\"color: #000080; text-decoration-color: #000080\">│</span>\n",
       "<span style=\"color: #000080; text-decoration-color: #000080\">│</span> <span style=\"color: #008000; text-decoration-color: #008000\">Expected Output Columns: summary</span>                                                                                <span style=\"color: #000080; text-decoration-color: #000080\">│</span>\n",
       "<span style=\"color: #000080; text-decoration-color: #000080\">╰─────────────────────────────────────────────────────────────────────────────────────────────────────────────────╯</span>\n",
       "</pre>\n"
      ],
      "text/plain": [
       "\u001b[34m╭─\u001b[0m\u001b[34m────────────────────────────────────────────────\u001b[0m\u001b[34m \u001b[0m\u001b[1;34mparse_summary\u001b[0m\u001b[34m \u001b[0m\u001b[34m────────────────────────────────────────────────\u001b[0m\u001b[34m─╮\u001b[0m\n",
       "\u001b[34m│\u001b[0m \u001b[1;34m📊 Processing Input Data\u001b[0m                                                                                        \u001b[34m│\u001b[0m\n",
       "\u001b[34m│\u001b[0m \u001b[36mBlock Type: TextParserBlock\u001b[0m                                                                                     \u001b[34m│\u001b[0m\n",
       "\u001b[34m│\u001b[0m \u001b[1;36mInput Rows: 50\u001b[0m                                                                                                  \u001b[34m│\u001b[0m\n",
       "\u001b[34m│\u001b[0m \u001b[36mInput Columns: 7\u001b[0m                                                                                                \u001b[34m│\u001b[0m\n",
       "\u001b[34m│\u001b[0m \u001b[37mColumn Names: Headline, Journalists, Date, Link, text, summary_prompt, raw_summary\u001b[0m                              \u001b[34m│\u001b[0m\n",
       "\u001b[34m│\u001b[0m \u001b[32mExpected Output Columns: summary\u001b[0m                                                                                \u001b[34m│\u001b[0m\n",
       "\u001b[34m╰─────────────────────────────────────────────────────────────────────────────────────────────────────────────────╯\u001b[0m\n"
      ]
     },
     "metadata": {},
     "output_type": "display_data"
    },
    {
     "data": {
      "text/html": [
       "<pre style=\"white-space:pre;overflow-x:auto;line-height:normal;font-family:Menlo,'DejaVu Sans Mono',consolas,'Courier New',monospace\"><span style=\"color: #008000; text-decoration-color: #008000\">╭─────────────────────────────────────────── </span><span style=\"color: #008000; text-decoration-color: #008000; font-weight: bold\">parse_summary - Complete</span><span style=\"color: #008000; text-decoration-color: #008000\"> ────────────────────────────────────────────╮</span>\n",
       "<span style=\"color: #008000; text-decoration-color: #008000\">│</span> <span style=\"color: #008000; text-decoration-color: #008000; font-weight: bold\">✅ Processing Complete</span>                                                                                          <span style=\"color: #008000; text-decoration-color: #008000\">│</span>\n",
       "<span style=\"color: #008000; text-decoration-color: #008000\">│</span> <span style=\"color: #008080; text-decoration-color: #008080\">Rows: 50 → 50</span>                                                                                                   <span style=\"color: #008000; text-decoration-color: #008000\">│</span>\n",
       "<span style=\"color: #008000; text-decoration-color: #008000\">│</span> <span style=\"color: #008080; text-decoration-color: #008080\">Columns: 7 → 8</span>                                                                                                  <span style=\"color: #008000; text-decoration-color: #008000\">│</span>\n",
       "<span style=\"color: #008000; text-decoration-color: #008000\">│</span> <span style=\"color: #008000; text-decoration-color: #008000\">🟢 Added: summary</span>                                                                                               <span style=\"color: #008000; text-decoration-color: #008000\">│</span>\n",
       "<span style=\"color: #008000; text-decoration-color: #008000\">│</span> <span style=\"color: #c0c0c0; text-decoration-color: #c0c0c0\">📋 Final Columns: Date, Headline, Journalists, Link, raw_summary, summary, summary_prompt, text</span>                 <span style=\"color: #008000; text-decoration-color: #008000\">│</span>\n",
       "<span style=\"color: #008000; text-decoration-color: #008000\">╰─────────────────────────────────────────────────────────────────────────────────────────────────────────────────╯</span>\n",
       "</pre>\n"
      ],
      "text/plain": [
       "\u001b[32m╭─\u001b[0m\u001b[32m──────────────────────────────────────────\u001b[0m\u001b[32m \u001b[0m\u001b[1;32mparse_summary - Complete\u001b[0m\u001b[32m \u001b[0m\u001b[32m───────────────────────────────────────────\u001b[0m\u001b[32m─╮\u001b[0m\n",
       "\u001b[32m│\u001b[0m \u001b[1;32m✅ Processing Complete\u001b[0m                                                                                          \u001b[32m│\u001b[0m\n",
       "\u001b[32m│\u001b[0m \u001b[36mRows: 50 → 50\u001b[0m                                                                                                   \u001b[32m│\u001b[0m\n",
       "\u001b[32m│\u001b[0m \u001b[36mColumns: 7 → 8\u001b[0m                                                                                                  \u001b[32m│\u001b[0m\n",
       "\u001b[32m│\u001b[0m \u001b[32m🟢 Added: summary\u001b[0m                                                                                               \u001b[32m│\u001b[0m\n",
       "\u001b[32m│\u001b[0m \u001b[37m📋 Final Columns: Date, Headline, Journalists, Link, raw_summary, summary, summary_prompt, text\u001b[0m                 \u001b[32m│\u001b[0m\n",
       "\u001b[32m╰─────────────────────────────────────────────────────────────────────────────────────────────────────────────────╯\u001b[0m\n"
      ]
     },
     "metadata": {},
     "output_type": "display_data"
    },
    {
     "data": {
      "text/html": [
       "<pre style=\"white-space:pre;overflow-x:auto;line-height:normal;font-family:Menlo,'DejaVu Sans Mono',consolas,'Courier New',monospace\"><span style=\"color: #7fbfbf; text-decoration-color: #7fbfbf\">           </span><span style=\"color: #000080; text-decoration-color: #000080\">INFO    </span> Block <span style=\"color: #008000; text-decoration-color: #008000\">'parse_summary'</span> completed successfully: <span style=\"color: #008080; text-decoration-color: #008080; font-weight: bold\">50</span> samples, <span style=\"color: #008080; text-decoration-color: #008080; font-weight: bold\">8</span> columns                 <a href=\"file:///Users/shiv/workspace/sdg_hub/src/sdg_hub/core/flow/base.py\" target=\"_blank\"><span style=\"color: #7f7f7f; text-decoration-color: #7f7f7f\">base.py</span></a><span style=\"color: #7f7f7f; text-decoration-color: #7f7f7f\">:</span><a href=\"file:///Users/shiv/workspace/sdg_hub/src/sdg_hub/core/flow/base.py#732\" target=\"_blank\"><span style=\"color: #7f7f7f; text-decoration-color: #7f7f7f\">732</span></a>\n",
       "</pre>\n"
      ],
      "text/plain": [
       "\u001b[2;36m          \u001b[0m\u001b[2;36m \u001b[0m\u001b[34mINFO    \u001b[0m Block \u001b[32m'parse_summary'\u001b[0m completed successfully: \u001b[1;36m50\u001b[0m samples, \u001b[1;36m8\u001b[0m columns                 \u001b]8;id=638926;file:///Users/shiv/workspace/sdg_hub/src/sdg_hub/core/flow/base.py\u001b\\\u001b[2mbase.py\u001b[0m\u001b]8;;\u001b\\\u001b[2m:\u001b[0m\u001b]8;id=957957;file:///Users/shiv/workspace/sdg_hub/src/sdg_hub/core/flow/base.py#732\u001b\\\u001b[2m732\u001b[0m\u001b]8;;\u001b\\\n"
      ]
     },
     "metadata": {},
     "output_type": "display_data"
    },
    {
     "data": {
      "text/html": [
       "<pre style=\"white-space:pre;overflow-x:auto;line-height:normal;font-family:Menlo,'DejaVu Sans Mono',consolas,'Courier New',monospace\"><span style=\"color: #7fbfbf; text-decoration-color: #7fbfbf\">           </span><span style=\"color: #000080; text-decoration-color: #000080\">INFO    </span> Executing block <span style=\"color: #008080; text-decoration-color: #008080; font-weight: bold\">4</span>/<span style=\"color: #008080; text-decoration-color: #008080; font-weight: bold\">16</span>: build_keywords_prompt <span style=\"font-weight: bold\">(</span>PromptBuilderBlock<span style=\"font-weight: bold\">)</span>                    <a href=\"file:///Users/shiv/workspace/sdg_hub/src/sdg_hub/core/flow/base.py\" target=\"_blank\"><span style=\"color: #7f7f7f; text-decoration-color: #7f7f7f\">base.py</span></a><span style=\"color: #7f7f7f; text-decoration-color: #7f7f7f\">:</span><a href=\"file:///Users/shiv/workspace/sdg_hub/src/sdg_hub/core/flow/base.py#670\" target=\"_blank\"><span style=\"color: #7f7f7f; text-decoration-color: #7f7f7f\">670</span></a>\n",
       "</pre>\n"
      ],
      "text/plain": [
       "\u001b[2;36m          \u001b[0m\u001b[2;36m \u001b[0m\u001b[34mINFO    \u001b[0m Executing block \u001b[1;36m4\u001b[0m/\u001b[1;36m16\u001b[0m: build_keywords_prompt \u001b[1m(\u001b[0mPromptBuilderBlock\u001b[1m)\u001b[0m                    \u001b]8;id=723830;file:///Users/shiv/workspace/sdg_hub/src/sdg_hub/core/flow/base.py\u001b\\\u001b[2mbase.py\u001b[0m\u001b]8;;\u001b\\\u001b[2m:\u001b[0m\u001b]8;id=722171;file:///Users/shiv/workspace/sdg_hub/src/sdg_hub/core/flow/base.py#670\u001b\\\u001b[2m670\u001b[0m\u001b]8;;\u001b\\\n"
      ]
     },
     "metadata": {},
     "output_type": "display_data"
    },
    {
     "data": {
      "text/html": [
       "<pre style=\"white-space:pre;overflow-x:auto;line-height:normal;font-family:Menlo,'DejaVu Sans Mono',consolas,'Courier New',monospace\"><span style=\"color: #000080; text-decoration-color: #000080\">╭───────────────────────────────────────────── </span><span style=\"color: #000080; text-decoration-color: #000080; font-weight: bold\">build_keywords_prompt</span><span style=\"color: #000080; text-decoration-color: #000080\"> ─────────────────────────────────────────────╮</span>\n",
       "<span style=\"color: #000080; text-decoration-color: #000080\">│</span> <span style=\"color: #000080; text-decoration-color: #000080; font-weight: bold\">📊 Processing Input Data</span>                                                                                        <span style=\"color: #000080; text-decoration-color: #000080\">│</span>\n",
       "<span style=\"color: #000080; text-decoration-color: #000080\">│</span> <span style=\"color: #008080; text-decoration-color: #008080\">Block Type: PromptBuilderBlock</span>                                                                                  <span style=\"color: #000080; text-decoration-color: #000080\">│</span>\n",
       "<span style=\"color: #000080; text-decoration-color: #000080\">│</span> <span style=\"color: #008080; text-decoration-color: #008080; font-weight: bold\">Input Rows: 50</span>                                                                                                  <span style=\"color: #000080; text-decoration-color: #000080\">│</span>\n",
       "<span style=\"color: #000080; text-decoration-color: #000080\">│</span> <span style=\"color: #008080; text-decoration-color: #008080\">Input Columns: 8</span>                                                                                                <span style=\"color: #000080; text-decoration-color: #000080\">│</span>\n",
       "<span style=\"color: #000080; text-decoration-color: #000080\">│</span> <span style=\"color: #c0c0c0; text-decoration-color: #c0c0c0\">Column Names: Headline, Journalists, Date, Link, text, summary_prompt, raw_summary, summary</span>                     <span style=\"color: #000080; text-decoration-color: #000080\">│</span>\n",
       "<span style=\"color: #000080; text-decoration-color: #000080\">│</span> <span style=\"color: #008000; text-decoration-color: #008000\">Expected Output Columns: keywords_prompt</span>                                                                        <span style=\"color: #000080; text-decoration-color: #000080\">│</span>\n",
       "<span style=\"color: #000080; text-decoration-color: #000080\">╰─────────────────────────────────────────────────────────────────────────────────────────────────────────────────╯</span>\n",
       "</pre>\n"
      ],
      "text/plain": [
       "\u001b[34m╭─\u001b[0m\u001b[34m────────────────────────────────────────────\u001b[0m\u001b[34m \u001b[0m\u001b[1;34mbuild_keywords_prompt\u001b[0m\u001b[34m \u001b[0m\u001b[34m────────────────────────────────────────────\u001b[0m\u001b[34m─╮\u001b[0m\n",
       "\u001b[34m│\u001b[0m \u001b[1;34m📊 Processing Input Data\u001b[0m                                                                                        \u001b[34m│\u001b[0m\n",
       "\u001b[34m│\u001b[0m \u001b[36mBlock Type: PromptBuilderBlock\u001b[0m                                                                                  \u001b[34m│\u001b[0m\n",
       "\u001b[34m│\u001b[0m \u001b[1;36mInput Rows: 50\u001b[0m                                                                                                  \u001b[34m│\u001b[0m\n",
       "\u001b[34m│\u001b[0m \u001b[36mInput Columns: 8\u001b[0m                                                                                                \u001b[34m│\u001b[0m\n",
       "\u001b[34m│\u001b[0m \u001b[37mColumn Names: Headline, Journalists, Date, Link, text, summary_prompt, raw_summary, summary\u001b[0m                     \u001b[34m│\u001b[0m\n",
       "\u001b[34m│\u001b[0m \u001b[32mExpected Output Columns: keywords_prompt\u001b[0m                                                                        \u001b[34m│\u001b[0m\n",
       "\u001b[34m╰─────────────────────────────────────────────────────────────────────────────────────────────────────────────────╯\u001b[0m\n"
      ]
     },
     "metadata": {},
     "output_type": "display_data"
    },
    {
     "name": "stderr",
     "output_type": "stream",
     "text": [
      "Map: 100%|██████████| 50/50 [00:00<00:00, 6243.57 examples/s]\n"
     ]
    },
    {
     "data": {
      "text/html": [
       "<pre style=\"white-space:pre;overflow-x:auto;line-height:normal;font-family:Menlo,'DejaVu Sans Mono',consolas,'Courier New',monospace\"><span style=\"color: #008000; text-decoration-color: #008000\">╭─────────────────────────────────────── </span><span style=\"color: #008000; text-decoration-color: #008000; font-weight: bold\">build_keywords_prompt - Complete</span><span style=\"color: #008000; text-decoration-color: #008000\"> ────────────────────────────────────────╮</span>\n",
       "<span style=\"color: #008000; text-decoration-color: #008000\">│</span> <span style=\"color: #008000; text-decoration-color: #008000; font-weight: bold\">✅ Processing Complete</span>                                                                                          <span style=\"color: #008000; text-decoration-color: #008000\">│</span>\n",
       "<span style=\"color: #008000; text-decoration-color: #008000\">│</span> <span style=\"color: #008080; text-decoration-color: #008080\">Rows: 50 → 50</span>                                                                                                   <span style=\"color: #008000; text-decoration-color: #008000\">│</span>\n",
       "<span style=\"color: #008000; text-decoration-color: #008000\">│</span> <span style=\"color: #008080; text-decoration-color: #008080\">Columns: 8 → 9</span>                                                                                                  <span style=\"color: #008000; text-decoration-color: #008000\">│</span>\n",
       "<span style=\"color: #008000; text-decoration-color: #008000\">│</span> <span style=\"color: #008000; text-decoration-color: #008000\">🟢 Added: keywords_prompt</span>                                                                                       <span style=\"color: #008000; text-decoration-color: #008000\">│</span>\n",
       "<span style=\"color: #008000; text-decoration-color: #008000\">│</span> <span style=\"color: #c0c0c0; text-decoration-color: #c0c0c0\">📋 Final Columns: Date, Headline, Journalists, Link, keywords_prompt, raw_summary, summary, summary_prompt, </span>    <span style=\"color: #008000; text-decoration-color: #008000\">│</span>\n",
       "<span style=\"color: #008000; text-decoration-color: #008000\">│</span> <span style=\"color: #c0c0c0; text-decoration-color: #c0c0c0\">text</span>                                                                                                            <span style=\"color: #008000; text-decoration-color: #008000\">│</span>\n",
       "<span style=\"color: #008000; text-decoration-color: #008000\">╰─────────────────────────────────────────────────────────────────────────────────────────────────────────────────╯</span>\n",
       "</pre>\n"
      ],
      "text/plain": [
       "\u001b[32m╭─\u001b[0m\u001b[32m──────────────────────────────────────\u001b[0m\u001b[32m \u001b[0m\u001b[1;32mbuild_keywords_prompt - Complete\u001b[0m\u001b[32m \u001b[0m\u001b[32m───────────────────────────────────────\u001b[0m\u001b[32m─╮\u001b[0m\n",
       "\u001b[32m│\u001b[0m \u001b[1;32m✅ Processing Complete\u001b[0m                                                                                          \u001b[32m│\u001b[0m\n",
       "\u001b[32m│\u001b[0m \u001b[36mRows: 50 → 50\u001b[0m                                                                                                   \u001b[32m│\u001b[0m\n",
       "\u001b[32m│\u001b[0m \u001b[36mColumns: 8 → 9\u001b[0m                                                                                                  \u001b[32m│\u001b[0m\n",
       "\u001b[32m│\u001b[0m \u001b[32m🟢 Added: keywords_prompt\u001b[0m                                                                                       \u001b[32m│\u001b[0m\n",
       "\u001b[32m│\u001b[0m \u001b[37m📋 Final Columns: Date, Headline, Journalists, Link, keywords_prompt, raw_summary, summary, summary_prompt, \u001b[0m    \u001b[32m│\u001b[0m\n",
       "\u001b[32m│\u001b[0m \u001b[37mtext\u001b[0m                                                                                                            \u001b[32m│\u001b[0m\n",
       "\u001b[32m╰─────────────────────────────────────────────────────────────────────────────────────────────────────────────────╯\u001b[0m\n"
      ]
     },
     "metadata": {},
     "output_type": "display_data"
    },
    {
     "data": {
      "text/html": [
       "<pre style=\"white-space:pre;overflow-x:auto;line-height:normal;font-family:Menlo,'DejaVu Sans Mono',consolas,'Courier New',monospace\"><span style=\"color: #7fbfbf; text-decoration-color: #7fbfbf\">           </span><span style=\"color: #000080; text-decoration-color: #000080\">INFO    </span> Block <span style=\"color: #008000; text-decoration-color: #008000\">'build_keywords_prompt'</span> completed successfully: <span style=\"color: #008080; text-decoration-color: #008080; font-weight: bold\">50</span> samples, <span style=\"color: #008080; text-decoration-color: #008080; font-weight: bold\">9</span> columns         <a href=\"file:///Users/shiv/workspace/sdg_hub/src/sdg_hub/core/flow/base.py\" target=\"_blank\"><span style=\"color: #7f7f7f; text-decoration-color: #7f7f7f\">base.py</span></a><span style=\"color: #7f7f7f; text-decoration-color: #7f7f7f\">:</span><a href=\"file:///Users/shiv/workspace/sdg_hub/src/sdg_hub/core/flow/base.py#732\" target=\"_blank\"><span style=\"color: #7f7f7f; text-decoration-color: #7f7f7f\">732</span></a>\n",
       "</pre>\n"
      ],
      "text/plain": [
       "\u001b[2;36m          \u001b[0m\u001b[2;36m \u001b[0m\u001b[34mINFO    \u001b[0m Block \u001b[32m'build_keywords_prompt'\u001b[0m completed successfully: \u001b[1;36m50\u001b[0m samples, \u001b[1;36m9\u001b[0m columns         \u001b]8;id=36156;file:///Users/shiv/workspace/sdg_hub/src/sdg_hub/core/flow/base.py\u001b\\\u001b[2mbase.py\u001b[0m\u001b]8;;\u001b\\\u001b[2m:\u001b[0m\u001b]8;id=753719;file:///Users/shiv/workspace/sdg_hub/src/sdg_hub/core/flow/base.py#732\u001b\\\u001b[2m732\u001b[0m\u001b]8;;\u001b\\\n"
      ]
     },
     "metadata": {},
     "output_type": "display_data"
    },
    {
     "data": {
      "text/html": [
       "<pre style=\"white-space:pre;overflow-x:auto;line-height:normal;font-family:Menlo,'DejaVu Sans Mono',consolas,'Courier New',monospace\"><span style=\"color: #7fbfbf; text-decoration-color: #7fbfbf\">           </span><span style=\"color: #000080; text-decoration-color: #000080\">INFO    </span> Executing block <span style=\"color: #008080; text-decoration-color: #008080; font-weight: bold\">5</span>/<span style=\"color: #008080; text-decoration-color: #008080; font-weight: bold\">16</span>: generate_keywords <span style=\"font-weight: bold\">(</span>LLMChatBlock<span style=\"font-weight: bold\">)</span>                              <a href=\"file:///Users/shiv/workspace/sdg_hub/src/sdg_hub/core/flow/base.py\" target=\"_blank\"><span style=\"color: #7f7f7f; text-decoration-color: #7f7f7f\">base.py</span></a><span style=\"color: #7f7f7f; text-decoration-color: #7f7f7f\">:</span><a href=\"file:///Users/shiv/workspace/sdg_hub/src/sdg_hub/core/flow/base.py#670\" target=\"_blank\"><span style=\"color: #7f7f7f; text-decoration-color: #7f7f7f\">670</span></a>\n",
       "</pre>\n"
      ],
      "text/plain": [
       "\u001b[2;36m          \u001b[0m\u001b[2;36m \u001b[0m\u001b[34mINFO    \u001b[0m Executing block \u001b[1;36m5\u001b[0m/\u001b[1;36m16\u001b[0m: generate_keywords \u001b[1m(\u001b[0mLLMChatBlock\u001b[1m)\u001b[0m                              \u001b]8;id=725015;file:///Users/shiv/workspace/sdg_hub/src/sdg_hub/core/flow/base.py\u001b\\\u001b[2mbase.py\u001b[0m\u001b]8;;\u001b\\\u001b[2m:\u001b[0m\u001b]8;id=93497;file:///Users/shiv/workspace/sdg_hub/src/sdg_hub/core/flow/base.py#670\u001b\\\u001b[2m670\u001b[0m\u001b]8;;\u001b\\\n"
      ]
     },
     "metadata": {},
     "output_type": "display_data"
    },
    {
     "data": {
      "text/html": [
       "<pre style=\"white-space:pre;overflow-x:auto;line-height:normal;font-family:Menlo,'DejaVu Sans Mono',consolas,'Courier New',monospace\"><span style=\"color: #000080; text-decoration-color: #000080\">╭─────────────────────────────────────────────── </span><span style=\"color: #000080; text-decoration-color: #000080; font-weight: bold\">generate_keywords</span><span style=\"color: #000080; text-decoration-color: #000080\"> ───────────────────────────────────────────────╮</span>\n",
       "<span style=\"color: #000080; text-decoration-color: #000080\">│</span> <span style=\"color: #000080; text-decoration-color: #000080; font-weight: bold\">📊 Processing Input Data</span>                                                                                        <span style=\"color: #000080; text-decoration-color: #000080\">│</span>\n",
       "<span style=\"color: #000080; text-decoration-color: #000080\">│</span> <span style=\"color: #008080; text-decoration-color: #008080\">Block Type: LLMChatBlock</span>                                                                                        <span style=\"color: #000080; text-decoration-color: #000080\">│</span>\n",
       "<span style=\"color: #000080; text-decoration-color: #000080\">│</span> <span style=\"color: #008080; text-decoration-color: #008080; font-weight: bold\">Input Rows: 50</span>                                                                                                  <span style=\"color: #000080; text-decoration-color: #000080\">│</span>\n",
       "<span style=\"color: #000080; text-decoration-color: #000080\">│</span> <span style=\"color: #008080; text-decoration-color: #008080\">Input Columns: 9</span>                                                                                                <span style=\"color: #000080; text-decoration-color: #000080\">│</span>\n",
       "<span style=\"color: #000080; text-decoration-color: #000080\">│</span> <span style=\"color: #c0c0c0; text-decoration-color: #c0c0c0\">Column Names: Headline, Journalists, Date, Link, text, summary_prompt, raw_summary, summary, keywords_prompt</span>    <span style=\"color: #000080; text-decoration-color: #000080\">│</span>\n",
       "<span style=\"color: #000080; text-decoration-color: #000080\">│</span> <span style=\"color: #008000; text-decoration-color: #008000\">Expected Output Columns: raw_keywords</span>                                                                           <span style=\"color: #000080; text-decoration-color: #000080\">│</span>\n",
       "<span style=\"color: #000080; text-decoration-color: #000080\">╰─────────────────────────────────────────────────────────────────────────────────────────────────────────────────╯</span>\n",
       "</pre>\n"
      ],
      "text/plain": [
       "\u001b[34m╭─\u001b[0m\u001b[34m──────────────────────────────────────────────\u001b[0m\u001b[34m \u001b[0m\u001b[1;34mgenerate_keywords\u001b[0m\u001b[34m \u001b[0m\u001b[34m──────────────────────────────────────────────\u001b[0m\u001b[34m─╮\u001b[0m\n",
       "\u001b[34m│\u001b[0m \u001b[1;34m📊 Processing Input Data\u001b[0m                                                                                        \u001b[34m│\u001b[0m\n",
       "\u001b[34m│\u001b[0m \u001b[36mBlock Type: LLMChatBlock\u001b[0m                                                                                        \u001b[34m│\u001b[0m\n",
       "\u001b[34m│\u001b[0m \u001b[1;36mInput Rows: 50\u001b[0m                                                                                                  \u001b[34m│\u001b[0m\n",
       "\u001b[34m│\u001b[0m \u001b[36mInput Columns: 9\u001b[0m                                                                                                \u001b[34m│\u001b[0m\n",
       "\u001b[34m│\u001b[0m \u001b[37mColumn Names: Headline, Journalists, Date, Link, text, summary_prompt, raw_summary, summary, keywords_prompt\u001b[0m    \u001b[34m│\u001b[0m\n",
       "\u001b[34m│\u001b[0m \u001b[32mExpected Output Columns: raw_keywords\u001b[0m                                                                           \u001b[34m│\u001b[0m\n",
       "\u001b[34m╰─────────────────────────────────────────────────────────────────────────────────────────────────────────────────╯\u001b[0m\n"
      ]
     },
     "metadata": {},
     "output_type": "display_data"
    },
    {
     "data": {
      "text/html": [
       "<pre style=\"white-space:pre;overflow-x:auto;line-height:normal;font-family:Menlo,'DejaVu Sans Mono',consolas,'Courier New',monospace\"><span style=\"color: #7fbfbf; text-decoration-color: #7fbfbf\">           </span><span style=\"color: #000080; text-decoration-color: #000080\">INFO    </span> Starting async generation for <span style=\"color: #008080; text-decoration-color: #008080; font-weight: bold\">50</span> samples                                  <a href=\"file:///Users/shiv/workspace/sdg_hub/src/sdg_hub/core/blocks/llm/llm_chat_block.py\" target=\"_blank\"><span style=\"color: #7f7f7f; text-decoration-color: #7f7f7f\">llm_chat_block.py</span></a><span style=\"color: #7f7f7f; text-decoration-color: #7f7f7f\">:</span><a href=\"file:///Users/shiv/workspace/sdg_hub/src/sdg_hub/core/blocks/llm/llm_chat_block.py#329\" target=\"_blank\"><span style=\"color: #7f7f7f; text-decoration-color: #7f7f7f\">329</span></a>\n",
       "</pre>\n"
      ],
      "text/plain": [
       "\u001b[2;36m          \u001b[0m\u001b[2;36m \u001b[0m\u001b[34mINFO    \u001b[0m Starting async generation for \u001b[1;36m50\u001b[0m samples                                  \u001b]8;id=792528;file:///Users/shiv/workspace/sdg_hub/src/sdg_hub/core/blocks/llm/llm_chat_block.py\u001b\\\u001b[2mllm_chat_block.py\u001b[0m\u001b]8;;\u001b\\\u001b[2m:\u001b[0m\u001b]8;id=886698;file:///Users/shiv/workspace/sdg_hub/src/sdg_hub/core/blocks/llm/llm_chat_block.py#329\u001b\\\u001b[2m329\u001b[0m\u001b]8;;\u001b\\\n"
      ]
     },
     "metadata": {},
     "output_type": "display_data"
    },
    {
     "data": {
      "text/html": [
       "<pre style=\"white-space:pre;overflow-x:auto;line-height:normal;font-family:Menlo,'DejaVu Sans Mono',consolas,'Courier New',monospace\"><span style=\"color: #7fbfbf; text-decoration-color: #7fbfbf\">[15:18:47] </span><span style=\"color: #000080; text-decoration-color: #000080\">INFO    </span> Generation completed successfully for <span style=\"color: #008080; text-decoration-color: #008080; font-weight: bold\">50</span> samples                          <a href=\"file:///Users/shiv/workspace/sdg_hub/src/sdg_hub/core/blocks/llm/llm_chat_block.py\" target=\"_blank\"><span style=\"color: #7f7f7f; text-decoration-color: #7f7f7f\">llm_chat_block.py</span></a><span style=\"color: #7f7f7f; text-decoration-color: #7f7f7f\">:</span><a href=\"file:///Users/shiv/workspace/sdg_hub/src/sdg_hub/core/blocks/llm/llm_chat_block.py#393\" target=\"_blank\"><span style=\"color: #7f7f7f; text-decoration-color: #7f7f7f\">393</span></a>\n",
       "</pre>\n"
      ],
      "text/plain": [
       "\u001b[2;36m[15:18:47]\u001b[0m\u001b[2;36m \u001b[0m\u001b[34mINFO    \u001b[0m Generation completed successfully for \u001b[1;36m50\u001b[0m samples                          \u001b]8;id=687258;file:///Users/shiv/workspace/sdg_hub/src/sdg_hub/core/blocks/llm/llm_chat_block.py\u001b\\\u001b[2mllm_chat_block.py\u001b[0m\u001b]8;;\u001b\\\u001b[2m:\u001b[0m\u001b]8;id=753528;file:///Users/shiv/workspace/sdg_hub/src/sdg_hub/core/blocks/llm/llm_chat_block.py#393\u001b\\\u001b[2m393\u001b[0m\u001b]8;;\u001b\\\n"
      ]
     },
     "metadata": {},
     "output_type": "display_data"
    },
    {
     "data": {
      "text/html": [
       "<pre style=\"white-space:pre;overflow-x:auto;line-height:normal;font-family:Menlo,'DejaVu Sans Mono',consolas,'Courier New',monospace\"><span style=\"color: #008000; text-decoration-color: #008000\">╭───────────────────────────────────────── </span><span style=\"color: #008000; text-decoration-color: #008000; font-weight: bold\">generate_keywords - Complete</span><span style=\"color: #008000; text-decoration-color: #008000\"> ──────────────────────────────────────────╮</span>\n",
       "<span style=\"color: #008000; text-decoration-color: #008000\">│</span> <span style=\"color: #008000; text-decoration-color: #008000; font-weight: bold\">✅ Processing Complete</span>                                                                                          <span style=\"color: #008000; text-decoration-color: #008000\">│</span>\n",
       "<span style=\"color: #008000; text-decoration-color: #008000\">│</span> <span style=\"color: #008080; text-decoration-color: #008080\">Rows: 50 → 50</span>                                                                                                   <span style=\"color: #008000; text-decoration-color: #008000\">│</span>\n",
       "<span style=\"color: #008000; text-decoration-color: #008000\">│</span> <span style=\"color: #008080; text-decoration-color: #008080\">Columns: 9 → 10</span>                                                                                                 <span style=\"color: #008000; text-decoration-color: #008000\">│</span>\n",
       "<span style=\"color: #008000; text-decoration-color: #008000\">│</span> <span style=\"color: #008000; text-decoration-color: #008000\">🟢 Added: raw_keywords</span>                                                                                          <span style=\"color: #008000; text-decoration-color: #008000\">│</span>\n",
       "<span style=\"color: #008000; text-decoration-color: #008000\">│</span> <span style=\"color: #c0c0c0; text-decoration-color: #c0c0c0\">📋 Final Columns: Date, Headline, Journalists, Link, keywords_prompt, raw_keywords, raw_summary, summary, </span>      <span style=\"color: #008000; text-decoration-color: #008000\">│</span>\n",
       "<span style=\"color: #008000; text-decoration-color: #008000\">│</span> <span style=\"color: #c0c0c0; text-decoration-color: #c0c0c0\">summary_prompt, text</span>                                                                                            <span style=\"color: #008000; text-decoration-color: #008000\">│</span>\n",
       "<span style=\"color: #008000; text-decoration-color: #008000\">╰─────────────────────────────────────────────────────────────────────────────────────────────────────────────────╯</span>\n",
       "</pre>\n"
      ],
      "text/plain": [
       "\u001b[32m╭─\u001b[0m\u001b[32m────────────────────────────────────────\u001b[0m\u001b[32m \u001b[0m\u001b[1;32mgenerate_keywords - Complete\u001b[0m\u001b[32m \u001b[0m\u001b[32m─────────────────────────────────────────\u001b[0m\u001b[32m─╮\u001b[0m\n",
       "\u001b[32m│\u001b[0m \u001b[1;32m✅ Processing Complete\u001b[0m                                                                                          \u001b[32m│\u001b[0m\n",
       "\u001b[32m│\u001b[0m \u001b[36mRows: 50 → 50\u001b[0m                                                                                                   \u001b[32m│\u001b[0m\n",
       "\u001b[32m│\u001b[0m \u001b[36mColumns: 9 → 10\u001b[0m                                                                                                 \u001b[32m│\u001b[0m\n",
       "\u001b[32m│\u001b[0m \u001b[32m🟢 Added: raw_keywords\u001b[0m                                                                                          \u001b[32m│\u001b[0m\n",
       "\u001b[32m│\u001b[0m \u001b[37m📋 Final Columns: Date, Headline, Journalists, Link, keywords_prompt, raw_keywords, raw_summary, summary, \u001b[0m      \u001b[32m│\u001b[0m\n",
       "\u001b[32m│\u001b[0m \u001b[37msummary_prompt, text\u001b[0m                                                                                            \u001b[32m│\u001b[0m\n",
       "\u001b[32m╰─────────────────────────────────────────────────────────────────────────────────────────────────────────────────╯\u001b[0m\n"
      ]
     },
     "metadata": {},
     "output_type": "display_data"
    },
    {
     "data": {
      "text/html": [
       "<pre style=\"white-space:pre;overflow-x:auto;line-height:normal;font-family:Menlo,'DejaVu Sans Mono',consolas,'Courier New',monospace\"><span style=\"color: #7fbfbf; text-decoration-color: #7fbfbf\">[15:18:47] </span><span style=\"color: #000080; text-decoration-color: #000080\">INFO    </span> Block <span style=\"color: #008000; text-decoration-color: #008000\">'generate_keywords'</span> completed successfully: <span style=\"color: #008080; text-decoration-color: #008080; font-weight: bold\">50</span> samples, <span style=\"color: #008080; text-decoration-color: #008080; font-weight: bold\">10</span> columns            <a href=\"file:///Users/shiv/workspace/sdg_hub/src/sdg_hub/core/flow/base.py\" target=\"_blank\"><span style=\"color: #7f7f7f; text-decoration-color: #7f7f7f\">base.py</span></a><span style=\"color: #7f7f7f; text-decoration-color: #7f7f7f\">:</span><a href=\"file:///Users/shiv/workspace/sdg_hub/src/sdg_hub/core/flow/base.py#732\" target=\"_blank\"><span style=\"color: #7f7f7f; text-decoration-color: #7f7f7f\">732</span></a>\n",
       "</pre>\n"
      ],
      "text/plain": [
       "\u001b[2;36m[15:18:47]\u001b[0m\u001b[2;36m \u001b[0m\u001b[34mINFO    \u001b[0m Block \u001b[32m'generate_keywords'\u001b[0m completed successfully: \u001b[1;36m50\u001b[0m samples, \u001b[1;36m10\u001b[0m columns            \u001b]8;id=870196;file:///Users/shiv/workspace/sdg_hub/src/sdg_hub/core/flow/base.py\u001b\\\u001b[2mbase.py\u001b[0m\u001b]8;;\u001b\\\u001b[2m:\u001b[0m\u001b]8;id=522857;file:///Users/shiv/workspace/sdg_hub/src/sdg_hub/core/flow/base.py#732\u001b\\\u001b[2m732\u001b[0m\u001b]8;;\u001b\\\n"
      ]
     },
     "metadata": {},
     "output_type": "display_data"
    },
    {
     "data": {
      "text/html": [
       "<pre style=\"white-space:pre;overflow-x:auto;line-height:normal;font-family:Menlo,'DejaVu Sans Mono',consolas,'Courier New',monospace\"><span style=\"color: #7fbfbf; text-decoration-color: #7fbfbf\">           </span><span style=\"color: #000080; text-decoration-color: #000080\">INFO    </span> Executing block <span style=\"color: #008080; text-decoration-color: #008080; font-weight: bold\">6</span>/<span style=\"color: #008080; text-decoration-color: #008080; font-weight: bold\">16</span>: parse_keywords <span style=\"font-weight: bold\">(</span>TextParserBlock<span style=\"font-weight: bold\">)</span>                              <a href=\"file:///Users/shiv/workspace/sdg_hub/src/sdg_hub/core/flow/base.py\" target=\"_blank\"><span style=\"color: #7f7f7f; text-decoration-color: #7f7f7f\">base.py</span></a><span style=\"color: #7f7f7f; text-decoration-color: #7f7f7f\">:</span><a href=\"file:///Users/shiv/workspace/sdg_hub/src/sdg_hub/core/flow/base.py#670\" target=\"_blank\"><span style=\"color: #7f7f7f; text-decoration-color: #7f7f7f\">670</span></a>\n",
       "</pre>\n"
      ],
      "text/plain": [
       "\u001b[2;36m          \u001b[0m\u001b[2;36m \u001b[0m\u001b[34mINFO    \u001b[0m Executing block \u001b[1;36m6\u001b[0m/\u001b[1;36m16\u001b[0m: parse_keywords \u001b[1m(\u001b[0mTextParserBlock\u001b[1m)\u001b[0m                              \u001b]8;id=971383;file:///Users/shiv/workspace/sdg_hub/src/sdg_hub/core/flow/base.py\u001b\\\u001b[2mbase.py\u001b[0m\u001b]8;;\u001b\\\u001b[2m:\u001b[0m\u001b]8;id=385676;file:///Users/shiv/workspace/sdg_hub/src/sdg_hub/core/flow/base.py#670\u001b\\\u001b[2m670\u001b[0m\u001b]8;;\u001b\\\n"
      ]
     },
     "metadata": {},
     "output_type": "display_data"
    },
    {
     "data": {
      "text/html": [
       "<pre style=\"white-space:pre;overflow-x:auto;line-height:normal;font-family:Menlo,'DejaVu Sans Mono',consolas,'Courier New',monospace\"><span style=\"color: #000080; text-decoration-color: #000080\">╭──────────────────────────────────────────────── </span><span style=\"color: #000080; text-decoration-color: #000080; font-weight: bold\">parse_keywords</span><span style=\"color: #000080; text-decoration-color: #000080\"> ─────────────────────────────────────────────────╮</span>\n",
       "<span style=\"color: #000080; text-decoration-color: #000080\">│</span> <span style=\"color: #000080; text-decoration-color: #000080; font-weight: bold\">📊 Processing Input Data</span>                                                                                        <span style=\"color: #000080; text-decoration-color: #000080\">│</span>\n",
       "<span style=\"color: #000080; text-decoration-color: #000080\">│</span> <span style=\"color: #008080; text-decoration-color: #008080\">Block Type: TextParserBlock</span>                                                                                     <span style=\"color: #000080; text-decoration-color: #000080\">│</span>\n",
       "<span style=\"color: #000080; text-decoration-color: #000080\">│</span> <span style=\"color: #008080; text-decoration-color: #008080; font-weight: bold\">Input Rows: 50</span>                                                                                                  <span style=\"color: #000080; text-decoration-color: #000080\">│</span>\n",
       "<span style=\"color: #000080; text-decoration-color: #000080\">│</span> <span style=\"color: #008080; text-decoration-color: #008080\">Input Columns: 10</span>                                                                                               <span style=\"color: #000080; text-decoration-color: #000080\">│</span>\n",
       "<span style=\"color: #000080; text-decoration-color: #000080\">│</span> <span style=\"color: #c0c0c0; text-decoration-color: #c0c0c0\">Column Names: Headline, Journalists, Date, Link, text, summary_prompt, raw_summary, summary, keywords_prompt, </span>  <span style=\"color: #000080; text-decoration-color: #000080\">│</span>\n",
       "<span style=\"color: #000080; text-decoration-color: #000080\">│</span> <span style=\"color: #c0c0c0; text-decoration-color: #c0c0c0\">raw_keywords</span>                                                                                                    <span style=\"color: #000080; text-decoration-color: #000080\">│</span>\n",
       "<span style=\"color: #000080; text-decoration-color: #000080\">│</span> <span style=\"color: #008000; text-decoration-color: #008000\">Expected Output Columns: keywords</span>                                                                               <span style=\"color: #000080; text-decoration-color: #000080\">│</span>\n",
       "<span style=\"color: #000080; text-decoration-color: #000080\">╰─────────────────────────────────────────────────────────────────────────────────────────────────────────────────╯</span>\n",
       "</pre>\n"
      ],
      "text/plain": [
       "\u001b[34m╭─\u001b[0m\u001b[34m───────────────────────────────────────────────\u001b[0m\u001b[34m \u001b[0m\u001b[1;34mparse_keywords\u001b[0m\u001b[34m \u001b[0m\u001b[34m────────────────────────────────────────────────\u001b[0m\u001b[34m─╮\u001b[0m\n",
       "\u001b[34m│\u001b[0m \u001b[1;34m📊 Processing Input Data\u001b[0m                                                                                        \u001b[34m│\u001b[0m\n",
       "\u001b[34m│\u001b[0m \u001b[36mBlock Type: TextParserBlock\u001b[0m                                                                                     \u001b[34m│\u001b[0m\n",
       "\u001b[34m│\u001b[0m \u001b[1;36mInput Rows: 50\u001b[0m                                                                                                  \u001b[34m│\u001b[0m\n",
       "\u001b[34m│\u001b[0m \u001b[36mInput Columns: 10\u001b[0m                                                                                               \u001b[34m│\u001b[0m\n",
       "\u001b[34m│\u001b[0m \u001b[37mColumn Names: Headline, Journalists, Date, Link, text, summary_prompt, raw_summary, summary, keywords_prompt, \u001b[0m  \u001b[34m│\u001b[0m\n",
       "\u001b[34m│\u001b[0m \u001b[37mraw_keywords\u001b[0m                                                                                                    \u001b[34m│\u001b[0m\n",
       "\u001b[34m│\u001b[0m \u001b[32mExpected Output Columns: keywords\u001b[0m                                                                               \u001b[34m│\u001b[0m\n",
       "\u001b[34m╰─────────────────────────────────────────────────────────────────────────────────────────────────────────────────╯\u001b[0m\n"
      ]
     },
     "metadata": {},
     "output_type": "display_data"
    },
    {
     "data": {
      "text/html": [
       "<pre style=\"white-space:pre;overflow-x:auto;line-height:normal;font-family:Menlo,'DejaVu Sans Mono',consolas,'Courier New',monospace\"><span style=\"color: #008000; text-decoration-color: #008000\">╭─────────────────────────────────────────── </span><span style=\"color: #008000; text-decoration-color: #008000; font-weight: bold\">parse_keywords - Complete</span><span style=\"color: #008000; text-decoration-color: #008000\"> ───────────────────────────────────────────╮</span>\n",
       "<span style=\"color: #008000; text-decoration-color: #008000\">│</span> <span style=\"color: #008000; text-decoration-color: #008000; font-weight: bold\">✅ Processing Complete</span>                                                                                          <span style=\"color: #008000; text-decoration-color: #008000\">│</span>\n",
       "<span style=\"color: #008000; text-decoration-color: #008000\">│</span> <span style=\"color: #008080; text-decoration-color: #008080\">Rows: 50 → 50</span>                                                                                                   <span style=\"color: #008000; text-decoration-color: #008000\">│</span>\n",
       "<span style=\"color: #008000; text-decoration-color: #008000\">│</span> <span style=\"color: #008080; text-decoration-color: #008080\">Columns: 10 → 11</span>                                                                                                <span style=\"color: #008000; text-decoration-color: #008000\">│</span>\n",
       "<span style=\"color: #008000; text-decoration-color: #008000\">│</span> <span style=\"color: #008000; text-decoration-color: #008000\">🟢 Added: keywords</span>                                                                                              <span style=\"color: #008000; text-decoration-color: #008000\">│</span>\n",
       "<span style=\"color: #008000; text-decoration-color: #008000\">│</span> <span style=\"color: #c0c0c0; text-decoration-color: #c0c0c0\">📋 Final Columns: Date, Headline, Journalists, Link, keywords, keywords_prompt, raw_keywords, raw_summary, </span>     <span style=\"color: #008000; text-decoration-color: #008000\">│</span>\n",
       "<span style=\"color: #008000; text-decoration-color: #008000\">│</span> <span style=\"color: #c0c0c0; text-decoration-color: #c0c0c0\">summary, summary_prompt, text</span>                                                                                   <span style=\"color: #008000; text-decoration-color: #008000\">│</span>\n",
       "<span style=\"color: #008000; text-decoration-color: #008000\">╰─────────────────────────────────────────────────────────────────────────────────────────────────────────────────╯</span>\n",
       "</pre>\n"
      ],
      "text/plain": [
       "\u001b[32m╭─\u001b[0m\u001b[32m──────────────────────────────────────────\u001b[0m\u001b[32m \u001b[0m\u001b[1;32mparse_keywords - Complete\u001b[0m\u001b[32m \u001b[0m\u001b[32m──────────────────────────────────────────\u001b[0m\u001b[32m─╮\u001b[0m\n",
       "\u001b[32m│\u001b[0m \u001b[1;32m✅ Processing Complete\u001b[0m                                                                                          \u001b[32m│\u001b[0m\n",
       "\u001b[32m│\u001b[0m \u001b[36mRows: 50 → 50\u001b[0m                                                                                                   \u001b[32m│\u001b[0m\n",
       "\u001b[32m│\u001b[0m \u001b[36mColumns: 10 → 11\u001b[0m                                                                                                \u001b[32m│\u001b[0m\n",
       "\u001b[32m│\u001b[0m \u001b[32m🟢 Added: keywords\u001b[0m                                                                                              \u001b[32m│\u001b[0m\n",
       "\u001b[32m│\u001b[0m \u001b[37m📋 Final Columns: Date, Headline, Journalists, Link, keywords, keywords_prompt, raw_keywords, raw_summary, \u001b[0m     \u001b[32m│\u001b[0m\n",
       "\u001b[32m│\u001b[0m \u001b[37msummary, summary_prompt, text\u001b[0m                                                                                   \u001b[32m│\u001b[0m\n",
       "\u001b[32m╰─────────────────────────────────────────────────────────────────────────────────────────────────────────────────╯\u001b[0m\n"
      ]
     },
     "metadata": {},
     "output_type": "display_data"
    },
    {
     "data": {
      "text/html": [
       "<pre style=\"white-space:pre;overflow-x:auto;line-height:normal;font-family:Menlo,'DejaVu Sans Mono',consolas,'Courier New',monospace\"><span style=\"color: #7fbfbf; text-decoration-color: #7fbfbf\">           </span><span style=\"color: #000080; text-decoration-color: #000080\">INFO    </span> Block <span style=\"color: #008000; text-decoration-color: #008000\">'parse_keywords'</span> completed successfully: <span style=\"color: #008080; text-decoration-color: #008080; font-weight: bold\">50</span> samples, <span style=\"color: #008080; text-decoration-color: #008080; font-weight: bold\">11</span> columns               <a href=\"file:///Users/shiv/workspace/sdg_hub/src/sdg_hub/core/flow/base.py\" target=\"_blank\"><span style=\"color: #7f7f7f; text-decoration-color: #7f7f7f\">base.py</span></a><span style=\"color: #7f7f7f; text-decoration-color: #7f7f7f\">:</span><a href=\"file:///Users/shiv/workspace/sdg_hub/src/sdg_hub/core/flow/base.py#732\" target=\"_blank\"><span style=\"color: #7f7f7f; text-decoration-color: #7f7f7f\">732</span></a>\n",
       "</pre>\n"
      ],
      "text/plain": [
       "\u001b[2;36m          \u001b[0m\u001b[2;36m \u001b[0m\u001b[34mINFO    \u001b[0m Block \u001b[32m'parse_keywords'\u001b[0m completed successfully: \u001b[1;36m50\u001b[0m samples, \u001b[1;36m11\u001b[0m columns               \u001b]8;id=723522;file:///Users/shiv/workspace/sdg_hub/src/sdg_hub/core/flow/base.py\u001b\\\u001b[2mbase.py\u001b[0m\u001b]8;;\u001b\\\u001b[2m:\u001b[0m\u001b]8;id=810460;file:///Users/shiv/workspace/sdg_hub/src/sdg_hub/core/flow/base.py#732\u001b\\\u001b[2m732\u001b[0m\u001b]8;;\u001b\\\n"
      ]
     },
     "metadata": {},
     "output_type": "display_data"
    },
    {
     "data": {
      "text/html": [
       "<pre style=\"white-space:pre;overflow-x:auto;line-height:normal;font-family:Menlo,'DejaVu Sans Mono',consolas,'Courier New',monospace\"><span style=\"color: #7fbfbf; text-decoration-color: #7fbfbf\">           </span><span style=\"color: #000080; text-decoration-color: #000080\">INFO    </span> Executing block <span style=\"color: #008080; text-decoration-color: #008080; font-weight: bold\">7</span>/<span style=\"color: #008080; text-decoration-color: #008080; font-weight: bold\">16</span>: build_entities_prompt <span style=\"font-weight: bold\">(</span>PromptBuilderBlock<span style=\"font-weight: bold\">)</span>                    <a href=\"file:///Users/shiv/workspace/sdg_hub/src/sdg_hub/core/flow/base.py\" target=\"_blank\"><span style=\"color: #7f7f7f; text-decoration-color: #7f7f7f\">base.py</span></a><span style=\"color: #7f7f7f; text-decoration-color: #7f7f7f\">:</span><a href=\"file:///Users/shiv/workspace/sdg_hub/src/sdg_hub/core/flow/base.py#670\" target=\"_blank\"><span style=\"color: #7f7f7f; text-decoration-color: #7f7f7f\">670</span></a>\n",
       "</pre>\n"
      ],
      "text/plain": [
       "\u001b[2;36m          \u001b[0m\u001b[2;36m \u001b[0m\u001b[34mINFO    \u001b[0m Executing block \u001b[1;36m7\u001b[0m/\u001b[1;36m16\u001b[0m: build_entities_prompt \u001b[1m(\u001b[0mPromptBuilderBlock\u001b[1m)\u001b[0m                    \u001b]8;id=183892;file:///Users/shiv/workspace/sdg_hub/src/sdg_hub/core/flow/base.py\u001b\\\u001b[2mbase.py\u001b[0m\u001b]8;;\u001b\\\u001b[2m:\u001b[0m\u001b]8;id=112775;file:///Users/shiv/workspace/sdg_hub/src/sdg_hub/core/flow/base.py#670\u001b\\\u001b[2m670\u001b[0m\u001b]8;;\u001b\\\n"
      ]
     },
     "metadata": {},
     "output_type": "display_data"
    },
    {
     "data": {
      "text/html": [
       "<pre style=\"white-space:pre;overflow-x:auto;line-height:normal;font-family:Menlo,'DejaVu Sans Mono',consolas,'Courier New',monospace\"><span style=\"color: #000080; text-decoration-color: #000080\">╭───────────────────────────────────────────── </span><span style=\"color: #000080; text-decoration-color: #000080; font-weight: bold\">build_entities_prompt</span><span style=\"color: #000080; text-decoration-color: #000080\"> ─────────────────────────────────────────────╮</span>\n",
       "<span style=\"color: #000080; text-decoration-color: #000080\">│</span> <span style=\"color: #000080; text-decoration-color: #000080; font-weight: bold\">📊 Processing Input Data</span>                                                                                        <span style=\"color: #000080; text-decoration-color: #000080\">│</span>\n",
       "<span style=\"color: #000080; text-decoration-color: #000080\">│</span> <span style=\"color: #008080; text-decoration-color: #008080\">Block Type: PromptBuilderBlock</span>                                                                                  <span style=\"color: #000080; text-decoration-color: #000080\">│</span>\n",
       "<span style=\"color: #000080; text-decoration-color: #000080\">│</span> <span style=\"color: #008080; text-decoration-color: #008080; font-weight: bold\">Input Rows: 50</span>                                                                                                  <span style=\"color: #000080; text-decoration-color: #000080\">│</span>\n",
       "<span style=\"color: #000080; text-decoration-color: #000080\">│</span> <span style=\"color: #008080; text-decoration-color: #008080\">Input Columns: 11</span>                                                                                               <span style=\"color: #000080; text-decoration-color: #000080\">│</span>\n",
       "<span style=\"color: #000080; text-decoration-color: #000080\">│</span> <span style=\"color: #c0c0c0; text-decoration-color: #c0c0c0\">Column Names: Headline, Journalists, Date, Link, text, summary_prompt, raw_summary, summary, keywords_prompt, </span>  <span style=\"color: #000080; text-decoration-color: #000080\">│</span>\n",
       "<span style=\"color: #000080; text-decoration-color: #000080\">│</span> <span style=\"color: #c0c0c0; text-decoration-color: #c0c0c0\">raw_keywords, keywords</span>                                                                                          <span style=\"color: #000080; text-decoration-color: #000080\">│</span>\n",
       "<span style=\"color: #000080; text-decoration-color: #000080\">│</span> <span style=\"color: #008000; text-decoration-color: #008000\">Expected Output Columns: entities_prompt</span>                                                                        <span style=\"color: #000080; text-decoration-color: #000080\">│</span>\n",
       "<span style=\"color: #000080; text-decoration-color: #000080\">╰─────────────────────────────────────────────────────────────────────────────────────────────────────────────────╯</span>\n",
       "</pre>\n"
      ],
      "text/plain": [
       "\u001b[34m╭─\u001b[0m\u001b[34m────────────────────────────────────────────\u001b[0m\u001b[34m \u001b[0m\u001b[1;34mbuild_entities_prompt\u001b[0m\u001b[34m \u001b[0m\u001b[34m────────────────────────────────────────────\u001b[0m\u001b[34m─╮\u001b[0m\n",
       "\u001b[34m│\u001b[0m \u001b[1;34m📊 Processing Input Data\u001b[0m                                                                                        \u001b[34m│\u001b[0m\n",
       "\u001b[34m│\u001b[0m \u001b[36mBlock Type: PromptBuilderBlock\u001b[0m                                                                                  \u001b[34m│\u001b[0m\n",
       "\u001b[34m│\u001b[0m \u001b[1;36mInput Rows: 50\u001b[0m                                                                                                  \u001b[34m│\u001b[0m\n",
       "\u001b[34m│\u001b[0m \u001b[36mInput Columns: 11\u001b[0m                                                                                               \u001b[34m│\u001b[0m\n",
       "\u001b[34m│\u001b[0m \u001b[37mColumn Names: Headline, Journalists, Date, Link, text, summary_prompt, raw_summary, summary, keywords_prompt, \u001b[0m  \u001b[34m│\u001b[0m\n",
       "\u001b[34m│\u001b[0m \u001b[37mraw_keywords, keywords\u001b[0m                                                                                          \u001b[34m│\u001b[0m\n",
       "\u001b[34m│\u001b[0m \u001b[32mExpected Output Columns: entities_prompt\u001b[0m                                                                        \u001b[34m│\u001b[0m\n",
       "\u001b[34m╰─────────────────────────────────────────────────────────────────────────────────────────────────────────────────╯\u001b[0m\n"
      ]
     },
     "metadata": {},
     "output_type": "display_data"
    },
    {
     "name": "stderr",
     "output_type": "stream",
     "text": [
      "Map: 100%|██████████| 50/50 [00:00<00:00, 5690.28 examples/s]\n"
     ]
    },
    {
     "data": {
      "text/html": [
       "<pre style=\"white-space:pre;overflow-x:auto;line-height:normal;font-family:Menlo,'DejaVu Sans Mono',consolas,'Courier New',monospace\"><span style=\"color: #008000; text-decoration-color: #008000\">╭─────────────────────────────────────── </span><span style=\"color: #008000; text-decoration-color: #008000; font-weight: bold\">build_entities_prompt - Complete</span><span style=\"color: #008000; text-decoration-color: #008000\"> ────────────────────────────────────────╮</span>\n",
       "<span style=\"color: #008000; text-decoration-color: #008000\">│</span> <span style=\"color: #008000; text-decoration-color: #008000; font-weight: bold\">✅ Processing Complete</span>                                                                                          <span style=\"color: #008000; text-decoration-color: #008000\">│</span>\n",
       "<span style=\"color: #008000; text-decoration-color: #008000\">│</span> <span style=\"color: #008080; text-decoration-color: #008080\">Rows: 50 → 50</span>                                                                                                   <span style=\"color: #008000; text-decoration-color: #008000\">│</span>\n",
       "<span style=\"color: #008000; text-decoration-color: #008000\">│</span> <span style=\"color: #008080; text-decoration-color: #008080\">Columns: 11 → 12</span>                                                                                                <span style=\"color: #008000; text-decoration-color: #008000\">│</span>\n",
       "<span style=\"color: #008000; text-decoration-color: #008000\">│</span> <span style=\"color: #008000; text-decoration-color: #008000\">🟢 Added: entities_prompt</span>                                                                                       <span style=\"color: #008000; text-decoration-color: #008000\">│</span>\n",
       "<span style=\"color: #008000; text-decoration-color: #008000\">│</span> <span style=\"color: #c0c0c0; text-decoration-color: #c0c0c0\">📋 Final Columns: Date, Headline, Journalists, Link, entities_prompt, keywords, keywords_prompt, raw_keywords, </span> <span style=\"color: #008000; text-decoration-color: #008000\">│</span>\n",
       "<span style=\"color: #008000; text-decoration-color: #008000\">│</span> <span style=\"color: #c0c0c0; text-decoration-color: #c0c0c0\">raw_summary, summary, summary_prompt, text</span>                                                                      <span style=\"color: #008000; text-decoration-color: #008000\">│</span>\n",
       "<span style=\"color: #008000; text-decoration-color: #008000\">╰─────────────────────────────────────────────────────────────────────────────────────────────────────────────────╯</span>\n",
       "</pre>\n"
      ],
      "text/plain": [
       "\u001b[32m╭─\u001b[0m\u001b[32m──────────────────────────────────────\u001b[0m\u001b[32m \u001b[0m\u001b[1;32mbuild_entities_prompt - Complete\u001b[0m\u001b[32m \u001b[0m\u001b[32m───────────────────────────────────────\u001b[0m\u001b[32m─╮\u001b[0m\n",
       "\u001b[32m│\u001b[0m \u001b[1;32m✅ Processing Complete\u001b[0m                                                                                          \u001b[32m│\u001b[0m\n",
       "\u001b[32m│\u001b[0m \u001b[36mRows: 50 → 50\u001b[0m                                                                                                   \u001b[32m│\u001b[0m\n",
       "\u001b[32m│\u001b[0m \u001b[36mColumns: 11 → 12\u001b[0m                                                                                                \u001b[32m│\u001b[0m\n",
       "\u001b[32m│\u001b[0m \u001b[32m🟢 Added: entities_prompt\u001b[0m                                                                                       \u001b[32m│\u001b[0m\n",
       "\u001b[32m│\u001b[0m \u001b[37m📋 Final Columns: Date, Headline, Journalists, Link, entities_prompt, keywords, keywords_prompt, raw_keywords, \u001b[0m \u001b[32m│\u001b[0m\n",
       "\u001b[32m│\u001b[0m \u001b[37mraw_summary, summary, summary_prompt, text\u001b[0m                                                                      \u001b[32m│\u001b[0m\n",
       "\u001b[32m╰─────────────────────────────────────────────────────────────────────────────────────────────────────────────────╯\u001b[0m\n"
      ]
     },
     "metadata": {},
     "output_type": "display_data"
    },
    {
     "data": {
      "text/html": [
       "<pre style=\"white-space:pre;overflow-x:auto;line-height:normal;font-family:Menlo,'DejaVu Sans Mono',consolas,'Courier New',monospace\"><span style=\"color: #7fbfbf; text-decoration-color: #7fbfbf\">           </span><span style=\"color: #000080; text-decoration-color: #000080\">INFO    </span> Block <span style=\"color: #008000; text-decoration-color: #008000\">'build_entities_prompt'</span> completed successfully: <span style=\"color: #008080; text-decoration-color: #008080; font-weight: bold\">50</span> samples, <span style=\"color: #008080; text-decoration-color: #008080; font-weight: bold\">12</span> columns        <a href=\"file:///Users/shiv/workspace/sdg_hub/src/sdg_hub/core/flow/base.py\" target=\"_blank\"><span style=\"color: #7f7f7f; text-decoration-color: #7f7f7f\">base.py</span></a><span style=\"color: #7f7f7f; text-decoration-color: #7f7f7f\">:</span><a href=\"file:///Users/shiv/workspace/sdg_hub/src/sdg_hub/core/flow/base.py#732\" target=\"_blank\"><span style=\"color: #7f7f7f; text-decoration-color: #7f7f7f\">732</span></a>\n",
       "</pre>\n"
      ],
      "text/plain": [
       "\u001b[2;36m          \u001b[0m\u001b[2;36m \u001b[0m\u001b[34mINFO    \u001b[0m Block \u001b[32m'build_entities_prompt'\u001b[0m completed successfully: \u001b[1;36m50\u001b[0m samples, \u001b[1;36m12\u001b[0m columns        \u001b]8;id=908954;file:///Users/shiv/workspace/sdg_hub/src/sdg_hub/core/flow/base.py\u001b\\\u001b[2mbase.py\u001b[0m\u001b]8;;\u001b\\\u001b[2m:\u001b[0m\u001b]8;id=502369;file:///Users/shiv/workspace/sdg_hub/src/sdg_hub/core/flow/base.py#732\u001b\\\u001b[2m732\u001b[0m\u001b]8;;\u001b\\\n"
      ]
     },
     "metadata": {},
     "output_type": "display_data"
    },
    {
     "data": {
      "text/html": [
       "<pre style=\"white-space:pre;overflow-x:auto;line-height:normal;font-family:Menlo,'DejaVu Sans Mono',consolas,'Courier New',monospace\"><span style=\"color: #7fbfbf; text-decoration-color: #7fbfbf\">           </span><span style=\"color: #000080; text-decoration-color: #000080\">INFO    </span> Executing block <span style=\"color: #008080; text-decoration-color: #008080; font-weight: bold\">8</span>/<span style=\"color: #008080; text-decoration-color: #008080; font-weight: bold\">16</span>: generate_entities <span style=\"font-weight: bold\">(</span>LLMChatBlock<span style=\"font-weight: bold\">)</span>                              <a href=\"file:///Users/shiv/workspace/sdg_hub/src/sdg_hub/core/flow/base.py\" target=\"_blank\"><span style=\"color: #7f7f7f; text-decoration-color: #7f7f7f\">base.py</span></a><span style=\"color: #7f7f7f; text-decoration-color: #7f7f7f\">:</span><a href=\"file:///Users/shiv/workspace/sdg_hub/src/sdg_hub/core/flow/base.py#670\" target=\"_blank\"><span style=\"color: #7f7f7f; text-decoration-color: #7f7f7f\">670</span></a>\n",
       "</pre>\n"
      ],
      "text/plain": [
       "\u001b[2;36m          \u001b[0m\u001b[2;36m \u001b[0m\u001b[34mINFO    \u001b[0m Executing block \u001b[1;36m8\u001b[0m/\u001b[1;36m16\u001b[0m: generate_entities \u001b[1m(\u001b[0mLLMChatBlock\u001b[1m)\u001b[0m                              \u001b]8;id=245172;file:///Users/shiv/workspace/sdg_hub/src/sdg_hub/core/flow/base.py\u001b\\\u001b[2mbase.py\u001b[0m\u001b]8;;\u001b\\\u001b[2m:\u001b[0m\u001b]8;id=974285;file:///Users/shiv/workspace/sdg_hub/src/sdg_hub/core/flow/base.py#670\u001b\\\u001b[2m670\u001b[0m\u001b]8;;\u001b\\\n"
      ]
     },
     "metadata": {},
     "output_type": "display_data"
    },
    {
     "data": {
      "text/html": [
       "<pre style=\"white-space:pre;overflow-x:auto;line-height:normal;font-family:Menlo,'DejaVu Sans Mono',consolas,'Courier New',monospace\"><span style=\"color: #000080; text-decoration-color: #000080\">╭─────────────────────────────────────────────── </span><span style=\"color: #000080; text-decoration-color: #000080; font-weight: bold\">generate_entities</span><span style=\"color: #000080; text-decoration-color: #000080\"> ───────────────────────────────────────────────╮</span>\n",
       "<span style=\"color: #000080; text-decoration-color: #000080\">│</span> <span style=\"color: #000080; text-decoration-color: #000080; font-weight: bold\">📊 Processing Input Data</span>                                                                                        <span style=\"color: #000080; text-decoration-color: #000080\">│</span>\n",
       "<span style=\"color: #000080; text-decoration-color: #000080\">│</span> <span style=\"color: #008080; text-decoration-color: #008080\">Block Type: LLMChatBlock</span>                                                                                        <span style=\"color: #000080; text-decoration-color: #000080\">│</span>\n",
       "<span style=\"color: #000080; text-decoration-color: #000080\">│</span> <span style=\"color: #008080; text-decoration-color: #008080; font-weight: bold\">Input Rows: 50</span>                                                                                                  <span style=\"color: #000080; text-decoration-color: #000080\">│</span>\n",
       "<span style=\"color: #000080; text-decoration-color: #000080\">│</span> <span style=\"color: #008080; text-decoration-color: #008080\">Input Columns: 12</span>                                                                                               <span style=\"color: #000080; text-decoration-color: #000080\">│</span>\n",
       "<span style=\"color: #000080; text-decoration-color: #000080\">│</span> <span style=\"color: #c0c0c0; text-decoration-color: #c0c0c0\">Column Names: Headline, Journalists, Date, Link, text, summary_prompt, raw_summary, summary, keywords_prompt, </span>  <span style=\"color: #000080; text-decoration-color: #000080\">│</span>\n",
       "<span style=\"color: #000080; text-decoration-color: #000080\">│</span> <span style=\"color: #c0c0c0; text-decoration-color: #c0c0c0\">raw_keywords, keywords, entities_prompt</span>                                                                         <span style=\"color: #000080; text-decoration-color: #000080\">│</span>\n",
       "<span style=\"color: #000080; text-decoration-color: #000080\">│</span> <span style=\"color: #008000; text-decoration-color: #008000\">Expected Output Columns: raw_entities</span>                                                                           <span style=\"color: #000080; text-decoration-color: #000080\">│</span>\n",
       "<span style=\"color: #000080; text-decoration-color: #000080\">╰─────────────────────────────────────────────────────────────────────────────────────────────────────────────────╯</span>\n",
       "</pre>\n"
      ],
      "text/plain": [
       "\u001b[34m╭─\u001b[0m\u001b[34m──────────────────────────────────────────────\u001b[0m\u001b[34m \u001b[0m\u001b[1;34mgenerate_entities\u001b[0m\u001b[34m \u001b[0m\u001b[34m──────────────────────────────────────────────\u001b[0m\u001b[34m─╮\u001b[0m\n",
       "\u001b[34m│\u001b[0m \u001b[1;34m📊 Processing Input Data\u001b[0m                                                                                        \u001b[34m│\u001b[0m\n",
       "\u001b[34m│\u001b[0m \u001b[36mBlock Type: LLMChatBlock\u001b[0m                                                                                        \u001b[34m│\u001b[0m\n",
       "\u001b[34m│\u001b[0m \u001b[1;36mInput Rows: 50\u001b[0m                                                                                                  \u001b[34m│\u001b[0m\n",
       "\u001b[34m│\u001b[0m \u001b[36mInput Columns: 12\u001b[0m                                                                                               \u001b[34m│\u001b[0m\n",
       "\u001b[34m│\u001b[0m \u001b[37mColumn Names: Headline, Journalists, Date, Link, text, summary_prompt, raw_summary, summary, keywords_prompt, \u001b[0m  \u001b[34m│\u001b[0m\n",
       "\u001b[34m│\u001b[0m \u001b[37mraw_keywords, keywords, entities_prompt\u001b[0m                                                                         \u001b[34m│\u001b[0m\n",
       "\u001b[34m│\u001b[0m \u001b[32mExpected Output Columns: raw_entities\u001b[0m                                                                           \u001b[34m│\u001b[0m\n",
       "\u001b[34m╰─────────────────────────────────────────────────────────────────────────────────────────────────────────────────╯\u001b[0m\n"
      ]
     },
     "metadata": {},
     "output_type": "display_data"
    },
    {
     "data": {
      "text/html": [
       "<pre style=\"white-space:pre;overflow-x:auto;line-height:normal;font-family:Menlo,'DejaVu Sans Mono',consolas,'Courier New',monospace\"><span style=\"color: #7fbfbf; text-decoration-color: #7fbfbf\">           </span><span style=\"color: #000080; text-decoration-color: #000080\">INFO    </span> Starting async generation for <span style=\"color: #008080; text-decoration-color: #008080; font-weight: bold\">50</span> samples                                  <a href=\"file:///Users/shiv/workspace/sdg_hub/src/sdg_hub/core/blocks/llm/llm_chat_block.py\" target=\"_blank\"><span style=\"color: #7f7f7f; text-decoration-color: #7f7f7f\">llm_chat_block.py</span></a><span style=\"color: #7f7f7f; text-decoration-color: #7f7f7f\">:</span><a href=\"file:///Users/shiv/workspace/sdg_hub/src/sdg_hub/core/blocks/llm/llm_chat_block.py#329\" target=\"_blank\"><span style=\"color: #7f7f7f; text-decoration-color: #7f7f7f\">329</span></a>\n",
       "</pre>\n"
      ],
      "text/plain": [
       "\u001b[2;36m          \u001b[0m\u001b[2;36m \u001b[0m\u001b[34mINFO    \u001b[0m Starting async generation for \u001b[1;36m50\u001b[0m samples                                  \u001b]8;id=522553;file:///Users/shiv/workspace/sdg_hub/src/sdg_hub/core/blocks/llm/llm_chat_block.py\u001b\\\u001b[2mllm_chat_block.py\u001b[0m\u001b]8;;\u001b\\\u001b[2m:\u001b[0m\u001b]8;id=548799;file:///Users/shiv/workspace/sdg_hub/src/sdg_hub/core/blocks/llm/llm_chat_block.py#329\u001b\\\u001b[2m329\u001b[0m\u001b]8;;\u001b\\\n"
      ]
     },
     "metadata": {},
     "output_type": "display_data"
    },
    {
     "data": {
      "text/html": [
       "<pre style=\"white-space:pre;overflow-x:auto;line-height:normal;font-family:Menlo,'DejaVu Sans Mono',consolas,'Courier New',monospace\"><span style=\"color: #7fbfbf; text-decoration-color: #7fbfbf\">[15:18:51] </span><span style=\"color: #000080; text-decoration-color: #000080\">INFO    </span> Generation completed successfully for <span style=\"color: #008080; text-decoration-color: #008080; font-weight: bold\">50</span> samples                          <a href=\"file:///Users/shiv/workspace/sdg_hub/src/sdg_hub/core/blocks/llm/llm_chat_block.py\" target=\"_blank\"><span style=\"color: #7f7f7f; text-decoration-color: #7f7f7f\">llm_chat_block.py</span></a><span style=\"color: #7f7f7f; text-decoration-color: #7f7f7f\">:</span><a href=\"file:///Users/shiv/workspace/sdg_hub/src/sdg_hub/core/blocks/llm/llm_chat_block.py#393\" target=\"_blank\"><span style=\"color: #7f7f7f; text-decoration-color: #7f7f7f\">393</span></a>\n",
       "</pre>\n"
      ],
      "text/plain": [
       "\u001b[2;36m[15:18:51]\u001b[0m\u001b[2;36m \u001b[0m\u001b[34mINFO    \u001b[0m Generation completed successfully for \u001b[1;36m50\u001b[0m samples                          \u001b]8;id=833223;file:///Users/shiv/workspace/sdg_hub/src/sdg_hub/core/blocks/llm/llm_chat_block.py\u001b\\\u001b[2mllm_chat_block.py\u001b[0m\u001b]8;;\u001b\\\u001b[2m:\u001b[0m\u001b]8;id=289807;file:///Users/shiv/workspace/sdg_hub/src/sdg_hub/core/blocks/llm/llm_chat_block.py#393\u001b\\\u001b[2m393\u001b[0m\u001b]8;;\u001b\\\n"
      ]
     },
     "metadata": {},
     "output_type": "display_data"
    },
    {
     "data": {
      "text/html": [
       "<pre style=\"white-space:pre;overflow-x:auto;line-height:normal;font-family:Menlo,'DejaVu Sans Mono',consolas,'Courier New',monospace\"><span style=\"color: #008000; text-decoration-color: #008000\">╭───────────────────────────────────────── </span><span style=\"color: #008000; text-decoration-color: #008000; font-weight: bold\">generate_entities - Complete</span><span style=\"color: #008000; text-decoration-color: #008000\"> ──────────────────────────────────────────╮</span>\n",
       "<span style=\"color: #008000; text-decoration-color: #008000\">│</span> <span style=\"color: #008000; text-decoration-color: #008000; font-weight: bold\">✅ Processing Complete</span>                                                                                          <span style=\"color: #008000; text-decoration-color: #008000\">│</span>\n",
       "<span style=\"color: #008000; text-decoration-color: #008000\">│</span> <span style=\"color: #008080; text-decoration-color: #008080\">Rows: 50 → 50</span>                                                                                                   <span style=\"color: #008000; text-decoration-color: #008000\">│</span>\n",
       "<span style=\"color: #008000; text-decoration-color: #008000\">│</span> <span style=\"color: #008080; text-decoration-color: #008080\">Columns: 12 → 13</span>                                                                                                <span style=\"color: #008000; text-decoration-color: #008000\">│</span>\n",
       "<span style=\"color: #008000; text-decoration-color: #008000\">│</span> <span style=\"color: #008000; text-decoration-color: #008000\">🟢 Added: raw_entities</span>                                                                                          <span style=\"color: #008000; text-decoration-color: #008000\">│</span>\n",
       "<span style=\"color: #008000; text-decoration-color: #008000\">│</span> <span style=\"color: #c0c0c0; text-decoration-color: #c0c0c0\">📋 Final Columns: Date, Headline, Journalists, Link, entities_prompt, keywords, keywords_prompt, raw_entities, </span> <span style=\"color: #008000; text-decoration-color: #008000\">│</span>\n",
       "<span style=\"color: #008000; text-decoration-color: #008000\">│</span> <span style=\"color: #c0c0c0; text-decoration-color: #c0c0c0\">raw_keywords, raw_summary, summary, summary_prompt, text</span>                                                        <span style=\"color: #008000; text-decoration-color: #008000\">│</span>\n",
       "<span style=\"color: #008000; text-decoration-color: #008000\">╰─────────────────────────────────────────────────────────────────────────────────────────────────────────────────╯</span>\n",
       "</pre>\n"
      ],
      "text/plain": [
       "\u001b[32m╭─\u001b[0m\u001b[32m────────────────────────────────────────\u001b[0m\u001b[32m \u001b[0m\u001b[1;32mgenerate_entities - Complete\u001b[0m\u001b[32m \u001b[0m\u001b[32m─────────────────────────────────────────\u001b[0m\u001b[32m─╮\u001b[0m\n",
       "\u001b[32m│\u001b[0m \u001b[1;32m✅ Processing Complete\u001b[0m                                                                                          \u001b[32m│\u001b[0m\n",
       "\u001b[32m│\u001b[0m \u001b[36mRows: 50 → 50\u001b[0m                                                                                                   \u001b[32m│\u001b[0m\n",
       "\u001b[32m│\u001b[0m \u001b[36mColumns: 12 → 13\u001b[0m                                                                                                \u001b[32m│\u001b[0m\n",
       "\u001b[32m│\u001b[0m \u001b[32m🟢 Added: raw_entities\u001b[0m                                                                                          \u001b[32m│\u001b[0m\n",
       "\u001b[32m│\u001b[0m \u001b[37m📋 Final Columns: Date, Headline, Journalists, Link, entities_prompt, keywords, keywords_prompt, raw_entities, \u001b[0m \u001b[32m│\u001b[0m\n",
       "\u001b[32m│\u001b[0m \u001b[37mraw_keywords, raw_summary, summary, summary_prompt, text\u001b[0m                                                        \u001b[32m│\u001b[0m\n",
       "\u001b[32m╰─────────────────────────────────────────────────────────────────────────────────────────────────────────────────╯\u001b[0m\n"
      ]
     },
     "metadata": {},
     "output_type": "display_data"
    },
    {
     "data": {
      "text/html": [
       "<pre style=\"white-space:pre;overflow-x:auto;line-height:normal;font-family:Menlo,'DejaVu Sans Mono',consolas,'Courier New',monospace\"><span style=\"color: #7fbfbf; text-decoration-color: #7fbfbf\">[15:18:51] </span><span style=\"color: #000080; text-decoration-color: #000080\">INFO    </span> Block <span style=\"color: #008000; text-decoration-color: #008000\">'generate_entities'</span> completed successfully: <span style=\"color: #008080; text-decoration-color: #008080; font-weight: bold\">50</span> samples, <span style=\"color: #008080; text-decoration-color: #008080; font-weight: bold\">13</span> columns            <a href=\"file:///Users/shiv/workspace/sdg_hub/src/sdg_hub/core/flow/base.py\" target=\"_blank\"><span style=\"color: #7f7f7f; text-decoration-color: #7f7f7f\">base.py</span></a><span style=\"color: #7f7f7f; text-decoration-color: #7f7f7f\">:</span><a href=\"file:///Users/shiv/workspace/sdg_hub/src/sdg_hub/core/flow/base.py#732\" target=\"_blank\"><span style=\"color: #7f7f7f; text-decoration-color: #7f7f7f\">732</span></a>\n",
       "</pre>\n"
      ],
      "text/plain": [
       "\u001b[2;36m[15:18:51]\u001b[0m\u001b[2;36m \u001b[0m\u001b[34mINFO    \u001b[0m Block \u001b[32m'generate_entities'\u001b[0m completed successfully: \u001b[1;36m50\u001b[0m samples, \u001b[1;36m13\u001b[0m columns            \u001b]8;id=718296;file:///Users/shiv/workspace/sdg_hub/src/sdg_hub/core/flow/base.py\u001b\\\u001b[2mbase.py\u001b[0m\u001b]8;;\u001b\\\u001b[2m:\u001b[0m\u001b]8;id=42908;file:///Users/shiv/workspace/sdg_hub/src/sdg_hub/core/flow/base.py#732\u001b\\\u001b[2m732\u001b[0m\u001b]8;;\u001b\\\n"
      ]
     },
     "metadata": {},
     "output_type": "display_data"
    },
    {
     "data": {
      "text/html": [
       "<pre style=\"white-space:pre;overflow-x:auto;line-height:normal;font-family:Menlo,'DejaVu Sans Mono',consolas,'Courier New',monospace\"><span style=\"color: #7fbfbf; text-decoration-color: #7fbfbf\">           </span><span style=\"color: #000080; text-decoration-color: #000080\">INFO    </span> Executing block <span style=\"color: #008080; text-decoration-color: #008080; font-weight: bold\">9</span>/<span style=\"color: #008080; text-decoration-color: #008080; font-weight: bold\">16</span>: parse_entities <span style=\"font-weight: bold\">(</span>TextParserBlock<span style=\"font-weight: bold\">)</span>                              <a href=\"file:///Users/shiv/workspace/sdg_hub/src/sdg_hub/core/flow/base.py\" target=\"_blank\"><span style=\"color: #7f7f7f; text-decoration-color: #7f7f7f\">base.py</span></a><span style=\"color: #7f7f7f; text-decoration-color: #7f7f7f\">:</span><a href=\"file:///Users/shiv/workspace/sdg_hub/src/sdg_hub/core/flow/base.py#670\" target=\"_blank\"><span style=\"color: #7f7f7f; text-decoration-color: #7f7f7f\">670</span></a>\n",
       "</pre>\n"
      ],
      "text/plain": [
       "\u001b[2;36m          \u001b[0m\u001b[2;36m \u001b[0m\u001b[34mINFO    \u001b[0m Executing block \u001b[1;36m9\u001b[0m/\u001b[1;36m16\u001b[0m: parse_entities \u001b[1m(\u001b[0mTextParserBlock\u001b[1m)\u001b[0m                              \u001b]8;id=480885;file:///Users/shiv/workspace/sdg_hub/src/sdg_hub/core/flow/base.py\u001b\\\u001b[2mbase.py\u001b[0m\u001b]8;;\u001b\\\u001b[2m:\u001b[0m\u001b]8;id=638837;file:///Users/shiv/workspace/sdg_hub/src/sdg_hub/core/flow/base.py#670\u001b\\\u001b[2m670\u001b[0m\u001b]8;;\u001b\\\n"
      ]
     },
     "metadata": {},
     "output_type": "display_data"
    },
    {
     "data": {
      "text/html": [
       "<pre style=\"white-space:pre;overflow-x:auto;line-height:normal;font-family:Menlo,'DejaVu Sans Mono',consolas,'Courier New',monospace\"><span style=\"color: #000080; text-decoration-color: #000080\">╭──────────────────────────────────────────────── </span><span style=\"color: #000080; text-decoration-color: #000080; font-weight: bold\">parse_entities</span><span style=\"color: #000080; text-decoration-color: #000080\"> ─────────────────────────────────────────────────╮</span>\n",
       "<span style=\"color: #000080; text-decoration-color: #000080\">│</span> <span style=\"color: #000080; text-decoration-color: #000080; font-weight: bold\">📊 Processing Input Data</span>                                                                                        <span style=\"color: #000080; text-decoration-color: #000080\">│</span>\n",
       "<span style=\"color: #000080; text-decoration-color: #000080\">│</span> <span style=\"color: #008080; text-decoration-color: #008080\">Block Type: TextParserBlock</span>                                                                                     <span style=\"color: #000080; text-decoration-color: #000080\">│</span>\n",
       "<span style=\"color: #000080; text-decoration-color: #000080\">│</span> <span style=\"color: #008080; text-decoration-color: #008080; font-weight: bold\">Input Rows: 50</span>                                                                                                  <span style=\"color: #000080; text-decoration-color: #000080\">│</span>\n",
       "<span style=\"color: #000080; text-decoration-color: #000080\">│</span> <span style=\"color: #008080; text-decoration-color: #008080\">Input Columns: 13</span>                                                                                               <span style=\"color: #000080; text-decoration-color: #000080\">│</span>\n",
       "<span style=\"color: #000080; text-decoration-color: #000080\">│</span> <span style=\"color: #c0c0c0; text-decoration-color: #c0c0c0\">Column Names: Headline, Journalists, Date, Link, text, summary_prompt, raw_summary, summary, keywords_prompt, </span>  <span style=\"color: #000080; text-decoration-color: #000080\">│</span>\n",
       "<span style=\"color: #000080; text-decoration-color: #000080\">│</span> <span style=\"color: #c0c0c0; text-decoration-color: #c0c0c0\">raw_keywords, keywords, entities_prompt, raw_entities</span>                                                           <span style=\"color: #000080; text-decoration-color: #000080\">│</span>\n",
       "<span style=\"color: #000080; text-decoration-color: #000080\">│</span> <span style=\"color: #008000; text-decoration-color: #008000\">Expected Output Columns: entities</span>                                                                               <span style=\"color: #000080; text-decoration-color: #000080\">│</span>\n",
       "<span style=\"color: #000080; text-decoration-color: #000080\">╰─────────────────────────────────────────────────────────────────────────────────────────────────────────────────╯</span>\n",
       "</pre>\n"
      ],
      "text/plain": [
       "\u001b[34m╭─\u001b[0m\u001b[34m───────────────────────────────────────────────\u001b[0m\u001b[34m \u001b[0m\u001b[1;34mparse_entities\u001b[0m\u001b[34m \u001b[0m\u001b[34m────────────────────────────────────────────────\u001b[0m\u001b[34m─╮\u001b[0m\n",
       "\u001b[34m│\u001b[0m \u001b[1;34m📊 Processing Input Data\u001b[0m                                                                                        \u001b[34m│\u001b[0m\n",
       "\u001b[34m│\u001b[0m \u001b[36mBlock Type: TextParserBlock\u001b[0m                                                                                     \u001b[34m│\u001b[0m\n",
       "\u001b[34m│\u001b[0m \u001b[1;36mInput Rows: 50\u001b[0m                                                                                                  \u001b[34m│\u001b[0m\n",
       "\u001b[34m│\u001b[0m \u001b[36mInput Columns: 13\u001b[0m                                                                                               \u001b[34m│\u001b[0m\n",
       "\u001b[34m│\u001b[0m \u001b[37mColumn Names: Headline, Journalists, Date, Link, text, summary_prompt, raw_summary, summary, keywords_prompt, \u001b[0m  \u001b[34m│\u001b[0m\n",
       "\u001b[34m│\u001b[0m \u001b[37mraw_keywords, keywords, entities_prompt, raw_entities\u001b[0m                                                           \u001b[34m│\u001b[0m\n",
       "\u001b[34m│\u001b[0m \u001b[32mExpected Output Columns: entities\u001b[0m                                                                               \u001b[34m│\u001b[0m\n",
       "\u001b[34m╰─────────────────────────────────────────────────────────────────────────────────────────────────────────────────╯\u001b[0m\n"
      ]
     },
     "metadata": {},
     "output_type": "display_data"
    },
    {
     "data": {
      "text/html": [
       "<pre style=\"white-space:pre;overflow-x:auto;line-height:normal;font-family:Menlo,'DejaVu Sans Mono',consolas,'Courier New',monospace\"><span style=\"color: #008000; text-decoration-color: #008000\">╭─────────────────────────────────────────── </span><span style=\"color: #008000; text-decoration-color: #008000; font-weight: bold\">parse_entities - Complete</span><span style=\"color: #008000; text-decoration-color: #008000\"> ───────────────────────────────────────────╮</span>\n",
       "<span style=\"color: #008000; text-decoration-color: #008000\">│</span> <span style=\"color: #008000; text-decoration-color: #008000; font-weight: bold\">✅ Processing Complete</span>                                                                                          <span style=\"color: #008000; text-decoration-color: #008000\">│</span>\n",
       "<span style=\"color: #008000; text-decoration-color: #008000\">│</span> <span style=\"color: #008080; text-decoration-color: #008080\">Rows: 50 → 50</span>                                                                                                   <span style=\"color: #008000; text-decoration-color: #008000\">│</span>\n",
       "<span style=\"color: #008000; text-decoration-color: #008000\">│</span> <span style=\"color: #008080; text-decoration-color: #008080\">Columns: 13 → 14</span>                                                                                                <span style=\"color: #008000; text-decoration-color: #008000\">│</span>\n",
       "<span style=\"color: #008000; text-decoration-color: #008000\">│</span> <span style=\"color: #008000; text-decoration-color: #008000\">🟢 Added: entities</span>                                                                                              <span style=\"color: #008000; text-decoration-color: #008000\">│</span>\n",
       "<span style=\"color: #008000; text-decoration-color: #008000\">│</span> <span style=\"color: #c0c0c0; text-decoration-color: #c0c0c0\">📋 Final Columns: Date, Headline, Journalists, Link, entities, entities_prompt, keywords, keywords_prompt, </span>     <span style=\"color: #008000; text-decoration-color: #008000\">│</span>\n",
       "<span style=\"color: #008000; text-decoration-color: #008000\">│</span> <span style=\"color: #c0c0c0; text-decoration-color: #c0c0c0\">raw_entities, raw_keywords, raw_summary, summary, summary_prompt, text</span>                                          <span style=\"color: #008000; text-decoration-color: #008000\">│</span>\n",
       "<span style=\"color: #008000; text-decoration-color: #008000\">╰─────────────────────────────────────────────────────────────────────────────────────────────────────────────────╯</span>\n",
       "</pre>\n"
      ],
      "text/plain": [
       "\u001b[32m╭─\u001b[0m\u001b[32m──────────────────────────────────────────\u001b[0m\u001b[32m \u001b[0m\u001b[1;32mparse_entities - Complete\u001b[0m\u001b[32m \u001b[0m\u001b[32m──────────────────────────────────────────\u001b[0m\u001b[32m─╮\u001b[0m\n",
       "\u001b[32m│\u001b[0m \u001b[1;32m✅ Processing Complete\u001b[0m                                                                                          \u001b[32m│\u001b[0m\n",
       "\u001b[32m│\u001b[0m \u001b[36mRows: 50 → 50\u001b[0m                                                                                                   \u001b[32m│\u001b[0m\n",
       "\u001b[32m│\u001b[0m \u001b[36mColumns: 13 → 14\u001b[0m                                                                                                \u001b[32m│\u001b[0m\n",
       "\u001b[32m│\u001b[0m \u001b[32m🟢 Added: entities\u001b[0m                                                                                              \u001b[32m│\u001b[0m\n",
       "\u001b[32m│\u001b[0m \u001b[37m📋 Final Columns: Date, Headline, Journalists, Link, entities, entities_prompt, keywords, keywords_prompt, \u001b[0m     \u001b[32m│\u001b[0m\n",
       "\u001b[32m│\u001b[0m \u001b[37mraw_entities, raw_keywords, raw_summary, summary, summary_prompt, text\u001b[0m                                          \u001b[32m│\u001b[0m\n",
       "\u001b[32m╰─────────────────────────────────────────────────────────────────────────────────────────────────────────────────╯\u001b[0m\n"
      ]
     },
     "metadata": {},
     "output_type": "display_data"
    },
    {
     "data": {
      "text/html": [
       "<pre style=\"white-space:pre;overflow-x:auto;line-height:normal;font-family:Menlo,'DejaVu Sans Mono',consolas,'Courier New',monospace\"><span style=\"color: #7fbfbf; text-decoration-color: #7fbfbf\">           </span><span style=\"color: #000080; text-decoration-color: #000080\">INFO    </span> Block <span style=\"color: #008000; text-decoration-color: #008000\">'parse_entities'</span> completed successfully: <span style=\"color: #008080; text-decoration-color: #008080; font-weight: bold\">50</span> samples, <span style=\"color: #008080; text-decoration-color: #008080; font-weight: bold\">14</span> columns               <a href=\"file:///Users/shiv/workspace/sdg_hub/src/sdg_hub/core/flow/base.py\" target=\"_blank\"><span style=\"color: #7f7f7f; text-decoration-color: #7f7f7f\">base.py</span></a><span style=\"color: #7f7f7f; text-decoration-color: #7f7f7f\">:</span><a href=\"file:///Users/shiv/workspace/sdg_hub/src/sdg_hub/core/flow/base.py#732\" target=\"_blank\"><span style=\"color: #7f7f7f; text-decoration-color: #7f7f7f\">732</span></a>\n",
       "</pre>\n"
      ],
      "text/plain": [
       "\u001b[2;36m          \u001b[0m\u001b[2;36m \u001b[0m\u001b[34mINFO    \u001b[0m Block \u001b[32m'parse_entities'\u001b[0m completed successfully: \u001b[1;36m50\u001b[0m samples, \u001b[1;36m14\u001b[0m columns               \u001b]8;id=923728;file:///Users/shiv/workspace/sdg_hub/src/sdg_hub/core/flow/base.py\u001b\\\u001b[2mbase.py\u001b[0m\u001b]8;;\u001b\\\u001b[2m:\u001b[0m\u001b]8;id=909923;file:///Users/shiv/workspace/sdg_hub/src/sdg_hub/core/flow/base.py#732\u001b\\\u001b[2m732\u001b[0m\u001b]8;;\u001b\\\n"
      ]
     },
     "metadata": {},
     "output_type": "display_data"
    },
    {
     "data": {
      "text/html": [
       "<pre style=\"white-space:pre;overflow-x:auto;line-height:normal;font-family:Menlo,'DejaVu Sans Mono',consolas,'Courier New',monospace\"><span style=\"color: #7fbfbf; text-decoration-color: #7fbfbf\">           </span><span style=\"color: #000080; text-decoration-color: #000080\">INFO    </span> Executing block <span style=\"color: #008080; text-decoration-color: #008080; font-weight: bold\">10</span>/<span style=\"color: #008080; text-decoration-color: #008080; font-weight: bold\">16</span>: build_sentiment_prompt <span style=\"font-weight: bold\">(</span>PromptBuilderBlock<span style=\"font-weight: bold\">)</span>                  <a href=\"file:///Users/shiv/workspace/sdg_hub/src/sdg_hub/core/flow/base.py\" target=\"_blank\"><span style=\"color: #7f7f7f; text-decoration-color: #7f7f7f\">base.py</span></a><span style=\"color: #7f7f7f; text-decoration-color: #7f7f7f\">:</span><a href=\"file:///Users/shiv/workspace/sdg_hub/src/sdg_hub/core/flow/base.py#670\" target=\"_blank\"><span style=\"color: #7f7f7f; text-decoration-color: #7f7f7f\">670</span></a>\n",
       "</pre>\n"
      ],
      "text/plain": [
       "\u001b[2;36m          \u001b[0m\u001b[2;36m \u001b[0m\u001b[34mINFO    \u001b[0m Executing block \u001b[1;36m10\u001b[0m/\u001b[1;36m16\u001b[0m: build_sentiment_prompt \u001b[1m(\u001b[0mPromptBuilderBlock\u001b[1m)\u001b[0m                  \u001b]8;id=427320;file:///Users/shiv/workspace/sdg_hub/src/sdg_hub/core/flow/base.py\u001b\\\u001b[2mbase.py\u001b[0m\u001b]8;;\u001b\\\u001b[2m:\u001b[0m\u001b]8;id=956596;file:///Users/shiv/workspace/sdg_hub/src/sdg_hub/core/flow/base.py#670\u001b\\\u001b[2m670\u001b[0m\u001b]8;;\u001b\\\n"
      ]
     },
     "metadata": {},
     "output_type": "display_data"
    },
    {
     "data": {
      "text/html": [
       "<pre style=\"white-space:pre;overflow-x:auto;line-height:normal;font-family:Menlo,'DejaVu Sans Mono',consolas,'Courier New',monospace\"><span style=\"color: #000080; text-decoration-color: #000080\">╭──────────────────────────────────────────── </span><span style=\"color: #000080; text-decoration-color: #000080; font-weight: bold\">build_sentiment_prompt</span><span style=\"color: #000080; text-decoration-color: #000080\"> ─────────────────────────────────────────────╮</span>\n",
       "<span style=\"color: #000080; text-decoration-color: #000080\">│</span> <span style=\"color: #000080; text-decoration-color: #000080; font-weight: bold\">📊 Processing Input Data</span>                                                                                        <span style=\"color: #000080; text-decoration-color: #000080\">│</span>\n",
       "<span style=\"color: #000080; text-decoration-color: #000080\">│</span> <span style=\"color: #008080; text-decoration-color: #008080\">Block Type: PromptBuilderBlock</span>                                                                                  <span style=\"color: #000080; text-decoration-color: #000080\">│</span>\n",
       "<span style=\"color: #000080; text-decoration-color: #000080\">│</span> <span style=\"color: #008080; text-decoration-color: #008080; font-weight: bold\">Input Rows: 50</span>                                                                                                  <span style=\"color: #000080; text-decoration-color: #000080\">│</span>\n",
       "<span style=\"color: #000080; text-decoration-color: #000080\">│</span> <span style=\"color: #008080; text-decoration-color: #008080\">Input Columns: 14</span>                                                                                               <span style=\"color: #000080; text-decoration-color: #000080\">│</span>\n",
       "<span style=\"color: #000080; text-decoration-color: #000080\">│</span> <span style=\"color: #c0c0c0; text-decoration-color: #c0c0c0\">Column Names: Headline, Journalists, Date, Link, text, summary_prompt, raw_summary, summary, keywords_prompt, </span>  <span style=\"color: #000080; text-decoration-color: #000080\">│</span>\n",
       "<span style=\"color: #000080; text-decoration-color: #000080\">│</span> <span style=\"color: #c0c0c0; text-decoration-color: #c0c0c0\">raw_keywords, keywords, entities_prompt, raw_entities, entities</span>                                                 <span style=\"color: #000080; text-decoration-color: #000080\">│</span>\n",
       "<span style=\"color: #000080; text-decoration-color: #000080\">│</span> <span style=\"color: #008000; text-decoration-color: #008000\">Expected Output Columns: sentiment_prompt</span>                                                                       <span style=\"color: #000080; text-decoration-color: #000080\">│</span>\n",
       "<span style=\"color: #000080; text-decoration-color: #000080\">╰─────────────────────────────────────────────────────────────────────────────────────────────────────────────────╯</span>\n",
       "</pre>\n"
      ],
      "text/plain": [
       "\u001b[34m╭─\u001b[0m\u001b[34m───────────────────────────────────────────\u001b[0m\u001b[34m \u001b[0m\u001b[1;34mbuild_sentiment_prompt\u001b[0m\u001b[34m \u001b[0m\u001b[34m────────────────────────────────────────────\u001b[0m\u001b[34m─╮\u001b[0m\n",
       "\u001b[34m│\u001b[0m \u001b[1;34m📊 Processing Input Data\u001b[0m                                                                                        \u001b[34m│\u001b[0m\n",
       "\u001b[34m│\u001b[0m \u001b[36mBlock Type: PromptBuilderBlock\u001b[0m                                                                                  \u001b[34m│\u001b[0m\n",
       "\u001b[34m│\u001b[0m \u001b[1;36mInput Rows: 50\u001b[0m                                                                                                  \u001b[34m│\u001b[0m\n",
       "\u001b[34m│\u001b[0m \u001b[36mInput Columns: 14\u001b[0m                                                                                               \u001b[34m│\u001b[0m\n",
       "\u001b[34m│\u001b[0m \u001b[37mColumn Names: Headline, Journalists, Date, Link, text, summary_prompt, raw_summary, summary, keywords_prompt, \u001b[0m  \u001b[34m│\u001b[0m\n",
       "\u001b[34m│\u001b[0m \u001b[37mraw_keywords, keywords, entities_prompt, raw_entities, entities\u001b[0m                                                 \u001b[34m│\u001b[0m\n",
       "\u001b[34m│\u001b[0m \u001b[32mExpected Output Columns: sentiment_prompt\u001b[0m                                                                       \u001b[34m│\u001b[0m\n",
       "\u001b[34m╰─────────────────────────────────────────────────────────────────────────────────────────────────────────────────╯\u001b[0m\n"
      ]
     },
     "metadata": {},
     "output_type": "display_data"
    },
    {
     "name": "stderr",
     "output_type": "stream",
     "text": [
      "Map: 100%|██████████| 50/50 [00:00<00:00, 4932.50 examples/s]\n"
     ]
    },
    {
     "data": {
      "text/html": [
       "<pre style=\"white-space:pre;overflow-x:auto;line-height:normal;font-family:Menlo,'DejaVu Sans Mono',consolas,'Courier New',monospace\"><span style=\"color: #008000; text-decoration-color: #008000\">╭─────────────────────────────────────── </span><span style=\"color: #008000; text-decoration-color: #008000; font-weight: bold\">build_sentiment_prompt - Complete</span><span style=\"color: #008000; text-decoration-color: #008000\"> ───────────────────────────────────────╮</span>\n",
       "<span style=\"color: #008000; text-decoration-color: #008000\">│</span> <span style=\"color: #008000; text-decoration-color: #008000; font-weight: bold\">✅ Processing Complete</span>                                                                                          <span style=\"color: #008000; text-decoration-color: #008000\">│</span>\n",
       "<span style=\"color: #008000; text-decoration-color: #008000\">│</span> <span style=\"color: #008080; text-decoration-color: #008080\">Rows: 50 → 50</span>                                                                                                   <span style=\"color: #008000; text-decoration-color: #008000\">│</span>\n",
       "<span style=\"color: #008000; text-decoration-color: #008000\">│</span> <span style=\"color: #008080; text-decoration-color: #008080\">Columns: 14 → 15</span>                                                                                                <span style=\"color: #008000; text-decoration-color: #008000\">│</span>\n",
       "<span style=\"color: #008000; text-decoration-color: #008000\">│</span> <span style=\"color: #008000; text-decoration-color: #008000\">🟢 Added: sentiment_prompt</span>                                                                                      <span style=\"color: #008000; text-decoration-color: #008000\">│</span>\n",
       "<span style=\"color: #008000; text-decoration-color: #008000\">│</span> <span style=\"color: #c0c0c0; text-decoration-color: #c0c0c0\">📋 Final Columns: Date, Headline, Journalists, Link, entities, entities_prompt, keywords, keywords_prompt, </span>     <span style=\"color: #008000; text-decoration-color: #008000\">│</span>\n",
       "<span style=\"color: #008000; text-decoration-color: #008000\">│</span> <span style=\"color: #c0c0c0; text-decoration-color: #c0c0c0\">raw_entities, raw_keywords, raw_summary, sentiment_prompt, summary, summary_prompt, text</span>                        <span style=\"color: #008000; text-decoration-color: #008000\">│</span>\n",
       "<span style=\"color: #008000; text-decoration-color: #008000\">╰─────────────────────────────────────────────────────────────────────────────────────────────────────────────────╯</span>\n",
       "</pre>\n"
      ],
      "text/plain": [
       "\u001b[32m╭─\u001b[0m\u001b[32m──────────────────────────────────────\u001b[0m\u001b[32m \u001b[0m\u001b[1;32mbuild_sentiment_prompt - Complete\u001b[0m\u001b[32m \u001b[0m\u001b[32m──────────────────────────────────────\u001b[0m\u001b[32m─╮\u001b[0m\n",
       "\u001b[32m│\u001b[0m \u001b[1;32m✅ Processing Complete\u001b[0m                                                                                          \u001b[32m│\u001b[0m\n",
       "\u001b[32m│\u001b[0m \u001b[36mRows: 50 → 50\u001b[0m                                                                                                   \u001b[32m│\u001b[0m\n",
       "\u001b[32m│\u001b[0m \u001b[36mColumns: 14 → 15\u001b[0m                                                                                                \u001b[32m│\u001b[0m\n",
       "\u001b[32m│\u001b[0m \u001b[32m🟢 Added: sentiment_prompt\u001b[0m                                                                                      \u001b[32m│\u001b[0m\n",
       "\u001b[32m│\u001b[0m \u001b[37m📋 Final Columns: Date, Headline, Journalists, Link, entities, entities_prompt, keywords, keywords_prompt, \u001b[0m     \u001b[32m│\u001b[0m\n",
       "\u001b[32m│\u001b[0m \u001b[37mraw_entities, raw_keywords, raw_summary, sentiment_prompt, summary, summary_prompt, text\u001b[0m                        \u001b[32m│\u001b[0m\n",
       "\u001b[32m╰─────────────────────────────────────────────────────────────────────────────────────────────────────────────────╯\u001b[0m\n"
      ]
     },
     "metadata": {},
     "output_type": "display_data"
    },
    {
     "data": {
      "text/html": [
       "<pre style=\"white-space:pre;overflow-x:auto;line-height:normal;font-family:Menlo,'DejaVu Sans Mono',consolas,'Courier New',monospace\"><span style=\"color: #7fbfbf; text-decoration-color: #7fbfbf\">           </span><span style=\"color: #000080; text-decoration-color: #000080\">INFO    </span> Block <span style=\"color: #008000; text-decoration-color: #008000\">'build_sentiment_prompt'</span> completed successfully: <span style=\"color: #008080; text-decoration-color: #008080; font-weight: bold\">50</span> samples, <span style=\"color: #008080; text-decoration-color: #008080; font-weight: bold\">15</span> columns       <a href=\"file:///Users/shiv/workspace/sdg_hub/src/sdg_hub/core/flow/base.py\" target=\"_blank\"><span style=\"color: #7f7f7f; text-decoration-color: #7f7f7f\">base.py</span></a><span style=\"color: #7f7f7f; text-decoration-color: #7f7f7f\">:</span><a href=\"file:///Users/shiv/workspace/sdg_hub/src/sdg_hub/core/flow/base.py#732\" target=\"_blank\"><span style=\"color: #7f7f7f; text-decoration-color: #7f7f7f\">732</span></a>\n",
       "</pre>\n"
      ],
      "text/plain": [
       "\u001b[2;36m          \u001b[0m\u001b[2;36m \u001b[0m\u001b[34mINFO    \u001b[0m Block \u001b[32m'build_sentiment_prompt'\u001b[0m completed successfully: \u001b[1;36m50\u001b[0m samples, \u001b[1;36m15\u001b[0m columns       \u001b]8;id=595296;file:///Users/shiv/workspace/sdg_hub/src/sdg_hub/core/flow/base.py\u001b\\\u001b[2mbase.py\u001b[0m\u001b]8;;\u001b\\\u001b[2m:\u001b[0m\u001b]8;id=72908;file:///Users/shiv/workspace/sdg_hub/src/sdg_hub/core/flow/base.py#732\u001b\\\u001b[2m732\u001b[0m\u001b]8;;\u001b\\\n"
      ]
     },
     "metadata": {},
     "output_type": "display_data"
    },
    {
     "data": {
      "text/html": [
       "<pre style=\"white-space:pre;overflow-x:auto;line-height:normal;font-family:Menlo,'DejaVu Sans Mono',consolas,'Courier New',monospace\"><span style=\"color: #7fbfbf; text-decoration-color: #7fbfbf\">           </span><span style=\"color: #000080; text-decoration-color: #000080\">INFO    </span> Executing block <span style=\"color: #008080; text-decoration-color: #008080; font-weight: bold\">11</span>/<span style=\"color: #008080; text-decoration-color: #008080; font-weight: bold\">16</span>: generate_sentiment <span style=\"font-weight: bold\">(</span>LLMChatBlock<span style=\"font-weight: bold\">)</span>                            <a href=\"file:///Users/shiv/workspace/sdg_hub/src/sdg_hub/core/flow/base.py\" target=\"_blank\"><span style=\"color: #7f7f7f; text-decoration-color: #7f7f7f\">base.py</span></a><span style=\"color: #7f7f7f; text-decoration-color: #7f7f7f\">:</span><a href=\"file:///Users/shiv/workspace/sdg_hub/src/sdg_hub/core/flow/base.py#670\" target=\"_blank\"><span style=\"color: #7f7f7f; text-decoration-color: #7f7f7f\">670</span></a>\n",
       "</pre>\n"
      ],
      "text/plain": [
       "\u001b[2;36m          \u001b[0m\u001b[2;36m \u001b[0m\u001b[34mINFO    \u001b[0m Executing block \u001b[1;36m11\u001b[0m/\u001b[1;36m16\u001b[0m: generate_sentiment \u001b[1m(\u001b[0mLLMChatBlock\u001b[1m)\u001b[0m                            \u001b]8;id=907889;file:///Users/shiv/workspace/sdg_hub/src/sdg_hub/core/flow/base.py\u001b\\\u001b[2mbase.py\u001b[0m\u001b]8;;\u001b\\\u001b[2m:\u001b[0m\u001b]8;id=80454;file:///Users/shiv/workspace/sdg_hub/src/sdg_hub/core/flow/base.py#670\u001b\\\u001b[2m670\u001b[0m\u001b]8;;\u001b\\\n"
      ]
     },
     "metadata": {},
     "output_type": "display_data"
    },
    {
     "data": {
      "text/html": [
       "<pre style=\"white-space:pre;overflow-x:auto;line-height:normal;font-family:Menlo,'DejaVu Sans Mono',consolas,'Courier New',monospace\"><span style=\"color: #000080; text-decoration-color: #000080\">╭────────────────────────────────────────────── </span><span style=\"color: #000080; text-decoration-color: #000080; font-weight: bold\">generate_sentiment</span><span style=\"color: #000080; text-decoration-color: #000080\"> ───────────────────────────────────────────────╮</span>\n",
       "<span style=\"color: #000080; text-decoration-color: #000080\">│</span> <span style=\"color: #000080; text-decoration-color: #000080; font-weight: bold\">📊 Processing Input Data</span>                                                                                        <span style=\"color: #000080; text-decoration-color: #000080\">│</span>\n",
       "<span style=\"color: #000080; text-decoration-color: #000080\">│</span> <span style=\"color: #008080; text-decoration-color: #008080\">Block Type: LLMChatBlock</span>                                                                                        <span style=\"color: #000080; text-decoration-color: #000080\">│</span>\n",
       "<span style=\"color: #000080; text-decoration-color: #000080\">│</span> <span style=\"color: #008080; text-decoration-color: #008080; font-weight: bold\">Input Rows: 50</span>                                                                                                  <span style=\"color: #000080; text-decoration-color: #000080\">│</span>\n",
       "<span style=\"color: #000080; text-decoration-color: #000080\">│</span> <span style=\"color: #008080; text-decoration-color: #008080\">Input Columns: 15</span>                                                                                               <span style=\"color: #000080; text-decoration-color: #000080\">│</span>\n",
       "<span style=\"color: #000080; text-decoration-color: #000080\">│</span> <span style=\"color: #c0c0c0; text-decoration-color: #c0c0c0\">Column Names: Headline, Journalists, Date, Link, text, summary_prompt, raw_summary, summary, keywords_prompt, </span>  <span style=\"color: #000080; text-decoration-color: #000080\">│</span>\n",
       "<span style=\"color: #000080; text-decoration-color: #000080\">│</span> <span style=\"color: #c0c0c0; text-decoration-color: #c0c0c0\">raw_keywords, keywords, entities_prompt, raw_entities, entities, sentiment_prompt</span>                               <span style=\"color: #000080; text-decoration-color: #000080\">│</span>\n",
       "<span style=\"color: #000080; text-decoration-color: #000080\">│</span> <span style=\"color: #008000; text-decoration-color: #008000\">Expected Output Columns: raw_sentiment</span>                                                                          <span style=\"color: #000080; text-decoration-color: #000080\">│</span>\n",
       "<span style=\"color: #000080; text-decoration-color: #000080\">╰─────────────────────────────────────────────────────────────────────────────────────────────────────────────────╯</span>\n",
       "</pre>\n"
      ],
      "text/plain": [
       "\u001b[34m╭─\u001b[0m\u001b[34m─────────────────────────────────────────────\u001b[0m\u001b[34m \u001b[0m\u001b[1;34mgenerate_sentiment\u001b[0m\u001b[34m \u001b[0m\u001b[34m──────────────────────────────────────────────\u001b[0m\u001b[34m─╮\u001b[0m\n",
       "\u001b[34m│\u001b[0m \u001b[1;34m📊 Processing Input Data\u001b[0m                                                                                        \u001b[34m│\u001b[0m\n",
       "\u001b[34m│\u001b[0m \u001b[36mBlock Type: LLMChatBlock\u001b[0m                                                                                        \u001b[34m│\u001b[0m\n",
       "\u001b[34m│\u001b[0m \u001b[1;36mInput Rows: 50\u001b[0m                                                                                                  \u001b[34m│\u001b[0m\n",
       "\u001b[34m│\u001b[0m \u001b[36mInput Columns: 15\u001b[0m                                                                                               \u001b[34m│\u001b[0m\n",
       "\u001b[34m│\u001b[0m \u001b[37mColumn Names: Headline, Journalists, Date, Link, text, summary_prompt, raw_summary, summary, keywords_prompt, \u001b[0m  \u001b[34m│\u001b[0m\n",
       "\u001b[34m│\u001b[0m \u001b[37mraw_keywords, keywords, entities_prompt, raw_entities, entities, sentiment_prompt\u001b[0m                               \u001b[34m│\u001b[0m\n",
       "\u001b[34m│\u001b[0m \u001b[32mExpected Output Columns: raw_sentiment\u001b[0m                                                                          \u001b[34m│\u001b[0m\n",
       "\u001b[34m╰─────────────────────────────────────────────────────────────────────────────────────────────────────────────────╯\u001b[0m\n"
      ]
     },
     "metadata": {},
     "output_type": "display_data"
    },
    {
     "data": {
      "text/html": [
       "<pre style=\"white-space:pre;overflow-x:auto;line-height:normal;font-family:Menlo,'DejaVu Sans Mono',consolas,'Courier New',monospace\"><span style=\"color: #7fbfbf; text-decoration-color: #7fbfbf\">           </span><span style=\"color: #000080; text-decoration-color: #000080\">INFO    </span> Starting async generation for <span style=\"color: #008080; text-decoration-color: #008080; font-weight: bold\">50</span> samples                                  <a href=\"file:///Users/shiv/workspace/sdg_hub/src/sdg_hub/core/blocks/llm/llm_chat_block.py\" target=\"_blank\"><span style=\"color: #7f7f7f; text-decoration-color: #7f7f7f\">llm_chat_block.py</span></a><span style=\"color: #7f7f7f; text-decoration-color: #7f7f7f\">:</span><a href=\"file:///Users/shiv/workspace/sdg_hub/src/sdg_hub/core/blocks/llm/llm_chat_block.py#329\" target=\"_blank\"><span style=\"color: #7f7f7f; text-decoration-color: #7f7f7f\">329</span></a>\n",
       "</pre>\n"
      ],
      "text/plain": [
       "\u001b[2;36m          \u001b[0m\u001b[2;36m \u001b[0m\u001b[34mINFO    \u001b[0m Starting async generation for \u001b[1;36m50\u001b[0m samples                                  \u001b]8;id=18340;file:///Users/shiv/workspace/sdg_hub/src/sdg_hub/core/blocks/llm/llm_chat_block.py\u001b\\\u001b[2mllm_chat_block.py\u001b[0m\u001b]8;;\u001b\\\u001b[2m:\u001b[0m\u001b]8;id=60005;file:///Users/shiv/workspace/sdg_hub/src/sdg_hub/core/blocks/llm/llm_chat_block.py#329\u001b\\\u001b[2m329\u001b[0m\u001b]8;;\u001b\\\n"
      ]
     },
     "metadata": {},
     "output_type": "display_data"
    },
    {
     "data": {
      "text/html": [
       "<pre style=\"white-space:pre;overflow-x:auto;line-height:normal;font-family:Menlo,'DejaVu Sans Mono',consolas,'Courier New',monospace\"><span style=\"color: #7fbfbf; text-decoration-color: #7fbfbf\">[15:18:52] </span><span style=\"color: #000080; text-decoration-color: #000080\">INFO    </span> Generation completed successfully for <span style=\"color: #008080; text-decoration-color: #008080; font-weight: bold\">50</span> samples                          <a href=\"file:///Users/shiv/workspace/sdg_hub/src/sdg_hub/core/blocks/llm/llm_chat_block.py\" target=\"_blank\"><span style=\"color: #7f7f7f; text-decoration-color: #7f7f7f\">llm_chat_block.py</span></a><span style=\"color: #7f7f7f; text-decoration-color: #7f7f7f\">:</span><a href=\"file:///Users/shiv/workspace/sdg_hub/src/sdg_hub/core/blocks/llm/llm_chat_block.py#393\" target=\"_blank\"><span style=\"color: #7f7f7f; text-decoration-color: #7f7f7f\">393</span></a>\n",
       "</pre>\n"
      ],
      "text/plain": [
       "\u001b[2;36m[15:18:52]\u001b[0m\u001b[2;36m \u001b[0m\u001b[34mINFO    \u001b[0m Generation completed successfully for \u001b[1;36m50\u001b[0m samples                          \u001b]8;id=511410;file:///Users/shiv/workspace/sdg_hub/src/sdg_hub/core/blocks/llm/llm_chat_block.py\u001b\\\u001b[2mllm_chat_block.py\u001b[0m\u001b]8;;\u001b\\\u001b[2m:\u001b[0m\u001b]8;id=401970;file:///Users/shiv/workspace/sdg_hub/src/sdg_hub/core/blocks/llm/llm_chat_block.py#393\u001b\\\u001b[2m393\u001b[0m\u001b]8;;\u001b\\\n"
      ]
     },
     "metadata": {},
     "output_type": "display_data"
    },
    {
     "data": {
      "text/html": [
       "<pre style=\"white-space:pre;overflow-x:auto;line-height:normal;font-family:Menlo,'DejaVu Sans Mono',consolas,'Courier New',monospace\"><span style=\"color: #008000; text-decoration-color: #008000\">╭───────────────────────────────────────── </span><span style=\"color: #008000; text-decoration-color: #008000; font-weight: bold\">generate_sentiment - Complete</span><span style=\"color: #008000; text-decoration-color: #008000\"> ─────────────────────────────────────────╮</span>\n",
       "<span style=\"color: #008000; text-decoration-color: #008000\">│</span> <span style=\"color: #008000; text-decoration-color: #008000; font-weight: bold\">✅ Processing Complete</span>                                                                                          <span style=\"color: #008000; text-decoration-color: #008000\">│</span>\n",
       "<span style=\"color: #008000; text-decoration-color: #008000\">│</span> <span style=\"color: #008080; text-decoration-color: #008080\">Rows: 50 → 50</span>                                                                                                   <span style=\"color: #008000; text-decoration-color: #008000\">│</span>\n",
       "<span style=\"color: #008000; text-decoration-color: #008000\">│</span> <span style=\"color: #008080; text-decoration-color: #008080\">Columns: 15 → 16</span>                                                                                                <span style=\"color: #008000; text-decoration-color: #008000\">│</span>\n",
       "<span style=\"color: #008000; text-decoration-color: #008000\">│</span> <span style=\"color: #008000; text-decoration-color: #008000\">🟢 Added: raw_sentiment</span>                                                                                         <span style=\"color: #008000; text-decoration-color: #008000\">│</span>\n",
       "<span style=\"color: #008000; text-decoration-color: #008000\">│</span> <span style=\"color: #c0c0c0; text-decoration-color: #c0c0c0\">📋 Final Columns: Date, Headline, Journalists, Link, entities, entities_prompt, keywords, keywords_prompt, </span>     <span style=\"color: #008000; text-decoration-color: #008000\">│</span>\n",
       "<span style=\"color: #008000; text-decoration-color: #008000\">│</span> <span style=\"color: #c0c0c0; text-decoration-color: #c0c0c0\">raw_entities, raw_keywords, raw_sentiment, raw_summary, sentiment_prompt, summary, summary_prompt, text</span>         <span style=\"color: #008000; text-decoration-color: #008000\">│</span>\n",
       "<span style=\"color: #008000; text-decoration-color: #008000\">╰─────────────────────────────────────────────────────────────────────────────────────────────────────────────────╯</span>\n",
       "</pre>\n"
      ],
      "text/plain": [
       "\u001b[32m╭─\u001b[0m\u001b[32m────────────────────────────────────────\u001b[0m\u001b[32m \u001b[0m\u001b[1;32mgenerate_sentiment - Complete\u001b[0m\u001b[32m \u001b[0m\u001b[32m────────────────────────────────────────\u001b[0m\u001b[32m─╮\u001b[0m\n",
       "\u001b[32m│\u001b[0m \u001b[1;32m✅ Processing Complete\u001b[0m                                                                                          \u001b[32m│\u001b[0m\n",
       "\u001b[32m│\u001b[0m \u001b[36mRows: 50 → 50\u001b[0m                                                                                                   \u001b[32m│\u001b[0m\n",
       "\u001b[32m│\u001b[0m \u001b[36mColumns: 15 → 16\u001b[0m                                                                                                \u001b[32m│\u001b[0m\n",
       "\u001b[32m│\u001b[0m \u001b[32m🟢 Added: raw_sentiment\u001b[0m                                                                                         \u001b[32m│\u001b[0m\n",
       "\u001b[32m│\u001b[0m \u001b[37m📋 Final Columns: Date, Headline, Journalists, Link, entities, entities_prompt, keywords, keywords_prompt, \u001b[0m     \u001b[32m│\u001b[0m\n",
       "\u001b[32m│\u001b[0m \u001b[37mraw_entities, raw_keywords, raw_sentiment, raw_summary, sentiment_prompt, summary, summary_prompt, text\u001b[0m         \u001b[32m│\u001b[0m\n",
       "\u001b[32m╰─────────────────────────────────────────────────────────────────────────────────────────────────────────────────╯\u001b[0m\n"
      ]
     },
     "metadata": {},
     "output_type": "display_data"
    },
    {
     "data": {
      "text/html": [
       "<pre style=\"white-space:pre;overflow-x:auto;line-height:normal;font-family:Menlo,'DejaVu Sans Mono',consolas,'Courier New',monospace\"><span style=\"color: #7fbfbf; text-decoration-color: #7fbfbf\">[15:18:52] </span><span style=\"color: #000080; text-decoration-color: #000080\">INFO    </span> Block <span style=\"color: #008000; text-decoration-color: #008000\">'generate_sentiment'</span> completed successfully: <span style=\"color: #008080; text-decoration-color: #008080; font-weight: bold\">50</span> samples, <span style=\"color: #008080; text-decoration-color: #008080; font-weight: bold\">16</span> columns           <a href=\"file:///Users/shiv/workspace/sdg_hub/src/sdg_hub/core/flow/base.py\" target=\"_blank\"><span style=\"color: #7f7f7f; text-decoration-color: #7f7f7f\">base.py</span></a><span style=\"color: #7f7f7f; text-decoration-color: #7f7f7f\">:</span><a href=\"file:///Users/shiv/workspace/sdg_hub/src/sdg_hub/core/flow/base.py#732\" target=\"_blank\"><span style=\"color: #7f7f7f; text-decoration-color: #7f7f7f\">732</span></a>\n",
       "</pre>\n"
      ],
      "text/plain": [
       "\u001b[2;36m[15:18:52]\u001b[0m\u001b[2;36m \u001b[0m\u001b[34mINFO    \u001b[0m Block \u001b[32m'generate_sentiment'\u001b[0m completed successfully: \u001b[1;36m50\u001b[0m samples, \u001b[1;36m16\u001b[0m columns           \u001b]8;id=369806;file:///Users/shiv/workspace/sdg_hub/src/sdg_hub/core/flow/base.py\u001b\\\u001b[2mbase.py\u001b[0m\u001b]8;;\u001b\\\u001b[2m:\u001b[0m\u001b]8;id=144373;file:///Users/shiv/workspace/sdg_hub/src/sdg_hub/core/flow/base.py#732\u001b\\\u001b[2m732\u001b[0m\u001b]8;;\u001b\\\n"
      ]
     },
     "metadata": {},
     "output_type": "display_data"
    },
    {
     "data": {
      "text/html": [
       "<pre style=\"white-space:pre;overflow-x:auto;line-height:normal;font-family:Menlo,'DejaVu Sans Mono',consolas,'Courier New',monospace\"><span style=\"color: #7fbfbf; text-decoration-color: #7fbfbf\">           </span><span style=\"color: #000080; text-decoration-color: #000080\">INFO    </span> Executing block <span style=\"color: #008080; text-decoration-color: #008080; font-weight: bold\">12</span>/<span style=\"color: #008080; text-decoration-color: #008080; font-weight: bold\">16</span>: parse_sentiment <span style=\"font-weight: bold\">(</span>TextParserBlock<span style=\"font-weight: bold\">)</span>                            <a href=\"file:///Users/shiv/workspace/sdg_hub/src/sdg_hub/core/flow/base.py\" target=\"_blank\"><span style=\"color: #7f7f7f; text-decoration-color: #7f7f7f\">base.py</span></a><span style=\"color: #7f7f7f; text-decoration-color: #7f7f7f\">:</span><a href=\"file:///Users/shiv/workspace/sdg_hub/src/sdg_hub/core/flow/base.py#670\" target=\"_blank\"><span style=\"color: #7f7f7f; text-decoration-color: #7f7f7f\">670</span></a>\n",
       "</pre>\n"
      ],
      "text/plain": [
       "\u001b[2;36m          \u001b[0m\u001b[2;36m \u001b[0m\u001b[34mINFO    \u001b[0m Executing block \u001b[1;36m12\u001b[0m/\u001b[1;36m16\u001b[0m: parse_sentiment \u001b[1m(\u001b[0mTextParserBlock\u001b[1m)\u001b[0m                            \u001b]8;id=944827;file:///Users/shiv/workspace/sdg_hub/src/sdg_hub/core/flow/base.py\u001b\\\u001b[2mbase.py\u001b[0m\u001b]8;;\u001b\\\u001b[2m:\u001b[0m\u001b]8;id=614158;file:///Users/shiv/workspace/sdg_hub/src/sdg_hub/core/flow/base.py#670\u001b\\\u001b[2m670\u001b[0m\u001b]8;;\u001b\\\n"
      ]
     },
     "metadata": {},
     "output_type": "display_data"
    },
    {
     "data": {
      "text/html": [
       "<pre style=\"white-space:pre;overflow-x:auto;line-height:normal;font-family:Menlo,'DejaVu Sans Mono',consolas,'Courier New',monospace\"><span style=\"color: #000080; text-decoration-color: #000080\">╭──────────────────────────────────────────────── </span><span style=\"color: #000080; text-decoration-color: #000080; font-weight: bold\">parse_sentiment</span><span style=\"color: #000080; text-decoration-color: #000080\"> ────────────────────────────────────────────────╮</span>\n",
       "<span style=\"color: #000080; text-decoration-color: #000080\">│</span> <span style=\"color: #000080; text-decoration-color: #000080; font-weight: bold\">📊 Processing Input Data</span>                                                                                        <span style=\"color: #000080; text-decoration-color: #000080\">│</span>\n",
       "<span style=\"color: #000080; text-decoration-color: #000080\">│</span> <span style=\"color: #008080; text-decoration-color: #008080\">Block Type: TextParserBlock</span>                                                                                     <span style=\"color: #000080; text-decoration-color: #000080\">│</span>\n",
       "<span style=\"color: #000080; text-decoration-color: #000080\">│</span> <span style=\"color: #008080; text-decoration-color: #008080; font-weight: bold\">Input Rows: 50</span>                                                                                                  <span style=\"color: #000080; text-decoration-color: #000080\">│</span>\n",
       "<span style=\"color: #000080; text-decoration-color: #000080\">│</span> <span style=\"color: #008080; text-decoration-color: #008080\">Input Columns: 16</span>                                                                                               <span style=\"color: #000080; text-decoration-color: #000080\">│</span>\n",
       "<span style=\"color: #000080; text-decoration-color: #000080\">│</span> <span style=\"color: #c0c0c0; text-decoration-color: #c0c0c0\">Column Names: Headline, Journalists, Date, Link, text, summary_prompt, raw_summary, summary, keywords_prompt, </span>  <span style=\"color: #000080; text-decoration-color: #000080\">│</span>\n",
       "<span style=\"color: #000080; text-decoration-color: #000080\">│</span> <span style=\"color: #c0c0c0; text-decoration-color: #c0c0c0\">raw_keywords, keywords, entities_prompt, raw_entities, entities, sentiment_prompt, raw_sentiment</span>                <span style=\"color: #000080; text-decoration-color: #000080\">│</span>\n",
       "<span style=\"color: #000080; text-decoration-color: #000080\">│</span> <span style=\"color: #008000; text-decoration-color: #008000\">Expected Output Columns: sentiment</span>                                                                              <span style=\"color: #000080; text-decoration-color: #000080\">│</span>\n",
       "<span style=\"color: #000080; text-decoration-color: #000080\">╰─────────────────────────────────────────────────────────────────────────────────────────────────────────────────╯</span>\n",
       "</pre>\n"
      ],
      "text/plain": [
       "\u001b[34m╭─\u001b[0m\u001b[34m───────────────────────────────────────────────\u001b[0m\u001b[34m \u001b[0m\u001b[1;34mparse_sentiment\u001b[0m\u001b[34m \u001b[0m\u001b[34m───────────────────────────────────────────────\u001b[0m\u001b[34m─╮\u001b[0m\n",
       "\u001b[34m│\u001b[0m \u001b[1;34m📊 Processing Input Data\u001b[0m                                                                                        \u001b[34m│\u001b[0m\n",
       "\u001b[34m│\u001b[0m \u001b[36mBlock Type: TextParserBlock\u001b[0m                                                                                     \u001b[34m│\u001b[0m\n",
       "\u001b[34m│\u001b[0m \u001b[1;36mInput Rows: 50\u001b[0m                                                                                                  \u001b[34m│\u001b[0m\n",
       "\u001b[34m│\u001b[0m \u001b[36mInput Columns: 16\u001b[0m                                                                                               \u001b[34m│\u001b[0m\n",
       "\u001b[34m│\u001b[0m \u001b[37mColumn Names: Headline, Journalists, Date, Link, text, summary_prompt, raw_summary, summary, keywords_prompt, \u001b[0m  \u001b[34m│\u001b[0m\n",
       "\u001b[34m│\u001b[0m \u001b[37mraw_keywords, keywords, entities_prompt, raw_entities, entities, sentiment_prompt, raw_sentiment\u001b[0m                \u001b[34m│\u001b[0m\n",
       "\u001b[34m│\u001b[0m \u001b[32mExpected Output Columns: sentiment\u001b[0m                                                                              \u001b[34m│\u001b[0m\n",
       "\u001b[34m╰─────────────────────────────────────────────────────────────────────────────────────────────────────────────────╯\u001b[0m\n"
      ]
     },
     "metadata": {},
     "output_type": "display_data"
    },
    {
     "data": {
      "text/html": [
       "<pre style=\"white-space:pre;overflow-x:auto;line-height:normal;font-family:Menlo,'DejaVu Sans Mono',consolas,'Courier New',monospace\"><span style=\"color: #008000; text-decoration-color: #008000\">╭────────────────────────────────────────── </span><span style=\"color: #008000; text-decoration-color: #008000; font-weight: bold\">parse_sentiment - Complete</span><span style=\"color: #008000; text-decoration-color: #008000\"> ───────────────────────────────────────────╮</span>\n",
       "<span style=\"color: #008000; text-decoration-color: #008000\">│</span> <span style=\"color: #008000; text-decoration-color: #008000; font-weight: bold\">✅ Processing Complete</span>                                                                                          <span style=\"color: #008000; text-decoration-color: #008000\">│</span>\n",
       "<span style=\"color: #008000; text-decoration-color: #008000\">│</span> <span style=\"color: #008080; text-decoration-color: #008080\">Rows: 50 → 50</span>                                                                                                   <span style=\"color: #008000; text-decoration-color: #008000\">│</span>\n",
       "<span style=\"color: #008000; text-decoration-color: #008000\">│</span> <span style=\"color: #008080; text-decoration-color: #008080\">Columns: 16 → 17</span>                                                                                                <span style=\"color: #008000; text-decoration-color: #008000\">│</span>\n",
       "<span style=\"color: #008000; text-decoration-color: #008000\">│</span> <span style=\"color: #008000; text-decoration-color: #008000\">🟢 Added: sentiment</span>                                                                                             <span style=\"color: #008000; text-decoration-color: #008000\">│</span>\n",
       "<span style=\"color: #008000; text-decoration-color: #008000\">│</span> <span style=\"color: #c0c0c0; text-decoration-color: #c0c0c0\">📋 Final Columns: Date, Headline, Journalists, Link, entities, entities_prompt, keywords, keywords_prompt, </span>     <span style=\"color: #008000; text-decoration-color: #008000\">│</span>\n",
       "<span style=\"color: #008000; text-decoration-color: #008000\">│</span> <span style=\"color: #c0c0c0; text-decoration-color: #c0c0c0\">raw_entities, raw_keywords, raw_sentiment, raw_summary, sentiment, sentiment_prompt, summary, summary_prompt, </span>  <span style=\"color: #008000; text-decoration-color: #008000\">│</span>\n",
       "<span style=\"color: #008000; text-decoration-color: #008000\">│</span> <span style=\"color: #c0c0c0; text-decoration-color: #c0c0c0\">text</span>                                                                                                            <span style=\"color: #008000; text-decoration-color: #008000\">│</span>\n",
       "<span style=\"color: #008000; text-decoration-color: #008000\">╰─────────────────────────────────────────────────────────────────────────────────────────────────────────────────╯</span>\n",
       "</pre>\n"
      ],
      "text/plain": [
       "\u001b[32m╭─\u001b[0m\u001b[32m─────────────────────────────────────────\u001b[0m\u001b[32m \u001b[0m\u001b[1;32mparse_sentiment - Complete\u001b[0m\u001b[32m \u001b[0m\u001b[32m──────────────────────────────────────────\u001b[0m\u001b[32m─╮\u001b[0m\n",
       "\u001b[32m│\u001b[0m \u001b[1;32m✅ Processing Complete\u001b[0m                                                                                          \u001b[32m│\u001b[0m\n",
       "\u001b[32m│\u001b[0m \u001b[36mRows: 50 → 50\u001b[0m                                                                                                   \u001b[32m│\u001b[0m\n",
       "\u001b[32m│\u001b[0m \u001b[36mColumns: 16 → 17\u001b[0m                                                                                                \u001b[32m│\u001b[0m\n",
       "\u001b[32m│\u001b[0m \u001b[32m🟢 Added: sentiment\u001b[0m                                                                                             \u001b[32m│\u001b[0m\n",
       "\u001b[32m│\u001b[0m \u001b[37m📋 Final Columns: Date, Headline, Journalists, Link, entities, entities_prompt, keywords, keywords_prompt, \u001b[0m     \u001b[32m│\u001b[0m\n",
       "\u001b[32m│\u001b[0m \u001b[37mraw_entities, raw_keywords, raw_sentiment, raw_summary, sentiment, sentiment_prompt, summary, summary_prompt, \u001b[0m  \u001b[32m│\u001b[0m\n",
       "\u001b[32m│\u001b[0m \u001b[37mtext\u001b[0m                                                                                                            \u001b[32m│\u001b[0m\n",
       "\u001b[32m╰─────────────────────────────────────────────────────────────────────────────────────────────────────────────────╯\u001b[0m\n"
      ]
     },
     "metadata": {},
     "output_type": "display_data"
    },
    {
     "data": {
      "text/html": [
       "<pre style=\"white-space:pre;overflow-x:auto;line-height:normal;font-family:Menlo,'DejaVu Sans Mono',consolas,'Courier New',monospace\"><span style=\"color: #7fbfbf; text-decoration-color: #7fbfbf\">           </span><span style=\"color: #000080; text-decoration-color: #000080\">INFO    </span> Block <span style=\"color: #008000; text-decoration-color: #008000\">'parse_sentiment'</span> completed successfully: <span style=\"color: #008080; text-decoration-color: #008080; font-weight: bold\">50</span> samples, <span style=\"color: #008080; text-decoration-color: #008080; font-weight: bold\">17</span> columns              <a href=\"file:///Users/shiv/workspace/sdg_hub/src/sdg_hub/core/flow/base.py\" target=\"_blank\"><span style=\"color: #7f7f7f; text-decoration-color: #7f7f7f\">base.py</span></a><span style=\"color: #7f7f7f; text-decoration-color: #7f7f7f\">:</span><a href=\"file:///Users/shiv/workspace/sdg_hub/src/sdg_hub/core/flow/base.py#732\" target=\"_blank\"><span style=\"color: #7f7f7f; text-decoration-color: #7f7f7f\">732</span></a>\n",
       "</pre>\n"
      ],
      "text/plain": [
       "\u001b[2;36m          \u001b[0m\u001b[2;36m \u001b[0m\u001b[34mINFO    \u001b[0m Block \u001b[32m'parse_sentiment'\u001b[0m completed successfully: \u001b[1;36m50\u001b[0m samples, \u001b[1;36m17\u001b[0m columns              \u001b]8;id=458484;file:///Users/shiv/workspace/sdg_hub/src/sdg_hub/core/flow/base.py\u001b\\\u001b[2mbase.py\u001b[0m\u001b]8;;\u001b\\\u001b[2m:\u001b[0m\u001b]8;id=250408;file:///Users/shiv/workspace/sdg_hub/src/sdg_hub/core/flow/base.py#732\u001b\\\u001b[2m732\u001b[0m\u001b]8;;\u001b\\\n"
      ]
     },
     "metadata": {},
     "output_type": "display_data"
    },
    {
     "data": {
      "text/html": [
       "<pre style=\"white-space:pre;overflow-x:auto;line-height:normal;font-family:Menlo,'DejaVu Sans Mono',consolas,'Courier New',monospace\"><span style=\"color: #7fbfbf; text-decoration-color: #7fbfbf\">           </span><span style=\"color: #000080; text-decoration-color: #000080\">INFO    </span> Executing block <span style=\"color: #008080; text-decoration-color: #008080; font-weight: bold\">13</span>/<span style=\"color: #008080; text-decoration-color: #008080; font-weight: bold\">16</span>: stock_ticker_prompt <span style=\"font-weight: bold\">(</span>PromptBuilderBlock<span style=\"font-weight: bold\">)</span>                     <a href=\"file:///Users/shiv/workspace/sdg_hub/src/sdg_hub/core/flow/base.py\" target=\"_blank\"><span style=\"color: #7f7f7f; text-decoration-color: #7f7f7f\">base.py</span></a><span style=\"color: #7f7f7f; text-decoration-color: #7f7f7f\">:</span><a href=\"file:///Users/shiv/workspace/sdg_hub/src/sdg_hub/core/flow/base.py#670\" target=\"_blank\"><span style=\"color: #7f7f7f; text-decoration-color: #7f7f7f\">670</span></a>\n",
       "</pre>\n"
      ],
      "text/plain": [
       "\u001b[2;36m          \u001b[0m\u001b[2;36m \u001b[0m\u001b[34mINFO    \u001b[0m Executing block \u001b[1;36m13\u001b[0m/\u001b[1;36m16\u001b[0m: stock_ticker_prompt \u001b[1m(\u001b[0mPromptBuilderBlock\u001b[1m)\u001b[0m                     \u001b]8;id=2709;file:///Users/shiv/workspace/sdg_hub/src/sdg_hub/core/flow/base.py\u001b\\\u001b[2mbase.py\u001b[0m\u001b]8;;\u001b\\\u001b[2m:\u001b[0m\u001b]8;id=897239;file:///Users/shiv/workspace/sdg_hub/src/sdg_hub/core/flow/base.py#670\u001b\\\u001b[2m670\u001b[0m\u001b]8;;\u001b\\\n"
      ]
     },
     "metadata": {},
     "output_type": "display_data"
    },
    {
     "data": {
      "text/html": [
       "<pre style=\"white-space:pre;overflow-x:auto;line-height:normal;font-family:Menlo,'DejaVu Sans Mono',consolas,'Courier New',monospace\"><span style=\"color: #000080; text-decoration-color: #000080\">╭────────────────────────────────────────────── </span><span style=\"color: #000080; text-decoration-color: #000080; font-weight: bold\">stock_ticker_prompt</span><span style=\"color: #000080; text-decoration-color: #000080\"> ──────────────────────────────────────────────╮</span>\n",
       "<span style=\"color: #000080; text-decoration-color: #000080\">│</span> <span style=\"color: #000080; text-decoration-color: #000080; font-weight: bold\">📊 Processing Input Data</span>                                                                                        <span style=\"color: #000080; text-decoration-color: #000080\">│</span>\n",
       "<span style=\"color: #000080; text-decoration-color: #000080\">│</span> <span style=\"color: #008080; text-decoration-color: #008080\">Block Type: PromptBuilderBlock</span>                                                                                  <span style=\"color: #000080; text-decoration-color: #000080\">│</span>\n",
       "<span style=\"color: #000080; text-decoration-color: #000080\">│</span> <span style=\"color: #008080; text-decoration-color: #008080; font-weight: bold\">Input Rows: 50</span>                                                                                                  <span style=\"color: #000080; text-decoration-color: #000080\">│</span>\n",
       "<span style=\"color: #000080; text-decoration-color: #000080\">│</span> <span style=\"color: #008080; text-decoration-color: #008080\">Input Columns: 17</span>                                                                                               <span style=\"color: #000080; text-decoration-color: #000080\">│</span>\n",
       "<span style=\"color: #000080; text-decoration-color: #000080\">│</span> <span style=\"color: #c0c0c0; text-decoration-color: #c0c0c0\">Column Names: Headline, Journalists, Date, Link, text, summary_prompt, raw_summary, summary, keywords_prompt, </span>  <span style=\"color: #000080; text-decoration-color: #000080\">│</span>\n",
       "<span style=\"color: #000080; text-decoration-color: #000080\">│</span> <span style=\"color: #c0c0c0; text-decoration-color: #c0c0c0\">raw_keywords, keywords, entities_prompt, raw_entities, entities, sentiment_prompt, raw_sentiment, sentiment</span>     <span style=\"color: #000080; text-decoration-color: #000080\">│</span>\n",
       "<span style=\"color: #000080; text-decoration-color: #000080\">│</span> <span style=\"color: #008000; text-decoration-color: #008000\">Expected Output Columns: ticker_prompt</span>                                                                          <span style=\"color: #000080; text-decoration-color: #000080\">│</span>\n",
       "<span style=\"color: #000080; text-decoration-color: #000080\">╰─────────────────────────────────────────────────────────────────────────────────────────────────────────────────╯</span>\n",
       "</pre>\n"
      ],
      "text/plain": [
       "\u001b[34m╭─\u001b[0m\u001b[34m─────────────────────────────────────────────\u001b[0m\u001b[34m \u001b[0m\u001b[1;34mstock_ticker_prompt\u001b[0m\u001b[34m \u001b[0m\u001b[34m─────────────────────────────────────────────\u001b[0m\u001b[34m─╮\u001b[0m\n",
       "\u001b[34m│\u001b[0m \u001b[1;34m📊 Processing Input Data\u001b[0m                                                                                        \u001b[34m│\u001b[0m\n",
       "\u001b[34m│\u001b[0m \u001b[36mBlock Type: PromptBuilderBlock\u001b[0m                                                                                  \u001b[34m│\u001b[0m\n",
       "\u001b[34m│\u001b[0m \u001b[1;36mInput Rows: 50\u001b[0m                                                                                                  \u001b[34m│\u001b[0m\n",
       "\u001b[34m│\u001b[0m \u001b[36mInput Columns: 17\u001b[0m                                                                                               \u001b[34m│\u001b[0m\n",
       "\u001b[34m│\u001b[0m \u001b[37mColumn Names: Headline, Journalists, Date, Link, text, summary_prompt, raw_summary, summary, keywords_prompt, \u001b[0m  \u001b[34m│\u001b[0m\n",
       "\u001b[34m│\u001b[0m \u001b[37mraw_keywords, keywords, entities_prompt, raw_entities, entities, sentiment_prompt, raw_sentiment, sentiment\u001b[0m     \u001b[34m│\u001b[0m\n",
       "\u001b[34m│\u001b[0m \u001b[32mExpected Output Columns: ticker_prompt\u001b[0m                                                                          \u001b[34m│\u001b[0m\n",
       "\u001b[34m╰─────────────────────────────────────────────────────────────────────────────────────────────────────────────────╯\u001b[0m\n"
      ]
     },
     "metadata": {},
     "output_type": "display_data"
    },
    {
     "name": "stderr",
     "output_type": "stream",
     "text": [
      "Map: 100%|██████████| 50/50 [00:00<00:00, 4450.76 examples/s]\n"
     ]
    },
    {
     "data": {
      "text/html": [
       "<pre style=\"white-space:pre;overflow-x:auto;line-height:normal;font-family:Menlo,'DejaVu Sans Mono',consolas,'Courier New',monospace\"><span style=\"color: #008000; text-decoration-color: #008000\">╭──────────────────────────────────────── </span><span style=\"color: #008000; text-decoration-color: #008000; font-weight: bold\">stock_ticker_prompt - Complete</span><span style=\"color: #008000; text-decoration-color: #008000\"> ─────────────────────────────────────────╮</span>\n",
       "<span style=\"color: #008000; text-decoration-color: #008000\">│</span> <span style=\"color: #008000; text-decoration-color: #008000; font-weight: bold\">✅ Processing Complete</span>                                                                                          <span style=\"color: #008000; text-decoration-color: #008000\">│</span>\n",
       "<span style=\"color: #008000; text-decoration-color: #008000\">│</span> <span style=\"color: #008080; text-decoration-color: #008080\">Rows: 50 → 50</span>                                                                                                   <span style=\"color: #008000; text-decoration-color: #008000\">│</span>\n",
       "<span style=\"color: #008000; text-decoration-color: #008000\">│</span> <span style=\"color: #008080; text-decoration-color: #008080\">Columns: 17 → 18</span>                                                                                                <span style=\"color: #008000; text-decoration-color: #008000\">│</span>\n",
       "<span style=\"color: #008000; text-decoration-color: #008000\">│</span> <span style=\"color: #008000; text-decoration-color: #008000\">🟢 Added: ticker_prompt</span>                                                                                         <span style=\"color: #008000; text-decoration-color: #008000\">│</span>\n",
       "<span style=\"color: #008000; text-decoration-color: #008000\">│</span> <span style=\"color: #c0c0c0; text-decoration-color: #c0c0c0\">📋 Final Columns: Date, Headline, Journalists, Link, entities, entities_prompt, keywords, keywords_prompt, </span>     <span style=\"color: #008000; text-decoration-color: #008000\">│</span>\n",
       "<span style=\"color: #008000; text-decoration-color: #008000\">│</span> <span style=\"color: #c0c0c0; text-decoration-color: #c0c0c0\">raw_entities, raw_keywords, raw_sentiment, raw_summary, sentiment, sentiment_prompt, summary, summary_prompt, </span>  <span style=\"color: #008000; text-decoration-color: #008000\">│</span>\n",
       "<span style=\"color: #008000; text-decoration-color: #008000\">│</span> <span style=\"color: #c0c0c0; text-decoration-color: #c0c0c0\">text, ticker_prompt</span>                                                                                             <span style=\"color: #008000; text-decoration-color: #008000\">│</span>\n",
       "<span style=\"color: #008000; text-decoration-color: #008000\">╰─────────────────────────────────────────────────────────────────────────────────────────────────────────────────╯</span>\n",
       "</pre>\n"
      ],
      "text/plain": [
       "\u001b[32m╭─\u001b[0m\u001b[32m───────────────────────────────────────\u001b[0m\u001b[32m \u001b[0m\u001b[1;32mstock_ticker_prompt - Complete\u001b[0m\u001b[32m \u001b[0m\u001b[32m────────────────────────────────────────\u001b[0m\u001b[32m─╮\u001b[0m\n",
       "\u001b[32m│\u001b[0m \u001b[1;32m✅ Processing Complete\u001b[0m                                                                                          \u001b[32m│\u001b[0m\n",
       "\u001b[32m│\u001b[0m \u001b[36mRows: 50 → 50\u001b[0m                                                                                                   \u001b[32m│\u001b[0m\n",
       "\u001b[32m│\u001b[0m \u001b[36mColumns: 17 → 18\u001b[0m                                                                                                \u001b[32m│\u001b[0m\n",
       "\u001b[32m│\u001b[0m \u001b[32m🟢 Added: ticker_prompt\u001b[0m                                                                                         \u001b[32m│\u001b[0m\n",
       "\u001b[32m│\u001b[0m \u001b[37m📋 Final Columns: Date, Headline, Journalists, Link, entities, entities_prompt, keywords, keywords_prompt, \u001b[0m     \u001b[32m│\u001b[0m\n",
       "\u001b[32m│\u001b[0m \u001b[37mraw_entities, raw_keywords, raw_sentiment, raw_summary, sentiment, sentiment_prompt, summary, summary_prompt, \u001b[0m  \u001b[32m│\u001b[0m\n",
       "\u001b[32m│\u001b[0m \u001b[37mtext, ticker_prompt\u001b[0m                                                                                             \u001b[32m│\u001b[0m\n",
       "\u001b[32m╰─────────────────────────────────────────────────────────────────────────────────────────────────────────────────╯\u001b[0m\n"
      ]
     },
     "metadata": {},
     "output_type": "display_data"
    },
    {
     "data": {
      "text/html": [
       "<pre style=\"white-space:pre;overflow-x:auto;line-height:normal;font-family:Menlo,'DejaVu Sans Mono',consolas,'Courier New',monospace\"><span style=\"color: #7fbfbf; text-decoration-color: #7fbfbf\">           </span><span style=\"color: #000080; text-decoration-color: #000080\">INFO    </span> Block <span style=\"color: #008000; text-decoration-color: #008000\">'stock_ticker_prompt'</span> completed successfully: <span style=\"color: #008080; text-decoration-color: #008080; font-weight: bold\">50</span> samples, <span style=\"color: #008080; text-decoration-color: #008080; font-weight: bold\">18</span> columns          <a href=\"file:///Users/shiv/workspace/sdg_hub/src/sdg_hub/core/flow/base.py\" target=\"_blank\"><span style=\"color: #7f7f7f; text-decoration-color: #7f7f7f\">base.py</span></a><span style=\"color: #7f7f7f; text-decoration-color: #7f7f7f\">:</span><a href=\"file:///Users/shiv/workspace/sdg_hub/src/sdg_hub/core/flow/base.py#732\" target=\"_blank\"><span style=\"color: #7f7f7f; text-decoration-color: #7f7f7f\">732</span></a>\n",
       "</pre>\n"
      ],
      "text/plain": [
       "\u001b[2;36m          \u001b[0m\u001b[2;36m \u001b[0m\u001b[34mINFO    \u001b[0m Block \u001b[32m'stock_ticker_prompt'\u001b[0m completed successfully: \u001b[1;36m50\u001b[0m samples, \u001b[1;36m18\u001b[0m columns          \u001b]8;id=257287;file:///Users/shiv/workspace/sdg_hub/src/sdg_hub/core/flow/base.py\u001b\\\u001b[2mbase.py\u001b[0m\u001b]8;;\u001b\\\u001b[2m:\u001b[0m\u001b]8;id=555925;file:///Users/shiv/workspace/sdg_hub/src/sdg_hub/core/flow/base.py#732\u001b\\\u001b[2m732\u001b[0m\u001b]8;;\u001b\\\n"
      ]
     },
     "metadata": {},
     "output_type": "display_data"
    },
    {
     "data": {
      "text/html": [
       "<pre style=\"white-space:pre;overflow-x:auto;line-height:normal;font-family:Menlo,'DejaVu Sans Mono',consolas,'Courier New',monospace\"><span style=\"color: #7fbfbf; text-decoration-color: #7fbfbf\">           </span><span style=\"color: #000080; text-decoration-color: #000080\">INFO    </span> Executing block <span style=\"color: #008080; text-decoration-color: #008080; font-weight: bold\">14</span>/<span style=\"color: #008080; text-decoration-color: #008080; font-weight: bold\">16</span>: extract_stock_tickers <span style=\"font-weight: bold\">(</span>LLMChatBlock<span style=\"font-weight: bold\">)</span>                         <a href=\"file:///Users/shiv/workspace/sdg_hub/src/sdg_hub/core/flow/base.py\" target=\"_blank\"><span style=\"color: #7f7f7f; text-decoration-color: #7f7f7f\">base.py</span></a><span style=\"color: #7f7f7f; text-decoration-color: #7f7f7f\">:</span><a href=\"file:///Users/shiv/workspace/sdg_hub/src/sdg_hub/core/flow/base.py#670\" target=\"_blank\"><span style=\"color: #7f7f7f; text-decoration-color: #7f7f7f\">670</span></a>\n",
       "</pre>\n"
      ],
      "text/plain": [
       "\u001b[2;36m          \u001b[0m\u001b[2;36m \u001b[0m\u001b[34mINFO    \u001b[0m Executing block \u001b[1;36m14\u001b[0m/\u001b[1;36m16\u001b[0m: extract_stock_tickers \u001b[1m(\u001b[0mLLMChatBlock\u001b[1m)\u001b[0m                         \u001b]8;id=375847;file:///Users/shiv/workspace/sdg_hub/src/sdg_hub/core/flow/base.py\u001b\\\u001b[2mbase.py\u001b[0m\u001b]8;;\u001b\\\u001b[2m:\u001b[0m\u001b]8;id=931068;file:///Users/shiv/workspace/sdg_hub/src/sdg_hub/core/flow/base.py#670\u001b\\\u001b[2m670\u001b[0m\u001b]8;;\u001b\\\n"
      ]
     },
     "metadata": {},
     "output_type": "display_data"
    },
    {
     "data": {
      "text/html": [
       "<pre style=\"white-space:pre;overflow-x:auto;line-height:normal;font-family:Menlo,'DejaVu Sans Mono',consolas,'Courier New',monospace\"><span style=\"color: #000080; text-decoration-color: #000080\">╭───────────────────────────────────────────── </span><span style=\"color: #000080; text-decoration-color: #000080; font-weight: bold\">extract_stock_tickers</span><span style=\"color: #000080; text-decoration-color: #000080\"> ─────────────────────────────────────────────╮</span>\n",
       "<span style=\"color: #000080; text-decoration-color: #000080\">│</span> <span style=\"color: #000080; text-decoration-color: #000080; font-weight: bold\">📊 Processing Input Data</span>                                                                                        <span style=\"color: #000080; text-decoration-color: #000080\">│</span>\n",
       "<span style=\"color: #000080; text-decoration-color: #000080\">│</span> <span style=\"color: #008080; text-decoration-color: #008080\">Block Type: LLMChatBlock</span>                                                                                        <span style=\"color: #000080; text-decoration-color: #000080\">│</span>\n",
       "<span style=\"color: #000080; text-decoration-color: #000080\">│</span> <span style=\"color: #008080; text-decoration-color: #008080; font-weight: bold\">Input Rows: 50</span>                                                                                                  <span style=\"color: #000080; text-decoration-color: #000080\">│</span>\n",
       "<span style=\"color: #000080; text-decoration-color: #000080\">│</span> <span style=\"color: #008080; text-decoration-color: #008080\">Input Columns: 18</span>                                                                                               <span style=\"color: #000080; text-decoration-color: #000080\">│</span>\n",
       "<span style=\"color: #000080; text-decoration-color: #000080\">│</span> <span style=\"color: #c0c0c0; text-decoration-color: #c0c0c0\">Column Names: Headline, Journalists, Date, Link, text, summary_prompt, raw_summary, summary, keywords_prompt, </span>  <span style=\"color: #000080; text-decoration-color: #000080\">│</span>\n",
       "<span style=\"color: #000080; text-decoration-color: #000080\">│</span> <span style=\"color: #c0c0c0; text-decoration-color: #c0c0c0\">raw_keywords, keywords, entities_prompt, raw_entities, entities, sentiment_prompt, raw_sentiment, sentiment, </span>   <span style=\"color: #000080; text-decoration-color: #000080\">│</span>\n",
       "<span style=\"color: #000080; text-decoration-color: #000080\">│</span> <span style=\"color: #c0c0c0; text-decoration-color: #c0c0c0\">ticker_prompt</span>                                                                                                   <span style=\"color: #000080; text-decoration-color: #000080\">│</span>\n",
       "<span style=\"color: #000080; text-decoration-color: #000080\">│</span> <span style=\"color: #008000; text-decoration-color: #008000\">Expected Output Columns: raw_stock_tickers</span>                                                                      <span style=\"color: #000080; text-decoration-color: #000080\">│</span>\n",
       "<span style=\"color: #000080; text-decoration-color: #000080\">╰─────────────────────────────────────────────────────────────────────────────────────────────────────────────────╯</span>\n",
       "</pre>\n"
      ],
      "text/plain": [
       "\u001b[34m╭─\u001b[0m\u001b[34m────────────────────────────────────────────\u001b[0m\u001b[34m \u001b[0m\u001b[1;34mextract_stock_tickers\u001b[0m\u001b[34m \u001b[0m\u001b[34m────────────────────────────────────────────\u001b[0m\u001b[34m─╮\u001b[0m\n",
       "\u001b[34m│\u001b[0m \u001b[1;34m📊 Processing Input Data\u001b[0m                                                                                        \u001b[34m│\u001b[0m\n",
       "\u001b[34m│\u001b[0m \u001b[36mBlock Type: LLMChatBlock\u001b[0m                                                                                        \u001b[34m│\u001b[0m\n",
       "\u001b[34m│\u001b[0m \u001b[1;36mInput Rows: 50\u001b[0m                                                                                                  \u001b[34m│\u001b[0m\n",
       "\u001b[34m│\u001b[0m \u001b[36mInput Columns: 18\u001b[0m                                                                                               \u001b[34m│\u001b[0m\n",
       "\u001b[34m│\u001b[0m \u001b[37mColumn Names: Headline, Journalists, Date, Link, text, summary_prompt, raw_summary, summary, keywords_prompt, \u001b[0m  \u001b[34m│\u001b[0m\n",
       "\u001b[34m│\u001b[0m \u001b[37mraw_keywords, keywords, entities_prompt, raw_entities, entities, sentiment_prompt, raw_sentiment, sentiment, \u001b[0m   \u001b[34m│\u001b[0m\n",
       "\u001b[34m│\u001b[0m \u001b[37mticker_prompt\u001b[0m                                                                                                   \u001b[34m│\u001b[0m\n",
       "\u001b[34m│\u001b[0m \u001b[32mExpected Output Columns: raw_stock_tickers\u001b[0m                                                                      \u001b[34m│\u001b[0m\n",
       "\u001b[34m╰─────────────────────────────────────────────────────────────────────────────────────────────────────────────────╯\u001b[0m\n"
      ]
     },
     "metadata": {},
     "output_type": "display_data"
    },
    {
     "data": {
      "text/html": [
       "<pre style=\"white-space:pre;overflow-x:auto;line-height:normal;font-family:Menlo,'DejaVu Sans Mono',consolas,'Courier New',monospace\"><span style=\"color: #7fbfbf; text-decoration-color: #7fbfbf\">           </span><span style=\"color: #000080; text-decoration-color: #000080\">INFO    </span> Starting sync generation for <span style=\"color: #008080; text-decoration-color: #008080; font-weight: bold\">50</span> samples                                   <a href=\"file:///Users/shiv/workspace/sdg_hub/src/sdg_hub/core/blocks/llm/llm_chat_block.py\" target=\"_blank\"><span style=\"color: #7f7f7f; text-decoration-color: #7f7f7f\">llm_chat_block.py</span></a><span style=\"color: #7f7f7f; text-decoration-color: #7f7f7f\">:</span><a href=\"file:///Users/shiv/workspace/sdg_hub/src/sdg_hub/core/blocks/llm/llm_chat_block.py#329\" target=\"_blank\"><span style=\"color: #7f7f7f; text-decoration-color: #7f7f7f\">329</span></a>\n",
       "</pre>\n"
      ],
      "text/plain": [
       "\u001b[2;36m          \u001b[0m\u001b[2;36m \u001b[0m\u001b[34mINFO    \u001b[0m Starting sync generation for \u001b[1;36m50\u001b[0m samples                                   \u001b]8;id=710573;file:///Users/shiv/workspace/sdg_hub/src/sdg_hub/core/blocks/llm/llm_chat_block.py\u001b\\\u001b[2mllm_chat_block.py\u001b[0m\u001b]8;;\u001b\\\u001b[2m:\u001b[0m\u001b]8;id=214522;file:///Users/shiv/workspace/sdg_hub/src/sdg_hub/core/blocks/llm/llm_chat_block.py#329\u001b\\\u001b[2m329\u001b[0m\u001b]8;;\u001b\\\n"
      ]
     },
     "metadata": {},
     "output_type": "display_data"
    },
    {
     "data": {
      "text/html": [
       "<pre style=\"white-space:pre;overflow-x:auto;line-height:normal;font-family:Menlo,'DejaVu Sans Mono',consolas,'Courier New',monospace\"><span style=\"color: #7fbfbf; text-decoration-color: #7fbfbf\">[15:19:10] </span><span style=\"color: #000080; text-decoration-color: #000080\">INFO    </span> Generation completed successfully for <span style=\"color: #008080; text-decoration-color: #008080; font-weight: bold\">50</span> samples                          <a href=\"file:///Users/shiv/workspace/sdg_hub/src/sdg_hub/core/blocks/llm/llm_chat_block.py\" target=\"_blank\"><span style=\"color: #7f7f7f; text-decoration-color: #7f7f7f\">llm_chat_block.py</span></a><span style=\"color: #7f7f7f; text-decoration-color: #7f7f7f\">:</span><a href=\"file:///Users/shiv/workspace/sdg_hub/src/sdg_hub/core/blocks/llm/llm_chat_block.py#393\" target=\"_blank\"><span style=\"color: #7f7f7f; text-decoration-color: #7f7f7f\">393</span></a>\n",
       "</pre>\n"
      ],
      "text/plain": [
       "\u001b[2;36m[15:19:10]\u001b[0m\u001b[2;36m \u001b[0m\u001b[34mINFO    \u001b[0m Generation completed successfully for \u001b[1;36m50\u001b[0m samples                          \u001b]8;id=304891;file:///Users/shiv/workspace/sdg_hub/src/sdg_hub/core/blocks/llm/llm_chat_block.py\u001b\\\u001b[2mllm_chat_block.py\u001b[0m\u001b]8;;\u001b\\\u001b[2m:\u001b[0m\u001b]8;id=96735;file:///Users/shiv/workspace/sdg_hub/src/sdg_hub/core/blocks/llm/llm_chat_block.py#393\u001b\\\u001b[2m393\u001b[0m\u001b]8;;\u001b\\\n"
      ]
     },
     "metadata": {},
     "output_type": "display_data"
    },
    {
     "data": {
      "text/html": [
       "<pre style=\"white-space:pre;overflow-x:auto;line-height:normal;font-family:Menlo,'DejaVu Sans Mono',consolas,'Courier New',monospace\"><span style=\"color: #008000; text-decoration-color: #008000\">╭─────────────────────────────────────── </span><span style=\"color: #008000; text-decoration-color: #008000; font-weight: bold\">extract_stock_tickers - Complete</span><span style=\"color: #008000; text-decoration-color: #008000\"> ────────────────────────────────────────╮</span>\n",
       "<span style=\"color: #008000; text-decoration-color: #008000\">│</span> <span style=\"color: #008000; text-decoration-color: #008000; font-weight: bold\">✅ Processing Complete</span>                                                                                          <span style=\"color: #008000; text-decoration-color: #008000\">│</span>\n",
       "<span style=\"color: #008000; text-decoration-color: #008000\">│</span> <span style=\"color: #008080; text-decoration-color: #008080\">Rows: 50 → 50</span>                                                                                                   <span style=\"color: #008000; text-decoration-color: #008000\">│</span>\n",
       "<span style=\"color: #008000; text-decoration-color: #008000\">│</span> <span style=\"color: #008080; text-decoration-color: #008080\">Columns: 18 → 19</span>                                                                                                <span style=\"color: #008000; text-decoration-color: #008000\">│</span>\n",
       "<span style=\"color: #008000; text-decoration-color: #008000\">│</span> <span style=\"color: #008000; text-decoration-color: #008000\">🟢 Added: raw_stock_tickers</span>                                                                                     <span style=\"color: #008000; text-decoration-color: #008000\">│</span>\n",
       "<span style=\"color: #008000; text-decoration-color: #008000\">│</span> <span style=\"color: #c0c0c0; text-decoration-color: #c0c0c0\">📋 Final Columns: Date, Headline, Journalists, Link, entities, entities_prompt, keywords, keywords_prompt, </span>     <span style=\"color: #008000; text-decoration-color: #008000\">│</span>\n",
       "<span style=\"color: #008000; text-decoration-color: #008000\">│</span> <span style=\"color: #c0c0c0; text-decoration-color: #c0c0c0\">raw_entities, raw_keywords, raw_sentiment, raw_stock_tickers, raw_summary, sentiment, sentiment_prompt, </span>        <span style=\"color: #008000; text-decoration-color: #008000\">│</span>\n",
       "<span style=\"color: #008000; text-decoration-color: #008000\">│</span> <span style=\"color: #c0c0c0; text-decoration-color: #c0c0c0\">summary, summary_prompt, text, ticker_prompt</span>                                                                    <span style=\"color: #008000; text-decoration-color: #008000\">│</span>\n",
       "<span style=\"color: #008000; text-decoration-color: #008000\">╰─────────────────────────────────────────────────────────────────────────────────────────────────────────────────╯</span>\n",
       "</pre>\n"
      ],
      "text/plain": [
       "\u001b[32m╭─\u001b[0m\u001b[32m──────────────────────────────────────\u001b[0m\u001b[32m \u001b[0m\u001b[1;32mextract_stock_tickers - Complete\u001b[0m\u001b[32m \u001b[0m\u001b[32m───────────────────────────────────────\u001b[0m\u001b[32m─╮\u001b[0m\n",
       "\u001b[32m│\u001b[0m \u001b[1;32m✅ Processing Complete\u001b[0m                                                                                          \u001b[32m│\u001b[0m\n",
       "\u001b[32m│\u001b[0m \u001b[36mRows: 50 → 50\u001b[0m                                                                                                   \u001b[32m│\u001b[0m\n",
       "\u001b[32m│\u001b[0m \u001b[36mColumns: 18 → 19\u001b[0m                                                                                                \u001b[32m│\u001b[0m\n",
       "\u001b[32m│\u001b[0m \u001b[32m🟢 Added: raw_stock_tickers\u001b[0m                                                                                     \u001b[32m│\u001b[0m\n",
       "\u001b[32m│\u001b[0m \u001b[37m📋 Final Columns: Date, Headline, Journalists, Link, entities, entities_prompt, keywords, keywords_prompt, \u001b[0m     \u001b[32m│\u001b[0m\n",
       "\u001b[32m│\u001b[0m \u001b[37mraw_entities, raw_keywords, raw_sentiment, raw_stock_tickers, raw_summary, sentiment, sentiment_prompt, \u001b[0m        \u001b[32m│\u001b[0m\n",
       "\u001b[32m│\u001b[0m \u001b[37msummary, summary_prompt, text, ticker_prompt\u001b[0m                                                                    \u001b[32m│\u001b[0m\n",
       "\u001b[32m╰─────────────────────────────────────────────────────────────────────────────────────────────────────────────────╯\u001b[0m\n"
      ]
     },
     "metadata": {},
     "output_type": "display_data"
    },
    {
     "data": {
      "text/html": [
       "<pre style=\"white-space:pre;overflow-x:auto;line-height:normal;font-family:Menlo,'DejaVu Sans Mono',consolas,'Courier New',monospace\"><span style=\"color: #7fbfbf; text-decoration-color: #7fbfbf\">[15:19:10] </span><span style=\"color: #000080; text-decoration-color: #000080\">INFO    </span> Block <span style=\"color: #008000; text-decoration-color: #008000\">'extract_stock_tickers'</span> completed successfully: <span style=\"color: #008080; text-decoration-color: #008080; font-weight: bold\">50</span> samples, <span style=\"color: #008080; text-decoration-color: #008080; font-weight: bold\">19</span> columns        <a href=\"file:///Users/shiv/workspace/sdg_hub/src/sdg_hub/core/flow/base.py\" target=\"_blank\"><span style=\"color: #7f7f7f; text-decoration-color: #7f7f7f\">base.py</span></a><span style=\"color: #7f7f7f; text-decoration-color: #7f7f7f\">:</span><a href=\"file:///Users/shiv/workspace/sdg_hub/src/sdg_hub/core/flow/base.py#732\" target=\"_blank\"><span style=\"color: #7f7f7f; text-decoration-color: #7f7f7f\">732</span></a>\n",
       "</pre>\n"
      ],
      "text/plain": [
       "\u001b[2;36m[15:19:10]\u001b[0m\u001b[2;36m \u001b[0m\u001b[34mINFO    \u001b[0m Block \u001b[32m'extract_stock_tickers'\u001b[0m completed successfully: \u001b[1;36m50\u001b[0m samples, \u001b[1;36m19\u001b[0m columns        \u001b]8;id=506298;file:///Users/shiv/workspace/sdg_hub/src/sdg_hub/core/flow/base.py\u001b\\\u001b[2mbase.py\u001b[0m\u001b]8;;\u001b\\\u001b[2m:\u001b[0m\u001b]8;id=34634;file:///Users/shiv/workspace/sdg_hub/src/sdg_hub/core/flow/base.py#732\u001b\\\u001b[2m732\u001b[0m\u001b]8;;\u001b\\\n"
      ]
     },
     "metadata": {},
     "output_type": "display_data"
    },
    {
     "data": {
      "text/html": [
       "<pre style=\"white-space:pre;overflow-x:auto;line-height:normal;font-family:Menlo,'DejaVu Sans Mono',consolas,'Courier New',monospace\"><span style=\"color: #7fbfbf; text-decoration-color: #7fbfbf\">           </span><span style=\"color: #000080; text-decoration-color: #000080\">INFO    </span> Executing block <span style=\"color: #008080; text-decoration-color: #008080; font-weight: bold\">15</span>/<span style=\"color: #008080; text-decoration-color: #008080; font-weight: bold\">16</span>: parse_stock_tickers <span style=\"font-weight: bold\">(</span>TextParserBlock<span style=\"font-weight: bold\">)</span>                        <a href=\"file:///Users/shiv/workspace/sdg_hub/src/sdg_hub/core/flow/base.py\" target=\"_blank\"><span style=\"color: #7f7f7f; text-decoration-color: #7f7f7f\">base.py</span></a><span style=\"color: #7f7f7f; text-decoration-color: #7f7f7f\">:</span><a href=\"file:///Users/shiv/workspace/sdg_hub/src/sdg_hub/core/flow/base.py#670\" target=\"_blank\"><span style=\"color: #7f7f7f; text-decoration-color: #7f7f7f\">670</span></a>\n",
       "</pre>\n"
      ],
      "text/plain": [
       "\u001b[2;36m          \u001b[0m\u001b[2;36m \u001b[0m\u001b[34mINFO    \u001b[0m Executing block \u001b[1;36m15\u001b[0m/\u001b[1;36m16\u001b[0m: parse_stock_tickers \u001b[1m(\u001b[0mTextParserBlock\u001b[1m)\u001b[0m                        \u001b]8;id=97416;file:///Users/shiv/workspace/sdg_hub/src/sdg_hub/core/flow/base.py\u001b\\\u001b[2mbase.py\u001b[0m\u001b]8;;\u001b\\\u001b[2m:\u001b[0m\u001b]8;id=549752;file:///Users/shiv/workspace/sdg_hub/src/sdg_hub/core/flow/base.py#670\u001b\\\u001b[2m670\u001b[0m\u001b]8;;\u001b\\\n"
      ]
     },
     "metadata": {},
     "output_type": "display_data"
    },
    {
     "data": {
      "text/html": [
       "<pre style=\"white-space:pre;overflow-x:auto;line-height:normal;font-family:Menlo,'DejaVu Sans Mono',consolas,'Courier New',monospace\"><span style=\"color: #000080; text-decoration-color: #000080\">╭────────────────────────────────────────────── </span><span style=\"color: #000080; text-decoration-color: #000080; font-weight: bold\">parse_stock_tickers</span><span style=\"color: #000080; text-decoration-color: #000080\"> ──────────────────────────────────────────────╮</span>\n",
       "<span style=\"color: #000080; text-decoration-color: #000080\">│</span> <span style=\"color: #000080; text-decoration-color: #000080; font-weight: bold\">📊 Processing Input Data</span>                                                                                        <span style=\"color: #000080; text-decoration-color: #000080\">│</span>\n",
       "<span style=\"color: #000080; text-decoration-color: #000080\">│</span> <span style=\"color: #008080; text-decoration-color: #008080\">Block Type: TextParserBlock</span>                                                                                     <span style=\"color: #000080; text-decoration-color: #000080\">│</span>\n",
       "<span style=\"color: #000080; text-decoration-color: #000080\">│</span> <span style=\"color: #008080; text-decoration-color: #008080; font-weight: bold\">Input Rows: 50</span>                                                                                                  <span style=\"color: #000080; text-decoration-color: #000080\">│</span>\n",
       "<span style=\"color: #000080; text-decoration-color: #000080\">│</span> <span style=\"color: #008080; text-decoration-color: #008080\">Input Columns: 19</span>                                                                                               <span style=\"color: #000080; text-decoration-color: #000080\">│</span>\n",
       "<span style=\"color: #000080; text-decoration-color: #000080\">│</span> <span style=\"color: #c0c0c0; text-decoration-color: #c0c0c0\">Column Names: Headline, Journalists, Date, Link, text, summary_prompt, raw_summary, summary, keywords_prompt, </span>  <span style=\"color: #000080; text-decoration-color: #000080\">│</span>\n",
       "<span style=\"color: #000080; text-decoration-color: #000080\">│</span> <span style=\"color: #c0c0c0; text-decoration-color: #c0c0c0\">raw_keywords, keywords, entities_prompt, raw_entities, entities, sentiment_prompt, raw_sentiment, sentiment, </span>   <span style=\"color: #000080; text-decoration-color: #000080\">│</span>\n",
       "<span style=\"color: #000080; text-decoration-color: #000080\">│</span> <span style=\"color: #c0c0c0; text-decoration-color: #c0c0c0\">ticker_prompt, raw_stock_tickers</span>                                                                                <span style=\"color: #000080; text-decoration-color: #000080\">│</span>\n",
       "<span style=\"color: #000080; text-decoration-color: #000080\">│</span> <span style=\"color: #008000; text-decoration-color: #008000\">Expected Output Columns: stock_tickers</span>                                                                          <span style=\"color: #000080; text-decoration-color: #000080\">│</span>\n",
       "<span style=\"color: #000080; text-decoration-color: #000080\">╰─────────────────────────────────────────────────────────────────────────────────────────────────────────────────╯</span>\n",
       "</pre>\n"
      ],
      "text/plain": [
       "\u001b[34m╭─\u001b[0m\u001b[34m─────────────────────────────────────────────\u001b[0m\u001b[34m \u001b[0m\u001b[1;34mparse_stock_tickers\u001b[0m\u001b[34m \u001b[0m\u001b[34m─────────────────────────────────────────────\u001b[0m\u001b[34m─╮\u001b[0m\n",
       "\u001b[34m│\u001b[0m \u001b[1;34m📊 Processing Input Data\u001b[0m                                                                                        \u001b[34m│\u001b[0m\n",
       "\u001b[34m│\u001b[0m \u001b[36mBlock Type: TextParserBlock\u001b[0m                                                                                     \u001b[34m│\u001b[0m\n",
       "\u001b[34m│\u001b[0m \u001b[1;36mInput Rows: 50\u001b[0m                                                                                                  \u001b[34m│\u001b[0m\n",
       "\u001b[34m│\u001b[0m \u001b[36mInput Columns: 19\u001b[0m                                                                                               \u001b[34m│\u001b[0m\n",
       "\u001b[34m│\u001b[0m \u001b[37mColumn Names: Headline, Journalists, Date, Link, text, summary_prompt, raw_summary, summary, keywords_prompt, \u001b[0m  \u001b[34m│\u001b[0m\n",
       "\u001b[34m│\u001b[0m \u001b[37mraw_keywords, keywords, entities_prompt, raw_entities, entities, sentiment_prompt, raw_sentiment, sentiment, \u001b[0m   \u001b[34m│\u001b[0m\n",
       "\u001b[34m│\u001b[0m \u001b[37mticker_prompt, raw_stock_tickers\u001b[0m                                                                                \u001b[34m│\u001b[0m\n",
       "\u001b[34m│\u001b[0m \u001b[32mExpected Output Columns: stock_tickers\u001b[0m                                                                          \u001b[34m│\u001b[0m\n",
       "\u001b[34m╰─────────────────────────────────────────────────────────────────────────────────────────────────────────────────╯\u001b[0m\n"
      ]
     },
     "metadata": {},
     "output_type": "display_data"
    },
    {
     "data": {
      "text/html": [
       "<pre style=\"white-space:pre;overflow-x:auto;line-height:normal;font-family:Menlo,'DejaVu Sans Mono',consolas,'Courier New',monospace\"><span style=\"color: #008000; text-decoration-color: #008000\">╭──────────────────────────────────────── </span><span style=\"color: #008000; text-decoration-color: #008000; font-weight: bold\">parse_stock_tickers - Complete</span><span style=\"color: #008000; text-decoration-color: #008000\"> ─────────────────────────────────────────╮</span>\n",
       "<span style=\"color: #008000; text-decoration-color: #008000\">│</span> <span style=\"color: #008000; text-decoration-color: #008000; font-weight: bold\">✅ Processing Complete</span>                                                                                          <span style=\"color: #008000; text-decoration-color: #008000\">│</span>\n",
       "<span style=\"color: #008000; text-decoration-color: #008000\">│</span> <span style=\"color: #008080; text-decoration-color: #008080\">Rows: 50 → 50</span>                                                                                                   <span style=\"color: #008000; text-decoration-color: #008000\">│</span>\n",
       "<span style=\"color: #008000; text-decoration-color: #008000\">│</span> <span style=\"color: #008080; text-decoration-color: #008080\">Columns: 19 → 20</span>                                                                                                <span style=\"color: #008000; text-decoration-color: #008000\">│</span>\n",
       "<span style=\"color: #008000; text-decoration-color: #008000\">│</span> <span style=\"color: #008000; text-decoration-color: #008000\">🟢 Added: stock_tickers</span>                                                                                         <span style=\"color: #008000; text-decoration-color: #008000\">│</span>\n",
       "<span style=\"color: #008000; text-decoration-color: #008000\">│</span> <span style=\"color: #c0c0c0; text-decoration-color: #c0c0c0\">📋 Final Columns: Date, Headline, Journalists, Link, entities, entities_prompt, keywords, keywords_prompt, </span>     <span style=\"color: #008000; text-decoration-color: #008000\">│</span>\n",
       "<span style=\"color: #008000; text-decoration-color: #008000\">│</span> <span style=\"color: #c0c0c0; text-decoration-color: #c0c0c0\">raw_entities, raw_keywords, raw_sentiment, raw_stock_tickers, raw_summary, sentiment, sentiment_prompt, </span>        <span style=\"color: #008000; text-decoration-color: #008000\">│</span>\n",
       "<span style=\"color: #008000; text-decoration-color: #008000\">│</span> <span style=\"color: #c0c0c0; text-decoration-color: #c0c0c0\">stock_tickers, summary, summary_prompt, text, ticker_prompt</span>                                                     <span style=\"color: #008000; text-decoration-color: #008000\">│</span>\n",
       "<span style=\"color: #008000; text-decoration-color: #008000\">╰─────────────────────────────────────────────────────────────────────────────────────────────────────────────────╯</span>\n",
       "</pre>\n"
      ],
      "text/plain": [
       "\u001b[32m╭─\u001b[0m\u001b[32m───────────────────────────────────────\u001b[0m\u001b[32m \u001b[0m\u001b[1;32mparse_stock_tickers - Complete\u001b[0m\u001b[32m \u001b[0m\u001b[32m────────────────────────────────────────\u001b[0m\u001b[32m─╮\u001b[0m\n",
       "\u001b[32m│\u001b[0m \u001b[1;32m✅ Processing Complete\u001b[0m                                                                                          \u001b[32m│\u001b[0m\n",
       "\u001b[32m│\u001b[0m \u001b[36mRows: 50 → 50\u001b[0m                                                                                                   \u001b[32m│\u001b[0m\n",
       "\u001b[32m│\u001b[0m \u001b[36mColumns: 19 → 20\u001b[0m                                                                                                \u001b[32m│\u001b[0m\n",
       "\u001b[32m│\u001b[0m \u001b[32m🟢 Added: stock_tickers\u001b[0m                                                                                         \u001b[32m│\u001b[0m\n",
       "\u001b[32m│\u001b[0m \u001b[37m📋 Final Columns: Date, Headline, Journalists, Link, entities, entities_prompt, keywords, keywords_prompt, \u001b[0m     \u001b[32m│\u001b[0m\n",
       "\u001b[32m│\u001b[0m \u001b[37mraw_entities, raw_keywords, raw_sentiment, raw_stock_tickers, raw_summary, sentiment, sentiment_prompt, \u001b[0m        \u001b[32m│\u001b[0m\n",
       "\u001b[32m│\u001b[0m \u001b[37mstock_tickers, summary, summary_prompt, text, ticker_prompt\u001b[0m                                                     \u001b[32m│\u001b[0m\n",
       "\u001b[32m╰─────────────────────────────────────────────────────────────────────────────────────────────────────────────────╯\u001b[0m\n"
      ]
     },
     "metadata": {},
     "output_type": "display_data"
    },
    {
     "data": {
      "text/html": [
       "<pre style=\"white-space:pre;overflow-x:auto;line-height:normal;font-family:Menlo,'DejaVu Sans Mono',consolas,'Courier New',monospace\"><span style=\"color: #7fbfbf; text-decoration-color: #7fbfbf\">           </span><span style=\"color: #000080; text-decoration-color: #000080\">INFO    </span> Block <span style=\"color: #008000; text-decoration-color: #008000\">'parse_stock_tickers'</span> completed successfully: <span style=\"color: #008080; text-decoration-color: #008080; font-weight: bold\">50</span> samples, <span style=\"color: #008080; text-decoration-color: #008080; font-weight: bold\">20</span> columns          <a href=\"file:///Users/shiv/workspace/sdg_hub/src/sdg_hub/core/flow/base.py\" target=\"_blank\"><span style=\"color: #7f7f7f; text-decoration-color: #7f7f7f\">base.py</span></a><span style=\"color: #7f7f7f; text-decoration-color: #7f7f7f\">:</span><a href=\"file:///Users/shiv/workspace/sdg_hub/src/sdg_hub/core/flow/base.py#732\" target=\"_blank\"><span style=\"color: #7f7f7f; text-decoration-color: #7f7f7f\">732</span></a>\n",
       "</pre>\n"
      ],
      "text/plain": [
       "\u001b[2;36m          \u001b[0m\u001b[2;36m \u001b[0m\u001b[34mINFO    \u001b[0m Block \u001b[32m'parse_stock_tickers'\u001b[0m completed successfully: \u001b[1;36m50\u001b[0m samples, \u001b[1;36m20\u001b[0m columns          \u001b]8;id=741856;file:///Users/shiv/workspace/sdg_hub/src/sdg_hub/core/flow/base.py\u001b\\\u001b[2mbase.py\u001b[0m\u001b]8;;\u001b\\\u001b[2m:\u001b[0m\u001b]8;id=936190;file:///Users/shiv/workspace/sdg_hub/src/sdg_hub/core/flow/base.py#732\u001b\\\u001b[2m732\u001b[0m\u001b]8;;\u001b\\\n"
      ]
     },
     "metadata": {},
     "output_type": "display_data"
    },
    {
     "data": {
      "text/html": [
       "<pre style=\"white-space:pre;overflow-x:auto;line-height:normal;font-family:Menlo,'DejaVu Sans Mono',consolas,'Courier New',monospace\"><span style=\"color: #7fbfbf; text-decoration-color: #7fbfbf\">           </span><span style=\"color: #000080; text-decoration-color: #000080\">INFO    </span> Executing block <span style=\"color: #008080; text-decoration-color: #008080; font-weight: bold\">16</span>/<span style=\"color: #008080; text-decoration-color: #008080; font-weight: bold\">16</span>: create_enhanced_structured_insights <span style=\"font-weight: bold\">(</span>JSONStructureBlock<span style=\"font-weight: bold\">)</span>     <a href=\"file:///Users/shiv/workspace/sdg_hub/src/sdg_hub/core/flow/base.py\" target=\"_blank\"><span style=\"color: #7f7f7f; text-decoration-color: #7f7f7f\">base.py</span></a><span style=\"color: #7f7f7f; text-decoration-color: #7f7f7f\">:</span><a href=\"file:///Users/shiv/workspace/sdg_hub/src/sdg_hub/core/flow/base.py#670\" target=\"_blank\"><span style=\"color: #7f7f7f; text-decoration-color: #7f7f7f\">670</span></a>\n",
       "</pre>\n"
      ],
      "text/plain": [
       "\u001b[2;36m          \u001b[0m\u001b[2;36m \u001b[0m\u001b[34mINFO    \u001b[0m Executing block \u001b[1;36m16\u001b[0m/\u001b[1;36m16\u001b[0m: create_enhanced_structured_insights \u001b[1m(\u001b[0mJSONStructureBlock\u001b[1m)\u001b[0m     \u001b]8;id=149211;file:///Users/shiv/workspace/sdg_hub/src/sdg_hub/core/flow/base.py\u001b\\\u001b[2mbase.py\u001b[0m\u001b]8;;\u001b\\\u001b[2m:\u001b[0m\u001b]8;id=937859;file:///Users/shiv/workspace/sdg_hub/src/sdg_hub/core/flow/base.py#670\u001b\\\u001b[2m670\u001b[0m\u001b]8;;\u001b\\\n"
      ]
     },
     "metadata": {},
     "output_type": "display_data"
    },
    {
     "data": {
      "text/html": [
       "<pre style=\"white-space:pre;overflow-x:auto;line-height:normal;font-family:Menlo,'DejaVu Sans Mono',consolas,'Courier New',monospace\"><span style=\"color: #000080; text-decoration-color: #000080\">╭────────────────────────────────────── </span><span style=\"color: #000080; text-decoration-color: #000080; font-weight: bold\">create_enhanced_structured_insights</span><span style=\"color: #000080; text-decoration-color: #000080\"> ──────────────────────────────────────╮</span>\n",
       "<span style=\"color: #000080; text-decoration-color: #000080\">│</span> <span style=\"color: #000080; text-decoration-color: #000080; font-weight: bold\">📊 Processing Input Data</span>                                                                                        <span style=\"color: #000080; text-decoration-color: #000080\">│</span>\n",
       "<span style=\"color: #000080; text-decoration-color: #000080\">│</span> <span style=\"color: #008080; text-decoration-color: #008080\">Block Type: JSONStructureBlock</span>                                                                                  <span style=\"color: #000080; text-decoration-color: #000080\">│</span>\n",
       "<span style=\"color: #000080; text-decoration-color: #000080\">│</span> <span style=\"color: #008080; text-decoration-color: #008080; font-weight: bold\">Input Rows: 50</span>                                                                                                  <span style=\"color: #000080; text-decoration-color: #000080\">│</span>\n",
       "<span style=\"color: #000080; text-decoration-color: #000080\">│</span> <span style=\"color: #008080; text-decoration-color: #008080\">Input Columns: 20</span>                                                                                               <span style=\"color: #000080; text-decoration-color: #000080\">│</span>\n",
       "<span style=\"color: #000080; text-decoration-color: #000080\">│</span> <span style=\"color: #c0c0c0; text-decoration-color: #c0c0c0\">Column Names: Headline, Journalists, Date, Link, text, summary_prompt, raw_summary, summary, keywords_prompt, </span>  <span style=\"color: #000080; text-decoration-color: #000080\">│</span>\n",
       "<span style=\"color: #000080; text-decoration-color: #000080\">│</span> <span style=\"color: #c0c0c0; text-decoration-color: #c0c0c0\">raw_keywords, keywords, entities_prompt, raw_entities, entities, sentiment_prompt, raw_sentiment, sentiment, </span>   <span style=\"color: #000080; text-decoration-color: #000080\">│</span>\n",
       "<span style=\"color: #000080; text-decoration-color: #000080\">│</span> <span style=\"color: #c0c0c0; text-decoration-color: #c0c0c0\">ticker_prompt, raw_stock_tickers, stock_tickers</span>                                                                 <span style=\"color: #000080; text-decoration-color: #000080\">│</span>\n",
       "<span style=\"color: #000080; text-decoration-color: #000080\">│</span> <span style=\"color: #008000; text-decoration-color: #008000\">Expected Output Columns: enhanced_structured_insights</span>                                                           <span style=\"color: #000080; text-decoration-color: #000080\">│</span>\n",
       "<span style=\"color: #000080; text-decoration-color: #000080\">╰─────────────────────────────────────────────────────────────────────────────────────────────────────────────────╯</span>\n",
       "</pre>\n"
      ],
      "text/plain": [
       "\u001b[34m╭─\u001b[0m\u001b[34m─────────────────────────────────────\u001b[0m\u001b[34m \u001b[0m\u001b[1;34mcreate_enhanced_structured_insights\u001b[0m\u001b[34m \u001b[0m\u001b[34m─────────────────────────────────────\u001b[0m\u001b[34m─╮\u001b[0m\n",
       "\u001b[34m│\u001b[0m \u001b[1;34m📊 Processing Input Data\u001b[0m                                                                                        \u001b[34m│\u001b[0m\n",
       "\u001b[34m│\u001b[0m \u001b[36mBlock Type: JSONStructureBlock\u001b[0m                                                                                  \u001b[34m│\u001b[0m\n",
       "\u001b[34m│\u001b[0m \u001b[1;36mInput Rows: 50\u001b[0m                                                                                                  \u001b[34m│\u001b[0m\n",
       "\u001b[34m│\u001b[0m \u001b[36mInput Columns: 20\u001b[0m                                                                                               \u001b[34m│\u001b[0m\n",
       "\u001b[34m│\u001b[0m \u001b[37mColumn Names: Headline, Journalists, Date, Link, text, summary_prompt, raw_summary, summary, keywords_prompt, \u001b[0m  \u001b[34m│\u001b[0m\n",
       "\u001b[34m│\u001b[0m \u001b[37mraw_keywords, keywords, entities_prompt, raw_entities, entities, sentiment_prompt, raw_sentiment, sentiment, \u001b[0m   \u001b[34m│\u001b[0m\n",
       "\u001b[34m│\u001b[0m \u001b[37mticker_prompt, raw_stock_tickers, stock_tickers\u001b[0m                                                                 \u001b[34m│\u001b[0m\n",
       "\u001b[34m│\u001b[0m \u001b[32mExpected Output Columns: enhanced_structured_insights\u001b[0m                                                           \u001b[34m│\u001b[0m\n",
       "\u001b[34m╰─────────────────────────────────────────────────────────────────────────────────────────────────────────────────╯\u001b[0m\n"
      ]
     },
     "metadata": {},
     "output_type": "display_data"
    },
    {
     "name": "stderr",
     "output_type": "stream",
     "text": [
      "Map: 100%|██████████| 50/50 [00:00<00:00, 4090.33 examples/s]\n"
     ]
    },
    {
     "data": {
      "text/html": [
       "<pre style=\"white-space:pre;overflow-x:auto;line-height:normal;font-family:Menlo,'DejaVu Sans Mono',consolas,'Courier New',monospace\"><span style=\"color: #008000; text-decoration-color: #008000\">╭──────────────────────────────── </span><span style=\"color: #008000; text-decoration-color: #008000; font-weight: bold\">create_enhanced_structured_insights - Complete</span><span style=\"color: #008000; text-decoration-color: #008000\"> ─────────────────────────────────╮</span>\n",
       "<span style=\"color: #008000; text-decoration-color: #008000\">│</span> <span style=\"color: #008000; text-decoration-color: #008000; font-weight: bold\">✅ Processing Complete</span>                                                                                          <span style=\"color: #008000; text-decoration-color: #008000\">│</span>\n",
       "<span style=\"color: #008000; text-decoration-color: #008000\">│</span> <span style=\"color: #008080; text-decoration-color: #008080\">Rows: 50 → 50</span>                                                                                                   <span style=\"color: #008000; text-decoration-color: #008000\">│</span>\n",
       "<span style=\"color: #008000; text-decoration-color: #008000\">│</span> <span style=\"color: #008080; text-decoration-color: #008080\">Columns: 20 → 21</span>                                                                                                <span style=\"color: #008000; text-decoration-color: #008000\">│</span>\n",
       "<span style=\"color: #008000; text-decoration-color: #008000\">│</span> <span style=\"color: #008000; text-decoration-color: #008000\">🟢 Added: enhanced_structured_insights</span>                                                                          <span style=\"color: #008000; text-decoration-color: #008000\">│</span>\n",
       "<span style=\"color: #008000; text-decoration-color: #008000\">│</span> <span style=\"color: #c0c0c0; text-decoration-color: #c0c0c0\">📋 Final Columns: Date, Headline, Journalists, Link, enhanced_structured_insights, entities, entities_prompt, </span>  <span style=\"color: #008000; text-decoration-color: #008000\">│</span>\n",
       "<span style=\"color: #008000; text-decoration-color: #008000\">│</span> <span style=\"color: #c0c0c0; text-decoration-color: #c0c0c0\">keywords, keywords_prompt, raw_entities, raw_keywords, raw_sentiment, raw_stock_tickers, raw_summary, </span>          <span style=\"color: #008000; text-decoration-color: #008000\">│</span>\n",
       "<span style=\"color: #008000; text-decoration-color: #008000\">│</span> <span style=\"color: #c0c0c0; text-decoration-color: #c0c0c0\">sentiment, sentiment_prompt, stock_tickers, summary, summary_prompt, text, ticker_prompt</span>                        <span style=\"color: #008000; text-decoration-color: #008000\">│</span>\n",
       "<span style=\"color: #008000; text-decoration-color: #008000\">╰─────────────────────────────────────────────────────────────────────────────────────────────────────────────────╯</span>\n",
       "</pre>\n"
      ],
      "text/plain": [
       "\u001b[32m╭─\u001b[0m\u001b[32m───────────────────────────────\u001b[0m\u001b[32m \u001b[0m\u001b[1;32mcreate_enhanced_structured_insights - Complete\u001b[0m\u001b[32m \u001b[0m\u001b[32m────────────────────────────────\u001b[0m\u001b[32m─╮\u001b[0m\n",
       "\u001b[32m│\u001b[0m \u001b[1;32m✅ Processing Complete\u001b[0m                                                                                          \u001b[32m│\u001b[0m\n",
       "\u001b[32m│\u001b[0m \u001b[36mRows: 50 → 50\u001b[0m                                                                                                   \u001b[32m│\u001b[0m\n",
       "\u001b[32m│\u001b[0m \u001b[36mColumns: 20 → 21\u001b[0m                                                                                                \u001b[32m│\u001b[0m\n",
       "\u001b[32m│\u001b[0m \u001b[32m🟢 Added: enhanced_structured_insights\u001b[0m                                                                          \u001b[32m│\u001b[0m\n",
       "\u001b[32m│\u001b[0m \u001b[37m📋 Final Columns: Date, Headline, Journalists, Link, enhanced_structured_insights, entities, entities_prompt, \u001b[0m  \u001b[32m│\u001b[0m\n",
       "\u001b[32m│\u001b[0m \u001b[37mkeywords, keywords_prompt, raw_entities, raw_keywords, raw_sentiment, raw_stock_tickers, raw_summary, \u001b[0m          \u001b[32m│\u001b[0m\n",
       "\u001b[32m│\u001b[0m \u001b[37msentiment, sentiment_prompt, stock_tickers, summary, summary_prompt, text, ticker_prompt\u001b[0m                        \u001b[32m│\u001b[0m\n",
       "\u001b[32m╰─────────────────────────────────────────────────────────────────────────────────────────────────────────────────╯\u001b[0m\n"
      ]
     },
     "metadata": {},
     "output_type": "display_data"
    },
    {
     "data": {
      "text/html": [
       "<pre style=\"white-space:pre;overflow-x:auto;line-height:normal;font-family:Menlo,'DejaVu Sans Mono',consolas,'Courier New',monospace\"><span style=\"color: #7fbfbf; text-decoration-color: #7fbfbf\">           </span><span style=\"color: #000080; text-decoration-color: #000080\">INFO    </span> Block <span style=\"color: #008000; text-decoration-color: #008000\">'create_enhanced_structured_insights'</span> completed successfully: <span style=\"color: #008080; text-decoration-color: #008080; font-weight: bold\">50</span> samples, <span style=\"color: #008080; text-decoration-color: #008080; font-weight: bold\">21</span>  <a href=\"file:///Users/shiv/workspace/sdg_hub/src/sdg_hub/core/flow/base.py\" target=\"_blank\"><span style=\"color: #7f7f7f; text-decoration-color: #7f7f7f\">base.py</span></a><span style=\"color: #7f7f7f; text-decoration-color: #7f7f7f\">:</span><a href=\"file:///Users/shiv/workspace/sdg_hub/src/sdg_hub/core/flow/base.py#732\" target=\"_blank\"><span style=\"color: #7f7f7f; text-decoration-color: #7f7f7f\">732</span></a>\n",
       "<span style=\"color: #7fbfbf; text-decoration-color: #7fbfbf\">           </span>         columns                                                                             <span style=\"color: #7f7f7f; text-decoration-color: #7f7f7f\">           </span>\n",
       "</pre>\n"
      ],
      "text/plain": [
       "\u001b[2;36m          \u001b[0m\u001b[2;36m \u001b[0m\u001b[34mINFO    \u001b[0m Block \u001b[32m'create_enhanced_structured_insights'\u001b[0m completed successfully: \u001b[1;36m50\u001b[0m samples, \u001b[1;36m21\u001b[0m  \u001b]8;id=84689;file:///Users/shiv/workspace/sdg_hub/src/sdg_hub/core/flow/base.py\u001b\\\u001b[2mbase.py\u001b[0m\u001b]8;;\u001b\\\u001b[2m:\u001b[0m\u001b]8;id=752100;file:///Users/shiv/workspace/sdg_hub/src/sdg_hub/core/flow/base.py#732\u001b\\\u001b[2m732\u001b[0m\u001b]8;;\u001b\\\n",
       "\u001b[2;36m           \u001b[0m         columns                                                                             \u001b[2m           \u001b[0m\n"
      ]
     },
     "metadata": {},
     "output_type": "display_data"
    },
    {
     "data": {
      "text/html": [
       "<pre style=\"white-space:pre;overflow-x:auto;line-height:normal;font-family:Menlo,'DejaVu Sans Mono',consolas,'Courier New',monospace\">\n",
       "</pre>\n"
      ],
      "text/plain": [
       "\n"
      ]
     },
     "metadata": {},
     "output_type": "display_data"
    },
    {
     "data": {
      "text/html": [
       "<pre style=\"white-space:pre;overflow-x:auto;line-height:normal;font-family:Menlo,'DejaVu Sans Mono',consolas,'Courier New',monospace\"><span style=\"color: #00ff00; text-decoration-color: #00ff00\">╭────────────────────────────── </span><span style=\"color: #ffffff; text-decoration-color: #ffffff; font-weight: bold\">Structured Text Insights Extraction Flow</span><span style=\"color: #00ff00; text-decoration-color: #00ff00\"> - </span><span style=\"color: #008000; text-decoration-color: #008000\">Complete</span><span style=\"color: #00ff00; text-decoration-color: #00ff00\"> ──────────────────────────────╮</span>\n",
       "<span style=\"color: #00ff00; text-decoration-color: #00ff00\">│</span> <span style=\"font-style: italic\">                                       Flow Execution Summary                                        </span>           <span style=\"color: #00ff00; text-decoration-color: #00ff00\">│</span>\n",
       "<span style=\"color: #00ff00; text-decoration-color: #00ff00\">│</span> ┏━━━━━━━━━━━━━━━━━━━━━━┳━━━━━━━━━━━━━━━━━┳━━━━━━━━━━━━┳━━━━━━━━━━━━━━┳━━━━━━━━━━━━━━━━━┳━━━━━━━━━━━━┓           <span style=\"color: #00ff00; text-decoration-color: #00ff00\">│</span>\n",
       "<span style=\"color: #00ff00; text-decoration-color: #00ff00\">│</span> ┃<span style=\"color: #ffffff; text-decoration-color: #ffffff; font-weight: bold\"> Block Name           </span>┃<span style=\"color: #ffffff; text-decoration-color: #ffffff; font-weight: bold\"> Type            </span>┃<span style=\"color: #ffffff; text-decoration-color: #ffffff; font-weight: bold\">   Duration </span>┃<span style=\"color: #ffffff; text-decoration-color: #ffffff; font-weight: bold\">     Rows     </span>┃<span style=\"color: #ffffff; text-decoration-color: #ffffff; font-weight: bold\">     Columns     </span>┃<span style=\"color: #ffffff; text-decoration-color: #ffffff; font-weight: bold\">   Status   </span>┃           <span style=\"color: #00ff00; text-decoration-color: #00ff00\">│</span>\n",
       "<span style=\"color: #00ff00; text-decoration-color: #00ff00\">│</span> ┡━━━━━━━━━━━━━━━━━━━━━━╇━━━━━━━━━━━━━━━━━╇━━━━━━━━━━━━╇━━━━━━━━━━━━━━╇━━━━━━━━━━━━━━━━━╇━━━━━━━━━━━━┩           <span style=\"color: #00ff00; text-decoration-color: #00ff00\">│</span>\n",
       "<span style=\"color: #00ff00; text-decoration-color: #00ff00\">│</span> │<span style=\"color: #00ffff; text-decoration-color: #00ffff\"> build_summary_prompt </span>│<span style=\"color: #00ff00; text-decoration-color: #00ff00\"> PromptBuilderB… </span>│<span style=\"color: #ffff00; text-decoration-color: #ffff00\">      0.00s </span>│<span style=\"color: #0000ff; text-decoration-color: #0000ff\">   50 → 50    </span>│<span style=\"color: #ff00ff; text-decoration-color: #ff00ff\">       +1        </span>│     <span style=\"color: #008000; text-decoration-color: #008000\">✓</span>      │           <span style=\"color: #00ff00; text-decoration-color: #00ff00\">│</span>\n",
       "<span style=\"color: #00ff00; text-decoration-color: #00ff00\">│</span> │<span style=\"color: #00ffff; text-decoration-color: #00ffff\"> generate_summary     </span>│<span style=\"color: #00ff00; text-decoration-color: #00ff00\"> LLMChatBlock    </span>│<span style=\"color: #ffff00; text-decoration-color: #ffff00\">      1.60s </span>│<span style=\"color: #0000ff; text-decoration-color: #0000ff\">   50 → 50    </span>│<span style=\"color: #ff00ff; text-decoration-color: #ff00ff\">       +1        </span>│     <span style=\"color: #008000; text-decoration-color: #008000\">✓</span>      │           <span style=\"color: #00ff00; text-decoration-color: #00ff00\">│</span>\n",
       "<span style=\"color: #00ff00; text-decoration-color: #00ff00\">│</span> │<span style=\"color: #00ffff; text-decoration-color: #00ffff\"> parse_summary        </span>│<span style=\"color: #00ff00; text-decoration-color: #00ff00\"> TextParserBlock </span>│<span style=\"color: #ffff00; text-decoration-color: #ffff00\">      0.02s </span>│<span style=\"color: #0000ff; text-decoration-color: #0000ff\">   50 → 50    </span>│<span style=\"color: #ff00ff; text-decoration-color: #ff00ff\">       +1        </span>│     <span style=\"color: #008000; text-decoration-color: #008000\">✓</span>      │           <span style=\"color: #00ff00; text-decoration-color: #00ff00\">│</span>\n",
       "<span style=\"color: #00ff00; text-decoration-color: #00ff00\">│</span> │<span style=\"color: #00ffff; text-decoration-color: #00ffff\"> build_keywords_prom… </span>│<span style=\"color: #00ff00; text-decoration-color: #00ff00\"> PromptBuilderB… </span>│<span style=\"color: #ffff00; text-decoration-color: #ffff00\">      0.01s </span>│<span style=\"color: #0000ff; text-decoration-color: #0000ff\">   50 → 50    </span>│<span style=\"color: #ff00ff; text-decoration-color: #ff00ff\">       +1        </span>│     <span style=\"color: #008000; text-decoration-color: #008000\">✓</span>      │           <span style=\"color: #00ff00; text-decoration-color: #00ff00\">│</span>\n",
       "<span style=\"color: #00ff00; text-decoration-color: #00ff00\">│</span> │<span style=\"color: #00ffff; text-decoration-color: #00ffff\"> generate_keywords    </span>│<span style=\"color: #00ff00; text-decoration-color: #00ff00\"> LLMChatBlock    </span>│<span style=\"color: #ffff00; text-decoration-color: #ffff00\">      1.18s </span>│<span style=\"color: #0000ff; text-decoration-color: #0000ff\">   50 → 50    </span>│<span style=\"color: #ff00ff; text-decoration-color: #ff00ff\">       +1        </span>│     <span style=\"color: #008000; text-decoration-color: #008000\">✓</span>      │           <span style=\"color: #00ff00; text-decoration-color: #00ff00\">│</span>\n",
       "<span style=\"color: #00ff00; text-decoration-color: #00ff00\">│</span> │<span style=\"color: #00ffff; text-decoration-color: #00ffff\"> parse_keywords       </span>│<span style=\"color: #00ff00; text-decoration-color: #00ff00\"> TextParserBlock </span>│<span style=\"color: #ffff00; text-decoration-color: #ffff00\">      0.03s </span>│<span style=\"color: #0000ff; text-decoration-color: #0000ff\">   50 → 50    </span>│<span style=\"color: #ff00ff; text-decoration-color: #ff00ff\">       +1        </span>│     <span style=\"color: #008000; text-decoration-color: #008000\">✓</span>      │           <span style=\"color: #00ff00; text-decoration-color: #00ff00\">│</span>\n",
       "<span style=\"color: #00ff00; text-decoration-color: #00ff00\">│</span> │<span style=\"color: #00ffff; text-decoration-color: #00ffff\"> build_entities_prom… </span>│<span style=\"color: #00ff00; text-decoration-color: #00ff00\"> PromptBuilderB… </span>│<span style=\"color: #ffff00; text-decoration-color: #ffff00\">      0.01s </span>│<span style=\"color: #0000ff; text-decoration-color: #0000ff\">   50 → 50    </span>│<span style=\"color: #ff00ff; text-decoration-color: #ff00ff\">       +1        </span>│     <span style=\"color: #008000; text-decoration-color: #008000\">✓</span>      │           <span style=\"color: #00ff00; text-decoration-color: #00ff00\">│</span>\n",
       "<span style=\"color: #00ff00; text-decoration-color: #00ff00\">│</span> │<span style=\"color: #00ffff; text-decoration-color: #00ffff\"> generate_entities    </span>│<span style=\"color: #00ff00; text-decoration-color: #00ff00\"> LLMChatBlock    </span>│<span style=\"color: #ffff00; text-decoration-color: #ffff00\">      4.00s </span>│<span style=\"color: #0000ff; text-decoration-color: #0000ff\">   50 → 50    </span>│<span style=\"color: #ff00ff; text-decoration-color: #ff00ff\">       +1        </span>│     <span style=\"color: #008000; text-decoration-color: #008000\">✓</span>      │           <span style=\"color: #00ff00; text-decoration-color: #00ff00\">│</span>\n",
       "<span style=\"color: #00ff00; text-decoration-color: #00ff00\">│</span> │<span style=\"color: #00ffff; text-decoration-color: #00ffff\"> parse_entities       </span>│<span style=\"color: #00ff00; text-decoration-color: #00ff00\"> TextParserBlock </span>│<span style=\"color: #ffff00; text-decoration-color: #ffff00\">      0.03s </span>│<span style=\"color: #0000ff; text-decoration-color: #0000ff\">   50 → 50    </span>│<span style=\"color: #ff00ff; text-decoration-color: #ff00ff\">       +1        </span>│     <span style=\"color: #008000; text-decoration-color: #008000\">✓</span>      │           <span style=\"color: #00ff00; text-decoration-color: #00ff00\">│</span>\n",
       "<span style=\"color: #00ff00; text-decoration-color: #00ff00\">│</span> │<span style=\"color: #00ffff; text-decoration-color: #00ffff\"> build_sentiment_pro… </span>│<span style=\"color: #00ff00; text-decoration-color: #00ff00\"> PromptBuilderB… </span>│<span style=\"color: #ffff00; text-decoration-color: #ffff00\">      0.02s </span>│<span style=\"color: #0000ff; text-decoration-color: #0000ff\">   50 → 50    </span>│<span style=\"color: #ff00ff; text-decoration-color: #ff00ff\">       +1        </span>│     <span style=\"color: #008000; text-decoration-color: #008000\">✓</span>      │           <span style=\"color: #00ff00; text-decoration-color: #00ff00\">│</span>\n",
       "<span style=\"color: #00ff00; text-decoration-color: #00ff00\">│</span> │<span style=\"color: #00ffff; text-decoration-color: #00ffff\"> generate_sentiment   </span>│<span style=\"color: #00ff00; text-decoration-color: #00ff00\"> LLMChatBlock    </span>│<span style=\"color: #ffff00; text-decoration-color: #ffff00\">      0.69s </span>│<span style=\"color: #0000ff; text-decoration-color: #0000ff\">   50 → 50    </span>│<span style=\"color: #ff00ff; text-decoration-color: #ff00ff\">       +1        </span>│     <span style=\"color: #008000; text-decoration-color: #008000\">✓</span>      │           <span style=\"color: #00ff00; text-decoration-color: #00ff00\">│</span>\n",
       "<span style=\"color: #00ff00; text-decoration-color: #00ff00\">│</span> │<span style=\"color: #00ffff; text-decoration-color: #00ffff\"> parse_sentiment      </span>│<span style=\"color: #00ff00; text-decoration-color: #00ff00\"> TextParserBlock </span>│<span style=\"color: #ffff00; text-decoration-color: #ffff00\">      0.04s </span>│<span style=\"color: #0000ff; text-decoration-color: #0000ff\">   50 → 50    </span>│<span style=\"color: #ff00ff; text-decoration-color: #ff00ff\">       +1        </span>│     <span style=\"color: #008000; text-decoration-color: #008000\">✓</span>      │           <span style=\"color: #00ff00; text-decoration-color: #00ff00\">│</span>\n",
       "<span style=\"color: #00ff00; text-decoration-color: #00ff00\">│</span> │<span style=\"color: #00ffff; text-decoration-color: #00ffff\"> stock_ticker_prompt  </span>│<span style=\"color: #00ff00; text-decoration-color: #00ff00\"> PromptBuilderB… </span>│<span style=\"color: #ffff00; text-decoration-color: #ffff00\">      0.02s </span>│<span style=\"color: #0000ff; text-decoration-color: #0000ff\">   50 → 50    </span>│<span style=\"color: #ff00ff; text-decoration-color: #ff00ff\">       +1        </span>│     <span style=\"color: #008000; text-decoration-color: #008000\">✓</span>      │           <span style=\"color: #00ff00; text-decoration-color: #00ff00\">│</span>\n",
       "<span style=\"color: #00ff00; text-decoration-color: #00ff00\">│</span> │<span style=\"color: #00ffff; text-decoration-color: #00ffff\"> extract_stock_ticke… </span>│<span style=\"color: #00ff00; text-decoration-color: #00ff00\"> LLMChatBlock    </span>│<span style=\"color: #ffff00; text-decoration-color: #ffff00\">     18.27s </span>│<span style=\"color: #0000ff; text-decoration-color: #0000ff\">   50 → 50    </span>│<span style=\"color: #ff00ff; text-decoration-color: #ff00ff\">       +1        </span>│     <span style=\"color: #008000; text-decoration-color: #008000\">✓</span>      │           <span style=\"color: #00ff00; text-decoration-color: #00ff00\">│</span>\n",
       "<span style=\"color: #00ff00; text-decoration-color: #00ff00\">│</span> │<span style=\"color: #00ffff; text-decoration-color: #00ffff\"> parse_stock_tickers  </span>│<span style=\"color: #00ff00; text-decoration-color: #00ff00\"> TextParserBlock </span>│<span style=\"color: #ffff00; text-decoration-color: #ffff00\">      0.04s </span>│<span style=\"color: #0000ff; text-decoration-color: #0000ff\">   50 → 50    </span>│<span style=\"color: #ff00ff; text-decoration-color: #ff00ff\">       +1        </span>│     <span style=\"color: #008000; text-decoration-color: #008000\">✓</span>      │           <span style=\"color: #00ff00; text-decoration-color: #00ff00\">│</span>\n",
       "<span style=\"color: #00ff00; text-decoration-color: #00ff00\">│</span> │<span style=\"color: #00ffff; text-decoration-color: #00ffff\"> create_enhanced_str… </span>│<span style=\"color: #00ff00; text-decoration-color: #00ff00\"> JSONStructureB… </span>│<span style=\"color: #ffff00; text-decoration-color: #ffff00\">      0.02s </span>│<span style=\"color: #0000ff; text-decoration-color: #0000ff\">   50 → 50    </span>│<span style=\"color: #ff00ff; text-decoration-color: #ff00ff\">       +1        </span>│     <span style=\"color: #008000; text-decoration-color: #008000\">✓</span>      │           <span style=\"color: #00ff00; text-decoration-color: #00ff00\">│</span>\n",
       "<span style=\"color: #00ff00; text-decoration-color: #00ff00\">│</span> ├──────────────────────┼─────────────────┼────────────┼──────────────┼─────────────────┼────────────┤           <span style=\"color: #00ff00; text-decoration-color: #00ff00\">│</span>\n",
       "<span style=\"color: #00ff00; text-decoration-color: #00ff00\">│</span> │<span style=\"color: #00ffff; text-decoration-color: #00ffff\"> </span><span style=\"color: #00ffff; text-decoration-color: #00ffff; font-weight: bold\">TOTAL</span><span style=\"color: #00ffff; text-decoration-color: #00ffff\">                </span>│<span style=\"color: #00ff00; text-decoration-color: #00ff00\"> </span><span style=\"color: #00ff00; text-decoration-color: #00ff00; font-weight: bold\">16 blocks</span><span style=\"color: #00ff00; text-decoration-color: #00ff00\">       </span>│<span style=\"color: #ffff00; text-decoration-color: #ffff00\">     </span><span style=\"color: #ffff00; text-decoration-color: #ffff00; font-weight: bold\">25.98s</span><span style=\"color: #ffff00; text-decoration-color: #ffff00\"> </span>│<span style=\"color: #0000ff; text-decoration-color: #0000ff\">   </span><span style=\"color: #0000ff; text-decoration-color: #0000ff; font-weight: bold\">50 final</span><span style=\"color: #0000ff; text-decoration-color: #0000ff\">   </span>│<span style=\"color: #ff00ff; text-decoration-color: #ff00ff\">    </span><span style=\"color: #ff00ff; text-decoration-color: #ff00ff; font-weight: bold\">21 final</span><span style=\"color: #ff00ff; text-decoration-color: #ff00ff\">     </span>│   <span style=\"color: #008000; text-decoration-color: #008000; font-weight: bold\">16/16</span>    │           <span style=\"color: #00ff00; text-decoration-color: #00ff00\">│</span>\n",
       "<span style=\"color: #00ff00; text-decoration-color: #00ff00\">│</span> └──────────────────────┴─────────────────┴────────────┴──────────────┴─────────────────┴────────────┘           <span style=\"color: #00ff00; text-decoration-color: #00ff00\">│</span>\n",
       "<span style=\"color: #00ff00; text-decoration-color: #00ff00\">╰─────────────────────────────────────────────────────────────────────────────────────────────────────────────────╯</span>\n",
       "</pre>\n"
      ],
      "text/plain": [
       "\u001b[92m╭─\u001b[0m\u001b[92m─────────────────────────────\u001b[0m\u001b[92m \u001b[0m\u001b[1;97mStructured Text Insights Extraction Flow\u001b[0m\u001b[92m - \u001b[0m\u001b[32mComplete\u001b[0m\u001b[92m \u001b[0m\u001b[92m─────────────────────────────\u001b[0m\u001b[92m─╮\u001b[0m\n",
       "\u001b[92m│\u001b[0m \u001b[3m                                       Flow Execution Summary                                        \u001b[0m           \u001b[92m│\u001b[0m\n",
       "\u001b[92m│\u001b[0m ┏━━━━━━━━━━━━━━━━━━━━━━┳━━━━━━━━━━━━━━━━━┳━━━━━━━━━━━━┳━━━━━━━━━━━━━━┳━━━━━━━━━━━━━━━━━┳━━━━━━━━━━━━┓           \u001b[92m│\u001b[0m\n",
       "\u001b[92m│\u001b[0m ┃\u001b[1;97m \u001b[0m\u001b[1;97mBlock Name          \u001b[0m\u001b[1;97m \u001b[0m┃\u001b[1;97m \u001b[0m\u001b[1;97mType           \u001b[0m\u001b[1;97m \u001b[0m┃\u001b[1;97m \u001b[0m\u001b[1;97m  Duration\u001b[0m\u001b[1;97m \u001b[0m┃\u001b[1;97m \u001b[0m\u001b[1;97m    Rows    \u001b[0m\u001b[1;97m \u001b[0m┃\u001b[1;97m \u001b[0m\u001b[1;97m    Columns    \u001b[0m\u001b[1;97m \u001b[0m┃\u001b[1;97m \u001b[0m\u001b[1;97m  Status  \u001b[0m\u001b[1;97m \u001b[0m┃           \u001b[92m│\u001b[0m\n",
       "\u001b[92m│\u001b[0m ┡━━━━━━━━━━━━━━━━━━━━━━╇━━━━━━━━━━━━━━━━━╇━━━━━━━━━━━━╇━━━━━━━━━━━━━━╇━━━━━━━━━━━━━━━━━╇━━━━━━━━━━━━┩           \u001b[92m│\u001b[0m\n",
       "\u001b[92m│\u001b[0m │\u001b[96m \u001b[0m\u001b[96mbuild_summary_prompt\u001b[0m\u001b[96m \u001b[0m│\u001b[92m \u001b[0m\u001b[92mPromptBuilderB…\u001b[0m\u001b[92m \u001b[0m│\u001b[93m \u001b[0m\u001b[93m     0.00s\u001b[0m\u001b[93m \u001b[0m│\u001b[94m \u001b[0m\u001b[94m  50 → 50   \u001b[0m\u001b[94m \u001b[0m│\u001b[95m \u001b[0m\u001b[95m      +1       \u001b[0m\u001b[95m \u001b[0m│     \u001b[32m✓\u001b[0m      │           \u001b[92m│\u001b[0m\n",
       "\u001b[92m│\u001b[0m │\u001b[96m \u001b[0m\u001b[96mgenerate_summary    \u001b[0m\u001b[96m \u001b[0m│\u001b[92m \u001b[0m\u001b[92mLLMChatBlock   \u001b[0m\u001b[92m \u001b[0m│\u001b[93m \u001b[0m\u001b[93m     1.60s\u001b[0m\u001b[93m \u001b[0m│\u001b[94m \u001b[0m\u001b[94m  50 → 50   \u001b[0m\u001b[94m \u001b[0m│\u001b[95m \u001b[0m\u001b[95m      +1       \u001b[0m\u001b[95m \u001b[0m│     \u001b[32m✓\u001b[0m      │           \u001b[92m│\u001b[0m\n",
       "\u001b[92m│\u001b[0m │\u001b[96m \u001b[0m\u001b[96mparse_summary       \u001b[0m\u001b[96m \u001b[0m│\u001b[92m \u001b[0m\u001b[92mTextParserBlock\u001b[0m\u001b[92m \u001b[0m│\u001b[93m \u001b[0m\u001b[93m     0.02s\u001b[0m\u001b[93m \u001b[0m│\u001b[94m \u001b[0m\u001b[94m  50 → 50   \u001b[0m\u001b[94m \u001b[0m│\u001b[95m \u001b[0m\u001b[95m      +1       \u001b[0m\u001b[95m \u001b[0m│     \u001b[32m✓\u001b[0m      │           \u001b[92m│\u001b[0m\n",
       "\u001b[92m│\u001b[0m │\u001b[96m \u001b[0m\u001b[96mbuild_keywords_prom…\u001b[0m\u001b[96m \u001b[0m│\u001b[92m \u001b[0m\u001b[92mPromptBuilderB…\u001b[0m\u001b[92m \u001b[0m│\u001b[93m \u001b[0m\u001b[93m     0.01s\u001b[0m\u001b[93m \u001b[0m│\u001b[94m \u001b[0m\u001b[94m  50 → 50   \u001b[0m\u001b[94m \u001b[0m│\u001b[95m \u001b[0m\u001b[95m      +1       \u001b[0m\u001b[95m \u001b[0m│     \u001b[32m✓\u001b[0m      │           \u001b[92m│\u001b[0m\n",
       "\u001b[92m│\u001b[0m │\u001b[96m \u001b[0m\u001b[96mgenerate_keywords   \u001b[0m\u001b[96m \u001b[0m│\u001b[92m \u001b[0m\u001b[92mLLMChatBlock   \u001b[0m\u001b[92m \u001b[0m│\u001b[93m \u001b[0m\u001b[93m     1.18s\u001b[0m\u001b[93m \u001b[0m│\u001b[94m \u001b[0m\u001b[94m  50 → 50   \u001b[0m\u001b[94m \u001b[0m│\u001b[95m \u001b[0m\u001b[95m      +1       \u001b[0m\u001b[95m \u001b[0m│     \u001b[32m✓\u001b[0m      │           \u001b[92m│\u001b[0m\n",
       "\u001b[92m│\u001b[0m │\u001b[96m \u001b[0m\u001b[96mparse_keywords      \u001b[0m\u001b[96m \u001b[0m│\u001b[92m \u001b[0m\u001b[92mTextParserBlock\u001b[0m\u001b[92m \u001b[0m│\u001b[93m \u001b[0m\u001b[93m     0.03s\u001b[0m\u001b[93m \u001b[0m│\u001b[94m \u001b[0m\u001b[94m  50 → 50   \u001b[0m\u001b[94m \u001b[0m│\u001b[95m \u001b[0m\u001b[95m      +1       \u001b[0m\u001b[95m \u001b[0m│     \u001b[32m✓\u001b[0m      │           \u001b[92m│\u001b[0m\n",
       "\u001b[92m│\u001b[0m │\u001b[96m \u001b[0m\u001b[96mbuild_entities_prom…\u001b[0m\u001b[96m \u001b[0m│\u001b[92m \u001b[0m\u001b[92mPromptBuilderB…\u001b[0m\u001b[92m \u001b[0m│\u001b[93m \u001b[0m\u001b[93m     0.01s\u001b[0m\u001b[93m \u001b[0m│\u001b[94m \u001b[0m\u001b[94m  50 → 50   \u001b[0m\u001b[94m \u001b[0m│\u001b[95m \u001b[0m\u001b[95m      +1       \u001b[0m\u001b[95m \u001b[0m│     \u001b[32m✓\u001b[0m      │           \u001b[92m│\u001b[0m\n",
       "\u001b[92m│\u001b[0m │\u001b[96m \u001b[0m\u001b[96mgenerate_entities   \u001b[0m\u001b[96m \u001b[0m│\u001b[92m \u001b[0m\u001b[92mLLMChatBlock   \u001b[0m\u001b[92m \u001b[0m│\u001b[93m \u001b[0m\u001b[93m     4.00s\u001b[0m\u001b[93m \u001b[0m│\u001b[94m \u001b[0m\u001b[94m  50 → 50   \u001b[0m\u001b[94m \u001b[0m│\u001b[95m \u001b[0m\u001b[95m      +1       \u001b[0m\u001b[95m \u001b[0m│     \u001b[32m✓\u001b[0m      │           \u001b[92m│\u001b[0m\n",
       "\u001b[92m│\u001b[0m │\u001b[96m \u001b[0m\u001b[96mparse_entities      \u001b[0m\u001b[96m \u001b[0m│\u001b[92m \u001b[0m\u001b[92mTextParserBlock\u001b[0m\u001b[92m \u001b[0m│\u001b[93m \u001b[0m\u001b[93m     0.03s\u001b[0m\u001b[93m \u001b[0m│\u001b[94m \u001b[0m\u001b[94m  50 → 50   \u001b[0m\u001b[94m \u001b[0m│\u001b[95m \u001b[0m\u001b[95m      +1       \u001b[0m\u001b[95m \u001b[0m│     \u001b[32m✓\u001b[0m      │           \u001b[92m│\u001b[0m\n",
       "\u001b[92m│\u001b[0m │\u001b[96m \u001b[0m\u001b[96mbuild_sentiment_pro…\u001b[0m\u001b[96m \u001b[0m│\u001b[92m \u001b[0m\u001b[92mPromptBuilderB…\u001b[0m\u001b[92m \u001b[0m│\u001b[93m \u001b[0m\u001b[93m     0.02s\u001b[0m\u001b[93m \u001b[0m│\u001b[94m \u001b[0m\u001b[94m  50 → 50   \u001b[0m\u001b[94m \u001b[0m│\u001b[95m \u001b[0m\u001b[95m      +1       \u001b[0m\u001b[95m \u001b[0m│     \u001b[32m✓\u001b[0m      │           \u001b[92m│\u001b[0m\n",
       "\u001b[92m│\u001b[0m │\u001b[96m \u001b[0m\u001b[96mgenerate_sentiment  \u001b[0m\u001b[96m \u001b[0m│\u001b[92m \u001b[0m\u001b[92mLLMChatBlock   \u001b[0m\u001b[92m \u001b[0m│\u001b[93m \u001b[0m\u001b[93m     0.69s\u001b[0m\u001b[93m \u001b[0m│\u001b[94m \u001b[0m\u001b[94m  50 → 50   \u001b[0m\u001b[94m \u001b[0m│\u001b[95m \u001b[0m\u001b[95m      +1       \u001b[0m\u001b[95m \u001b[0m│     \u001b[32m✓\u001b[0m      │           \u001b[92m│\u001b[0m\n",
       "\u001b[92m│\u001b[0m │\u001b[96m \u001b[0m\u001b[96mparse_sentiment     \u001b[0m\u001b[96m \u001b[0m│\u001b[92m \u001b[0m\u001b[92mTextParserBlock\u001b[0m\u001b[92m \u001b[0m│\u001b[93m \u001b[0m\u001b[93m     0.04s\u001b[0m\u001b[93m \u001b[0m│\u001b[94m \u001b[0m\u001b[94m  50 → 50   \u001b[0m\u001b[94m \u001b[0m│\u001b[95m \u001b[0m\u001b[95m      +1       \u001b[0m\u001b[95m \u001b[0m│     \u001b[32m✓\u001b[0m      │           \u001b[92m│\u001b[0m\n",
       "\u001b[92m│\u001b[0m │\u001b[96m \u001b[0m\u001b[96mstock_ticker_prompt \u001b[0m\u001b[96m \u001b[0m│\u001b[92m \u001b[0m\u001b[92mPromptBuilderB…\u001b[0m\u001b[92m \u001b[0m│\u001b[93m \u001b[0m\u001b[93m     0.02s\u001b[0m\u001b[93m \u001b[0m│\u001b[94m \u001b[0m\u001b[94m  50 → 50   \u001b[0m\u001b[94m \u001b[0m│\u001b[95m \u001b[0m\u001b[95m      +1       \u001b[0m\u001b[95m \u001b[0m│     \u001b[32m✓\u001b[0m      │           \u001b[92m│\u001b[0m\n",
       "\u001b[92m│\u001b[0m │\u001b[96m \u001b[0m\u001b[96mextract_stock_ticke…\u001b[0m\u001b[96m \u001b[0m│\u001b[92m \u001b[0m\u001b[92mLLMChatBlock   \u001b[0m\u001b[92m \u001b[0m│\u001b[93m \u001b[0m\u001b[93m    18.27s\u001b[0m\u001b[93m \u001b[0m│\u001b[94m \u001b[0m\u001b[94m  50 → 50   \u001b[0m\u001b[94m \u001b[0m│\u001b[95m \u001b[0m\u001b[95m      +1       \u001b[0m\u001b[95m \u001b[0m│     \u001b[32m✓\u001b[0m      │           \u001b[92m│\u001b[0m\n",
       "\u001b[92m│\u001b[0m │\u001b[96m \u001b[0m\u001b[96mparse_stock_tickers \u001b[0m\u001b[96m \u001b[0m│\u001b[92m \u001b[0m\u001b[92mTextParserBlock\u001b[0m\u001b[92m \u001b[0m│\u001b[93m \u001b[0m\u001b[93m     0.04s\u001b[0m\u001b[93m \u001b[0m│\u001b[94m \u001b[0m\u001b[94m  50 → 50   \u001b[0m\u001b[94m \u001b[0m│\u001b[95m \u001b[0m\u001b[95m      +1       \u001b[0m\u001b[95m \u001b[0m│     \u001b[32m✓\u001b[0m      │           \u001b[92m│\u001b[0m\n",
       "\u001b[92m│\u001b[0m │\u001b[96m \u001b[0m\u001b[96mcreate_enhanced_str…\u001b[0m\u001b[96m \u001b[0m│\u001b[92m \u001b[0m\u001b[92mJSONStructureB…\u001b[0m\u001b[92m \u001b[0m│\u001b[93m \u001b[0m\u001b[93m     0.02s\u001b[0m\u001b[93m \u001b[0m│\u001b[94m \u001b[0m\u001b[94m  50 → 50   \u001b[0m\u001b[94m \u001b[0m│\u001b[95m \u001b[0m\u001b[95m      +1       \u001b[0m\u001b[95m \u001b[0m│     \u001b[32m✓\u001b[0m      │           \u001b[92m│\u001b[0m\n",
       "\u001b[92m│\u001b[0m ├──────────────────────┼─────────────────┼────────────┼──────────────┼─────────────────┼────────────┤           \u001b[92m│\u001b[0m\n",
       "\u001b[92m│\u001b[0m │\u001b[96m \u001b[0m\u001b[1;96mTOTAL\u001b[0m\u001b[96m               \u001b[0m\u001b[96m \u001b[0m│\u001b[92m \u001b[0m\u001b[1;92m16 blocks\u001b[0m\u001b[92m      \u001b[0m\u001b[92m \u001b[0m│\u001b[93m \u001b[0m\u001b[93m    \u001b[0m\u001b[1;93m25.98s\u001b[0m\u001b[93m \u001b[0m│\u001b[94m \u001b[0m\u001b[94m  \u001b[0m\u001b[1;94m50 final\u001b[0m\u001b[94m  \u001b[0m\u001b[94m \u001b[0m│\u001b[95m \u001b[0m\u001b[95m   \u001b[0m\u001b[1;95m21 final\u001b[0m\u001b[95m    \u001b[0m\u001b[95m \u001b[0m│   \u001b[1;32m16/16\u001b[0m    │           \u001b[92m│\u001b[0m\n",
       "\u001b[92m│\u001b[0m └──────────────────────┴─────────────────┴────────────┴──────────────┴─────────────────┴────────────┘           \u001b[92m│\u001b[0m\n",
       "\u001b[92m╰─────────────────────────────────────────────────────────────────────────────────────────────────────────────────╯\u001b[0m\n"
      ]
     },
     "metadata": {},
     "output_type": "display_data"
    },
    {
     "data": {
      "text/html": [
       "<pre style=\"white-space:pre;overflow-x:auto;line-height:normal;font-family:Menlo,'DejaVu Sans Mono',consolas,'Courier New',monospace\">\n",
       "</pre>\n"
      ],
      "text/plain": [
       "\n"
      ]
     },
     "metadata": {},
     "output_type": "display_data"
    },
    {
     "data": {
      "text/html": [
       "<pre style=\"white-space:pre;overflow-x:auto;line-height:normal;font-family:Menlo,'DejaVu Sans Mono',consolas,'Courier New',monospace\"><span style=\"color: #7fbfbf; text-decoration-color: #7fbfbf\">[15:19:11] </span><span style=\"color: #000080; text-decoration-color: #000080\">INFO    </span> Flow <span style=\"color: #008000; text-decoration-color: #008000\">'Structured Text Insights Extraction Flow'</span> completed successfully: <span style=\"color: #008080; text-decoration-color: #008080; font-weight: bold\">50</span> final    <a href=\"file:///Users/shiv/workspace/sdg_hub/src/sdg_hub/core/flow/base.py\" target=\"_blank\"><span style=\"color: #7f7f7f; text-decoration-color: #7f7f7f\">base.py</span></a><span style=\"color: #7f7f7f; text-decoration-color: #7f7f7f\">:</span><a href=\"file:///Users/shiv/workspace/sdg_hub/src/sdg_hub/core/flow/base.py#620\" target=\"_blank\"><span style=\"color: #7f7f7f; text-decoration-color: #7f7f7f\">620</span></a>\n",
       "<span style=\"color: #7fbfbf; text-decoration-color: #7fbfbf\">           </span>         samples, <span style=\"color: #008080; text-decoration-color: #008080; font-weight: bold\">21</span> final columns                                                           <span style=\"color: #7f7f7f; text-decoration-color: #7f7f7f\">           </span>\n",
       "</pre>\n"
      ],
      "text/plain": [
       "\u001b[2;36m[15:19:11]\u001b[0m\u001b[2;36m \u001b[0m\u001b[34mINFO    \u001b[0m Flow \u001b[32m'Structured Text Insights Extraction Flow'\u001b[0m completed successfully: \u001b[1;36m50\u001b[0m final    \u001b]8;id=85409;file:///Users/shiv/workspace/sdg_hub/src/sdg_hub/core/flow/base.py\u001b\\\u001b[2mbase.py\u001b[0m\u001b]8;;\u001b\\\u001b[2m:\u001b[0m\u001b]8;id=612014;file:///Users/shiv/workspace/sdg_hub/src/sdg_hub/core/flow/base.py#620\u001b\\\u001b[2m620\u001b[0m\u001b]8;;\u001b\\\n",
       "\u001b[2;36m           \u001b[0m         samples, \u001b[1;36m21\u001b[0m final columns                                                           \u001b[2m           \u001b[0m\n"
      ]
     },
     "metadata": {},
     "output_type": "display_data"
    },
    {
     "name": "stdout",
     "output_type": "stream",
     "text": [
      "✅ Processing complete!\n",
      "📊 Generated insights for 50 articles\n",
      "📋 Result columns: ['Headline', 'Journalists', 'Date', 'Link', 'text', 'summary_prompt', 'raw_summary', 'summary', 'keywords_prompt', 'raw_keywords', 'keywords', 'entities_prompt', 'raw_entities', 'entities', 'sentiment_prompt', 'raw_sentiment', 'sentiment', 'ticker_prompt', 'raw_stock_tickers', 'stock_tickers', 'enhanced_structured_insights']\n"
     ]
    }
   ],
   "source": [
    "# Generate structured insights\n",
    "print(\"🚀 Running structured insights extraction...\")\n",
    "print(\"⏱️ This may take a few minutes depending on your model setup...\")\n",
    "\n",
    "# Run the flow\n",
    "results2 = flow.generate(demo_dataset)\n",
    "\n",
    "print(\"✅ Processing complete!\")\n",
    "print(f\"📊 Generated insights for {len(results2)} articles\")\n",
    "print(f\"📋 Result columns: {results2.column_names}\")"
   ]
  },
  {
   "cell_type": "code",
   "execution_count": 19,
   "metadata": {},
   "outputs": [
    {
     "name": "stdout",
     "output_type": "stream",
     "text": [
      "=== First Article Analysis ===\n",
      "📰 Original headline: Ivory Coast Keeps Cocoa Export Tax Below 22%, Document Shows\n",
      "📅 Date: 2011-10-06 15:14:20\n",
      "✍️ Journalists: ['Baudelaire Mieu']\n",
      "📄 Article length: 7649 characters\n",
      "\n",
      "🔍 EXTRACTED INSIGHTS:\n",
      "{\n",
      "  \"summary\": \"Arthur Laurents, the acclaimed New York playwright and screenwriter behind landmark Broadway hits such as “West Side Story” and “Gyvy,” died at 93 from pneumonia complications. Over a seven‑decade career he collaborated with major figures like Leonard Bernstein, Jerome Robbins, and Stephen Sondheim, wrote notable films including “The Way We Were,” and directed celebrated productions and revivals, earning a reputation for both artistic brilliance and a blunt, volatile personality.\",\n",
      "  \"keywords\": \"Arthur Laurents, West Side Story, Gypsy, Leonard Bernstein, Stephen Sondheim, Broadway revivals, Gypsy Rose Lee, Hollywood blacklist, Tony Award, La Cage aux Folles\",\n",
      "  \"entities\": \"{\\n  \\\"people\\\": [\\n    \\\"Arthur Laurents\\\",\\n    \\\"Leonard Bernstein\\\",\\n    \\\"Jerome Robbins\\\",\\n    \\\"Stephen Sondheim\\\",\\n    \\\"Scott Rudin\\\",\\n    \\\"John Simon\\\",\\n    \\\"Barbra Streisand\\\",\\n    \\\"Robert Redford\\\"\\n  ],\\n  \\\"organizations\\\": [\\n    \\\"New York Times\\\",\\n    \\\"CBS\\\",\\n    \\\"Metro-Goldwyn-Mayer\\\",\\n    \\\"U.S. Army\\\",\\n    \\\"Office of War Information\\\",\\n    \\\"U.S. State Department\\\",\\n    \\\"Bloomberg News\\\",\\n    \\\"Cornell University\\\"\\n  ],\\n  \\\"locations\\\": [\\n    \\\"New York\\\",\\n    \\\"Greenwich Village\\\",\\n    \\\"Quogue\\\",\\n    \\\"Long Island\\\",\\n    \\\"Upper West Side\\\",\\n    \\\"Lower East Side\\\",\\n    \\\"Flatbush\\\",\\n    \\\"Ithaca\\\"\\n  ]\\n}\",\n",
      "  \"sentiment\": \"positive\",\n",
      "  \"stock_tickers\": \"MGM\"\n",
      "}\n"
     ]
    }
   ],
   "source": [
    "# Display a sample result\n",
    "sample_result2 = results2[random.randint(0, len(results2) - 1)]\n",
    "\n",
    "print(\"=== First Article Analysis ===\")\n",
    "print(f\"📰 Original headline: {dataset[0]['Headline']}\")\n",
    "print(f\"📅 Date: {dataset[0]['Date']}\")\n",
    "print(f\"✍️ Journalists: {dataset[0]['Journalists']}\")\n",
    "print(f\"📄 Article length: {len(sample_result2['text'])} characters\")\n",
    "print()\n",
    "\n",
    "# Parse and display the structured insights\n",
    "insights2 = json.loads(sample_result2[\"enhanced_structured_insights\"])\n",
    "print(\"🔍 EXTRACTED INSIGHTS:\")\n",
    "print(json.dumps(insights2, indent=2, ensure_ascii=False))"
   ]
  },
  {
   "cell_type": "markdown",
   "metadata": {},
   "source": [
    "## Next Steps\n",
    "\n",
    "### 🧪 **Experiment Further**\n",
    "1. **Scale up**: Process 100+ articles to see larger patterns\n",
    "2. **Time analysis**: Filter by date ranges to see trends over time\n",
    "3. **Model comparison**: Try different LLMs and compare results\n",
    "4. **Custom prompts**: Modify the prompt templates for your domain\n",
    "\n",
    "### 🔧 **Customize for Your Use Case**\n",
    "1. **Domain adaptation**: Modify prompts for your specific industry\n",
    "2. **Additional insights**: Add blocks for topic classification, urgency scoring, etc.\n",
    "3. **Output format**: Customize JSON structure for your applications\n",
    "4. **Quality filters**: Add validation and quality checks\n",
    "\n",
    "### 🚀 Build Your Own Model\n",
    "- Leverage the generated structured insights as high-quality training data for your own machine learning models.\n",
    "- Fine-tune LLMs or train classifiers to automate similar analyses at scale.\n",
    "- Refer to Training Hub (https://github.com/Red-Hat-AI-Innovation-Team/training_hub) to setup your own training pipeline.\n",
    "\n",
    "### 📚 **Learn More**\n",
    "- Explore other SDG Hub flows in the repository\n",
    "- Check the documentation for advanced configuration options\n",
    "- Join the community for questions and contributions"
   ]
  }
 ],
 "metadata": {
  "kernelspec": {
   "display_name": ".venv",
   "language": "python",
   "name": "python3"
  },
  "language_info": {
   "codemirror_mode": {
    "name": "ipython",
    "version": 3
   },
   "file_extension": ".py",
   "mimetype": "text/x-python",
   "name": "python",
   "nbconvert_exporter": "python",
   "pygments_lexer": "ipython3",
   "version": "3.12.7"
  }
 },
 "nbformat": 4,
 "nbformat_minor": 4
}
