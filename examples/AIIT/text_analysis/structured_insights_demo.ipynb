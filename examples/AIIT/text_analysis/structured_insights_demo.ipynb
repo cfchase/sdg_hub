{
 "cells": [
  {
   "cell_type": "markdown",
   "metadata": {},
   "source": [
    "# Structured Text Insights Extraction Demo\n",
    "\n",
    "This notebook demonstrates the **Structured Text Insights Flow** using the Bloomberg Financial News dataset. \n",
    "\n",
    "## What You'll Learn\n",
    "- How to use the structured insights flow for comprehensive text analysis\n",
    "- Extract summaries, keywords, entities, and sentiment from financial news\n",
    "- Analyze and visualize results across large datasets\n",
    "- Extend the flow with custom blocks for domain-specific analysis\n",
    "\n",
    "## Flow Capabilities\n",
    "The structured insights flow performs **4 key analyses** on any text:\n",
    "1. **📝 Summary**: Concise 2-3 sentence summaries\n",
    "2. **🔑 Keywords**: Top 10 most important terms\n",
    "3. **🏷️ Entities**: Named entities (people, organizations, locations)\n",
    "4. **😊 Sentiment**: Emotional tone analysis (positive/negative/neutral)\n",
    "\n",
    "All results are combined into a **structured JSON output** for easy processing and analysis."
   ]
  },
  {
   "cell_type": "markdown",
   "metadata": {},
   "source": [
    "## Setup and Installation"
   ]
  },
  {
   "cell_type": "code",
   "execution_count": 1,
   "metadata": {},
   "outputs": [],
   "source": [
    "%load_ext autoreload\n",
    "%autoreload 2\n",
    "\n",
    "# pip install sdg_hub[examples]"
   ]
  },
  {
   "cell_type": "code",
   "execution_count": 2,
   "metadata": {},
   "outputs": [
    {
     "name": "stderr",
     "output_type": "stream",
     "text": [
      "/Users/shiv/workspace/sdg_hub_add-structured-summary-nb/.venv/lib/python3.12/site-packages/tqdm/auto.py:21: TqdmWarning: IProgress not found. Please update jupyter and ipywidgets. See https://ipywidgets.readthedocs.io/en/stable/user_install.html\n",
      "  from .autonotebook import tqdm as notebook_tqdm\n"
     ]
    }
   ],
   "source": [
    "# Third Party\n",
    "from datasets import load_dataset\n",
    "import json\n",
    "import pandas as pd\n",
    "import matplotlib.pyplot as plt\n",
    "from collections import Counter\n",
    "import nest_asyncio\n",
    "from datetime import datetime\n",
    "import warnings\n",
    "import random\n",
    "warnings.filterwarnings('ignore')\n",
    "\n",
    "# First Party\n",
    "from sdg_hub import Flow, FlowRegistry\n",
    "\n",
    "# Required for async execution in notebooks\n",
    "nest_asyncio.apply()"
   ]
  },
  {
   "cell_type": "markdown",
   "metadata": {},
   "source": [
    "## 1. Flow Discovery and Loading\n",
    "\n",
    "SDG Hub automatically discovers all available flows. Let's find our structured insights flow:"
   ]
  },
  {
   "cell_type": "code",
   "execution_count": 3,
   "metadata": {},
   "outputs": [
    {
     "data": {
      "text/html": [
       "<pre style=\"white-space:pre;overflow-x:auto;line-height:normal;font-family:Menlo,'DejaVu Sans Mono',consolas,'Courier New',monospace\"><span style=\"color: #7fbfbf; text-decoration-color: #7fbfbf\">[15:25:53] </span><span style=\"color: #000080; text-decoration-color: #000080\">INFO    </span> Discovered <span style=\"color: #008080; text-decoration-color: #008080; font-weight: bold\">5</span> flows                                                              <a href=\"file:///Users/shiv/workspace/sdg_hub_add-structured-summary-nb/src/sdg_hub/core/flow/registry.py\" target=\"_blank\"><span style=\"color: #7f7f7f; text-decoration-color: #7f7f7f\">registry.py</span></a><span style=\"color: #7f7f7f; text-decoration-color: #7f7f7f\">:</span><a href=\"file:///Users/shiv/workspace/sdg_hub_add-structured-summary-nb/src/sdg_hub/core/flow/registry.py#113\" target=\"_blank\"><span style=\"color: #7f7f7f; text-decoration-color: #7f7f7f\">113</span></a>\n",
       "</pre>\n"
      ],
      "text/plain": [
       "\u001b[2;36m[15:25:53]\u001b[0m\u001b[2;36m \u001b[0m\u001b[34mINFO    \u001b[0m Discovered \u001b[1;36m5\u001b[0m flows                                                              \u001b]8;id=525294;file:///Users/shiv/workspace/sdg_hub_add-structured-summary-nb/src/sdg_hub/core/flow/registry.py\u001b\\\u001b[2mregistry.py\u001b[0m\u001b]8;;\u001b\\\u001b[2m:\u001b[0m\u001b]8;id=173853;file:///Users/shiv/workspace/sdg_hub_add-structured-summary-nb/src/sdg_hub/core/flow/registry.py#113\u001b\\\u001b[2m113\u001b[0m\u001b]8;;\u001b\\\n"
      ]
     },
     "metadata": {},
     "output_type": "display_data"
    },
    {
     "data": {
      "text/html": [
       "<pre style=\"white-space:pre;overflow-x:auto;line-height:normal;font-family:Menlo,'DejaVu Sans Mono',consolas,'Courier New',monospace\">┏━━━━━━━━━━━━━━━━━━┳━━━━━━━━━━━━━━━━━━━━━━━┳━━━━━━━━━━━━━━━━━━━━━━┳━━━━━━━━━━━━━━━━━━━━━━━┳━━━━━━━━━━━━━━━━━━━━━━━┓\n",
       "┃<span style=\"color: #ff00ff; text-decoration-color: #ff00ff; font-weight: bold\"> ID               </span>┃<span style=\"color: #ff00ff; text-decoration-color: #ff00ff; font-weight: bold\"> Name                  </span>┃<span style=\"color: #ff00ff; text-decoration-color: #ff00ff; font-weight: bold\"> Author               </span>┃<span style=\"color: #ff00ff; text-decoration-color: #ff00ff; font-weight: bold\"> Tags                  </span>┃<span style=\"color: #ff00ff; text-decoration-color: #ff00ff; font-weight: bold\"> Description           </span>┃\n",
       "┡━━━━━━━━━━━━━━━━━━╇━━━━━━━━━━━━━━━━━━━━━━━╇━━━━━━━━━━━━━━━━━━━━━━╇━━━━━━━━━━━━━━━━━━━━━━━╇━━━━━━━━━━━━━━━━━━━━━━━┩\n",
       "│<span style=\"color: #ff00ff; text-decoration-color: #ff00ff; font-weight: bold\"> epic-jade-656    </span>│<span style=\"color: #00ffff; text-decoration-color: #00ffff; font-weight: bold\"> Extractive Summary    </span>│<span style=\"color: #00ff00; text-decoration-color: #00ff00\"> SDG Hub Contributors </span>│<span style=\"color: #808000; text-decoration-color: #808000\"> knowledge-tuning,     </span>│<span style=\"color: #c0c0c0; text-decoration-color: #c0c0c0\"> Generates training    </span>│\n",
       "│<span style=\"color: #ff00ff; text-decoration-color: #ff00ff; font-weight: bold\">                  </span>│<span style=\"color: #00ffff; text-decoration-color: #00ffff; font-weight: bold\"> Knowledge Tuning      </span>│<span style=\"color: #00ff00; text-decoration-color: #00ff00\">                      </span>│<span style=\"color: #808000; text-decoration-color: #808000\"> document-internaliza… </span>│<span style=\"color: #c0c0c0; text-decoration-color: #c0c0c0\"> datasets for          </span>│\n",
       "│<span style=\"color: #ff00ff; text-decoration-color: #ff00ff; font-weight: bold\">                  </span>│<span style=\"color: #00ffff; text-decoration-color: #00ffff; font-weight: bold\"> Dataset Generation    </span>│<span style=\"color: #00ff00; text-decoration-color: #00ff00\">                      </span>│<span style=\"color: #808000; text-decoration-color: #808000\"> question-generation,  </span>│<span style=\"color: #c0c0c0; text-decoration-color: #c0c0c0\"> knowledge tuning by   </span>│\n",
       "│<span style=\"color: #ff00ff; text-decoration-color: #ff00ff; font-weight: bold\">                  </span>│<span style=\"color: #00ffff; text-decoration-color: #00ffff; font-weight: bold\"> Flow                  </span>│<span style=\"color: #00ff00; text-decoration-color: #00ff00\">                      </span>│<span style=\"color: #808000; text-decoration-color: #808000\"> knowledge-extraction, </span>│<span style=\"color: #c0c0c0; text-decoration-color: #c0c0c0\"> creating diverse      </span>│\n",
       "│<span style=\"color: #ff00ff; text-decoration-color: #ff00ff; font-weight: bold\">                  </span>│<span style=\"color: #00ffff; text-decoration-color: #00ffff; font-weight: bold\">                       </span>│<span style=\"color: #00ff00; text-decoration-color: #00ff00\">                      </span>│<span style=\"color: #808000; text-decoration-color: #808000\"> qa-pairs,             </span>│<span style=\"color: #c0c0c0; text-decoration-color: #c0c0c0\"> question-answer pairs </span>│\n",
       "│<span style=\"color: #ff00ff; text-decoration-color: #ff00ff; font-weight: bold\">                  </span>│<span style=\"color: #00ffff; text-decoration-color: #00ffff; font-weight: bold\">                       </span>│<span style=\"color: #00ff00; text-decoration-color: #00ff00\">                      </span>│<span style=\"color: #808000; text-decoration-color: #808000\"> document-processing,  </span>│<span style=\"color: #c0c0c0; text-decoration-color: #c0c0c0\"> from documents. Uses  </span>│\n",
       "│<span style=\"color: #ff00ff; text-decoration-color: #ff00ff; font-weight: bold\">                  </span>│<span style=\"color: #00ffff; text-decoration-color: #00ffff; font-weight: bold\">                       </span>│<span style=\"color: #00ff00; text-decoration-color: #00ff00\">                      </span>│<span style=\"color: #808000; text-decoration-color: #808000\"> educational,          </span>│<span style=\"color: #c0c0c0; text-decoration-color: #c0c0c0\"> three summarization   </span>│\n",
       "│<span style=\"color: #ff00ff; text-decoration-color: #ff00ff; font-weight: bold\">                  </span>│<span style=\"color: #00ffff; text-decoration-color: #00ffff; font-weight: bold\">                       </span>│<span style=\"color: #00ff00; text-decoration-color: #00ff00\">                      </span>│<span style=\"color: #808000; text-decoration-color: #808000\"> multi-strategy-synth… </span>│<span style=\"color: #c0c0c0; text-decoration-color: #c0c0c0\"> strategies (detailed  </span>│\n",
       "│<span style=\"color: #ff00ff; text-decoration-color: #ff00ff; font-weight: bold\">                  </span>│<span style=\"color: #00ffff; text-decoration-color: #00ffff; font-weight: bold\">                       </span>│<span style=\"color: #00ff00; text-decoration-color: #00ff00\">                      </span>│<span style=\"color: #808000; text-decoration-color: #808000\"> detailed-summaries,   </span>│<span style=\"color: #c0c0c0; text-decoration-color: #c0c0c0\"> summaries, extractive </span>│\n",
       "│<span style=\"color: #ff00ff; text-decoration-color: #ff00ff; font-weight: bold\">                  </span>│<span style=\"color: #00ffff; text-decoration-color: #00ffff; font-weight: bold\">                       </span>│<span style=\"color: #00ff00; text-decoration-color: #00ff00\">                      </span>│<span style=\"color: #808000; text-decoration-color: #808000\"> extractive-summaries, </span>│<span style=\"color: #c0c0c0; text-decoration-color: #c0c0c0\"> summaries, key facts) </span>│\n",
       "│<span style=\"color: #ff00ff; text-decoration-color: #ff00ff; font-weight: bold\">                  </span>│<span style=\"color: #00ffff; text-decoration-color: #00ffff; font-weight: bold\">                       </span>│<span style=\"color: #00ff00; text-decoration-color: #00ff00\">                      </span>│<span style=\"color: #808000; text-decoration-color: #808000\"> key-facts             </span>│<span style=\"color: #c0c0c0; text-decoration-color: #c0c0c0\"> to help LLMs          </span>│\n",
       "│<span style=\"color: #ff00ff; text-decoration-color: #ff00ff; font-weight: bold\">                  </span>│<span style=\"color: #00ffff; text-decoration-color: #00ffff; font-weight: bold\">                       </span>│<span style=\"color: #00ff00; text-decoration-color: #00ff00\">                      </span>│<span style=\"color: #808000; text-decoration-color: #808000\">                       </span>│<span style=\"color: #c0c0c0; text-decoration-color: #c0c0c0\"> internalize document  </span>│\n",
       "│<span style=\"color: #ff00ff; text-decoration-color: #ff00ff; font-weight: bold\">                  </span>│<span style=\"color: #00ffff; text-decoration-color: #00ffff; font-weight: bold\">                       </span>│<span style=\"color: #00ff00; text-decoration-color: #00ff00\">                      </span>│<span style=\"color: #808000; text-decoration-color: #808000\">                       </span>│<span style=\"color: #c0c0c0; text-decoration-color: #c0c0c0\"> knowledge, enabling   </span>│\n",
       "│<span style=\"color: #ff00ff; text-decoration-color: #ff00ff; font-weight: bold\">                  </span>│<span style=\"color: #00ffff; text-decoration-color: #00ffff; font-weight: bold\">                       </span>│<span style=\"color: #00ff00; text-decoration-color: #00ff00\">                      </span>│<span style=\"color: #808000; text-decoration-color: #808000\">                       </span>│<span style=\"color: #c0c0c0; text-decoration-color: #c0c0c0\"> them to answer        </span>│\n",
       "│<span style=\"color: #ff00ff; text-decoration-color: #ff00ff; font-weight: bold\">                  </span>│<span style=\"color: #00ffff; text-decoration-color: #00ffff; font-weight: bold\">                       </span>│<span style=\"color: #00ff00; text-decoration-color: #00ff00\">                      </span>│<span style=\"color: #808000; text-decoration-color: #808000\">                       </span>│<span style=\"color: #c0c0c0; text-decoration-color: #c0c0c0\"> queries without       </span>│\n",
       "│<span style=\"color: #ff00ff; text-decoration-color: #ff00ff; font-weight: bold\">                  </span>│<span style=\"color: #00ffff; text-decoration-color: #00ffff; font-weight: bold\">                       </span>│<span style=\"color: #00ff00; text-decoration-color: #00ff00\">                      </span>│<span style=\"color: #808000; text-decoration-color: #808000\">                       </span>│<span style=\"color: #c0c0c0; text-decoration-color: #c0c0c0\"> requiring the         </span>│\n",
       "│<span style=\"color: #ff00ff; text-decoration-color: #ff00ff; font-weight: bold\">                  </span>│<span style=\"color: #00ffff; text-decoration-color: #00ffff; font-weight: bold\">                       </span>│<span style=\"color: #00ff00; text-decoration-color: #00ff00\">                      </span>│<span style=\"color: #808000; text-decoration-color: #808000\">                       </span>│<span style=\"color: #c0c0c0; text-decoration-color: #c0c0c0\"> original document in  </span>│\n",
       "│<span style=\"color: #ff00ff; text-decoration-color: #ff00ff; font-weight: bold\">                  </span>│<span style=\"color: #00ffff; text-decoration-color: #00ffff; font-weight: bold\">                       </span>│<span style=\"color: #00ff00; text-decoration-color: #00ff00\">                      </span>│<span style=\"color: #808000; text-decoration-color: #808000\">                       </span>│<span style=\"color: #c0c0c0; text-decoration-color: #c0c0c0\"> context.              </span>│\n",
       "│<span style=\"color: #ff00ff; text-decoration-color: #ff00ff; font-weight: bold\"> green-clay-812   </span>│<span style=\"color: #00ffff; text-decoration-color: #00ffff; font-weight: bold\"> Structured Text       </span>│<span style=\"color: #00ff00; text-decoration-color: #00ff00\"> SDG Hub Contributors </span>│<span style=\"color: #808000; text-decoration-color: #808000\"> text-analysis,        </span>│<span style=\"color: #c0c0c0; text-decoration-color: #c0c0c0\"> Multi-step pipeline   </span>│\n",
       "│<span style=\"color: #ff00ff; text-decoration-color: #ff00ff; font-weight: bold\">                  </span>│<span style=\"color: #00ffff; text-decoration-color: #00ffff; font-weight: bold\"> Insights Extraction   </span>│<span style=\"color: #00ff00; text-decoration-color: #00ff00\">                      </span>│<span style=\"color: #808000; text-decoration-color: #808000\"> summarization, nlp,   </span>│<span style=\"color: #c0c0c0; text-decoration-color: #c0c0c0\"> for extracting        </span>│\n",
       "│<span style=\"color: #ff00ff; text-decoration-color: #ff00ff; font-weight: bold\">                  </span>│<span style=\"color: #00ffff; text-decoration-color: #00ffff; font-weight: bold\"> Flow                  </span>│<span style=\"color: #00ff00; text-decoration-color: #00ff00\">                      </span>│<span style=\"color: #808000; text-decoration-color: #808000\"> structured-output,    </span>│<span style=\"color: #c0c0c0; text-decoration-color: #c0c0c0\"> structured insights   </span>│\n",
       "│<span style=\"color: #ff00ff; text-decoration-color: #ff00ff; font-weight: bold\">                  </span>│<span style=\"color: #00ffff; text-decoration-color: #00ffff; font-weight: bold\">                       </span>│<span style=\"color: #00ff00; text-decoration-color: #00ff00\">                      </span>│<span style=\"color: #808000; text-decoration-color: #808000\"> insights,             </span>│<span style=\"color: #c0c0c0; text-decoration-color: #c0c0c0\"> from text including   </span>│\n",
       "│<span style=\"color: #ff00ff; text-decoration-color: #ff00ff; font-weight: bold\">                  </span>│<span style=\"color: #00ffff; text-decoration-color: #00ffff; font-weight: bold\">                       </span>│<span style=\"color: #00ff00; text-decoration-color: #00ff00\">                      </span>│<span style=\"color: #808000; text-decoration-color: #808000\"> sentiment-analysis,   </span>│<span style=\"color: #c0c0c0; text-decoration-color: #c0c0c0\"> summary, keywords,    </span>│\n",
       "│<span style=\"color: #ff00ff; text-decoration-color: #ff00ff; font-weight: bold\">                  </span>│<span style=\"color: #00ffff; text-decoration-color: #00ffff; font-weight: bold\">                       </span>│<span style=\"color: #00ff00; text-decoration-color: #00ff00\">                      </span>│<span style=\"color: #808000; text-decoration-color: #808000\"> entity-extraction,    </span>│<span style=\"color: #c0c0c0; text-decoration-color: #c0c0c0\"> entities, and         </span>│\n",
       "│<span style=\"color: #ff00ff; text-decoration-color: #ff00ff; font-weight: bold\">                  </span>│<span style=\"color: #00ffff; text-decoration-color: #00ffff; font-weight: bold\">                       </span>│<span style=\"color: #00ff00; text-decoration-color: #00ff00\">                      </span>│<span style=\"color: #808000; text-decoration-color: #808000\"> keyword-extraction    </span>│<span style=\"color: #c0c0c0; text-decoration-color: #c0c0c0\"> sentiment analysis    </span>│\n",
       "│<span style=\"color: #ff00ff; text-decoration-color: #ff00ff; font-weight: bold\">                  </span>│<span style=\"color: #00ffff; text-decoration-color: #00ffff; font-weight: bold\">                       </span>│<span style=\"color: #00ff00; text-decoration-color: #00ff00\">                      </span>│<span style=\"color: #808000; text-decoration-color: #808000\">                       </span>│<span style=\"color: #c0c0c0; text-decoration-color: #c0c0c0\"> combined into a JSON  </span>│\n",
       "│<span style=\"color: #ff00ff; text-decoration-color: #ff00ff; font-weight: bold\">                  </span>│<span style=\"color: #00ffff; text-decoration-color: #00ffff; font-weight: bold\">                       </span>│<span style=\"color: #00ff00; text-decoration-color: #00ff00\">                      </span>│<span style=\"color: #808000; text-decoration-color: #808000\">                       </span>│<span style=\"color: #c0c0c0; text-decoration-color: #c0c0c0\"> output                </span>│\n",
       "│<span style=\"color: #ff00ff; text-decoration-color: #ff00ff; font-weight: bold\"> heavy-heart-77   </span>│<span style=\"color: #00ffff; text-decoration-color: #00ffff; font-weight: bold\"> Key Facts Knowledge   </span>│<span style=\"color: #00ff00; text-decoration-color: #00ff00\"> SDG Hub Contributors </span>│<span style=\"color: #808000; text-decoration-color: #808000\"> knowledge-tuning,     </span>│<span style=\"color: #c0c0c0; text-decoration-color: #c0c0c0\"> Generates training    </span>│\n",
       "│<span style=\"color: #ff00ff; text-decoration-color: #ff00ff; font-weight: bold\">                  </span>│<span style=\"color: #00ffff; text-decoration-color: #00ffff; font-weight: bold\"> Tuning Dataset        </span>│<span style=\"color: #00ff00; text-decoration-color: #00ff00\">                      </span>│<span style=\"color: #808000; text-decoration-color: #808000\"> document-internaliza… </span>│<span style=\"color: #c0c0c0; text-decoration-color: #c0c0c0\"> datasets for          </span>│\n",
       "│<span style=\"color: #ff00ff; text-decoration-color: #ff00ff; font-weight: bold\">                  </span>│<span style=\"color: #00ffff; text-decoration-color: #00ffff; font-weight: bold\"> Generation Flow       </span>│<span style=\"color: #00ff00; text-decoration-color: #00ff00\">                      </span>│<span style=\"color: #808000; text-decoration-color: #808000\"> question-generation,  </span>│<span style=\"color: #c0c0c0; text-decoration-color: #c0c0c0\"> knowledge tuning by   </span>│\n",
       "│<span style=\"color: #ff00ff; text-decoration-color: #ff00ff; font-weight: bold\">                  </span>│<span style=\"color: #00ffff; text-decoration-color: #00ffff; font-weight: bold\">                       </span>│<span style=\"color: #00ff00; text-decoration-color: #00ff00\">                      </span>│<span style=\"color: #808000; text-decoration-color: #808000\"> knowledge-extraction, </span>│<span style=\"color: #c0c0c0; text-decoration-color: #c0c0c0\"> creating diverse      </span>│\n",
       "│<span style=\"color: #ff00ff; text-decoration-color: #ff00ff; font-weight: bold\">                  </span>│<span style=\"color: #00ffff; text-decoration-color: #00ffff; font-weight: bold\">                       </span>│<span style=\"color: #00ff00; text-decoration-color: #00ff00\">                      </span>│<span style=\"color: #808000; text-decoration-color: #808000\"> qa-pairs,             </span>│<span style=\"color: #c0c0c0; text-decoration-color: #c0c0c0\"> question-answer pairs </span>│\n",
       "│<span style=\"color: #ff00ff; text-decoration-color: #ff00ff; font-weight: bold\">                  </span>│<span style=\"color: #00ffff; text-decoration-color: #00ffff; font-weight: bold\">                       </span>│<span style=\"color: #00ff00; text-decoration-color: #00ff00\">                      </span>│<span style=\"color: #808000; text-decoration-color: #808000\"> document-processing,  </span>│<span style=\"color: #c0c0c0; text-decoration-color: #c0c0c0\"> from documents. Uses  </span>│\n",
       "│<span style=\"color: #ff00ff; text-decoration-color: #ff00ff; font-weight: bold\">                  </span>│<span style=\"color: #00ffff; text-decoration-color: #00ffff; font-weight: bold\">                       </span>│<span style=\"color: #00ff00; text-decoration-color: #00ff00\">                      </span>│<span style=\"color: #808000; text-decoration-color: #808000\"> educational,          </span>│<span style=\"color: #c0c0c0; text-decoration-color: #c0c0c0\"> three summarization   </span>│\n",
       "│<span style=\"color: #ff00ff; text-decoration-color: #ff00ff; font-weight: bold\">                  </span>│<span style=\"color: #00ffff; text-decoration-color: #00ffff; font-weight: bold\">                       </span>│<span style=\"color: #00ff00; text-decoration-color: #00ff00\">                      </span>│<span style=\"color: #808000; text-decoration-color: #808000\"> multi-strategy-synth… </span>│<span style=\"color: #c0c0c0; text-decoration-color: #c0c0c0\"> strategies (detailed  </span>│\n",
       "│<span style=\"color: #ff00ff; text-decoration-color: #ff00ff; font-weight: bold\">                  </span>│<span style=\"color: #00ffff; text-decoration-color: #00ffff; font-weight: bold\">                       </span>│<span style=\"color: #00ff00; text-decoration-color: #00ff00\">                      </span>│<span style=\"color: #808000; text-decoration-color: #808000\"> detailed-summaries,   </span>│<span style=\"color: #c0c0c0; text-decoration-color: #c0c0c0\"> summaries, extractive </span>│\n",
       "│<span style=\"color: #ff00ff; text-decoration-color: #ff00ff; font-weight: bold\">                  </span>│<span style=\"color: #00ffff; text-decoration-color: #00ffff; font-weight: bold\">                       </span>│<span style=\"color: #00ff00; text-decoration-color: #00ff00\">                      </span>│<span style=\"color: #808000; text-decoration-color: #808000\"> extractive-summaries, </span>│<span style=\"color: #c0c0c0; text-decoration-color: #c0c0c0\"> summaries, key facts) </span>│\n",
       "│<span style=\"color: #ff00ff; text-decoration-color: #ff00ff; font-weight: bold\">                  </span>│<span style=\"color: #00ffff; text-decoration-color: #00ffff; font-weight: bold\">                       </span>│<span style=\"color: #00ff00; text-decoration-color: #00ff00\">                      </span>│<span style=\"color: #808000; text-decoration-color: #808000\"> key-facts             </span>│<span style=\"color: #c0c0c0; text-decoration-color: #c0c0c0\"> to help LLMs          </span>│\n",
       "│<span style=\"color: #ff00ff; text-decoration-color: #ff00ff; font-weight: bold\">                  </span>│<span style=\"color: #00ffff; text-decoration-color: #00ffff; font-weight: bold\">                       </span>│<span style=\"color: #00ff00; text-decoration-color: #00ff00\">                      </span>│<span style=\"color: #808000; text-decoration-color: #808000\">                       </span>│<span style=\"color: #c0c0c0; text-decoration-color: #c0c0c0\"> internalize document  </span>│\n",
       "│<span style=\"color: #ff00ff; text-decoration-color: #ff00ff; font-weight: bold\">                  </span>│<span style=\"color: #00ffff; text-decoration-color: #00ffff; font-weight: bold\">                       </span>│<span style=\"color: #00ff00; text-decoration-color: #00ff00\">                      </span>│<span style=\"color: #808000; text-decoration-color: #808000\">                       </span>│<span style=\"color: #c0c0c0; text-decoration-color: #c0c0c0\"> knowledge, enabling   </span>│\n",
       "│<span style=\"color: #ff00ff; text-decoration-color: #ff00ff; font-weight: bold\">                  </span>│<span style=\"color: #00ffff; text-decoration-color: #00ffff; font-weight: bold\">                       </span>│<span style=\"color: #00ff00; text-decoration-color: #00ff00\">                      </span>│<span style=\"color: #808000; text-decoration-color: #808000\">                       </span>│<span style=\"color: #c0c0c0; text-decoration-color: #c0c0c0\"> them to answer        </span>│\n",
       "│<span style=\"color: #ff00ff; text-decoration-color: #ff00ff; font-weight: bold\">                  </span>│<span style=\"color: #00ffff; text-decoration-color: #00ffff; font-weight: bold\">                       </span>│<span style=\"color: #00ff00; text-decoration-color: #00ff00\">                      </span>│<span style=\"color: #808000; text-decoration-color: #808000\">                       </span>│<span style=\"color: #c0c0c0; text-decoration-color: #c0c0c0\"> queries without       </span>│\n",
       "│<span style=\"color: #ff00ff; text-decoration-color: #ff00ff; font-weight: bold\">                  </span>│<span style=\"color: #00ffff; text-decoration-color: #00ffff; font-weight: bold\">                       </span>│<span style=\"color: #00ff00; text-decoration-color: #00ff00\">                      </span>│<span style=\"color: #808000; text-decoration-color: #808000\">                       </span>│<span style=\"color: #c0c0c0; text-decoration-color: #c0c0c0\"> requiring the         </span>│\n",
       "│<span style=\"color: #ff00ff; text-decoration-color: #ff00ff; font-weight: bold\">                  </span>│<span style=\"color: #00ffff; text-decoration-color: #00ffff; font-weight: bold\">                       </span>│<span style=\"color: #00ff00; text-decoration-color: #00ff00\">                      </span>│<span style=\"color: #808000; text-decoration-color: #808000\">                       </span>│<span style=\"color: #c0c0c0; text-decoration-color: #c0c0c0\"> original document in  </span>│\n",
       "│<span style=\"color: #ff00ff; text-decoration-color: #ff00ff; font-weight: bold\">                  </span>│<span style=\"color: #00ffff; text-decoration-color: #00ffff; font-weight: bold\">                       </span>│<span style=\"color: #00ff00; text-decoration-color: #00ff00\">                      </span>│<span style=\"color: #808000; text-decoration-color: #808000\">                       </span>│<span style=\"color: #c0c0c0; text-decoration-color: #c0c0c0\"> context.              </span>│\n",
       "│<span style=\"color: #ff00ff; text-decoration-color: #ff00ff; font-weight: bold\"> mild-thunder-748 </span>│<span style=\"color: #00ffff; text-decoration-color: #00ffff; font-weight: bold\"> Detailed Summary      </span>│<span style=\"color: #00ff00; text-decoration-color: #00ff00\"> SDG Hub Contributors </span>│<span style=\"color: #808000; text-decoration-color: #808000\"> knowledge-tuning,     </span>│<span style=\"color: #c0c0c0; text-decoration-color: #c0c0c0\"> Generates training    </span>│\n",
       "│<span style=\"color: #ff00ff; text-decoration-color: #ff00ff; font-weight: bold\">                  </span>│<span style=\"color: #00ffff; text-decoration-color: #00ffff; font-weight: bold\"> Knowledge Tuning      </span>│<span style=\"color: #00ff00; text-decoration-color: #00ff00\">                      </span>│<span style=\"color: #808000; text-decoration-color: #808000\"> document-internaliza… </span>│<span style=\"color: #c0c0c0; text-decoration-color: #c0c0c0\"> datasets for          </span>│\n",
       "│<span style=\"color: #ff00ff; text-decoration-color: #ff00ff; font-weight: bold\">                  </span>│<span style=\"color: #00ffff; text-decoration-color: #00ffff; font-weight: bold\"> Dataset Generation    </span>│<span style=\"color: #00ff00; text-decoration-color: #00ff00\">                      </span>│<span style=\"color: #808000; text-decoration-color: #808000\"> question-generation,  </span>│<span style=\"color: #c0c0c0; text-decoration-color: #c0c0c0\"> knowledge tuning by   </span>│\n",
       "│<span style=\"color: #ff00ff; text-decoration-color: #ff00ff; font-weight: bold\">                  </span>│<span style=\"color: #00ffff; text-decoration-color: #00ffff; font-weight: bold\"> Flow                  </span>│<span style=\"color: #00ff00; text-decoration-color: #00ff00\">                      </span>│<span style=\"color: #808000; text-decoration-color: #808000\"> knowledge-extraction, </span>│<span style=\"color: #c0c0c0; text-decoration-color: #c0c0c0\"> creating diverse      </span>│\n",
       "│<span style=\"color: #ff00ff; text-decoration-color: #ff00ff; font-weight: bold\">                  </span>│<span style=\"color: #00ffff; text-decoration-color: #00ffff; font-weight: bold\">                       </span>│<span style=\"color: #00ff00; text-decoration-color: #00ff00\">                      </span>│<span style=\"color: #808000; text-decoration-color: #808000\"> qa-pairs,             </span>│<span style=\"color: #c0c0c0; text-decoration-color: #c0c0c0\"> question-answer pairs </span>│\n",
       "│<span style=\"color: #ff00ff; text-decoration-color: #ff00ff; font-weight: bold\">                  </span>│<span style=\"color: #00ffff; text-decoration-color: #00ffff; font-weight: bold\">                       </span>│<span style=\"color: #00ff00; text-decoration-color: #00ff00\">                      </span>│<span style=\"color: #808000; text-decoration-color: #808000\"> document-processing,  </span>│<span style=\"color: #c0c0c0; text-decoration-color: #c0c0c0\"> from documents. Uses  </span>│\n",
       "│<span style=\"color: #ff00ff; text-decoration-color: #ff00ff; font-weight: bold\">                  </span>│<span style=\"color: #00ffff; text-decoration-color: #00ffff; font-weight: bold\">                       </span>│<span style=\"color: #00ff00; text-decoration-color: #00ff00\">                      </span>│<span style=\"color: #808000; text-decoration-color: #808000\"> educational,          </span>│<span style=\"color: #c0c0c0; text-decoration-color: #c0c0c0\"> detailed summaries to </span>│\n",
       "│<span style=\"color: #ff00ff; text-decoration-color: #ff00ff; font-weight: bold\">                  </span>│<span style=\"color: #00ffff; text-decoration-color: #00ffff; font-weight: bold\">                       </span>│<span style=\"color: #00ff00; text-decoration-color: #00ff00\">                      </span>│<span style=\"color: #808000; text-decoration-color: #808000\"> multi-strategy-synth… </span>│<span style=\"color: #c0c0c0; text-decoration-color: #c0c0c0\"> help LLMs internalize </span>│\n",
       "│<span style=\"color: #ff00ff; text-decoration-color: #ff00ff; font-weight: bold\">                  </span>│<span style=\"color: #00ffff; text-decoration-color: #00ffff; font-weight: bold\">                       </span>│<span style=\"color: #00ff00; text-decoration-color: #00ff00\">                      </span>│<span style=\"color: #808000; text-decoration-color: #808000\"> detailed-summaries,   </span>│<span style=\"color: #c0c0c0; text-decoration-color: #c0c0c0\"> document knowledge,   </span>│\n",
       "│<span style=\"color: #ff00ff; text-decoration-color: #ff00ff; font-weight: bold\">                  </span>│<span style=\"color: #00ffff; text-decoration-color: #00ffff; font-weight: bold\">                       </span>│<span style=\"color: #00ff00; text-decoration-color: #00ff00\">                      </span>│<span style=\"color: #808000; text-decoration-color: #808000\"> extractive-summaries, </span>│<span style=\"color: #c0c0c0; text-decoration-color: #c0c0c0\"> enabling them to      </span>│\n",
       "│<span style=\"color: #ff00ff; text-decoration-color: #ff00ff; font-weight: bold\">                  </span>│<span style=\"color: #00ffff; text-decoration-color: #00ffff; font-weight: bold\">                       </span>│<span style=\"color: #00ff00; text-decoration-color: #00ff00\">                      </span>│<span style=\"color: #808000; text-decoration-color: #808000\"> key-facts             </span>│<span style=\"color: #c0c0c0; text-decoration-color: #c0c0c0\"> answer queries        </span>│\n",
       "│<span style=\"color: #ff00ff; text-decoration-color: #ff00ff; font-weight: bold\">                  </span>│<span style=\"color: #00ffff; text-decoration-color: #00ffff; font-weight: bold\">                       </span>│<span style=\"color: #00ff00; text-decoration-color: #00ff00\">                      </span>│<span style=\"color: #808000; text-decoration-color: #808000\">                       </span>│<span style=\"color: #c0c0c0; text-decoration-color: #c0c0c0\"> without requiring the </span>│\n",
       "│<span style=\"color: #ff00ff; text-decoration-color: #ff00ff; font-weight: bold\">                  </span>│<span style=\"color: #00ffff; text-decoration-color: #00ffff; font-weight: bold\">                       </span>│<span style=\"color: #00ff00; text-decoration-color: #00ff00\">                      </span>│<span style=\"color: #808000; text-decoration-color: #808000\">                       </span>│<span style=\"color: #c0c0c0; text-decoration-color: #c0c0c0\"> original document in  </span>│\n",
       "│<span style=\"color: #ff00ff; text-decoration-color: #ff00ff; font-weight: bold\">                  </span>│<span style=\"color: #00ffff; text-decoration-color: #00ffff; font-weight: bold\">                       </span>│<span style=\"color: #00ff00; text-decoration-color: #00ff00\">                      </span>│<span style=\"color: #808000; text-decoration-color: #808000\">                       </span>│<span style=\"color: #c0c0c0; text-decoration-color: #c0c0c0\"> context.              </span>│\n",
       "│<span style=\"color: #ff00ff; text-decoration-color: #ff00ff; font-weight: bold\"> small-rock-799   </span>│<span style=\"color: #00ffff; text-decoration-color: #00ffff; font-weight: bold\"> Advanced Document     </span>│<span style=\"color: #00ff00; text-decoration-color: #00ff00\"> SDG Hub Contributors </span>│<span style=\"color: #808000; text-decoration-color: #808000\"> question-generation,  </span>│<span style=\"color: #c0c0c0; text-decoration-color: #c0c0c0\"> A comprehensive flow  </span>│\n",
       "│<span style=\"color: #ff00ff; text-decoration-color: #ff00ff; font-weight: bold\">                  </span>│<span style=\"color: #00ffff; text-decoration-color: #00ffff; font-weight: bold\"> Grounded              </span>│<span style=\"color: #00ff00; text-decoration-color: #00ff00\">                      </span>│<span style=\"color: #808000; text-decoration-color: #808000\"> knowledge-extraction, </span>│<span style=\"color: #c0c0c0; text-decoration-color: #c0c0c0\"> that generates        </span>│\n",
       "│<span style=\"color: #ff00ff; text-decoration-color: #ff00ff; font-weight: bold\">                  </span>│<span style=\"color: #00ffff; text-decoration-color: #00ffff; font-weight: bold\"> Question-Answer       </span>│<span style=\"color: #00ff00; text-decoration-color: #00ff00\">                      </span>│<span style=\"color: #808000; text-decoration-color: #808000\"> qa-pairs,             </span>│<span style=\"color: #c0c0c0; text-decoration-color: #c0c0c0\"> high-quality          </span>│\n",
       "│<span style=\"color: #ff00ff; text-decoration-color: #ff00ff; font-weight: bold\">                  </span>│<span style=\"color: #00ffff; text-decoration-color: #00ffff; font-weight: bold\"> Generation Flow for   </span>│<span style=\"color: #00ff00; text-decoration-color: #00ff00\">                      </span>│<span style=\"color: #808000; text-decoration-color: #808000\"> document-processing,  </span>│<span style=\"color: #c0c0c0; text-decoration-color: #c0c0c0\"> question-answer pairs </span>│\n",
       "│<span style=\"color: #ff00ff; text-decoration-color: #ff00ff; font-weight: bold\">                  </span>│<span style=\"color: #00ffff; text-decoration-color: #00ffff; font-weight: bold\"> Knowledge Tuning      </span>│<span style=\"color: #00ff00; text-decoration-color: #00ff00\">                      </span>│<span style=\"color: #808000; text-decoration-color: #808000\"> educational           </span>│<span style=\"color: #c0c0c0; text-decoration-color: #c0c0c0\"> from input documents  </span>│\n",
       "│<span style=\"color: #ff00ff; text-decoration-color: #ff00ff; font-weight: bold\">                  </span>│<span style=\"color: #00ffff; text-decoration-color: #00ffff; font-weight: bold\">                       </span>│<span style=\"color: #00ff00; text-decoration-color: #00ff00\">                      </span>│<span style=\"color: #808000; text-decoration-color: #808000\">                       </span>│<span style=\"color: #c0c0c0; text-decoration-color: #c0c0c0\"> using multiple LLM    </span>│\n",
       "│<span style=\"color: #ff00ff; text-decoration-color: #ff00ff; font-weight: bold\">                  </span>│<span style=\"color: #00ffff; text-decoration-color: #00ffff; font-weight: bold\">                       </span>│<span style=\"color: #00ff00; text-decoration-color: #00ff00\">                      </span>│<span style=\"color: #808000; text-decoration-color: #808000\">                       </span>│<span style=\"color: #c0c0c0; text-decoration-color: #c0c0c0\"> blocks for question   </span>│\n",
       "│<span style=\"color: #ff00ff; text-decoration-color: #ff00ff; font-weight: bold\">                  </span>│<span style=\"color: #00ffff; text-decoration-color: #00ffff; font-weight: bold\">                       </span>│<span style=\"color: #00ff00; text-decoration-color: #00ff00\">                      </span>│<span style=\"color: #808000; text-decoration-color: #808000\">                       </span>│<span style=\"color: #c0c0c0; text-decoration-color: #c0c0c0\"> generation, answer    </span>│\n",
       "│<span style=\"color: #ff00ff; text-decoration-color: #ff00ff; font-weight: bold\">                  </span>│<span style=\"color: #00ffff; text-decoration-color: #00ffff; font-weight: bold\">                       </span>│<span style=\"color: #00ff00; text-decoration-color: #00ff00\">                      </span>│<span style=\"color: #808000; text-decoration-color: #808000\">                       </span>│<span style=\"color: #c0c0c0; text-decoration-color: #c0c0c0\"> synthesis, and        </span>│\n",
       "│<span style=\"color: #ff00ff; text-decoration-color: #ff00ff; font-weight: bold\">                  </span>│<span style=\"color: #00ffff; text-decoration-color: #00ffff; font-weight: bold\">                       </span>│<span style=\"color: #00ff00; text-decoration-color: #00ff00\">                      </span>│<span style=\"color: #808000; text-decoration-color: #808000\">                       </span>│<span style=\"color: #c0c0c0; text-decoration-color: #c0c0c0\"> quality evaluation.   </span>│\n",
       "└──────────────────┴───────────────────────┴──────────────────────┴───────────────────────┴───────────────────────┘\n",
       "</pre>\n"
      ],
      "text/plain": [
       "┏━━━━━━━━━━━━━━━━━━┳━━━━━━━━━━━━━━━━━━━━━━━┳━━━━━━━━━━━━━━━━━━━━━━┳━━━━━━━━━━━━━━━━━━━━━━━┳━━━━━━━━━━━━━━━━━━━━━━━┓\n",
       "┃\u001b[1;95m \u001b[0m\u001b[1;95mID              \u001b[0m\u001b[1;95m \u001b[0m┃\u001b[1;95m \u001b[0m\u001b[1;95mName                 \u001b[0m\u001b[1;95m \u001b[0m┃\u001b[1;95m \u001b[0m\u001b[1;95mAuthor              \u001b[0m\u001b[1;95m \u001b[0m┃\u001b[1;95m \u001b[0m\u001b[1;95mTags                 \u001b[0m\u001b[1;95m \u001b[0m┃\u001b[1;95m \u001b[0m\u001b[1;95mDescription          \u001b[0m\u001b[1;95m \u001b[0m┃\n",
       "┡━━━━━━━━━━━━━━━━━━╇━━━━━━━━━━━━━━━━━━━━━━━╇━━━━━━━━━━━━━━━━━━━━━━╇━━━━━━━━━━━━━━━━━━━━━━━╇━━━━━━━━━━━━━━━━━━━━━━━┩\n",
       "│\u001b[1;95m \u001b[0m\u001b[1;95mepic-jade-656   \u001b[0m\u001b[1;95m \u001b[0m│\u001b[1;96m \u001b[0m\u001b[1;96mExtractive Summary   \u001b[0m\u001b[1;96m \u001b[0m│\u001b[92m \u001b[0m\u001b[92mSDG Hub Contributors\u001b[0m\u001b[92m \u001b[0m│\u001b[33m \u001b[0m\u001b[33mknowledge-tuning,    \u001b[0m\u001b[33m \u001b[0m│\u001b[37m \u001b[0m\u001b[37mGenerates training   \u001b[0m\u001b[37m \u001b[0m│\n",
       "│\u001b[1;95m                  \u001b[0m│\u001b[1;96m \u001b[0m\u001b[1;96mKnowledge Tuning     \u001b[0m\u001b[1;96m \u001b[0m│\u001b[92m                      \u001b[0m│\u001b[33m \u001b[0m\u001b[33mdocument-internaliza…\u001b[0m\u001b[33m \u001b[0m│\u001b[37m \u001b[0m\u001b[37mdatasets for         \u001b[0m\u001b[37m \u001b[0m│\n",
       "│\u001b[1;95m                  \u001b[0m│\u001b[1;96m \u001b[0m\u001b[1;96mDataset Generation   \u001b[0m\u001b[1;96m \u001b[0m│\u001b[92m                      \u001b[0m│\u001b[33m \u001b[0m\u001b[33mquestion-generation, \u001b[0m\u001b[33m \u001b[0m│\u001b[37m \u001b[0m\u001b[37mknowledge tuning by  \u001b[0m\u001b[37m \u001b[0m│\n",
       "│\u001b[1;95m                  \u001b[0m│\u001b[1;96m \u001b[0m\u001b[1;96mFlow                 \u001b[0m\u001b[1;96m \u001b[0m│\u001b[92m                      \u001b[0m│\u001b[33m \u001b[0m\u001b[33mknowledge-extraction,\u001b[0m\u001b[33m \u001b[0m│\u001b[37m \u001b[0m\u001b[37mcreating diverse     \u001b[0m\u001b[37m \u001b[0m│\n",
       "│\u001b[1;95m                  \u001b[0m│\u001b[1;96m                       \u001b[0m│\u001b[92m                      \u001b[0m│\u001b[33m \u001b[0m\u001b[33mqa-pairs,            \u001b[0m\u001b[33m \u001b[0m│\u001b[37m \u001b[0m\u001b[37mquestion-answer pairs\u001b[0m\u001b[37m \u001b[0m│\n",
       "│\u001b[1;95m                  \u001b[0m│\u001b[1;96m                       \u001b[0m│\u001b[92m                      \u001b[0m│\u001b[33m \u001b[0m\u001b[33mdocument-processing, \u001b[0m\u001b[33m \u001b[0m│\u001b[37m \u001b[0m\u001b[37mfrom documents. Uses \u001b[0m\u001b[37m \u001b[0m│\n",
       "│\u001b[1;95m                  \u001b[0m│\u001b[1;96m                       \u001b[0m│\u001b[92m                      \u001b[0m│\u001b[33m \u001b[0m\u001b[33meducational,         \u001b[0m\u001b[33m \u001b[0m│\u001b[37m \u001b[0m\u001b[37mthree summarization  \u001b[0m\u001b[37m \u001b[0m│\n",
       "│\u001b[1;95m                  \u001b[0m│\u001b[1;96m                       \u001b[0m│\u001b[92m                      \u001b[0m│\u001b[33m \u001b[0m\u001b[33mmulti-strategy-synth…\u001b[0m\u001b[33m \u001b[0m│\u001b[37m \u001b[0m\u001b[37mstrategies (detailed \u001b[0m\u001b[37m \u001b[0m│\n",
       "│\u001b[1;95m                  \u001b[0m│\u001b[1;96m                       \u001b[0m│\u001b[92m                      \u001b[0m│\u001b[33m \u001b[0m\u001b[33mdetailed-summaries,  \u001b[0m\u001b[33m \u001b[0m│\u001b[37m \u001b[0m\u001b[37msummaries, extractive\u001b[0m\u001b[37m \u001b[0m│\n",
       "│\u001b[1;95m                  \u001b[0m│\u001b[1;96m                       \u001b[0m│\u001b[92m                      \u001b[0m│\u001b[33m \u001b[0m\u001b[33mextractive-summaries,\u001b[0m\u001b[33m \u001b[0m│\u001b[37m \u001b[0m\u001b[37msummaries, key facts)\u001b[0m\u001b[37m \u001b[0m│\n",
       "│\u001b[1;95m                  \u001b[0m│\u001b[1;96m                       \u001b[0m│\u001b[92m                      \u001b[0m│\u001b[33m \u001b[0m\u001b[33mkey-facts            \u001b[0m\u001b[33m \u001b[0m│\u001b[37m \u001b[0m\u001b[37mto help LLMs         \u001b[0m\u001b[37m \u001b[0m│\n",
       "│\u001b[1;95m                  \u001b[0m│\u001b[1;96m                       \u001b[0m│\u001b[92m                      \u001b[0m│\u001b[33m                       \u001b[0m│\u001b[37m \u001b[0m\u001b[37minternalize document \u001b[0m\u001b[37m \u001b[0m│\n",
       "│\u001b[1;95m                  \u001b[0m│\u001b[1;96m                       \u001b[0m│\u001b[92m                      \u001b[0m│\u001b[33m                       \u001b[0m│\u001b[37m \u001b[0m\u001b[37mknowledge, enabling  \u001b[0m\u001b[37m \u001b[0m│\n",
       "│\u001b[1;95m                  \u001b[0m│\u001b[1;96m                       \u001b[0m│\u001b[92m                      \u001b[0m│\u001b[33m                       \u001b[0m│\u001b[37m \u001b[0m\u001b[37mthem to answer       \u001b[0m\u001b[37m \u001b[0m│\n",
       "│\u001b[1;95m                  \u001b[0m│\u001b[1;96m                       \u001b[0m│\u001b[92m                      \u001b[0m│\u001b[33m                       \u001b[0m│\u001b[37m \u001b[0m\u001b[37mqueries without      \u001b[0m\u001b[37m \u001b[0m│\n",
       "│\u001b[1;95m                  \u001b[0m│\u001b[1;96m                       \u001b[0m│\u001b[92m                      \u001b[0m│\u001b[33m                       \u001b[0m│\u001b[37m \u001b[0m\u001b[37mrequiring the        \u001b[0m\u001b[37m \u001b[0m│\n",
       "│\u001b[1;95m                  \u001b[0m│\u001b[1;96m                       \u001b[0m│\u001b[92m                      \u001b[0m│\u001b[33m                       \u001b[0m│\u001b[37m \u001b[0m\u001b[37moriginal document in \u001b[0m\u001b[37m \u001b[0m│\n",
       "│\u001b[1;95m                  \u001b[0m│\u001b[1;96m                       \u001b[0m│\u001b[92m                      \u001b[0m│\u001b[33m                       \u001b[0m│\u001b[37m \u001b[0m\u001b[37mcontext.             \u001b[0m\u001b[37m \u001b[0m│\n",
       "│\u001b[1;95m \u001b[0m\u001b[1;95mgreen-clay-812  \u001b[0m\u001b[1;95m \u001b[0m│\u001b[1;96m \u001b[0m\u001b[1;96mStructured Text      \u001b[0m\u001b[1;96m \u001b[0m│\u001b[92m \u001b[0m\u001b[92mSDG Hub Contributors\u001b[0m\u001b[92m \u001b[0m│\u001b[33m \u001b[0m\u001b[33mtext-analysis,       \u001b[0m\u001b[33m \u001b[0m│\u001b[37m \u001b[0m\u001b[37mMulti-step pipeline  \u001b[0m\u001b[37m \u001b[0m│\n",
       "│\u001b[1;95m                  \u001b[0m│\u001b[1;96m \u001b[0m\u001b[1;96mInsights Extraction  \u001b[0m\u001b[1;96m \u001b[0m│\u001b[92m                      \u001b[0m│\u001b[33m \u001b[0m\u001b[33msummarization, nlp,  \u001b[0m\u001b[33m \u001b[0m│\u001b[37m \u001b[0m\u001b[37mfor extracting       \u001b[0m\u001b[37m \u001b[0m│\n",
       "│\u001b[1;95m                  \u001b[0m│\u001b[1;96m \u001b[0m\u001b[1;96mFlow                 \u001b[0m\u001b[1;96m \u001b[0m│\u001b[92m                      \u001b[0m│\u001b[33m \u001b[0m\u001b[33mstructured-output,   \u001b[0m\u001b[33m \u001b[0m│\u001b[37m \u001b[0m\u001b[37mstructured insights  \u001b[0m\u001b[37m \u001b[0m│\n",
       "│\u001b[1;95m                  \u001b[0m│\u001b[1;96m                       \u001b[0m│\u001b[92m                      \u001b[0m│\u001b[33m \u001b[0m\u001b[33minsights,            \u001b[0m\u001b[33m \u001b[0m│\u001b[37m \u001b[0m\u001b[37mfrom text including  \u001b[0m\u001b[37m \u001b[0m│\n",
       "│\u001b[1;95m                  \u001b[0m│\u001b[1;96m                       \u001b[0m│\u001b[92m                      \u001b[0m│\u001b[33m \u001b[0m\u001b[33msentiment-analysis,  \u001b[0m\u001b[33m \u001b[0m│\u001b[37m \u001b[0m\u001b[37msummary, keywords,   \u001b[0m\u001b[37m \u001b[0m│\n",
       "│\u001b[1;95m                  \u001b[0m│\u001b[1;96m                       \u001b[0m│\u001b[92m                      \u001b[0m│\u001b[33m \u001b[0m\u001b[33mentity-extraction,   \u001b[0m\u001b[33m \u001b[0m│\u001b[37m \u001b[0m\u001b[37mentities, and        \u001b[0m\u001b[37m \u001b[0m│\n",
       "│\u001b[1;95m                  \u001b[0m│\u001b[1;96m                       \u001b[0m│\u001b[92m                      \u001b[0m│\u001b[33m \u001b[0m\u001b[33mkeyword-extraction   \u001b[0m\u001b[33m \u001b[0m│\u001b[37m \u001b[0m\u001b[37msentiment analysis   \u001b[0m\u001b[37m \u001b[0m│\n",
       "│\u001b[1;95m                  \u001b[0m│\u001b[1;96m                       \u001b[0m│\u001b[92m                      \u001b[0m│\u001b[33m                       \u001b[0m│\u001b[37m \u001b[0m\u001b[37mcombined into a JSON \u001b[0m\u001b[37m \u001b[0m│\n",
       "│\u001b[1;95m                  \u001b[0m│\u001b[1;96m                       \u001b[0m│\u001b[92m                      \u001b[0m│\u001b[33m                       \u001b[0m│\u001b[37m \u001b[0m\u001b[37moutput               \u001b[0m\u001b[37m \u001b[0m│\n",
       "│\u001b[1;95m \u001b[0m\u001b[1;95mheavy-heart-77  \u001b[0m\u001b[1;95m \u001b[0m│\u001b[1;96m \u001b[0m\u001b[1;96mKey Facts Knowledge  \u001b[0m\u001b[1;96m \u001b[0m│\u001b[92m \u001b[0m\u001b[92mSDG Hub Contributors\u001b[0m\u001b[92m \u001b[0m│\u001b[33m \u001b[0m\u001b[33mknowledge-tuning,    \u001b[0m\u001b[33m \u001b[0m│\u001b[37m \u001b[0m\u001b[37mGenerates training   \u001b[0m\u001b[37m \u001b[0m│\n",
       "│\u001b[1;95m                  \u001b[0m│\u001b[1;96m \u001b[0m\u001b[1;96mTuning Dataset       \u001b[0m\u001b[1;96m \u001b[0m│\u001b[92m                      \u001b[0m│\u001b[33m \u001b[0m\u001b[33mdocument-internaliza…\u001b[0m\u001b[33m \u001b[0m│\u001b[37m \u001b[0m\u001b[37mdatasets for         \u001b[0m\u001b[37m \u001b[0m│\n",
       "│\u001b[1;95m                  \u001b[0m│\u001b[1;96m \u001b[0m\u001b[1;96mGeneration Flow      \u001b[0m\u001b[1;96m \u001b[0m│\u001b[92m                      \u001b[0m│\u001b[33m \u001b[0m\u001b[33mquestion-generation, \u001b[0m\u001b[33m \u001b[0m│\u001b[37m \u001b[0m\u001b[37mknowledge tuning by  \u001b[0m\u001b[37m \u001b[0m│\n",
       "│\u001b[1;95m                  \u001b[0m│\u001b[1;96m                       \u001b[0m│\u001b[92m                      \u001b[0m│\u001b[33m \u001b[0m\u001b[33mknowledge-extraction,\u001b[0m\u001b[33m \u001b[0m│\u001b[37m \u001b[0m\u001b[37mcreating diverse     \u001b[0m\u001b[37m \u001b[0m│\n",
       "│\u001b[1;95m                  \u001b[0m│\u001b[1;96m                       \u001b[0m│\u001b[92m                      \u001b[0m│\u001b[33m \u001b[0m\u001b[33mqa-pairs,            \u001b[0m\u001b[33m \u001b[0m│\u001b[37m \u001b[0m\u001b[37mquestion-answer pairs\u001b[0m\u001b[37m \u001b[0m│\n",
       "│\u001b[1;95m                  \u001b[0m│\u001b[1;96m                       \u001b[0m│\u001b[92m                      \u001b[0m│\u001b[33m \u001b[0m\u001b[33mdocument-processing, \u001b[0m\u001b[33m \u001b[0m│\u001b[37m \u001b[0m\u001b[37mfrom documents. Uses \u001b[0m\u001b[37m \u001b[0m│\n",
       "│\u001b[1;95m                  \u001b[0m│\u001b[1;96m                       \u001b[0m│\u001b[92m                      \u001b[0m│\u001b[33m \u001b[0m\u001b[33meducational,         \u001b[0m\u001b[33m \u001b[0m│\u001b[37m \u001b[0m\u001b[37mthree summarization  \u001b[0m\u001b[37m \u001b[0m│\n",
       "│\u001b[1;95m                  \u001b[0m│\u001b[1;96m                       \u001b[0m│\u001b[92m                      \u001b[0m│\u001b[33m \u001b[0m\u001b[33mmulti-strategy-synth…\u001b[0m\u001b[33m \u001b[0m│\u001b[37m \u001b[0m\u001b[37mstrategies (detailed \u001b[0m\u001b[37m \u001b[0m│\n",
       "│\u001b[1;95m                  \u001b[0m│\u001b[1;96m                       \u001b[0m│\u001b[92m                      \u001b[0m│\u001b[33m \u001b[0m\u001b[33mdetailed-summaries,  \u001b[0m\u001b[33m \u001b[0m│\u001b[37m \u001b[0m\u001b[37msummaries, extractive\u001b[0m\u001b[37m \u001b[0m│\n",
       "│\u001b[1;95m                  \u001b[0m│\u001b[1;96m                       \u001b[0m│\u001b[92m                      \u001b[0m│\u001b[33m \u001b[0m\u001b[33mextractive-summaries,\u001b[0m\u001b[33m \u001b[0m│\u001b[37m \u001b[0m\u001b[37msummaries, key facts)\u001b[0m\u001b[37m \u001b[0m│\n",
       "│\u001b[1;95m                  \u001b[0m│\u001b[1;96m                       \u001b[0m│\u001b[92m                      \u001b[0m│\u001b[33m \u001b[0m\u001b[33mkey-facts            \u001b[0m\u001b[33m \u001b[0m│\u001b[37m \u001b[0m\u001b[37mto help LLMs         \u001b[0m\u001b[37m \u001b[0m│\n",
       "│\u001b[1;95m                  \u001b[0m│\u001b[1;96m                       \u001b[0m│\u001b[92m                      \u001b[0m│\u001b[33m                       \u001b[0m│\u001b[37m \u001b[0m\u001b[37minternalize document \u001b[0m\u001b[37m \u001b[0m│\n",
       "│\u001b[1;95m                  \u001b[0m│\u001b[1;96m                       \u001b[0m│\u001b[92m                      \u001b[0m│\u001b[33m                       \u001b[0m│\u001b[37m \u001b[0m\u001b[37mknowledge, enabling  \u001b[0m\u001b[37m \u001b[0m│\n",
       "│\u001b[1;95m                  \u001b[0m│\u001b[1;96m                       \u001b[0m│\u001b[92m                      \u001b[0m│\u001b[33m                       \u001b[0m│\u001b[37m \u001b[0m\u001b[37mthem to answer       \u001b[0m\u001b[37m \u001b[0m│\n",
       "│\u001b[1;95m                  \u001b[0m│\u001b[1;96m                       \u001b[0m│\u001b[92m                      \u001b[0m│\u001b[33m                       \u001b[0m│\u001b[37m \u001b[0m\u001b[37mqueries without      \u001b[0m\u001b[37m \u001b[0m│\n",
       "│\u001b[1;95m                  \u001b[0m│\u001b[1;96m                       \u001b[0m│\u001b[92m                      \u001b[0m│\u001b[33m                       \u001b[0m│\u001b[37m \u001b[0m\u001b[37mrequiring the        \u001b[0m\u001b[37m \u001b[0m│\n",
       "│\u001b[1;95m                  \u001b[0m│\u001b[1;96m                       \u001b[0m│\u001b[92m                      \u001b[0m│\u001b[33m                       \u001b[0m│\u001b[37m \u001b[0m\u001b[37moriginal document in \u001b[0m\u001b[37m \u001b[0m│\n",
       "│\u001b[1;95m                  \u001b[0m│\u001b[1;96m                       \u001b[0m│\u001b[92m                      \u001b[0m│\u001b[33m                       \u001b[0m│\u001b[37m \u001b[0m\u001b[37mcontext.             \u001b[0m\u001b[37m \u001b[0m│\n",
       "│\u001b[1;95m \u001b[0m\u001b[1;95mmild-thunder-748\u001b[0m\u001b[1;95m \u001b[0m│\u001b[1;96m \u001b[0m\u001b[1;96mDetailed Summary     \u001b[0m\u001b[1;96m \u001b[0m│\u001b[92m \u001b[0m\u001b[92mSDG Hub Contributors\u001b[0m\u001b[92m \u001b[0m│\u001b[33m \u001b[0m\u001b[33mknowledge-tuning,    \u001b[0m\u001b[33m \u001b[0m│\u001b[37m \u001b[0m\u001b[37mGenerates training   \u001b[0m\u001b[37m \u001b[0m│\n",
       "│\u001b[1;95m                  \u001b[0m│\u001b[1;96m \u001b[0m\u001b[1;96mKnowledge Tuning     \u001b[0m\u001b[1;96m \u001b[0m│\u001b[92m                      \u001b[0m│\u001b[33m \u001b[0m\u001b[33mdocument-internaliza…\u001b[0m\u001b[33m \u001b[0m│\u001b[37m \u001b[0m\u001b[37mdatasets for         \u001b[0m\u001b[37m \u001b[0m│\n",
       "│\u001b[1;95m                  \u001b[0m│\u001b[1;96m \u001b[0m\u001b[1;96mDataset Generation   \u001b[0m\u001b[1;96m \u001b[0m│\u001b[92m                      \u001b[0m│\u001b[33m \u001b[0m\u001b[33mquestion-generation, \u001b[0m\u001b[33m \u001b[0m│\u001b[37m \u001b[0m\u001b[37mknowledge tuning by  \u001b[0m\u001b[37m \u001b[0m│\n",
       "│\u001b[1;95m                  \u001b[0m│\u001b[1;96m \u001b[0m\u001b[1;96mFlow                 \u001b[0m\u001b[1;96m \u001b[0m│\u001b[92m                      \u001b[0m│\u001b[33m \u001b[0m\u001b[33mknowledge-extraction,\u001b[0m\u001b[33m \u001b[0m│\u001b[37m \u001b[0m\u001b[37mcreating diverse     \u001b[0m\u001b[37m \u001b[0m│\n",
       "│\u001b[1;95m                  \u001b[0m│\u001b[1;96m                       \u001b[0m│\u001b[92m                      \u001b[0m│\u001b[33m \u001b[0m\u001b[33mqa-pairs,            \u001b[0m\u001b[33m \u001b[0m│\u001b[37m \u001b[0m\u001b[37mquestion-answer pairs\u001b[0m\u001b[37m \u001b[0m│\n",
       "│\u001b[1;95m                  \u001b[0m│\u001b[1;96m                       \u001b[0m│\u001b[92m                      \u001b[0m│\u001b[33m \u001b[0m\u001b[33mdocument-processing, \u001b[0m\u001b[33m \u001b[0m│\u001b[37m \u001b[0m\u001b[37mfrom documents. Uses \u001b[0m\u001b[37m \u001b[0m│\n",
       "│\u001b[1;95m                  \u001b[0m│\u001b[1;96m                       \u001b[0m│\u001b[92m                      \u001b[0m│\u001b[33m \u001b[0m\u001b[33meducational,         \u001b[0m\u001b[33m \u001b[0m│\u001b[37m \u001b[0m\u001b[37mdetailed summaries to\u001b[0m\u001b[37m \u001b[0m│\n",
       "│\u001b[1;95m                  \u001b[0m│\u001b[1;96m                       \u001b[0m│\u001b[92m                      \u001b[0m│\u001b[33m \u001b[0m\u001b[33mmulti-strategy-synth…\u001b[0m\u001b[33m \u001b[0m│\u001b[37m \u001b[0m\u001b[37mhelp LLMs internalize\u001b[0m\u001b[37m \u001b[0m│\n",
       "│\u001b[1;95m                  \u001b[0m│\u001b[1;96m                       \u001b[0m│\u001b[92m                      \u001b[0m│\u001b[33m \u001b[0m\u001b[33mdetailed-summaries,  \u001b[0m\u001b[33m \u001b[0m│\u001b[37m \u001b[0m\u001b[37mdocument knowledge,  \u001b[0m\u001b[37m \u001b[0m│\n",
       "│\u001b[1;95m                  \u001b[0m│\u001b[1;96m                       \u001b[0m│\u001b[92m                      \u001b[0m│\u001b[33m \u001b[0m\u001b[33mextractive-summaries,\u001b[0m\u001b[33m \u001b[0m│\u001b[37m \u001b[0m\u001b[37menabling them to     \u001b[0m\u001b[37m \u001b[0m│\n",
       "│\u001b[1;95m                  \u001b[0m│\u001b[1;96m                       \u001b[0m│\u001b[92m                      \u001b[0m│\u001b[33m \u001b[0m\u001b[33mkey-facts            \u001b[0m\u001b[33m \u001b[0m│\u001b[37m \u001b[0m\u001b[37manswer queries       \u001b[0m\u001b[37m \u001b[0m│\n",
       "│\u001b[1;95m                  \u001b[0m│\u001b[1;96m                       \u001b[0m│\u001b[92m                      \u001b[0m│\u001b[33m                       \u001b[0m│\u001b[37m \u001b[0m\u001b[37mwithout requiring the\u001b[0m\u001b[37m \u001b[0m│\n",
       "│\u001b[1;95m                  \u001b[0m│\u001b[1;96m                       \u001b[0m│\u001b[92m                      \u001b[0m│\u001b[33m                       \u001b[0m│\u001b[37m \u001b[0m\u001b[37moriginal document in \u001b[0m\u001b[37m \u001b[0m│\n",
       "│\u001b[1;95m                  \u001b[0m│\u001b[1;96m                       \u001b[0m│\u001b[92m                      \u001b[0m│\u001b[33m                       \u001b[0m│\u001b[37m \u001b[0m\u001b[37mcontext.             \u001b[0m\u001b[37m \u001b[0m│\n",
       "│\u001b[1;95m \u001b[0m\u001b[1;95msmall-rock-799  \u001b[0m\u001b[1;95m \u001b[0m│\u001b[1;96m \u001b[0m\u001b[1;96mAdvanced Document    \u001b[0m\u001b[1;96m \u001b[0m│\u001b[92m \u001b[0m\u001b[92mSDG Hub Contributors\u001b[0m\u001b[92m \u001b[0m│\u001b[33m \u001b[0m\u001b[33mquestion-generation, \u001b[0m\u001b[33m \u001b[0m│\u001b[37m \u001b[0m\u001b[37mA comprehensive flow \u001b[0m\u001b[37m \u001b[0m│\n",
       "│\u001b[1;95m                  \u001b[0m│\u001b[1;96m \u001b[0m\u001b[1;96mGrounded             \u001b[0m\u001b[1;96m \u001b[0m│\u001b[92m                      \u001b[0m│\u001b[33m \u001b[0m\u001b[33mknowledge-extraction,\u001b[0m\u001b[33m \u001b[0m│\u001b[37m \u001b[0m\u001b[37mthat generates       \u001b[0m\u001b[37m \u001b[0m│\n",
       "│\u001b[1;95m                  \u001b[0m│\u001b[1;96m \u001b[0m\u001b[1;96mQuestion-Answer      \u001b[0m\u001b[1;96m \u001b[0m│\u001b[92m                      \u001b[0m│\u001b[33m \u001b[0m\u001b[33mqa-pairs,            \u001b[0m\u001b[33m \u001b[0m│\u001b[37m \u001b[0m\u001b[37mhigh-quality         \u001b[0m\u001b[37m \u001b[0m│\n",
       "│\u001b[1;95m                  \u001b[0m│\u001b[1;96m \u001b[0m\u001b[1;96mGeneration Flow for  \u001b[0m\u001b[1;96m \u001b[0m│\u001b[92m                      \u001b[0m│\u001b[33m \u001b[0m\u001b[33mdocument-processing, \u001b[0m\u001b[33m \u001b[0m│\u001b[37m \u001b[0m\u001b[37mquestion-answer pairs\u001b[0m\u001b[37m \u001b[0m│\n",
       "│\u001b[1;95m                  \u001b[0m│\u001b[1;96m \u001b[0m\u001b[1;96mKnowledge Tuning     \u001b[0m\u001b[1;96m \u001b[0m│\u001b[92m                      \u001b[0m│\u001b[33m \u001b[0m\u001b[33meducational          \u001b[0m\u001b[33m \u001b[0m│\u001b[37m \u001b[0m\u001b[37mfrom input documents \u001b[0m\u001b[37m \u001b[0m│\n",
       "│\u001b[1;95m                  \u001b[0m│\u001b[1;96m                       \u001b[0m│\u001b[92m                      \u001b[0m│\u001b[33m                       \u001b[0m│\u001b[37m \u001b[0m\u001b[37musing multiple LLM   \u001b[0m\u001b[37m \u001b[0m│\n",
       "│\u001b[1;95m                  \u001b[0m│\u001b[1;96m                       \u001b[0m│\u001b[92m                      \u001b[0m│\u001b[33m                       \u001b[0m│\u001b[37m \u001b[0m\u001b[37mblocks for question  \u001b[0m\u001b[37m \u001b[0m│\n",
       "│\u001b[1;95m                  \u001b[0m│\u001b[1;96m                       \u001b[0m│\u001b[92m                      \u001b[0m│\u001b[33m                       \u001b[0m│\u001b[37m \u001b[0m\u001b[37mgeneration, answer   \u001b[0m\u001b[37m \u001b[0m│\n",
       "│\u001b[1;95m                  \u001b[0m│\u001b[1;96m                       \u001b[0m│\u001b[92m                      \u001b[0m│\u001b[33m                       \u001b[0m│\u001b[37m \u001b[0m\u001b[37msynthesis, and       \u001b[0m\u001b[37m \u001b[0m│\n",
       "│\u001b[1;95m                  \u001b[0m│\u001b[1;96m                       \u001b[0m│\u001b[92m                      \u001b[0m│\u001b[33m                       \u001b[0m│\u001b[37m \u001b[0m\u001b[37mquality evaluation.  \u001b[0m\u001b[37m \u001b[0m│\n",
       "└──────────────────┴───────────────────────┴──────────────────────┴───────────────────────┴───────────────────────┘\n"
      ]
     },
     "metadata": {},
     "output_type": "display_data"
    },
    {
     "name": "stdout",
     "output_type": "stream",
     "text": [
      "Available flows: 5\n",
      "1. {'id': 'green-clay-812', 'name': 'Structured Text Insights Extraction Flow'}\n",
      "2. {'id': 'small-rock-799', 'name': 'Advanced Document Grounded Question-Answer Generation Flow for Knowledge Tuning'}\n",
      "3. {'id': 'mild-thunder-748', 'name': 'Detailed Summary Knowledge Tuning Dataset Generation Flow'}\n",
      "4. {'id': 'heavy-heart-77', 'name': 'Key Facts Knowledge Tuning Dataset Generation Flow'}\n",
      "5. {'id': 'epic-jade-656', 'name': 'Extractive Summary Knowledge Tuning Dataset Generation Flow'}\n"
     ]
    }
   ],
   "source": [
    "# Auto-discover all available flows\n",
    "FlowRegistry.discover_flows()\n",
    "\n",
    "# List all flows\n",
    "flows = FlowRegistry.list_flows()\n",
    "print(f\"Available flows: {len(flows)}\")\n",
    "for i, flow in enumerate(flows[:10]):  # Show first 10\n",
    "    print(f\"{i+1}. {flow}\")\n",
    "if len(flows) > 10:\n",
    "    print(f\"... and {len(flows) - 10} more\")"
   ]
  },
  {
   "cell_type": "code",
   "execution_count": 4,
   "metadata": {},
   "outputs": [
    {
     "name": "stdout",
     "output_type": "stream",
     "text": [
      "Text analysis flows: [{'id': 'green-clay-812', 'name': 'Structured Text Insights Extraction Flow'}]\n"
     ]
    },
    {
     "data": {
      "text/html": [
       "<pre style=\"white-space:pre;overflow-x:auto;line-height:normal;font-family:Menlo,'DejaVu Sans Mono',consolas,'Courier New',monospace\"><span style=\"color: #7fbfbf; text-decoration-color: #7fbfbf\">[15:25:53] </span><span style=\"color: #000080; text-decoration-color: #000080\">INFO    </span> Loading flow from:                                                                  <a href=\"file:///Users/shiv/workspace/sdg_hub_add-structured-summary-nb/src/sdg_hub/core/flow/base.py\" target=\"_blank\"><span style=\"color: #7f7f7f; text-decoration-color: #7f7f7f\">base.py</span></a><span style=\"color: #7f7f7f; text-decoration-color: #7f7f7f\">:</span><a href=\"file:///Users/shiv/workspace/sdg_hub_add-structured-summary-nb/src/sdg_hub/core/flow/base.py#161\" target=\"_blank\"><span style=\"color: #7f7f7f; text-decoration-color: #7f7f7f\">161</span></a>\n",
       "<span style=\"color: #7fbfbf; text-decoration-color: #7fbfbf\">           </span>         <span style=\"color: #800080; text-decoration-color: #800080\">/Users/shiv/workspace/sdg_hub_add-structured-summary-nb/src/sdg_hub/flows/text_anal</span> <span style=\"color: #7f7f7f; text-decoration-color: #7f7f7f\">           </span>\n",
       "<span style=\"color: #7fbfbf; text-decoration-color: #7fbfbf\">           </span>         <span style=\"color: #800080; text-decoration-color: #800080\">ysis/structured_insights/</span><span style=\"color: #ff00ff; text-decoration-color: #ff00ff\">flow.yaml</span>                                                  <span style=\"color: #7f7f7f; text-decoration-color: #7f7f7f\">           </span>\n",
       "</pre>\n"
      ],
      "text/plain": [
       "\u001b[2;36m[15:25:53]\u001b[0m\u001b[2;36m \u001b[0m\u001b[34mINFO    \u001b[0m Loading flow from:                                                                  \u001b]8;id=703678;file:///Users/shiv/workspace/sdg_hub_add-structured-summary-nb/src/sdg_hub/core/flow/base.py\u001b\\\u001b[2mbase.py\u001b[0m\u001b]8;;\u001b\\\u001b[2m:\u001b[0m\u001b]8;id=41884;file:///Users/shiv/workspace/sdg_hub_add-structured-summary-nb/src/sdg_hub/core/flow/base.py#161\u001b\\\u001b[2m161\u001b[0m\u001b]8;;\u001b\\\n",
       "\u001b[2;36m           \u001b[0m         \u001b[35m/Users/shiv/workspace/sdg_hub_add-structured-summary-nb/src/sdg_hub/flows/text_anal\u001b[0m \u001b[2m           \u001b[0m\n",
       "\u001b[2;36m           \u001b[0m         \u001b[35mysis/structured_insights/\u001b[0m\u001b[95mflow.yaml\u001b[0m                                                  \u001b[2m           \u001b[0m\n"
      ]
     },
     "metadata": {},
     "output_type": "display_data"
    },
    {
     "name": "stdout",
     "output_type": "stream",
     "text": [
      "\n",
      "✅ Loaded flow: green-clay-812\n",
      "📍 Flow path: /Users/shiv/workspace/sdg_hub_add-structured-summary-nb/src/sdg_hub/flows/text_analysis/structured_insights/flow.yaml\n"
     ]
    }
   ],
   "source": [
    "# Search for text analysis flows\n",
    "text_flows = FlowRegistry.search_flows(tag=\"text-analysis\")\n",
    "print(f\"Text analysis flows: {text_flows}\")\n",
    "\n",
    "# Load our structured insights flow\n",
    "flow_id = \"green-clay-812\" \n",
    "flow_path = FlowRegistry.get_flow_path(flow_id)\n",
    "flow = Flow.from_yaml(flow_path)\n",
    "\n",
    "print(f\"\\n✅ Loaded flow: {flow_id}\") \n",
    "print(f\"📍 Flow path: {flow_path}\")"
   ]
  },
  {
   "cell_type": "markdown",
   "metadata": {},
   "source": [
    "## 2. Model Configuration\n",
    "\n",
    "The flow supports multiple LLM models. Let's configure it:"
   ]
  },
  {
   "cell_type": "code",
   "execution_count": 5,
   "metadata": {},
   "outputs": [
    {
     "name": "stdout",
     "output_type": "stream",
     "text": [
      "Default model: meta-llama/Llama-3.3-70B-Instruct\n",
      "Model recommendations: {'default': 'meta-llama/Llama-3.3-70B-Instruct', 'compatible': ['microsoft/phi-4', 'mistralai/Mixtral-8x7B-Instruct-v0.1'], 'experimental': ['gpt-4o', 'gpt-oss-120b']}\n"
     ]
    }
   ],
   "source": [
    "# Check recommended models\n",
    "print(\"Default model:\", flow.get_default_model())\n",
    "print(\"Model recommendations:\", flow.get_model_recommendations())"
   ]
  },
  {
   "cell_type": "code",
   "execution_count": 6,
   "metadata": {},
   "outputs": [
    {
     "data": {
      "text/html": [
       "<pre style=\"white-space:pre;overflow-x:auto;line-height:normal;font-family:Menlo,'DejaVu Sans Mono',consolas,'Courier New',monospace\"><span style=\"color: #7fbfbf; text-decoration-color: #7fbfbf\">           </span><span style=\"color: #000080; text-decoration-color: #000080\">INFO    </span> Auto-detected <span style=\"color: #008080; text-decoration-color: #008080; font-weight: bold\">4</span> LLM blocks for configuration: <span style=\"font-weight: bold\">[</span><span style=\"color: #008000; text-decoration-color: #008000\">'generate_entities'</span>,                 <a href=\"file:///Users/shiv/workspace/sdg_hub_add-structured-summary-nb/src/sdg_hub/core/flow/base.py\" target=\"_blank\"><span style=\"color: #7f7f7f; text-decoration-color: #7f7f7f\">base.py</span></a><span style=\"color: #7f7f7f; text-decoration-color: #7f7f7f\">:</span><a href=\"file:///Users/shiv/workspace/sdg_hub_add-structured-summary-nb/src/sdg_hub/core/flow/base.py#762\" target=\"_blank\"><span style=\"color: #7f7f7f; text-decoration-color: #7f7f7f\">762</span></a>\n",
       "<span style=\"color: #7fbfbf; text-decoration-color: #7fbfbf\">           </span>         <span style=\"color: #008000; text-decoration-color: #008000\">'generate_keywords'</span>, <span style=\"color: #008000; text-decoration-color: #008000\">'generate_sentiment'</span>, <span style=\"color: #008000; text-decoration-color: #008000\">'generate_summary'</span><span style=\"font-weight: bold\">]</span>                      <span style=\"color: #7f7f7f; text-decoration-color: #7f7f7f\">           </span>\n",
       "</pre>\n"
      ],
      "text/plain": [
       "\u001b[2;36m          \u001b[0m\u001b[2;36m \u001b[0m\u001b[34mINFO    \u001b[0m Auto-detected \u001b[1;36m4\u001b[0m LLM blocks for configuration: \u001b[1m[\u001b[0m\u001b[32m'generate_entities'\u001b[0m,                 \u001b]8;id=165193;file:///Users/shiv/workspace/sdg_hub_add-structured-summary-nb/src/sdg_hub/core/flow/base.py\u001b\\\u001b[2mbase.py\u001b[0m\u001b]8;;\u001b\\\u001b[2m:\u001b[0m\u001b]8;id=909923;file:///Users/shiv/workspace/sdg_hub_add-structured-summary-nb/src/sdg_hub/core/flow/base.py#762\u001b\\\u001b[2m762\u001b[0m\u001b]8;;\u001b\\\n",
       "\u001b[2;36m           \u001b[0m         \u001b[32m'generate_keywords'\u001b[0m, \u001b[32m'generate_sentiment'\u001b[0m, \u001b[32m'generate_summary'\u001b[0m\u001b[1m]\u001b[0m                      \u001b[2m           \u001b[0m\n"
      ]
     },
     "metadata": {},
     "output_type": "display_data"
    },
    {
     "data": {
      "text/html": [
       "<pre style=\"white-space:pre;overflow-x:auto;line-height:normal;font-family:Menlo,'DejaVu Sans Mono',consolas,'Courier New',monospace\"><span style=\"color: #7fbfbf; text-decoration-color: #7fbfbf\">[15:25:53] </span><span style=\"color: #000080; text-decoration-color: #000080\">INFO    </span> Loaded LLM client for model                                                <a href=\"file:///Users/shiv/workspace/sdg_hub_add-structured-summary-nb/src/sdg_hub/core/blocks/llm/client_manager.py\" target=\"_blank\"><span style=\"color: #7f7f7f; text-decoration-color: #7f7f7f\">client_manager.py</span></a><span style=\"color: #7f7f7f; text-decoration-color: #7f7f7f\">:</span><a href=\"file:///Users/shiv/workspace/sdg_hub_add-structured-summary-nb/src/sdg_hub/core/blocks/llm/client_manager.py#61\" target=\"_blank\"><span style=\"color: #7f7f7f; text-decoration-color: #7f7f7f\">61</span></a>\n",
       "<span style=\"color: #7fbfbf; text-decoration-color: #7fbfbf\">           </span>         <span style=\"color: #008000; text-decoration-color: #008000\">'hosted_vllm/meta-llama/Llama-3.3-70B-Instruct'</span>                            <span style=\"color: #7f7f7f; text-decoration-color: #7f7f7f\">                    </span>\n",
       "</pre>\n"
      ],
      "text/plain": [
       "\u001b[2;36m[15:25:53]\u001b[0m\u001b[2;36m \u001b[0m\u001b[34mINFO    \u001b[0m Loaded LLM client for model                                                \u001b]8;id=965926;file:///Users/shiv/workspace/sdg_hub_add-structured-summary-nb/src/sdg_hub/core/blocks/llm/client_manager.py\u001b\\\u001b[2mclient_manager.py\u001b[0m\u001b]8;;\u001b\\\u001b[2m:\u001b[0m\u001b]8;id=995597;file:///Users/shiv/workspace/sdg_hub_add-structured-summary-nb/src/sdg_hub/core/blocks/llm/client_manager.py#61\u001b\\\u001b[2m61\u001b[0m\u001b]8;;\u001b\\\n",
       "\u001b[2;36m           \u001b[0m         \u001b[32m'hosted_vllm/meta-llama/Llama-3.3-70B-Instruct'\u001b[0m                            \u001b[2m                    \u001b[0m\n"
      ]
     },
     "metadata": {},
     "output_type": "display_data"
    },
    {
     "data": {
      "text/html": [
       "<pre style=\"white-space:pre;overflow-x:auto;line-height:normal;font-family:Menlo,'DejaVu Sans Mono',consolas,'Courier New',monospace\"><span style=\"color: #7fbfbf; text-decoration-color: #7fbfbf\">[15:25:53] </span><span style=\"color: #000080; text-decoration-color: #000080\">INFO    </span> Initialized LLMChatBlock <span style=\"color: #008000; text-decoration-color: #008000\">'generate_summary'</span> with model                    <a href=\"file:///Users/shiv/workspace/sdg_hub_add-structured-summary-nb/src/sdg_hub/core/blocks/llm/llm_chat_block.py\" target=\"_blank\"><span style=\"color: #7f7f7f; text-decoration-color: #7f7f7f\">llm_chat_block.py</span></a><span style=\"color: #7f7f7f; text-decoration-color: #7f7f7f\">:</span><a href=\"file:///Users/shiv/workspace/sdg_hub_add-structured-summary-nb/src/sdg_hub/core/blocks/llm/llm_chat_block.py#265\" target=\"_blank\"><span style=\"color: #7f7f7f; text-decoration-color: #7f7f7f\">265</span></a>\n",
       "<span style=\"color: #7fbfbf; text-decoration-color: #7fbfbf\">           </span>         <span style=\"color: #008000; text-decoration-color: #008000\">'hosted_vllm/meta-llama/Llama-3.3-70B-Instruct'</span>                           <span style=\"color: #7f7f7f; text-decoration-color: #7f7f7f\">                     </span>\n",
       "</pre>\n"
      ],
      "text/plain": [
       "\u001b[2;36m[15:25:53]\u001b[0m\u001b[2;36m \u001b[0m\u001b[34mINFO    \u001b[0m Initialized LLMChatBlock \u001b[32m'generate_summary'\u001b[0m with model                    \u001b]8;id=478374;file:///Users/shiv/workspace/sdg_hub_add-structured-summary-nb/src/sdg_hub/core/blocks/llm/llm_chat_block.py\u001b\\\u001b[2mllm_chat_block.py\u001b[0m\u001b]8;;\u001b\\\u001b[2m:\u001b[0m\u001b]8;id=19758;file:///Users/shiv/workspace/sdg_hub_add-structured-summary-nb/src/sdg_hub/core/blocks/llm/llm_chat_block.py#265\u001b\\\u001b[2m265\u001b[0m\u001b]8;;\u001b\\\n",
       "\u001b[2;36m           \u001b[0m         \u001b[32m'hosted_vllm/meta-llama/Llama-3.3-70B-Instruct'\u001b[0m                           \u001b[2m                     \u001b[0m\n"
      ]
     },
     "metadata": {},
     "output_type": "display_data"
    },
    {
     "data": {
      "text/html": [
       "<pre style=\"white-space:pre;overflow-x:auto;line-height:normal;font-family:Menlo,'DejaVu Sans Mono',consolas,'Courier New',monospace\"><span style=\"color: #7fbfbf; text-decoration-color: #7fbfbf\">           </span><span style=\"color: #000080; text-decoration-color: #000080\">INFO    </span> Loaded LLM client for model                                                <a href=\"file:///Users/shiv/workspace/sdg_hub_add-structured-summary-nb/src/sdg_hub/core/blocks/llm/client_manager.py\" target=\"_blank\"><span style=\"color: #7f7f7f; text-decoration-color: #7f7f7f\">client_manager.py</span></a><span style=\"color: #7f7f7f; text-decoration-color: #7f7f7f\">:</span><a href=\"file:///Users/shiv/workspace/sdg_hub_add-structured-summary-nb/src/sdg_hub/core/blocks/llm/client_manager.py#61\" target=\"_blank\"><span style=\"color: #7f7f7f; text-decoration-color: #7f7f7f\">61</span></a>\n",
       "<span style=\"color: #7fbfbf; text-decoration-color: #7fbfbf\">           </span>         <span style=\"color: #008000; text-decoration-color: #008000\">'hosted_vllm/meta-llama/Llama-3.3-70B-Instruct'</span>                            <span style=\"color: #7f7f7f; text-decoration-color: #7f7f7f\">                    </span>\n",
       "</pre>\n"
      ],
      "text/plain": [
       "\u001b[2;36m          \u001b[0m\u001b[2;36m \u001b[0m\u001b[34mINFO    \u001b[0m Loaded LLM client for model                                                \u001b]8;id=691072;file:///Users/shiv/workspace/sdg_hub_add-structured-summary-nb/src/sdg_hub/core/blocks/llm/client_manager.py\u001b\\\u001b[2mclient_manager.py\u001b[0m\u001b]8;;\u001b\\\u001b[2m:\u001b[0m\u001b]8;id=462541;file:///Users/shiv/workspace/sdg_hub_add-structured-summary-nb/src/sdg_hub/core/blocks/llm/client_manager.py#61\u001b\\\u001b[2m61\u001b[0m\u001b]8;;\u001b\\\n",
       "\u001b[2;36m           \u001b[0m         \u001b[32m'hosted_vllm/meta-llama/Llama-3.3-70B-Instruct'\u001b[0m                            \u001b[2m                    \u001b[0m\n"
      ]
     },
     "metadata": {},
     "output_type": "display_data"
    },
    {
     "data": {
      "text/html": [
       "<pre style=\"white-space:pre;overflow-x:auto;line-height:normal;font-family:Menlo,'DejaVu Sans Mono',consolas,'Courier New',monospace\"><span style=\"color: #7fbfbf; text-decoration-color: #7fbfbf\">           </span><span style=\"color: #000080; text-decoration-color: #000080\">INFO    </span> Initialized LLMChatBlock <span style=\"color: #008000; text-decoration-color: #008000\">'generate_keywords'</span> with model                   <a href=\"file:///Users/shiv/workspace/sdg_hub_add-structured-summary-nb/src/sdg_hub/core/blocks/llm/llm_chat_block.py\" target=\"_blank\"><span style=\"color: #7f7f7f; text-decoration-color: #7f7f7f\">llm_chat_block.py</span></a><span style=\"color: #7f7f7f; text-decoration-color: #7f7f7f\">:</span><a href=\"file:///Users/shiv/workspace/sdg_hub_add-structured-summary-nb/src/sdg_hub/core/blocks/llm/llm_chat_block.py#265\" target=\"_blank\"><span style=\"color: #7f7f7f; text-decoration-color: #7f7f7f\">265</span></a>\n",
       "<span style=\"color: #7fbfbf; text-decoration-color: #7fbfbf\">           </span>         <span style=\"color: #008000; text-decoration-color: #008000\">'hosted_vllm/meta-llama/Llama-3.3-70B-Instruct'</span>                           <span style=\"color: #7f7f7f; text-decoration-color: #7f7f7f\">                     </span>\n",
       "</pre>\n"
      ],
      "text/plain": [
       "\u001b[2;36m          \u001b[0m\u001b[2;36m \u001b[0m\u001b[34mINFO    \u001b[0m Initialized LLMChatBlock \u001b[32m'generate_keywords'\u001b[0m with model                   \u001b]8;id=677592;file:///Users/shiv/workspace/sdg_hub_add-structured-summary-nb/src/sdg_hub/core/blocks/llm/llm_chat_block.py\u001b\\\u001b[2mllm_chat_block.py\u001b[0m\u001b]8;;\u001b\\\u001b[2m:\u001b[0m\u001b]8;id=844801;file:///Users/shiv/workspace/sdg_hub_add-structured-summary-nb/src/sdg_hub/core/blocks/llm/llm_chat_block.py#265\u001b\\\u001b[2m265\u001b[0m\u001b]8;;\u001b\\\n",
       "\u001b[2;36m           \u001b[0m         \u001b[32m'hosted_vllm/meta-llama/Llama-3.3-70B-Instruct'\u001b[0m                           \u001b[2m                     \u001b[0m\n"
      ]
     },
     "metadata": {},
     "output_type": "display_data"
    },
    {
     "data": {
      "text/html": [
       "<pre style=\"white-space:pre;overflow-x:auto;line-height:normal;font-family:Menlo,'DejaVu Sans Mono',consolas,'Courier New',monospace\"><span style=\"color: #7fbfbf; text-decoration-color: #7fbfbf\">           </span><span style=\"color: #000080; text-decoration-color: #000080\">INFO    </span> Loaded LLM client for model                                                <a href=\"file:///Users/shiv/workspace/sdg_hub_add-structured-summary-nb/src/sdg_hub/core/blocks/llm/client_manager.py\" target=\"_blank\"><span style=\"color: #7f7f7f; text-decoration-color: #7f7f7f\">client_manager.py</span></a><span style=\"color: #7f7f7f; text-decoration-color: #7f7f7f\">:</span><a href=\"file:///Users/shiv/workspace/sdg_hub_add-structured-summary-nb/src/sdg_hub/core/blocks/llm/client_manager.py#61\" target=\"_blank\"><span style=\"color: #7f7f7f; text-decoration-color: #7f7f7f\">61</span></a>\n",
       "<span style=\"color: #7fbfbf; text-decoration-color: #7fbfbf\">           </span>         <span style=\"color: #008000; text-decoration-color: #008000\">'hosted_vllm/meta-llama/Llama-3.3-70B-Instruct'</span>                            <span style=\"color: #7f7f7f; text-decoration-color: #7f7f7f\">                    </span>\n",
       "</pre>\n"
      ],
      "text/plain": [
       "\u001b[2;36m          \u001b[0m\u001b[2;36m \u001b[0m\u001b[34mINFO    \u001b[0m Loaded LLM client for model                                                \u001b]8;id=879757;file:///Users/shiv/workspace/sdg_hub_add-structured-summary-nb/src/sdg_hub/core/blocks/llm/client_manager.py\u001b\\\u001b[2mclient_manager.py\u001b[0m\u001b]8;;\u001b\\\u001b[2m:\u001b[0m\u001b]8;id=173541;file:///Users/shiv/workspace/sdg_hub_add-structured-summary-nb/src/sdg_hub/core/blocks/llm/client_manager.py#61\u001b\\\u001b[2m61\u001b[0m\u001b]8;;\u001b\\\n",
       "\u001b[2;36m           \u001b[0m         \u001b[32m'hosted_vllm/meta-llama/Llama-3.3-70B-Instruct'\u001b[0m                            \u001b[2m                    \u001b[0m\n"
      ]
     },
     "metadata": {},
     "output_type": "display_data"
    },
    {
     "data": {
      "text/html": [
       "<pre style=\"white-space:pre;overflow-x:auto;line-height:normal;font-family:Menlo,'DejaVu Sans Mono',consolas,'Courier New',monospace\"><span style=\"color: #7fbfbf; text-decoration-color: #7fbfbf\">           </span><span style=\"color: #000080; text-decoration-color: #000080\">INFO    </span> Initialized LLMChatBlock <span style=\"color: #008000; text-decoration-color: #008000\">'generate_entities'</span> with model                   <a href=\"file:///Users/shiv/workspace/sdg_hub_add-structured-summary-nb/src/sdg_hub/core/blocks/llm/llm_chat_block.py\" target=\"_blank\"><span style=\"color: #7f7f7f; text-decoration-color: #7f7f7f\">llm_chat_block.py</span></a><span style=\"color: #7f7f7f; text-decoration-color: #7f7f7f\">:</span><a href=\"file:///Users/shiv/workspace/sdg_hub_add-structured-summary-nb/src/sdg_hub/core/blocks/llm/llm_chat_block.py#265\" target=\"_blank\"><span style=\"color: #7f7f7f; text-decoration-color: #7f7f7f\">265</span></a>\n",
       "<span style=\"color: #7fbfbf; text-decoration-color: #7fbfbf\">           </span>         <span style=\"color: #008000; text-decoration-color: #008000\">'hosted_vllm/meta-llama/Llama-3.3-70B-Instruct'</span>                           <span style=\"color: #7f7f7f; text-decoration-color: #7f7f7f\">                     </span>\n",
       "</pre>\n"
      ],
      "text/plain": [
       "\u001b[2;36m          \u001b[0m\u001b[2;36m \u001b[0m\u001b[34mINFO    \u001b[0m Initialized LLMChatBlock \u001b[32m'generate_entities'\u001b[0m with model                   \u001b]8;id=533239;file:///Users/shiv/workspace/sdg_hub_add-structured-summary-nb/src/sdg_hub/core/blocks/llm/llm_chat_block.py\u001b\\\u001b[2mllm_chat_block.py\u001b[0m\u001b]8;;\u001b\\\u001b[2m:\u001b[0m\u001b]8;id=195369;file:///Users/shiv/workspace/sdg_hub_add-structured-summary-nb/src/sdg_hub/core/blocks/llm/llm_chat_block.py#265\u001b\\\u001b[2m265\u001b[0m\u001b]8;;\u001b\\\n",
       "\u001b[2;36m           \u001b[0m         \u001b[32m'hosted_vllm/meta-llama/Llama-3.3-70B-Instruct'\u001b[0m                           \u001b[2m                     \u001b[0m\n"
      ]
     },
     "metadata": {},
     "output_type": "display_data"
    },
    {
     "data": {
      "text/html": [
       "<pre style=\"white-space:pre;overflow-x:auto;line-height:normal;font-family:Menlo,'DejaVu Sans Mono',consolas,'Courier New',monospace\"><span style=\"color: #7fbfbf; text-decoration-color: #7fbfbf\">           </span><span style=\"color: #000080; text-decoration-color: #000080\">INFO    </span> Loaded LLM client for model                                                <a href=\"file:///Users/shiv/workspace/sdg_hub_add-structured-summary-nb/src/sdg_hub/core/blocks/llm/client_manager.py\" target=\"_blank\"><span style=\"color: #7f7f7f; text-decoration-color: #7f7f7f\">client_manager.py</span></a><span style=\"color: #7f7f7f; text-decoration-color: #7f7f7f\">:</span><a href=\"file:///Users/shiv/workspace/sdg_hub_add-structured-summary-nb/src/sdg_hub/core/blocks/llm/client_manager.py#61\" target=\"_blank\"><span style=\"color: #7f7f7f; text-decoration-color: #7f7f7f\">61</span></a>\n",
       "<span style=\"color: #7fbfbf; text-decoration-color: #7fbfbf\">           </span>         <span style=\"color: #008000; text-decoration-color: #008000\">'hosted_vllm/meta-llama/Llama-3.3-70B-Instruct'</span>                            <span style=\"color: #7f7f7f; text-decoration-color: #7f7f7f\">                    </span>\n",
       "</pre>\n"
      ],
      "text/plain": [
       "\u001b[2;36m          \u001b[0m\u001b[2;36m \u001b[0m\u001b[34mINFO    \u001b[0m Loaded LLM client for model                                                \u001b]8;id=484452;file:///Users/shiv/workspace/sdg_hub_add-structured-summary-nb/src/sdg_hub/core/blocks/llm/client_manager.py\u001b\\\u001b[2mclient_manager.py\u001b[0m\u001b]8;;\u001b\\\u001b[2m:\u001b[0m\u001b]8;id=26399;file:///Users/shiv/workspace/sdg_hub_add-structured-summary-nb/src/sdg_hub/core/blocks/llm/client_manager.py#61\u001b\\\u001b[2m61\u001b[0m\u001b]8;;\u001b\\\n",
       "\u001b[2;36m           \u001b[0m         \u001b[32m'hosted_vllm/meta-llama/Llama-3.3-70B-Instruct'\u001b[0m                            \u001b[2m                    \u001b[0m\n"
      ]
     },
     "metadata": {},
     "output_type": "display_data"
    },
    {
     "data": {
      "text/html": [
       "<pre style=\"white-space:pre;overflow-x:auto;line-height:normal;font-family:Menlo,'DejaVu Sans Mono',consolas,'Courier New',monospace\"><span style=\"color: #7fbfbf; text-decoration-color: #7fbfbf\">           </span><span style=\"color: #000080; text-decoration-color: #000080\">INFO    </span> Initialized LLMChatBlock <span style=\"color: #008000; text-decoration-color: #008000\">'generate_sentiment'</span> with model                  <a href=\"file:///Users/shiv/workspace/sdg_hub_add-structured-summary-nb/src/sdg_hub/core/blocks/llm/llm_chat_block.py\" target=\"_blank\"><span style=\"color: #7f7f7f; text-decoration-color: #7f7f7f\">llm_chat_block.py</span></a><span style=\"color: #7f7f7f; text-decoration-color: #7f7f7f\">:</span><a href=\"file:///Users/shiv/workspace/sdg_hub_add-structured-summary-nb/src/sdg_hub/core/blocks/llm/llm_chat_block.py#265\" target=\"_blank\"><span style=\"color: #7f7f7f; text-decoration-color: #7f7f7f\">265</span></a>\n",
       "<span style=\"color: #7fbfbf; text-decoration-color: #7fbfbf\">           </span>         <span style=\"color: #008000; text-decoration-color: #008000\">'hosted_vllm/meta-llama/Llama-3.3-70B-Instruct'</span>                           <span style=\"color: #7f7f7f; text-decoration-color: #7f7f7f\">                     </span>\n",
       "</pre>\n"
      ],
      "text/plain": [
       "\u001b[2;36m          \u001b[0m\u001b[2;36m \u001b[0m\u001b[34mINFO    \u001b[0m Initialized LLMChatBlock \u001b[32m'generate_sentiment'\u001b[0m with model                  \u001b]8;id=678441;file:///Users/shiv/workspace/sdg_hub_add-structured-summary-nb/src/sdg_hub/core/blocks/llm/llm_chat_block.py\u001b\\\u001b[2mllm_chat_block.py\u001b[0m\u001b]8;;\u001b\\\u001b[2m:\u001b[0m\u001b]8;id=40617;file:///Users/shiv/workspace/sdg_hub_add-structured-summary-nb/src/sdg_hub/core/blocks/llm/llm_chat_block.py#265\u001b\\\u001b[2m265\u001b[0m\u001b]8;;\u001b\\\n",
       "\u001b[2;36m           \u001b[0m         \u001b[32m'hosted_vllm/meta-llama/Llama-3.3-70B-Instruct'\u001b[0m                           \u001b[2m                     \u001b[0m\n"
      ]
     },
     "metadata": {},
     "output_type": "display_data"
    },
    {
     "data": {
      "text/html": [
       "<pre style=\"white-space:pre;overflow-x:auto;line-height:normal;font-family:Menlo,'DejaVu Sans Mono',consolas,'Courier New',monospace\"><span style=\"color: #7fbfbf; text-decoration-color: #7fbfbf\">           </span><span style=\"color: #000080; text-decoration-color: #000080\">INFO    </span> Successfully configured <span style=\"color: #008080; text-decoration-color: #008080; font-weight: bold\">4</span> LLM blocks with: model:                                   <a href=\"file:///Users/shiv/workspace/sdg_hub_add-structured-summary-nb/src/sdg_hub/core/flow/base.py\" target=\"_blank\"><span style=\"color: #7f7f7f; text-decoration-color: #7f7f7f\">base.py</span></a><span style=\"color: #7f7f7f; text-decoration-color: #7f7f7f\">:</span><a href=\"file:///Users/shiv/workspace/sdg_hub_add-structured-summary-nb/src/sdg_hub/core/flow/base.py#801\" target=\"_blank\"><span style=\"color: #7f7f7f; text-decoration-color: #7f7f7f\">801</span></a>\n",
       "<span style=\"color: #7fbfbf; text-decoration-color: #7fbfbf\">           </span>         <span style=\"color: #008000; text-decoration-color: #008000\">'hosted_vllm/meta-llama/Llama-3.3-70B-Instruct'</span>, api_base:                          <span style=\"color: #7f7f7f; text-decoration-color: #7f7f7f\">           </span>\n",
       "<span style=\"color: #7fbfbf; text-decoration-color: #7fbfbf\">           </span>         <span style=\"color: #008000; text-decoration-color: #008000\">'http://localhost:10000/v1'</span>, api_key: EMPTY                                         <span style=\"color: #7f7f7f; text-decoration-color: #7f7f7f\">           </span>\n",
       "</pre>\n"
      ],
      "text/plain": [
       "\u001b[2;36m          \u001b[0m\u001b[2;36m \u001b[0m\u001b[34mINFO    \u001b[0m Successfully configured \u001b[1;36m4\u001b[0m LLM blocks with: model:                                   \u001b]8;id=185601;file:///Users/shiv/workspace/sdg_hub_add-structured-summary-nb/src/sdg_hub/core/flow/base.py\u001b\\\u001b[2mbase.py\u001b[0m\u001b]8;;\u001b\\\u001b[2m:\u001b[0m\u001b]8;id=616401;file:///Users/shiv/workspace/sdg_hub_add-structured-summary-nb/src/sdg_hub/core/flow/base.py#801\u001b\\\u001b[2m801\u001b[0m\u001b]8;;\u001b\\\n",
       "\u001b[2;36m           \u001b[0m         \u001b[32m'hosted_vllm/meta-llama/Llama-3.3-70B-Instruct'\u001b[0m, api_base:                          \u001b[2m           \u001b[0m\n",
       "\u001b[2;36m           \u001b[0m         \u001b[32m'http://localhost:10000/v1'\u001b[0m, api_key: EMPTY                                         \u001b[2m           \u001b[0m\n"
      ]
     },
     "metadata": {},
     "output_type": "display_data"
    },
    {
     "data": {
      "text/html": [
       "<pre style=\"white-space:pre;overflow-x:auto;line-height:normal;font-family:Menlo,'DejaVu Sans Mono',consolas,'Courier New',monospace\"><span style=\"color: #7fbfbf; text-decoration-color: #7fbfbf\">           </span><span style=\"color: #000080; text-decoration-color: #000080\">INFO    </span> Configured blocks: <span style=\"font-weight: bold\">[</span><span style=\"color: #008000; text-decoration-color: #008000\">'generate_entities'</span>, <span style=\"color: #008000; text-decoration-color: #008000\">'generate_keywords'</span>, <span style=\"color: #008000; text-decoration-color: #008000\">'generate_sentiment'</span>, <a href=\"file:///Users/shiv/workspace/sdg_hub_add-structured-summary-nb/src/sdg_hub/core/flow/base.py\" target=\"_blank\"><span style=\"color: #7f7f7f; text-decoration-color: #7f7f7f\">base.py</span></a><span style=\"color: #7f7f7f; text-decoration-color: #7f7f7f\">:</span><a href=\"file:///Users/shiv/workspace/sdg_hub_add-structured-summary-nb/src/sdg_hub/core/flow/base.py#804\" target=\"_blank\"><span style=\"color: #7f7f7f; text-decoration-color: #7f7f7f\">804</span></a>\n",
       "<span style=\"color: #7fbfbf; text-decoration-color: #7fbfbf\">           </span>         <span style=\"color: #008000; text-decoration-color: #008000\">'generate_summary'</span><span style=\"font-weight: bold\">]</span>                                                                 <span style=\"color: #7f7f7f; text-decoration-color: #7f7f7f\">           </span>\n",
       "</pre>\n"
      ],
      "text/plain": [
       "\u001b[2;36m          \u001b[0m\u001b[2;36m \u001b[0m\u001b[34mINFO    \u001b[0m Configured blocks: \u001b[1m[\u001b[0m\u001b[32m'generate_entities'\u001b[0m, \u001b[32m'generate_keywords'\u001b[0m, \u001b[32m'generate_sentiment'\u001b[0m, \u001b]8;id=190748;file:///Users/shiv/workspace/sdg_hub_add-structured-summary-nb/src/sdg_hub/core/flow/base.py\u001b\\\u001b[2mbase.py\u001b[0m\u001b]8;;\u001b\\\u001b[2m:\u001b[0m\u001b]8;id=349857;file:///Users/shiv/workspace/sdg_hub_add-structured-summary-nb/src/sdg_hub/core/flow/base.py#804\u001b\\\u001b[2m804\u001b[0m\u001b]8;;\u001b\\\n",
       "\u001b[2;36m           \u001b[0m         \u001b[32m'generate_summary'\u001b[0m\u001b[1m]\u001b[0m                                                                 \u001b[2m           \u001b[0m\n"
      ]
     },
     "metadata": {},
     "output_type": "display_data"
    },
    {
     "name": "stdout",
     "output_type": "stream",
     "text": [
      "✅ Model configuration ready\n"
     ]
    }
   ],
   "source": [
    "# Configure the flow to use a specific model\n",
    "# Option 1: Use a local vLLM server\n",
    "flow.set_model_config(\n",
    "    model=\"hosted_vllm/meta-llama/Llama-3.3-70B-Instruct\",\n",
    "    api_base=\"http://localhost:10000/v1\",\n",
    "    api_key=\"EMPTY\",\n",
    ")\n",
    "\n",
    "# Option 2: Use OpenAI (requires API key)\n",
    "# flow.set_model_config(\n",
    "#     model=\"gpt-4o-mini\",\n",
    "#     api_key=\"your-openai-api-key\"\n",
    "# )\n",
    "\n",
    "# Option 3: Use Anthropic Claude (requires API key)\n",
    "# flow.set_model_config(\n",
    "#     model=\"anthropic/claude-3-haiku\",\n",
    "#     api_key=\"your-anthropic-api-key\"\n",
    "# )\n",
    "\n",
    "print(\"✅ Model configuration ready\")"
   ]
  },
  {
   "cell_type": "markdown",
   "metadata": {},
   "source": [
    "## 3. Dataset Loading and Exploration\n",
    "\n",
    "We'll use the **Bloomberg Financial News dataset** - 447k financial news articles from 2006-2013:"
   ]
  },
  {
   "cell_type": "code",
   "execution_count": 7,
   "metadata": {},
   "outputs": [
    {
     "name": "stdout",
     "output_type": "stream",
     "text": [
      "Loading Bloomberg Financial News dataset...\n",
      "📊 Dataset size: 446,762 articles\n",
      "📅 Columns: ['Headline', 'Journalists', 'Date', 'Link', 'Article']\n",
      "💾 Dataset features: {'Headline': Value(dtype='string', id=None), 'Journalists': Sequence(feature=Value(dtype='string', id=None), length=-1, id=None), 'Date': Value(dtype='timestamp[ns]', id=None), 'Link': Value(dtype='string', id=None), 'Article': Value(dtype='string', id=None)}\n"
     ]
    }
   ],
   "source": [
    "# Load the Bloomberg Financial News dataset\n",
    "print(\"Loading Bloomberg Financial News dataset...\")\n",
    "dataset = load_dataset(\"danidanou/Bloomberg_Financial_News\", split=\"train\")\n",
    "\n",
    "print(f\"📊 Dataset size: {len(dataset):,} articles\")\n",
    "print(f\"📅 Columns: {dataset.column_names}\")\n",
    "print(f\"💾 Dataset features: {dataset.features}\")"
   ]
  },
  {
   "cell_type": "code",
   "execution_count": 8,
   "metadata": {},
   "outputs": [
    {
     "name": "stdout",
     "output_type": "stream",
     "text": [
      "=== Sample Article ===\n",
      "Headline: Ivory Coast Keeps Cocoa Export Tax Below 22%, Document Shows\n",
      "Date: 2011-10-06 15:14:20\n",
      "Journalists: ['Baudelaire Mieu']\n",
      "Article length: 2530 characters\n",
      "Article preview: Export taxes on cocoa beans from Ivory Coast , the world’s biggest producer of the chocolate ingredient, won’t exceed 22 percent of the international price this season, meeting a commitment to the International Monetary Fund , according to a finance ministry document. In the 2008-9 season taxes aver...\n"
     ]
    }
   ],
   "source": [
    "# Explore the dataset structure\n",
    "sample = dataset[0]\n",
    "print(\"=== Sample Article ===\")\n",
    "print(f\"Headline: {sample['Headline']}\")\n",
    "print(f\"Date: {sample['Date']}\")\n",
    "print(f\"Journalists: {sample['Journalists']}\")\n",
    "print(f\"Article length: {len(sample['Article'])} characters\")\n",
    "print(f\"Article preview: {sample['Article'][:300]}...\")"
   ]
  },
  {
   "cell_type": "code",
   "execution_count": 9,
   "metadata": {},
   "outputs": [
    {
     "name": "stdout",
     "output_type": "stream",
     "text": [
      "📝 Demo dataset prepared: 50 articles\n",
      "📊 Average article length: 2397 characters\n"
     ]
    }
   ],
   "source": [
    "# Select a small sample for demonstration (start with 50 articles)\n",
    "# For production, you can process thousands of articles\n",
    "sample_size = 50\n",
    "demo_dataset = dataset.shuffle(seed=42).select(range(sample_size))\n",
    "\n",
    "# The flow expects a 'text' column, so we'll use the 'Article' column\n",
    "demo_dataset = demo_dataset.rename_column(\"Article\", \"text\")\n",
    "\n",
    "print(f\"📝 Demo dataset prepared: {len(demo_dataset)} articles\")\n",
    "print(f\"📊 Average article length: {sum(len(article['text']) for article in demo_dataset) / len(demo_dataset):.0f} characters\")"
   ]
  },
  {
   "cell_type": "markdown",
   "metadata": {},
   "source": [
    "## 4. Running the Structured Insights Flow\n",
    "\n",
    "Now let's extract structured insights from our financial news articles:"
   ]
  },
  {
   "cell_type": "code",
   "execution_count": 10,
   "metadata": {},
   "outputs": [
    {
     "name": "stdout",
     "output_type": "stream",
     "text": [
      "🚀 Running structured insights extraction...\n",
      "⏱️ This may take a few minutes depending on your model setup...\n"
     ]
    },
    {
     "data": {
      "text/html": [
       "<pre style=\"white-space:pre;overflow-x:auto;line-height:normal;font-family:Menlo,'DejaVu Sans Mono',consolas,'Courier New',monospace\"><span style=\"color: #7fbfbf; text-decoration-color: #7fbfbf\">[15:25:55] </span><span style=\"color: #000080; text-decoration-color: #000080\">INFO    </span> Starting flow <span style=\"color: #008000; text-decoration-color: #008000\">'Structured Text Insights Extraction Flow'</span> v1.<span style=\"color: #008080; text-decoration-color: #008080; font-weight: bold\">0.0</span> with <span style=\"color: #008080; text-decoration-color: #008080; font-weight: bold\">50</span> samples     <a href=\"file:///Users/shiv/workspace/sdg_hub_add-structured-summary-nb/src/sdg_hub/core/flow/base.py\" target=\"_blank\"><span style=\"color: #7f7f7f; text-decoration-color: #7f7f7f\">base.py</span></a><span style=\"color: #7f7f7f; text-decoration-color: #7f7f7f\">:</span><a href=\"file:///Users/shiv/workspace/sdg_hub_add-structured-summary-nb/src/sdg_hub/core/flow/base.py#504\" target=\"_blank\"><span style=\"color: #7f7f7f; text-decoration-color: #7f7f7f\">504</span></a>\n",
       "<span style=\"color: #7fbfbf; text-decoration-color: #7fbfbf\">           </span>         across <span style=\"color: #008080; text-decoration-color: #008080; font-weight: bold\">13</span> blocks                                                                    <span style=\"color: #7f7f7f; text-decoration-color: #7f7f7f\">           </span>\n",
       "</pre>\n"
      ],
      "text/plain": [
       "\u001b[2;36m[15:25:55]\u001b[0m\u001b[2;36m \u001b[0m\u001b[34mINFO    \u001b[0m Starting flow \u001b[32m'Structured Text Insights Extraction Flow'\u001b[0m v1.\u001b[1;36m0.0\u001b[0m with \u001b[1;36m50\u001b[0m samples     \u001b]8;id=96314;file:///Users/shiv/workspace/sdg_hub_add-structured-summary-nb/src/sdg_hub/core/flow/base.py\u001b\\\u001b[2mbase.py\u001b[0m\u001b]8;;\u001b\\\u001b[2m:\u001b[0m\u001b]8;id=525057;file:///Users/shiv/workspace/sdg_hub_add-structured-summary-nb/src/sdg_hub/core/flow/base.py#504\u001b\\\u001b[2m504\u001b[0m\u001b]8;;\u001b\\\n",
       "\u001b[2;36m           \u001b[0m         across \u001b[1;36m13\u001b[0m blocks                                                                    \u001b[2m           \u001b[0m\n"
      ]
     },
     "metadata": {},
     "output_type": "display_data"
    },
    {
     "data": {
      "text/html": [
       "<pre style=\"white-space:pre;overflow-x:auto;line-height:normal;font-family:Menlo,'DejaVu Sans Mono',consolas,'Courier New',monospace\"><span style=\"color: #7fbfbf; text-decoration-color: #7fbfbf\">           </span><span style=\"color: #000080; text-decoration-color: #000080\">INFO    </span> Executing block <span style=\"color: #008080; text-decoration-color: #008080; font-weight: bold\">1</span>/<span style=\"color: #008080; text-decoration-color: #008080; font-weight: bold\">13</span>: build_summary_prompt <span style=\"font-weight: bold\">(</span>PromptBuilderBlock<span style=\"font-weight: bold\">)</span>                     <a href=\"file:///Users/shiv/workspace/sdg_hub_add-structured-summary-nb/src/sdg_hub/core/flow/base.py\" target=\"_blank\"><span style=\"color: #7f7f7f; text-decoration-color: #7f7f7f\">base.py</span></a><span style=\"color: #7f7f7f; text-decoration-color: #7f7f7f\">:</span><a href=\"file:///Users/shiv/workspace/sdg_hub_add-structured-summary-nb/src/sdg_hub/core/flow/base.py#610\" target=\"_blank\"><span style=\"color: #7f7f7f; text-decoration-color: #7f7f7f\">610</span></a>\n",
       "</pre>\n"
      ],
      "text/plain": [
       "\u001b[2;36m          \u001b[0m\u001b[2;36m \u001b[0m\u001b[34mINFO    \u001b[0m Executing block \u001b[1;36m1\u001b[0m/\u001b[1;36m13\u001b[0m: build_summary_prompt \u001b[1m(\u001b[0mPromptBuilderBlock\u001b[1m)\u001b[0m                     \u001b]8;id=151505;file:///Users/shiv/workspace/sdg_hub_add-structured-summary-nb/src/sdg_hub/core/flow/base.py\u001b\\\u001b[2mbase.py\u001b[0m\u001b]8;;\u001b\\\u001b[2m:\u001b[0m\u001b]8;id=218049;file:///Users/shiv/workspace/sdg_hub_add-structured-summary-nb/src/sdg_hub/core/flow/base.py#610\u001b\\\u001b[2m610\u001b[0m\u001b]8;;\u001b\\\n"
      ]
     },
     "metadata": {},
     "output_type": "display_data"
    },
    {
     "data": {
      "text/html": [
       "<pre style=\"white-space:pre;overflow-x:auto;line-height:normal;font-family:Menlo,'DejaVu Sans Mono',consolas,'Courier New',monospace\"><span style=\"color: #000080; text-decoration-color: #000080\">╭───────────────────────────────────────────── </span><span style=\"color: #000080; text-decoration-color: #000080; font-weight: bold\">build_summary_prompt</span><span style=\"color: #000080; text-decoration-color: #000080\"> ──────────────────────────────────────────────╮</span>\n",
       "<span style=\"color: #000080; text-decoration-color: #000080\">│</span> <span style=\"color: #000080; text-decoration-color: #000080; font-weight: bold\">📊 Processing Input Data</span>                                                                                        <span style=\"color: #000080; text-decoration-color: #000080\">│</span>\n",
       "<span style=\"color: #000080; text-decoration-color: #000080\">│</span> <span style=\"color: #008080; text-decoration-color: #008080\">Block Type: PromptBuilderBlock</span>                                                                                  <span style=\"color: #000080; text-decoration-color: #000080\">│</span>\n",
       "<span style=\"color: #000080; text-decoration-color: #000080\">│</span> <span style=\"color: #008080; text-decoration-color: #008080; font-weight: bold\">Input Rows: 50</span>                                                                                                  <span style=\"color: #000080; text-decoration-color: #000080\">│</span>\n",
       "<span style=\"color: #000080; text-decoration-color: #000080\">│</span> <span style=\"color: #008080; text-decoration-color: #008080\">Input Columns: 5</span>                                                                                                <span style=\"color: #000080; text-decoration-color: #000080\">│</span>\n",
       "<span style=\"color: #000080; text-decoration-color: #000080\">│</span> <span style=\"color: #c0c0c0; text-decoration-color: #c0c0c0\">Column Names: Headline, Journalists, Date, Link, text</span>                                                           <span style=\"color: #000080; text-decoration-color: #000080\">│</span>\n",
       "<span style=\"color: #000080; text-decoration-color: #000080\">│</span> <span style=\"color: #008000; text-decoration-color: #008000\">Expected Output Columns: summary_prompt</span>                                                                         <span style=\"color: #000080; text-decoration-color: #000080\">│</span>\n",
       "<span style=\"color: #000080; text-decoration-color: #000080\">╰─────────────────────────────────────────────────────────────────────────────────────────────────────────────────╯</span>\n",
       "</pre>\n"
      ],
      "text/plain": [
       "\u001b[34m╭─\u001b[0m\u001b[34m────────────────────────────────────────────\u001b[0m\u001b[34m \u001b[0m\u001b[1;34mbuild_summary_prompt\u001b[0m\u001b[34m \u001b[0m\u001b[34m─────────────────────────────────────────────\u001b[0m\u001b[34m─╮\u001b[0m\n",
       "\u001b[34m│\u001b[0m \u001b[1;34m📊 Processing Input Data\u001b[0m                                                                                        \u001b[34m│\u001b[0m\n",
       "\u001b[34m│\u001b[0m \u001b[36mBlock Type: PromptBuilderBlock\u001b[0m                                                                                  \u001b[34m│\u001b[0m\n",
       "\u001b[34m│\u001b[0m \u001b[1;36mInput Rows: 50\u001b[0m                                                                                                  \u001b[34m│\u001b[0m\n",
       "\u001b[34m│\u001b[0m \u001b[36mInput Columns: 5\u001b[0m                                                                                                \u001b[34m│\u001b[0m\n",
       "\u001b[34m│\u001b[0m \u001b[37mColumn Names: Headline, Journalists, Date, Link, text\u001b[0m                                                           \u001b[34m│\u001b[0m\n",
       "\u001b[34m│\u001b[0m \u001b[32mExpected Output Columns: summary_prompt\u001b[0m                                                                         \u001b[34m│\u001b[0m\n",
       "\u001b[34m╰─────────────────────────────────────────────────────────────────────────────────────────────────────────────────╯\u001b[0m\n"
      ]
     },
     "metadata": {},
     "output_type": "display_data"
    },
    {
     "data": {
      "text/html": [
       "<pre style=\"white-space:pre;overflow-x:auto;line-height:normal;font-family:Menlo,'DejaVu Sans Mono',consolas,'Courier New',monospace\"><span style=\"color: #008000; text-decoration-color: #008000\">╭──────────────────────────────────────── </span><span style=\"color: #008000; text-decoration-color: #008000; font-weight: bold\">build_summary_prompt - Complete</span><span style=\"color: #008000; text-decoration-color: #008000\"> ────────────────────────────────────────╮</span>\n",
       "<span style=\"color: #008000; text-decoration-color: #008000\">│</span> <span style=\"color: #008000; text-decoration-color: #008000; font-weight: bold\">✅ Processing Complete</span>                                                                                          <span style=\"color: #008000; text-decoration-color: #008000\">│</span>\n",
       "<span style=\"color: #008000; text-decoration-color: #008000\">│</span> <span style=\"color: #008080; text-decoration-color: #008080\">Rows: 50 → 50</span>                                                                                                   <span style=\"color: #008000; text-decoration-color: #008000\">│</span>\n",
       "<span style=\"color: #008000; text-decoration-color: #008000\">│</span> <span style=\"color: #008080; text-decoration-color: #008080\">Columns: 5 → 6</span>                                                                                                  <span style=\"color: #008000; text-decoration-color: #008000\">│</span>\n",
       "<span style=\"color: #008000; text-decoration-color: #008000\">│</span> <span style=\"color: #008000; text-decoration-color: #008000\">🟢 Added: summary_prompt</span>                                                                                        <span style=\"color: #008000; text-decoration-color: #008000\">│</span>\n",
       "<span style=\"color: #008000; text-decoration-color: #008000\">│</span> <span style=\"color: #c0c0c0; text-decoration-color: #c0c0c0\">📋 Final Columns: Date, Headline, Journalists, Link, summary_prompt, text</span>                                       <span style=\"color: #008000; text-decoration-color: #008000\">│</span>\n",
       "<span style=\"color: #008000; text-decoration-color: #008000\">╰─────────────────────────────────────────────────────────────────────────────────────────────────────────────────╯</span>\n",
       "</pre>\n"
      ],
      "text/plain": [
       "\u001b[32m╭─\u001b[0m\u001b[32m───────────────────────────────────────\u001b[0m\u001b[32m \u001b[0m\u001b[1;32mbuild_summary_prompt - Complete\u001b[0m\u001b[32m \u001b[0m\u001b[32m───────────────────────────────────────\u001b[0m\u001b[32m─╮\u001b[0m\n",
       "\u001b[32m│\u001b[0m \u001b[1;32m✅ Processing Complete\u001b[0m                                                                                          \u001b[32m│\u001b[0m\n",
       "\u001b[32m│\u001b[0m \u001b[36mRows: 50 → 50\u001b[0m                                                                                                   \u001b[32m│\u001b[0m\n",
       "\u001b[32m│\u001b[0m \u001b[36mColumns: 5 → 6\u001b[0m                                                                                                  \u001b[32m│\u001b[0m\n",
       "\u001b[32m│\u001b[0m \u001b[32m🟢 Added: summary_prompt\u001b[0m                                                                                        \u001b[32m│\u001b[0m\n",
       "\u001b[32m│\u001b[0m \u001b[37m📋 Final Columns: Date, Headline, Journalists, Link, summary_prompt, text\u001b[0m                                       \u001b[32m│\u001b[0m\n",
       "\u001b[32m╰─────────────────────────────────────────────────────────────────────────────────────────────────────────────────╯\u001b[0m\n"
      ]
     },
     "metadata": {},
     "output_type": "display_data"
    },
    {
     "data": {
      "text/html": [
       "<pre style=\"white-space:pre;overflow-x:auto;line-height:normal;font-family:Menlo,'DejaVu Sans Mono',consolas,'Courier New',monospace\"><span style=\"color: #7fbfbf; text-decoration-color: #7fbfbf\">           </span><span style=\"color: #000080; text-decoration-color: #000080\">INFO    </span> Block <span style=\"color: #008000; text-decoration-color: #008000\">'build_summary_prompt'</span> completed successfully: <span style=\"color: #008080; text-decoration-color: #008080; font-weight: bold\">50</span> samples, <span style=\"color: #008080; text-decoration-color: #008080; font-weight: bold\">6</span> columns          <a href=\"file:///Users/shiv/workspace/sdg_hub_add-structured-summary-nb/src/sdg_hub/core/flow/base.py\" target=\"_blank\"><span style=\"color: #7f7f7f; text-decoration-color: #7f7f7f\">base.py</span></a><span style=\"color: #7f7f7f; text-decoration-color: #7f7f7f\">:</span><a href=\"file:///Users/shiv/workspace/sdg_hub_add-structured-summary-nb/src/sdg_hub/core/flow/base.py#646\" target=\"_blank\"><span style=\"color: #7f7f7f; text-decoration-color: #7f7f7f\">646</span></a>\n",
       "</pre>\n"
      ],
      "text/plain": [
       "\u001b[2;36m          \u001b[0m\u001b[2;36m \u001b[0m\u001b[34mINFO    \u001b[0m Block \u001b[32m'build_summary_prompt'\u001b[0m completed successfully: \u001b[1;36m50\u001b[0m samples, \u001b[1;36m6\u001b[0m columns          \u001b]8;id=58811;file:///Users/shiv/workspace/sdg_hub_add-structured-summary-nb/src/sdg_hub/core/flow/base.py\u001b\\\u001b[2mbase.py\u001b[0m\u001b]8;;\u001b\\\u001b[2m:\u001b[0m\u001b]8;id=520903;file:///Users/shiv/workspace/sdg_hub_add-structured-summary-nb/src/sdg_hub/core/flow/base.py#646\u001b\\\u001b[2m646\u001b[0m\u001b]8;;\u001b\\\n"
      ]
     },
     "metadata": {},
     "output_type": "display_data"
    },
    {
     "data": {
      "text/html": [
       "<pre style=\"white-space:pre;overflow-x:auto;line-height:normal;font-family:Menlo,'DejaVu Sans Mono',consolas,'Courier New',monospace\"><span style=\"color: #7fbfbf; text-decoration-color: #7fbfbf\">           </span><span style=\"color: #000080; text-decoration-color: #000080\">INFO    </span> Executing block <span style=\"color: #008080; text-decoration-color: #008080; font-weight: bold\">2</span>/<span style=\"color: #008080; text-decoration-color: #008080; font-weight: bold\">13</span>: generate_summary <span style=\"font-weight: bold\">(</span>LLMChatBlock<span style=\"font-weight: bold\">)</span>                               <a href=\"file:///Users/shiv/workspace/sdg_hub_add-structured-summary-nb/src/sdg_hub/core/flow/base.py\" target=\"_blank\"><span style=\"color: #7f7f7f; text-decoration-color: #7f7f7f\">base.py</span></a><span style=\"color: #7f7f7f; text-decoration-color: #7f7f7f\">:</span><a href=\"file:///Users/shiv/workspace/sdg_hub_add-structured-summary-nb/src/sdg_hub/core/flow/base.py#610\" target=\"_blank\"><span style=\"color: #7f7f7f; text-decoration-color: #7f7f7f\">610</span></a>\n",
       "</pre>\n"
      ],
      "text/plain": [
       "\u001b[2;36m          \u001b[0m\u001b[2;36m \u001b[0m\u001b[34mINFO    \u001b[0m Executing block \u001b[1;36m2\u001b[0m/\u001b[1;36m13\u001b[0m: generate_summary \u001b[1m(\u001b[0mLLMChatBlock\u001b[1m)\u001b[0m                               \u001b]8;id=245094;file:///Users/shiv/workspace/sdg_hub_add-structured-summary-nb/src/sdg_hub/core/flow/base.py\u001b\\\u001b[2mbase.py\u001b[0m\u001b]8;;\u001b\\\u001b[2m:\u001b[0m\u001b]8;id=8835;file:///Users/shiv/workspace/sdg_hub_add-structured-summary-nb/src/sdg_hub/core/flow/base.py#610\u001b\\\u001b[2m610\u001b[0m\u001b]8;;\u001b\\\n"
      ]
     },
     "metadata": {},
     "output_type": "display_data"
    },
    {
     "data": {
      "text/html": [
       "<pre style=\"white-space:pre;overflow-x:auto;line-height:normal;font-family:Menlo,'DejaVu Sans Mono',consolas,'Courier New',monospace\"><span style=\"color: #000080; text-decoration-color: #000080\">╭─────────────────────────────────────────────── </span><span style=\"color: #000080; text-decoration-color: #000080; font-weight: bold\">generate_summary</span><span style=\"color: #000080; text-decoration-color: #000080\"> ────────────────────────────────────────────────╮</span>\n",
       "<span style=\"color: #000080; text-decoration-color: #000080\">│</span> <span style=\"color: #000080; text-decoration-color: #000080; font-weight: bold\">📊 Processing Input Data</span>                                                                                        <span style=\"color: #000080; text-decoration-color: #000080\">│</span>\n",
       "<span style=\"color: #000080; text-decoration-color: #000080\">│</span> <span style=\"color: #008080; text-decoration-color: #008080\">Block Type: LLMChatBlock</span>                                                                                        <span style=\"color: #000080; text-decoration-color: #000080\">│</span>\n",
       "<span style=\"color: #000080; text-decoration-color: #000080\">│</span> <span style=\"color: #008080; text-decoration-color: #008080; font-weight: bold\">Input Rows: 50</span>                                                                                                  <span style=\"color: #000080; text-decoration-color: #000080\">│</span>\n",
       "<span style=\"color: #000080; text-decoration-color: #000080\">│</span> <span style=\"color: #008080; text-decoration-color: #008080\">Input Columns: 6</span>                                                                                                <span style=\"color: #000080; text-decoration-color: #000080\">│</span>\n",
       "<span style=\"color: #000080; text-decoration-color: #000080\">│</span> <span style=\"color: #c0c0c0; text-decoration-color: #c0c0c0\">Column Names: Headline, Journalists, Date, Link, text, summary_prompt</span>                                           <span style=\"color: #000080; text-decoration-color: #000080\">│</span>\n",
       "<span style=\"color: #000080; text-decoration-color: #000080\">│</span> <span style=\"color: #008000; text-decoration-color: #008000\">Expected Output Columns: raw_summary</span>                                                                            <span style=\"color: #000080; text-decoration-color: #000080\">│</span>\n",
       "<span style=\"color: #000080; text-decoration-color: #000080\">╰─────────────────────────────────────────────────────────────────────────────────────────────────────────────────╯</span>\n",
       "</pre>\n"
      ],
      "text/plain": [
       "\u001b[34m╭─\u001b[0m\u001b[34m──────────────────────────────────────────────\u001b[0m\u001b[34m \u001b[0m\u001b[1;34mgenerate_summary\u001b[0m\u001b[34m \u001b[0m\u001b[34m───────────────────────────────────────────────\u001b[0m\u001b[34m─╮\u001b[0m\n",
       "\u001b[34m│\u001b[0m \u001b[1;34m📊 Processing Input Data\u001b[0m                                                                                        \u001b[34m│\u001b[0m\n",
       "\u001b[34m│\u001b[0m \u001b[36mBlock Type: LLMChatBlock\u001b[0m                                                                                        \u001b[34m│\u001b[0m\n",
       "\u001b[34m│\u001b[0m \u001b[1;36mInput Rows: 50\u001b[0m                                                                                                  \u001b[34m│\u001b[0m\n",
       "\u001b[34m│\u001b[0m \u001b[36mInput Columns: 6\u001b[0m                                                                                                \u001b[34m│\u001b[0m\n",
       "\u001b[34m│\u001b[0m \u001b[37mColumn Names: Headline, Journalists, Date, Link, text, summary_prompt\u001b[0m                                           \u001b[34m│\u001b[0m\n",
       "\u001b[34m│\u001b[0m \u001b[32mExpected Output Columns: raw_summary\u001b[0m                                                                            \u001b[34m│\u001b[0m\n",
       "\u001b[34m╰─────────────────────────────────────────────────────────────────────────────────────────────────────────────────╯\u001b[0m\n"
      ]
     },
     "metadata": {},
     "output_type": "display_data"
    },
    {
     "data": {
      "text/html": [
       "<pre style=\"white-space:pre;overflow-x:auto;line-height:normal;font-family:Menlo,'DejaVu Sans Mono',consolas,'Courier New',monospace\"><span style=\"color: #7fbfbf; text-decoration-color: #7fbfbf\">[15:25:55] </span><span style=\"color: #000080; text-decoration-color: #000080\">INFO    </span> Starting async generation for <span style=\"color: #008080; text-decoration-color: #008080; font-weight: bold\">50</span> samples                                  <a href=\"file:///Users/shiv/workspace/sdg_hub_add-structured-summary-nb/src/sdg_hub/core/blocks/llm/llm_chat_block.py\" target=\"_blank\"><span style=\"color: #7f7f7f; text-decoration-color: #7f7f7f\">llm_chat_block.py</span></a><span style=\"color: #7f7f7f; text-decoration-color: #7f7f7f\">:</span><a href=\"file:///Users/shiv/workspace/sdg_hub_add-structured-summary-nb/src/sdg_hub/core/blocks/llm/llm_chat_block.py#329\" target=\"_blank\"><span style=\"color: #7f7f7f; text-decoration-color: #7f7f7f\">329</span></a>\n",
       "</pre>\n"
      ],
      "text/plain": [
       "\u001b[2;36m[15:25:55]\u001b[0m\u001b[2;36m \u001b[0m\u001b[34mINFO    \u001b[0m Starting async generation for \u001b[1;36m50\u001b[0m samples                                  \u001b]8;id=866655;file:///Users/shiv/workspace/sdg_hub_add-structured-summary-nb/src/sdg_hub/core/blocks/llm/llm_chat_block.py\u001b\\\u001b[2mllm_chat_block.py\u001b[0m\u001b]8;;\u001b\\\u001b[2m:\u001b[0m\u001b]8;id=641362;file:///Users/shiv/workspace/sdg_hub_add-structured-summary-nb/src/sdg_hub/core/blocks/llm/llm_chat_block.py#329\u001b\\\u001b[2m329\u001b[0m\u001b]8;;\u001b\\\n"
      ]
     },
     "metadata": {},
     "output_type": "display_data"
    },
    {
     "data": {
      "text/html": [
       "<pre style=\"white-space:pre;overflow-x:auto;line-height:normal;font-family:Menlo,'DejaVu Sans Mono',consolas,'Courier New',monospace\"><span style=\"color: #7fbfbf; text-decoration-color: #7fbfbf\">[15:25:58] </span><span style=\"color: #000080; text-decoration-color: #000080\">INFO    </span> Generation completed successfully for <span style=\"color: #008080; text-decoration-color: #008080; font-weight: bold\">50</span> samples                          <a href=\"file:///Users/shiv/workspace/sdg_hub_add-structured-summary-nb/src/sdg_hub/core/blocks/llm/llm_chat_block.py\" target=\"_blank\"><span style=\"color: #7f7f7f; text-decoration-color: #7f7f7f\">llm_chat_block.py</span></a><span style=\"color: #7f7f7f; text-decoration-color: #7f7f7f\">:</span><a href=\"file:///Users/shiv/workspace/sdg_hub_add-structured-summary-nb/src/sdg_hub/core/blocks/llm/llm_chat_block.py#393\" target=\"_blank\"><span style=\"color: #7f7f7f; text-decoration-color: #7f7f7f\">393</span></a>\n",
       "</pre>\n"
      ],
      "text/plain": [
       "\u001b[2;36m[15:25:58]\u001b[0m\u001b[2;36m \u001b[0m\u001b[34mINFO    \u001b[0m Generation completed successfully for \u001b[1;36m50\u001b[0m samples                          \u001b]8;id=236316;file:///Users/shiv/workspace/sdg_hub_add-structured-summary-nb/src/sdg_hub/core/blocks/llm/llm_chat_block.py\u001b\\\u001b[2mllm_chat_block.py\u001b[0m\u001b]8;;\u001b\\\u001b[2m:\u001b[0m\u001b]8;id=689155;file:///Users/shiv/workspace/sdg_hub_add-structured-summary-nb/src/sdg_hub/core/blocks/llm/llm_chat_block.py#393\u001b\\\u001b[2m393\u001b[0m\u001b]8;;\u001b\\\n"
      ]
     },
     "metadata": {},
     "output_type": "display_data"
    },
    {
     "data": {
      "text/html": [
       "<pre style=\"white-space:pre;overflow-x:auto;line-height:normal;font-family:Menlo,'DejaVu Sans Mono',consolas,'Courier New',monospace\"><span style=\"color: #008000; text-decoration-color: #008000\">╭────────────────────────────────────────── </span><span style=\"color: #008000; text-decoration-color: #008000; font-weight: bold\">generate_summary - Complete</span><span style=\"color: #008000; text-decoration-color: #008000\"> ──────────────────────────────────────────╮</span>\n",
       "<span style=\"color: #008000; text-decoration-color: #008000\">│</span> <span style=\"color: #008000; text-decoration-color: #008000; font-weight: bold\">✅ Processing Complete</span>                                                                                          <span style=\"color: #008000; text-decoration-color: #008000\">│</span>\n",
       "<span style=\"color: #008000; text-decoration-color: #008000\">│</span> <span style=\"color: #008080; text-decoration-color: #008080\">Rows: 50 → 50</span>                                                                                                   <span style=\"color: #008000; text-decoration-color: #008000\">│</span>\n",
       "<span style=\"color: #008000; text-decoration-color: #008000\">│</span> <span style=\"color: #008080; text-decoration-color: #008080\">Columns: 6 → 7</span>                                                                                                  <span style=\"color: #008000; text-decoration-color: #008000\">│</span>\n",
       "<span style=\"color: #008000; text-decoration-color: #008000\">│</span> <span style=\"color: #008000; text-decoration-color: #008000\">🟢 Added: raw_summary</span>                                                                                           <span style=\"color: #008000; text-decoration-color: #008000\">│</span>\n",
       "<span style=\"color: #008000; text-decoration-color: #008000\">│</span> <span style=\"color: #c0c0c0; text-decoration-color: #c0c0c0\">📋 Final Columns: Date, Headline, Journalists, Link, raw_summary, summary_prompt, text</span>                          <span style=\"color: #008000; text-decoration-color: #008000\">│</span>\n",
       "<span style=\"color: #008000; text-decoration-color: #008000\">╰─────────────────────────────────────────────────────────────────────────────────────────────────────────────────╯</span>\n",
       "</pre>\n"
      ],
      "text/plain": [
       "\u001b[32m╭─\u001b[0m\u001b[32m─────────────────────────────────────────\u001b[0m\u001b[32m \u001b[0m\u001b[1;32mgenerate_summary - Complete\u001b[0m\u001b[32m \u001b[0m\u001b[32m─────────────────────────────────────────\u001b[0m\u001b[32m─╮\u001b[0m\n",
       "\u001b[32m│\u001b[0m \u001b[1;32m✅ Processing Complete\u001b[0m                                                                                          \u001b[32m│\u001b[0m\n",
       "\u001b[32m│\u001b[0m \u001b[36mRows: 50 → 50\u001b[0m                                                                                                   \u001b[32m│\u001b[0m\n",
       "\u001b[32m│\u001b[0m \u001b[36mColumns: 6 → 7\u001b[0m                                                                                                  \u001b[32m│\u001b[0m\n",
       "\u001b[32m│\u001b[0m \u001b[32m🟢 Added: raw_summary\u001b[0m                                                                                           \u001b[32m│\u001b[0m\n",
       "\u001b[32m│\u001b[0m \u001b[37m📋 Final Columns: Date, Headline, Journalists, Link, raw_summary, summary_prompt, text\u001b[0m                          \u001b[32m│\u001b[0m\n",
       "\u001b[32m╰─────────────────────────────────────────────────────────────────────────────────────────────────────────────────╯\u001b[0m\n"
      ]
     },
     "metadata": {},
     "output_type": "display_data"
    },
    {
     "data": {
      "text/html": [
       "<pre style=\"white-space:pre;overflow-x:auto;line-height:normal;font-family:Menlo,'DejaVu Sans Mono',consolas,'Courier New',monospace\"><span style=\"color: #7fbfbf; text-decoration-color: #7fbfbf\">[15:25:58] </span><span style=\"color: #000080; text-decoration-color: #000080\">INFO    </span> Block <span style=\"color: #008000; text-decoration-color: #008000\">'generate_summary'</span> completed successfully: <span style=\"color: #008080; text-decoration-color: #008080; font-weight: bold\">50</span> samples, <span style=\"color: #008080; text-decoration-color: #008080; font-weight: bold\">7</span> columns              <a href=\"file:///Users/shiv/workspace/sdg_hub_add-structured-summary-nb/src/sdg_hub/core/flow/base.py\" target=\"_blank\"><span style=\"color: #7f7f7f; text-decoration-color: #7f7f7f\">base.py</span></a><span style=\"color: #7f7f7f; text-decoration-color: #7f7f7f\">:</span><a href=\"file:///Users/shiv/workspace/sdg_hub_add-structured-summary-nb/src/sdg_hub/core/flow/base.py#646\" target=\"_blank\"><span style=\"color: #7f7f7f; text-decoration-color: #7f7f7f\">646</span></a>\n",
       "</pre>\n"
      ],
      "text/plain": [
       "\u001b[2;36m[15:25:58]\u001b[0m\u001b[2;36m \u001b[0m\u001b[34mINFO    \u001b[0m Block \u001b[32m'generate_summary'\u001b[0m completed successfully: \u001b[1;36m50\u001b[0m samples, \u001b[1;36m7\u001b[0m columns              \u001b]8;id=945125;file:///Users/shiv/workspace/sdg_hub_add-structured-summary-nb/src/sdg_hub/core/flow/base.py\u001b\\\u001b[2mbase.py\u001b[0m\u001b]8;;\u001b\\\u001b[2m:\u001b[0m\u001b]8;id=77725;file:///Users/shiv/workspace/sdg_hub_add-structured-summary-nb/src/sdg_hub/core/flow/base.py#646\u001b\\\u001b[2m646\u001b[0m\u001b]8;;\u001b\\\n"
      ]
     },
     "metadata": {},
     "output_type": "display_data"
    },
    {
     "data": {
      "text/html": [
       "<pre style=\"white-space:pre;overflow-x:auto;line-height:normal;font-family:Menlo,'DejaVu Sans Mono',consolas,'Courier New',monospace\"><span style=\"color: #7fbfbf; text-decoration-color: #7fbfbf\">           </span><span style=\"color: #000080; text-decoration-color: #000080\">INFO    </span> Executing block <span style=\"color: #008080; text-decoration-color: #008080; font-weight: bold\">3</span>/<span style=\"color: #008080; text-decoration-color: #008080; font-weight: bold\">13</span>: parse_summary <span style=\"font-weight: bold\">(</span>TextParserBlock<span style=\"font-weight: bold\">)</span>                               <a href=\"file:///Users/shiv/workspace/sdg_hub_add-structured-summary-nb/src/sdg_hub/core/flow/base.py\" target=\"_blank\"><span style=\"color: #7f7f7f; text-decoration-color: #7f7f7f\">base.py</span></a><span style=\"color: #7f7f7f; text-decoration-color: #7f7f7f\">:</span><a href=\"file:///Users/shiv/workspace/sdg_hub_add-structured-summary-nb/src/sdg_hub/core/flow/base.py#610\" target=\"_blank\"><span style=\"color: #7f7f7f; text-decoration-color: #7f7f7f\">610</span></a>\n",
       "</pre>\n"
      ],
      "text/plain": [
       "\u001b[2;36m          \u001b[0m\u001b[2;36m \u001b[0m\u001b[34mINFO    \u001b[0m Executing block \u001b[1;36m3\u001b[0m/\u001b[1;36m13\u001b[0m: parse_summary \u001b[1m(\u001b[0mTextParserBlock\u001b[1m)\u001b[0m                               \u001b]8;id=883000;file:///Users/shiv/workspace/sdg_hub_add-structured-summary-nb/src/sdg_hub/core/flow/base.py\u001b\\\u001b[2mbase.py\u001b[0m\u001b]8;;\u001b\\\u001b[2m:\u001b[0m\u001b]8;id=135283;file:///Users/shiv/workspace/sdg_hub_add-structured-summary-nb/src/sdg_hub/core/flow/base.py#610\u001b\\\u001b[2m610\u001b[0m\u001b]8;;\u001b\\\n"
      ]
     },
     "metadata": {},
     "output_type": "display_data"
    },
    {
     "data": {
      "text/html": [
       "<pre style=\"white-space:pre;overflow-x:auto;line-height:normal;font-family:Menlo,'DejaVu Sans Mono',consolas,'Courier New',monospace\"><span style=\"color: #000080; text-decoration-color: #000080\">╭───────────────────────────────────────────────── </span><span style=\"color: #000080; text-decoration-color: #000080; font-weight: bold\">parse_summary</span><span style=\"color: #000080; text-decoration-color: #000080\"> ─────────────────────────────────────────────────╮</span>\n",
       "<span style=\"color: #000080; text-decoration-color: #000080\">│</span> <span style=\"color: #000080; text-decoration-color: #000080; font-weight: bold\">📊 Processing Input Data</span>                                                                                        <span style=\"color: #000080; text-decoration-color: #000080\">│</span>\n",
       "<span style=\"color: #000080; text-decoration-color: #000080\">│</span> <span style=\"color: #008080; text-decoration-color: #008080\">Block Type: TextParserBlock</span>                                                                                     <span style=\"color: #000080; text-decoration-color: #000080\">│</span>\n",
       "<span style=\"color: #000080; text-decoration-color: #000080\">│</span> <span style=\"color: #008080; text-decoration-color: #008080; font-weight: bold\">Input Rows: 50</span>                                                                                                  <span style=\"color: #000080; text-decoration-color: #000080\">│</span>\n",
       "<span style=\"color: #000080; text-decoration-color: #000080\">│</span> <span style=\"color: #008080; text-decoration-color: #008080\">Input Columns: 7</span>                                                                                                <span style=\"color: #000080; text-decoration-color: #000080\">│</span>\n",
       "<span style=\"color: #000080; text-decoration-color: #000080\">│</span> <span style=\"color: #c0c0c0; text-decoration-color: #c0c0c0\">Column Names: Headline, Journalists, Date, Link, text, summary_prompt, raw_summary</span>                              <span style=\"color: #000080; text-decoration-color: #000080\">│</span>\n",
       "<span style=\"color: #000080; text-decoration-color: #000080\">│</span> <span style=\"color: #008000; text-decoration-color: #008000\">Expected Output Columns: summary</span>                                                                                <span style=\"color: #000080; text-decoration-color: #000080\">│</span>\n",
       "<span style=\"color: #000080; text-decoration-color: #000080\">╰─────────────────────────────────────────────────────────────────────────────────────────────────────────────────╯</span>\n",
       "</pre>\n"
      ],
      "text/plain": [
       "\u001b[34m╭─\u001b[0m\u001b[34m────────────────────────────────────────────────\u001b[0m\u001b[34m \u001b[0m\u001b[1;34mparse_summary\u001b[0m\u001b[34m \u001b[0m\u001b[34m────────────────────────────────────────────────\u001b[0m\u001b[34m─╮\u001b[0m\n",
       "\u001b[34m│\u001b[0m \u001b[1;34m📊 Processing Input Data\u001b[0m                                                                                        \u001b[34m│\u001b[0m\n",
       "\u001b[34m│\u001b[0m \u001b[36mBlock Type: TextParserBlock\u001b[0m                                                                                     \u001b[34m│\u001b[0m\n",
       "\u001b[34m│\u001b[0m \u001b[1;36mInput Rows: 50\u001b[0m                                                                                                  \u001b[34m│\u001b[0m\n",
       "\u001b[34m│\u001b[0m \u001b[36mInput Columns: 7\u001b[0m                                                                                                \u001b[34m│\u001b[0m\n",
       "\u001b[34m│\u001b[0m \u001b[37mColumn Names: Headline, Journalists, Date, Link, text, summary_prompt, raw_summary\u001b[0m                              \u001b[34m│\u001b[0m\n",
       "\u001b[34m│\u001b[0m \u001b[32mExpected Output Columns: summary\u001b[0m                                                                                \u001b[34m│\u001b[0m\n",
       "\u001b[34m╰─────────────────────────────────────────────────────────────────────────────────────────────────────────────────╯\u001b[0m\n"
      ]
     },
     "metadata": {},
     "output_type": "display_data"
    },
    {
     "data": {
      "text/html": [
       "<pre style=\"white-space:pre;overflow-x:auto;line-height:normal;font-family:Menlo,'DejaVu Sans Mono',consolas,'Courier New',monospace\"><span style=\"color: #008000; text-decoration-color: #008000\">╭─────────────────────────────────────────── </span><span style=\"color: #008000; text-decoration-color: #008000; font-weight: bold\">parse_summary - Complete</span><span style=\"color: #008000; text-decoration-color: #008000\"> ────────────────────────────────────────────╮</span>\n",
       "<span style=\"color: #008000; text-decoration-color: #008000\">│</span> <span style=\"color: #008000; text-decoration-color: #008000; font-weight: bold\">✅ Processing Complete</span>                                                                                          <span style=\"color: #008000; text-decoration-color: #008000\">│</span>\n",
       "<span style=\"color: #008000; text-decoration-color: #008000\">│</span> <span style=\"color: #008080; text-decoration-color: #008080\">Rows: 50 → 50</span>                                                                                                   <span style=\"color: #008000; text-decoration-color: #008000\">│</span>\n",
       "<span style=\"color: #008000; text-decoration-color: #008000\">│</span> <span style=\"color: #008080; text-decoration-color: #008080\">Columns: 7 → 8</span>                                                                                                  <span style=\"color: #008000; text-decoration-color: #008000\">│</span>\n",
       "<span style=\"color: #008000; text-decoration-color: #008000\">│</span> <span style=\"color: #008000; text-decoration-color: #008000\">🟢 Added: summary</span>                                                                                               <span style=\"color: #008000; text-decoration-color: #008000\">│</span>\n",
       "<span style=\"color: #008000; text-decoration-color: #008000\">│</span> <span style=\"color: #c0c0c0; text-decoration-color: #c0c0c0\">📋 Final Columns: Date, Headline, Journalists, Link, raw_summary, summary, summary_prompt, text</span>                 <span style=\"color: #008000; text-decoration-color: #008000\">│</span>\n",
       "<span style=\"color: #008000; text-decoration-color: #008000\">╰─────────────────────────────────────────────────────────────────────────────────────────────────────────────────╯</span>\n",
       "</pre>\n"
      ],
      "text/plain": [
       "\u001b[32m╭─\u001b[0m\u001b[32m──────────────────────────────────────────\u001b[0m\u001b[32m \u001b[0m\u001b[1;32mparse_summary - Complete\u001b[0m\u001b[32m \u001b[0m\u001b[32m───────────────────────────────────────────\u001b[0m\u001b[32m─╮\u001b[0m\n",
       "\u001b[32m│\u001b[0m \u001b[1;32m✅ Processing Complete\u001b[0m                                                                                          \u001b[32m│\u001b[0m\n",
       "\u001b[32m│\u001b[0m \u001b[36mRows: 50 → 50\u001b[0m                                                                                                   \u001b[32m│\u001b[0m\n",
       "\u001b[32m│\u001b[0m \u001b[36mColumns: 7 → 8\u001b[0m                                                                                                  \u001b[32m│\u001b[0m\n",
       "\u001b[32m│\u001b[0m \u001b[32m🟢 Added: summary\u001b[0m                                                                                               \u001b[32m│\u001b[0m\n",
       "\u001b[32m│\u001b[0m \u001b[37m📋 Final Columns: Date, Headline, Journalists, Link, raw_summary, summary, summary_prompt, text\u001b[0m                 \u001b[32m│\u001b[0m\n",
       "\u001b[32m╰─────────────────────────────────────────────────────────────────────────────────────────────────────────────────╯\u001b[0m\n"
      ]
     },
     "metadata": {},
     "output_type": "display_data"
    },
    {
     "data": {
      "text/html": [
       "<pre style=\"white-space:pre;overflow-x:auto;line-height:normal;font-family:Menlo,'DejaVu Sans Mono',consolas,'Courier New',monospace\"><span style=\"color: #7fbfbf; text-decoration-color: #7fbfbf\">           </span><span style=\"color: #000080; text-decoration-color: #000080\">INFO    </span> Block <span style=\"color: #008000; text-decoration-color: #008000\">'parse_summary'</span> completed successfully: <span style=\"color: #008080; text-decoration-color: #008080; font-weight: bold\">50</span> samples, <span style=\"color: #008080; text-decoration-color: #008080; font-weight: bold\">8</span> columns                 <a href=\"file:///Users/shiv/workspace/sdg_hub_add-structured-summary-nb/src/sdg_hub/core/flow/base.py\" target=\"_blank\"><span style=\"color: #7f7f7f; text-decoration-color: #7f7f7f\">base.py</span></a><span style=\"color: #7f7f7f; text-decoration-color: #7f7f7f\">:</span><a href=\"file:///Users/shiv/workspace/sdg_hub_add-structured-summary-nb/src/sdg_hub/core/flow/base.py#646\" target=\"_blank\"><span style=\"color: #7f7f7f; text-decoration-color: #7f7f7f\">646</span></a>\n",
       "</pre>\n"
      ],
      "text/plain": [
       "\u001b[2;36m          \u001b[0m\u001b[2;36m \u001b[0m\u001b[34mINFO    \u001b[0m Block \u001b[32m'parse_summary'\u001b[0m completed successfully: \u001b[1;36m50\u001b[0m samples, \u001b[1;36m8\u001b[0m columns                 \u001b]8;id=638742;file:///Users/shiv/workspace/sdg_hub_add-structured-summary-nb/src/sdg_hub/core/flow/base.py\u001b\\\u001b[2mbase.py\u001b[0m\u001b]8;;\u001b\\\u001b[2m:\u001b[0m\u001b]8;id=322634;file:///Users/shiv/workspace/sdg_hub_add-structured-summary-nb/src/sdg_hub/core/flow/base.py#646\u001b\\\u001b[2m646\u001b[0m\u001b]8;;\u001b\\\n"
      ]
     },
     "metadata": {},
     "output_type": "display_data"
    },
    {
     "data": {
      "text/html": [
       "<pre style=\"white-space:pre;overflow-x:auto;line-height:normal;font-family:Menlo,'DejaVu Sans Mono',consolas,'Courier New',monospace\"><span style=\"color: #7fbfbf; text-decoration-color: #7fbfbf\">           </span><span style=\"color: #000080; text-decoration-color: #000080\">INFO    </span> Executing block <span style=\"color: #008080; text-decoration-color: #008080; font-weight: bold\">4</span>/<span style=\"color: #008080; text-decoration-color: #008080; font-weight: bold\">13</span>: build_keywords_prompt <span style=\"font-weight: bold\">(</span>PromptBuilderBlock<span style=\"font-weight: bold\">)</span>                    <a href=\"file:///Users/shiv/workspace/sdg_hub_add-structured-summary-nb/src/sdg_hub/core/flow/base.py\" target=\"_blank\"><span style=\"color: #7f7f7f; text-decoration-color: #7f7f7f\">base.py</span></a><span style=\"color: #7f7f7f; text-decoration-color: #7f7f7f\">:</span><a href=\"file:///Users/shiv/workspace/sdg_hub_add-structured-summary-nb/src/sdg_hub/core/flow/base.py#610\" target=\"_blank\"><span style=\"color: #7f7f7f; text-decoration-color: #7f7f7f\">610</span></a>\n",
       "</pre>\n"
      ],
      "text/plain": [
       "\u001b[2;36m          \u001b[0m\u001b[2;36m \u001b[0m\u001b[34mINFO    \u001b[0m Executing block \u001b[1;36m4\u001b[0m/\u001b[1;36m13\u001b[0m: build_keywords_prompt \u001b[1m(\u001b[0mPromptBuilderBlock\u001b[1m)\u001b[0m                    \u001b]8;id=19902;file:///Users/shiv/workspace/sdg_hub_add-structured-summary-nb/src/sdg_hub/core/flow/base.py\u001b\\\u001b[2mbase.py\u001b[0m\u001b]8;;\u001b\\\u001b[2m:\u001b[0m\u001b]8;id=196356;file:///Users/shiv/workspace/sdg_hub_add-structured-summary-nb/src/sdg_hub/core/flow/base.py#610\u001b\\\u001b[2m610\u001b[0m\u001b]8;;\u001b\\\n"
      ]
     },
     "metadata": {},
     "output_type": "display_data"
    },
    {
     "data": {
      "text/html": [
       "<pre style=\"white-space:pre;overflow-x:auto;line-height:normal;font-family:Menlo,'DejaVu Sans Mono',consolas,'Courier New',monospace\"><span style=\"color: #000080; text-decoration-color: #000080\">╭───────────────────────────────────────────── </span><span style=\"color: #000080; text-decoration-color: #000080; font-weight: bold\">build_keywords_prompt</span><span style=\"color: #000080; text-decoration-color: #000080\"> ─────────────────────────────────────────────╮</span>\n",
       "<span style=\"color: #000080; text-decoration-color: #000080\">│</span> <span style=\"color: #000080; text-decoration-color: #000080; font-weight: bold\">📊 Processing Input Data</span>                                                                                        <span style=\"color: #000080; text-decoration-color: #000080\">│</span>\n",
       "<span style=\"color: #000080; text-decoration-color: #000080\">│</span> <span style=\"color: #008080; text-decoration-color: #008080\">Block Type: PromptBuilderBlock</span>                                                                                  <span style=\"color: #000080; text-decoration-color: #000080\">│</span>\n",
       "<span style=\"color: #000080; text-decoration-color: #000080\">│</span> <span style=\"color: #008080; text-decoration-color: #008080; font-weight: bold\">Input Rows: 50</span>                                                                                                  <span style=\"color: #000080; text-decoration-color: #000080\">│</span>\n",
       "<span style=\"color: #000080; text-decoration-color: #000080\">│</span> <span style=\"color: #008080; text-decoration-color: #008080\">Input Columns: 8</span>                                                                                                <span style=\"color: #000080; text-decoration-color: #000080\">│</span>\n",
       "<span style=\"color: #000080; text-decoration-color: #000080\">│</span> <span style=\"color: #c0c0c0; text-decoration-color: #c0c0c0\">Column Names: Headline, Journalists, Date, Link, text, summary_prompt, raw_summary, summary</span>                     <span style=\"color: #000080; text-decoration-color: #000080\">│</span>\n",
       "<span style=\"color: #000080; text-decoration-color: #000080\">│</span> <span style=\"color: #008000; text-decoration-color: #008000\">Expected Output Columns: keywords_prompt</span>                                                                        <span style=\"color: #000080; text-decoration-color: #000080\">│</span>\n",
       "<span style=\"color: #000080; text-decoration-color: #000080\">╰─────────────────────────────────────────────────────────────────────────────────────────────────────────────────╯</span>\n",
       "</pre>\n"
      ],
      "text/plain": [
       "\u001b[34m╭─\u001b[0m\u001b[34m────────────────────────────────────────────\u001b[0m\u001b[34m \u001b[0m\u001b[1;34mbuild_keywords_prompt\u001b[0m\u001b[34m \u001b[0m\u001b[34m────────────────────────────────────────────\u001b[0m\u001b[34m─╮\u001b[0m\n",
       "\u001b[34m│\u001b[0m \u001b[1;34m📊 Processing Input Data\u001b[0m                                                                                        \u001b[34m│\u001b[0m\n",
       "\u001b[34m│\u001b[0m \u001b[36mBlock Type: PromptBuilderBlock\u001b[0m                                                                                  \u001b[34m│\u001b[0m\n",
       "\u001b[34m│\u001b[0m \u001b[1;36mInput Rows: 50\u001b[0m                                                                                                  \u001b[34m│\u001b[0m\n",
       "\u001b[34m│\u001b[0m \u001b[36mInput Columns: 8\u001b[0m                                                                                                \u001b[34m│\u001b[0m\n",
       "\u001b[34m│\u001b[0m \u001b[37mColumn Names: Headline, Journalists, Date, Link, text, summary_prompt, raw_summary, summary\u001b[0m                     \u001b[34m│\u001b[0m\n",
       "\u001b[34m│\u001b[0m \u001b[32mExpected Output Columns: keywords_prompt\u001b[0m                                                                        \u001b[34m│\u001b[0m\n",
       "\u001b[34m╰─────────────────────────────────────────────────────────────────────────────────────────────────────────────────╯\u001b[0m\n"
      ]
     },
     "metadata": {},
     "output_type": "display_data"
    },
    {
     "name": "stderr",
     "output_type": "stream",
     "text": [
      "Map: 100%|██████████| 50/50 [00:00<00:00, 6322.63 examples/s]\n"
     ]
    },
    {
     "data": {
      "text/html": [
       "<pre style=\"white-space:pre;overflow-x:auto;line-height:normal;font-family:Menlo,'DejaVu Sans Mono',consolas,'Courier New',monospace\"><span style=\"color: #008000; text-decoration-color: #008000\">╭─────────────────────────────────────── </span><span style=\"color: #008000; text-decoration-color: #008000; font-weight: bold\">build_keywords_prompt - Complete</span><span style=\"color: #008000; text-decoration-color: #008000\"> ────────────────────────────────────────╮</span>\n",
       "<span style=\"color: #008000; text-decoration-color: #008000\">│</span> <span style=\"color: #008000; text-decoration-color: #008000; font-weight: bold\">✅ Processing Complete</span>                                                                                          <span style=\"color: #008000; text-decoration-color: #008000\">│</span>\n",
       "<span style=\"color: #008000; text-decoration-color: #008000\">│</span> <span style=\"color: #008080; text-decoration-color: #008080\">Rows: 50 → 50</span>                                                                                                   <span style=\"color: #008000; text-decoration-color: #008000\">│</span>\n",
       "<span style=\"color: #008000; text-decoration-color: #008000\">│</span> <span style=\"color: #008080; text-decoration-color: #008080\">Columns: 8 → 9</span>                                                                                                  <span style=\"color: #008000; text-decoration-color: #008000\">│</span>\n",
       "<span style=\"color: #008000; text-decoration-color: #008000\">│</span> <span style=\"color: #008000; text-decoration-color: #008000\">🟢 Added: keywords_prompt</span>                                                                                       <span style=\"color: #008000; text-decoration-color: #008000\">│</span>\n",
       "<span style=\"color: #008000; text-decoration-color: #008000\">│</span> <span style=\"color: #c0c0c0; text-decoration-color: #c0c0c0\">📋 Final Columns: Date, Headline, Journalists, Link, keywords_prompt, raw_summary, summary, summary_prompt, </span>    <span style=\"color: #008000; text-decoration-color: #008000\">│</span>\n",
       "<span style=\"color: #008000; text-decoration-color: #008000\">│</span> <span style=\"color: #c0c0c0; text-decoration-color: #c0c0c0\">text</span>                                                                                                            <span style=\"color: #008000; text-decoration-color: #008000\">│</span>\n",
       "<span style=\"color: #008000; text-decoration-color: #008000\">╰─────────────────────────────────────────────────────────────────────────────────────────────────────────────────╯</span>\n",
       "</pre>\n"
      ],
      "text/plain": [
       "\u001b[32m╭─\u001b[0m\u001b[32m──────────────────────────────────────\u001b[0m\u001b[32m \u001b[0m\u001b[1;32mbuild_keywords_prompt - Complete\u001b[0m\u001b[32m \u001b[0m\u001b[32m───────────────────────────────────────\u001b[0m\u001b[32m─╮\u001b[0m\n",
       "\u001b[32m│\u001b[0m \u001b[1;32m✅ Processing Complete\u001b[0m                                                                                          \u001b[32m│\u001b[0m\n",
       "\u001b[32m│\u001b[0m \u001b[36mRows: 50 → 50\u001b[0m                                                                                                   \u001b[32m│\u001b[0m\n",
       "\u001b[32m│\u001b[0m \u001b[36mColumns: 8 → 9\u001b[0m                                                                                                  \u001b[32m│\u001b[0m\n",
       "\u001b[32m│\u001b[0m \u001b[32m🟢 Added: keywords_prompt\u001b[0m                                                                                       \u001b[32m│\u001b[0m\n",
       "\u001b[32m│\u001b[0m \u001b[37m📋 Final Columns: Date, Headline, Journalists, Link, keywords_prompt, raw_summary, summary, summary_prompt, \u001b[0m    \u001b[32m│\u001b[0m\n",
       "\u001b[32m│\u001b[0m \u001b[37mtext\u001b[0m                                                                                                            \u001b[32m│\u001b[0m\n",
       "\u001b[32m╰─────────────────────────────────────────────────────────────────────────────────────────────────────────────────╯\u001b[0m\n"
      ]
     },
     "metadata": {},
     "output_type": "display_data"
    },
    {
     "data": {
      "text/html": [
       "<pre style=\"white-space:pre;overflow-x:auto;line-height:normal;font-family:Menlo,'DejaVu Sans Mono',consolas,'Courier New',monospace\"><span style=\"color: #7fbfbf; text-decoration-color: #7fbfbf\">           </span><span style=\"color: #000080; text-decoration-color: #000080\">INFO    </span> Block <span style=\"color: #008000; text-decoration-color: #008000\">'build_keywords_prompt'</span> completed successfully: <span style=\"color: #008080; text-decoration-color: #008080; font-weight: bold\">50</span> samples, <span style=\"color: #008080; text-decoration-color: #008080; font-weight: bold\">9</span> columns         <a href=\"file:///Users/shiv/workspace/sdg_hub_add-structured-summary-nb/src/sdg_hub/core/flow/base.py\" target=\"_blank\"><span style=\"color: #7f7f7f; text-decoration-color: #7f7f7f\">base.py</span></a><span style=\"color: #7f7f7f; text-decoration-color: #7f7f7f\">:</span><a href=\"file:///Users/shiv/workspace/sdg_hub_add-structured-summary-nb/src/sdg_hub/core/flow/base.py#646\" target=\"_blank\"><span style=\"color: #7f7f7f; text-decoration-color: #7f7f7f\">646</span></a>\n",
       "</pre>\n"
      ],
      "text/plain": [
       "\u001b[2;36m          \u001b[0m\u001b[2;36m \u001b[0m\u001b[34mINFO    \u001b[0m Block \u001b[32m'build_keywords_prompt'\u001b[0m completed successfully: \u001b[1;36m50\u001b[0m samples, \u001b[1;36m9\u001b[0m columns         \u001b]8;id=210787;file:///Users/shiv/workspace/sdg_hub_add-structured-summary-nb/src/sdg_hub/core/flow/base.py\u001b\\\u001b[2mbase.py\u001b[0m\u001b]8;;\u001b\\\u001b[2m:\u001b[0m\u001b]8;id=132;file:///Users/shiv/workspace/sdg_hub_add-structured-summary-nb/src/sdg_hub/core/flow/base.py#646\u001b\\\u001b[2m646\u001b[0m\u001b]8;;\u001b\\\n"
      ]
     },
     "metadata": {},
     "output_type": "display_data"
    },
    {
     "data": {
      "text/html": [
       "<pre style=\"white-space:pre;overflow-x:auto;line-height:normal;font-family:Menlo,'DejaVu Sans Mono',consolas,'Courier New',monospace\"><span style=\"color: #7fbfbf; text-decoration-color: #7fbfbf\">           </span><span style=\"color: #000080; text-decoration-color: #000080\">INFO    </span> Executing block <span style=\"color: #008080; text-decoration-color: #008080; font-weight: bold\">5</span>/<span style=\"color: #008080; text-decoration-color: #008080; font-weight: bold\">13</span>: generate_keywords <span style=\"font-weight: bold\">(</span>LLMChatBlock<span style=\"font-weight: bold\">)</span>                              <a href=\"file:///Users/shiv/workspace/sdg_hub_add-structured-summary-nb/src/sdg_hub/core/flow/base.py\" target=\"_blank\"><span style=\"color: #7f7f7f; text-decoration-color: #7f7f7f\">base.py</span></a><span style=\"color: #7f7f7f; text-decoration-color: #7f7f7f\">:</span><a href=\"file:///Users/shiv/workspace/sdg_hub_add-structured-summary-nb/src/sdg_hub/core/flow/base.py#610\" target=\"_blank\"><span style=\"color: #7f7f7f; text-decoration-color: #7f7f7f\">610</span></a>\n",
       "</pre>\n"
      ],
      "text/plain": [
       "\u001b[2;36m          \u001b[0m\u001b[2;36m \u001b[0m\u001b[34mINFO    \u001b[0m Executing block \u001b[1;36m5\u001b[0m/\u001b[1;36m13\u001b[0m: generate_keywords \u001b[1m(\u001b[0mLLMChatBlock\u001b[1m)\u001b[0m                              \u001b]8;id=568345;file:///Users/shiv/workspace/sdg_hub_add-structured-summary-nb/src/sdg_hub/core/flow/base.py\u001b\\\u001b[2mbase.py\u001b[0m\u001b]8;;\u001b\\\u001b[2m:\u001b[0m\u001b]8;id=865763;file:///Users/shiv/workspace/sdg_hub_add-structured-summary-nb/src/sdg_hub/core/flow/base.py#610\u001b\\\u001b[2m610\u001b[0m\u001b]8;;\u001b\\\n"
      ]
     },
     "metadata": {},
     "output_type": "display_data"
    },
    {
     "data": {
      "text/html": [
       "<pre style=\"white-space:pre;overflow-x:auto;line-height:normal;font-family:Menlo,'DejaVu Sans Mono',consolas,'Courier New',monospace\"><span style=\"color: #000080; text-decoration-color: #000080\">╭─────────────────────────────────────────────── </span><span style=\"color: #000080; text-decoration-color: #000080; font-weight: bold\">generate_keywords</span><span style=\"color: #000080; text-decoration-color: #000080\"> ───────────────────────────────────────────────╮</span>\n",
       "<span style=\"color: #000080; text-decoration-color: #000080\">│</span> <span style=\"color: #000080; text-decoration-color: #000080; font-weight: bold\">📊 Processing Input Data</span>                                                                                        <span style=\"color: #000080; text-decoration-color: #000080\">│</span>\n",
       "<span style=\"color: #000080; text-decoration-color: #000080\">│</span> <span style=\"color: #008080; text-decoration-color: #008080\">Block Type: LLMChatBlock</span>                                                                                        <span style=\"color: #000080; text-decoration-color: #000080\">│</span>\n",
       "<span style=\"color: #000080; text-decoration-color: #000080\">│</span> <span style=\"color: #008080; text-decoration-color: #008080; font-weight: bold\">Input Rows: 50</span>                                                                                                  <span style=\"color: #000080; text-decoration-color: #000080\">│</span>\n",
       "<span style=\"color: #000080; text-decoration-color: #000080\">│</span> <span style=\"color: #008080; text-decoration-color: #008080\">Input Columns: 9</span>                                                                                                <span style=\"color: #000080; text-decoration-color: #000080\">│</span>\n",
       "<span style=\"color: #000080; text-decoration-color: #000080\">│</span> <span style=\"color: #c0c0c0; text-decoration-color: #c0c0c0\">Column Names: Headline, Journalists, Date, Link, text, summary_prompt, raw_summary, summary, keywords_prompt</span>    <span style=\"color: #000080; text-decoration-color: #000080\">│</span>\n",
       "<span style=\"color: #000080; text-decoration-color: #000080\">│</span> <span style=\"color: #008000; text-decoration-color: #008000\">Expected Output Columns: raw_keywords</span>                                                                           <span style=\"color: #000080; text-decoration-color: #000080\">│</span>\n",
       "<span style=\"color: #000080; text-decoration-color: #000080\">╰─────────────────────────────────────────────────────────────────────────────────────────────────────────────────╯</span>\n",
       "</pre>\n"
      ],
      "text/plain": [
       "\u001b[34m╭─\u001b[0m\u001b[34m──────────────────────────────────────────────\u001b[0m\u001b[34m \u001b[0m\u001b[1;34mgenerate_keywords\u001b[0m\u001b[34m \u001b[0m\u001b[34m──────────────────────────────────────────────\u001b[0m\u001b[34m─╮\u001b[0m\n",
       "\u001b[34m│\u001b[0m \u001b[1;34m📊 Processing Input Data\u001b[0m                                                                                        \u001b[34m│\u001b[0m\n",
       "\u001b[34m│\u001b[0m \u001b[36mBlock Type: LLMChatBlock\u001b[0m                                                                                        \u001b[34m│\u001b[0m\n",
       "\u001b[34m│\u001b[0m \u001b[1;36mInput Rows: 50\u001b[0m                                                                                                  \u001b[34m│\u001b[0m\n",
       "\u001b[34m│\u001b[0m \u001b[36mInput Columns: 9\u001b[0m                                                                                                \u001b[34m│\u001b[0m\n",
       "\u001b[34m│\u001b[0m \u001b[37mColumn Names: Headline, Journalists, Date, Link, text, summary_prompt, raw_summary, summary, keywords_prompt\u001b[0m    \u001b[34m│\u001b[0m\n",
       "\u001b[34m│\u001b[0m \u001b[32mExpected Output Columns: raw_keywords\u001b[0m                                                                           \u001b[34m│\u001b[0m\n",
       "\u001b[34m╰─────────────────────────────────────────────────────────────────────────────────────────────────────────────────╯\u001b[0m\n"
      ]
     },
     "metadata": {},
     "output_type": "display_data"
    },
    {
     "data": {
      "text/html": [
       "<pre style=\"white-space:pre;overflow-x:auto;line-height:normal;font-family:Menlo,'DejaVu Sans Mono',consolas,'Courier New',monospace\"><span style=\"color: #7fbfbf; text-decoration-color: #7fbfbf\">           </span><span style=\"color: #000080; text-decoration-color: #000080\">INFO    </span> Starting async generation for <span style=\"color: #008080; text-decoration-color: #008080; font-weight: bold\">50</span> samples                                  <a href=\"file:///Users/shiv/workspace/sdg_hub_add-structured-summary-nb/src/sdg_hub/core/blocks/llm/llm_chat_block.py\" target=\"_blank\"><span style=\"color: #7f7f7f; text-decoration-color: #7f7f7f\">llm_chat_block.py</span></a><span style=\"color: #7f7f7f; text-decoration-color: #7f7f7f\">:</span><a href=\"file:///Users/shiv/workspace/sdg_hub_add-structured-summary-nb/src/sdg_hub/core/blocks/llm/llm_chat_block.py#329\" target=\"_blank\"><span style=\"color: #7f7f7f; text-decoration-color: #7f7f7f\">329</span></a>\n",
       "</pre>\n"
      ],
      "text/plain": [
       "\u001b[2;36m          \u001b[0m\u001b[2;36m \u001b[0m\u001b[34mINFO    \u001b[0m Starting async generation for \u001b[1;36m50\u001b[0m samples                                  \u001b]8;id=653683;file:///Users/shiv/workspace/sdg_hub_add-structured-summary-nb/src/sdg_hub/core/blocks/llm/llm_chat_block.py\u001b\\\u001b[2mllm_chat_block.py\u001b[0m\u001b]8;;\u001b\\\u001b[2m:\u001b[0m\u001b]8;id=370952;file:///Users/shiv/workspace/sdg_hub_add-structured-summary-nb/src/sdg_hub/core/blocks/llm/llm_chat_block.py#329\u001b\\\u001b[2m329\u001b[0m\u001b]8;;\u001b\\\n"
      ]
     },
     "metadata": {},
     "output_type": "display_data"
    },
    {
     "data": {
      "text/html": [
       "<pre style=\"white-space:pre;overflow-x:auto;line-height:normal;font-family:Menlo,'DejaVu Sans Mono',consolas,'Courier New',monospace\"><span style=\"color: #7fbfbf; text-decoration-color: #7fbfbf\">[15:26:00] </span><span style=\"color: #000080; text-decoration-color: #000080\">INFO    </span> Generation completed successfully for <span style=\"color: #008080; text-decoration-color: #008080; font-weight: bold\">50</span> samples                          <a href=\"file:///Users/shiv/workspace/sdg_hub_add-structured-summary-nb/src/sdg_hub/core/blocks/llm/llm_chat_block.py\" target=\"_blank\"><span style=\"color: #7f7f7f; text-decoration-color: #7f7f7f\">llm_chat_block.py</span></a><span style=\"color: #7f7f7f; text-decoration-color: #7f7f7f\">:</span><a href=\"file:///Users/shiv/workspace/sdg_hub_add-structured-summary-nb/src/sdg_hub/core/blocks/llm/llm_chat_block.py#393\" target=\"_blank\"><span style=\"color: #7f7f7f; text-decoration-color: #7f7f7f\">393</span></a>\n",
       "</pre>\n"
      ],
      "text/plain": [
       "\u001b[2;36m[15:26:00]\u001b[0m\u001b[2;36m \u001b[0m\u001b[34mINFO    \u001b[0m Generation completed successfully for \u001b[1;36m50\u001b[0m samples                          \u001b]8;id=866285;file:///Users/shiv/workspace/sdg_hub_add-structured-summary-nb/src/sdg_hub/core/blocks/llm/llm_chat_block.py\u001b\\\u001b[2mllm_chat_block.py\u001b[0m\u001b]8;;\u001b\\\u001b[2m:\u001b[0m\u001b]8;id=550173;file:///Users/shiv/workspace/sdg_hub_add-structured-summary-nb/src/sdg_hub/core/blocks/llm/llm_chat_block.py#393\u001b\\\u001b[2m393\u001b[0m\u001b]8;;\u001b\\\n"
      ]
     },
     "metadata": {},
     "output_type": "display_data"
    },
    {
     "data": {
      "text/html": [
       "<pre style=\"white-space:pre;overflow-x:auto;line-height:normal;font-family:Menlo,'DejaVu Sans Mono',consolas,'Courier New',monospace\"><span style=\"color: #008000; text-decoration-color: #008000\">╭───────────────────────────────────────── </span><span style=\"color: #008000; text-decoration-color: #008000; font-weight: bold\">generate_keywords - Complete</span><span style=\"color: #008000; text-decoration-color: #008000\"> ──────────────────────────────────────────╮</span>\n",
       "<span style=\"color: #008000; text-decoration-color: #008000\">│</span> <span style=\"color: #008000; text-decoration-color: #008000; font-weight: bold\">✅ Processing Complete</span>                                                                                          <span style=\"color: #008000; text-decoration-color: #008000\">│</span>\n",
       "<span style=\"color: #008000; text-decoration-color: #008000\">│</span> <span style=\"color: #008080; text-decoration-color: #008080\">Rows: 50 → 50</span>                                                                                                   <span style=\"color: #008000; text-decoration-color: #008000\">│</span>\n",
       "<span style=\"color: #008000; text-decoration-color: #008000\">│</span> <span style=\"color: #008080; text-decoration-color: #008080\">Columns: 9 → 10</span>                                                                                                 <span style=\"color: #008000; text-decoration-color: #008000\">│</span>\n",
       "<span style=\"color: #008000; text-decoration-color: #008000\">│</span> <span style=\"color: #008000; text-decoration-color: #008000\">🟢 Added: raw_keywords</span>                                                                                          <span style=\"color: #008000; text-decoration-color: #008000\">│</span>\n",
       "<span style=\"color: #008000; text-decoration-color: #008000\">│</span> <span style=\"color: #c0c0c0; text-decoration-color: #c0c0c0\">📋 Final Columns: Date, Headline, Journalists, Link, keywords_prompt, raw_keywords, raw_summary, summary, </span>      <span style=\"color: #008000; text-decoration-color: #008000\">│</span>\n",
       "<span style=\"color: #008000; text-decoration-color: #008000\">│</span> <span style=\"color: #c0c0c0; text-decoration-color: #c0c0c0\">summary_prompt, text</span>                                                                                            <span style=\"color: #008000; text-decoration-color: #008000\">│</span>\n",
       "<span style=\"color: #008000; text-decoration-color: #008000\">╰─────────────────────────────────────────────────────────────────────────────────────────────────────────────────╯</span>\n",
       "</pre>\n"
      ],
      "text/plain": [
       "\u001b[32m╭─\u001b[0m\u001b[32m────────────────────────────────────────\u001b[0m\u001b[32m \u001b[0m\u001b[1;32mgenerate_keywords - Complete\u001b[0m\u001b[32m \u001b[0m\u001b[32m─────────────────────────────────────────\u001b[0m\u001b[32m─╮\u001b[0m\n",
       "\u001b[32m│\u001b[0m \u001b[1;32m✅ Processing Complete\u001b[0m                                                                                          \u001b[32m│\u001b[0m\n",
       "\u001b[32m│\u001b[0m \u001b[36mRows: 50 → 50\u001b[0m                                                                                                   \u001b[32m│\u001b[0m\n",
       "\u001b[32m│\u001b[0m \u001b[36mColumns: 9 → 10\u001b[0m                                                                                                 \u001b[32m│\u001b[0m\n",
       "\u001b[32m│\u001b[0m \u001b[32m🟢 Added: raw_keywords\u001b[0m                                                                                          \u001b[32m│\u001b[0m\n",
       "\u001b[32m│\u001b[0m \u001b[37m📋 Final Columns: Date, Headline, Journalists, Link, keywords_prompt, raw_keywords, raw_summary, summary, \u001b[0m      \u001b[32m│\u001b[0m\n",
       "\u001b[32m│\u001b[0m \u001b[37msummary_prompt, text\u001b[0m                                                                                            \u001b[32m│\u001b[0m\n",
       "\u001b[32m╰─────────────────────────────────────────────────────────────────────────────────────────────────────────────────╯\u001b[0m\n"
      ]
     },
     "metadata": {},
     "output_type": "display_data"
    },
    {
     "data": {
      "text/html": [
       "<pre style=\"white-space:pre;overflow-x:auto;line-height:normal;font-family:Menlo,'DejaVu Sans Mono',consolas,'Courier New',monospace\"><span style=\"color: #7fbfbf; text-decoration-color: #7fbfbf\">[15:26:00] </span><span style=\"color: #000080; text-decoration-color: #000080\">INFO    </span> Block <span style=\"color: #008000; text-decoration-color: #008000\">'generate_keywords'</span> completed successfully: <span style=\"color: #008080; text-decoration-color: #008080; font-weight: bold\">50</span> samples, <span style=\"color: #008080; text-decoration-color: #008080; font-weight: bold\">10</span> columns            <a href=\"file:///Users/shiv/workspace/sdg_hub_add-structured-summary-nb/src/sdg_hub/core/flow/base.py\" target=\"_blank\"><span style=\"color: #7f7f7f; text-decoration-color: #7f7f7f\">base.py</span></a><span style=\"color: #7f7f7f; text-decoration-color: #7f7f7f\">:</span><a href=\"file:///Users/shiv/workspace/sdg_hub_add-structured-summary-nb/src/sdg_hub/core/flow/base.py#646\" target=\"_blank\"><span style=\"color: #7f7f7f; text-decoration-color: #7f7f7f\">646</span></a>\n",
       "</pre>\n"
      ],
      "text/plain": [
       "\u001b[2;36m[15:26:00]\u001b[0m\u001b[2;36m \u001b[0m\u001b[34mINFO    \u001b[0m Block \u001b[32m'generate_keywords'\u001b[0m completed successfully: \u001b[1;36m50\u001b[0m samples, \u001b[1;36m10\u001b[0m columns            \u001b]8;id=422349;file:///Users/shiv/workspace/sdg_hub_add-structured-summary-nb/src/sdg_hub/core/flow/base.py\u001b\\\u001b[2mbase.py\u001b[0m\u001b]8;;\u001b\\\u001b[2m:\u001b[0m\u001b]8;id=770872;file:///Users/shiv/workspace/sdg_hub_add-structured-summary-nb/src/sdg_hub/core/flow/base.py#646\u001b\\\u001b[2m646\u001b[0m\u001b]8;;\u001b\\\n"
      ]
     },
     "metadata": {},
     "output_type": "display_data"
    },
    {
     "data": {
      "text/html": [
       "<pre style=\"white-space:pre;overflow-x:auto;line-height:normal;font-family:Menlo,'DejaVu Sans Mono',consolas,'Courier New',monospace\"><span style=\"color: #7fbfbf; text-decoration-color: #7fbfbf\">           </span><span style=\"color: #000080; text-decoration-color: #000080\">INFO    </span> Executing block <span style=\"color: #008080; text-decoration-color: #008080; font-weight: bold\">6</span>/<span style=\"color: #008080; text-decoration-color: #008080; font-weight: bold\">13</span>: parse_keywords <span style=\"font-weight: bold\">(</span>TextParserBlock<span style=\"font-weight: bold\">)</span>                              <a href=\"file:///Users/shiv/workspace/sdg_hub_add-structured-summary-nb/src/sdg_hub/core/flow/base.py\" target=\"_blank\"><span style=\"color: #7f7f7f; text-decoration-color: #7f7f7f\">base.py</span></a><span style=\"color: #7f7f7f; text-decoration-color: #7f7f7f\">:</span><a href=\"file:///Users/shiv/workspace/sdg_hub_add-structured-summary-nb/src/sdg_hub/core/flow/base.py#610\" target=\"_blank\"><span style=\"color: #7f7f7f; text-decoration-color: #7f7f7f\">610</span></a>\n",
       "</pre>\n"
      ],
      "text/plain": [
       "\u001b[2;36m          \u001b[0m\u001b[2;36m \u001b[0m\u001b[34mINFO    \u001b[0m Executing block \u001b[1;36m6\u001b[0m/\u001b[1;36m13\u001b[0m: parse_keywords \u001b[1m(\u001b[0mTextParserBlock\u001b[1m)\u001b[0m                              \u001b]8;id=859015;file:///Users/shiv/workspace/sdg_hub_add-structured-summary-nb/src/sdg_hub/core/flow/base.py\u001b\\\u001b[2mbase.py\u001b[0m\u001b]8;;\u001b\\\u001b[2m:\u001b[0m\u001b]8;id=825031;file:///Users/shiv/workspace/sdg_hub_add-structured-summary-nb/src/sdg_hub/core/flow/base.py#610\u001b\\\u001b[2m610\u001b[0m\u001b]8;;\u001b\\\n"
      ]
     },
     "metadata": {},
     "output_type": "display_data"
    },
    {
     "data": {
      "text/html": [
       "<pre style=\"white-space:pre;overflow-x:auto;line-height:normal;font-family:Menlo,'DejaVu Sans Mono',consolas,'Courier New',monospace\"><span style=\"color: #000080; text-decoration-color: #000080\">╭──────────────────────────────────────────────── </span><span style=\"color: #000080; text-decoration-color: #000080; font-weight: bold\">parse_keywords</span><span style=\"color: #000080; text-decoration-color: #000080\"> ─────────────────────────────────────────────────╮</span>\n",
       "<span style=\"color: #000080; text-decoration-color: #000080\">│</span> <span style=\"color: #000080; text-decoration-color: #000080; font-weight: bold\">📊 Processing Input Data</span>                                                                                        <span style=\"color: #000080; text-decoration-color: #000080\">│</span>\n",
       "<span style=\"color: #000080; text-decoration-color: #000080\">│</span> <span style=\"color: #008080; text-decoration-color: #008080\">Block Type: TextParserBlock</span>                                                                                     <span style=\"color: #000080; text-decoration-color: #000080\">│</span>\n",
       "<span style=\"color: #000080; text-decoration-color: #000080\">│</span> <span style=\"color: #008080; text-decoration-color: #008080; font-weight: bold\">Input Rows: 50</span>                                                                                                  <span style=\"color: #000080; text-decoration-color: #000080\">│</span>\n",
       "<span style=\"color: #000080; text-decoration-color: #000080\">│</span> <span style=\"color: #008080; text-decoration-color: #008080\">Input Columns: 10</span>                                                                                               <span style=\"color: #000080; text-decoration-color: #000080\">│</span>\n",
       "<span style=\"color: #000080; text-decoration-color: #000080\">│</span> <span style=\"color: #c0c0c0; text-decoration-color: #c0c0c0\">Column Names: Headline, Journalists, Date, Link, text, summary_prompt, raw_summary, summary, keywords_prompt, </span>  <span style=\"color: #000080; text-decoration-color: #000080\">│</span>\n",
       "<span style=\"color: #000080; text-decoration-color: #000080\">│</span> <span style=\"color: #c0c0c0; text-decoration-color: #c0c0c0\">raw_keywords</span>                                                                                                    <span style=\"color: #000080; text-decoration-color: #000080\">│</span>\n",
       "<span style=\"color: #000080; text-decoration-color: #000080\">│</span> <span style=\"color: #008000; text-decoration-color: #008000\">Expected Output Columns: keywords</span>                                                                               <span style=\"color: #000080; text-decoration-color: #000080\">│</span>\n",
       "<span style=\"color: #000080; text-decoration-color: #000080\">╰─────────────────────────────────────────────────────────────────────────────────────────────────────────────────╯</span>\n",
       "</pre>\n"
      ],
      "text/plain": [
       "\u001b[34m╭─\u001b[0m\u001b[34m───────────────────────────────────────────────\u001b[0m\u001b[34m \u001b[0m\u001b[1;34mparse_keywords\u001b[0m\u001b[34m \u001b[0m\u001b[34m────────────────────────────────────────────────\u001b[0m\u001b[34m─╮\u001b[0m\n",
       "\u001b[34m│\u001b[0m \u001b[1;34m📊 Processing Input Data\u001b[0m                                                                                        \u001b[34m│\u001b[0m\n",
       "\u001b[34m│\u001b[0m \u001b[36mBlock Type: TextParserBlock\u001b[0m                                                                                     \u001b[34m│\u001b[0m\n",
       "\u001b[34m│\u001b[0m \u001b[1;36mInput Rows: 50\u001b[0m                                                                                                  \u001b[34m│\u001b[0m\n",
       "\u001b[34m│\u001b[0m \u001b[36mInput Columns: 10\u001b[0m                                                                                               \u001b[34m│\u001b[0m\n",
       "\u001b[34m│\u001b[0m \u001b[37mColumn Names: Headline, Journalists, Date, Link, text, summary_prompt, raw_summary, summary, keywords_prompt, \u001b[0m  \u001b[34m│\u001b[0m\n",
       "\u001b[34m│\u001b[0m \u001b[37mraw_keywords\u001b[0m                                                                                                    \u001b[34m│\u001b[0m\n",
       "\u001b[34m│\u001b[0m \u001b[32mExpected Output Columns: keywords\u001b[0m                                                                               \u001b[34m│\u001b[0m\n",
       "\u001b[34m╰─────────────────────────────────────────────────────────────────────────────────────────────────────────────────╯\u001b[0m\n"
      ]
     },
     "metadata": {},
     "output_type": "display_data"
    },
    {
     "data": {
      "text/html": [
       "<pre style=\"white-space:pre;overflow-x:auto;line-height:normal;font-family:Menlo,'DejaVu Sans Mono',consolas,'Courier New',monospace\"><span style=\"color: #008000; text-decoration-color: #008000\">╭─────────────────────────────────────────── </span><span style=\"color: #008000; text-decoration-color: #008000; font-weight: bold\">parse_keywords - Complete</span><span style=\"color: #008000; text-decoration-color: #008000\"> ───────────────────────────────────────────╮</span>\n",
       "<span style=\"color: #008000; text-decoration-color: #008000\">│</span> <span style=\"color: #008000; text-decoration-color: #008000; font-weight: bold\">✅ Processing Complete</span>                                                                                          <span style=\"color: #008000; text-decoration-color: #008000\">│</span>\n",
       "<span style=\"color: #008000; text-decoration-color: #008000\">│</span> <span style=\"color: #008080; text-decoration-color: #008080\">Rows: 50 → 50</span>                                                                                                   <span style=\"color: #008000; text-decoration-color: #008000\">│</span>\n",
       "<span style=\"color: #008000; text-decoration-color: #008000\">│</span> <span style=\"color: #008080; text-decoration-color: #008080\">Columns: 10 → 11</span>                                                                                                <span style=\"color: #008000; text-decoration-color: #008000\">│</span>\n",
       "<span style=\"color: #008000; text-decoration-color: #008000\">│</span> <span style=\"color: #008000; text-decoration-color: #008000\">🟢 Added: keywords</span>                                                                                              <span style=\"color: #008000; text-decoration-color: #008000\">│</span>\n",
       "<span style=\"color: #008000; text-decoration-color: #008000\">│</span> <span style=\"color: #c0c0c0; text-decoration-color: #c0c0c0\">📋 Final Columns: Date, Headline, Journalists, Link, keywords, keywords_prompt, raw_keywords, raw_summary, </span>     <span style=\"color: #008000; text-decoration-color: #008000\">│</span>\n",
       "<span style=\"color: #008000; text-decoration-color: #008000\">│</span> <span style=\"color: #c0c0c0; text-decoration-color: #c0c0c0\">summary, summary_prompt, text</span>                                                                                   <span style=\"color: #008000; text-decoration-color: #008000\">│</span>\n",
       "<span style=\"color: #008000; text-decoration-color: #008000\">╰─────────────────────────────────────────────────────────────────────────────────────────────────────────────────╯</span>\n",
       "</pre>\n"
      ],
      "text/plain": [
       "\u001b[32m╭─\u001b[0m\u001b[32m──────────────────────────────────────────\u001b[0m\u001b[32m \u001b[0m\u001b[1;32mparse_keywords - Complete\u001b[0m\u001b[32m \u001b[0m\u001b[32m──────────────────────────────────────────\u001b[0m\u001b[32m─╮\u001b[0m\n",
       "\u001b[32m│\u001b[0m \u001b[1;32m✅ Processing Complete\u001b[0m                                                                                          \u001b[32m│\u001b[0m\n",
       "\u001b[32m│\u001b[0m \u001b[36mRows: 50 → 50\u001b[0m                                                                                                   \u001b[32m│\u001b[0m\n",
       "\u001b[32m│\u001b[0m \u001b[36mColumns: 10 → 11\u001b[0m                                                                                                \u001b[32m│\u001b[0m\n",
       "\u001b[32m│\u001b[0m \u001b[32m🟢 Added: keywords\u001b[0m                                                                                              \u001b[32m│\u001b[0m\n",
       "\u001b[32m│\u001b[0m \u001b[37m📋 Final Columns: Date, Headline, Journalists, Link, keywords, keywords_prompt, raw_keywords, raw_summary, \u001b[0m     \u001b[32m│\u001b[0m\n",
       "\u001b[32m│\u001b[0m \u001b[37msummary, summary_prompt, text\u001b[0m                                                                                   \u001b[32m│\u001b[0m\n",
       "\u001b[32m╰─────────────────────────────────────────────────────────────────────────────────────────────────────────────────╯\u001b[0m\n"
      ]
     },
     "metadata": {},
     "output_type": "display_data"
    },
    {
     "data": {
      "text/html": [
       "<pre style=\"white-space:pre;overflow-x:auto;line-height:normal;font-family:Menlo,'DejaVu Sans Mono',consolas,'Courier New',monospace\"><span style=\"color: #7fbfbf; text-decoration-color: #7fbfbf\">           </span><span style=\"color: #000080; text-decoration-color: #000080\">INFO    </span> Block <span style=\"color: #008000; text-decoration-color: #008000\">'parse_keywords'</span> completed successfully: <span style=\"color: #008080; text-decoration-color: #008080; font-weight: bold\">50</span> samples, <span style=\"color: #008080; text-decoration-color: #008080; font-weight: bold\">11</span> columns               <a href=\"file:///Users/shiv/workspace/sdg_hub_add-structured-summary-nb/src/sdg_hub/core/flow/base.py\" target=\"_blank\"><span style=\"color: #7f7f7f; text-decoration-color: #7f7f7f\">base.py</span></a><span style=\"color: #7f7f7f; text-decoration-color: #7f7f7f\">:</span><a href=\"file:///Users/shiv/workspace/sdg_hub_add-structured-summary-nb/src/sdg_hub/core/flow/base.py#646\" target=\"_blank\"><span style=\"color: #7f7f7f; text-decoration-color: #7f7f7f\">646</span></a>\n",
       "</pre>\n"
      ],
      "text/plain": [
       "\u001b[2;36m          \u001b[0m\u001b[2;36m \u001b[0m\u001b[34mINFO    \u001b[0m Block \u001b[32m'parse_keywords'\u001b[0m completed successfully: \u001b[1;36m50\u001b[0m samples, \u001b[1;36m11\u001b[0m columns               \u001b]8;id=742563;file:///Users/shiv/workspace/sdg_hub_add-structured-summary-nb/src/sdg_hub/core/flow/base.py\u001b\\\u001b[2mbase.py\u001b[0m\u001b]8;;\u001b\\\u001b[2m:\u001b[0m\u001b]8;id=825528;file:///Users/shiv/workspace/sdg_hub_add-structured-summary-nb/src/sdg_hub/core/flow/base.py#646\u001b\\\u001b[2m646\u001b[0m\u001b]8;;\u001b\\\n"
      ]
     },
     "metadata": {},
     "output_type": "display_data"
    },
    {
     "data": {
      "text/html": [
       "<pre style=\"white-space:pre;overflow-x:auto;line-height:normal;font-family:Menlo,'DejaVu Sans Mono',consolas,'Courier New',monospace\"><span style=\"color: #7fbfbf; text-decoration-color: #7fbfbf\">           </span><span style=\"color: #000080; text-decoration-color: #000080\">INFO    </span> Executing block <span style=\"color: #008080; text-decoration-color: #008080; font-weight: bold\">7</span>/<span style=\"color: #008080; text-decoration-color: #008080; font-weight: bold\">13</span>: build_entities_prompt <span style=\"font-weight: bold\">(</span>PromptBuilderBlock<span style=\"font-weight: bold\">)</span>                    <a href=\"file:///Users/shiv/workspace/sdg_hub_add-structured-summary-nb/src/sdg_hub/core/flow/base.py\" target=\"_blank\"><span style=\"color: #7f7f7f; text-decoration-color: #7f7f7f\">base.py</span></a><span style=\"color: #7f7f7f; text-decoration-color: #7f7f7f\">:</span><a href=\"file:///Users/shiv/workspace/sdg_hub_add-structured-summary-nb/src/sdg_hub/core/flow/base.py#610\" target=\"_blank\"><span style=\"color: #7f7f7f; text-decoration-color: #7f7f7f\">610</span></a>\n",
       "</pre>\n"
      ],
      "text/plain": [
       "\u001b[2;36m          \u001b[0m\u001b[2;36m \u001b[0m\u001b[34mINFO    \u001b[0m Executing block \u001b[1;36m7\u001b[0m/\u001b[1;36m13\u001b[0m: build_entities_prompt \u001b[1m(\u001b[0mPromptBuilderBlock\u001b[1m)\u001b[0m                    \u001b]8;id=293136;file:///Users/shiv/workspace/sdg_hub_add-structured-summary-nb/src/sdg_hub/core/flow/base.py\u001b\\\u001b[2mbase.py\u001b[0m\u001b]8;;\u001b\\\u001b[2m:\u001b[0m\u001b]8;id=173734;file:///Users/shiv/workspace/sdg_hub_add-structured-summary-nb/src/sdg_hub/core/flow/base.py#610\u001b\\\u001b[2m610\u001b[0m\u001b]8;;\u001b\\\n"
      ]
     },
     "metadata": {},
     "output_type": "display_data"
    },
    {
     "data": {
      "text/html": [
       "<pre style=\"white-space:pre;overflow-x:auto;line-height:normal;font-family:Menlo,'DejaVu Sans Mono',consolas,'Courier New',monospace\"><span style=\"color: #000080; text-decoration-color: #000080\">╭───────────────────────────────────────────── </span><span style=\"color: #000080; text-decoration-color: #000080; font-weight: bold\">build_entities_prompt</span><span style=\"color: #000080; text-decoration-color: #000080\"> ─────────────────────────────────────────────╮</span>\n",
       "<span style=\"color: #000080; text-decoration-color: #000080\">│</span> <span style=\"color: #000080; text-decoration-color: #000080; font-weight: bold\">📊 Processing Input Data</span>                                                                                        <span style=\"color: #000080; text-decoration-color: #000080\">│</span>\n",
       "<span style=\"color: #000080; text-decoration-color: #000080\">│</span> <span style=\"color: #008080; text-decoration-color: #008080\">Block Type: PromptBuilderBlock</span>                                                                                  <span style=\"color: #000080; text-decoration-color: #000080\">│</span>\n",
       "<span style=\"color: #000080; text-decoration-color: #000080\">│</span> <span style=\"color: #008080; text-decoration-color: #008080; font-weight: bold\">Input Rows: 50</span>                                                                                                  <span style=\"color: #000080; text-decoration-color: #000080\">│</span>\n",
       "<span style=\"color: #000080; text-decoration-color: #000080\">│</span> <span style=\"color: #008080; text-decoration-color: #008080\">Input Columns: 11</span>                                                                                               <span style=\"color: #000080; text-decoration-color: #000080\">│</span>\n",
       "<span style=\"color: #000080; text-decoration-color: #000080\">│</span> <span style=\"color: #c0c0c0; text-decoration-color: #c0c0c0\">Column Names: Headline, Journalists, Date, Link, text, summary_prompt, raw_summary, summary, keywords_prompt, </span>  <span style=\"color: #000080; text-decoration-color: #000080\">│</span>\n",
       "<span style=\"color: #000080; text-decoration-color: #000080\">│</span> <span style=\"color: #c0c0c0; text-decoration-color: #c0c0c0\">raw_keywords, keywords</span>                                                                                          <span style=\"color: #000080; text-decoration-color: #000080\">│</span>\n",
       "<span style=\"color: #000080; text-decoration-color: #000080\">│</span> <span style=\"color: #008000; text-decoration-color: #008000\">Expected Output Columns: entities_prompt</span>                                                                        <span style=\"color: #000080; text-decoration-color: #000080\">│</span>\n",
       "<span style=\"color: #000080; text-decoration-color: #000080\">╰─────────────────────────────────────────────────────────────────────────────────────────────────────────────────╯</span>\n",
       "</pre>\n"
      ],
      "text/plain": [
       "\u001b[34m╭─\u001b[0m\u001b[34m────────────────────────────────────────────\u001b[0m\u001b[34m \u001b[0m\u001b[1;34mbuild_entities_prompt\u001b[0m\u001b[34m \u001b[0m\u001b[34m────────────────────────────────────────────\u001b[0m\u001b[34m─╮\u001b[0m\n",
       "\u001b[34m│\u001b[0m \u001b[1;34m📊 Processing Input Data\u001b[0m                                                                                        \u001b[34m│\u001b[0m\n",
       "\u001b[34m│\u001b[0m \u001b[36mBlock Type: PromptBuilderBlock\u001b[0m                                                                                  \u001b[34m│\u001b[0m\n",
       "\u001b[34m│\u001b[0m \u001b[1;36mInput Rows: 50\u001b[0m                                                                                                  \u001b[34m│\u001b[0m\n",
       "\u001b[34m│\u001b[0m \u001b[36mInput Columns: 11\u001b[0m                                                                                               \u001b[34m│\u001b[0m\n",
       "\u001b[34m│\u001b[0m \u001b[37mColumn Names: Headline, Journalists, Date, Link, text, summary_prompt, raw_summary, summary, keywords_prompt, \u001b[0m  \u001b[34m│\u001b[0m\n",
       "\u001b[34m│\u001b[0m \u001b[37mraw_keywords, keywords\u001b[0m                                                                                          \u001b[34m│\u001b[0m\n",
       "\u001b[34m│\u001b[0m \u001b[32mExpected Output Columns: entities_prompt\u001b[0m                                                                        \u001b[34m│\u001b[0m\n",
       "\u001b[34m╰─────────────────────────────────────────────────────────────────────────────────────────────────────────────────╯\u001b[0m\n"
      ]
     },
     "metadata": {},
     "output_type": "display_data"
    },
    {
     "name": "stderr",
     "output_type": "stream",
     "text": [
      "Map: 100%|██████████| 50/50 [00:00<00:00, 5796.44 examples/s]\n"
     ]
    },
    {
     "data": {
      "text/html": [
       "<pre style=\"white-space:pre;overflow-x:auto;line-height:normal;font-family:Menlo,'DejaVu Sans Mono',consolas,'Courier New',monospace\"><span style=\"color: #008000; text-decoration-color: #008000\">╭─────────────────────────────────────── </span><span style=\"color: #008000; text-decoration-color: #008000; font-weight: bold\">build_entities_prompt - Complete</span><span style=\"color: #008000; text-decoration-color: #008000\"> ────────────────────────────────────────╮</span>\n",
       "<span style=\"color: #008000; text-decoration-color: #008000\">│</span> <span style=\"color: #008000; text-decoration-color: #008000; font-weight: bold\">✅ Processing Complete</span>                                                                                          <span style=\"color: #008000; text-decoration-color: #008000\">│</span>\n",
       "<span style=\"color: #008000; text-decoration-color: #008000\">│</span> <span style=\"color: #008080; text-decoration-color: #008080\">Rows: 50 → 50</span>                                                                                                   <span style=\"color: #008000; text-decoration-color: #008000\">│</span>\n",
       "<span style=\"color: #008000; text-decoration-color: #008000\">│</span> <span style=\"color: #008080; text-decoration-color: #008080\">Columns: 11 → 12</span>                                                                                                <span style=\"color: #008000; text-decoration-color: #008000\">│</span>\n",
       "<span style=\"color: #008000; text-decoration-color: #008000\">│</span> <span style=\"color: #008000; text-decoration-color: #008000\">🟢 Added: entities_prompt</span>                                                                                       <span style=\"color: #008000; text-decoration-color: #008000\">│</span>\n",
       "<span style=\"color: #008000; text-decoration-color: #008000\">│</span> <span style=\"color: #c0c0c0; text-decoration-color: #c0c0c0\">📋 Final Columns: Date, Headline, Journalists, Link, entities_prompt, keywords, keywords_prompt, raw_keywords, </span> <span style=\"color: #008000; text-decoration-color: #008000\">│</span>\n",
       "<span style=\"color: #008000; text-decoration-color: #008000\">│</span> <span style=\"color: #c0c0c0; text-decoration-color: #c0c0c0\">raw_summary, summary, summary_prompt, text</span>                                                                      <span style=\"color: #008000; text-decoration-color: #008000\">│</span>\n",
       "<span style=\"color: #008000; text-decoration-color: #008000\">╰─────────────────────────────────────────────────────────────────────────────────────────────────────────────────╯</span>\n",
       "</pre>\n"
      ],
      "text/plain": [
       "\u001b[32m╭─\u001b[0m\u001b[32m──────────────────────────────────────\u001b[0m\u001b[32m \u001b[0m\u001b[1;32mbuild_entities_prompt - Complete\u001b[0m\u001b[32m \u001b[0m\u001b[32m───────────────────────────────────────\u001b[0m\u001b[32m─╮\u001b[0m\n",
       "\u001b[32m│\u001b[0m \u001b[1;32m✅ Processing Complete\u001b[0m                                                                                          \u001b[32m│\u001b[0m\n",
       "\u001b[32m│\u001b[0m \u001b[36mRows: 50 → 50\u001b[0m                                                                                                   \u001b[32m│\u001b[0m\n",
       "\u001b[32m│\u001b[0m \u001b[36mColumns: 11 → 12\u001b[0m                                                                                                \u001b[32m│\u001b[0m\n",
       "\u001b[32m│\u001b[0m \u001b[32m🟢 Added: entities_prompt\u001b[0m                                                                                       \u001b[32m│\u001b[0m\n",
       "\u001b[32m│\u001b[0m \u001b[37m📋 Final Columns: Date, Headline, Journalists, Link, entities_prompt, keywords, keywords_prompt, raw_keywords, \u001b[0m \u001b[32m│\u001b[0m\n",
       "\u001b[32m│\u001b[0m \u001b[37mraw_summary, summary, summary_prompt, text\u001b[0m                                                                      \u001b[32m│\u001b[0m\n",
       "\u001b[32m╰─────────────────────────────────────────────────────────────────────────────────────────────────────────────────╯\u001b[0m\n"
      ]
     },
     "metadata": {},
     "output_type": "display_data"
    },
    {
     "data": {
      "text/html": [
       "<pre style=\"white-space:pre;overflow-x:auto;line-height:normal;font-family:Menlo,'DejaVu Sans Mono',consolas,'Courier New',monospace\"><span style=\"color: #7fbfbf; text-decoration-color: #7fbfbf\">           </span><span style=\"color: #000080; text-decoration-color: #000080\">INFO    </span> Block <span style=\"color: #008000; text-decoration-color: #008000\">'build_entities_prompt'</span> completed successfully: <span style=\"color: #008080; text-decoration-color: #008080; font-weight: bold\">50</span> samples, <span style=\"color: #008080; text-decoration-color: #008080; font-weight: bold\">12</span> columns        <a href=\"file:///Users/shiv/workspace/sdg_hub_add-structured-summary-nb/src/sdg_hub/core/flow/base.py\" target=\"_blank\"><span style=\"color: #7f7f7f; text-decoration-color: #7f7f7f\">base.py</span></a><span style=\"color: #7f7f7f; text-decoration-color: #7f7f7f\">:</span><a href=\"file:///Users/shiv/workspace/sdg_hub_add-structured-summary-nb/src/sdg_hub/core/flow/base.py#646\" target=\"_blank\"><span style=\"color: #7f7f7f; text-decoration-color: #7f7f7f\">646</span></a>\n",
       "</pre>\n"
      ],
      "text/plain": [
       "\u001b[2;36m          \u001b[0m\u001b[2;36m \u001b[0m\u001b[34mINFO    \u001b[0m Block \u001b[32m'build_entities_prompt'\u001b[0m completed successfully: \u001b[1;36m50\u001b[0m samples, \u001b[1;36m12\u001b[0m columns        \u001b]8;id=927057;file:///Users/shiv/workspace/sdg_hub_add-structured-summary-nb/src/sdg_hub/core/flow/base.py\u001b\\\u001b[2mbase.py\u001b[0m\u001b]8;;\u001b\\\u001b[2m:\u001b[0m\u001b]8;id=164816;file:///Users/shiv/workspace/sdg_hub_add-structured-summary-nb/src/sdg_hub/core/flow/base.py#646\u001b\\\u001b[2m646\u001b[0m\u001b]8;;\u001b\\\n"
      ]
     },
     "metadata": {},
     "output_type": "display_data"
    },
    {
     "data": {
      "text/html": [
       "<pre style=\"white-space:pre;overflow-x:auto;line-height:normal;font-family:Menlo,'DejaVu Sans Mono',consolas,'Courier New',monospace\"><span style=\"color: #7fbfbf; text-decoration-color: #7fbfbf\">           </span><span style=\"color: #000080; text-decoration-color: #000080\">INFO    </span> Executing block <span style=\"color: #008080; text-decoration-color: #008080; font-weight: bold\">8</span>/<span style=\"color: #008080; text-decoration-color: #008080; font-weight: bold\">13</span>: generate_entities <span style=\"font-weight: bold\">(</span>LLMChatBlock<span style=\"font-weight: bold\">)</span>                              <a href=\"file:///Users/shiv/workspace/sdg_hub_add-structured-summary-nb/src/sdg_hub/core/flow/base.py\" target=\"_blank\"><span style=\"color: #7f7f7f; text-decoration-color: #7f7f7f\">base.py</span></a><span style=\"color: #7f7f7f; text-decoration-color: #7f7f7f\">:</span><a href=\"file:///Users/shiv/workspace/sdg_hub_add-structured-summary-nb/src/sdg_hub/core/flow/base.py#610\" target=\"_blank\"><span style=\"color: #7f7f7f; text-decoration-color: #7f7f7f\">610</span></a>\n",
       "</pre>\n"
      ],
      "text/plain": [
       "\u001b[2;36m          \u001b[0m\u001b[2;36m \u001b[0m\u001b[34mINFO    \u001b[0m Executing block \u001b[1;36m8\u001b[0m/\u001b[1;36m13\u001b[0m: generate_entities \u001b[1m(\u001b[0mLLMChatBlock\u001b[1m)\u001b[0m                              \u001b]8;id=756419;file:///Users/shiv/workspace/sdg_hub_add-structured-summary-nb/src/sdg_hub/core/flow/base.py\u001b\\\u001b[2mbase.py\u001b[0m\u001b]8;;\u001b\\\u001b[2m:\u001b[0m\u001b]8;id=787117;file:///Users/shiv/workspace/sdg_hub_add-structured-summary-nb/src/sdg_hub/core/flow/base.py#610\u001b\\\u001b[2m610\u001b[0m\u001b]8;;\u001b\\\n"
      ]
     },
     "metadata": {},
     "output_type": "display_data"
    },
    {
     "data": {
      "text/html": [
       "<pre style=\"white-space:pre;overflow-x:auto;line-height:normal;font-family:Menlo,'DejaVu Sans Mono',consolas,'Courier New',monospace\"><span style=\"color: #000080; text-decoration-color: #000080\">╭─────────────────────────────────────────────── </span><span style=\"color: #000080; text-decoration-color: #000080; font-weight: bold\">generate_entities</span><span style=\"color: #000080; text-decoration-color: #000080\"> ───────────────────────────────────────────────╮</span>\n",
       "<span style=\"color: #000080; text-decoration-color: #000080\">│</span> <span style=\"color: #000080; text-decoration-color: #000080; font-weight: bold\">📊 Processing Input Data</span>                                                                                        <span style=\"color: #000080; text-decoration-color: #000080\">│</span>\n",
       "<span style=\"color: #000080; text-decoration-color: #000080\">│</span> <span style=\"color: #008080; text-decoration-color: #008080\">Block Type: LLMChatBlock</span>                                                                                        <span style=\"color: #000080; text-decoration-color: #000080\">│</span>\n",
       "<span style=\"color: #000080; text-decoration-color: #000080\">│</span> <span style=\"color: #008080; text-decoration-color: #008080; font-weight: bold\">Input Rows: 50</span>                                                                                                  <span style=\"color: #000080; text-decoration-color: #000080\">│</span>\n",
       "<span style=\"color: #000080; text-decoration-color: #000080\">│</span> <span style=\"color: #008080; text-decoration-color: #008080\">Input Columns: 12</span>                                                                                               <span style=\"color: #000080; text-decoration-color: #000080\">│</span>\n",
       "<span style=\"color: #000080; text-decoration-color: #000080\">│</span> <span style=\"color: #c0c0c0; text-decoration-color: #c0c0c0\">Column Names: Headline, Journalists, Date, Link, text, summary_prompt, raw_summary, summary, keywords_prompt, </span>  <span style=\"color: #000080; text-decoration-color: #000080\">│</span>\n",
       "<span style=\"color: #000080; text-decoration-color: #000080\">│</span> <span style=\"color: #c0c0c0; text-decoration-color: #c0c0c0\">raw_keywords, keywords, entities_prompt</span>                                                                         <span style=\"color: #000080; text-decoration-color: #000080\">│</span>\n",
       "<span style=\"color: #000080; text-decoration-color: #000080\">│</span> <span style=\"color: #008000; text-decoration-color: #008000\">Expected Output Columns: raw_entities</span>                                                                           <span style=\"color: #000080; text-decoration-color: #000080\">│</span>\n",
       "<span style=\"color: #000080; text-decoration-color: #000080\">╰─────────────────────────────────────────────────────────────────────────────────────────────────────────────────╯</span>\n",
       "</pre>\n"
      ],
      "text/plain": [
       "\u001b[34m╭─\u001b[0m\u001b[34m──────────────────────────────────────────────\u001b[0m\u001b[34m \u001b[0m\u001b[1;34mgenerate_entities\u001b[0m\u001b[34m \u001b[0m\u001b[34m──────────────────────────────────────────────\u001b[0m\u001b[34m─╮\u001b[0m\n",
       "\u001b[34m│\u001b[0m \u001b[1;34m📊 Processing Input Data\u001b[0m                                                                                        \u001b[34m│\u001b[0m\n",
       "\u001b[34m│\u001b[0m \u001b[36mBlock Type: LLMChatBlock\u001b[0m                                                                                        \u001b[34m│\u001b[0m\n",
       "\u001b[34m│\u001b[0m \u001b[1;36mInput Rows: 50\u001b[0m                                                                                                  \u001b[34m│\u001b[0m\n",
       "\u001b[34m│\u001b[0m \u001b[36mInput Columns: 12\u001b[0m                                                                                               \u001b[34m│\u001b[0m\n",
       "\u001b[34m│\u001b[0m \u001b[37mColumn Names: Headline, Journalists, Date, Link, text, summary_prompt, raw_summary, summary, keywords_prompt, \u001b[0m  \u001b[34m│\u001b[0m\n",
       "\u001b[34m│\u001b[0m \u001b[37mraw_keywords, keywords, entities_prompt\u001b[0m                                                                         \u001b[34m│\u001b[0m\n",
       "\u001b[34m│\u001b[0m \u001b[32mExpected Output Columns: raw_entities\u001b[0m                                                                           \u001b[34m│\u001b[0m\n",
       "\u001b[34m╰─────────────────────────────────────────────────────────────────────────────────────────────────────────────────╯\u001b[0m\n"
      ]
     },
     "metadata": {},
     "output_type": "display_data"
    },
    {
     "data": {
      "text/html": [
       "<pre style=\"white-space:pre;overflow-x:auto;line-height:normal;font-family:Menlo,'DejaVu Sans Mono',consolas,'Courier New',monospace\"><span style=\"color: #7fbfbf; text-decoration-color: #7fbfbf\">           </span><span style=\"color: #000080; text-decoration-color: #000080\">INFO    </span> Starting async generation for <span style=\"color: #008080; text-decoration-color: #008080; font-weight: bold\">50</span> samples                                  <a href=\"file:///Users/shiv/workspace/sdg_hub_add-structured-summary-nb/src/sdg_hub/core/blocks/llm/llm_chat_block.py\" target=\"_blank\"><span style=\"color: #7f7f7f; text-decoration-color: #7f7f7f\">llm_chat_block.py</span></a><span style=\"color: #7f7f7f; text-decoration-color: #7f7f7f\">:</span><a href=\"file:///Users/shiv/workspace/sdg_hub_add-structured-summary-nb/src/sdg_hub/core/blocks/llm/llm_chat_block.py#329\" target=\"_blank\"><span style=\"color: #7f7f7f; text-decoration-color: #7f7f7f\">329</span></a>\n",
       "</pre>\n"
      ],
      "text/plain": [
       "\u001b[2;36m          \u001b[0m\u001b[2;36m \u001b[0m\u001b[34mINFO    \u001b[0m Starting async generation for \u001b[1;36m50\u001b[0m samples                                  \u001b]8;id=645437;file:///Users/shiv/workspace/sdg_hub_add-structured-summary-nb/src/sdg_hub/core/blocks/llm/llm_chat_block.py\u001b\\\u001b[2mllm_chat_block.py\u001b[0m\u001b]8;;\u001b\\\u001b[2m:\u001b[0m\u001b]8;id=490251;file:///Users/shiv/workspace/sdg_hub_add-structured-summary-nb/src/sdg_hub/core/blocks/llm/llm_chat_block.py#329\u001b\\\u001b[2m329\u001b[0m\u001b]8;;\u001b\\\n"
      ]
     },
     "metadata": {},
     "output_type": "display_data"
    },
    {
     "data": {
      "text/html": [
       "<pre style=\"white-space:pre;overflow-x:auto;line-height:normal;font-family:Menlo,'DejaVu Sans Mono',consolas,'Courier New',monospace\"><span style=\"color: #7fbfbf; text-decoration-color: #7fbfbf\">[15:26:09] </span><span style=\"color: #000080; text-decoration-color: #000080\">INFO    </span> Generation completed successfully for <span style=\"color: #008080; text-decoration-color: #008080; font-weight: bold\">50</span> samples                          <a href=\"file:///Users/shiv/workspace/sdg_hub_add-structured-summary-nb/src/sdg_hub/core/blocks/llm/llm_chat_block.py\" target=\"_blank\"><span style=\"color: #7f7f7f; text-decoration-color: #7f7f7f\">llm_chat_block.py</span></a><span style=\"color: #7f7f7f; text-decoration-color: #7f7f7f\">:</span><a href=\"file:///Users/shiv/workspace/sdg_hub_add-structured-summary-nb/src/sdg_hub/core/blocks/llm/llm_chat_block.py#393\" target=\"_blank\"><span style=\"color: #7f7f7f; text-decoration-color: #7f7f7f\">393</span></a>\n",
       "</pre>\n"
      ],
      "text/plain": [
       "\u001b[2;36m[15:26:09]\u001b[0m\u001b[2;36m \u001b[0m\u001b[34mINFO    \u001b[0m Generation completed successfully for \u001b[1;36m50\u001b[0m samples                          \u001b]8;id=917416;file:///Users/shiv/workspace/sdg_hub_add-structured-summary-nb/src/sdg_hub/core/blocks/llm/llm_chat_block.py\u001b\\\u001b[2mllm_chat_block.py\u001b[0m\u001b]8;;\u001b\\\u001b[2m:\u001b[0m\u001b]8;id=933605;file:///Users/shiv/workspace/sdg_hub_add-structured-summary-nb/src/sdg_hub/core/blocks/llm/llm_chat_block.py#393\u001b\\\u001b[2m393\u001b[0m\u001b]8;;\u001b\\\n"
      ]
     },
     "metadata": {},
     "output_type": "display_data"
    },
    {
     "data": {
      "text/html": [
       "<pre style=\"white-space:pre;overflow-x:auto;line-height:normal;font-family:Menlo,'DejaVu Sans Mono',consolas,'Courier New',monospace\"><span style=\"color: #008000; text-decoration-color: #008000\">╭───────────────────────────────────────── </span><span style=\"color: #008000; text-decoration-color: #008000; font-weight: bold\">generate_entities - Complete</span><span style=\"color: #008000; text-decoration-color: #008000\"> ──────────────────────────────────────────╮</span>\n",
       "<span style=\"color: #008000; text-decoration-color: #008000\">│</span> <span style=\"color: #008000; text-decoration-color: #008000; font-weight: bold\">✅ Processing Complete</span>                                                                                          <span style=\"color: #008000; text-decoration-color: #008000\">│</span>\n",
       "<span style=\"color: #008000; text-decoration-color: #008000\">│</span> <span style=\"color: #008080; text-decoration-color: #008080\">Rows: 50 → 50</span>                                                                                                   <span style=\"color: #008000; text-decoration-color: #008000\">│</span>\n",
       "<span style=\"color: #008000; text-decoration-color: #008000\">│</span> <span style=\"color: #008080; text-decoration-color: #008080\">Columns: 12 → 13</span>                                                                                                <span style=\"color: #008000; text-decoration-color: #008000\">│</span>\n",
       "<span style=\"color: #008000; text-decoration-color: #008000\">│</span> <span style=\"color: #008000; text-decoration-color: #008000\">🟢 Added: raw_entities</span>                                                                                          <span style=\"color: #008000; text-decoration-color: #008000\">│</span>\n",
       "<span style=\"color: #008000; text-decoration-color: #008000\">│</span> <span style=\"color: #c0c0c0; text-decoration-color: #c0c0c0\">📋 Final Columns: Date, Headline, Journalists, Link, entities_prompt, keywords, keywords_prompt, raw_entities, </span> <span style=\"color: #008000; text-decoration-color: #008000\">│</span>\n",
       "<span style=\"color: #008000; text-decoration-color: #008000\">│</span> <span style=\"color: #c0c0c0; text-decoration-color: #c0c0c0\">raw_keywords, raw_summary, summary, summary_prompt, text</span>                                                        <span style=\"color: #008000; text-decoration-color: #008000\">│</span>\n",
       "<span style=\"color: #008000; text-decoration-color: #008000\">╰─────────────────────────────────────────────────────────────────────────────────────────────────────────────────╯</span>\n",
       "</pre>\n"
      ],
      "text/plain": [
       "\u001b[32m╭─\u001b[0m\u001b[32m────────────────────────────────────────\u001b[0m\u001b[32m \u001b[0m\u001b[1;32mgenerate_entities - Complete\u001b[0m\u001b[32m \u001b[0m\u001b[32m─────────────────────────────────────────\u001b[0m\u001b[32m─╮\u001b[0m\n",
       "\u001b[32m│\u001b[0m \u001b[1;32m✅ Processing Complete\u001b[0m                                                                                          \u001b[32m│\u001b[0m\n",
       "\u001b[32m│\u001b[0m \u001b[36mRows: 50 → 50\u001b[0m                                                                                                   \u001b[32m│\u001b[0m\n",
       "\u001b[32m│\u001b[0m \u001b[36mColumns: 12 → 13\u001b[0m                                                                                                \u001b[32m│\u001b[0m\n",
       "\u001b[32m│\u001b[0m \u001b[32m🟢 Added: raw_entities\u001b[0m                                                                                          \u001b[32m│\u001b[0m\n",
       "\u001b[32m│\u001b[0m \u001b[37m📋 Final Columns: Date, Headline, Journalists, Link, entities_prompt, keywords, keywords_prompt, raw_entities, \u001b[0m \u001b[32m│\u001b[0m\n",
       "\u001b[32m│\u001b[0m \u001b[37mraw_keywords, raw_summary, summary, summary_prompt, text\u001b[0m                                                        \u001b[32m│\u001b[0m\n",
       "\u001b[32m╰─────────────────────────────────────────────────────────────────────────────────────────────────────────────────╯\u001b[0m\n"
      ]
     },
     "metadata": {},
     "output_type": "display_data"
    },
    {
     "data": {
      "text/html": [
       "<pre style=\"white-space:pre;overflow-x:auto;line-height:normal;font-family:Menlo,'DejaVu Sans Mono',consolas,'Courier New',monospace\"><span style=\"color: #7fbfbf; text-decoration-color: #7fbfbf\">[15:26:09] </span><span style=\"color: #000080; text-decoration-color: #000080\">INFO    </span> Block <span style=\"color: #008000; text-decoration-color: #008000\">'generate_entities'</span> completed successfully: <span style=\"color: #008080; text-decoration-color: #008080; font-weight: bold\">50</span> samples, <span style=\"color: #008080; text-decoration-color: #008080; font-weight: bold\">13</span> columns            <a href=\"file:///Users/shiv/workspace/sdg_hub_add-structured-summary-nb/src/sdg_hub/core/flow/base.py\" target=\"_blank\"><span style=\"color: #7f7f7f; text-decoration-color: #7f7f7f\">base.py</span></a><span style=\"color: #7f7f7f; text-decoration-color: #7f7f7f\">:</span><a href=\"file:///Users/shiv/workspace/sdg_hub_add-structured-summary-nb/src/sdg_hub/core/flow/base.py#646\" target=\"_blank\"><span style=\"color: #7f7f7f; text-decoration-color: #7f7f7f\">646</span></a>\n",
       "</pre>\n"
      ],
      "text/plain": [
       "\u001b[2;36m[15:26:09]\u001b[0m\u001b[2;36m \u001b[0m\u001b[34mINFO    \u001b[0m Block \u001b[32m'generate_entities'\u001b[0m completed successfully: \u001b[1;36m50\u001b[0m samples, \u001b[1;36m13\u001b[0m columns            \u001b]8;id=71249;file:///Users/shiv/workspace/sdg_hub_add-structured-summary-nb/src/sdg_hub/core/flow/base.py\u001b\\\u001b[2mbase.py\u001b[0m\u001b]8;;\u001b\\\u001b[2m:\u001b[0m\u001b]8;id=245414;file:///Users/shiv/workspace/sdg_hub_add-structured-summary-nb/src/sdg_hub/core/flow/base.py#646\u001b\\\u001b[2m646\u001b[0m\u001b]8;;\u001b\\\n"
      ]
     },
     "metadata": {},
     "output_type": "display_data"
    },
    {
     "data": {
      "text/html": [
       "<pre style=\"white-space:pre;overflow-x:auto;line-height:normal;font-family:Menlo,'DejaVu Sans Mono',consolas,'Courier New',monospace\"><span style=\"color: #7fbfbf; text-decoration-color: #7fbfbf\">           </span><span style=\"color: #000080; text-decoration-color: #000080\">INFO    </span> Executing block <span style=\"color: #008080; text-decoration-color: #008080; font-weight: bold\">9</span>/<span style=\"color: #008080; text-decoration-color: #008080; font-weight: bold\">13</span>: parse_entities <span style=\"font-weight: bold\">(</span>TextParserBlock<span style=\"font-weight: bold\">)</span>                              <a href=\"file:///Users/shiv/workspace/sdg_hub_add-structured-summary-nb/src/sdg_hub/core/flow/base.py\" target=\"_blank\"><span style=\"color: #7f7f7f; text-decoration-color: #7f7f7f\">base.py</span></a><span style=\"color: #7f7f7f; text-decoration-color: #7f7f7f\">:</span><a href=\"file:///Users/shiv/workspace/sdg_hub_add-structured-summary-nb/src/sdg_hub/core/flow/base.py#610\" target=\"_blank\"><span style=\"color: #7f7f7f; text-decoration-color: #7f7f7f\">610</span></a>\n",
       "</pre>\n"
      ],
      "text/plain": [
       "\u001b[2;36m          \u001b[0m\u001b[2;36m \u001b[0m\u001b[34mINFO    \u001b[0m Executing block \u001b[1;36m9\u001b[0m/\u001b[1;36m13\u001b[0m: parse_entities \u001b[1m(\u001b[0mTextParserBlock\u001b[1m)\u001b[0m                              \u001b]8;id=769955;file:///Users/shiv/workspace/sdg_hub_add-structured-summary-nb/src/sdg_hub/core/flow/base.py\u001b\\\u001b[2mbase.py\u001b[0m\u001b]8;;\u001b\\\u001b[2m:\u001b[0m\u001b]8;id=61975;file:///Users/shiv/workspace/sdg_hub_add-structured-summary-nb/src/sdg_hub/core/flow/base.py#610\u001b\\\u001b[2m610\u001b[0m\u001b]8;;\u001b\\\n"
      ]
     },
     "metadata": {},
     "output_type": "display_data"
    },
    {
     "data": {
      "text/html": [
       "<pre style=\"white-space:pre;overflow-x:auto;line-height:normal;font-family:Menlo,'DejaVu Sans Mono',consolas,'Courier New',monospace\"><span style=\"color: #000080; text-decoration-color: #000080\">╭──────────────────────────────────────────────── </span><span style=\"color: #000080; text-decoration-color: #000080; font-weight: bold\">parse_entities</span><span style=\"color: #000080; text-decoration-color: #000080\"> ─────────────────────────────────────────────────╮</span>\n",
       "<span style=\"color: #000080; text-decoration-color: #000080\">│</span> <span style=\"color: #000080; text-decoration-color: #000080; font-weight: bold\">📊 Processing Input Data</span>                                                                                        <span style=\"color: #000080; text-decoration-color: #000080\">│</span>\n",
       "<span style=\"color: #000080; text-decoration-color: #000080\">│</span> <span style=\"color: #008080; text-decoration-color: #008080\">Block Type: TextParserBlock</span>                                                                                     <span style=\"color: #000080; text-decoration-color: #000080\">│</span>\n",
       "<span style=\"color: #000080; text-decoration-color: #000080\">│</span> <span style=\"color: #008080; text-decoration-color: #008080; font-weight: bold\">Input Rows: 50</span>                                                                                                  <span style=\"color: #000080; text-decoration-color: #000080\">│</span>\n",
       "<span style=\"color: #000080; text-decoration-color: #000080\">│</span> <span style=\"color: #008080; text-decoration-color: #008080\">Input Columns: 13</span>                                                                                               <span style=\"color: #000080; text-decoration-color: #000080\">│</span>\n",
       "<span style=\"color: #000080; text-decoration-color: #000080\">│</span> <span style=\"color: #c0c0c0; text-decoration-color: #c0c0c0\">Column Names: Headline, Journalists, Date, Link, text, summary_prompt, raw_summary, summary, keywords_prompt, </span>  <span style=\"color: #000080; text-decoration-color: #000080\">│</span>\n",
       "<span style=\"color: #000080; text-decoration-color: #000080\">│</span> <span style=\"color: #c0c0c0; text-decoration-color: #c0c0c0\">raw_keywords, keywords, entities_prompt, raw_entities</span>                                                           <span style=\"color: #000080; text-decoration-color: #000080\">│</span>\n",
       "<span style=\"color: #000080; text-decoration-color: #000080\">│</span> <span style=\"color: #008000; text-decoration-color: #008000\">Expected Output Columns: entities</span>                                                                               <span style=\"color: #000080; text-decoration-color: #000080\">│</span>\n",
       "<span style=\"color: #000080; text-decoration-color: #000080\">╰─────────────────────────────────────────────────────────────────────────────────────────────────────────────────╯</span>\n",
       "</pre>\n"
      ],
      "text/plain": [
       "\u001b[34m╭─\u001b[0m\u001b[34m───────────────────────────────────────────────\u001b[0m\u001b[34m \u001b[0m\u001b[1;34mparse_entities\u001b[0m\u001b[34m \u001b[0m\u001b[34m────────────────────────────────────────────────\u001b[0m\u001b[34m─╮\u001b[0m\n",
       "\u001b[34m│\u001b[0m \u001b[1;34m📊 Processing Input Data\u001b[0m                                                                                        \u001b[34m│\u001b[0m\n",
       "\u001b[34m│\u001b[0m \u001b[36mBlock Type: TextParserBlock\u001b[0m                                                                                     \u001b[34m│\u001b[0m\n",
       "\u001b[34m│\u001b[0m \u001b[1;36mInput Rows: 50\u001b[0m                                                                                                  \u001b[34m│\u001b[0m\n",
       "\u001b[34m│\u001b[0m \u001b[36mInput Columns: 13\u001b[0m                                                                                               \u001b[34m│\u001b[0m\n",
       "\u001b[34m│\u001b[0m \u001b[37mColumn Names: Headline, Journalists, Date, Link, text, summary_prompt, raw_summary, summary, keywords_prompt, \u001b[0m  \u001b[34m│\u001b[0m\n",
       "\u001b[34m│\u001b[0m \u001b[37mraw_keywords, keywords, entities_prompt, raw_entities\u001b[0m                                                           \u001b[34m│\u001b[0m\n",
       "\u001b[34m│\u001b[0m \u001b[32mExpected Output Columns: entities\u001b[0m                                                                               \u001b[34m│\u001b[0m\n",
       "\u001b[34m╰─────────────────────────────────────────────────────────────────────────────────────────────────────────────────╯\u001b[0m\n"
      ]
     },
     "metadata": {},
     "output_type": "display_data"
    },
    {
     "data": {
      "text/html": [
       "<pre style=\"white-space:pre;overflow-x:auto;line-height:normal;font-family:Menlo,'DejaVu Sans Mono',consolas,'Courier New',monospace\"><span style=\"color: #7fbfbf; text-decoration-color: #7fbfbf\">[15:26:09] </span><span style=\"color: #808000; text-decoration-color: #808000\">WARNING </span> Failed to parse any content from input. Raw output length: <span style=\"color: #008080; text-decoration-color: #008080; font-weight: bold\">4</span>, parsing  <a href=\"file:///Users/shiv/workspace/sdg_hub_add-structured-summary-nb/src/sdg_hub/core/blocks/llm/text_parser_block.py\" target=\"_blank\"><span style=\"color: #7f7f7f; text-decoration-color: #7f7f7f\">text_parser_block.py</span></a><span style=\"color: #7f7f7f; text-decoration-color: #7f7f7f\">:</span><a href=\"file:///Users/shiv/workspace/sdg_hub_add-structured-summary-nb/src/sdg_hub/core/blocks/llm/text_parser_block.py#385\" target=\"_blank\"><span style=\"color: #7f7f7f; text-decoration-color: #7f7f7f\">385</span></a>\n",
       "<span style=\"color: #7fbfbf; text-decoration-color: #7fbfbf\">           </span>         method: tags                                                           <span style=\"color: #7f7f7f; text-decoration-color: #7f7f7f\">                        </span>\n",
       "</pre>\n"
      ],
      "text/plain": [
       "\u001b[2;36m[15:26:09]\u001b[0m\u001b[2;36m \u001b[0m\u001b[33mWARNING \u001b[0m Failed to parse any content from input. Raw output length: \u001b[1;36m4\u001b[0m, parsing  \u001b]8;id=714885;file:///Users/shiv/workspace/sdg_hub_add-structured-summary-nb/src/sdg_hub/core/blocks/llm/text_parser_block.py\u001b\\\u001b[2mtext_parser_block.py\u001b[0m\u001b]8;;\u001b\\\u001b[2m:\u001b[0m\u001b]8;id=9843;file:///Users/shiv/workspace/sdg_hub_add-structured-summary-nb/src/sdg_hub/core/blocks/llm/text_parser_block.py#385\u001b\\\u001b[2m385\u001b[0m\u001b]8;;\u001b\\\n",
       "\u001b[2;36m           \u001b[0m         method: tags                                                           \u001b[2m                        \u001b[0m\n"
      ]
     },
     "metadata": {},
     "output_type": "display_data"
    },
    {
     "data": {
      "text/html": [
       "<pre style=\"white-space:pre;overflow-x:auto;line-height:normal;font-family:Menlo,'DejaVu Sans Mono',consolas,'Courier New',monospace\"><span style=\"color: #008000; text-decoration-color: #008000\">╭─────────────────────────────────────────── </span><span style=\"color: #008000; text-decoration-color: #008000; font-weight: bold\">parse_entities - Complete</span><span style=\"color: #008000; text-decoration-color: #008000\"> ───────────────────────────────────────────╮</span>\n",
       "<span style=\"color: #008000; text-decoration-color: #008000\">│</span> <span style=\"color: #008000; text-decoration-color: #008000; font-weight: bold\">✅ Processing Complete</span>                                                                                          <span style=\"color: #008000; text-decoration-color: #008000\">│</span>\n",
       "<span style=\"color: #008000; text-decoration-color: #008000\">│</span> <span style=\"color: #008080; text-decoration-color: #008080\">Rows: 50 → 49</span>                                                                                                   <span style=\"color: #008000; text-decoration-color: #008000\">│</span>\n",
       "<span style=\"color: #008000; text-decoration-color: #008000\">│</span> <span style=\"color: #008080; text-decoration-color: #008080\">Columns: 13 → 14</span>                                                                                                <span style=\"color: #008000; text-decoration-color: #008000\">│</span>\n",
       "<span style=\"color: #008000; text-decoration-color: #008000\">│</span> <span style=\"color: #008000; text-decoration-color: #008000\">🟢 Added: entities</span>                                                                                              <span style=\"color: #008000; text-decoration-color: #008000\">│</span>\n",
       "<span style=\"color: #008000; text-decoration-color: #008000\">│</span> <span style=\"color: #c0c0c0; text-decoration-color: #c0c0c0\">📋 Final Columns: Date, Headline, Journalists, Link, entities, entities_prompt, keywords, keywords_prompt, </span>     <span style=\"color: #008000; text-decoration-color: #008000\">│</span>\n",
       "<span style=\"color: #008000; text-decoration-color: #008000\">│</span> <span style=\"color: #c0c0c0; text-decoration-color: #c0c0c0\">raw_entities, raw_keywords, raw_summary, summary, summary_prompt, text</span>                                          <span style=\"color: #008000; text-decoration-color: #008000\">│</span>\n",
       "<span style=\"color: #008000; text-decoration-color: #008000\">╰─────────────────────────────────────────────────────────────────────────────────────────────────────────────────╯</span>\n",
       "</pre>\n"
      ],
      "text/plain": [
       "\u001b[32m╭─\u001b[0m\u001b[32m──────────────────────────────────────────\u001b[0m\u001b[32m \u001b[0m\u001b[1;32mparse_entities - Complete\u001b[0m\u001b[32m \u001b[0m\u001b[32m──────────────────────────────────────────\u001b[0m\u001b[32m─╮\u001b[0m\n",
       "\u001b[32m│\u001b[0m \u001b[1;32m✅ Processing Complete\u001b[0m                                                                                          \u001b[32m│\u001b[0m\n",
       "\u001b[32m│\u001b[0m \u001b[36mRows: 50 → 49\u001b[0m                                                                                                   \u001b[32m│\u001b[0m\n",
       "\u001b[32m│\u001b[0m \u001b[36mColumns: 13 → 14\u001b[0m                                                                                                \u001b[32m│\u001b[0m\n",
       "\u001b[32m│\u001b[0m \u001b[32m🟢 Added: entities\u001b[0m                                                                                              \u001b[32m│\u001b[0m\n",
       "\u001b[32m│\u001b[0m \u001b[37m📋 Final Columns: Date, Headline, Journalists, Link, entities, entities_prompt, keywords, keywords_prompt, \u001b[0m     \u001b[32m│\u001b[0m\n",
       "\u001b[32m│\u001b[0m \u001b[37mraw_entities, raw_keywords, raw_summary, summary, summary_prompt, text\u001b[0m                                          \u001b[32m│\u001b[0m\n",
       "\u001b[32m╰─────────────────────────────────────────────────────────────────────────────────────────────────────────────────╯\u001b[0m\n"
      ]
     },
     "metadata": {},
     "output_type": "display_data"
    },
    {
     "data": {
      "text/html": [
       "<pre style=\"white-space:pre;overflow-x:auto;line-height:normal;font-family:Menlo,'DejaVu Sans Mono',consolas,'Courier New',monospace\"><span style=\"color: #7fbfbf; text-decoration-color: #7fbfbf\">[15:26:10] </span><span style=\"color: #000080; text-decoration-color: #000080\">INFO    </span> Block <span style=\"color: #008000; text-decoration-color: #008000\">'parse_entities'</span> completed successfully: <span style=\"color: #008080; text-decoration-color: #008080; font-weight: bold\">49</span> samples, <span style=\"color: #008080; text-decoration-color: #008080; font-weight: bold\">14</span> columns               <a href=\"file:///Users/shiv/workspace/sdg_hub_add-structured-summary-nb/src/sdg_hub/core/flow/base.py\" target=\"_blank\"><span style=\"color: #7f7f7f; text-decoration-color: #7f7f7f\">base.py</span></a><span style=\"color: #7f7f7f; text-decoration-color: #7f7f7f\">:</span><a href=\"file:///Users/shiv/workspace/sdg_hub_add-structured-summary-nb/src/sdg_hub/core/flow/base.py#646\" target=\"_blank\"><span style=\"color: #7f7f7f; text-decoration-color: #7f7f7f\">646</span></a>\n",
       "</pre>\n"
      ],
      "text/plain": [
       "\u001b[2;36m[15:26:10]\u001b[0m\u001b[2;36m \u001b[0m\u001b[34mINFO    \u001b[0m Block \u001b[32m'parse_entities'\u001b[0m completed successfully: \u001b[1;36m49\u001b[0m samples, \u001b[1;36m14\u001b[0m columns               \u001b]8;id=412004;file:///Users/shiv/workspace/sdg_hub_add-structured-summary-nb/src/sdg_hub/core/flow/base.py\u001b\\\u001b[2mbase.py\u001b[0m\u001b]8;;\u001b\\\u001b[2m:\u001b[0m\u001b]8;id=676743;file:///Users/shiv/workspace/sdg_hub_add-structured-summary-nb/src/sdg_hub/core/flow/base.py#646\u001b\\\u001b[2m646\u001b[0m\u001b]8;;\u001b\\\n"
      ]
     },
     "metadata": {},
     "output_type": "display_data"
    },
    {
     "data": {
      "text/html": [
       "<pre style=\"white-space:pre;overflow-x:auto;line-height:normal;font-family:Menlo,'DejaVu Sans Mono',consolas,'Courier New',monospace\"><span style=\"color: #7fbfbf; text-decoration-color: #7fbfbf\">           </span><span style=\"color: #000080; text-decoration-color: #000080\">INFO    </span> Executing block <span style=\"color: #008080; text-decoration-color: #008080; font-weight: bold\">10</span>/<span style=\"color: #008080; text-decoration-color: #008080; font-weight: bold\">13</span>: build_sentiment_prompt <span style=\"font-weight: bold\">(</span>PromptBuilderBlock<span style=\"font-weight: bold\">)</span>                  <a href=\"file:///Users/shiv/workspace/sdg_hub_add-structured-summary-nb/src/sdg_hub/core/flow/base.py\" target=\"_blank\"><span style=\"color: #7f7f7f; text-decoration-color: #7f7f7f\">base.py</span></a><span style=\"color: #7f7f7f; text-decoration-color: #7f7f7f\">:</span><a href=\"file:///Users/shiv/workspace/sdg_hub_add-structured-summary-nb/src/sdg_hub/core/flow/base.py#610\" target=\"_blank\"><span style=\"color: #7f7f7f; text-decoration-color: #7f7f7f\">610</span></a>\n",
       "</pre>\n"
      ],
      "text/plain": [
       "\u001b[2;36m          \u001b[0m\u001b[2;36m \u001b[0m\u001b[34mINFO    \u001b[0m Executing block \u001b[1;36m10\u001b[0m/\u001b[1;36m13\u001b[0m: build_sentiment_prompt \u001b[1m(\u001b[0mPromptBuilderBlock\u001b[1m)\u001b[0m                  \u001b]8;id=546724;file:///Users/shiv/workspace/sdg_hub_add-structured-summary-nb/src/sdg_hub/core/flow/base.py\u001b\\\u001b[2mbase.py\u001b[0m\u001b]8;;\u001b\\\u001b[2m:\u001b[0m\u001b]8;id=835200;file:///Users/shiv/workspace/sdg_hub_add-structured-summary-nb/src/sdg_hub/core/flow/base.py#610\u001b\\\u001b[2m610\u001b[0m\u001b]8;;\u001b\\\n"
      ]
     },
     "metadata": {},
     "output_type": "display_data"
    },
    {
     "data": {
      "text/html": [
       "<pre style=\"white-space:pre;overflow-x:auto;line-height:normal;font-family:Menlo,'DejaVu Sans Mono',consolas,'Courier New',monospace\"><span style=\"color: #000080; text-decoration-color: #000080\">╭──────────────────────────────────────────── </span><span style=\"color: #000080; text-decoration-color: #000080; font-weight: bold\">build_sentiment_prompt</span><span style=\"color: #000080; text-decoration-color: #000080\"> ─────────────────────────────────────────────╮</span>\n",
       "<span style=\"color: #000080; text-decoration-color: #000080\">│</span> <span style=\"color: #000080; text-decoration-color: #000080; font-weight: bold\">📊 Processing Input Data</span>                                                                                        <span style=\"color: #000080; text-decoration-color: #000080\">│</span>\n",
       "<span style=\"color: #000080; text-decoration-color: #000080\">│</span> <span style=\"color: #008080; text-decoration-color: #008080\">Block Type: PromptBuilderBlock</span>                                                                                  <span style=\"color: #000080; text-decoration-color: #000080\">│</span>\n",
       "<span style=\"color: #000080; text-decoration-color: #000080\">│</span> <span style=\"color: #008080; text-decoration-color: #008080; font-weight: bold\">Input Rows: 49</span>                                                                                                  <span style=\"color: #000080; text-decoration-color: #000080\">│</span>\n",
       "<span style=\"color: #000080; text-decoration-color: #000080\">│</span> <span style=\"color: #008080; text-decoration-color: #008080\">Input Columns: 14</span>                                                                                               <span style=\"color: #000080; text-decoration-color: #000080\">│</span>\n",
       "<span style=\"color: #000080; text-decoration-color: #000080\">│</span> <span style=\"color: #c0c0c0; text-decoration-color: #c0c0c0\">Column Names: Headline, Journalists, Date, Link, text, summary_prompt, raw_summary, summary, keywords_prompt, </span>  <span style=\"color: #000080; text-decoration-color: #000080\">│</span>\n",
       "<span style=\"color: #000080; text-decoration-color: #000080\">│</span> <span style=\"color: #c0c0c0; text-decoration-color: #c0c0c0\">raw_keywords, keywords, entities_prompt, raw_entities, entities</span>                                                 <span style=\"color: #000080; text-decoration-color: #000080\">│</span>\n",
       "<span style=\"color: #000080; text-decoration-color: #000080\">│</span> <span style=\"color: #008000; text-decoration-color: #008000\">Expected Output Columns: sentiment_prompt</span>                                                                       <span style=\"color: #000080; text-decoration-color: #000080\">│</span>\n",
       "<span style=\"color: #000080; text-decoration-color: #000080\">╰─────────────────────────────────────────────────────────────────────────────────────────────────────────────────╯</span>\n",
       "</pre>\n"
      ],
      "text/plain": [
       "\u001b[34m╭─\u001b[0m\u001b[34m───────────────────────────────────────────\u001b[0m\u001b[34m \u001b[0m\u001b[1;34mbuild_sentiment_prompt\u001b[0m\u001b[34m \u001b[0m\u001b[34m────────────────────────────────────────────\u001b[0m\u001b[34m─╮\u001b[0m\n",
       "\u001b[34m│\u001b[0m \u001b[1;34m📊 Processing Input Data\u001b[0m                                                                                        \u001b[34m│\u001b[0m\n",
       "\u001b[34m│\u001b[0m \u001b[36mBlock Type: PromptBuilderBlock\u001b[0m                                                                                  \u001b[34m│\u001b[0m\n",
       "\u001b[34m│\u001b[0m \u001b[1;36mInput Rows: 49\u001b[0m                                                                                                  \u001b[34m│\u001b[0m\n",
       "\u001b[34m│\u001b[0m \u001b[36mInput Columns: 14\u001b[0m                                                                                               \u001b[34m│\u001b[0m\n",
       "\u001b[34m│\u001b[0m \u001b[37mColumn Names: Headline, Journalists, Date, Link, text, summary_prompt, raw_summary, summary, keywords_prompt, \u001b[0m  \u001b[34m│\u001b[0m\n",
       "\u001b[34m│\u001b[0m \u001b[37mraw_keywords, keywords, entities_prompt, raw_entities, entities\u001b[0m                                                 \u001b[34m│\u001b[0m\n",
       "\u001b[34m│\u001b[0m \u001b[32mExpected Output Columns: sentiment_prompt\u001b[0m                                                                       \u001b[34m│\u001b[0m\n",
       "\u001b[34m╰─────────────────────────────────────────────────────────────────────────────────────────────────────────────────╯\u001b[0m\n"
      ]
     },
     "metadata": {},
     "output_type": "display_data"
    },
    {
     "name": "stderr",
     "output_type": "stream",
     "text": [
      "Map: 100%|██████████| 49/49 [00:00<00:00, 5589.67 examples/s]\n"
     ]
    },
    {
     "data": {
      "text/html": [
       "<pre style=\"white-space:pre;overflow-x:auto;line-height:normal;font-family:Menlo,'DejaVu Sans Mono',consolas,'Courier New',monospace\"><span style=\"color: #008000; text-decoration-color: #008000\">╭─────────────────────────────────────── </span><span style=\"color: #008000; text-decoration-color: #008000; font-weight: bold\">build_sentiment_prompt - Complete</span><span style=\"color: #008000; text-decoration-color: #008000\"> ───────────────────────────────────────╮</span>\n",
       "<span style=\"color: #008000; text-decoration-color: #008000\">│</span> <span style=\"color: #008000; text-decoration-color: #008000; font-weight: bold\">✅ Processing Complete</span>                                                                                          <span style=\"color: #008000; text-decoration-color: #008000\">│</span>\n",
       "<span style=\"color: #008000; text-decoration-color: #008000\">│</span> <span style=\"color: #008080; text-decoration-color: #008080\">Rows: 49 → 49</span>                                                                                                   <span style=\"color: #008000; text-decoration-color: #008000\">│</span>\n",
       "<span style=\"color: #008000; text-decoration-color: #008000\">│</span> <span style=\"color: #008080; text-decoration-color: #008080\">Columns: 14 → 15</span>                                                                                                <span style=\"color: #008000; text-decoration-color: #008000\">│</span>\n",
       "<span style=\"color: #008000; text-decoration-color: #008000\">│</span> <span style=\"color: #008000; text-decoration-color: #008000\">🟢 Added: sentiment_prompt</span>                                                                                      <span style=\"color: #008000; text-decoration-color: #008000\">│</span>\n",
       "<span style=\"color: #008000; text-decoration-color: #008000\">│</span> <span style=\"color: #c0c0c0; text-decoration-color: #c0c0c0\">📋 Final Columns: Date, Headline, Journalists, Link, entities, entities_prompt, keywords, keywords_prompt, </span>     <span style=\"color: #008000; text-decoration-color: #008000\">│</span>\n",
       "<span style=\"color: #008000; text-decoration-color: #008000\">│</span> <span style=\"color: #c0c0c0; text-decoration-color: #c0c0c0\">raw_entities, raw_keywords, raw_summary, sentiment_prompt, summary, summary_prompt, text</span>                        <span style=\"color: #008000; text-decoration-color: #008000\">│</span>\n",
       "<span style=\"color: #008000; text-decoration-color: #008000\">╰─────────────────────────────────────────────────────────────────────────────────────────────────────────────────╯</span>\n",
       "</pre>\n"
      ],
      "text/plain": [
       "\u001b[32m╭─\u001b[0m\u001b[32m──────────────────────────────────────\u001b[0m\u001b[32m \u001b[0m\u001b[1;32mbuild_sentiment_prompt - Complete\u001b[0m\u001b[32m \u001b[0m\u001b[32m──────────────────────────────────────\u001b[0m\u001b[32m─╮\u001b[0m\n",
       "\u001b[32m│\u001b[0m \u001b[1;32m✅ Processing Complete\u001b[0m                                                                                          \u001b[32m│\u001b[0m\n",
       "\u001b[32m│\u001b[0m \u001b[36mRows: 49 → 49\u001b[0m                                                                                                   \u001b[32m│\u001b[0m\n",
       "\u001b[32m│\u001b[0m \u001b[36mColumns: 14 → 15\u001b[0m                                                                                                \u001b[32m│\u001b[0m\n",
       "\u001b[32m│\u001b[0m \u001b[32m🟢 Added: sentiment_prompt\u001b[0m                                                                                      \u001b[32m│\u001b[0m\n",
       "\u001b[32m│\u001b[0m \u001b[37m📋 Final Columns: Date, Headline, Journalists, Link, entities, entities_prompt, keywords, keywords_prompt, \u001b[0m     \u001b[32m│\u001b[0m\n",
       "\u001b[32m│\u001b[0m \u001b[37mraw_entities, raw_keywords, raw_summary, sentiment_prompt, summary, summary_prompt, text\u001b[0m                        \u001b[32m│\u001b[0m\n",
       "\u001b[32m╰─────────────────────────────────────────────────────────────────────────────────────────────────────────────────╯\u001b[0m\n"
      ]
     },
     "metadata": {},
     "output_type": "display_data"
    },
    {
     "data": {
      "text/html": [
       "<pre style=\"white-space:pre;overflow-x:auto;line-height:normal;font-family:Menlo,'DejaVu Sans Mono',consolas,'Courier New',monospace\"><span style=\"color: #7fbfbf; text-decoration-color: #7fbfbf\">           </span><span style=\"color: #000080; text-decoration-color: #000080\">INFO    </span> Block <span style=\"color: #008000; text-decoration-color: #008000\">'build_sentiment_prompt'</span> completed successfully: <span style=\"color: #008080; text-decoration-color: #008080; font-weight: bold\">49</span> samples, <span style=\"color: #008080; text-decoration-color: #008080; font-weight: bold\">15</span> columns       <a href=\"file:///Users/shiv/workspace/sdg_hub_add-structured-summary-nb/src/sdg_hub/core/flow/base.py\" target=\"_blank\"><span style=\"color: #7f7f7f; text-decoration-color: #7f7f7f\">base.py</span></a><span style=\"color: #7f7f7f; text-decoration-color: #7f7f7f\">:</span><a href=\"file:///Users/shiv/workspace/sdg_hub_add-structured-summary-nb/src/sdg_hub/core/flow/base.py#646\" target=\"_blank\"><span style=\"color: #7f7f7f; text-decoration-color: #7f7f7f\">646</span></a>\n",
       "</pre>\n"
      ],
      "text/plain": [
       "\u001b[2;36m          \u001b[0m\u001b[2;36m \u001b[0m\u001b[34mINFO    \u001b[0m Block \u001b[32m'build_sentiment_prompt'\u001b[0m completed successfully: \u001b[1;36m49\u001b[0m samples, \u001b[1;36m15\u001b[0m columns       \u001b]8;id=722390;file:///Users/shiv/workspace/sdg_hub_add-structured-summary-nb/src/sdg_hub/core/flow/base.py\u001b\\\u001b[2mbase.py\u001b[0m\u001b]8;;\u001b\\\u001b[2m:\u001b[0m\u001b]8;id=267666;file:///Users/shiv/workspace/sdg_hub_add-structured-summary-nb/src/sdg_hub/core/flow/base.py#646\u001b\\\u001b[2m646\u001b[0m\u001b]8;;\u001b\\\n"
      ]
     },
     "metadata": {},
     "output_type": "display_data"
    },
    {
     "data": {
      "text/html": [
       "<pre style=\"white-space:pre;overflow-x:auto;line-height:normal;font-family:Menlo,'DejaVu Sans Mono',consolas,'Courier New',monospace\"><span style=\"color: #7fbfbf; text-decoration-color: #7fbfbf\">           </span><span style=\"color: #000080; text-decoration-color: #000080\">INFO    </span> Executing block <span style=\"color: #008080; text-decoration-color: #008080; font-weight: bold\">11</span>/<span style=\"color: #008080; text-decoration-color: #008080; font-weight: bold\">13</span>: generate_sentiment <span style=\"font-weight: bold\">(</span>LLMChatBlock<span style=\"font-weight: bold\">)</span>                            <a href=\"file:///Users/shiv/workspace/sdg_hub_add-structured-summary-nb/src/sdg_hub/core/flow/base.py\" target=\"_blank\"><span style=\"color: #7f7f7f; text-decoration-color: #7f7f7f\">base.py</span></a><span style=\"color: #7f7f7f; text-decoration-color: #7f7f7f\">:</span><a href=\"file:///Users/shiv/workspace/sdg_hub_add-structured-summary-nb/src/sdg_hub/core/flow/base.py#610\" target=\"_blank\"><span style=\"color: #7f7f7f; text-decoration-color: #7f7f7f\">610</span></a>\n",
       "</pre>\n"
      ],
      "text/plain": [
       "\u001b[2;36m          \u001b[0m\u001b[2;36m \u001b[0m\u001b[34mINFO    \u001b[0m Executing block \u001b[1;36m11\u001b[0m/\u001b[1;36m13\u001b[0m: generate_sentiment \u001b[1m(\u001b[0mLLMChatBlock\u001b[1m)\u001b[0m                            \u001b]8;id=838468;file:///Users/shiv/workspace/sdg_hub_add-structured-summary-nb/src/sdg_hub/core/flow/base.py\u001b\\\u001b[2mbase.py\u001b[0m\u001b]8;;\u001b\\\u001b[2m:\u001b[0m\u001b]8;id=87215;file:///Users/shiv/workspace/sdg_hub_add-structured-summary-nb/src/sdg_hub/core/flow/base.py#610\u001b\\\u001b[2m610\u001b[0m\u001b]8;;\u001b\\\n"
      ]
     },
     "metadata": {},
     "output_type": "display_data"
    },
    {
     "data": {
      "text/html": [
       "<pre style=\"white-space:pre;overflow-x:auto;line-height:normal;font-family:Menlo,'DejaVu Sans Mono',consolas,'Courier New',monospace\"><span style=\"color: #000080; text-decoration-color: #000080\">╭────────────────────────────────────────────── </span><span style=\"color: #000080; text-decoration-color: #000080; font-weight: bold\">generate_sentiment</span><span style=\"color: #000080; text-decoration-color: #000080\"> ───────────────────────────────────────────────╮</span>\n",
       "<span style=\"color: #000080; text-decoration-color: #000080\">│</span> <span style=\"color: #000080; text-decoration-color: #000080; font-weight: bold\">📊 Processing Input Data</span>                                                                                        <span style=\"color: #000080; text-decoration-color: #000080\">│</span>\n",
       "<span style=\"color: #000080; text-decoration-color: #000080\">│</span> <span style=\"color: #008080; text-decoration-color: #008080\">Block Type: LLMChatBlock</span>                                                                                        <span style=\"color: #000080; text-decoration-color: #000080\">│</span>\n",
       "<span style=\"color: #000080; text-decoration-color: #000080\">│</span> <span style=\"color: #008080; text-decoration-color: #008080; font-weight: bold\">Input Rows: 49</span>                                                                                                  <span style=\"color: #000080; text-decoration-color: #000080\">│</span>\n",
       "<span style=\"color: #000080; text-decoration-color: #000080\">│</span> <span style=\"color: #008080; text-decoration-color: #008080\">Input Columns: 15</span>                                                                                               <span style=\"color: #000080; text-decoration-color: #000080\">│</span>\n",
       "<span style=\"color: #000080; text-decoration-color: #000080\">│</span> <span style=\"color: #c0c0c0; text-decoration-color: #c0c0c0\">Column Names: Headline, Journalists, Date, Link, text, summary_prompt, raw_summary, summary, keywords_prompt, </span>  <span style=\"color: #000080; text-decoration-color: #000080\">│</span>\n",
       "<span style=\"color: #000080; text-decoration-color: #000080\">│</span> <span style=\"color: #c0c0c0; text-decoration-color: #c0c0c0\">raw_keywords, keywords, entities_prompt, raw_entities, entities, sentiment_prompt</span>                               <span style=\"color: #000080; text-decoration-color: #000080\">│</span>\n",
       "<span style=\"color: #000080; text-decoration-color: #000080\">│</span> <span style=\"color: #008000; text-decoration-color: #008000\">Expected Output Columns: raw_sentiment</span>                                                                          <span style=\"color: #000080; text-decoration-color: #000080\">│</span>\n",
       "<span style=\"color: #000080; text-decoration-color: #000080\">╰─────────────────────────────────────────────────────────────────────────────────────────────────────────────────╯</span>\n",
       "</pre>\n"
      ],
      "text/plain": [
       "\u001b[34m╭─\u001b[0m\u001b[34m─────────────────────────────────────────────\u001b[0m\u001b[34m \u001b[0m\u001b[1;34mgenerate_sentiment\u001b[0m\u001b[34m \u001b[0m\u001b[34m──────────────────────────────────────────────\u001b[0m\u001b[34m─╮\u001b[0m\n",
       "\u001b[34m│\u001b[0m \u001b[1;34m📊 Processing Input Data\u001b[0m                                                                                        \u001b[34m│\u001b[0m\n",
       "\u001b[34m│\u001b[0m \u001b[36mBlock Type: LLMChatBlock\u001b[0m                                                                                        \u001b[34m│\u001b[0m\n",
       "\u001b[34m│\u001b[0m \u001b[1;36mInput Rows: 49\u001b[0m                                                                                                  \u001b[34m│\u001b[0m\n",
       "\u001b[34m│\u001b[0m \u001b[36mInput Columns: 15\u001b[0m                                                                                               \u001b[34m│\u001b[0m\n",
       "\u001b[34m│\u001b[0m \u001b[37mColumn Names: Headline, Journalists, Date, Link, text, summary_prompt, raw_summary, summary, keywords_prompt, \u001b[0m  \u001b[34m│\u001b[0m\n",
       "\u001b[34m│\u001b[0m \u001b[37mraw_keywords, keywords, entities_prompt, raw_entities, entities, sentiment_prompt\u001b[0m                               \u001b[34m│\u001b[0m\n",
       "\u001b[34m│\u001b[0m \u001b[32mExpected Output Columns: raw_sentiment\u001b[0m                                                                          \u001b[34m│\u001b[0m\n",
       "\u001b[34m╰─────────────────────────────────────────────────────────────────────────────────────────────────────────────────╯\u001b[0m\n"
      ]
     },
     "metadata": {},
     "output_type": "display_data"
    },
    {
     "data": {
      "text/html": [
       "<pre style=\"white-space:pre;overflow-x:auto;line-height:normal;font-family:Menlo,'DejaVu Sans Mono',consolas,'Courier New',monospace\"><span style=\"color: #7fbfbf; text-decoration-color: #7fbfbf\">[15:26:10] </span><span style=\"color: #000080; text-decoration-color: #000080\">INFO    </span> Starting async generation for <span style=\"color: #008080; text-decoration-color: #008080; font-weight: bold\">49</span> samples                                  <a href=\"file:///Users/shiv/workspace/sdg_hub_add-structured-summary-nb/src/sdg_hub/core/blocks/llm/llm_chat_block.py\" target=\"_blank\"><span style=\"color: #7f7f7f; text-decoration-color: #7f7f7f\">llm_chat_block.py</span></a><span style=\"color: #7f7f7f; text-decoration-color: #7f7f7f\">:</span><a href=\"file:///Users/shiv/workspace/sdg_hub_add-structured-summary-nb/src/sdg_hub/core/blocks/llm/llm_chat_block.py#329\" target=\"_blank\"><span style=\"color: #7f7f7f; text-decoration-color: #7f7f7f\">329</span></a>\n",
       "</pre>\n"
      ],
      "text/plain": [
       "\u001b[2;36m[15:26:10]\u001b[0m\u001b[2;36m \u001b[0m\u001b[34mINFO    \u001b[0m Starting async generation for \u001b[1;36m49\u001b[0m samples                                  \u001b]8;id=150109;file:///Users/shiv/workspace/sdg_hub_add-structured-summary-nb/src/sdg_hub/core/blocks/llm/llm_chat_block.py\u001b\\\u001b[2mllm_chat_block.py\u001b[0m\u001b]8;;\u001b\\\u001b[2m:\u001b[0m\u001b]8;id=121959;file:///Users/shiv/workspace/sdg_hub_add-structured-summary-nb/src/sdg_hub/core/blocks/llm/llm_chat_block.py#329\u001b\\\u001b[2m329\u001b[0m\u001b]8;;\u001b\\\n"
      ]
     },
     "metadata": {},
     "output_type": "display_data"
    },
    {
     "data": {
      "text/html": [
       "<pre style=\"white-space:pre;overflow-x:auto;line-height:normal;font-family:Menlo,'DejaVu Sans Mono',consolas,'Courier New',monospace\"><span style=\"color: #7fbfbf; text-decoration-color: #7fbfbf\">[15:26:15] </span><span style=\"color: #000080; text-decoration-color: #000080\">INFO    </span> Generation completed successfully for <span style=\"color: #008080; text-decoration-color: #008080; font-weight: bold\">49</span> samples                          <a href=\"file:///Users/shiv/workspace/sdg_hub_add-structured-summary-nb/src/sdg_hub/core/blocks/llm/llm_chat_block.py\" target=\"_blank\"><span style=\"color: #7f7f7f; text-decoration-color: #7f7f7f\">llm_chat_block.py</span></a><span style=\"color: #7f7f7f; text-decoration-color: #7f7f7f\">:</span><a href=\"file:///Users/shiv/workspace/sdg_hub_add-structured-summary-nb/src/sdg_hub/core/blocks/llm/llm_chat_block.py#393\" target=\"_blank\"><span style=\"color: #7f7f7f; text-decoration-color: #7f7f7f\">393</span></a>\n",
       "</pre>\n"
      ],
      "text/plain": [
       "\u001b[2;36m[15:26:15]\u001b[0m\u001b[2;36m \u001b[0m\u001b[34mINFO    \u001b[0m Generation completed successfully for \u001b[1;36m49\u001b[0m samples                          \u001b]8;id=718368;file:///Users/shiv/workspace/sdg_hub_add-structured-summary-nb/src/sdg_hub/core/blocks/llm/llm_chat_block.py\u001b\\\u001b[2mllm_chat_block.py\u001b[0m\u001b]8;;\u001b\\\u001b[2m:\u001b[0m\u001b]8;id=884099;file:///Users/shiv/workspace/sdg_hub_add-structured-summary-nb/src/sdg_hub/core/blocks/llm/llm_chat_block.py#393\u001b\\\u001b[2m393\u001b[0m\u001b]8;;\u001b\\\n"
      ]
     },
     "metadata": {},
     "output_type": "display_data"
    },
    {
     "data": {
      "text/html": [
       "<pre style=\"white-space:pre;overflow-x:auto;line-height:normal;font-family:Menlo,'DejaVu Sans Mono',consolas,'Courier New',monospace\"><span style=\"color: #008000; text-decoration-color: #008000\">╭───────────────────────────────────────── </span><span style=\"color: #008000; text-decoration-color: #008000; font-weight: bold\">generate_sentiment - Complete</span><span style=\"color: #008000; text-decoration-color: #008000\"> ─────────────────────────────────────────╮</span>\n",
       "<span style=\"color: #008000; text-decoration-color: #008000\">│</span> <span style=\"color: #008000; text-decoration-color: #008000; font-weight: bold\">✅ Processing Complete</span>                                                                                          <span style=\"color: #008000; text-decoration-color: #008000\">│</span>\n",
       "<span style=\"color: #008000; text-decoration-color: #008000\">│</span> <span style=\"color: #008080; text-decoration-color: #008080\">Rows: 49 → 49</span>                                                                                                   <span style=\"color: #008000; text-decoration-color: #008000\">│</span>\n",
       "<span style=\"color: #008000; text-decoration-color: #008000\">│</span> <span style=\"color: #008080; text-decoration-color: #008080\">Columns: 15 → 16</span>                                                                                                <span style=\"color: #008000; text-decoration-color: #008000\">│</span>\n",
       "<span style=\"color: #008000; text-decoration-color: #008000\">│</span> <span style=\"color: #008000; text-decoration-color: #008000\">🟢 Added: raw_sentiment</span>                                                                                         <span style=\"color: #008000; text-decoration-color: #008000\">│</span>\n",
       "<span style=\"color: #008000; text-decoration-color: #008000\">│</span> <span style=\"color: #c0c0c0; text-decoration-color: #c0c0c0\">📋 Final Columns: Date, Headline, Journalists, Link, entities, entities_prompt, keywords, keywords_prompt, </span>     <span style=\"color: #008000; text-decoration-color: #008000\">│</span>\n",
       "<span style=\"color: #008000; text-decoration-color: #008000\">│</span> <span style=\"color: #c0c0c0; text-decoration-color: #c0c0c0\">raw_entities, raw_keywords, raw_sentiment, raw_summary, sentiment_prompt, summary, summary_prompt, text</span>         <span style=\"color: #008000; text-decoration-color: #008000\">│</span>\n",
       "<span style=\"color: #008000; text-decoration-color: #008000\">╰─────────────────────────────────────────────────────────────────────────────────────────────────────────────────╯</span>\n",
       "</pre>\n"
      ],
      "text/plain": [
       "\u001b[32m╭─\u001b[0m\u001b[32m────────────────────────────────────────\u001b[0m\u001b[32m \u001b[0m\u001b[1;32mgenerate_sentiment - Complete\u001b[0m\u001b[32m \u001b[0m\u001b[32m────────────────────────────────────────\u001b[0m\u001b[32m─╮\u001b[0m\n",
       "\u001b[32m│\u001b[0m \u001b[1;32m✅ Processing Complete\u001b[0m                                                                                          \u001b[32m│\u001b[0m\n",
       "\u001b[32m│\u001b[0m \u001b[36mRows: 49 → 49\u001b[0m                                                                                                   \u001b[32m│\u001b[0m\n",
       "\u001b[32m│\u001b[0m \u001b[36mColumns: 15 → 16\u001b[0m                                                                                                \u001b[32m│\u001b[0m\n",
       "\u001b[32m│\u001b[0m \u001b[32m🟢 Added: raw_sentiment\u001b[0m                                                                                         \u001b[32m│\u001b[0m\n",
       "\u001b[32m│\u001b[0m \u001b[37m📋 Final Columns: Date, Headline, Journalists, Link, entities, entities_prompt, keywords, keywords_prompt, \u001b[0m     \u001b[32m│\u001b[0m\n",
       "\u001b[32m│\u001b[0m \u001b[37mraw_entities, raw_keywords, raw_sentiment, raw_summary, sentiment_prompt, summary, summary_prompt, text\u001b[0m         \u001b[32m│\u001b[0m\n",
       "\u001b[32m╰─────────────────────────────────────────────────────────────────────────────────────────────────────────────────╯\u001b[0m\n"
      ]
     },
     "metadata": {},
     "output_type": "display_data"
    },
    {
     "data": {
      "text/html": [
       "<pre style=\"white-space:pre;overflow-x:auto;line-height:normal;font-family:Menlo,'DejaVu Sans Mono',consolas,'Courier New',monospace\"><span style=\"color: #7fbfbf; text-decoration-color: #7fbfbf\">[15:26:15] </span><span style=\"color: #000080; text-decoration-color: #000080\">INFO    </span> Block <span style=\"color: #008000; text-decoration-color: #008000\">'generate_sentiment'</span> completed successfully: <span style=\"color: #008080; text-decoration-color: #008080; font-weight: bold\">49</span> samples, <span style=\"color: #008080; text-decoration-color: #008080; font-weight: bold\">16</span> columns           <a href=\"file:///Users/shiv/workspace/sdg_hub_add-structured-summary-nb/src/sdg_hub/core/flow/base.py\" target=\"_blank\"><span style=\"color: #7f7f7f; text-decoration-color: #7f7f7f\">base.py</span></a><span style=\"color: #7f7f7f; text-decoration-color: #7f7f7f\">:</span><a href=\"file:///Users/shiv/workspace/sdg_hub_add-structured-summary-nb/src/sdg_hub/core/flow/base.py#646\" target=\"_blank\"><span style=\"color: #7f7f7f; text-decoration-color: #7f7f7f\">646</span></a>\n",
       "</pre>\n"
      ],
      "text/plain": [
       "\u001b[2;36m[15:26:15]\u001b[0m\u001b[2;36m \u001b[0m\u001b[34mINFO    \u001b[0m Block \u001b[32m'generate_sentiment'\u001b[0m completed successfully: \u001b[1;36m49\u001b[0m samples, \u001b[1;36m16\u001b[0m columns           \u001b]8;id=850780;file:///Users/shiv/workspace/sdg_hub_add-structured-summary-nb/src/sdg_hub/core/flow/base.py\u001b\\\u001b[2mbase.py\u001b[0m\u001b]8;;\u001b\\\u001b[2m:\u001b[0m\u001b]8;id=424203;file:///Users/shiv/workspace/sdg_hub_add-structured-summary-nb/src/sdg_hub/core/flow/base.py#646\u001b\\\u001b[2m646\u001b[0m\u001b]8;;\u001b\\\n"
      ]
     },
     "metadata": {},
     "output_type": "display_data"
    },
    {
     "data": {
      "text/html": [
       "<pre style=\"white-space:pre;overflow-x:auto;line-height:normal;font-family:Menlo,'DejaVu Sans Mono',consolas,'Courier New',monospace\"><span style=\"color: #7fbfbf; text-decoration-color: #7fbfbf\">           </span><span style=\"color: #000080; text-decoration-color: #000080\">INFO    </span> Executing block <span style=\"color: #008080; text-decoration-color: #008080; font-weight: bold\">12</span>/<span style=\"color: #008080; text-decoration-color: #008080; font-weight: bold\">13</span>: parse_sentiment <span style=\"font-weight: bold\">(</span>TextParserBlock<span style=\"font-weight: bold\">)</span>                            <a href=\"file:///Users/shiv/workspace/sdg_hub_add-structured-summary-nb/src/sdg_hub/core/flow/base.py\" target=\"_blank\"><span style=\"color: #7f7f7f; text-decoration-color: #7f7f7f\">base.py</span></a><span style=\"color: #7f7f7f; text-decoration-color: #7f7f7f\">:</span><a href=\"file:///Users/shiv/workspace/sdg_hub_add-structured-summary-nb/src/sdg_hub/core/flow/base.py#610\" target=\"_blank\"><span style=\"color: #7f7f7f; text-decoration-color: #7f7f7f\">610</span></a>\n",
       "</pre>\n"
      ],
      "text/plain": [
       "\u001b[2;36m          \u001b[0m\u001b[2;36m \u001b[0m\u001b[34mINFO    \u001b[0m Executing block \u001b[1;36m12\u001b[0m/\u001b[1;36m13\u001b[0m: parse_sentiment \u001b[1m(\u001b[0mTextParserBlock\u001b[1m)\u001b[0m                            \u001b]8;id=406862;file:///Users/shiv/workspace/sdg_hub_add-structured-summary-nb/src/sdg_hub/core/flow/base.py\u001b\\\u001b[2mbase.py\u001b[0m\u001b]8;;\u001b\\\u001b[2m:\u001b[0m\u001b]8;id=17413;file:///Users/shiv/workspace/sdg_hub_add-structured-summary-nb/src/sdg_hub/core/flow/base.py#610\u001b\\\u001b[2m610\u001b[0m\u001b]8;;\u001b\\\n"
      ]
     },
     "metadata": {},
     "output_type": "display_data"
    },
    {
     "data": {
      "text/html": [
       "<pre style=\"white-space:pre;overflow-x:auto;line-height:normal;font-family:Menlo,'DejaVu Sans Mono',consolas,'Courier New',monospace\"><span style=\"color: #000080; text-decoration-color: #000080\">╭──────────────────────────────────────────────── </span><span style=\"color: #000080; text-decoration-color: #000080; font-weight: bold\">parse_sentiment</span><span style=\"color: #000080; text-decoration-color: #000080\"> ────────────────────────────────────────────────╮</span>\n",
       "<span style=\"color: #000080; text-decoration-color: #000080\">│</span> <span style=\"color: #000080; text-decoration-color: #000080; font-weight: bold\">📊 Processing Input Data</span>                                                                                        <span style=\"color: #000080; text-decoration-color: #000080\">│</span>\n",
       "<span style=\"color: #000080; text-decoration-color: #000080\">│</span> <span style=\"color: #008080; text-decoration-color: #008080\">Block Type: TextParserBlock</span>                                                                                     <span style=\"color: #000080; text-decoration-color: #000080\">│</span>\n",
       "<span style=\"color: #000080; text-decoration-color: #000080\">│</span> <span style=\"color: #008080; text-decoration-color: #008080; font-weight: bold\">Input Rows: 49</span>                                                                                                  <span style=\"color: #000080; text-decoration-color: #000080\">│</span>\n",
       "<span style=\"color: #000080; text-decoration-color: #000080\">│</span> <span style=\"color: #008080; text-decoration-color: #008080\">Input Columns: 16</span>                                                                                               <span style=\"color: #000080; text-decoration-color: #000080\">│</span>\n",
       "<span style=\"color: #000080; text-decoration-color: #000080\">│</span> <span style=\"color: #c0c0c0; text-decoration-color: #c0c0c0\">Column Names: Headline, Journalists, Date, Link, text, summary_prompt, raw_summary, summary, keywords_prompt, </span>  <span style=\"color: #000080; text-decoration-color: #000080\">│</span>\n",
       "<span style=\"color: #000080; text-decoration-color: #000080\">│</span> <span style=\"color: #c0c0c0; text-decoration-color: #c0c0c0\">raw_keywords, keywords, entities_prompt, raw_entities, entities, sentiment_prompt, raw_sentiment</span>                <span style=\"color: #000080; text-decoration-color: #000080\">│</span>\n",
       "<span style=\"color: #000080; text-decoration-color: #000080\">│</span> <span style=\"color: #008000; text-decoration-color: #008000\">Expected Output Columns: sentiment</span>                                                                              <span style=\"color: #000080; text-decoration-color: #000080\">│</span>\n",
       "<span style=\"color: #000080; text-decoration-color: #000080\">╰─────────────────────────────────────────────────────────────────────────────────────────────────────────────────╯</span>\n",
       "</pre>\n"
      ],
      "text/plain": [
       "\u001b[34m╭─\u001b[0m\u001b[34m───────────────────────────────────────────────\u001b[0m\u001b[34m \u001b[0m\u001b[1;34mparse_sentiment\u001b[0m\u001b[34m \u001b[0m\u001b[34m───────────────────────────────────────────────\u001b[0m\u001b[34m─╮\u001b[0m\n",
       "\u001b[34m│\u001b[0m \u001b[1;34m📊 Processing Input Data\u001b[0m                                                                                        \u001b[34m│\u001b[0m\n",
       "\u001b[34m│\u001b[0m \u001b[36mBlock Type: TextParserBlock\u001b[0m                                                                                     \u001b[34m│\u001b[0m\n",
       "\u001b[34m│\u001b[0m \u001b[1;36mInput Rows: 49\u001b[0m                                                                                                  \u001b[34m│\u001b[0m\n",
       "\u001b[34m│\u001b[0m \u001b[36mInput Columns: 16\u001b[0m                                                                                               \u001b[34m│\u001b[0m\n",
       "\u001b[34m│\u001b[0m \u001b[37mColumn Names: Headline, Journalists, Date, Link, text, summary_prompt, raw_summary, summary, keywords_prompt, \u001b[0m  \u001b[34m│\u001b[0m\n",
       "\u001b[34m│\u001b[0m \u001b[37mraw_keywords, keywords, entities_prompt, raw_entities, entities, sentiment_prompt, raw_sentiment\u001b[0m                \u001b[34m│\u001b[0m\n",
       "\u001b[34m│\u001b[0m \u001b[32mExpected Output Columns: sentiment\u001b[0m                                                                              \u001b[34m│\u001b[0m\n",
       "\u001b[34m╰─────────────────────────────────────────────────────────────────────────────────────────────────────────────────╯\u001b[0m\n"
      ]
     },
     "metadata": {},
     "output_type": "display_data"
    },
    {
     "data": {
      "text/html": [
       "<pre style=\"white-space:pre;overflow-x:auto;line-height:normal;font-family:Menlo,'DejaVu Sans Mono',consolas,'Courier New',monospace\"><span style=\"color: #008000; text-decoration-color: #008000\">╭────────────────────────────────────────── </span><span style=\"color: #008000; text-decoration-color: #008000; font-weight: bold\">parse_sentiment - Complete</span><span style=\"color: #008000; text-decoration-color: #008000\"> ───────────────────────────────────────────╮</span>\n",
       "<span style=\"color: #008000; text-decoration-color: #008000\">│</span> <span style=\"color: #008000; text-decoration-color: #008000; font-weight: bold\">✅ Processing Complete</span>                                                                                          <span style=\"color: #008000; text-decoration-color: #008000\">│</span>\n",
       "<span style=\"color: #008000; text-decoration-color: #008000\">│</span> <span style=\"color: #008080; text-decoration-color: #008080\">Rows: 49 → 49</span>                                                                                                   <span style=\"color: #008000; text-decoration-color: #008000\">│</span>\n",
       "<span style=\"color: #008000; text-decoration-color: #008000\">│</span> <span style=\"color: #008080; text-decoration-color: #008080\">Columns: 16 → 17</span>                                                                                                <span style=\"color: #008000; text-decoration-color: #008000\">│</span>\n",
       "<span style=\"color: #008000; text-decoration-color: #008000\">│</span> <span style=\"color: #008000; text-decoration-color: #008000\">🟢 Added: sentiment</span>                                                                                             <span style=\"color: #008000; text-decoration-color: #008000\">│</span>\n",
       "<span style=\"color: #008000; text-decoration-color: #008000\">│</span> <span style=\"color: #c0c0c0; text-decoration-color: #c0c0c0\">📋 Final Columns: Date, Headline, Journalists, Link, entities, entities_prompt, keywords, keywords_prompt, </span>     <span style=\"color: #008000; text-decoration-color: #008000\">│</span>\n",
       "<span style=\"color: #008000; text-decoration-color: #008000\">│</span> <span style=\"color: #c0c0c0; text-decoration-color: #c0c0c0\">raw_entities, raw_keywords, raw_sentiment, raw_summary, sentiment, sentiment_prompt, summary, summary_prompt, </span>  <span style=\"color: #008000; text-decoration-color: #008000\">│</span>\n",
       "<span style=\"color: #008000; text-decoration-color: #008000\">│</span> <span style=\"color: #c0c0c0; text-decoration-color: #c0c0c0\">text</span>                                                                                                            <span style=\"color: #008000; text-decoration-color: #008000\">│</span>\n",
       "<span style=\"color: #008000; text-decoration-color: #008000\">╰─────────────────────────────────────────────────────────────────────────────────────────────────────────────────╯</span>\n",
       "</pre>\n"
      ],
      "text/plain": [
       "\u001b[32m╭─\u001b[0m\u001b[32m─────────────────────────────────────────\u001b[0m\u001b[32m \u001b[0m\u001b[1;32mparse_sentiment - Complete\u001b[0m\u001b[32m \u001b[0m\u001b[32m──────────────────────────────────────────\u001b[0m\u001b[32m─╮\u001b[0m\n",
       "\u001b[32m│\u001b[0m \u001b[1;32m✅ Processing Complete\u001b[0m                                                                                          \u001b[32m│\u001b[0m\n",
       "\u001b[32m│\u001b[0m \u001b[36mRows: 49 → 49\u001b[0m                                                                                                   \u001b[32m│\u001b[0m\n",
       "\u001b[32m│\u001b[0m \u001b[36mColumns: 16 → 17\u001b[0m                                                                                                \u001b[32m│\u001b[0m\n",
       "\u001b[32m│\u001b[0m \u001b[32m🟢 Added: sentiment\u001b[0m                                                                                             \u001b[32m│\u001b[0m\n",
       "\u001b[32m│\u001b[0m \u001b[37m📋 Final Columns: Date, Headline, Journalists, Link, entities, entities_prompt, keywords, keywords_prompt, \u001b[0m     \u001b[32m│\u001b[0m\n",
       "\u001b[32m│\u001b[0m \u001b[37mraw_entities, raw_keywords, raw_sentiment, raw_summary, sentiment, sentiment_prompt, summary, summary_prompt, \u001b[0m  \u001b[32m│\u001b[0m\n",
       "\u001b[32m│\u001b[0m \u001b[37mtext\u001b[0m                                                                                                            \u001b[32m│\u001b[0m\n",
       "\u001b[32m╰─────────────────────────────────────────────────────────────────────────────────────────────────────────────────╯\u001b[0m\n"
      ]
     },
     "metadata": {},
     "output_type": "display_data"
    },
    {
     "data": {
      "text/html": [
       "<pre style=\"white-space:pre;overflow-x:auto;line-height:normal;font-family:Menlo,'DejaVu Sans Mono',consolas,'Courier New',monospace\"><span style=\"color: #7fbfbf; text-decoration-color: #7fbfbf\">           </span><span style=\"color: #000080; text-decoration-color: #000080\">INFO    </span> Block <span style=\"color: #008000; text-decoration-color: #008000\">'parse_sentiment'</span> completed successfully: <span style=\"color: #008080; text-decoration-color: #008080; font-weight: bold\">49</span> samples, <span style=\"color: #008080; text-decoration-color: #008080; font-weight: bold\">17</span> columns              <a href=\"file:///Users/shiv/workspace/sdg_hub_add-structured-summary-nb/src/sdg_hub/core/flow/base.py\" target=\"_blank\"><span style=\"color: #7f7f7f; text-decoration-color: #7f7f7f\">base.py</span></a><span style=\"color: #7f7f7f; text-decoration-color: #7f7f7f\">:</span><a href=\"file:///Users/shiv/workspace/sdg_hub_add-structured-summary-nb/src/sdg_hub/core/flow/base.py#646\" target=\"_blank\"><span style=\"color: #7f7f7f; text-decoration-color: #7f7f7f\">646</span></a>\n",
       "</pre>\n"
      ],
      "text/plain": [
       "\u001b[2;36m          \u001b[0m\u001b[2;36m \u001b[0m\u001b[34mINFO    \u001b[0m Block \u001b[32m'parse_sentiment'\u001b[0m completed successfully: \u001b[1;36m49\u001b[0m samples, \u001b[1;36m17\u001b[0m columns              \u001b]8;id=781016;file:///Users/shiv/workspace/sdg_hub_add-structured-summary-nb/src/sdg_hub/core/flow/base.py\u001b\\\u001b[2mbase.py\u001b[0m\u001b]8;;\u001b\\\u001b[2m:\u001b[0m\u001b]8;id=296252;file:///Users/shiv/workspace/sdg_hub_add-structured-summary-nb/src/sdg_hub/core/flow/base.py#646\u001b\\\u001b[2m646\u001b[0m\u001b]8;;\u001b\\\n"
      ]
     },
     "metadata": {},
     "output_type": "display_data"
    },
    {
     "data": {
      "text/html": [
       "<pre style=\"white-space:pre;overflow-x:auto;line-height:normal;font-family:Menlo,'DejaVu Sans Mono',consolas,'Courier New',monospace\"><span style=\"color: #7fbfbf; text-decoration-color: #7fbfbf\">           </span><span style=\"color: #000080; text-decoration-color: #000080\">INFO    </span> Executing block <span style=\"color: #008080; text-decoration-color: #008080; font-weight: bold\">13</span>/<span style=\"color: #008080; text-decoration-color: #008080; font-weight: bold\">13</span>: create_structured_insights <span style=\"font-weight: bold\">(</span>JSONStructureBlock<span style=\"font-weight: bold\">)</span>              <a href=\"file:///Users/shiv/workspace/sdg_hub_add-structured-summary-nb/src/sdg_hub/core/flow/base.py\" target=\"_blank\"><span style=\"color: #7f7f7f; text-decoration-color: #7f7f7f\">base.py</span></a><span style=\"color: #7f7f7f; text-decoration-color: #7f7f7f\">:</span><a href=\"file:///Users/shiv/workspace/sdg_hub_add-structured-summary-nb/src/sdg_hub/core/flow/base.py#610\" target=\"_blank\"><span style=\"color: #7f7f7f; text-decoration-color: #7f7f7f\">610</span></a>\n",
       "</pre>\n"
      ],
      "text/plain": [
       "\u001b[2;36m          \u001b[0m\u001b[2;36m \u001b[0m\u001b[34mINFO    \u001b[0m Executing block \u001b[1;36m13\u001b[0m/\u001b[1;36m13\u001b[0m: create_structured_insights \u001b[1m(\u001b[0mJSONStructureBlock\u001b[1m)\u001b[0m              \u001b]8;id=525758;file:///Users/shiv/workspace/sdg_hub_add-structured-summary-nb/src/sdg_hub/core/flow/base.py\u001b\\\u001b[2mbase.py\u001b[0m\u001b]8;;\u001b\\\u001b[2m:\u001b[0m\u001b]8;id=883704;file:///Users/shiv/workspace/sdg_hub_add-structured-summary-nb/src/sdg_hub/core/flow/base.py#610\u001b\\\u001b[2m610\u001b[0m\u001b]8;;\u001b\\\n"
      ]
     },
     "metadata": {},
     "output_type": "display_data"
    },
    {
     "data": {
      "text/html": [
       "<pre style=\"white-space:pre;overflow-x:auto;line-height:normal;font-family:Menlo,'DejaVu Sans Mono',consolas,'Courier New',monospace\"><span style=\"color: #000080; text-decoration-color: #000080\">╭────────────────────────────────────────── </span><span style=\"color: #000080; text-decoration-color: #000080; font-weight: bold\">create_structured_insights</span><span style=\"color: #000080; text-decoration-color: #000080\"> ───────────────────────────────────────────╮</span>\n",
       "<span style=\"color: #000080; text-decoration-color: #000080\">│</span> <span style=\"color: #000080; text-decoration-color: #000080; font-weight: bold\">📊 Processing Input Data</span>                                                                                        <span style=\"color: #000080; text-decoration-color: #000080\">│</span>\n",
       "<span style=\"color: #000080; text-decoration-color: #000080\">│</span> <span style=\"color: #008080; text-decoration-color: #008080\">Block Type: JSONStructureBlock</span>                                                                                  <span style=\"color: #000080; text-decoration-color: #000080\">│</span>\n",
       "<span style=\"color: #000080; text-decoration-color: #000080\">│</span> <span style=\"color: #008080; text-decoration-color: #008080; font-weight: bold\">Input Rows: 49</span>                                                                                                  <span style=\"color: #000080; text-decoration-color: #000080\">│</span>\n",
       "<span style=\"color: #000080; text-decoration-color: #000080\">│</span> <span style=\"color: #008080; text-decoration-color: #008080\">Input Columns: 17</span>                                                                                               <span style=\"color: #000080; text-decoration-color: #000080\">│</span>\n",
       "<span style=\"color: #000080; text-decoration-color: #000080\">│</span> <span style=\"color: #c0c0c0; text-decoration-color: #c0c0c0\">Column Names: Headline, Journalists, Date, Link, text, summary_prompt, raw_summary, summary, keywords_prompt, </span>  <span style=\"color: #000080; text-decoration-color: #000080\">│</span>\n",
       "<span style=\"color: #000080; text-decoration-color: #000080\">│</span> <span style=\"color: #c0c0c0; text-decoration-color: #c0c0c0\">raw_keywords, keywords, entities_prompt, raw_entities, entities, sentiment_prompt, raw_sentiment, sentiment</span>     <span style=\"color: #000080; text-decoration-color: #000080\">│</span>\n",
       "<span style=\"color: #000080; text-decoration-color: #000080\">│</span> <span style=\"color: #008000; text-decoration-color: #008000\">Expected Output Columns: structured_insights</span>                                                                    <span style=\"color: #000080; text-decoration-color: #000080\">│</span>\n",
       "<span style=\"color: #000080; text-decoration-color: #000080\">╰─────────────────────────────────────────────────────────────────────────────────────────────────────────────────╯</span>\n",
       "</pre>\n"
      ],
      "text/plain": [
       "\u001b[34m╭─\u001b[0m\u001b[34m─────────────────────────────────────────\u001b[0m\u001b[34m \u001b[0m\u001b[1;34mcreate_structured_insights\u001b[0m\u001b[34m \u001b[0m\u001b[34m──────────────────────────────────────────\u001b[0m\u001b[34m─╮\u001b[0m\n",
       "\u001b[34m│\u001b[0m \u001b[1;34m📊 Processing Input Data\u001b[0m                                                                                        \u001b[34m│\u001b[0m\n",
       "\u001b[34m│\u001b[0m \u001b[36mBlock Type: JSONStructureBlock\u001b[0m                                                                                  \u001b[34m│\u001b[0m\n",
       "\u001b[34m│\u001b[0m \u001b[1;36mInput Rows: 49\u001b[0m                                                                                                  \u001b[34m│\u001b[0m\n",
       "\u001b[34m│\u001b[0m \u001b[36mInput Columns: 17\u001b[0m                                                                                               \u001b[34m│\u001b[0m\n",
       "\u001b[34m│\u001b[0m \u001b[37mColumn Names: Headline, Journalists, Date, Link, text, summary_prompt, raw_summary, summary, keywords_prompt, \u001b[0m  \u001b[34m│\u001b[0m\n",
       "\u001b[34m│\u001b[0m \u001b[37mraw_keywords, keywords, entities_prompt, raw_entities, entities, sentiment_prompt, raw_sentiment, sentiment\u001b[0m     \u001b[34m│\u001b[0m\n",
       "\u001b[34m│\u001b[0m \u001b[32mExpected Output Columns: structured_insights\u001b[0m                                                                    \u001b[34m│\u001b[0m\n",
       "\u001b[34m╰─────────────────────────────────────────────────────────────────────────────────────────────────────────────────╯\u001b[0m\n"
      ]
     },
     "metadata": {},
     "output_type": "display_data"
    },
    {
     "name": "stderr",
     "output_type": "stream",
     "text": [
      "Map: 100%|██████████| 49/49 [00:00<00:00, 5183.12 examples/s]\n"
     ]
    },
    {
     "data": {
      "text/html": [
       "<pre style=\"white-space:pre;overflow-x:auto;line-height:normal;font-family:Menlo,'DejaVu Sans Mono',consolas,'Courier New',monospace\"><span style=\"color: #008000; text-decoration-color: #008000\">╭───────────────────────────────────── </span><span style=\"color: #008000; text-decoration-color: #008000; font-weight: bold\">create_structured_insights - Complete</span><span style=\"color: #008000; text-decoration-color: #008000\"> ─────────────────────────────────────╮</span>\n",
       "<span style=\"color: #008000; text-decoration-color: #008000\">│</span> <span style=\"color: #008000; text-decoration-color: #008000; font-weight: bold\">✅ Processing Complete</span>                                                                                          <span style=\"color: #008000; text-decoration-color: #008000\">│</span>\n",
       "<span style=\"color: #008000; text-decoration-color: #008000\">│</span> <span style=\"color: #008080; text-decoration-color: #008080\">Rows: 49 → 49</span>                                                                                                   <span style=\"color: #008000; text-decoration-color: #008000\">│</span>\n",
       "<span style=\"color: #008000; text-decoration-color: #008000\">│</span> <span style=\"color: #008080; text-decoration-color: #008080\">Columns: 17 → 18</span>                                                                                                <span style=\"color: #008000; text-decoration-color: #008000\">│</span>\n",
       "<span style=\"color: #008000; text-decoration-color: #008000\">│</span> <span style=\"color: #008000; text-decoration-color: #008000\">🟢 Added: structured_insights</span>                                                                                   <span style=\"color: #008000; text-decoration-color: #008000\">│</span>\n",
       "<span style=\"color: #008000; text-decoration-color: #008000\">│</span> <span style=\"color: #c0c0c0; text-decoration-color: #c0c0c0\">📋 Final Columns: Date, Headline, Journalists, Link, entities, entities_prompt, keywords, keywords_prompt, </span>     <span style=\"color: #008000; text-decoration-color: #008000\">│</span>\n",
       "<span style=\"color: #008000; text-decoration-color: #008000\">│</span> <span style=\"color: #c0c0c0; text-decoration-color: #c0c0c0\">raw_entities, raw_keywords, raw_sentiment, raw_summary, sentiment, sentiment_prompt, structured_insights, </span>      <span style=\"color: #008000; text-decoration-color: #008000\">│</span>\n",
       "<span style=\"color: #008000; text-decoration-color: #008000\">│</span> <span style=\"color: #c0c0c0; text-decoration-color: #c0c0c0\">summary, summary_prompt, text</span>                                                                                   <span style=\"color: #008000; text-decoration-color: #008000\">│</span>\n",
       "<span style=\"color: #008000; text-decoration-color: #008000\">╰─────────────────────────────────────────────────────────────────────────────────────────────────────────────────╯</span>\n",
       "</pre>\n"
      ],
      "text/plain": [
       "\u001b[32m╭─\u001b[0m\u001b[32m────────────────────────────────────\u001b[0m\u001b[32m \u001b[0m\u001b[1;32mcreate_structured_insights - Complete\u001b[0m\u001b[32m \u001b[0m\u001b[32m────────────────────────────────────\u001b[0m\u001b[32m─╮\u001b[0m\n",
       "\u001b[32m│\u001b[0m \u001b[1;32m✅ Processing Complete\u001b[0m                                                                                          \u001b[32m│\u001b[0m\n",
       "\u001b[32m│\u001b[0m \u001b[36mRows: 49 → 49\u001b[0m                                                                                                   \u001b[32m│\u001b[0m\n",
       "\u001b[32m│\u001b[0m \u001b[36mColumns: 17 → 18\u001b[0m                                                                                                \u001b[32m│\u001b[0m\n",
       "\u001b[32m│\u001b[0m \u001b[32m🟢 Added: structured_insights\u001b[0m                                                                                   \u001b[32m│\u001b[0m\n",
       "\u001b[32m│\u001b[0m \u001b[37m📋 Final Columns: Date, Headline, Journalists, Link, entities, entities_prompt, keywords, keywords_prompt, \u001b[0m     \u001b[32m│\u001b[0m\n",
       "\u001b[32m│\u001b[0m \u001b[37mraw_entities, raw_keywords, raw_sentiment, raw_summary, sentiment, sentiment_prompt, structured_insights, \u001b[0m      \u001b[32m│\u001b[0m\n",
       "\u001b[32m│\u001b[0m \u001b[37msummary, summary_prompt, text\u001b[0m                                                                                   \u001b[32m│\u001b[0m\n",
       "\u001b[32m╰─────────────────────────────────────────────────────────────────────────────────────────────────────────────────╯\u001b[0m\n"
      ]
     },
     "metadata": {},
     "output_type": "display_data"
    },
    {
     "data": {
      "text/html": [
       "<pre style=\"white-space:pre;overflow-x:auto;line-height:normal;font-family:Menlo,'DejaVu Sans Mono',consolas,'Courier New',monospace\"><span style=\"color: #7fbfbf; text-decoration-color: #7fbfbf\">           </span><span style=\"color: #000080; text-decoration-color: #000080\">INFO    </span> Block <span style=\"color: #008000; text-decoration-color: #008000\">'create_structured_insights'</span> completed successfully: <span style=\"color: #008080; text-decoration-color: #008080; font-weight: bold\">49</span> samples, <span style=\"color: #008080; text-decoration-color: #008080; font-weight: bold\">18</span> columns   <a href=\"file:///Users/shiv/workspace/sdg_hub_add-structured-summary-nb/src/sdg_hub/core/flow/base.py\" target=\"_blank\"><span style=\"color: #7f7f7f; text-decoration-color: #7f7f7f\">base.py</span></a><span style=\"color: #7f7f7f; text-decoration-color: #7f7f7f\">:</span><a href=\"file:///Users/shiv/workspace/sdg_hub_add-structured-summary-nb/src/sdg_hub/core/flow/base.py#646\" target=\"_blank\"><span style=\"color: #7f7f7f; text-decoration-color: #7f7f7f\">646</span></a>\n",
       "</pre>\n"
      ],
      "text/plain": [
       "\u001b[2;36m          \u001b[0m\u001b[2;36m \u001b[0m\u001b[34mINFO    \u001b[0m Block \u001b[32m'create_structured_insights'\u001b[0m completed successfully: \u001b[1;36m49\u001b[0m samples, \u001b[1;36m18\u001b[0m columns   \u001b]8;id=240491;file:///Users/shiv/workspace/sdg_hub_add-structured-summary-nb/src/sdg_hub/core/flow/base.py\u001b\\\u001b[2mbase.py\u001b[0m\u001b]8;;\u001b\\\u001b[2m:\u001b[0m\u001b]8;id=516380;file:///Users/shiv/workspace/sdg_hub_add-structured-summary-nb/src/sdg_hub/core/flow/base.py#646\u001b\\\u001b[2m646\u001b[0m\u001b]8;;\u001b\\\n"
      ]
     },
     "metadata": {},
     "output_type": "display_data"
    },
    {
     "data": {
      "text/html": [
       "<pre style=\"white-space:pre;overflow-x:auto;line-height:normal;font-family:Menlo,'DejaVu Sans Mono',consolas,'Courier New',monospace\"><span style=\"color: #7fbfbf; text-decoration-color: #7fbfbf\">           </span><span style=\"color: #000080; text-decoration-color: #000080\">INFO    </span> Flow <span style=\"color: #008000; text-decoration-color: #008000\">'Structured Text Insights Extraction Flow'</span> completed successfully: <span style=\"color: #008080; text-decoration-color: #008080; font-weight: bold\">49</span> final    <a href=\"file:///Users/shiv/workspace/sdg_hub_add-structured-summary-nb/src/sdg_hub/core/flow/base.py\" target=\"_blank\"><span style=\"color: #7f7f7f; text-decoration-color: #7f7f7f\">base.py</span></a><span style=\"color: #7f7f7f; text-decoration-color: #7f7f7f\">:</span><a href=\"file:///Users/shiv/workspace/sdg_hub_add-structured-summary-nb/src/sdg_hub/core/flow/base.py#571\" target=\"_blank\"><span style=\"color: #7f7f7f; text-decoration-color: #7f7f7f\">571</span></a>\n",
       "<span style=\"color: #7fbfbf; text-decoration-color: #7fbfbf\">           </span>         samples, <span style=\"color: #008080; text-decoration-color: #008080; font-weight: bold\">18</span> final columns                                                           <span style=\"color: #7f7f7f; text-decoration-color: #7f7f7f\">           </span>\n",
       "</pre>\n"
      ],
      "text/plain": [
       "\u001b[2;36m          \u001b[0m\u001b[2;36m \u001b[0m\u001b[34mINFO    \u001b[0m Flow \u001b[32m'Structured Text Insights Extraction Flow'\u001b[0m completed successfully: \u001b[1;36m49\u001b[0m final    \u001b]8;id=877672;file:///Users/shiv/workspace/sdg_hub_add-structured-summary-nb/src/sdg_hub/core/flow/base.py\u001b\\\u001b[2mbase.py\u001b[0m\u001b]8;;\u001b\\\u001b[2m:\u001b[0m\u001b]8;id=750446;file:///Users/shiv/workspace/sdg_hub_add-structured-summary-nb/src/sdg_hub/core/flow/base.py#571\u001b\\\u001b[2m571\u001b[0m\u001b]8;;\u001b\\\n",
       "\u001b[2;36m           \u001b[0m         samples, \u001b[1;36m18\u001b[0m final columns                                                           \u001b[2m           \u001b[0m\n"
      ]
     },
     "metadata": {},
     "output_type": "display_data"
    },
    {
     "name": "stdout",
     "output_type": "stream",
     "text": [
      "✅ Processing complete!\n",
      "📊 Generated insights for 49 articles\n",
      "📋 Result columns: ['Headline', 'Journalists', 'Date', 'Link', 'text', 'summary_prompt', 'raw_summary', 'summary', 'keywords_prompt', 'raw_keywords', 'keywords', 'entities_prompt', 'raw_entities', 'entities', 'sentiment_prompt', 'raw_sentiment', 'sentiment', 'structured_insights']\n"
     ]
    }
   ],
   "source": [
    "# Generate structured insights\n",
    "print(\"🚀 Running structured insights extraction...\")\n",
    "print(\"⏱️ This may take a few minutes depending on your model setup...\")\n",
    "\n",
    "# Run the flow\n",
    "results = flow.generate(demo_dataset)\n",
    "\n",
    "print(\"✅ Processing complete!\")\n",
    "print(f\"📊 Generated insights for {len(results)} articles\")\n",
    "print(f\"📋 Result columns: {results.column_names}\")"
   ]
  },
  {
   "cell_type": "code",
   "execution_count": null,
   "metadata": {},
   "outputs": [
    {
     "name": "stdout",
     "output_type": "stream",
     "text": [
      "=== First Article Analysis ===\n",
      "📰 Original headline: Ivory Coast Keeps Cocoa Export Tax Below 22%, Document Shows\n",
      "📅 Date: 2011-10-06 15:14:20\n",
      "✍️ Journalists: ['Baudelaire Mieu']\n",
      "📄 Article length: 5080 characters\n",
      "\n",
      "🔍 EXTRACTED INSIGHTS:\n",
      "{\n",
      "  \"summary\": \"Portugal's economy is expected to shrink 2% in both 2011 and 2012, more than initially forecast, due to additional austerity measures implemented to secure a 78 billion euro international aid package. The package, which includes loans from the EU and IMF, will allow Portugal to avoid raising funds in bond markets for two years and give the government \\\"breathing space\\\" to implement spending cuts and revenue increases. The austerity measures aim to reduce the budget deficit, but are expected to have a significant impact on the domestic economy and increase unemployment to 13% in 2013.\",\n",
      "  \"keywords\": \"Portugal, Austerity Measures, European Union, International Monetary Fund, Bailout, GDP, Economic Crisis, Fiscal Program, Debt Crisis, Euro Area\",\n",
      "  \"entities\": \"Fernando Teixeira dos Santos, Gustavo Bagattini, Poul Thomsen, Portugal, European Union, International Monetary Fund, RBC Capital Markets, London, Lisbon, Greece, Ireland, EDP-Energias de Portugal SA, REN- Redes Energeticas Nacionais SA, Europe, Jose Socrates, Frank Schaeffler, Angela Merkel, Social Democrats, People’s Party, Pedro Passos Coelho, Joao Lima, Anabela Reis, Tim Quinson, Angela Cullen, Bloomberg\",\n",
      "  \"sentiment\": \"negative\"\n",
      "}\n"
     ]
    }
   ],
   "source": [
    "# Display a sample result\n",
    "sample_result = results[random.randint(0, len(results) - 1)]\n",
    "\n",
    "print(\"=== First Article Analysis ===\")\n",
    "print(f\"📰 Original headline: {dataset[0]['Headline']}\")\n",
    "print(f\"📅 Date: {dataset[0]['Date']}\")\n",
    "print(f\"✍️ Journalists: {dataset[0]['Journalists']}\")\n",
    "print(f\"📄 Article length: {len(sample_result['text'])} characters\")\n",
    "print()\n",
    "\n",
    "# Parse and display the structured insights\n",
    "insights = json.loads(sample_result[\"structured_insights\"])\n",
    "print(\"🔍 EXTRACTED INSIGHTS:\")\n",
    "print(json.dumps(insights, indent=2, ensure_ascii=False))"
   ]
  },
  {
   "cell_type": "markdown",
   "metadata": {},
   "source": [
    "## 5. Dynamic Flow Extension: Adding Stock Ticker Extraction\n",
    "\n",
    "Now we'll demonstrate SDG Hub's **dynamic flow modification** capabilities. Instead of creating separate flow files, we can extend flows at runtime by adding custom processing blocks using existing SDG Hub components.\n",
    "\n",
    "### What We'll Add:\n",
    "We'll extend our structured insights flow to extract **stock ticker symbols** from financial news articles. This is perfect for Bloomberg financial news analysis!\n",
    "\n",
    "### Approach:\n",
    "We'll use three existing SDG Hub blocks:\n",
    "1. **PromptBuilderBlock** - Create a prompt to extract stock tickers\n",
    "2. **LLMChatBlock** - Process the extraction using the LLM\n",
    "3. **TextParserBlock** - Parse the output to a clean list\n",
    "\n",
    "Let's see how to modify flows at runtime!"
   ]
  },
  {
   "cell_type": "code",
   "execution_count": 12,
   "metadata": {},
   "outputs": [
    {
     "data": {
      "text/html": [
       "<pre style=\"white-space:pre;overflow-x:auto;line-height:normal;font-family:Menlo,'DejaVu Sans Mono',consolas,'Courier New',monospace\">\n",
       "</pre>\n"
      ],
      "text/plain": [
       "\n"
      ]
     },
     "metadata": {},
     "output_type": "display_data"
    },
    {
     "data": {
      "text/html": [
       "<pre style=\"white-space:pre;overflow-x:auto;line-height:normal;font-family:Menlo,'DejaVu Sans Mono',consolas,'Courier New',monospace\"><span style=\"color: #0000ff; text-decoration-color: #0000ff\">╭─────────────────────────────────────────────── </span><span style=\"color: #ffffff; text-decoration-color: #ffffff; font-weight: bold\">Flow Information</span><span style=\"color: #0000ff; text-decoration-color: #0000ff\"> ────────────────────────────────────────────────╮</span>\n",
       "<span style=\"color: #0000ff; text-decoration-color: #0000ff\">│</span> <span style=\"color: #0000ff; text-decoration-color: #0000ff; font-weight: bold\">Structured Text Insights Extraction Flow</span> Flow                                                                   <span style=\"color: #0000ff; text-decoration-color: #0000ff\">│</span>\n",
       "<span style=\"color: #0000ff; text-decoration-color: #0000ff\">│</span> ├── <span style=\"color: #00ff00; text-decoration-color: #00ff00; font-weight: bold\">Metadata</span>                                                                                                    <span style=\"color: #0000ff; text-decoration-color: #0000ff\">│</span>\n",
       "<span style=\"color: #0000ff; text-decoration-color: #0000ff\">│</span> │   ├── Version: <span style=\"color: #00ffff; text-decoration-color: #00ffff\">1.0.0</span>                                                                                          <span style=\"color: #0000ff; text-decoration-color: #0000ff\">│</span>\n",
       "<span style=\"color: #0000ff; text-decoration-color: #0000ff\">│</span> │   ├── Author: <span style=\"color: #00ffff; text-decoration-color: #00ffff\">SDG Hub Contributors</span>                                                                            <span style=\"color: #0000ff; text-decoration-color: #0000ff\">│</span>\n",
       "<span style=\"color: #0000ff; text-decoration-color: #0000ff\">│</span> │   └── Description: <span style=\"color: #c0c0c0; text-decoration-color: #c0c0c0\">Multi-step pipeline for extracting structured insights from text including summary, </span>       <span style=\"color: #0000ff; text-decoration-color: #0000ff\">│</span>\n",
       "<span style=\"color: #0000ff; text-decoration-color: #0000ff\">│</span> │       <span style=\"color: #c0c0c0; text-decoration-color: #c0c0c0\">keywords, entities, and sentiment analysis combined into a JSON output</span>                                  <span style=\"color: #0000ff; text-decoration-color: #0000ff\">│</span>\n",
       "<span style=\"color: #0000ff; text-decoration-color: #0000ff\">│</span> └── <span style=\"color: #ff00ff; text-decoration-color: #ff00ff; font-weight: bold\">Blocks</span> (13 total)                                                                                           <span style=\"color: #0000ff; text-decoration-color: #0000ff\">│</span>\n",
       "<span style=\"color: #0000ff; text-decoration-color: #0000ff\">╰─────────────────────────────────────────────────────────────────────────────────────────────────────────────────╯</span>\n",
       "</pre>\n"
      ],
      "text/plain": [
       "\u001b[94m╭─\u001b[0m\u001b[94m──────────────────────────────────────────────\u001b[0m\u001b[94m \u001b[0m\u001b[1;97mFlow Information\u001b[0m\u001b[94m \u001b[0m\u001b[94m───────────────────────────────────────────────\u001b[0m\u001b[94m─╮\u001b[0m\n",
       "\u001b[94m│\u001b[0m \u001b[1;94mStructured Text Insights Extraction Flow\u001b[0m Flow                                                                   \u001b[94m│\u001b[0m\n",
       "\u001b[94m│\u001b[0m ├── \u001b[1;92mMetadata\u001b[0m                                                                                                    \u001b[94m│\u001b[0m\n",
       "\u001b[94m│\u001b[0m │   ├── Version: \u001b[96m1.0.0\u001b[0m                                                                                          \u001b[94m│\u001b[0m\n",
       "\u001b[94m│\u001b[0m │   ├── Author: \u001b[96mSDG Hub Contributors\u001b[0m                                                                            \u001b[94m│\u001b[0m\n",
       "\u001b[94m│\u001b[0m │   └── Description: \u001b[37mMulti-step pipeline for extracting structured insights from text including summary, \u001b[0m       \u001b[94m│\u001b[0m\n",
       "\u001b[94m│\u001b[0m │       \u001b[37mkeywords, entities, and sentiment analysis combined into a JSON output\u001b[0m                                  \u001b[94m│\u001b[0m\n",
       "\u001b[94m│\u001b[0m └── \u001b[1;95mBlocks\u001b[0m (13 total)                                                                                           \u001b[94m│\u001b[0m\n",
       "\u001b[94m╰─────────────────────────────────────────────────────────────────────────────────────────────────────────────────╯\u001b[0m\n"
      ]
     },
     "metadata": {},
     "output_type": "display_data"
    },
    {
     "data": {
      "text/html": [
       "<pre style=\"white-space:pre;overflow-x:auto;line-height:normal;font-family:Menlo,'DejaVu Sans Mono',consolas,'Courier New',monospace\">\n",
       "</pre>\n"
      ],
      "text/plain": [
       "\n"
      ]
     },
     "metadata": {},
     "output_type": "display_data"
    },
    {
     "data": {
      "text/html": [
       "<pre style=\"white-space:pre;overflow-x:auto;line-height:normal;font-family:Menlo,'DejaVu Sans Mono',consolas,'Courier New',monospace\"><span style=\"color: #ff00ff; text-decoration-color: #ff00ff\">╭───────────────────────────────────────────────── </span><span style=\"color: #ffffff; text-decoration-color: #ffffff; font-weight: bold\">Block Details</span><span style=\"color: #ff00ff; text-decoration-color: #ff00ff\"> ─────────────────────────────────────────────────╮</span>\n",
       "<span style=\"color: #ff00ff; text-decoration-color: #ff00ff\">│</span> ┏━━━━━━━━━━━━━━━━━━━━━━━━━━━━┳━━━━━━━━━━━━━━━━━━━━┳━━━━━━━━━━━━━━━━━━━━━━━━━━━━━━━━━┳━━━━━━━━━━━━━━━━━━━━━━━━━┓ <span style=\"color: #ff00ff; text-decoration-color: #ff00ff\">│</span>\n",
       "<span style=\"color: #ff00ff; text-decoration-color: #ff00ff\">│</span> ┃<span style=\"color: #ffffff; text-decoration-color: #ffffff; font-weight: bold\"> Block Name                 </span>┃<span style=\"color: #ffffff; text-decoration-color: #ffffff; font-weight: bold\"> Type               </span>┃<span style=\"color: #ffffff; text-decoration-color: #ffffff; font-weight: bold\"> Input Cols                      </span>┃<span style=\"color: #ffffff; text-decoration-color: #ffffff; font-weight: bold\"> Output Cols             </span>┃ <span style=\"color: #ff00ff; text-decoration-color: #ff00ff\">│</span>\n",
       "<span style=\"color: #ff00ff; text-decoration-color: #ff00ff\">│</span> ┡━━━━━━━━━━━━━━━━━━━━━━━━━━━━╇━━━━━━━━━━━━━━━━━━━━╇━━━━━━━━━━━━━━━━━━━━━━━━━━━━━━━━━╇━━━━━━━━━━━━━━━━━━━━━━━━━┩ <span style=\"color: #ff00ff; text-decoration-color: #ff00ff\">│</span>\n",
       "<span style=\"color: #ff00ff; text-decoration-color: #ff00ff\">│</span> │<span style=\"color: #00ffff; text-decoration-color: #00ffff\"> build_summary_prompt       </span>│<span style=\"color: #00ff00; text-decoration-color: #00ff00\"> PromptBuilderBlock </span>│<span style=\"color: #ffff00; text-decoration-color: #ffff00\"> ['text']                        </span>│<span style=\"color: #ff0000; text-decoration-color: #ff0000\"> ['summary_prompt']      </span>│ <span style=\"color: #ff00ff; text-decoration-color: #ff00ff\">│</span>\n",
       "<span style=\"color: #ff00ff; text-decoration-color: #ff00ff\">│</span> │<span style=\"color: #00ffff; text-decoration-color: #00ffff\"> generate_summary           </span>│<span style=\"color: #00ff00; text-decoration-color: #00ff00\"> LLMChatBlock       </span>│<span style=\"color: #ffff00; text-decoration-color: #ffff00\"> ['summary_prompt']              </span>│<span style=\"color: #ff0000; text-decoration-color: #ff0000\"> ['raw_summary']         </span>│ <span style=\"color: #ff00ff; text-decoration-color: #ff00ff\">│</span>\n",
       "<span style=\"color: #ff00ff; text-decoration-color: #ff00ff\">│</span> │<span style=\"color: #00ffff; text-decoration-color: #00ffff\"> parse_summary              </span>│<span style=\"color: #00ff00; text-decoration-color: #00ff00\"> TextParserBlock    </span>│<span style=\"color: #ffff00; text-decoration-color: #ffff00\"> ['raw_summary']                 </span>│<span style=\"color: #ff0000; text-decoration-color: #ff0000\"> ['summary']             </span>│ <span style=\"color: #ff00ff; text-decoration-color: #ff00ff\">│</span>\n",
       "<span style=\"color: #ff00ff; text-decoration-color: #ff00ff\">│</span> │<span style=\"color: #00ffff; text-decoration-color: #00ffff\"> build_keywords_prompt      </span>│<span style=\"color: #00ff00; text-decoration-color: #00ff00\"> PromptBuilderBlock </span>│<span style=\"color: #ffff00; text-decoration-color: #ffff00\"> ['text']                        </span>│<span style=\"color: #ff0000; text-decoration-color: #ff0000\"> ['keywords_prompt']     </span>│ <span style=\"color: #ff00ff; text-decoration-color: #ff00ff\">│</span>\n",
       "<span style=\"color: #ff00ff; text-decoration-color: #ff00ff\">│</span> │<span style=\"color: #00ffff; text-decoration-color: #00ffff\"> generate_keywords          </span>│<span style=\"color: #00ff00; text-decoration-color: #00ff00\"> LLMChatBlock       </span>│<span style=\"color: #ffff00; text-decoration-color: #ffff00\"> ['keywords_prompt']             </span>│<span style=\"color: #ff0000; text-decoration-color: #ff0000\"> ['raw_keywords']        </span>│ <span style=\"color: #ff00ff; text-decoration-color: #ff00ff\">│</span>\n",
       "<span style=\"color: #ff00ff; text-decoration-color: #ff00ff\">│</span> │<span style=\"color: #00ffff; text-decoration-color: #00ffff\"> parse_keywords             </span>│<span style=\"color: #00ff00; text-decoration-color: #00ff00\"> TextParserBlock    </span>│<span style=\"color: #ffff00; text-decoration-color: #ffff00\"> ['raw_keywords']                </span>│<span style=\"color: #ff0000; text-decoration-color: #ff0000\"> ['keywords']            </span>│ <span style=\"color: #ff00ff; text-decoration-color: #ff00ff\">│</span>\n",
       "<span style=\"color: #ff00ff; text-decoration-color: #ff00ff\">│</span> │<span style=\"color: #00ffff; text-decoration-color: #00ffff\"> build_entities_prompt      </span>│<span style=\"color: #00ff00; text-decoration-color: #00ff00\"> PromptBuilderBlock </span>│<span style=\"color: #ffff00; text-decoration-color: #ffff00\"> ['text']                        </span>│<span style=\"color: #ff0000; text-decoration-color: #ff0000\"> ['entities_prompt']     </span>│ <span style=\"color: #ff00ff; text-decoration-color: #ff00ff\">│</span>\n",
       "<span style=\"color: #ff00ff; text-decoration-color: #ff00ff\">│</span> │<span style=\"color: #00ffff; text-decoration-color: #00ffff\"> generate_entities          </span>│<span style=\"color: #00ff00; text-decoration-color: #00ff00\"> LLMChatBlock       </span>│<span style=\"color: #ffff00; text-decoration-color: #ffff00\"> ['entities_prompt']             </span>│<span style=\"color: #ff0000; text-decoration-color: #ff0000\"> ['raw_entities']        </span>│ <span style=\"color: #ff00ff; text-decoration-color: #ff00ff\">│</span>\n",
       "<span style=\"color: #ff00ff; text-decoration-color: #ff00ff\">│</span> │<span style=\"color: #00ffff; text-decoration-color: #00ffff\"> parse_entities             </span>│<span style=\"color: #00ff00; text-decoration-color: #00ff00\"> TextParserBlock    </span>│<span style=\"color: #ffff00; text-decoration-color: #ffff00\"> ['raw_entities']                </span>│<span style=\"color: #ff0000; text-decoration-color: #ff0000\"> ['entities']            </span>│ <span style=\"color: #ff00ff; text-decoration-color: #ff00ff\">│</span>\n",
       "<span style=\"color: #ff00ff; text-decoration-color: #ff00ff\">│</span> │<span style=\"color: #00ffff; text-decoration-color: #00ffff\"> build_sentiment_prompt     </span>│<span style=\"color: #00ff00; text-decoration-color: #00ff00\"> PromptBuilderBlock </span>│<span style=\"color: #ffff00; text-decoration-color: #ffff00\"> ['text']                        </span>│<span style=\"color: #ff0000; text-decoration-color: #ff0000\"> ['sentiment_prompt']    </span>│ <span style=\"color: #ff00ff; text-decoration-color: #ff00ff\">│</span>\n",
       "<span style=\"color: #ff00ff; text-decoration-color: #ff00ff\">│</span> │<span style=\"color: #00ffff; text-decoration-color: #00ffff\"> generate_sentiment         </span>│<span style=\"color: #00ff00; text-decoration-color: #00ff00\"> LLMChatBlock       </span>│<span style=\"color: #ffff00; text-decoration-color: #ffff00\"> ['sentiment_prompt']            </span>│<span style=\"color: #ff0000; text-decoration-color: #ff0000\"> ['raw_sentiment']       </span>│ <span style=\"color: #ff00ff; text-decoration-color: #ff00ff\">│</span>\n",
       "<span style=\"color: #ff00ff; text-decoration-color: #ff00ff\">│</span> │<span style=\"color: #00ffff; text-decoration-color: #00ffff\"> parse_sentiment            </span>│<span style=\"color: #00ff00; text-decoration-color: #00ff00\"> TextParserBlock    </span>│<span style=\"color: #ffff00; text-decoration-color: #ffff00\"> ['raw_sentiment']               </span>│<span style=\"color: #ff0000; text-decoration-color: #ff0000\"> ['sentiment']           </span>│ <span style=\"color: #ff00ff; text-decoration-color: #ff00ff\">│</span>\n",
       "<span style=\"color: #ff00ff; text-decoration-color: #ff00ff\">│</span> │<span style=\"color: #00ffff; text-decoration-color: #00ffff\"> create_structured_insights </span>│<span style=\"color: #00ff00; text-decoration-color: #00ff00\"> JSONStructureBlock </span>│<span style=\"color: #ffff00; text-decoration-color: #ffff00\"> ['summary', 'keywords',         </span>│<span style=\"color: #ff0000; text-decoration-color: #ff0000\"> ['structured_insights'] </span>│ <span style=\"color: #ff00ff; text-decoration-color: #ff00ff\">│</span>\n",
       "<span style=\"color: #ff00ff; text-decoration-color: #ff00ff\">│</span> │<span style=\"color: #00ffff; text-decoration-color: #00ffff\">                            </span>│<span style=\"color: #00ff00; text-decoration-color: #00ff00\">                    </span>│<span style=\"color: #ffff00; text-decoration-color: #ffff00\"> 'entities', 'sentiment']        </span>│<span style=\"color: #ff0000; text-decoration-color: #ff0000\">                         </span>│ <span style=\"color: #ff00ff; text-decoration-color: #ff00ff\">│</span>\n",
       "<span style=\"color: #ff00ff; text-decoration-color: #ff00ff\">│</span> └────────────────────────────┴────────────────────┴─────────────────────────────────┴─────────────────────────┘ <span style=\"color: #ff00ff; text-decoration-color: #ff00ff\">│</span>\n",
       "<span style=\"color: #ff00ff; text-decoration-color: #ff00ff\">╰─────────────────────────────────────────────────────────────────────────────────────────────────────────────────╯</span>\n",
       "</pre>\n"
      ],
      "text/plain": [
       "\u001b[95m╭─\u001b[0m\u001b[95m────────────────────────────────────────────────\u001b[0m\u001b[95m \u001b[0m\u001b[1;97mBlock Details\u001b[0m\u001b[95m \u001b[0m\u001b[95m────────────────────────────────────────────────\u001b[0m\u001b[95m─╮\u001b[0m\n",
       "\u001b[95m│\u001b[0m ┏━━━━━━━━━━━━━━━━━━━━━━━━━━━━┳━━━━━━━━━━━━━━━━━━━━┳━━━━━━━━━━━━━━━━━━━━━━━━━━━━━━━━━┳━━━━━━━━━━━━━━━━━━━━━━━━━┓ \u001b[95m│\u001b[0m\n",
       "\u001b[95m│\u001b[0m ┃\u001b[1;97m \u001b[0m\u001b[1;97mBlock Name                \u001b[0m\u001b[1;97m \u001b[0m┃\u001b[1;97m \u001b[0m\u001b[1;97mType              \u001b[0m\u001b[1;97m \u001b[0m┃\u001b[1;97m \u001b[0m\u001b[1;97mInput Cols                     \u001b[0m\u001b[1;97m \u001b[0m┃\u001b[1;97m \u001b[0m\u001b[1;97mOutput Cols            \u001b[0m\u001b[1;97m \u001b[0m┃ \u001b[95m│\u001b[0m\n",
       "\u001b[95m│\u001b[0m ┡━━━━━━━━━━━━━━━━━━━━━━━━━━━━╇━━━━━━━━━━━━━━━━━━━━╇━━━━━━━━━━━━━━━━━━━━━━━━━━━━━━━━━╇━━━━━━━━━━━━━━━━━━━━━━━━━┩ \u001b[95m│\u001b[0m\n",
       "\u001b[95m│\u001b[0m │\u001b[96m \u001b[0m\u001b[96mbuild_summary_prompt      \u001b[0m\u001b[96m \u001b[0m│\u001b[92m \u001b[0m\u001b[92mPromptBuilderBlock\u001b[0m\u001b[92m \u001b[0m│\u001b[93m \u001b[0m\u001b[93m['text']                       \u001b[0m\u001b[93m \u001b[0m│\u001b[91m \u001b[0m\u001b[91m['summary_prompt']     \u001b[0m\u001b[91m \u001b[0m│ \u001b[95m│\u001b[0m\n",
       "\u001b[95m│\u001b[0m │\u001b[96m \u001b[0m\u001b[96mgenerate_summary          \u001b[0m\u001b[96m \u001b[0m│\u001b[92m \u001b[0m\u001b[92mLLMChatBlock      \u001b[0m\u001b[92m \u001b[0m│\u001b[93m \u001b[0m\u001b[93m['summary_prompt']             \u001b[0m\u001b[93m \u001b[0m│\u001b[91m \u001b[0m\u001b[91m['raw_summary']        \u001b[0m\u001b[91m \u001b[0m│ \u001b[95m│\u001b[0m\n",
       "\u001b[95m│\u001b[0m │\u001b[96m \u001b[0m\u001b[96mparse_summary             \u001b[0m\u001b[96m \u001b[0m│\u001b[92m \u001b[0m\u001b[92mTextParserBlock   \u001b[0m\u001b[92m \u001b[0m│\u001b[93m \u001b[0m\u001b[93m['raw_summary']                \u001b[0m\u001b[93m \u001b[0m│\u001b[91m \u001b[0m\u001b[91m['summary']            \u001b[0m\u001b[91m \u001b[0m│ \u001b[95m│\u001b[0m\n",
       "\u001b[95m│\u001b[0m │\u001b[96m \u001b[0m\u001b[96mbuild_keywords_prompt     \u001b[0m\u001b[96m \u001b[0m│\u001b[92m \u001b[0m\u001b[92mPromptBuilderBlock\u001b[0m\u001b[92m \u001b[0m│\u001b[93m \u001b[0m\u001b[93m['text']                       \u001b[0m\u001b[93m \u001b[0m│\u001b[91m \u001b[0m\u001b[91m['keywords_prompt']    \u001b[0m\u001b[91m \u001b[0m│ \u001b[95m│\u001b[0m\n",
       "\u001b[95m│\u001b[0m │\u001b[96m \u001b[0m\u001b[96mgenerate_keywords         \u001b[0m\u001b[96m \u001b[0m│\u001b[92m \u001b[0m\u001b[92mLLMChatBlock      \u001b[0m\u001b[92m \u001b[0m│\u001b[93m \u001b[0m\u001b[93m['keywords_prompt']            \u001b[0m\u001b[93m \u001b[0m│\u001b[91m \u001b[0m\u001b[91m['raw_keywords']       \u001b[0m\u001b[91m \u001b[0m│ \u001b[95m│\u001b[0m\n",
       "\u001b[95m│\u001b[0m │\u001b[96m \u001b[0m\u001b[96mparse_keywords            \u001b[0m\u001b[96m \u001b[0m│\u001b[92m \u001b[0m\u001b[92mTextParserBlock   \u001b[0m\u001b[92m \u001b[0m│\u001b[93m \u001b[0m\u001b[93m['raw_keywords']               \u001b[0m\u001b[93m \u001b[0m│\u001b[91m \u001b[0m\u001b[91m['keywords']           \u001b[0m\u001b[91m \u001b[0m│ \u001b[95m│\u001b[0m\n",
       "\u001b[95m│\u001b[0m │\u001b[96m \u001b[0m\u001b[96mbuild_entities_prompt     \u001b[0m\u001b[96m \u001b[0m│\u001b[92m \u001b[0m\u001b[92mPromptBuilderBlock\u001b[0m\u001b[92m \u001b[0m│\u001b[93m \u001b[0m\u001b[93m['text']                       \u001b[0m\u001b[93m \u001b[0m│\u001b[91m \u001b[0m\u001b[91m['entities_prompt']    \u001b[0m\u001b[91m \u001b[0m│ \u001b[95m│\u001b[0m\n",
       "\u001b[95m│\u001b[0m │\u001b[96m \u001b[0m\u001b[96mgenerate_entities         \u001b[0m\u001b[96m \u001b[0m│\u001b[92m \u001b[0m\u001b[92mLLMChatBlock      \u001b[0m\u001b[92m \u001b[0m│\u001b[93m \u001b[0m\u001b[93m['entities_prompt']            \u001b[0m\u001b[93m \u001b[0m│\u001b[91m \u001b[0m\u001b[91m['raw_entities']       \u001b[0m\u001b[91m \u001b[0m│ \u001b[95m│\u001b[0m\n",
       "\u001b[95m│\u001b[0m │\u001b[96m \u001b[0m\u001b[96mparse_entities            \u001b[0m\u001b[96m \u001b[0m│\u001b[92m \u001b[0m\u001b[92mTextParserBlock   \u001b[0m\u001b[92m \u001b[0m│\u001b[93m \u001b[0m\u001b[93m['raw_entities']               \u001b[0m\u001b[93m \u001b[0m│\u001b[91m \u001b[0m\u001b[91m['entities']           \u001b[0m\u001b[91m \u001b[0m│ \u001b[95m│\u001b[0m\n",
       "\u001b[95m│\u001b[0m │\u001b[96m \u001b[0m\u001b[96mbuild_sentiment_prompt    \u001b[0m\u001b[96m \u001b[0m│\u001b[92m \u001b[0m\u001b[92mPromptBuilderBlock\u001b[0m\u001b[92m \u001b[0m│\u001b[93m \u001b[0m\u001b[93m['text']                       \u001b[0m\u001b[93m \u001b[0m│\u001b[91m \u001b[0m\u001b[91m['sentiment_prompt']   \u001b[0m\u001b[91m \u001b[0m│ \u001b[95m│\u001b[0m\n",
       "\u001b[95m│\u001b[0m │\u001b[96m \u001b[0m\u001b[96mgenerate_sentiment        \u001b[0m\u001b[96m \u001b[0m│\u001b[92m \u001b[0m\u001b[92mLLMChatBlock      \u001b[0m\u001b[92m \u001b[0m│\u001b[93m \u001b[0m\u001b[93m['sentiment_prompt']           \u001b[0m\u001b[93m \u001b[0m│\u001b[91m \u001b[0m\u001b[91m['raw_sentiment']      \u001b[0m\u001b[91m \u001b[0m│ \u001b[95m│\u001b[0m\n",
       "\u001b[95m│\u001b[0m │\u001b[96m \u001b[0m\u001b[96mparse_sentiment           \u001b[0m\u001b[96m \u001b[0m│\u001b[92m \u001b[0m\u001b[92mTextParserBlock   \u001b[0m\u001b[92m \u001b[0m│\u001b[93m \u001b[0m\u001b[93m['raw_sentiment']              \u001b[0m\u001b[93m \u001b[0m│\u001b[91m \u001b[0m\u001b[91m['sentiment']          \u001b[0m\u001b[91m \u001b[0m│ \u001b[95m│\u001b[0m\n",
       "\u001b[95m│\u001b[0m │\u001b[96m \u001b[0m\u001b[96mcreate_structured_insights\u001b[0m\u001b[96m \u001b[0m│\u001b[92m \u001b[0m\u001b[92mJSONStructureBlock\u001b[0m\u001b[92m \u001b[0m│\u001b[93m \u001b[0m\u001b[93m['summary', 'keywords',        \u001b[0m\u001b[93m \u001b[0m│\u001b[91m \u001b[0m\u001b[91m['structured_insights']\u001b[0m\u001b[91m \u001b[0m│ \u001b[95m│\u001b[0m\n",
       "\u001b[95m│\u001b[0m │\u001b[96m                            \u001b[0m│\u001b[92m                    \u001b[0m│\u001b[93m \u001b[0m\u001b[93m'entities', 'sentiment']       \u001b[0m\u001b[93m \u001b[0m│\u001b[91m                         \u001b[0m│ \u001b[95m│\u001b[0m\n",
       "\u001b[95m│\u001b[0m └────────────────────────────┴────────────────────┴─────────────────────────────────┴─────────────────────────┘ \u001b[95m│\u001b[0m\n",
       "\u001b[95m╰─────────────────────────────────────────────────────────────────────────────────────────────────────────────────╯\u001b[0m\n"
      ]
     },
     "metadata": {},
     "output_type": "display_data"
    },
    {
     "data": {
      "text/html": [
       "<pre style=\"white-space:pre;overflow-x:auto;line-height:normal;font-family:Menlo,'DejaVu Sans Mono',consolas,'Courier New',monospace\">\n",
       "</pre>\n"
      ],
      "text/plain": [
       "\n"
      ]
     },
     "metadata": {},
     "output_type": "display_data"
    }
   ],
   "source": [
    "# We'll modify the existing flow by adding our ticker extraction blocks\n",
    "# First, let's examine the current flow structure\n",
    "flow.print_info()"
   ]
  },
  {
   "cell_type": "code",
   "execution_count": 13,
   "metadata": {},
   "outputs": [
    {
     "name": "stdout",
     "output_type": "stream",
     "text": [
      "🚀 Adding stock ticker extraction blocks to the flow...\n",
      "✅ Created ticker extraction blocks:\n",
      "  1. stock_ticker_prompt - Builds extraction prompt\n",
      "  2. extract_stock_tickers - Extracts tickers via LLM\n",
      "  3. parse_stock_tickers - Parses LLM output\n",
      "🔧 Updating JSON structure to include stock ticker field...\n",
      "✅ Enhanced JSON structure will include:\n",
      "  📝 summary - Article summary\n",
      "  🔑 keywords - Important keywords\n",
      "  🏷️ entities - Named entities\n",
      "  😊 sentiment - Emotional tone\n",
      "  📈 stock_tickers - Stock ticker symbols (NEW!)\n"
     ]
    }
   ],
   "source": [
    "# Import the blocks we need\n",
    "from sdg_hub.core.blocks.llm import PromptBuilderBlock, LLMChatBlock, TextParserBlock\n",
    "from sdg_hub.core.blocks.transform import JSONStructureBlock\n",
    "\n",
    "# Step 1: Add stock ticker extraction blocks to the flow\n",
    "print(\"🚀 Adding stock ticker extraction blocks to the flow...\")\n",
    "\n",
    "# Create the stock ticker extraction blocks\n",
    "ticker_prompt_block = PromptBuilderBlock(\n",
    "    block_name=\"stock_ticker_prompt\",\n",
    "    input_cols=[\"text\"],\n",
    "    output_cols=[\"ticker_prompt\"],\n",
    "    prompt_config_path=\"extract_stock_tickers.yaml\"\n",
    ")\n",
    "\n",
    "ticker_llm_block = LLMChatBlock(\n",
    "    block_name=\"extract_stock_tickers\",\n",
    "    input_cols=[\"ticker_prompt\"],\n",
    "    output_cols=[\"raw_stock_tickers\"],\n",
    "    max_tokens=100,\n",
    "    temperature=0.1  # Low temperature for more consistent extraction\n",
    ")\n",
    "\n",
    "ticker_parser_block = TextParserBlock(\n",
    "    block_name=\"parse_stock_tickers\",\n",
    "    input_cols=[\"raw_stock_tickers\"],\n",
    "    output_cols=[\"stock_tickers\"],\n",
    "    start_tags=[\"[STOCK_TICKERS]\"],\n",
    "    end_tags=[\"[/STOCK_TICKERS]\"]\n",
    ")\n",
    "\n",
    "print(\"✅ Created ticker extraction blocks:\")\n",
    "print(f\"  1. {ticker_prompt_block.block_name} - Builds extraction prompt\")\n",
    "print(f\"  2. {ticker_llm_block.block_name} - Extracts tickers via LLM\")\n",
    "print(f\"  3. {ticker_parser_block.block_name} - Parses LLM output\")\n",
    "\n",
    "# Step 2: Update the JSONStructureBlock to include stock tickers\n",
    "print(\"🔧 Updating JSON structure to include stock ticker field...\")\n",
    "\n",
    "# Create a new JSONStructureBlock configuration that includes our new stock_tickers field\n",
    "enhanced_json_block = JSONStructureBlock(\n",
    "    block_name=\"create_enhanced_structured_insights\",\n",
    "    input_cols=[\"summary\", \"keywords\", \"entities\", \"sentiment\", \"stock_tickers\"],\n",
    "    output_cols=[\"enhanced_structured_insights\"]\n",
    ")\n",
    "\n",
    "print(\"✅ Enhanced JSON structure will include:\")\n",
    "print(\"  📝 summary - Article summary\")\n",
    "print(\"  🔑 keywords - Important keywords\")\n",
    "print(\"  🏷️ entities - Named entities\")\n",
    "print(\"  😊 sentiment - Emotional tone\")\n",
    "print(\"  📈 stock_tickers - Stock ticker symbols (NEW!)\")"
   ]
  },
  {
   "cell_type": "code",
   "execution_count": 14,
   "metadata": {},
   "outputs": [
    {
     "data": {
      "text/html": [
       "<pre style=\"white-space:pre;overflow-x:auto;line-height:normal;font-family:Menlo,'DejaVu Sans Mono',consolas,'Courier New',monospace\">\n",
       "</pre>\n"
      ],
      "text/plain": [
       "\n"
      ]
     },
     "metadata": {},
     "output_type": "display_data"
    },
    {
     "data": {
      "text/html": [
       "<pre style=\"white-space:pre;overflow-x:auto;line-height:normal;font-family:Menlo,'DejaVu Sans Mono',consolas,'Courier New',monospace\"><span style=\"color: #0000ff; text-decoration-color: #0000ff\">╭─────────────────────────────────────────────── </span><span style=\"color: #ffffff; text-decoration-color: #ffffff; font-weight: bold\">Flow Information</span><span style=\"color: #0000ff; text-decoration-color: #0000ff\"> ────────────────────────────────────────────────╮</span>\n",
       "<span style=\"color: #0000ff; text-decoration-color: #0000ff\">│</span> <span style=\"color: #0000ff; text-decoration-color: #0000ff; font-weight: bold\">Structured Text Insights Extraction Flow</span> Flow                                                                   <span style=\"color: #0000ff; text-decoration-color: #0000ff\">│</span>\n",
       "<span style=\"color: #0000ff; text-decoration-color: #0000ff\">│</span> ├── <span style=\"color: #00ff00; text-decoration-color: #00ff00; font-weight: bold\">Metadata</span>                                                                                                    <span style=\"color: #0000ff; text-decoration-color: #0000ff\">│</span>\n",
       "<span style=\"color: #0000ff; text-decoration-color: #0000ff\">│</span> │   ├── Version: <span style=\"color: #00ffff; text-decoration-color: #00ffff\">1.0.0</span>                                                                                          <span style=\"color: #0000ff; text-decoration-color: #0000ff\">│</span>\n",
       "<span style=\"color: #0000ff; text-decoration-color: #0000ff\">│</span> │   ├── Author: <span style=\"color: #00ffff; text-decoration-color: #00ffff\">SDG Hub Contributors</span>                                                                            <span style=\"color: #0000ff; text-decoration-color: #0000ff\">│</span>\n",
       "<span style=\"color: #0000ff; text-decoration-color: #0000ff\">│</span> │   └── Description: <span style=\"color: #c0c0c0; text-decoration-color: #c0c0c0\">Multi-step pipeline for extracting structured insights from text including summary, </span>       <span style=\"color: #0000ff; text-decoration-color: #0000ff\">│</span>\n",
       "<span style=\"color: #0000ff; text-decoration-color: #0000ff\">│</span> │       <span style=\"color: #c0c0c0; text-decoration-color: #c0c0c0\">keywords, entities, and sentiment analysis combined into a JSON output</span>                                  <span style=\"color: #0000ff; text-decoration-color: #0000ff\">│</span>\n",
       "<span style=\"color: #0000ff; text-decoration-color: #0000ff\">│</span> └── <span style=\"color: #ff00ff; text-decoration-color: #ff00ff; font-weight: bold\">Blocks</span> (16 total)                                                                                           <span style=\"color: #0000ff; text-decoration-color: #0000ff\">│</span>\n",
       "<span style=\"color: #0000ff; text-decoration-color: #0000ff\">╰─────────────────────────────────────────────────────────────────────────────────────────────────────────────────╯</span>\n",
       "</pre>\n"
      ],
      "text/plain": [
       "\u001b[94m╭─\u001b[0m\u001b[94m──────────────────────────────────────────────\u001b[0m\u001b[94m \u001b[0m\u001b[1;97mFlow Information\u001b[0m\u001b[94m \u001b[0m\u001b[94m───────────────────────────────────────────────\u001b[0m\u001b[94m─╮\u001b[0m\n",
       "\u001b[94m│\u001b[0m \u001b[1;94mStructured Text Insights Extraction Flow\u001b[0m Flow                                                                   \u001b[94m│\u001b[0m\n",
       "\u001b[94m│\u001b[0m ├── \u001b[1;92mMetadata\u001b[0m                                                                                                    \u001b[94m│\u001b[0m\n",
       "\u001b[94m│\u001b[0m │   ├── Version: \u001b[96m1.0.0\u001b[0m                                                                                          \u001b[94m│\u001b[0m\n",
       "\u001b[94m│\u001b[0m │   ├── Author: \u001b[96mSDG Hub Contributors\u001b[0m                                                                            \u001b[94m│\u001b[0m\n",
       "\u001b[94m│\u001b[0m │   └── Description: \u001b[37mMulti-step pipeline for extracting structured insights from text including summary, \u001b[0m       \u001b[94m│\u001b[0m\n",
       "\u001b[94m│\u001b[0m │       \u001b[37mkeywords, entities, and sentiment analysis combined into a JSON output\u001b[0m                                  \u001b[94m│\u001b[0m\n",
       "\u001b[94m│\u001b[0m └── \u001b[1;95mBlocks\u001b[0m (16 total)                                                                                           \u001b[94m│\u001b[0m\n",
       "\u001b[94m╰─────────────────────────────────────────────────────────────────────────────────────────────────────────────────╯\u001b[0m\n"
      ]
     },
     "metadata": {},
     "output_type": "display_data"
    },
    {
     "data": {
      "text/html": [
       "<pre style=\"white-space:pre;overflow-x:auto;line-height:normal;font-family:Menlo,'DejaVu Sans Mono',consolas,'Courier New',monospace\">\n",
       "</pre>\n"
      ],
      "text/plain": [
       "\n"
      ]
     },
     "metadata": {},
     "output_type": "display_data"
    },
    {
     "data": {
      "text/html": [
       "<pre style=\"white-space:pre;overflow-x:auto;line-height:normal;font-family:Menlo,'DejaVu Sans Mono',consolas,'Courier New',monospace\"><span style=\"color: #ff00ff; text-decoration-color: #ff00ff\">╭───────────────────────────────────────────────── </span><span style=\"color: #ffffff; text-decoration-color: #ffffff; font-weight: bold\">Block Details</span><span style=\"color: #ff00ff; text-decoration-color: #ff00ff\"> ─────────────────────────────────────────────────╮</span>\n",
       "<span style=\"color: #ff00ff; text-decoration-color: #ff00ff\">│</span> ┏━━━━━━━━━━━━━━━━━━━━━━━━━━━━━┳━━━━━━━━━━━━━━━━━━━━┳━━━━━━━━━━━━━━━━━━━━━━━━━━━━┳━━━━━━━━━━━━━━━━━━━━━━━━━━━━━┓ <span style=\"color: #ff00ff; text-decoration-color: #ff00ff\">│</span>\n",
       "<span style=\"color: #ff00ff; text-decoration-color: #ff00ff\">│</span> ┃<span style=\"color: #ffffff; text-decoration-color: #ffffff; font-weight: bold\"> Block Name                  </span>┃<span style=\"color: #ffffff; text-decoration-color: #ffffff; font-weight: bold\"> Type               </span>┃<span style=\"color: #ffffff; text-decoration-color: #ffffff; font-weight: bold\"> Input Cols                 </span>┃<span style=\"color: #ffffff; text-decoration-color: #ffffff; font-weight: bold\"> Output Cols                 </span>┃ <span style=\"color: #ff00ff; text-decoration-color: #ff00ff\">│</span>\n",
       "<span style=\"color: #ff00ff; text-decoration-color: #ff00ff\">│</span> ┡━━━━━━━━━━━━━━━━━━━━━━━━━━━━━╇━━━━━━━━━━━━━━━━━━━━╇━━━━━━━━━━━━━━━━━━━━━━━━━━━━╇━━━━━━━━━━━━━━━━━━━━━━━━━━━━━┩ <span style=\"color: #ff00ff; text-decoration-color: #ff00ff\">│</span>\n",
       "<span style=\"color: #ff00ff; text-decoration-color: #ff00ff\">│</span> │<span style=\"color: #00ffff; text-decoration-color: #00ffff\"> build_summary_prompt        </span>│<span style=\"color: #00ff00; text-decoration-color: #00ff00\"> PromptBuilderBlock </span>│<span style=\"color: #ffff00; text-decoration-color: #ffff00\"> ['text']                   </span>│<span style=\"color: #ff0000; text-decoration-color: #ff0000\"> ['summary_prompt']          </span>│ <span style=\"color: #ff00ff; text-decoration-color: #ff00ff\">│</span>\n",
       "<span style=\"color: #ff00ff; text-decoration-color: #ff00ff\">│</span> │<span style=\"color: #00ffff; text-decoration-color: #00ffff\"> generate_summary            </span>│<span style=\"color: #00ff00; text-decoration-color: #00ff00\"> LLMChatBlock       </span>│<span style=\"color: #ffff00; text-decoration-color: #ffff00\"> ['summary_prompt']         </span>│<span style=\"color: #ff0000; text-decoration-color: #ff0000\"> ['raw_summary']             </span>│ <span style=\"color: #ff00ff; text-decoration-color: #ff00ff\">│</span>\n",
       "<span style=\"color: #ff00ff; text-decoration-color: #ff00ff\">│</span> │<span style=\"color: #00ffff; text-decoration-color: #00ffff\"> parse_summary               </span>│<span style=\"color: #00ff00; text-decoration-color: #00ff00\"> TextParserBlock    </span>│<span style=\"color: #ffff00; text-decoration-color: #ffff00\"> ['raw_summary']            </span>│<span style=\"color: #ff0000; text-decoration-color: #ff0000\"> ['summary']                 </span>│ <span style=\"color: #ff00ff; text-decoration-color: #ff00ff\">│</span>\n",
       "<span style=\"color: #ff00ff; text-decoration-color: #ff00ff\">│</span> │<span style=\"color: #00ffff; text-decoration-color: #00ffff\"> build_keywords_prompt       </span>│<span style=\"color: #00ff00; text-decoration-color: #00ff00\"> PromptBuilderBlock </span>│<span style=\"color: #ffff00; text-decoration-color: #ffff00\"> ['text']                   </span>│<span style=\"color: #ff0000; text-decoration-color: #ff0000\"> ['keywords_prompt']         </span>│ <span style=\"color: #ff00ff; text-decoration-color: #ff00ff\">│</span>\n",
       "<span style=\"color: #ff00ff; text-decoration-color: #ff00ff\">│</span> │<span style=\"color: #00ffff; text-decoration-color: #00ffff\"> generate_keywords           </span>│<span style=\"color: #00ff00; text-decoration-color: #00ff00\"> LLMChatBlock       </span>│<span style=\"color: #ffff00; text-decoration-color: #ffff00\"> ['keywords_prompt']        </span>│<span style=\"color: #ff0000; text-decoration-color: #ff0000\"> ['raw_keywords']            </span>│ <span style=\"color: #ff00ff; text-decoration-color: #ff00ff\">│</span>\n",
       "<span style=\"color: #ff00ff; text-decoration-color: #ff00ff\">│</span> │<span style=\"color: #00ffff; text-decoration-color: #00ffff\"> parse_keywords              </span>│<span style=\"color: #00ff00; text-decoration-color: #00ff00\"> TextParserBlock    </span>│<span style=\"color: #ffff00; text-decoration-color: #ffff00\"> ['raw_keywords']           </span>│<span style=\"color: #ff0000; text-decoration-color: #ff0000\"> ['keywords']                </span>│ <span style=\"color: #ff00ff; text-decoration-color: #ff00ff\">│</span>\n",
       "<span style=\"color: #ff00ff; text-decoration-color: #ff00ff\">│</span> │<span style=\"color: #00ffff; text-decoration-color: #00ffff\"> build_entities_prompt       </span>│<span style=\"color: #00ff00; text-decoration-color: #00ff00\"> PromptBuilderBlock </span>│<span style=\"color: #ffff00; text-decoration-color: #ffff00\"> ['text']                   </span>│<span style=\"color: #ff0000; text-decoration-color: #ff0000\"> ['entities_prompt']         </span>│ <span style=\"color: #ff00ff; text-decoration-color: #ff00ff\">│</span>\n",
       "<span style=\"color: #ff00ff; text-decoration-color: #ff00ff\">│</span> │<span style=\"color: #00ffff; text-decoration-color: #00ffff\"> generate_entities           </span>│<span style=\"color: #00ff00; text-decoration-color: #00ff00\"> LLMChatBlock       </span>│<span style=\"color: #ffff00; text-decoration-color: #ffff00\"> ['entities_prompt']        </span>│<span style=\"color: #ff0000; text-decoration-color: #ff0000\"> ['raw_entities']            </span>│ <span style=\"color: #ff00ff; text-decoration-color: #ff00ff\">│</span>\n",
       "<span style=\"color: #ff00ff; text-decoration-color: #ff00ff\">│</span> │<span style=\"color: #00ffff; text-decoration-color: #00ffff\"> parse_entities              </span>│<span style=\"color: #00ff00; text-decoration-color: #00ff00\"> TextParserBlock    </span>│<span style=\"color: #ffff00; text-decoration-color: #ffff00\"> ['raw_entities']           </span>│<span style=\"color: #ff0000; text-decoration-color: #ff0000\"> ['entities']                </span>│ <span style=\"color: #ff00ff; text-decoration-color: #ff00ff\">│</span>\n",
       "<span style=\"color: #ff00ff; text-decoration-color: #ff00ff\">│</span> │<span style=\"color: #00ffff; text-decoration-color: #00ffff\"> build_sentiment_prompt      </span>│<span style=\"color: #00ff00; text-decoration-color: #00ff00\"> PromptBuilderBlock </span>│<span style=\"color: #ffff00; text-decoration-color: #ffff00\"> ['text']                   </span>│<span style=\"color: #ff0000; text-decoration-color: #ff0000\"> ['sentiment_prompt']        </span>│ <span style=\"color: #ff00ff; text-decoration-color: #ff00ff\">│</span>\n",
       "<span style=\"color: #ff00ff; text-decoration-color: #ff00ff\">│</span> │<span style=\"color: #00ffff; text-decoration-color: #00ffff\"> generate_sentiment          </span>│<span style=\"color: #00ff00; text-decoration-color: #00ff00\"> LLMChatBlock       </span>│<span style=\"color: #ffff00; text-decoration-color: #ffff00\"> ['sentiment_prompt']       </span>│<span style=\"color: #ff0000; text-decoration-color: #ff0000\"> ['raw_sentiment']           </span>│ <span style=\"color: #ff00ff; text-decoration-color: #ff00ff\">│</span>\n",
       "<span style=\"color: #ff00ff; text-decoration-color: #ff00ff\">│</span> │<span style=\"color: #00ffff; text-decoration-color: #00ffff\"> parse_sentiment             </span>│<span style=\"color: #00ff00; text-decoration-color: #00ff00\"> TextParserBlock    </span>│<span style=\"color: #ffff00; text-decoration-color: #ffff00\"> ['raw_sentiment']          </span>│<span style=\"color: #ff0000; text-decoration-color: #ff0000\"> ['sentiment']               </span>│ <span style=\"color: #ff00ff; text-decoration-color: #ff00ff\">│</span>\n",
       "<span style=\"color: #ff00ff; text-decoration-color: #ff00ff\">│</span> │<span style=\"color: #00ffff; text-decoration-color: #00ffff\"> stock_ticker_prompt         </span>│<span style=\"color: #00ff00; text-decoration-color: #00ff00\"> PromptBuilderBlock </span>│<span style=\"color: #ffff00; text-decoration-color: #ffff00\"> ['text']                   </span>│<span style=\"color: #ff0000; text-decoration-color: #ff0000\"> ['ticker_prompt']           </span>│ <span style=\"color: #ff00ff; text-decoration-color: #ff00ff\">│</span>\n",
       "<span style=\"color: #ff00ff; text-decoration-color: #ff00ff\">│</span> │<span style=\"color: #00ffff; text-decoration-color: #00ffff\"> extract_stock_tickers       </span>│<span style=\"color: #00ff00; text-decoration-color: #00ff00\"> LLMChatBlock       </span>│<span style=\"color: #ffff00; text-decoration-color: #ffff00\"> ['ticker_prompt']          </span>│<span style=\"color: #ff0000; text-decoration-color: #ff0000\"> ['raw_stock_tickers']       </span>│ <span style=\"color: #ff00ff; text-decoration-color: #ff00ff\">│</span>\n",
       "<span style=\"color: #ff00ff; text-decoration-color: #ff00ff\">│</span> │<span style=\"color: #00ffff; text-decoration-color: #00ffff\"> parse_stock_tickers         </span>│<span style=\"color: #00ff00; text-decoration-color: #00ff00\"> TextParserBlock    </span>│<span style=\"color: #ffff00; text-decoration-color: #ffff00\"> ['raw_stock_tickers']      </span>│<span style=\"color: #ff0000; text-decoration-color: #ff0000\"> ['stock_tickers']           </span>│ <span style=\"color: #ff00ff; text-decoration-color: #ff00ff\">│</span>\n",
       "<span style=\"color: #ff00ff; text-decoration-color: #ff00ff\">│</span> │<span style=\"color: #00ffff; text-decoration-color: #00ffff\"> create_enhanced_structured… </span>│<span style=\"color: #00ff00; text-decoration-color: #00ff00\"> JSONStructureBlock </span>│<span style=\"color: #ffff00; text-decoration-color: #ffff00\"> ['summary', 'keywords',    </span>│<span style=\"color: #ff0000; text-decoration-color: #ff0000\"> ['enhanced_structured_insi… </span>│ <span style=\"color: #ff00ff; text-decoration-color: #ff00ff\">│</span>\n",
       "<span style=\"color: #ff00ff; text-decoration-color: #ff00ff\">│</span> │<span style=\"color: #00ffff; text-decoration-color: #00ffff\">                             </span>│<span style=\"color: #00ff00; text-decoration-color: #00ff00\">                    </span>│<span style=\"color: #ffff00; text-decoration-color: #ffff00\"> 'entities', 'sentiment',   </span>│<span style=\"color: #ff0000; text-decoration-color: #ff0000\">                             </span>│ <span style=\"color: #ff00ff; text-decoration-color: #ff00ff\">│</span>\n",
       "<span style=\"color: #ff00ff; text-decoration-color: #ff00ff\">│</span> │<span style=\"color: #00ffff; text-decoration-color: #00ffff\">                             </span>│<span style=\"color: #00ff00; text-decoration-color: #00ff00\">                    </span>│<span style=\"color: #ffff00; text-decoration-color: #ffff00\"> 'stock_tickers']           </span>│<span style=\"color: #ff0000; text-decoration-color: #ff0000\">                             </span>│ <span style=\"color: #ff00ff; text-decoration-color: #ff00ff\">│</span>\n",
       "<span style=\"color: #ff00ff; text-decoration-color: #ff00ff\">│</span> └─────────────────────────────┴────────────────────┴────────────────────────────┴─────────────────────────────┘ <span style=\"color: #ff00ff; text-decoration-color: #ff00ff\">│</span>\n",
       "<span style=\"color: #ff00ff; text-decoration-color: #ff00ff\">╰─────────────────────────────────────────────────────────────────────────────────────────────────────────────────╯</span>\n",
       "</pre>\n"
      ],
      "text/plain": [
       "\u001b[95m╭─\u001b[0m\u001b[95m────────────────────────────────────────────────\u001b[0m\u001b[95m \u001b[0m\u001b[1;97mBlock Details\u001b[0m\u001b[95m \u001b[0m\u001b[95m────────────────────────────────────────────────\u001b[0m\u001b[95m─╮\u001b[0m\n",
       "\u001b[95m│\u001b[0m ┏━━━━━━━━━━━━━━━━━━━━━━━━━━━━━┳━━━━━━━━━━━━━━━━━━━━┳━━━━━━━━━━━━━━━━━━━━━━━━━━━━┳━━━━━━━━━━━━━━━━━━━━━━━━━━━━━┓ \u001b[95m│\u001b[0m\n",
       "\u001b[95m│\u001b[0m ┃\u001b[1;97m \u001b[0m\u001b[1;97mBlock Name                 \u001b[0m\u001b[1;97m \u001b[0m┃\u001b[1;97m \u001b[0m\u001b[1;97mType              \u001b[0m\u001b[1;97m \u001b[0m┃\u001b[1;97m \u001b[0m\u001b[1;97mInput Cols                \u001b[0m\u001b[1;97m \u001b[0m┃\u001b[1;97m \u001b[0m\u001b[1;97mOutput Cols                \u001b[0m\u001b[1;97m \u001b[0m┃ \u001b[95m│\u001b[0m\n",
       "\u001b[95m│\u001b[0m ┡━━━━━━━━━━━━━━━━━━━━━━━━━━━━━╇━━━━━━━━━━━━━━━━━━━━╇━━━━━━━━━━━━━━━━━━━━━━━━━━━━╇━━━━━━━━━━━━━━━━━━━━━━━━━━━━━┩ \u001b[95m│\u001b[0m\n",
       "\u001b[95m│\u001b[0m │\u001b[96m \u001b[0m\u001b[96mbuild_summary_prompt       \u001b[0m\u001b[96m \u001b[0m│\u001b[92m \u001b[0m\u001b[92mPromptBuilderBlock\u001b[0m\u001b[92m \u001b[0m│\u001b[93m \u001b[0m\u001b[93m['text']                  \u001b[0m\u001b[93m \u001b[0m│\u001b[91m \u001b[0m\u001b[91m['summary_prompt']         \u001b[0m\u001b[91m \u001b[0m│ \u001b[95m│\u001b[0m\n",
       "\u001b[95m│\u001b[0m │\u001b[96m \u001b[0m\u001b[96mgenerate_summary           \u001b[0m\u001b[96m \u001b[0m│\u001b[92m \u001b[0m\u001b[92mLLMChatBlock      \u001b[0m\u001b[92m \u001b[0m│\u001b[93m \u001b[0m\u001b[93m['summary_prompt']        \u001b[0m\u001b[93m \u001b[0m│\u001b[91m \u001b[0m\u001b[91m['raw_summary']            \u001b[0m\u001b[91m \u001b[0m│ \u001b[95m│\u001b[0m\n",
       "\u001b[95m│\u001b[0m │\u001b[96m \u001b[0m\u001b[96mparse_summary              \u001b[0m\u001b[96m \u001b[0m│\u001b[92m \u001b[0m\u001b[92mTextParserBlock   \u001b[0m\u001b[92m \u001b[0m│\u001b[93m \u001b[0m\u001b[93m['raw_summary']           \u001b[0m\u001b[93m \u001b[0m│\u001b[91m \u001b[0m\u001b[91m['summary']                \u001b[0m\u001b[91m \u001b[0m│ \u001b[95m│\u001b[0m\n",
       "\u001b[95m│\u001b[0m │\u001b[96m \u001b[0m\u001b[96mbuild_keywords_prompt      \u001b[0m\u001b[96m \u001b[0m│\u001b[92m \u001b[0m\u001b[92mPromptBuilderBlock\u001b[0m\u001b[92m \u001b[0m│\u001b[93m \u001b[0m\u001b[93m['text']                  \u001b[0m\u001b[93m \u001b[0m│\u001b[91m \u001b[0m\u001b[91m['keywords_prompt']        \u001b[0m\u001b[91m \u001b[0m│ \u001b[95m│\u001b[0m\n",
       "\u001b[95m│\u001b[0m │\u001b[96m \u001b[0m\u001b[96mgenerate_keywords          \u001b[0m\u001b[96m \u001b[0m│\u001b[92m \u001b[0m\u001b[92mLLMChatBlock      \u001b[0m\u001b[92m \u001b[0m│\u001b[93m \u001b[0m\u001b[93m['keywords_prompt']       \u001b[0m\u001b[93m \u001b[0m│\u001b[91m \u001b[0m\u001b[91m['raw_keywords']           \u001b[0m\u001b[91m \u001b[0m│ \u001b[95m│\u001b[0m\n",
       "\u001b[95m│\u001b[0m │\u001b[96m \u001b[0m\u001b[96mparse_keywords             \u001b[0m\u001b[96m \u001b[0m│\u001b[92m \u001b[0m\u001b[92mTextParserBlock   \u001b[0m\u001b[92m \u001b[0m│\u001b[93m \u001b[0m\u001b[93m['raw_keywords']          \u001b[0m\u001b[93m \u001b[0m│\u001b[91m \u001b[0m\u001b[91m['keywords']               \u001b[0m\u001b[91m \u001b[0m│ \u001b[95m│\u001b[0m\n",
       "\u001b[95m│\u001b[0m │\u001b[96m \u001b[0m\u001b[96mbuild_entities_prompt      \u001b[0m\u001b[96m \u001b[0m│\u001b[92m \u001b[0m\u001b[92mPromptBuilderBlock\u001b[0m\u001b[92m \u001b[0m│\u001b[93m \u001b[0m\u001b[93m['text']                  \u001b[0m\u001b[93m \u001b[0m│\u001b[91m \u001b[0m\u001b[91m['entities_prompt']        \u001b[0m\u001b[91m \u001b[0m│ \u001b[95m│\u001b[0m\n",
       "\u001b[95m│\u001b[0m │\u001b[96m \u001b[0m\u001b[96mgenerate_entities          \u001b[0m\u001b[96m \u001b[0m│\u001b[92m \u001b[0m\u001b[92mLLMChatBlock      \u001b[0m\u001b[92m \u001b[0m│\u001b[93m \u001b[0m\u001b[93m['entities_prompt']       \u001b[0m\u001b[93m \u001b[0m│\u001b[91m \u001b[0m\u001b[91m['raw_entities']           \u001b[0m\u001b[91m \u001b[0m│ \u001b[95m│\u001b[0m\n",
       "\u001b[95m│\u001b[0m │\u001b[96m \u001b[0m\u001b[96mparse_entities             \u001b[0m\u001b[96m \u001b[0m│\u001b[92m \u001b[0m\u001b[92mTextParserBlock   \u001b[0m\u001b[92m \u001b[0m│\u001b[93m \u001b[0m\u001b[93m['raw_entities']          \u001b[0m\u001b[93m \u001b[0m│\u001b[91m \u001b[0m\u001b[91m['entities']               \u001b[0m\u001b[91m \u001b[0m│ \u001b[95m│\u001b[0m\n",
       "\u001b[95m│\u001b[0m │\u001b[96m \u001b[0m\u001b[96mbuild_sentiment_prompt     \u001b[0m\u001b[96m \u001b[0m│\u001b[92m \u001b[0m\u001b[92mPromptBuilderBlock\u001b[0m\u001b[92m \u001b[0m│\u001b[93m \u001b[0m\u001b[93m['text']                  \u001b[0m\u001b[93m \u001b[0m│\u001b[91m \u001b[0m\u001b[91m['sentiment_prompt']       \u001b[0m\u001b[91m \u001b[0m│ \u001b[95m│\u001b[0m\n",
       "\u001b[95m│\u001b[0m │\u001b[96m \u001b[0m\u001b[96mgenerate_sentiment         \u001b[0m\u001b[96m \u001b[0m│\u001b[92m \u001b[0m\u001b[92mLLMChatBlock      \u001b[0m\u001b[92m \u001b[0m│\u001b[93m \u001b[0m\u001b[93m['sentiment_prompt']      \u001b[0m\u001b[93m \u001b[0m│\u001b[91m \u001b[0m\u001b[91m['raw_sentiment']          \u001b[0m\u001b[91m \u001b[0m│ \u001b[95m│\u001b[0m\n",
       "\u001b[95m│\u001b[0m │\u001b[96m \u001b[0m\u001b[96mparse_sentiment            \u001b[0m\u001b[96m \u001b[0m│\u001b[92m \u001b[0m\u001b[92mTextParserBlock   \u001b[0m\u001b[92m \u001b[0m│\u001b[93m \u001b[0m\u001b[93m['raw_sentiment']         \u001b[0m\u001b[93m \u001b[0m│\u001b[91m \u001b[0m\u001b[91m['sentiment']              \u001b[0m\u001b[91m \u001b[0m│ \u001b[95m│\u001b[0m\n",
       "\u001b[95m│\u001b[0m │\u001b[96m \u001b[0m\u001b[96mstock_ticker_prompt        \u001b[0m\u001b[96m \u001b[0m│\u001b[92m \u001b[0m\u001b[92mPromptBuilderBlock\u001b[0m\u001b[92m \u001b[0m│\u001b[93m \u001b[0m\u001b[93m['text']                  \u001b[0m\u001b[93m \u001b[0m│\u001b[91m \u001b[0m\u001b[91m['ticker_prompt']          \u001b[0m\u001b[91m \u001b[0m│ \u001b[95m│\u001b[0m\n",
       "\u001b[95m│\u001b[0m │\u001b[96m \u001b[0m\u001b[96mextract_stock_tickers      \u001b[0m\u001b[96m \u001b[0m│\u001b[92m \u001b[0m\u001b[92mLLMChatBlock      \u001b[0m\u001b[92m \u001b[0m│\u001b[93m \u001b[0m\u001b[93m['ticker_prompt']         \u001b[0m\u001b[93m \u001b[0m│\u001b[91m \u001b[0m\u001b[91m['raw_stock_tickers']      \u001b[0m\u001b[91m \u001b[0m│ \u001b[95m│\u001b[0m\n",
       "\u001b[95m│\u001b[0m │\u001b[96m \u001b[0m\u001b[96mparse_stock_tickers        \u001b[0m\u001b[96m \u001b[0m│\u001b[92m \u001b[0m\u001b[92mTextParserBlock   \u001b[0m\u001b[92m \u001b[0m│\u001b[93m \u001b[0m\u001b[93m['raw_stock_tickers']     \u001b[0m\u001b[93m \u001b[0m│\u001b[91m \u001b[0m\u001b[91m['stock_tickers']          \u001b[0m\u001b[91m \u001b[0m│ \u001b[95m│\u001b[0m\n",
       "\u001b[95m│\u001b[0m │\u001b[96m \u001b[0m\u001b[96mcreate_enhanced_structured…\u001b[0m\u001b[96m \u001b[0m│\u001b[92m \u001b[0m\u001b[92mJSONStructureBlock\u001b[0m\u001b[92m \u001b[0m│\u001b[93m \u001b[0m\u001b[93m['summary', 'keywords',   \u001b[0m\u001b[93m \u001b[0m│\u001b[91m \u001b[0m\u001b[91m['enhanced_structured_insi…\u001b[0m\u001b[91m \u001b[0m│ \u001b[95m│\u001b[0m\n",
       "\u001b[95m│\u001b[0m │\u001b[96m                             \u001b[0m│\u001b[92m                    \u001b[0m│\u001b[93m \u001b[0m\u001b[93m'entities', 'sentiment',  \u001b[0m\u001b[93m \u001b[0m│\u001b[91m                             \u001b[0m│ \u001b[95m│\u001b[0m\n",
       "\u001b[95m│\u001b[0m │\u001b[96m                             \u001b[0m│\u001b[92m                    \u001b[0m│\u001b[93m \u001b[0m\u001b[93m'stock_tickers']          \u001b[0m\u001b[93m \u001b[0m│\u001b[91m                             \u001b[0m│ \u001b[95m│\u001b[0m\n",
       "\u001b[95m│\u001b[0m └─────────────────────────────┴────────────────────┴────────────────────────────┴─────────────────────────────┘ \u001b[95m│\u001b[0m\n",
       "\u001b[95m╰─────────────────────────────────────────────────────────────────────────────────────────────────────────────────╯\u001b[0m\n"
      ]
     },
     "metadata": {},
     "output_type": "display_data"
    },
    {
     "data": {
      "text/html": [
       "<pre style=\"white-space:pre;overflow-x:auto;line-height:normal;font-family:Menlo,'DejaVu Sans Mono',consolas,'Courier New',monospace\">\n",
       "</pre>\n"
      ],
      "text/plain": [
       "\n"
      ]
     },
     "metadata": {},
     "output_type": "display_data"
    }
   ],
   "source": [
    "\n",
    "# Remove the original JSONStructureBlock (if it exists in your flow/blocks list)\n",
    "# (Assume we are not using a flow object here, just not using the old block.)\n",
    "\n",
    "# Add the new blocks to a list for the enhanced pipeline\n",
    "ticker_blocks = [\n",
    "    ticker_prompt_block,\n",
    "    ticker_llm_block,\n",
    "    ticker_parser_block,\n",
    "    enhanced_json_block\n",
    "]\n",
    "\n",
    "flow.blocks.pop()\n",
    "flow.blocks.extend(ticker_blocks)\n",
    "flow.print_info()\n"
   ]
  },
  {
   "cell_type": "code",
   "execution_count": 15,
   "metadata": {},
   "outputs": [
    {
     "data": {
      "text/html": [
       "<pre style=\"white-space:pre;overflow-x:auto;line-height:normal;font-family:Menlo,'DejaVu Sans Mono',consolas,'Courier New',monospace\"><span style=\"color: #7fbfbf; text-decoration-color: #7fbfbf\">           </span><span style=\"color: #000080; text-decoration-color: #000080\">INFO    </span> Auto-detected <span style=\"color: #008080; text-decoration-color: #008080; font-weight: bold\">5</span> LLM blocks for configuration: <span style=\"font-weight: bold\">[</span><span style=\"color: #008000; text-decoration-color: #008000\">'extract_stock_tickers'</span>,             <a href=\"file:///Users/shiv/workspace/sdg_hub_add-structured-summary-nb/src/sdg_hub/core/flow/base.py\" target=\"_blank\"><span style=\"color: #7f7f7f; text-decoration-color: #7f7f7f\">base.py</span></a><span style=\"color: #7f7f7f; text-decoration-color: #7f7f7f\">:</span><a href=\"file:///Users/shiv/workspace/sdg_hub_add-structured-summary-nb/src/sdg_hub/core/flow/base.py#762\" target=\"_blank\"><span style=\"color: #7f7f7f; text-decoration-color: #7f7f7f\">762</span></a>\n",
       "<span style=\"color: #7fbfbf; text-decoration-color: #7fbfbf\">           </span>         <span style=\"color: #008000; text-decoration-color: #008000\">'generate_entities'</span>, <span style=\"color: #008000; text-decoration-color: #008000\">'generate_keywords'</span>, <span style=\"color: #008000; text-decoration-color: #008000\">'generate_sentiment'</span>, <span style=\"color: #008000; text-decoration-color: #008000\">'generate_summary'</span><span style=\"font-weight: bold\">]</span> <span style=\"color: #7f7f7f; text-decoration-color: #7f7f7f\">           </span>\n",
       "</pre>\n"
      ],
      "text/plain": [
       "\u001b[2;36m          \u001b[0m\u001b[2;36m \u001b[0m\u001b[34mINFO    \u001b[0m Auto-detected \u001b[1;36m5\u001b[0m LLM blocks for configuration: \u001b[1m[\u001b[0m\u001b[32m'extract_stock_tickers'\u001b[0m,             \u001b]8;id=620968;file:///Users/shiv/workspace/sdg_hub_add-structured-summary-nb/src/sdg_hub/core/flow/base.py\u001b\\\u001b[2mbase.py\u001b[0m\u001b]8;;\u001b\\\u001b[2m:\u001b[0m\u001b]8;id=192465;file:///Users/shiv/workspace/sdg_hub_add-structured-summary-nb/src/sdg_hub/core/flow/base.py#762\u001b\\\u001b[2m762\u001b[0m\u001b]8;;\u001b\\\n",
       "\u001b[2;36m           \u001b[0m         \u001b[32m'generate_entities'\u001b[0m, \u001b[32m'generate_keywords'\u001b[0m, \u001b[32m'generate_sentiment'\u001b[0m, \u001b[32m'generate_summary'\u001b[0m\u001b[1m]\u001b[0m \u001b[2m           \u001b[0m\n"
      ]
     },
     "metadata": {},
     "output_type": "display_data"
    },
    {
     "data": {
      "text/html": [
       "<pre style=\"white-space:pre;overflow-x:auto;line-height:normal;font-family:Menlo,'DejaVu Sans Mono',consolas,'Courier New',monospace\"><span style=\"color: #7fbfbf; text-decoration-color: #7fbfbf\">[15:26:15] </span><span style=\"color: #000080; text-decoration-color: #000080\">INFO    </span> Loaded LLM client for model                                                <a href=\"file:///Users/shiv/workspace/sdg_hub_add-structured-summary-nb/src/sdg_hub/core/blocks/llm/client_manager.py\" target=\"_blank\"><span style=\"color: #7f7f7f; text-decoration-color: #7f7f7f\">client_manager.py</span></a><span style=\"color: #7f7f7f; text-decoration-color: #7f7f7f\">:</span><a href=\"file:///Users/shiv/workspace/sdg_hub_add-structured-summary-nb/src/sdg_hub/core/blocks/llm/client_manager.py#61\" target=\"_blank\"><span style=\"color: #7f7f7f; text-decoration-color: #7f7f7f\">61</span></a>\n",
       "<span style=\"color: #7fbfbf; text-decoration-color: #7fbfbf\">           </span>         <span style=\"color: #008000; text-decoration-color: #008000\">'hosted_vllm/meta-llama/Llama-3.3-70B-Instruct'</span>                            <span style=\"color: #7f7f7f; text-decoration-color: #7f7f7f\">                    </span>\n",
       "</pre>\n"
      ],
      "text/plain": [
       "\u001b[2;36m[15:26:15]\u001b[0m\u001b[2;36m \u001b[0m\u001b[34mINFO    \u001b[0m Loaded LLM client for model                                                \u001b]8;id=112319;file:///Users/shiv/workspace/sdg_hub_add-structured-summary-nb/src/sdg_hub/core/blocks/llm/client_manager.py\u001b\\\u001b[2mclient_manager.py\u001b[0m\u001b]8;;\u001b\\\u001b[2m:\u001b[0m\u001b]8;id=815664;file:///Users/shiv/workspace/sdg_hub_add-structured-summary-nb/src/sdg_hub/core/blocks/llm/client_manager.py#61\u001b\\\u001b[2m61\u001b[0m\u001b]8;;\u001b\\\n",
       "\u001b[2;36m           \u001b[0m         \u001b[32m'hosted_vllm/meta-llama/Llama-3.3-70B-Instruct'\u001b[0m                            \u001b[2m                    \u001b[0m\n"
      ]
     },
     "metadata": {},
     "output_type": "display_data"
    },
    {
     "data": {
      "text/html": [
       "<pre style=\"white-space:pre;overflow-x:auto;line-height:normal;font-family:Menlo,'DejaVu Sans Mono',consolas,'Courier New',monospace\"><span style=\"color: #7fbfbf; text-decoration-color: #7fbfbf\">           </span><span style=\"color: #000080; text-decoration-color: #000080\">INFO    </span> Initialized LLMChatBlock <span style=\"color: #008000; text-decoration-color: #008000\">'generate_summary'</span> with model                    <a href=\"file:///Users/shiv/workspace/sdg_hub_add-structured-summary-nb/src/sdg_hub/core/blocks/llm/llm_chat_block.py\" target=\"_blank\"><span style=\"color: #7f7f7f; text-decoration-color: #7f7f7f\">llm_chat_block.py</span></a><span style=\"color: #7f7f7f; text-decoration-color: #7f7f7f\">:</span><a href=\"file:///Users/shiv/workspace/sdg_hub_add-structured-summary-nb/src/sdg_hub/core/blocks/llm/llm_chat_block.py#265\" target=\"_blank\"><span style=\"color: #7f7f7f; text-decoration-color: #7f7f7f\">265</span></a>\n",
       "<span style=\"color: #7fbfbf; text-decoration-color: #7fbfbf\">           </span>         <span style=\"color: #008000; text-decoration-color: #008000\">'hosted_vllm/meta-llama/Llama-3.3-70B-Instruct'</span>                           <span style=\"color: #7f7f7f; text-decoration-color: #7f7f7f\">                     </span>\n",
       "</pre>\n"
      ],
      "text/plain": [
       "\u001b[2;36m          \u001b[0m\u001b[2;36m \u001b[0m\u001b[34mINFO    \u001b[0m Initialized LLMChatBlock \u001b[32m'generate_summary'\u001b[0m with model                    \u001b]8;id=485749;file:///Users/shiv/workspace/sdg_hub_add-structured-summary-nb/src/sdg_hub/core/blocks/llm/llm_chat_block.py\u001b\\\u001b[2mllm_chat_block.py\u001b[0m\u001b]8;;\u001b\\\u001b[2m:\u001b[0m\u001b]8;id=697971;file:///Users/shiv/workspace/sdg_hub_add-structured-summary-nb/src/sdg_hub/core/blocks/llm/llm_chat_block.py#265\u001b\\\u001b[2m265\u001b[0m\u001b]8;;\u001b\\\n",
       "\u001b[2;36m           \u001b[0m         \u001b[32m'hosted_vllm/meta-llama/Llama-3.3-70B-Instruct'\u001b[0m                           \u001b[2m                     \u001b[0m\n"
      ]
     },
     "metadata": {},
     "output_type": "display_data"
    },
    {
     "data": {
      "text/html": [
       "<pre style=\"white-space:pre;overflow-x:auto;line-height:normal;font-family:Menlo,'DejaVu Sans Mono',consolas,'Courier New',monospace\"><span style=\"color: #7fbfbf; text-decoration-color: #7fbfbf\">           </span><span style=\"color: #000080; text-decoration-color: #000080\">INFO    </span> Loaded LLM client for model                                                <a href=\"file:///Users/shiv/workspace/sdg_hub_add-structured-summary-nb/src/sdg_hub/core/blocks/llm/client_manager.py\" target=\"_blank\"><span style=\"color: #7f7f7f; text-decoration-color: #7f7f7f\">client_manager.py</span></a><span style=\"color: #7f7f7f; text-decoration-color: #7f7f7f\">:</span><a href=\"file:///Users/shiv/workspace/sdg_hub_add-structured-summary-nb/src/sdg_hub/core/blocks/llm/client_manager.py#61\" target=\"_blank\"><span style=\"color: #7f7f7f; text-decoration-color: #7f7f7f\">61</span></a>\n",
       "<span style=\"color: #7fbfbf; text-decoration-color: #7fbfbf\">           </span>         <span style=\"color: #008000; text-decoration-color: #008000\">'hosted_vllm/meta-llama/Llama-3.3-70B-Instruct'</span>                            <span style=\"color: #7f7f7f; text-decoration-color: #7f7f7f\">                    </span>\n",
       "</pre>\n"
      ],
      "text/plain": [
       "\u001b[2;36m          \u001b[0m\u001b[2;36m \u001b[0m\u001b[34mINFO    \u001b[0m Loaded LLM client for model                                                \u001b]8;id=117479;file:///Users/shiv/workspace/sdg_hub_add-structured-summary-nb/src/sdg_hub/core/blocks/llm/client_manager.py\u001b\\\u001b[2mclient_manager.py\u001b[0m\u001b]8;;\u001b\\\u001b[2m:\u001b[0m\u001b]8;id=651539;file:///Users/shiv/workspace/sdg_hub_add-structured-summary-nb/src/sdg_hub/core/blocks/llm/client_manager.py#61\u001b\\\u001b[2m61\u001b[0m\u001b]8;;\u001b\\\n",
       "\u001b[2;36m           \u001b[0m         \u001b[32m'hosted_vllm/meta-llama/Llama-3.3-70B-Instruct'\u001b[0m                            \u001b[2m                    \u001b[0m\n"
      ]
     },
     "metadata": {},
     "output_type": "display_data"
    },
    {
     "data": {
      "text/html": [
       "<pre style=\"white-space:pre;overflow-x:auto;line-height:normal;font-family:Menlo,'DejaVu Sans Mono',consolas,'Courier New',monospace\"><span style=\"color: #7fbfbf; text-decoration-color: #7fbfbf\">           </span><span style=\"color: #000080; text-decoration-color: #000080\">INFO    </span> Initialized LLMChatBlock <span style=\"color: #008000; text-decoration-color: #008000\">'generate_keywords'</span> with model                   <a href=\"file:///Users/shiv/workspace/sdg_hub_add-structured-summary-nb/src/sdg_hub/core/blocks/llm/llm_chat_block.py\" target=\"_blank\"><span style=\"color: #7f7f7f; text-decoration-color: #7f7f7f\">llm_chat_block.py</span></a><span style=\"color: #7f7f7f; text-decoration-color: #7f7f7f\">:</span><a href=\"file:///Users/shiv/workspace/sdg_hub_add-structured-summary-nb/src/sdg_hub/core/blocks/llm/llm_chat_block.py#265\" target=\"_blank\"><span style=\"color: #7f7f7f; text-decoration-color: #7f7f7f\">265</span></a>\n",
       "<span style=\"color: #7fbfbf; text-decoration-color: #7fbfbf\">           </span>         <span style=\"color: #008000; text-decoration-color: #008000\">'hosted_vllm/meta-llama/Llama-3.3-70B-Instruct'</span>                           <span style=\"color: #7f7f7f; text-decoration-color: #7f7f7f\">                     </span>\n",
       "</pre>\n"
      ],
      "text/plain": [
       "\u001b[2;36m          \u001b[0m\u001b[2;36m \u001b[0m\u001b[34mINFO    \u001b[0m Initialized LLMChatBlock \u001b[32m'generate_keywords'\u001b[0m with model                   \u001b]8;id=205595;file:///Users/shiv/workspace/sdg_hub_add-structured-summary-nb/src/sdg_hub/core/blocks/llm/llm_chat_block.py\u001b\\\u001b[2mllm_chat_block.py\u001b[0m\u001b]8;;\u001b\\\u001b[2m:\u001b[0m\u001b]8;id=541918;file:///Users/shiv/workspace/sdg_hub_add-structured-summary-nb/src/sdg_hub/core/blocks/llm/llm_chat_block.py#265\u001b\\\u001b[2m265\u001b[0m\u001b]8;;\u001b\\\n",
       "\u001b[2;36m           \u001b[0m         \u001b[32m'hosted_vllm/meta-llama/Llama-3.3-70B-Instruct'\u001b[0m                           \u001b[2m                     \u001b[0m\n"
      ]
     },
     "metadata": {},
     "output_type": "display_data"
    },
    {
     "data": {
      "text/html": [
       "<pre style=\"white-space:pre;overflow-x:auto;line-height:normal;font-family:Menlo,'DejaVu Sans Mono',consolas,'Courier New',monospace\"><span style=\"color: #7fbfbf; text-decoration-color: #7fbfbf\">           </span><span style=\"color: #000080; text-decoration-color: #000080\">INFO    </span> Loaded LLM client for model                                                <a href=\"file:///Users/shiv/workspace/sdg_hub_add-structured-summary-nb/src/sdg_hub/core/blocks/llm/client_manager.py\" target=\"_blank\"><span style=\"color: #7f7f7f; text-decoration-color: #7f7f7f\">client_manager.py</span></a><span style=\"color: #7f7f7f; text-decoration-color: #7f7f7f\">:</span><a href=\"file:///Users/shiv/workspace/sdg_hub_add-structured-summary-nb/src/sdg_hub/core/blocks/llm/client_manager.py#61\" target=\"_blank\"><span style=\"color: #7f7f7f; text-decoration-color: #7f7f7f\">61</span></a>\n",
       "<span style=\"color: #7fbfbf; text-decoration-color: #7fbfbf\">           </span>         <span style=\"color: #008000; text-decoration-color: #008000\">'hosted_vllm/meta-llama/Llama-3.3-70B-Instruct'</span>                            <span style=\"color: #7f7f7f; text-decoration-color: #7f7f7f\">                    </span>\n",
       "</pre>\n"
      ],
      "text/plain": [
       "\u001b[2;36m          \u001b[0m\u001b[2;36m \u001b[0m\u001b[34mINFO    \u001b[0m Loaded LLM client for model                                                \u001b]8;id=458162;file:///Users/shiv/workspace/sdg_hub_add-structured-summary-nb/src/sdg_hub/core/blocks/llm/client_manager.py\u001b\\\u001b[2mclient_manager.py\u001b[0m\u001b]8;;\u001b\\\u001b[2m:\u001b[0m\u001b]8;id=711822;file:///Users/shiv/workspace/sdg_hub_add-structured-summary-nb/src/sdg_hub/core/blocks/llm/client_manager.py#61\u001b\\\u001b[2m61\u001b[0m\u001b]8;;\u001b\\\n",
       "\u001b[2;36m           \u001b[0m         \u001b[32m'hosted_vllm/meta-llama/Llama-3.3-70B-Instruct'\u001b[0m                            \u001b[2m                    \u001b[0m\n"
      ]
     },
     "metadata": {},
     "output_type": "display_data"
    },
    {
     "data": {
      "text/html": [
       "<pre style=\"white-space:pre;overflow-x:auto;line-height:normal;font-family:Menlo,'DejaVu Sans Mono',consolas,'Courier New',monospace\"><span style=\"color: #7fbfbf; text-decoration-color: #7fbfbf\">           </span><span style=\"color: #000080; text-decoration-color: #000080\">INFO    </span> Initialized LLMChatBlock <span style=\"color: #008000; text-decoration-color: #008000\">'generate_entities'</span> with model                   <a href=\"file:///Users/shiv/workspace/sdg_hub_add-structured-summary-nb/src/sdg_hub/core/blocks/llm/llm_chat_block.py\" target=\"_blank\"><span style=\"color: #7f7f7f; text-decoration-color: #7f7f7f\">llm_chat_block.py</span></a><span style=\"color: #7f7f7f; text-decoration-color: #7f7f7f\">:</span><a href=\"file:///Users/shiv/workspace/sdg_hub_add-structured-summary-nb/src/sdg_hub/core/blocks/llm/llm_chat_block.py#265\" target=\"_blank\"><span style=\"color: #7f7f7f; text-decoration-color: #7f7f7f\">265</span></a>\n",
       "<span style=\"color: #7fbfbf; text-decoration-color: #7fbfbf\">           </span>         <span style=\"color: #008000; text-decoration-color: #008000\">'hosted_vllm/meta-llama/Llama-3.3-70B-Instruct'</span>                           <span style=\"color: #7f7f7f; text-decoration-color: #7f7f7f\">                     </span>\n",
       "</pre>\n"
      ],
      "text/plain": [
       "\u001b[2;36m          \u001b[0m\u001b[2;36m \u001b[0m\u001b[34mINFO    \u001b[0m Initialized LLMChatBlock \u001b[32m'generate_entities'\u001b[0m with model                   \u001b]8;id=885155;file:///Users/shiv/workspace/sdg_hub_add-structured-summary-nb/src/sdg_hub/core/blocks/llm/llm_chat_block.py\u001b\\\u001b[2mllm_chat_block.py\u001b[0m\u001b]8;;\u001b\\\u001b[2m:\u001b[0m\u001b]8;id=355597;file:///Users/shiv/workspace/sdg_hub_add-structured-summary-nb/src/sdg_hub/core/blocks/llm/llm_chat_block.py#265\u001b\\\u001b[2m265\u001b[0m\u001b]8;;\u001b\\\n",
       "\u001b[2;36m           \u001b[0m         \u001b[32m'hosted_vllm/meta-llama/Llama-3.3-70B-Instruct'\u001b[0m                           \u001b[2m                     \u001b[0m\n"
      ]
     },
     "metadata": {},
     "output_type": "display_data"
    },
    {
     "data": {
      "text/html": [
       "<pre style=\"white-space:pre;overflow-x:auto;line-height:normal;font-family:Menlo,'DejaVu Sans Mono',consolas,'Courier New',monospace\"><span style=\"color: #7fbfbf; text-decoration-color: #7fbfbf\">           </span><span style=\"color: #000080; text-decoration-color: #000080\">INFO    </span> Loaded LLM client for model                                                <a href=\"file:///Users/shiv/workspace/sdg_hub_add-structured-summary-nb/src/sdg_hub/core/blocks/llm/client_manager.py\" target=\"_blank\"><span style=\"color: #7f7f7f; text-decoration-color: #7f7f7f\">client_manager.py</span></a><span style=\"color: #7f7f7f; text-decoration-color: #7f7f7f\">:</span><a href=\"file:///Users/shiv/workspace/sdg_hub_add-structured-summary-nb/src/sdg_hub/core/blocks/llm/client_manager.py#61\" target=\"_blank\"><span style=\"color: #7f7f7f; text-decoration-color: #7f7f7f\">61</span></a>\n",
       "<span style=\"color: #7fbfbf; text-decoration-color: #7fbfbf\">           </span>         <span style=\"color: #008000; text-decoration-color: #008000\">'hosted_vllm/meta-llama/Llama-3.3-70B-Instruct'</span>                            <span style=\"color: #7f7f7f; text-decoration-color: #7f7f7f\">                    </span>\n",
       "</pre>\n"
      ],
      "text/plain": [
       "\u001b[2;36m          \u001b[0m\u001b[2;36m \u001b[0m\u001b[34mINFO    \u001b[0m Loaded LLM client for model                                                \u001b]8;id=401901;file:///Users/shiv/workspace/sdg_hub_add-structured-summary-nb/src/sdg_hub/core/blocks/llm/client_manager.py\u001b\\\u001b[2mclient_manager.py\u001b[0m\u001b]8;;\u001b\\\u001b[2m:\u001b[0m\u001b]8;id=102737;file:///Users/shiv/workspace/sdg_hub_add-structured-summary-nb/src/sdg_hub/core/blocks/llm/client_manager.py#61\u001b\\\u001b[2m61\u001b[0m\u001b]8;;\u001b\\\n",
       "\u001b[2;36m           \u001b[0m         \u001b[32m'hosted_vllm/meta-llama/Llama-3.3-70B-Instruct'\u001b[0m                            \u001b[2m                    \u001b[0m\n"
      ]
     },
     "metadata": {},
     "output_type": "display_data"
    },
    {
     "data": {
      "text/html": [
       "<pre style=\"white-space:pre;overflow-x:auto;line-height:normal;font-family:Menlo,'DejaVu Sans Mono',consolas,'Courier New',monospace\"><span style=\"color: #7fbfbf; text-decoration-color: #7fbfbf\">           </span><span style=\"color: #000080; text-decoration-color: #000080\">INFO    </span> Initialized LLMChatBlock <span style=\"color: #008000; text-decoration-color: #008000\">'generate_sentiment'</span> with model                  <a href=\"file:///Users/shiv/workspace/sdg_hub_add-structured-summary-nb/src/sdg_hub/core/blocks/llm/llm_chat_block.py\" target=\"_blank\"><span style=\"color: #7f7f7f; text-decoration-color: #7f7f7f\">llm_chat_block.py</span></a><span style=\"color: #7f7f7f; text-decoration-color: #7f7f7f\">:</span><a href=\"file:///Users/shiv/workspace/sdg_hub_add-structured-summary-nb/src/sdg_hub/core/blocks/llm/llm_chat_block.py#265\" target=\"_blank\"><span style=\"color: #7f7f7f; text-decoration-color: #7f7f7f\">265</span></a>\n",
       "<span style=\"color: #7fbfbf; text-decoration-color: #7fbfbf\">           </span>         <span style=\"color: #008000; text-decoration-color: #008000\">'hosted_vllm/meta-llama/Llama-3.3-70B-Instruct'</span>                           <span style=\"color: #7f7f7f; text-decoration-color: #7f7f7f\">                     </span>\n",
       "</pre>\n"
      ],
      "text/plain": [
       "\u001b[2;36m          \u001b[0m\u001b[2;36m \u001b[0m\u001b[34mINFO    \u001b[0m Initialized LLMChatBlock \u001b[32m'generate_sentiment'\u001b[0m with model                  \u001b]8;id=986086;file:///Users/shiv/workspace/sdg_hub_add-structured-summary-nb/src/sdg_hub/core/blocks/llm/llm_chat_block.py\u001b\\\u001b[2mllm_chat_block.py\u001b[0m\u001b]8;;\u001b\\\u001b[2m:\u001b[0m\u001b]8;id=387700;file:///Users/shiv/workspace/sdg_hub_add-structured-summary-nb/src/sdg_hub/core/blocks/llm/llm_chat_block.py#265\u001b\\\u001b[2m265\u001b[0m\u001b]8;;\u001b\\\n",
       "\u001b[2;36m           \u001b[0m         \u001b[32m'hosted_vllm/meta-llama/Llama-3.3-70B-Instruct'\u001b[0m                           \u001b[2m                     \u001b[0m\n"
      ]
     },
     "metadata": {},
     "output_type": "display_data"
    },
    {
     "data": {
      "text/html": [
       "<pre style=\"white-space:pre;overflow-x:auto;line-height:normal;font-family:Menlo,'DejaVu Sans Mono',consolas,'Courier New',monospace\"><span style=\"color: #7fbfbf; text-decoration-color: #7fbfbf\">           </span><span style=\"color: #000080; text-decoration-color: #000080\">INFO    </span> Loaded LLM client for model                                                <a href=\"file:///Users/shiv/workspace/sdg_hub_add-structured-summary-nb/src/sdg_hub/core/blocks/llm/client_manager.py\" target=\"_blank\"><span style=\"color: #7f7f7f; text-decoration-color: #7f7f7f\">client_manager.py</span></a><span style=\"color: #7f7f7f; text-decoration-color: #7f7f7f\">:</span><a href=\"file:///Users/shiv/workspace/sdg_hub_add-structured-summary-nb/src/sdg_hub/core/blocks/llm/client_manager.py#61\" target=\"_blank\"><span style=\"color: #7f7f7f; text-decoration-color: #7f7f7f\">61</span></a>\n",
       "<span style=\"color: #7fbfbf; text-decoration-color: #7fbfbf\">           </span>         <span style=\"color: #008000; text-decoration-color: #008000\">'hosted_vllm/meta-llama/Llama-3.3-70B-Instruct'</span>                            <span style=\"color: #7f7f7f; text-decoration-color: #7f7f7f\">                    </span>\n",
       "</pre>\n"
      ],
      "text/plain": [
       "\u001b[2;36m          \u001b[0m\u001b[2;36m \u001b[0m\u001b[34mINFO    \u001b[0m Loaded LLM client for model                                                \u001b]8;id=629696;file:///Users/shiv/workspace/sdg_hub_add-structured-summary-nb/src/sdg_hub/core/blocks/llm/client_manager.py\u001b\\\u001b[2mclient_manager.py\u001b[0m\u001b]8;;\u001b\\\u001b[2m:\u001b[0m\u001b]8;id=768468;file:///Users/shiv/workspace/sdg_hub_add-structured-summary-nb/src/sdg_hub/core/blocks/llm/client_manager.py#61\u001b\\\u001b[2m61\u001b[0m\u001b]8;;\u001b\\\n",
       "\u001b[2;36m           \u001b[0m         \u001b[32m'hosted_vllm/meta-llama/Llama-3.3-70B-Instruct'\u001b[0m                            \u001b[2m                    \u001b[0m\n"
      ]
     },
     "metadata": {},
     "output_type": "display_data"
    },
    {
     "data": {
      "text/html": [
       "<pre style=\"white-space:pre;overflow-x:auto;line-height:normal;font-family:Menlo,'DejaVu Sans Mono',consolas,'Courier New',monospace\"><span style=\"color: #7fbfbf; text-decoration-color: #7fbfbf\">           </span><span style=\"color: #000080; text-decoration-color: #000080\">INFO    </span> Initialized LLMChatBlock <span style=\"color: #008000; text-decoration-color: #008000\">'extract_stock_tickers'</span> with model               <a href=\"file:///Users/shiv/workspace/sdg_hub_add-structured-summary-nb/src/sdg_hub/core/blocks/llm/llm_chat_block.py\" target=\"_blank\"><span style=\"color: #7f7f7f; text-decoration-color: #7f7f7f\">llm_chat_block.py</span></a><span style=\"color: #7f7f7f; text-decoration-color: #7f7f7f\">:</span><a href=\"file:///Users/shiv/workspace/sdg_hub_add-structured-summary-nb/src/sdg_hub/core/blocks/llm/llm_chat_block.py#265\" target=\"_blank\"><span style=\"color: #7f7f7f; text-decoration-color: #7f7f7f\">265</span></a>\n",
       "<span style=\"color: #7fbfbf; text-decoration-color: #7fbfbf\">           </span>         <span style=\"color: #008000; text-decoration-color: #008000\">'hosted_vllm/meta-llama/Llama-3.3-70B-Instruct'</span>                           <span style=\"color: #7f7f7f; text-decoration-color: #7f7f7f\">                     </span>\n",
       "</pre>\n"
      ],
      "text/plain": [
       "\u001b[2;36m          \u001b[0m\u001b[2;36m \u001b[0m\u001b[34mINFO    \u001b[0m Initialized LLMChatBlock \u001b[32m'extract_stock_tickers'\u001b[0m with model               \u001b]8;id=545837;file:///Users/shiv/workspace/sdg_hub_add-structured-summary-nb/src/sdg_hub/core/blocks/llm/llm_chat_block.py\u001b\\\u001b[2mllm_chat_block.py\u001b[0m\u001b]8;;\u001b\\\u001b[2m:\u001b[0m\u001b]8;id=149298;file:///Users/shiv/workspace/sdg_hub_add-structured-summary-nb/src/sdg_hub/core/blocks/llm/llm_chat_block.py#265\u001b\\\u001b[2m265\u001b[0m\u001b]8;;\u001b\\\n",
       "\u001b[2;36m           \u001b[0m         \u001b[32m'hosted_vllm/meta-llama/Llama-3.3-70B-Instruct'\u001b[0m                           \u001b[2m                     \u001b[0m\n"
      ]
     },
     "metadata": {},
     "output_type": "display_data"
    },
    {
     "data": {
      "text/html": [
       "<pre style=\"white-space:pre;overflow-x:auto;line-height:normal;font-family:Menlo,'DejaVu Sans Mono',consolas,'Courier New',monospace\"><span style=\"color: #7fbfbf; text-decoration-color: #7fbfbf\">           </span><span style=\"color: #000080; text-decoration-color: #000080\">INFO    </span> Successfully configured <span style=\"color: #008080; text-decoration-color: #008080; font-weight: bold\">5</span> LLM blocks with: model:                                   <a href=\"file:///Users/shiv/workspace/sdg_hub_add-structured-summary-nb/src/sdg_hub/core/flow/base.py\" target=\"_blank\"><span style=\"color: #7f7f7f; text-decoration-color: #7f7f7f\">base.py</span></a><span style=\"color: #7f7f7f; text-decoration-color: #7f7f7f\">:</span><a href=\"file:///Users/shiv/workspace/sdg_hub_add-structured-summary-nb/src/sdg_hub/core/flow/base.py#801\" target=\"_blank\"><span style=\"color: #7f7f7f; text-decoration-color: #7f7f7f\">801</span></a>\n",
       "<span style=\"color: #7fbfbf; text-decoration-color: #7fbfbf\">           </span>         <span style=\"color: #008000; text-decoration-color: #008000\">'hosted_vllm/meta-llama/Llama-3.3-70B-Instruct'</span>, api_base:                          <span style=\"color: #7f7f7f; text-decoration-color: #7f7f7f\">           </span>\n",
       "<span style=\"color: #7fbfbf; text-decoration-color: #7fbfbf\">           </span>         <span style=\"color: #008000; text-decoration-color: #008000\">'http://localhost:10000/v1'</span>, api_key: EMPTY                                         <span style=\"color: #7f7f7f; text-decoration-color: #7f7f7f\">           </span>\n",
       "</pre>\n"
      ],
      "text/plain": [
       "\u001b[2;36m          \u001b[0m\u001b[2;36m \u001b[0m\u001b[34mINFO    \u001b[0m Successfully configured \u001b[1;36m5\u001b[0m LLM blocks with: model:                                   \u001b]8;id=708762;file:///Users/shiv/workspace/sdg_hub_add-structured-summary-nb/src/sdg_hub/core/flow/base.py\u001b\\\u001b[2mbase.py\u001b[0m\u001b]8;;\u001b\\\u001b[2m:\u001b[0m\u001b]8;id=241312;file:///Users/shiv/workspace/sdg_hub_add-structured-summary-nb/src/sdg_hub/core/flow/base.py#801\u001b\\\u001b[2m801\u001b[0m\u001b]8;;\u001b\\\n",
       "\u001b[2;36m           \u001b[0m         \u001b[32m'hosted_vllm/meta-llama/Llama-3.3-70B-Instruct'\u001b[0m, api_base:                          \u001b[2m           \u001b[0m\n",
       "\u001b[2;36m           \u001b[0m         \u001b[32m'http://localhost:10000/v1'\u001b[0m, api_key: EMPTY                                         \u001b[2m           \u001b[0m\n"
      ]
     },
     "metadata": {},
     "output_type": "display_data"
    },
    {
     "data": {
      "text/html": [
       "<pre style=\"white-space:pre;overflow-x:auto;line-height:normal;font-family:Menlo,'DejaVu Sans Mono',consolas,'Courier New',monospace\"><span style=\"color: #7fbfbf; text-decoration-color: #7fbfbf\">           </span><span style=\"color: #000080; text-decoration-color: #000080\">INFO    </span> Configured blocks: <span style=\"font-weight: bold\">[</span><span style=\"color: #008000; text-decoration-color: #008000\">'extract_stock_tickers'</span>, <span style=\"color: #008000; text-decoration-color: #008000\">'generate_entities'</span>,                   <a href=\"file:///Users/shiv/workspace/sdg_hub_add-structured-summary-nb/src/sdg_hub/core/flow/base.py\" target=\"_blank\"><span style=\"color: #7f7f7f; text-decoration-color: #7f7f7f\">base.py</span></a><span style=\"color: #7f7f7f; text-decoration-color: #7f7f7f\">:</span><a href=\"file:///Users/shiv/workspace/sdg_hub_add-structured-summary-nb/src/sdg_hub/core/flow/base.py#804\" target=\"_blank\"><span style=\"color: #7f7f7f; text-decoration-color: #7f7f7f\">804</span></a>\n",
       "<span style=\"color: #7fbfbf; text-decoration-color: #7fbfbf\">           </span>         <span style=\"color: #008000; text-decoration-color: #008000\">'generate_keywords'</span>, <span style=\"color: #008000; text-decoration-color: #008000\">'generate_sentiment'</span>, <span style=\"color: #008000; text-decoration-color: #008000\">'generate_summary'</span><span style=\"font-weight: bold\">]</span>                      <span style=\"color: #7f7f7f; text-decoration-color: #7f7f7f\">           </span>\n",
       "</pre>\n"
      ],
      "text/plain": [
       "\u001b[2;36m          \u001b[0m\u001b[2;36m \u001b[0m\u001b[34mINFO    \u001b[0m Configured blocks: \u001b[1m[\u001b[0m\u001b[32m'extract_stock_tickers'\u001b[0m, \u001b[32m'generate_entities'\u001b[0m,                   \u001b]8;id=78036;file:///Users/shiv/workspace/sdg_hub_add-structured-summary-nb/src/sdg_hub/core/flow/base.py\u001b\\\u001b[2mbase.py\u001b[0m\u001b]8;;\u001b\\\u001b[2m:\u001b[0m\u001b]8;id=829264;file:///Users/shiv/workspace/sdg_hub_add-structured-summary-nb/src/sdg_hub/core/flow/base.py#804\u001b\\\u001b[2m804\u001b[0m\u001b]8;;\u001b\\\n",
       "\u001b[2;36m           \u001b[0m         \u001b[32m'generate_keywords'\u001b[0m, \u001b[32m'generate_sentiment'\u001b[0m, \u001b[32m'generate_summary'\u001b[0m\u001b[1m]\u001b[0m                      \u001b[2m           \u001b[0m\n"
      ]
     },
     "metadata": {},
     "output_type": "display_data"
    },
    {
     "name": "stdout",
     "output_type": "stream",
     "text": [
      "\n",
      "🎯 Ready to run enhanced flow with stock ticker extraction!\n"
     ]
    }
   ],
   "source": [
    "# Configure the new LLM blocks with our model settings\n",
    "flow.set_model_config(\n",
    "    model=\"hosted_vllm/meta-llama/Llama-3.3-70B-Instruct\",\n",
    "    api_base=\"http://localhost:10000/v1\", \n",
    "    api_key=\"EMPTY\"\n",
    ")\n",
    "\n",
    "print(\"\\n🎯 Ready to run enhanced flow with stock ticker extraction!\")"
   ]
  },
  {
   "cell_type": "code",
   "execution_count": 16,
   "metadata": {},
   "outputs": [
    {
     "name": "stdout",
     "output_type": "stream",
     "text": [
      "🚀 Running structured insights extraction...\n",
      "⏱️ This may take a few minutes depending on your model setup...\n"
     ]
    },
    {
     "data": {
      "text/html": [
       "<pre style=\"white-space:pre;overflow-x:auto;line-height:normal;font-family:Menlo,'DejaVu Sans Mono',consolas,'Courier New',monospace\"><span style=\"color: #7fbfbf; text-decoration-color: #7fbfbf\">           </span><span style=\"color: #000080; text-decoration-color: #000080\">INFO    </span> Starting flow <span style=\"color: #008000; text-decoration-color: #008000\">'Structured Text Insights Extraction Flow'</span> v1.<span style=\"color: #008080; text-decoration-color: #008080; font-weight: bold\">0.0</span> with <span style=\"color: #008080; text-decoration-color: #008080; font-weight: bold\">50</span> samples     <a href=\"file:///Users/shiv/workspace/sdg_hub_add-structured-summary-nb/src/sdg_hub/core/flow/base.py\" target=\"_blank\"><span style=\"color: #7f7f7f; text-decoration-color: #7f7f7f\">base.py</span></a><span style=\"color: #7f7f7f; text-decoration-color: #7f7f7f\">:</span><a href=\"file:///Users/shiv/workspace/sdg_hub_add-structured-summary-nb/src/sdg_hub/core/flow/base.py#504\" target=\"_blank\"><span style=\"color: #7f7f7f; text-decoration-color: #7f7f7f\">504</span></a>\n",
       "<span style=\"color: #7fbfbf; text-decoration-color: #7fbfbf\">           </span>         across <span style=\"color: #008080; text-decoration-color: #008080; font-weight: bold\">16</span> blocks                                                                    <span style=\"color: #7f7f7f; text-decoration-color: #7f7f7f\">           </span>\n",
       "</pre>\n"
      ],
      "text/plain": [
       "\u001b[2;36m          \u001b[0m\u001b[2;36m \u001b[0m\u001b[34mINFO    \u001b[0m Starting flow \u001b[32m'Structured Text Insights Extraction Flow'\u001b[0m v1.\u001b[1;36m0.0\u001b[0m with \u001b[1;36m50\u001b[0m samples     \u001b]8;id=868394;file:///Users/shiv/workspace/sdg_hub_add-structured-summary-nb/src/sdg_hub/core/flow/base.py\u001b\\\u001b[2mbase.py\u001b[0m\u001b]8;;\u001b\\\u001b[2m:\u001b[0m\u001b]8;id=678825;file:///Users/shiv/workspace/sdg_hub_add-structured-summary-nb/src/sdg_hub/core/flow/base.py#504\u001b\\\u001b[2m504\u001b[0m\u001b]8;;\u001b\\\n",
       "\u001b[2;36m           \u001b[0m         across \u001b[1;36m16\u001b[0m blocks                                                                    \u001b[2m           \u001b[0m\n"
      ]
     },
     "metadata": {},
     "output_type": "display_data"
    },
    {
     "data": {
      "text/html": [
       "<pre style=\"white-space:pre;overflow-x:auto;line-height:normal;font-family:Menlo,'DejaVu Sans Mono',consolas,'Courier New',monospace\"><span style=\"color: #7fbfbf; text-decoration-color: #7fbfbf\">           </span><span style=\"color: #000080; text-decoration-color: #000080\">INFO    </span> Executing block <span style=\"color: #008080; text-decoration-color: #008080; font-weight: bold\">1</span>/<span style=\"color: #008080; text-decoration-color: #008080; font-weight: bold\">16</span>: build_summary_prompt <span style=\"font-weight: bold\">(</span>PromptBuilderBlock<span style=\"font-weight: bold\">)</span>                     <a href=\"file:///Users/shiv/workspace/sdg_hub_add-structured-summary-nb/src/sdg_hub/core/flow/base.py\" target=\"_blank\"><span style=\"color: #7f7f7f; text-decoration-color: #7f7f7f\">base.py</span></a><span style=\"color: #7f7f7f; text-decoration-color: #7f7f7f\">:</span><a href=\"file:///Users/shiv/workspace/sdg_hub_add-structured-summary-nb/src/sdg_hub/core/flow/base.py#610\" target=\"_blank\"><span style=\"color: #7f7f7f; text-decoration-color: #7f7f7f\">610</span></a>\n",
       "</pre>\n"
      ],
      "text/plain": [
       "\u001b[2;36m          \u001b[0m\u001b[2;36m \u001b[0m\u001b[34mINFO    \u001b[0m Executing block \u001b[1;36m1\u001b[0m/\u001b[1;36m16\u001b[0m: build_summary_prompt \u001b[1m(\u001b[0mPromptBuilderBlock\u001b[1m)\u001b[0m                     \u001b]8;id=250324;file:///Users/shiv/workspace/sdg_hub_add-structured-summary-nb/src/sdg_hub/core/flow/base.py\u001b\\\u001b[2mbase.py\u001b[0m\u001b]8;;\u001b\\\u001b[2m:\u001b[0m\u001b]8;id=15381;file:///Users/shiv/workspace/sdg_hub_add-structured-summary-nb/src/sdg_hub/core/flow/base.py#610\u001b\\\u001b[2m610\u001b[0m\u001b]8;;\u001b\\\n"
      ]
     },
     "metadata": {},
     "output_type": "display_data"
    },
    {
     "data": {
      "text/html": [
       "<pre style=\"white-space:pre;overflow-x:auto;line-height:normal;font-family:Menlo,'DejaVu Sans Mono',consolas,'Courier New',monospace\"><span style=\"color: #000080; text-decoration-color: #000080\">╭───────────────────────────────────────────── </span><span style=\"color: #000080; text-decoration-color: #000080; font-weight: bold\">build_summary_prompt</span><span style=\"color: #000080; text-decoration-color: #000080\"> ──────────────────────────────────────────────╮</span>\n",
       "<span style=\"color: #000080; text-decoration-color: #000080\">│</span> <span style=\"color: #000080; text-decoration-color: #000080; font-weight: bold\">📊 Processing Input Data</span>                                                                                        <span style=\"color: #000080; text-decoration-color: #000080\">│</span>\n",
       "<span style=\"color: #000080; text-decoration-color: #000080\">│</span> <span style=\"color: #008080; text-decoration-color: #008080\">Block Type: PromptBuilderBlock</span>                                                                                  <span style=\"color: #000080; text-decoration-color: #000080\">│</span>\n",
       "<span style=\"color: #000080; text-decoration-color: #000080\">│</span> <span style=\"color: #008080; text-decoration-color: #008080; font-weight: bold\">Input Rows: 50</span>                                                                                                  <span style=\"color: #000080; text-decoration-color: #000080\">│</span>\n",
       "<span style=\"color: #000080; text-decoration-color: #000080\">│</span> <span style=\"color: #008080; text-decoration-color: #008080\">Input Columns: 5</span>                                                                                                <span style=\"color: #000080; text-decoration-color: #000080\">│</span>\n",
       "<span style=\"color: #000080; text-decoration-color: #000080\">│</span> <span style=\"color: #c0c0c0; text-decoration-color: #c0c0c0\">Column Names: Headline, Journalists, Date, Link, text</span>                                                           <span style=\"color: #000080; text-decoration-color: #000080\">│</span>\n",
       "<span style=\"color: #000080; text-decoration-color: #000080\">│</span> <span style=\"color: #008000; text-decoration-color: #008000\">Expected Output Columns: summary_prompt</span>                                                                         <span style=\"color: #000080; text-decoration-color: #000080\">│</span>\n",
       "<span style=\"color: #000080; text-decoration-color: #000080\">╰─────────────────────────────────────────────────────────────────────────────────────────────────────────────────╯</span>\n",
       "</pre>\n"
      ],
      "text/plain": [
       "\u001b[34m╭─\u001b[0m\u001b[34m────────────────────────────────────────────\u001b[0m\u001b[34m \u001b[0m\u001b[1;34mbuild_summary_prompt\u001b[0m\u001b[34m \u001b[0m\u001b[34m─────────────────────────────────────────────\u001b[0m\u001b[34m─╮\u001b[0m\n",
       "\u001b[34m│\u001b[0m \u001b[1;34m📊 Processing Input Data\u001b[0m                                                                                        \u001b[34m│\u001b[0m\n",
       "\u001b[34m│\u001b[0m \u001b[36mBlock Type: PromptBuilderBlock\u001b[0m                                                                                  \u001b[34m│\u001b[0m\n",
       "\u001b[34m│\u001b[0m \u001b[1;36mInput Rows: 50\u001b[0m                                                                                                  \u001b[34m│\u001b[0m\n",
       "\u001b[34m│\u001b[0m \u001b[36mInput Columns: 5\u001b[0m                                                                                                \u001b[34m│\u001b[0m\n",
       "\u001b[34m│\u001b[0m \u001b[37mColumn Names: Headline, Journalists, Date, Link, text\u001b[0m                                                           \u001b[34m│\u001b[0m\n",
       "\u001b[34m│\u001b[0m \u001b[32mExpected Output Columns: summary_prompt\u001b[0m                                                                         \u001b[34m│\u001b[0m\n",
       "\u001b[34m╰─────────────────────────────────────────────────────────────────────────────────────────────────────────────────╯\u001b[0m\n"
      ]
     },
     "metadata": {},
     "output_type": "display_data"
    },
    {
     "data": {
      "text/html": [
       "<pre style=\"white-space:pre;overflow-x:auto;line-height:normal;font-family:Menlo,'DejaVu Sans Mono',consolas,'Courier New',monospace\"><span style=\"color: #008000; text-decoration-color: #008000\">╭──────────────────────────────────────── </span><span style=\"color: #008000; text-decoration-color: #008000; font-weight: bold\">build_summary_prompt - Complete</span><span style=\"color: #008000; text-decoration-color: #008000\"> ────────────────────────────────────────╮</span>\n",
       "<span style=\"color: #008000; text-decoration-color: #008000\">│</span> <span style=\"color: #008000; text-decoration-color: #008000; font-weight: bold\">✅ Processing Complete</span>                                                                                          <span style=\"color: #008000; text-decoration-color: #008000\">│</span>\n",
       "<span style=\"color: #008000; text-decoration-color: #008000\">│</span> <span style=\"color: #008080; text-decoration-color: #008080\">Rows: 50 → 50</span>                                                                                                   <span style=\"color: #008000; text-decoration-color: #008000\">│</span>\n",
       "<span style=\"color: #008000; text-decoration-color: #008000\">│</span> <span style=\"color: #008080; text-decoration-color: #008080\">Columns: 5 → 6</span>                                                                                                  <span style=\"color: #008000; text-decoration-color: #008000\">│</span>\n",
       "<span style=\"color: #008000; text-decoration-color: #008000\">│</span> <span style=\"color: #008000; text-decoration-color: #008000\">🟢 Added: summary_prompt</span>                                                                                        <span style=\"color: #008000; text-decoration-color: #008000\">│</span>\n",
       "<span style=\"color: #008000; text-decoration-color: #008000\">│</span> <span style=\"color: #c0c0c0; text-decoration-color: #c0c0c0\">📋 Final Columns: Date, Headline, Journalists, Link, summary_prompt, text</span>                                       <span style=\"color: #008000; text-decoration-color: #008000\">│</span>\n",
       "<span style=\"color: #008000; text-decoration-color: #008000\">╰─────────────────────────────────────────────────────────────────────────────────────────────────────────────────╯</span>\n",
       "</pre>\n"
      ],
      "text/plain": [
       "\u001b[32m╭─\u001b[0m\u001b[32m───────────────────────────────────────\u001b[0m\u001b[32m \u001b[0m\u001b[1;32mbuild_summary_prompt - Complete\u001b[0m\u001b[32m \u001b[0m\u001b[32m───────────────────────────────────────\u001b[0m\u001b[32m─╮\u001b[0m\n",
       "\u001b[32m│\u001b[0m \u001b[1;32m✅ Processing Complete\u001b[0m                                                                                          \u001b[32m│\u001b[0m\n",
       "\u001b[32m│\u001b[0m \u001b[36mRows: 50 → 50\u001b[0m                                                                                                   \u001b[32m│\u001b[0m\n",
       "\u001b[32m│\u001b[0m \u001b[36mColumns: 5 → 6\u001b[0m                                                                                                  \u001b[32m│\u001b[0m\n",
       "\u001b[32m│\u001b[0m \u001b[32m🟢 Added: summary_prompt\u001b[0m                                                                                        \u001b[32m│\u001b[0m\n",
       "\u001b[32m│\u001b[0m \u001b[37m📋 Final Columns: Date, Headline, Journalists, Link, summary_prompt, text\u001b[0m                                       \u001b[32m│\u001b[0m\n",
       "\u001b[32m╰─────────────────────────────────────────────────────────────────────────────────────────────────────────────────╯\u001b[0m\n"
      ]
     },
     "metadata": {},
     "output_type": "display_data"
    },
    {
     "data": {
      "text/html": [
       "<pre style=\"white-space:pre;overflow-x:auto;line-height:normal;font-family:Menlo,'DejaVu Sans Mono',consolas,'Courier New',monospace\"><span style=\"color: #7fbfbf; text-decoration-color: #7fbfbf\">           </span><span style=\"color: #000080; text-decoration-color: #000080\">INFO    </span> Block <span style=\"color: #008000; text-decoration-color: #008000\">'build_summary_prompt'</span> completed successfully: <span style=\"color: #008080; text-decoration-color: #008080; font-weight: bold\">50</span> samples, <span style=\"color: #008080; text-decoration-color: #008080; font-weight: bold\">6</span> columns          <a href=\"file:///Users/shiv/workspace/sdg_hub_add-structured-summary-nb/src/sdg_hub/core/flow/base.py\" target=\"_blank\"><span style=\"color: #7f7f7f; text-decoration-color: #7f7f7f\">base.py</span></a><span style=\"color: #7f7f7f; text-decoration-color: #7f7f7f\">:</span><a href=\"file:///Users/shiv/workspace/sdg_hub_add-structured-summary-nb/src/sdg_hub/core/flow/base.py#646\" target=\"_blank\"><span style=\"color: #7f7f7f; text-decoration-color: #7f7f7f\">646</span></a>\n",
       "</pre>\n"
      ],
      "text/plain": [
       "\u001b[2;36m          \u001b[0m\u001b[2;36m \u001b[0m\u001b[34mINFO    \u001b[0m Block \u001b[32m'build_summary_prompt'\u001b[0m completed successfully: \u001b[1;36m50\u001b[0m samples, \u001b[1;36m6\u001b[0m columns          \u001b]8;id=887531;file:///Users/shiv/workspace/sdg_hub_add-structured-summary-nb/src/sdg_hub/core/flow/base.py\u001b\\\u001b[2mbase.py\u001b[0m\u001b]8;;\u001b\\\u001b[2m:\u001b[0m\u001b]8;id=735977;file:///Users/shiv/workspace/sdg_hub_add-structured-summary-nb/src/sdg_hub/core/flow/base.py#646\u001b\\\u001b[2m646\u001b[0m\u001b]8;;\u001b\\\n"
      ]
     },
     "metadata": {},
     "output_type": "display_data"
    },
    {
     "data": {
      "text/html": [
       "<pre style=\"white-space:pre;overflow-x:auto;line-height:normal;font-family:Menlo,'DejaVu Sans Mono',consolas,'Courier New',monospace\"><span style=\"color: #7fbfbf; text-decoration-color: #7fbfbf\">           </span><span style=\"color: #000080; text-decoration-color: #000080\">INFO    </span> Executing block <span style=\"color: #008080; text-decoration-color: #008080; font-weight: bold\">2</span>/<span style=\"color: #008080; text-decoration-color: #008080; font-weight: bold\">16</span>: generate_summary <span style=\"font-weight: bold\">(</span>LLMChatBlock<span style=\"font-weight: bold\">)</span>                               <a href=\"file:///Users/shiv/workspace/sdg_hub_add-structured-summary-nb/src/sdg_hub/core/flow/base.py\" target=\"_blank\"><span style=\"color: #7f7f7f; text-decoration-color: #7f7f7f\">base.py</span></a><span style=\"color: #7f7f7f; text-decoration-color: #7f7f7f\">:</span><a href=\"file:///Users/shiv/workspace/sdg_hub_add-structured-summary-nb/src/sdg_hub/core/flow/base.py#610\" target=\"_blank\"><span style=\"color: #7f7f7f; text-decoration-color: #7f7f7f\">610</span></a>\n",
       "</pre>\n"
      ],
      "text/plain": [
       "\u001b[2;36m          \u001b[0m\u001b[2;36m \u001b[0m\u001b[34mINFO    \u001b[0m Executing block \u001b[1;36m2\u001b[0m/\u001b[1;36m16\u001b[0m: generate_summary \u001b[1m(\u001b[0mLLMChatBlock\u001b[1m)\u001b[0m                               \u001b]8;id=517412;file:///Users/shiv/workspace/sdg_hub_add-structured-summary-nb/src/sdg_hub/core/flow/base.py\u001b\\\u001b[2mbase.py\u001b[0m\u001b]8;;\u001b\\\u001b[2m:\u001b[0m\u001b]8;id=255629;file:///Users/shiv/workspace/sdg_hub_add-structured-summary-nb/src/sdg_hub/core/flow/base.py#610\u001b\\\u001b[2m610\u001b[0m\u001b]8;;\u001b\\\n"
      ]
     },
     "metadata": {},
     "output_type": "display_data"
    },
    {
     "data": {
      "text/html": [
       "<pre style=\"white-space:pre;overflow-x:auto;line-height:normal;font-family:Menlo,'DejaVu Sans Mono',consolas,'Courier New',monospace\"><span style=\"color: #000080; text-decoration-color: #000080\">╭─────────────────────────────────────────────── </span><span style=\"color: #000080; text-decoration-color: #000080; font-weight: bold\">generate_summary</span><span style=\"color: #000080; text-decoration-color: #000080\"> ────────────────────────────────────────────────╮</span>\n",
       "<span style=\"color: #000080; text-decoration-color: #000080\">│</span> <span style=\"color: #000080; text-decoration-color: #000080; font-weight: bold\">📊 Processing Input Data</span>                                                                                        <span style=\"color: #000080; text-decoration-color: #000080\">│</span>\n",
       "<span style=\"color: #000080; text-decoration-color: #000080\">│</span> <span style=\"color: #008080; text-decoration-color: #008080\">Block Type: LLMChatBlock</span>                                                                                        <span style=\"color: #000080; text-decoration-color: #000080\">│</span>\n",
       "<span style=\"color: #000080; text-decoration-color: #000080\">│</span> <span style=\"color: #008080; text-decoration-color: #008080; font-weight: bold\">Input Rows: 50</span>                                                                                                  <span style=\"color: #000080; text-decoration-color: #000080\">│</span>\n",
       "<span style=\"color: #000080; text-decoration-color: #000080\">│</span> <span style=\"color: #008080; text-decoration-color: #008080\">Input Columns: 6</span>                                                                                                <span style=\"color: #000080; text-decoration-color: #000080\">│</span>\n",
       "<span style=\"color: #000080; text-decoration-color: #000080\">│</span> <span style=\"color: #c0c0c0; text-decoration-color: #c0c0c0\">Column Names: Headline, Journalists, Date, Link, text, summary_prompt</span>                                           <span style=\"color: #000080; text-decoration-color: #000080\">│</span>\n",
       "<span style=\"color: #000080; text-decoration-color: #000080\">│</span> <span style=\"color: #008000; text-decoration-color: #008000\">Expected Output Columns: raw_summary</span>                                                                            <span style=\"color: #000080; text-decoration-color: #000080\">│</span>\n",
       "<span style=\"color: #000080; text-decoration-color: #000080\">╰─────────────────────────────────────────────────────────────────────────────────────────────────────────────────╯</span>\n",
       "</pre>\n"
      ],
      "text/plain": [
       "\u001b[34m╭─\u001b[0m\u001b[34m──────────────────────────────────────────────\u001b[0m\u001b[34m \u001b[0m\u001b[1;34mgenerate_summary\u001b[0m\u001b[34m \u001b[0m\u001b[34m───────────────────────────────────────────────\u001b[0m\u001b[34m─╮\u001b[0m\n",
       "\u001b[34m│\u001b[0m \u001b[1;34m📊 Processing Input Data\u001b[0m                                                                                        \u001b[34m│\u001b[0m\n",
       "\u001b[34m│\u001b[0m \u001b[36mBlock Type: LLMChatBlock\u001b[0m                                                                                        \u001b[34m│\u001b[0m\n",
       "\u001b[34m│\u001b[0m \u001b[1;36mInput Rows: 50\u001b[0m                                                                                                  \u001b[34m│\u001b[0m\n",
       "\u001b[34m│\u001b[0m \u001b[36mInput Columns: 6\u001b[0m                                                                                                \u001b[34m│\u001b[0m\n",
       "\u001b[34m│\u001b[0m \u001b[37mColumn Names: Headline, Journalists, Date, Link, text, summary_prompt\u001b[0m                                           \u001b[34m│\u001b[0m\n",
       "\u001b[34m│\u001b[0m \u001b[32mExpected Output Columns: raw_summary\u001b[0m                                                                            \u001b[34m│\u001b[0m\n",
       "\u001b[34m╰─────────────────────────────────────────────────────────────────────────────────────────────────────────────────╯\u001b[0m\n"
      ]
     },
     "metadata": {},
     "output_type": "display_data"
    },
    {
     "data": {
      "text/html": [
       "<pre style=\"white-space:pre;overflow-x:auto;line-height:normal;font-family:Menlo,'DejaVu Sans Mono',consolas,'Courier New',monospace\"><span style=\"color: #7fbfbf; text-decoration-color: #7fbfbf\">           </span><span style=\"color: #000080; text-decoration-color: #000080\">INFO    </span> Starting async generation for <span style=\"color: #008080; text-decoration-color: #008080; font-weight: bold\">50</span> samples                                  <a href=\"file:///Users/shiv/workspace/sdg_hub_add-structured-summary-nb/src/sdg_hub/core/blocks/llm/llm_chat_block.py\" target=\"_blank\"><span style=\"color: #7f7f7f; text-decoration-color: #7f7f7f\">llm_chat_block.py</span></a><span style=\"color: #7f7f7f; text-decoration-color: #7f7f7f\">:</span><a href=\"file:///Users/shiv/workspace/sdg_hub_add-structured-summary-nb/src/sdg_hub/core/blocks/llm/llm_chat_block.py#329\" target=\"_blank\"><span style=\"color: #7f7f7f; text-decoration-color: #7f7f7f\">329</span></a>\n",
       "</pre>\n"
      ],
      "text/plain": [
       "\u001b[2;36m          \u001b[0m\u001b[2;36m \u001b[0m\u001b[34mINFO    \u001b[0m Starting async generation for \u001b[1;36m50\u001b[0m samples                                  \u001b]8;id=364463;file:///Users/shiv/workspace/sdg_hub_add-structured-summary-nb/src/sdg_hub/core/blocks/llm/llm_chat_block.py\u001b\\\u001b[2mllm_chat_block.py\u001b[0m\u001b]8;;\u001b\\\u001b[2m:\u001b[0m\u001b]8;id=432006;file:///Users/shiv/workspace/sdg_hub_add-structured-summary-nb/src/sdg_hub/core/blocks/llm/llm_chat_block.py#329\u001b\\\u001b[2m329\u001b[0m\u001b]8;;\u001b\\\n"
      ]
     },
     "metadata": {},
     "output_type": "display_data"
    },
    {
     "data": {
      "text/html": [
       "<pre style=\"white-space:pre;overflow-x:auto;line-height:normal;font-family:Menlo,'DejaVu Sans Mono',consolas,'Courier New',monospace\"><span style=\"color: #7fbfbf; text-decoration-color: #7fbfbf\">[15:26:19] </span><span style=\"color: #000080; text-decoration-color: #000080\">INFO    </span> Generation completed successfully for <span style=\"color: #008080; text-decoration-color: #008080; font-weight: bold\">50</span> samples                          <a href=\"file:///Users/shiv/workspace/sdg_hub_add-structured-summary-nb/src/sdg_hub/core/blocks/llm/llm_chat_block.py\" target=\"_blank\"><span style=\"color: #7f7f7f; text-decoration-color: #7f7f7f\">llm_chat_block.py</span></a><span style=\"color: #7f7f7f; text-decoration-color: #7f7f7f\">:</span><a href=\"file:///Users/shiv/workspace/sdg_hub_add-structured-summary-nb/src/sdg_hub/core/blocks/llm/llm_chat_block.py#393\" target=\"_blank\"><span style=\"color: #7f7f7f; text-decoration-color: #7f7f7f\">393</span></a>\n",
       "</pre>\n"
      ],
      "text/plain": [
       "\u001b[2;36m[15:26:19]\u001b[0m\u001b[2;36m \u001b[0m\u001b[34mINFO    \u001b[0m Generation completed successfully for \u001b[1;36m50\u001b[0m samples                          \u001b]8;id=590203;file:///Users/shiv/workspace/sdg_hub_add-structured-summary-nb/src/sdg_hub/core/blocks/llm/llm_chat_block.py\u001b\\\u001b[2mllm_chat_block.py\u001b[0m\u001b]8;;\u001b\\\u001b[2m:\u001b[0m\u001b]8;id=258893;file:///Users/shiv/workspace/sdg_hub_add-structured-summary-nb/src/sdg_hub/core/blocks/llm/llm_chat_block.py#393\u001b\\\u001b[2m393\u001b[0m\u001b]8;;\u001b\\\n"
      ]
     },
     "metadata": {},
     "output_type": "display_data"
    },
    {
     "data": {
      "text/html": [
       "<pre style=\"white-space:pre;overflow-x:auto;line-height:normal;font-family:Menlo,'DejaVu Sans Mono',consolas,'Courier New',monospace\"><span style=\"color: #008000; text-decoration-color: #008000\">╭────────────────────────────────────────── </span><span style=\"color: #008000; text-decoration-color: #008000; font-weight: bold\">generate_summary - Complete</span><span style=\"color: #008000; text-decoration-color: #008000\"> ──────────────────────────────────────────╮</span>\n",
       "<span style=\"color: #008000; text-decoration-color: #008000\">│</span> <span style=\"color: #008000; text-decoration-color: #008000; font-weight: bold\">✅ Processing Complete</span>                                                                                          <span style=\"color: #008000; text-decoration-color: #008000\">│</span>\n",
       "<span style=\"color: #008000; text-decoration-color: #008000\">│</span> <span style=\"color: #008080; text-decoration-color: #008080\">Rows: 50 → 50</span>                                                                                                   <span style=\"color: #008000; text-decoration-color: #008000\">│</span>\n",
       "<span style=\"color: #008000; text-decoration-color: #008000\">│</span> <span style=\"color: #008080; text-decoration-color: #008080\">Columns: 6 → 7</span>                                                                                                  <span style=\"color: #008000; text-decoration-color: #008000\">│</span>\n",
       "<span style=\"color: #008000; text-decoration-color: #008000\">│</span> <span style=\"color: #008000; text-decoration-color: #008000\">🟢 Added: raw_summary</span>                                                                                           <span style=\"color: #008000; text-decoration-color: #008000\">│</span>\n",
       "<span style=\"color: #008000; text-decoration-color: #008000\">│</span> <span style=\"color: #c0c0c0; text-decoration-color: #c0c0c0\">📋 Final Columns: Date, Headline, Journalists, Link, raw_summary, summary_prompt, text</span>                          <span style=\"color: #008000; text-decoration-color: #008000\">│</span>\n",
       "<span style=\"color: #008000; text-decoration-color: #008000\">╰─────────────────────────────────────────────────────────────────────────────────────────────────────────────────╯</span>\n",
       "</pre>\n"
      ],
      "text/plain": [
       "\u001b[32m╭─\u001b[0m\u001b[32m─────────────────────────────────────────\u001b[0m\u001b[32m \u001b[0m\u001b[1;32mgenerate_summary - Complete\u001b[0m\u001b[32m \u001b[0m\u001b[32m─────────────────────────────────────────\u001b[0m\u001b[32m─╮\u001b[0m\n",
       "\u001b[32m│\u001b[0m \u001b[1;32m✅ Processing Complete\u001b[0m                                                                                          \u001b[32m│\u001b[0m\n",
       "\u001b[32m│\u001b[0m \u001b[36mRows: 50 → 50\u001b[0m                                                                                                   \u001b[32m│\u001b[0m\n",
       "\u001b[32m│\u001b[0m \u001b[36mColumns: 6 → 7\u001b[0m                                                                                                  \u001b[32m│\u001b[0m\n",
       "\u001b[32m│\u001b[0m \u001b[32m🟢 Added: raw_summary\u001b[0m                                                                                           \u001b[32m│\u001b[0m\n",
       "\u001b[32m│\u001b[0m \u001b[37m📋 Final Columns: Date, Headline, Journalists, Link, raw_summary, summary_prompt, text\u001b[0m                          \u001b[32m│\u001b[0m\n",
       "\u001b[32m╰─────────────────────────────────────────────────────────────────────────────────────────────────────────────────╯\u001b[0m\n"
      ]
     },
     "metadata": {},
     "output_type": "display_data"
    },
    {
     "data": {
      "text/html": [
       "<pre style=\"white-space:pre;overflow-x:auto;line-height:normal;font-family:Menlo,'DejaVu Sans Mono',consolas,'Courier New',monospace\"><span style=\"color: #7fbfbf; text-decoration-color: #7fbfbf\">[15:26:19] </span><span style=\"color: #000080; text-decoration-color: #000080\">INFO    </span> Block <span style=\"color: #008000; text-decoration-color: #008000\">'generate_summary'</span> completed successfully: <span style=\"color: #008080; text-decoration-color: #008080; font-weight: bold\">50</span> samples, <span style=\"color: #008080; text-decoration-color: #008080; font-weight: bold\">7</span> columns              <a href=\"file:///Users/shiv/workspace/sdg_hub_add-structured-summary-nb/src/sdg_hub/core/flow/base.py\" target=\"_blank\"><span style=\"color: #7f7f7f; text-decoration-color: #7f7f7f\">base.py</span></a><span style=\"color: #7f7f7f; text-decoration-color: #7f7f7f\">:</span><a href=\"file:///Users/shiv/workspace/sdg_hub_add-structured-summary-nb/src/sdg_hub/core/flow/base.py#646\" target=\"_blank\"><span style=\"color: #7f7f7f; text-decoration-color: #7f7f7f\">646</span></a>\n",
       "</pre>\n"
      ],
      "text/plain": [
       "\u001b[2;36m[15:26:19]\u001b[0m\u001b[2;36m \u001b[0m\u001b[34mINFO    \u001b[0m Block \u001b[32m'generate_summary'\u001b[0m completed successfully: \u001b[1;36m50\u001b[0m samples, \u001b[1;36m7\u001b[0m columns              \u001b]8;id=878644;file:///Users/shiv/workspace/sdg_hub_add-structured-summary-nb/src/sdg_hub/core/flow/base.py\u001b\\\u001b[2mbase.py\u001b[0m\u001b]8;;\u001b\\\u001b[2m:\u001b[0m\u001b]8;id=599289;file:///Users/shiv/workspace/sdg_hub_add-structured-summary-nb/src/sdg_hub/core/flow/base.py#646\u001b\\\u001b[2m646\u001b[0m\u001b]8;;\u001b\\\n"
      ]
     },
     "metadata": {},
     "output_type": "display_data"
    },
    {
     "data": {
      "text/html": [
       "<pre style=\"white-space:pre;overflow-x:auto;line-height:normal;font-family:Menlo,'DejaVu Sans Mono',consolas,'Courier New',monospace\"><span style=\"color: #7fbfbf; text-decoration-color: #7fbfbf\">           </span><span style=\"color: #000080; text-decoration-color: #000080\">INFO    </span> Executing block <span style=\"color: #008080; text-decoration-color: #008080; font-weight: bold\">3</span>/<span style=\"color: #008080; text-decoration-color: #008080; font-weight: bold\">16</span>: parse_summary <span style=\"font-weight: bold\">(</span>TextParserBlock<span style=\"font-weight: bold\">)</span>                               <a href=\"file:///Users/shiv/workspace/sdg_hub_add-structured-summary-nb/src/sdg_hub/core/flow/base.py\" target=\"_blank\"><span style=\"color: #7f7f7f; text-decoration-color: #7f7f7f\">base.py</span></a><span style=\"color: #7f7f7f; text-decoration-color: #7f7f7f\">:</span><a href=\"file:///Users/shiv/workspace/sdg_hub_add-structured-summary-nb/src/sdg_hub/core/flow/base.py#610\" target=\"_blank\"><span style=\"color: #7f7f7f; text-decoration-color: #7f7f7f\">610</span></a>\n",
       "</pre>\n"
      ],
      "text/plain": [
       "\u001b[2;36m          \u001b[0m\u001b[2;36m \u001b[0m\u001b[34mINFO    \u001b[0m Executing block \u001b[1;36m3\u001b[0m/\u001b[1;36m16\u001b[0m: parse_summary \u001b[1m(\u001b[0mTextParserBlock\u001b[1m)\u001b[0m                               \u001b]8;id=52210;file:///Users/shiv/workspace/sdg_hub_add-structured-summary-nb/src/sdg_hub/core/flow/base.py\u001b\\\u001b[2mbase.py\u001b[0m\u001b]8;;\u001b\\\u001b[2m:\u001b[0m\u001b]8;id=254715;file:///Users/shiv/workspace/sdg_hub_add-structured-summary-nb/src/sdg_hub/core/flow/base.py#610\u001b\\\u001b[2m610\u001b[0m\u001b]8;;\u001b\\\n"
      ]
     },
     "metadata": {},
     "output_type": "display_data"
    },
    {
     "data": {
      "text/html": [
       "<pre style=\"white-space:pre;overflow-x:auto;line-height:normal;font-family:Menlo,'DejaVu Sans Mono',consolas,'Courier New',monospace\"><span style=\"color: #000080; text-decoration-color: #000080\">╭───────────────────────────────────────────────── </span><span style=\"color: #000080; text-decoration-color: #000080; font-weight: bold\">parse_summary</span><span style=\"color: #000080; text-decoration-color: #000080\"> ─────────────────────────────────────────────────╮</span>\n",
       "<span style=\"color: #000080; text-decoration-color: #000080\">│</span> <span style=\"color: #000080; text-decoration-color: #000080; font-weight: bold\">📊 Processing Input Data</span>                                                                                        <span style=\"color: #000080; text-decoration-color: #000080\">│</span>\n",
       "<span style=\"color: #000080; text-decoration-color: #000080\">│</span> <span style=\"color: #008080; text-decoration-color: #008080\">Block Type: TextParserBlock</span>                                                                                     <span style=\"color: #000080; text-decoration-color: #000080\">│</span>\n",
       "<span style=\"color: #000080; text-decoration-color: #000080\">│</span> <span style=\"color: #008080; text-decoration-color: #008080; font-weight: bold\">Input Rows: 50</span>                                                                                                  <span style=\"color: #000080; text-decoration-color: #000080\">│</span>\n",
       "<span style=\"color: #000080; text-decoration-color: #000080\">│</span> <span style=\"color: #008080; text-decoration-color: #008080\">Input Columns: 7</span>                                                                                                <span style=\"color: #000080; text-decoration-color: #000080\">│</span>\n",
       "<span style=\"color: #000080; text-decoration-color: #000080\">│</span> <span style=\"color: #c0c0c0; text-decoration-color: #c0c0c0\">Column Names: Headline, Journalists, Date, Link, text, summary_prompt, raw_summary</span>                              <span style=\"color: #000080; text-decoration-color: #000080\">│</span>\n",
       "<span style=\"color: #000080; text-decoration-color: #000080\">│</span> <span style=\"color: #008000; text-decoration-color: #008000\">Expected Output Columns: summary</span>                                                                                <span style=\"color: #000080; text-decoration-color: #000080\">│</span>\n",
       "<span style=\"color: #000080; text-decoration-color: #000080\">╰─────────────────────────────────────────────────────────────────────────────────────────────────────────────────╯</span>\n",
       "</pre>\n"
      ],
      "text/plain": [
       "\u001b[34m╭─\u001b[0m\u001b[34m────────────────────────────────────────────────\u001b[0m\u001b[34m \u001b[0m\u001b[1;34mparse_summary\u001b[0m\u001b[34m \u001b[0m\u001b[34m────────────────────────────────────────────────\u001b[0m\u001b[34m─╮\u001b[0m\n",
       "\u001b[34m│\u001b[0m \u001b[1;34m📊 Processing Input Data\u001b[0m                                                                                        \u001b[34m│\u001b[0m\n",
       "\u001b[34m│\u001b[0m \u001b[36mBlock Type: TextParserBlock\u001b[0m                                                                                     \u001b[34m│\u001b[0m\n",
       "\u001b[34m│\u001b[0m \u001b[1;36mInput Rows: 50\u001b[0m                                                                                                  \u001b[34m│\u001b[0m\n",
       "\u001b[34m│\u001b[0m \u001b[36mInput Columns: 7\u001b[0m                                                                                                \u001b[34m│\u001b[0m\n",
       "\u001b[34m│\u001b[0m \u001b[37mColumn Names: Headline, Journalists, Date, Link, text, summary_prompt, raw_summary\u001b[0m                              \u001b[34m│\u001b[0m\n",
       "\u001b[34m│\u001b[0m \u001b[32mExpected Output Columns: summary\u001b[0m                                                                                \u001b[34m│\u001b[0m\n",
       "\u001b[34m╰─────────────────────────────────────────────────────────────────────────────────────────────────────────────────╯\u001b[0m\n"
      ]
     },
     "metadata": {},
     "output_type": "display_data"
    },
    {
     "data": {
      "text/html": [
       "<pre style=\"white-space:pre;overflow-x:auto;line-height:normal;font-family:Menlo,'DejaVu Sans Mono',consolas,'Courier New',monospace\"><span style=\"color: #008000; text-decoration-color: #008000\">╭─────────────────────────────────────────── </span><span style=\"color: #008000; text-decoration-color: #008000; font-weight: bold\">parse_summary - Complete</span><span style=\"color: #008000; text-decoration-color: #008000\"> ────────────────────────────────────────────╮</span>\n",
       "<span style=\"color: #008000; text-decoration-color: #008000\">│</span> <span style=\"color: #008000; text-decoration-color: #008000; font-weight: bold\">✅ Processing Complete</span>                                                                                          <span style=\"color: #008000; text-decoration-color: #008000\">│</span>\n",
       "<span style=\"color: #008000; text-decoration-color: #008000\">│</span> <span style=\"color: #008080; text-decoration-color: #008080\">Rows: 50 → 50</span>                                                                                                   <span style=\"color: #008000; text-decoration-color: #008000\">│</span>\n",
       "<span style=\"color: #008000; text-decoration-color: #008000\">│</span> <span style=\"color: #008080; text-decoration-color: #008080\">Columns: 7 → 8</span>                                                                                                  <span style=\"color: #008000; text-decoration-color: #008000\">│</span>\n",
       "<span style=\"color: #008000; text-decoration-color: #008000\">│</span> <span style=\"color: #008000; text-decoration-color: #008000\">🟢 Added: summary</span>                                                                                               <span style=\"color: #008000; text-decoration-color: #008000\">│</span>\n",
       "<span style=\"color: #008000; text-decoration-color: #008000\">│</span> <span style=\"color: #c0c0c0; text-decoration-color: #c0c0c0\">📋 Final Columns: Date, Headline, Journalists, Link, raw_summary, summary, summary_prompt, text</span>                 <span style=\"color: #008000; text-decoration-color: #008000\">│</span>\n",
       "<span style=\"color: #008000; text-decoration-color: #008000\">╰─────────────────────────────────────────────────────────────────────────────────────────────────────────────────╯</span>\n",
       "</pre>\n"
      ],
      "text/plain": [
       "\u001b[32m╭─\u001b[0m\u001b[32m──────────────────────────────────────────\u001b[0m\u001b[32m \u001b[0m\u001b[1;32mparse_summary - Complete\u001b[0m\u001b[32m \u001b[0m\u001b[32m───────────────────────────────────────────\u001b[0m\u001b[32m─╮\u001b[0m\n",
       "\u001b[32m│\u001b[0m \u001b[1;32m✅ Processing Complete\u001b[0m                                                                                          \u001b[32m│\u001b[0m\n",
       "\u001b[32m│\u001b[0m \u001b[36mRows: 50 → 50\u001b[0m                                                                                                   \u001b[32m│\u001b[0m\n",
       "\u001b[32m│\u001b[0m \u001b[36mColumns: 7 → 8\u001b[0m                                                                                                  \u001b[32m│\u001b[0m\n",
       "\u001b[32m│\u001b[0m \u001b[32m🟢 Added: summary\u001b[0m                                                                                               \u001b[32m│\u001b[0m\n",
       "\u001b[32m│\u001b[0m \u001b[37m📋 Final Columns: Date, Headline, Journalists, Link, raw_summary, summary, summary_prompt, text\u001b[0m                 \u001b[32m│\u001b[0m\n",
       "\u001b[32m╰─────────────────────────────────────────────────────────────────────────────────────────────────────────────────╯\u001b[0m\n"
      ]
     },
     "metadata": {},
     "output_type": "display_data"
    },
    {
     "data": {
      "text/html": [
       "<pre style=\"white-space:pre;overflow-x:auto;line-height:normal;font-family:Menlo,'DejaVu Sans Mono',consolas,'Courier New',monospace\"><span style=\"color: #7fbfbf; text-decoration-color: #7fbfbf\">           </span><span style=\"color: #000080; text-decoration-color: #000080\">INFO    </span> Block <span style=\"color: #008000; text-decoration-color: #008000\">'parse_summary'</span> completed successfully: <span style=\"color: #008080; text-decoration-color: #008080; font-weight: bold\">50</span> samples, <span style=\"color: #008080; text-decoration-color: #008080; font-weight: bold\">8</span> columns                 <a href=\"file:///Users/shiv/workspace/sdg_hub_add-structured-summary-nb/src/sdg_hub/core/flow/base.py\" target=\"_blank\"><span style=\"color: #7f7f7f; text-decoration-color: #7f7f7f\">base.py</span></a><span style=\"color: #7f7f7f; text-decoration-color: #7f7f7f\">:</span><a href=\"file:///Users/shiv/workspace/sdg_hub_add-structured-summary-nb/src/sdg_hub/core/flow/base.py#646\" target=\"_blank\"><span style=\"color: #7f7f7f; text-decoration-color: #7f7f7f\">646</span></a>\n",
       "</pre>\n"
      ],
      "text/plain": [
       "\u001b[2;36m          \u001b[0m\u001b[2;36m \u001b[0m\u001b[34mINFO    \u001b[0m Block \u001b[32m'parse_summary'\u001b[0m completed successfully: \u001b[1;36m50\u001b[0m samples, \u001b[1;36m8\u001b[0m columns                 \u001b]8;id=895513;file:///Users/shiv/workspace/sdg_hub_add-structured-summary-nb/src/sdg_hub/core/flow/base.py\u001b\\\u001b[2mbase.py\u001b[0m\u001b]8;;\u001b\\\u001b[2m:\u001b[0m\u001b]8;id=222699;file:///Users/shiv/workspace/sdg_hub_add-structured-summary-nb/src/sdg_hub/core/flow/base.py#646\u001b\\\u001b[2m646\u001b[0m\u001b]8;;\u001b\\\n"
      ]
     },
     "metadata": {},
     "output_type": "display_data"
    },
    {
     "data": {
      "text/html": [
       "<pre style=\"white-space:pre;overflow-x:auto;line-height:normal;font-family:Menlo,'DejaVu Sans Mono',consolas,'Courier New',monospace\"><span style=\"color: #7fbfbf; text-decoration-color: #7fbfbf\">           </span><span style=\"color: #000080; text-decoration-color: #000080\">INFO    </span> Executing block <span style=\"color: #008080; text-decoration-color: #008080; font-weight: bold\">4</span>/<span style=\"color: #008080; text-decoration-color: #008080; font-weight: bold\">16</span>: build_keywords_prompt <span style=\"font-weight: bold\">(</span>PromptBuilderBlock<span style=\"font-weight: bold\">)</span>                    <a href=\"file:///Users/shiv/workspace/sdg_hub_add-structured-summary-nb/src/sdg_hub/core/flow/base.py\" target=\"_blank\"><span style=\"color: #7f7f7f; text-decoration-color: #7f7f7f\">base.py</span></a><span style=\"color: #7f7f7f; text-decoration-color: #7f7f7f\">:</span><a href=\"file:///Users/shiv/workspace/sdg_hub_add-structured-summary-nb/src/sdg_hub/core/flow/base.py#610\" target=\"_blank\"><span style=\"color: #7f7f7f; text-decoration-color: #7f7f7f\">610</span></a>\n",
       "</pre>\n"
      ],
      "text/plain": [
       "\u001b[2;36m          \u001b[0m\u001b[2;36m \u001b[0m\u001b[34mINFO    \u001b[0m Executing block \u001b[1;36m4\u001b[0m/\u001b[1;36m16\u001b[0m: build_keywords_prompt \u001b[1m(\u001b[0mPromptBuilderBlock\u001b[1m)\u001b[0m                    \u001b]8;id=392863;file:///Users/shiv/workspace/sdg_hub_add-structured-summary-nb/src/sdg_hub/core/flow/base.py\u001b\\\u001b[2mbase.py\u001b[0m\u001b]8;;\u001b\\\u001b[2m:\u001b[0m\u001b]8;id=541796;file:///Users/shiv/workspace/sdg_hub_add-structured-summary-nb/src/sdg_hub/core/flow/base.py#610\u001b\\\u001b[2m610\u001b[0m\u001b]8;;\u001b\\\n"
      ]
     },
     "metadata": {},
     "output_type": "display_data"
    },
    {
     "data": {
      "text/html": [
       "<pre style=\"white-space:pre;overflow-x:auto;line-height:normal;font-family:Menlo,'DejaVu Sans Mono',consolas,'Courier New',monospace\"><span style=\"color: #000080; text-decoration-color: #000080\">╭───────────────────────────────────────────── </span><span style=\"color: #000080; text-decoration-color: #000080; font-weight: bold\">build_keywords_prompt</span><span style=\"color: #000080; text-decoration-color: #000080\"> ─────────────────────────────────────────────╮</span>\n",
       "<span style=\"color: #000080; text-decoration-color: #000080\">│</span> <span style=\"color: #000080; text-decoration-color: #000080; font-weight: bold\">📊 Processing Input Data</span>                                                                                        <span style=\"color: #000080; text-decoration-color: #000080\">│</span>\n",
       "<span style=\"color: #000080; text-decoration-color: #000080\">│</span> <span style=\"color: #008080; text-decoration-color: #008080\">Block Type: PromptBuilderBlock</span>                                                                                  <span style=\"color: #000080; text-decoration-color: #000080\">│</span>\n",
       "<span style=\"color: #000080; text-decoration-color: #000080\">│</span> <span style=\"color: #008080; text-decoration-color: #008080; font-weight: bold\">Input Rows: 50</span>                                                                                                  <span style=\"color: #000080; text-decoration-color: #000080\">│</span>\n",
       "<span style=\"color: #000080; text-decoration-color: #000080\">│</span> <span style=\"color: #008080; text-decoration-color: #008080\">Input Columns: 8</span>                                                                                                <span style=\"color: #000080; text-decoration-color: #000080\">│</span>\n",
       "<span style=\"color: #000080; text-decoration-color: #000080\">│</span> <span style=\"color: #c0c0c0; text-decoration-color: #c0c0c0\">Column Names: Headline, Journalists, Date, Link, text, summary_prompt, raw_summary, summary</span>                     <span style=\"color: #000080; text-decoration-color: #000080\">│</span>\n",
       "<span style=\"color: #000080; text-decoration-color: #000080\">│</span> <span style=\"color: #008000; text-decoration-color: #008000\">Expected Output Columns: keywords_prompt</span>                                                                        <span style=\"color: #000080; text-decoration-color: #000080\">│</span>\n",
       "<span style=\"color: #000080; text-decoration-color: #000080\">╰─────────────────────────────────────────────────────────────────────────────────────────────────────────────────╯</span>\n",
       "</pre>\n"
      ],
      "text/plain": [
       "\u001b[34m╭─\u001b[0m\u001b[34m────────────────────────────────────────────\u001b[0m\u001b[34m \u001b[0m\u001b[1;34mbuild_keywords_prompt\u001b[0m\u001b[34m \u001b[0m\u001b[34m────────────────────────────────────────────\u001b[0m\u001b[34m─╮\u001b[0m\n",
       "\u001b[34m│\u001b[0m \u001b[1;34m📊 Processing Input Data\u001b[0m                                                                                        \u001b[34m│\u001b[0m\n",
       "\u001b[34m│\u001b[0m \u001b[36mBlock Type: PromptBuilderBlock\u001b[0m                                                                                  \u001b[34m│\u001b[0m\n",
       "\u001b[34m│\u001b[0m \u001b[1;36mInput Rows: 50\u001b[0m                                                                                                  \u001b[34m│\u001b[0m\n",
       "\u001b[34m│\u001b[0m \u001b[36mInput Columns: 8\u001b[0m                                                                                                \u001b[34m│\u001b[0m\n",
       "\u001b[34m│\u001b[0m \u001b[37mColumn Names: Headline, Journalists, Date, Link, text, summary_prompt, raw_summary, summary\u001b[0m                     \u001b[34m│\u001b[0m\n",
       "\u001b[34m│\u001b[0m \u001b[32mExpected Output Columns: keywords_prompt\u001b[0m                                                                        \u001b[34m│\u001b[0m\n",
       "\u001b[34m╰─────────────────────────────────────────────────────────────────────────────────────────────────────────────────╯\u001b[0m\n"
      ]
     },
     "metadata": {},
     "output_type": "display_data"
    },
    {
     "name": "stderr",
     "output_type": "stream",
     "text": [
      "Map: 100%|██████████| 50/50 [00:00<00:00, 6254.55 examples/s]\n"
     ]
    },
    {
     "data": {
      "text/html": [
       "<pre style=\"white-space:pre;overflow-x:auto;line-height:normal;font-family:Menlo,'DejaVu Sans Mono',consolas,'Courier New',monospace\"><span style=\"color: #008000; text-decoration-color: #008000\">╭─────────────────────────────────────── </span><span style=\"color: #008000; text-decoration-color: #008000; font-weight: bold\">build_keywords_prompt - Complete</span><span style=\"color: #008000; text-decoration-color: #008000\"> ────────────────────────────────────────╮</span>\n",
       "<span style=\"color: #008000; text-decoration-color: #008000\">│</span> <span style=\"color: #008000; text-decoration-color: #008000; font-weight: bold\">✅ Processing Complete</span>                                                                                          <span style=\"color: #008000; text-decoration-color: #008000\">│</span>\n",
       "<span style=\"color: #008000; text-decoration-color: #008000\">│</span> <span style=\"color: #008080; text-decoration-color: #008080\">Rows: 50 → 50</span>                                                                                                   <span style=\"color: #008000; text-decoration-color: #008000\">│</span>\n",
       "<span style=\"color: #008000; text-decoration-color: #008000\">│</span> <span style=\"color: #008080; text-decoration-color: #008080\">Columns: 8 → 9</span>                                                                                                  <span style=\"color: #008000; text-decoration-color: #008000\">│</span>\n",
       "<span style=\"color: #008000; text-decoration-color: #008000\">│</span> <span style=\"color: #008000; text-decoration-color: #008000\">🟢 Added: keywords_prompt</span>                                                                                       <span style=\"color: #008000; text-decoration-color: #008000\">│</span>\n",
       "<span style=\"color: #008000; text-decoration-color: #008000\">│</span> <span style=\"color: #c0c0c0; text-decoration-color: #c0c0c0\">📋 Final Columns: Date, Headline, Journalists, Link, keywords_prompt, raw_summary, summary, summary_prompt, </span>    <span style=\"color: #008000; text-decoration-color: #008000\">│</span>\n",
       "<span style=\"color: #008000; text-decoration-color: #008000\">│</span> <span style=\"color: #c0c0c0; text-decoration-color: #c0c0c0\">text</span>                                                                                                            <span style=\"color: #008000; text-decoration-color: #008000\">│</span>\n",
       "<span style=\"color: #008000; text-decoration-color: #008000\">╰─────────────────────────────────────────────────────────────────────────────────────────────────────────────────╯</span>\n",
       "</pre>\n"
      ],
      "text/plain": [
       "\u001b[32m╭─\u001b[0m\u001b[32m──────────────────────────────────────\u001b[0m\u001b[32m \u001b[0m\u001b[1;32mbuild_keywords_prompt - Complete\u001b[0m\u001b[32m \u001b[0m\u001b[32m───────────────────────────────────────\u001b[0m\u001b[32m─╮\u001b[0m\n",
       "\u001b[32m│\u001b[0m \u001b[1;32m✅ Processing Complete\u001b[0m                                                                                          \u001b[32m│\u001b[0m\n",
       "\u001b[32m│\u001b[0m \u001b[36mRows: 50 → 50\u001b[0m                                                                                                   \u001b[32m│\u001b[0m\n",
       "\u001b[32m│\u001b[0m \u001b[36mColumns: 8 → 9\u001b[0m                                                                                                  \u001b[32m│\u001b[0m\n",
       "\u001b[32m│\u001b[0m \u001b[32m🟢 Added: keywords_prompt\u001b[0m                                                                                       \u001b[32m│\u001b[0m\n",
       "\u001b[32m│\u001b[0m \u001b[37m📋 Final Columns: Date, Headline, Journalists, Link, keywords_prompt, raw_summary, summary, summary_prompt, \u001b[0m    \u001b[32m│\u001b[0m\n",
       "\u001b[32m│\u001b[0m \u001b[37mtext\u001b[0m                                                                                                            \u001b[32m│\u001b[0m\n",
       "\u001b[32m╰─────────────────────────────────────────────────────────────────────────────────────────────────────────────────╯\u001b[0m\n"
      ]
     },
     "metadata": {},
     "output_type": "display_data"
    },
    {
     "data": {
      "text/html": [
       "<pre style=\"white-space:pre;overflow-x:auto;line-height:normal;font-family:Menlo,'DejaVu Sans Mono',consolas,'Courier New',monospace\"><span style=\"color: #7fbfbf; text-decoration-color: #7fbfbf\">           </span><span style=\"color: #000080; text-decoration-color: #000080\">INFO    </span> Block <span style=\"color: #008000; text-decoration-color: #008000\">'build_keywords_prompt'</span> completed successfully: <span style=\"color: #008080; text-decoration-color: #008080; font-weight: bold\">50</span> samples, <span style=\"color: #008080; text-decoration-color: #008080; font-weight: bold\">9</span> columns         <a href=\"file:///Users/shiv/workspace/sdg_hub_add-structured-summary-nb/src/sdg_hub/core/flow/base.py\" target=\"_blank\"><span style=\"color: #7f7f7f; text-decoration-color: #7f7f7f\">base.py</span></a><span style=\"color: #7f7f7f; text-decoration-color: #7f7f7f\">:</span><a href=\"file:///Users/shiv/workspace/sdg_hub_add-structured-summary-nb/src/sdg_hub/core/flow/base.py#646\" target=\"_blank\"><span style=\"color: #7f7f7f; text-decoration-color: #7f7f7f\">646</span></a>\n",
       "</pre>\n"
      ],
      "text/plain": [
       "\u001b[2;36m          \u001b[0m\u001b[2;36m \u001b[0m\u001b[34mINFO    \u001b[0m Block \u001b[32m'build_keywords_prompt'\u001b[0m completed successfully: \u001b[1;36m50\u001b[0m samples, \u001b[1;36m9\u001b[0m columns         \u001b]8;id=625407;file:///Users/shiv/workspace/sdg_hub_add-structured-summary-nb/src/sdg_hub/core/flow/base.py\u001b\\\u001b[2mbase.py\u001b[0m\u001b]8;;\u001b\\\u001b[2m:\u001b[0m\u001b]8;id=985207;file:///Users/shiv/workspace/sdg_hub_add-structured-summary-nb/src/sdg_hub/core/flow/base.py#646\u001b\\\u001b[2m646\u001b[0m\u001b]8;;\u001b\\\n"
      ]
     },
     "metadata": {},
     "output_type": "display_data"
    },
    {
     "data": {
      "text/html": [
       "<pre style=\"white-space:pre;overflow-x:auto;line-height:normal;font-family:Menlo,'DejaVu Sans Mono',consolas,'Courier New',monospace\"><span style=\"color: #7fbfbf; text-decoration-color: #7fbfbf\">           </span><span style=\"color: #000080; text-decoration-color: #000080\">INFO    </span> Executing block <span style=\"color: #008080; text-decoration-color: #008080; font-weight: bold\">5</span>/<span style=\"color: #008080; text-decoration-color: #008080; font-weight: bold\">16</span>: generate_keywords <span style=\"font-weight: bold\">(</span>LLMChatBlock<span style=\"font-weight: bold\">)</span>                              <a href=\"file:///Users/shiv/workspace/sdg_hub_add-structured-summary-nb/src/sdg_hub/core/flow/base.py\" target=\"_blank\"><span style=\"color: #7f7f7f; text-decoration-color: #7f7f7f\">base.py</span></a><span style=\"color: #7f7f7f; text-decoration-color: #7f7f7f\">:</span><a href=\"file:///Users/shiv/workspace/sdg_hub_add-structured-summary-nb/src/sdg_hub/core/flow/base.py#610\" target=\"_blank\"><span style=\"color: #7f7f7f; text-decoration-color: #7f7f7f\">610</span></a>\n",
       "</pre>\n"
      ],
      "text/plain": [
       "\u001b[2;36m          \u001b[0m\u001b[2;36m \u001b[0m\u001b[34mINFO    \u001b[0m Executing block \u001b[1;36m5\u001b[0m/\u001b[1;36m16\u001b[0m: generate_keywords \u001b[1m(\u001b[0mLLMChatBlock\u001b[1m)\u001b[0m                              \u001b]8;id=299909;file:///Users/shiv/workspace/sdg_hub_add-structured-summary-nb/src/sdg_hub/core/flow/base.py\u001b\\\u001b[2mbase.py\u001b[0m\u001b]8;;\u001b\\\u001b[2m:\u001b[0m\u001b]8;id=188350;file:///Users/shiv/workspace/sdg_hub_add-structured-summary-nb/src/sdg_hub/core/flow/base.py#610\u001b\\\u001b[2m610\u001b[0m\u001b]8;;\u001b\\\n"
      ]
     },
     "metadata": {},
     "output_type": "display_data"
    },
    {
     "data": {
      "text/html": [
       "<pre style=\"white-space:pre;overflow-x:auto;line-height:normal;font-family:Menlo,'DejaVu Sans Mono',consolas,'Courier New',monospace\"><span style=\"color: #000080; text-decoration-color: #000080\">╭─────────────────────────────────────────────── </span><span style=\"color: #000080; text-decoration-color: #000080; font-weight: bold\">generate_keywords</span><span style=\"color: #000080; text-decoration-color: #000080\"> ───────────────────────────────────────────────╮</span>\n",
       "<span style=\"color: #000080; text-decoration-color: #000080\">│</span> <span style=\"color: #000080; text-decoration-color: #000080; font-weight: bold\">📊 Processing Input Data</span>                                                                                        <span style=\"color: #000080; text-decoration-color: #000080\">│</span>\n",
       "<span style=\"color: #000080; text-decoration-color: #000080\">│</span> <span style=\"color: #008080; text-decoration-color: #008080\">Block Type: LLMChatBlock</span>                                                                                        <span style=\"color: #000080; text-decoration-color: #000080\">│</span>\n",
       "<span style=\"color: #000080; text-decoration-color: #000080\">│</span> <span style=\"color: #008080; text-decoration-color: #008080; font-weight: bold\">Input Rows: 50</span>                                                                                                  <span style=\"color: #000080; text-decoration-color: #000080\">│</span>\n",
       "<span style=\"color: #000080; text-decoration-color: #000080\">│</span> <span style=\"color: #008080; text-decoration-color: #008080\">Input Columns: 9</span>                                                                                                <span style=\"color: #000080; text-decoration-color: #000080\">│</span>\n",
       "<span style=\"color: #000080; text-decoration-color: #000080\">│</span> <span style=\"color: #c0c0c0; text-decoration-color: #c0c0c0\">Column Names: Headline, Journalists, Date, Link, text, summary_prompt, raw_summary, summary, keywords_prompt</span>    <span style=\"color: #000080; text-decoration-color: #000080\">│</span>\n",
       "<span style=\"color: #000080; text-decoration-color: #000080\">│</span> <span style=\"color: #008000; text-decoration-color: #008000\">Expected Output Columns: raw_keywords</span>                                                                           <span style=\"color: #000080; text-decoration-color: #000080\">│</span>\n",
       "<span style=\"color: #000080; text-decoration-color: #000080\">╰─────────────────────────────────────────────────────────────────────────────────────────────────────────────────╯</span>\n",
       "</pre>\n"
      ],
      "text/plain": [
       "\u001b[34m╭─\u001b[0m\u001b[34m──────────────────────────────────────────────\u001b[0m\u001b[34m \u001b[0m\u001b[1;34mgenerate_keywords\u001b[0m\u001b[34m \u001b[0m\u001b[34m──────────────────────────────────────────────\u001b[0m\u001b[34m─╮\u001b[0m\n",
       "\u001b[34m│\u001b[0m \u001b[1;34m📊 Processing Input Data\u001b[0m                                                                                        \u001b[34m│\u001b[0m\n",
       "\u001b[34m│\u001b[0m \u001b[36mBlock Type: LLMChatBlock\u001b[0m                                                                                        \u001b[34m│\u001b[0m\n",
       "\u001b[34m│\u001b[0m \u001b[1;36mInput Rows: 50\u001b[0m                                                                                                  \u001b[34m│\u001b[0m\n",
       "\u001b[34m│\u001b[0m \u001b[36mInput Columns: 9\u001b[0m                                                                                                \u001b[34m│\u001b[0m\n",
       "\u001b[34m│\u001b[0m \u001b[37mColumn Names: Headline, Journalists, Date, Link, text, summary_prompt, raw_summary, summary, keywords_prompt\u001b[0m    \u001b[34m│\u001b[0m\n",
       "\u001b[34m│\u001b[0m \u001b[32mExpected Output Columns: raw_keywords\u001b[0m                                                                           \u001b[34m│\u001b[0m\n",
       "\u001b[34m╰─────────────────────────────────────────────────────────────────────────────────────────────────────────────────╯\u001b[0m\n"
      ]
     },
     "metadata": {},
     "output_type": "display_data"
    },
    {
     "data": {
      "text/html": [
       "<pre style=\"white-space:pre;overflow-x:auto;line-height:normal;font-family:Menlo,'DejaVu Sans Mono',consolas,'Courier New',monospace\"><span style=\"color: #7fbfbf; text-decoration-color: #7fbfbf\">           </span><span style=\"color: #000080; text-decoration-color: #000080\">INFO    </span> Starting async generation for <span style=\"color: #008080; text-decoration-color: #008080; font-weight: bold\">50</span> samples                                  <a href=\"file:///Users/shiv/workspace/sdg_hub_add-structured-summary-nb/src/sdg_hub/core/blocks/llm/llm_chat_block.py\" target=\"_blank\"><span style=\"color: #7f7f7f; text-decoration-color: #7f7f7f\">llm_chat_block.py</span></a><span style=\"color: #7f7f7f; text-decoration-color: #7f7f7f\">:</span><a href=\"file:///Users/shiv/workspace/sdg_hub_add-structured-summary-nb/src/sdg_hub/core/blocks/llm/llm_chat_block.py#329\" target=\"_blank\"><span style=\"color: #7f7f7f; text-decoration-color: #7f7f7f\">329</span></a>\n",
       "</pre>\n"
      ],
      "text/plain": [
       "\u001b[2;36m          \u001b[0m\u001b[2;36m \u001b[0m\u001b[34mINFO    \u001b[0m Starting async generation for \u001b[1;36m50\u001b[0m samples                                  \u001b]8;id=407755;file:///Users/shiv/workspace/sdg_hub_add-structured-summary-nb/src/sdg_hub/core/blocks/llm/llm_chat_block.py\u001b\\\u001b[2mllm_chat_block.py\u001b[0m\u001b]8;;\u001b\\\u001b[2m:\u001b[0m\u001b]8;id=829674;file:///Users/shiv/workspace/sdg_hub_add-structured-summary-nb/src/sdg_hub/core/blocks/llm/llm_chat_block.py#329\u001b\\\u001b[2m329\u001b[0m\u001b]8;;\u001b\\\n"
      ]
     },
     "metadata": {},
     "output_type": "display_data"
    },
    {
     "data": {
      "text/html": [
       "<pre style=\"white-space:pre;overflow-x:auto;line-height:normal;font-family:Menlo,'DejaVu Sans Mono',consolas,'Courier New',monospace\"><span style=\"color: #7fbfbf; text-decoration-color: #7fbfbf\">[15:26:20] </span><span style=\"color: #000080; text-decoration-color: #000080\">INFO    </span> Generation completed successfully for <span style=\"color: #008080; text-decoration-color: #008080; font-weight: bold\">50</span> samples                          <a href=\"file:///Users/shiv/workspace/sdg_hub_add-structured-summary-nb/src/sdg_hub/core/blocks/llm/llm_chat_block.py\" target=\"_blank\"><span style=\"color: #7f7f7f; text-decoration-color: #7f7f7f\">llm_chat_block.py</span></a><span style=\"color: #7f7f7f; text-decoration-color: #7f7f7f\">:</span><a href=\"file:///Users/shiv/workspace/sdg_hub_add-structured-summary-nb/src/sdg_hub/core/blocks/llm/llm_chat_block.py#393\" target=\"_blank\"><span style=\"color: #7f7f7f; text-decoration-color: #7f7f7f\">393</span></a>\n",
       "</pre>\n"
      ],
      "text/plain": [
       "\u001b[2;36m[15:26:20]\u001b[0m\u001b[2;36m \u001b[0m\u001b[34mINFO    \u001b[0m Generation completed successfully for \u001b[1;36m50\u001b[0m samples                          \u001b]8;id=968707;file:///Users/shiv/workspace/sdg_hub_add-structured-summary-nb/src/sdg_hub/core/blocks/llm/llm_chat_block.py\u001b\\\u001b[2mllm_chat_block.py\u001b[0m\u001b]8;;\u001b\\\u001b[2m:\u001b[0m\u001b]8;id=636842;file:///Users/shiv/workspace/sdg_hub_add-structured-summary-nb/src/sdg_hub/core/blocks/llm/llm_chat_block.py#393\u001b\\\u001b[2m393\u001b[0m\u001b]8;;\u001b\\\n"
      ]
     },
     "metadata": {},
     "output_type": "display_data"
    },
    {
     "data": {
      "text/html": [
       "<pre style=\"white-space:pre;overflow-x:auto;line-height:normal;font-family:Menlo,'DejaVu Sans Mono',consolas,'Courier New',monospace\"><span style=\"color: #008000; text-decoration-color: #008000\">╭───────────────────────────────────────── </span><span style=\"color: #008000; text-decoration-color: #008000; font-weight: bold\">generate_keywords - Complete</span><span style=\"color: #008000; text-decoration-color: #008000\"> ──────────────────────────────────────────╮</span>\n",
       "<span style=\"color: #008000; text-decoration-color: #008000\">│</span> <span style=\"color: #008000; text-decoration-color: #008000; font-weight: bold\">✅ Processing Complete</span>                                                                                          <span style=\"color: #008000; text-decoration-color: #008000\">│</span>\n",
       "<span style=\"color: #008000; text-decoration-color: #008000\">│</span> <span style=\"color: #008080; text-decoration-color: #008080\">Rows: 50 → 50</span>                                                                                                   <span style=\"color: #008000; text-decoration-color: #008000\">│</span>\n",
       "<span style=\"color: #008000; text-decoration-color: #008000\">│</span> <span style=\"color: #008080; text-decoration-color: #008080\">Columns: 9 → 10</span>                                                                                                 <span style=\"color: #008000; text-decoration-color: #008000\">│</span>\n",
       "<span style=\"color: #008000; text-decoration-color: #008000\">│</span> <span style=\"color: #008000; text-decoration-color: #008000\">🟢 Added: raw_keywords</span>                                                                                          <span style=\"color: #008000; text-decoration-color: #008000\">│</span>\n",
       "<span style=\"color: #008000; text-decoration-color: #008000\">│</span> <span style=\"color: #c0c0c0; text-decoration-color: #c0c0c0\">📋 Final Columns: Date, Headline, Journalists, Link, keywords_prompt, raw_keywords, raw_summary, summary, </span>      <span style=\"color: #008000; text-decoration-color: #008000\">│</span>\n",
       "<span style=\"color: #008000; text-decoration-color: #008000\">│</span> <span style=\"color: #c0c0c0; text-decoration-color: #c0c0c0\">summary_prompt, text</span>                                                                                            <span style=\"color: #008000; text-decoration-color: #008000\">│</span>\n",
       "<span style=\"color: #008000; text-decoration-color: #008000\">╰─────────────────────────────────────────────────────────────────────────────────────────────────────────────────╯</span>\n",
       "</pre>\n"
      ],
      "text/plain": [
       "\u001b[32m╭─\u001b[0m\u001b[32m────────────────────────────────────────\u001b[0m\u001b[32m \u001b[0m\u001b[1;32mgenerate_keywords - Complete\u001b[0m\u001b[32m \u001b[0m\u001b[32m─────────────────────────────────────────\u001b[0m\u001b[32m─╮\u001b[0m\n",
       "\u001b[32m│\u001b[0m \u001b[1;32m✅ Processing Complete\u001b[0m                                                                                          \u001b[32m│\u001b[0m\n",
       "\u001b[32m│\u001b[0m \u001b[36mRows: 50 → 50\u001b[0m                                                                                                   \u001b[32m│\u001b[0m\n",
       "\u001b[32m│\u001b[0m \u001b[36mColumns: 9 → 10\u001b[0m                                                                                                 \u001b[32m│\u001b[0m\n",
       "\u001b[32m│\u001b[0m \u001b[32m🟢 Added: raw_keywords\u001b[0m                                                                                          \u001b[32m│\u001b[0m\n",
       "\u001b[32m│\u001b[0m \u001b[37m📋 Final Columns: Date, Headline, Journalists, Link, keywords_prompt, raw_keywords, raw_summary, summary, \u001b[0m      \u001b[32m│\u001b[0m\n",
       "\u001b[32m│\u001b[0m \u001b[37msummary_prompt, text\u001b[0m                                                                                            \u001b[32m│\u001b[0m\n",
       "\u001b[32m╰─────────────────────────────────────────────────────────────────────────────────────────────────────────────────╯\u001b[0m\n"
      ]
     },
     "metadata": {},
     "output_type": "display_data"
    },
    {
     "data": {
      "text/html": [
       "<pre style=\"white-space:pre;overflow-x:auto;line-height:normal;font-family:Menlo,'DejaVu Sans Mono',consolas,'Courier New',monospace\"><span style=\"color: #7fbfbf; text-decoration-color: #7fbfbf\">[15:26:20] </span><span style=\"color: #000080; text-decoration-color: #000080\">INFO    </span> Block <span style=\"color: #008000; text-decoration-color: #008000\">'generate_keywords'</span> completed successfully: <span style=\"color: #008080; text-decoration-color: #008080; font-weight: bold\">50</span> samples, <span style=\"color: #008080; text-decoration-color: #008080; font-weight: bold\">10</span> columns            <a href=\"file:///Users/shiv/workspace/sdg_hub_add-structured-summary-nb/src/sdg_hub/core/flow/base.py\" target=\"_blank\"><span style=\"color: #7f7f7f; text-decoration-color: #7f7f7f\">base.py</span></a><span style=\"color: #7f7f7f; text-decoration-color: #7f7f7f\">:</span><a href=\"file:///Users/shiv/workspace/sdg_hub_add-structured-summary-nb/src/sdg_hub/core/flow/base.py#646\" target=\"_blank\"><span style=\"color: #7f7f7f; text-decoration-color: #7f7f7f\">646</span></a>\n",
       "</pre>\n"
      ],
      "text/plain": [
       "\u001b[2;36m[15:26:20]\u001b[0m\u001b[2;36m \u001b[0m\u001b[34mINFO    \u001b[0m Block \u001b[32m'generate_keywords'\u001b[0m completed successfully: \u001b[1;36m50\u001b[0m samples, \u001b[1;36m10\u001b[0m columns            \u001b]8;id=269653;file:///Users/shiv/workspace/sdg_hub_add-structured-summary-nb/src/sdg_hub/core/flow/base.py\u001b\\\u001b[2mbase.py\u001b[0m\u001b]8;;\u001b\\\u001b[2m:\u001b[0m\u001b]8;id=989204;file:///Users/shiv/workspace/sdg_hub_add-structured-summary-nb/src/sdg_hub/core/flow/base.py#646\u001b\\\u001b[2m646\u001b[0m\u001b]8;;\u001b\\\n"
      ]
     },
     "metadata": {},
     "output_type": "display_data"
    },
    {
     "data": {
      "text/html": [
       "<pre style=\"white-space:pre;overflow-x:auto;line-height:normal;font-family:Menlo,'DejaVu Sans Mono',consolas,'Courier New',monospace\"><span style=\"color: #7fbfbf; text-decoration-color: #7fbfbf\">           </span><span style=\"color: #000080; text-decoration-color: #000080\">INFO    </span> Executing block <span style=\"color: #008080; text-decoration-color: #008080; font-weight: bold\">6</span>/<span style=\"color: #008080; text-decoration-color: #008080; font-weight: bold\">16</span>: parse_keywords <span style=\"font-weight: bold\">(</span>TextParserBlock<span style=\"font-weight: bold\">)</span>                              <a href=\"file:///Users/shiv/workspace/sdg_hub_add-structured-summary-nb/src/sdg_hub/core/flow/base.py\" target=\"_blank\"><span style=\"color: #7f7f7f; text-decoration-color: #7f7f7f\">base.py</span></a><span style=\"color: #7f7f7f; text-decoration-color: #7f7f7f\">:</span><a href=\"file:///Users/shiv/workspace/sdg_hub_add-structured-summary-nb/src/sdg_hub/core/flow/base.py#610\" target=\"_blank\"><span style=\"color: #7f7f7f; text-decoration-color: #7f7f7f\">610</span></a>\n",
       "</pre>\n"
      ],
      "text/plain": [
       "\u001b[2;36m          \u001b[0m\u001b[2;36m \u001b[0m\u001b[34mINFO    \u001b[0m Executing block \u001b[1;36m6\u001b[0m/\u001b[1;36m16\u001b[0m: parse_keywords \u001b[1m(\u001b[0mTextParserBlock\u001b[1m)\u001b[0m                              \u001b]8;id=680356;file:///Users/shiv/workspace/sdg_hub_add-structured-summary-nb/src/sdg_hub/core/flow/base.py\u001b\\\u001b[2mbase.py\u001b[0m\u001b]8;;\u001b\\\u001b[2m:\u001b[0m\u001b]8;id=952238;file:///Users/shiv/workspace/sdg_hub_add-structured-summary-nb/src/sdg_hub/core/flow/base.py#610\u001b\\\u001b[2m610\u001b[0m\u001b]8;;\u001b\\\n"
      ]
     },
     "metadata": {},
     "output_type": "display_data"
    },
    {
     "data": {
      "text/html": [
       "<pre style=\"white-space:pre;overflow-x:auto;line-height:normal;font-family:Menlo,'DejaVu Sans Mono',consolas,'Courier New',monospace\"><span style=\"color: #000080; text-decoration-color: #000080\">╭──────────────────────────────────────────────── </span><span style=\"color: #000080; text-decoration-color: #000080; font-weight: bold\">parse_keywords</span><span style=\"color: #000080; text-decoration-color: #000080\"> ─────────────────────────────────────────────────╮</span>\n",
       "<span style=\"color: #000080; text-decoration-color: #000080\">│</span> <span style=\"color: #000080; text-decoration-color: #000080; font-weight: bold\">📊 Processing Input Data</span>                                                                                        <span style=\"color: #000080; text-decoration-color: #000080\">│</span>\n",
       "<span style=\"color: #000080; text-decoration-color: #000080\">│</span> <span style=\"color: #008080; text-decoration-color: #008080\">Block Type: TextParserBlock</span>                                                                                     <span style=\"color: #000080; text-decoration-color: #000080\">│</span>\n",
       "<span style=\"color: #000080; text-decoration-color: #000080\">│</span> <span style=\"color: #008080; text-decoration-color: #008080; font-weight: bold\">Input Rows: 50</span>                                                                                                  <span style=\"color: #000080; text-decoration-color: #000080\">│</span>\n",
       "<span style=\"color: #000080; text-decoration-color: #000080\">│</span> <span style=\"color: #008080; text-decoration-color: #008080\">Input Columns: 10</span>                                                                                               <span style=\"color: #000080; text-decoration-color: #000080\">│</span>\n",
       "<span style=\"color: #000080; text-decoration-color: #000080\">│</span> <span style=\"color: #c0c0c0; text-decoration-color: #c0c0c0\">Column Names: Headline, Journalists, Date, Link, text, summary_prompt, raw_summary, summary, keywords_prompt, </span>  <span style=\"color: #000080; text-decoration-color: #000080\">│</span>\n",
       "<span style=\"color: #000080; text-decoration-color: #000080\">│</span> <span style=\"color: #c0c0c0; text-decoration-color: #c0c0c0\">raw_keywords</span>                                                                                                    <span style=\"color: #000080; text-decoration-color: #000080\">│</span>\n",
       "<span style=\"color: #000080; text-decoration-color: #000080\">│</span> <span style=\"color: #008000; text-decoration-color: #008000\">Expected Output Columns: keywords</span>                                                                               <span style=\"color: #000080; text-decoration-color: #000080\">│</span>\n",
       "<span style=\"color: #000080; text-decoration-color: #000080\">╰─────────────────────────────────────────────────────────────────────────────────────────────────────────────────╯</span>\n",
       "</pre>\n"
      ],
      "text/plain": [
       "\u001b[34m╭─\u001b[0m\u001b[34m───────────────────────────────────────────────\u001b[0m\u001b[34m \u001b[0m\u001b[1;34mparse_keywords\u001b[0m\u001b[34m \u001b[0m\u001b[34m────────────────────────────────────────────────\u001b[0m\u001b[34m─╮\u001b[0m\n",
       "\u001b[34m│\u001b[0m \u001b[1;34m📊 Processing Input Data\u001b[0m                                                                                        \u001b[34m│\u001b[0m\n",
       "\u001b[34m│\u001b[0m \u001b[36mBlock Type: TextParserBlock\u001b[0m                                                                                     \u001b[34m│\u001b[0m\n",
       "\u001b[34m│\u001b[0m \u001b[1;36mInput Rows: 50\u001b[0m                                                                                                  \u001b[34m│\u001b[0m\n",
       "\u001b[34m│\u001b[0m \u001b[36mInput Columns: 10\u001b[0m                                                                                               \u001b[34m│\u001b[0m\n",
       "\u001b[34m│\u001b[0m \u001b[37mColumn Names: Headline, Journalists, Date, Link, text, summary_prompt, raw_summary, summary, keywords_prompt, \u001b[0m  \u001b[34m│\u001b[0m\n",
       "\u001b[34m│\u001b[0m \u001b[37mraw_keywords\u001b[0m                                                                                                    \u001b[34m│\u001b[0m\n",
       "\u001b[34m│\u001b[0m \u001b[32mExpected Output Columns: keywords\u001b[0m                                                                               \u001b[34m│\u001b[0m\n",
       "\u001b[34m╰─────────────────────────────────────────────────────────────────────────────────────────────────────────────────╯\u001b[0m\n"
      ]
     },
     "metadata": {},
     "output_type": "display_data"
    },
    {
     "data": {
      "text/html": [
       "<pre style=\"white-space:pre;overflow-x:auto;line-height:normal;font-family:Menlo,'DejaVu Sans Mono',consolas,'Courier New',monospace\"><span style=\"color: #008000; text-decoration-color: #008000\">╭─────────────────────────────────────────── </span><span style=\"color: #008000; text-decoration-color: #008000; font-weight: bold\">parse_keywords - Complete</span><span style=\"color: #008000; text-decoration-color: #008000\"> ───────────────────────────────────────────╮</span>\n",
       "<span style=\"color: #008000; text-decoration-color: #008000\">│</span> <span style=\"color: #008000; text-decoration-color: #008000; font-weight: bold\">✅ Processing Complete</span>                                                                                          <span style=\"color: #008000; text-decoration-color: #008000\">│</span>\n",
       "<span style=\"color: #008000; text-decoration-color: #008000\">│</span> <span style=\"color: #008080; text-decoration-color: #008080\">Rows: 50 → 50</span>                                                                                                   <span style=\"color: #008000; text-decoration-color: #008000\">│</span>\n",
       "<span style=\"color: #008000; text-decoration-color: #008000\">│</span> <span style=\"color: #008080; text-decoration-color: #008080\">Columns: 10 → 11</span>                                                                                                <span style=\"color: #008000; text-decoration-color: #008000\">│</span>\n",
       "<span style=\"color: #008000; text-decoration-color: #008000\">│</span> <span style=\"color: #008000; text-decoration-color: #008000\">🟢 Added: keywords</span>                                                                                              <span style=\"color: #008000; text-decoration-color: #008000\">│</span>\n",
       "<span style=\"color: #008000; text-decoration-color: #008000\">│</span> <span style=\"color: #c0c0c0; text-decoration-color: #c0c0c0\">📋 Final Columns: Date, Headline, Journalists, Link, keywords, keywords_prompt, raw_keywords, raw_summary, </span>     <span style=\"color: #008000; text-decoration-color: #008000\">│</span>\n",
       "<span style=\"color: #008000; text-decoration-color: #008000\">│</span> <span style=\"color: #c0c0c0; text-decoration-color: #c0c0c0\">summary, summary_prompt, text</span>                                                                                   <span style=\"color: #008000; text-decoration-color: #008000\">│</span>\n",
       "<span style=\"color: #008000; text-decoration-color: #008000\">╰─────────────────────────────────────────────────────────────────────────────────────────────────────────────────╯</span>\n",
       "</pre>\n"
      ],
      "text/plain": [
       "\u001b[32m╭─\u001b[0m\u001b[32m──────────────────────────────────────────\u001b[0m\u001b[32m \u001b[0m\u001b[1;32mparse_keywords - Complete\u001b[0m\u001b[32m \u001b[0m\u001b[32m──────────────────────────────────────────\u001b[0m\u001b[32m─╮\u001b[0m\n",
       "\u001b[32m│\u001b[0m \u001b[1;32m✅ Processing Complete\u001b[0m                                                                                          \u001b[32m│\u001b[0m\n",
       "\u001b[32m│\u001b[0m \u001b[36mRows: 50 → 50\u001b[0m                                                                                                   \u001b[32m│\u001b[0m\n",
       "\u001b[32m│\u001b[0m \u001b[36mColumns: 10 → 11\u001b[0m                                                                                                \u001b[32m│\u001b[0m\n",
       "\u001b[32m│\u001b[0m \u001b[32m🟢 Added: keywords\u001b[0m                                                                                              \u001b[32m│\u001b[0m\n",
       "\u001b[32m│\u001b[0m \u001b[37m📋 Final Columns: Date, Headline, Journalists, Link, keywords, keywords_prompt, raw_keywords, raw_summary, \u001b[0m     \u001b[32m│\u001b[0m\n",
       "\u001b[32m│\u001b[0m \u001b[37msummary, summary_prompt, text\u001b[0m                                                                                   \u001b[32m│\u001b[0m\n",
       "\u001b[32m╰─────────────────────────────────────────────────────────────────────────────────────────────────────────────────╯\u001b[0m\n"
      ]
     },
     "metadata": {},
     "output_type": "display_data"
    },
    {
     "data": {
      "text/html": [
       "<pre style=\"white-space:pre;overflow-x:auto;line-height:normal;font-family:Menlo,'DejaVu Sans Mono',consolas,'Courier New',monospace\"><span style=\"color: #7fbfbf; text-decoration-color: #7fbfbf\">           </span><span style=\"color: #000080; text-decoration-color: #000080\">INFO    </span> Block <span style=\"color: #008000; text-decoration-color: #008000\">'parse_keywords'</span> completed successfully: <span style=\"color: #008080; text-decoration-color: #008080; font-weight: bold\">50</span> samples, <span style=\"color: #008080; text-decoration-color: #008080; font-weight: bold\">11</span> columns               <a href=\"file:///Users/shiv/workspace/sdg_hub_add-structured-summary-nb/src/sdg_hub/core/flow/base.py\" target=\"_blank\"><span style=\"color: #7f7f7f; text-decoration-color: #7f7f7f\">base.py</span></a><span style=\"color: #7f7f7f; text-decoration-color: #7f7f7f\">:</span><a href=\"file:///Users/shiv/workspace/sdg_hub_add-structured-summary-nb/src/sdg_hub/core/flow/base.py#646\" target=\"_blank\"><span style=\"color: #7f7f7f; text-decoration-color: #7f7f7f\">646</span></a>\n",
       "</pre>\n"
      ],
      "text/plain": [
       "\u001b[2;36m          \u001b[0m\u001b[2;36m \u001b[0m\u001b[34mINFO    \u001b[0m Block \u001b[32m'parse_keywords'\u001b[0m completed successfully: \u001b[1;36m50\u001b[0m samples, \u001b[1;36m11\u001b[0m columns               \u001b]8;id=635918;file:///Users/shiv/workspace/sdg_hub_add-structured-summary-nb/src/sdg_hub/core/flow/base.py\u001b\\\u001b[2mbase.py\u001b[0m\u001b]8;;\u001b\\\u001b[2m:\u001b[0m\u001b]8;id=452173;file:///Users/shiv/workspace/sdg_hub_add-structured-summary-nb/src/sdg_hub/core/flow/base.py#646\u001b\\\u001b[2m646\u001b[0m\u001b]8;;\u001b\\\n"
      ]
     },
     "metadata": {},
     "output_type": "display_data"
    },
    {
     "data": {
      "text/html": [
       "<pre style=\"white-space:pre;overflow-x:auto;line-height:normal;font-family:Menlo,'DejaVu Sans Mono',consolas,'Courier New',monospace\"><span style=\"color: #7fbfbf; text-decoration-color: #7fbfbf\">           </span><span style=\"color: #000080; text-decoration-color: #000080\">INFO    </span> Executing block <span style=\"color: #008080; text-decoration-color: #008080; font-weight: bold\">7</span>/<span style=\"color: #008080; text-decoration-color: #008080; font-weight: bold\">16</span>: build_entities_prompt <span style=\"font-weight: bold\">(</span>PromptBuilderBlock<span style=\"font-weight: bold\">)</span>                    <a href=\"file:///Users/shiv/workspace/sdg_hub_add-structured-summary-nb/src/sdg_hub/core/flow/base.py\" target=\"_blank\"><span style=\"color: #7f7f7f; text-decoration-color: #7f7f7f\">base.py</span></a><span style=\"color: #7f7f7f; text-decoration-color: #7f7f7f\">:</span><a href=\"file:///Users/shiv/workspace/sdg_hub_add-structured-summary-nb/src/sdg_hub/core/flow/base.py#610\" target=\"_blank\"><span style=\"color: #7f7f7f; text-decoration-color: #7f7f7f\">610</span></a>\n",
       "</pre>\n"
      ],
      "text/plain": [
       "\u001b[2;36m          \u001b[0m\u001b[2;36m \u001b[0m\u001b[34mINFO    \u001b[0m Executing block \u001b[1;36m7\u001b[0m/\u001b[1;36m16\u001b[0m: build_entities_prompt \u001b[1m(\u001b[0mPromptBuilderBlock\u001b[1m)\u001b[0m                    \u001b]8;id=347988;file:///Users/shiv/workspace/sdg_hub_add-structured-summary-nb/src/sdg_hub/core/flow/base.py\u001b\\\u001b[2mbase.py\u001b[0m\u001b]8;;\u001b\\\u001b[2m:\u001b[0m\u001b]8;id=567214;file:///Users/shiv/workspace/sdg_hub_add-structured-summary-nb/src/sdg_hub/core/flow/base.py#610\u001b\\\u001b[2m610\u001b[0m\u001b]8;;\u001b\\\n"
      ]
     },
     "metadata": {},
     "output_type": "display_data"
    },
    {
     "data": {
      "text/html": [
       "<pre style=\"white-space:pre;overflow-x:auto;line-height:normal;font-family:Menlo,'DejaVu Sans Mono',consolas,'Courier New',monospace\"><span style=\"color: #000080; text-decoration-color: #000080\">╭───────────────────────────────────────────── </span><span style=\"color: #000080; text-decoration-color: #000080; font-weight: bold\">build_entities_prompt</span><span style=\"color: #000080; text-decoration-color: #000080\"> ─────────────────────────────────────────────╮</span>\n",
       "<span style=\"color: #000080; text-decoration-color: #000080\">│</span> <span style=\"color: #000080; text-decoration-color: #000080; font-weight: bold\">📊 Processing Input Data</span>                                                                                        <span style=\"color: #000080; text-decoration-color: #000080\">│</span>\n",
       "<span style=\"color: #000080; text-decoration-color: #000080\">│</span> <span style=\"color: #008080; text-decoration-color: #008080\">Block Type: PromptBuilderBlock</span>                                                                                  <span style=\"color: #000080; text-decoration-color: #000080\">│</span>\n",
       "<span style=\"color: #000080; text-decoration-color: #000080\">│</span> <span style=\"color: #008080; text-decoration-color: #008080; font-weight: bold\">Input Rows: 50</span>                                                                                                  <span style=\"color: #000080; text-decoration-color: #000080\">│</span>\n",
       "<span style=\"color: #000080; text-decoration-color: #000080\">│</span> <span style=\"color: #008080; text-decoration-color: #008080\">Input Columns: 11</span>                                                                                               <span style=\"color: #000080; text-decoration-color: #000080\">│</span>\n",
       "<span style=\"color: #000080; text-decoration-color: #000080\">│</span> <span style=\"color: #c0c0c0; text-decoration-color: #c0c0c0\">Column Names: Headline, Journalists, Date, Link, text, summary_prompt, raw_summary, summary, keywords_prompt, </span>  <span style=\"color: #000080; text-decoration-color: #000080\">│</span>\n",
       "<span style=\"color: #000080; text-decoration-color: #000080\">│</span> <span style=\"color: #c0c0c0; text-decoration-color: #c0c0c0\">raw_keywords, keywords</span>                                                                                          <span style=\"color: #000080; text-decoration-color: #000080\">│</span>\n",
       "<span style=\"color: #000080; text-decoration-color: #000080\">│</span> <span style=\"color: #008000; text-decoration-color: #008000\">Expected Output Columns: entities_prompt</span>                                                                        <span style=\"color: #000080; text-decoration-color: #000080\">│</span>\n",
       "<span style=\"color: #000080; text-decoration-color: #000080\">╰─────────────────────────────────────────────────────────────────────────────────────────────────────────────────╯</span>\n",
       "</pre>\n"
      ],
      "text/plain": [
       "\u001b[34m╭─\u001b[0m\u001b[34m────────────────────────────────────────────\u001b[0m\u001b[34m \u001b[0m\u001b[1;34mbuild_entities_prompt\u001b[0m\u001b[34m \u001b[0m\u001b[34m────────────────────────────────────────────\u001b[0m\u001b[34m─╮\u001b[0m\n",
       "\u001b[34m│\u001b[0m \u001b[1;34m📊 Processing Input Data\u001b[0m                                                                                        \u001b[34m│\u001b[0m\n",
       "\u001b[34m│\u001b[0m \u001b[36mBlock Type: PromptBuilderBlock\u001b[0m                                                                                  \u001b[34m│\u001b[0m\n",
       "\u001b[34m│\u001b[0m \u001b[1;36mInput Rows: 50\u001b[0m                                                                                                  \u001b[34m│\u001b[0m\n",
       "\u001b[34m│\u001b[0m \u001b[36mInput Columns: 11\u001b[0m                                                                                               \u001b[34m│\u001b[0m\n",
       "\u001b[34m│\u001b[0m \u001b[37mColumn Names: Headline, Journalists, Date, Link, text, summary_prompt, raw_summary, summary, keywords_prompt, \u001b[0m  \u001b[34m│\u001b[0m\n",
       "\u001b[34m│\u001b[0m \u001b[37mraw_keywords, keywords\u001b[0m                                                                                          \u001b[34m│\u001b[0m\n",
       "\u001b[34m│\u001b[0m \u001b[32mExpected Output Columns: entities_prompt\u001b[0m                                                                        \u001b[34m│\u001b[0m\n",
       "\u001b[34m╰─────────────────────────────────────────────────────────────────────────────────────────────────────────────────╯\u001b[0m\n"
      ]
     },
     "metadata": {},
     "output_type": "display_data"
    },
    {
     "name": "stderr",
     "output_type": "stream",
     "text": [
      "Map: 100%|██████████| 50/50 [00:00<00:00, 6575.38 examples/s]\n"
     ]
    },
    {
     "data": {
      "text/html": [
       "<pre style=\"white-space:pre;overflow-x:auto;line-height:normal;font-family:Menlo,'DejaVu Sans Mono',consolas,'Courier New',monospace\"><span style=\"color: #008000; text-decoration-color: #008000\">╭─────────────────────────────────────── </span><span style=\"color: #008000; text-decoration-color: #008000; font-weight: bold\">build_entities_prompt - Complete</span><span style=\"color: #008000; text-decoration-color: #008000\"> ────────────────────────────────────────╮</span>\n",
       "<span style=\"color: #008000; text-decoration-color: #008000\">│</span> <span style=\"color: #008000; text-decoration-color: #008000; font-weight: bold\">✅ Processing Complete</span>                                                                                          <span style=\"color: #008000; text-decoration-color: #008000\">│</span>\n",
       "<span style=\"color: #008000; text-decoration-color: #008000\">│</span> <span style=\"color: #008080; text-decoration-color: #008080\">Rows: 50 → 50</span>                                                                                                   <span style=\"color: #008000; text-decoration-color: #008000\">│</span>\n",
       "<span style=\"color: #008000; text-decoration-color: #008000\">│</span> <span style=\"color: #008080; text-decoration-color: #008080\">Columns: 11 → 12</span>                                                                                                <span style=\"color: #008000; text-decoration-color: #008000\">│</span>\n",
       "<span style=\"color: #008000; text-decoration-color: #008000\">│</span> <span style=\"color: #008000; text-decoration-color: #008000\">🟢 Added: entities_prompt</span>                                                                                       <span style=\"color: #008000; text-decoration-color: #008000\">│</span>\n",
       "<span style=\"color: #008000; text-decoration-color: #008000\">│</span> <span style=\"color: #c0c0c0; text-decoration-color: #c0c0c0\">📋 Final Columns: Date, Headline, Journalists, Link, entities_prompt, keywords, keywords_prompt, raw_keywords, </span> <span style=\"color: #008000; text-decoration-color: #008000\">│</span>\n",
       "<span style=\"color: #008000; text-decoration-color: #008000\">│</span> <span style=\"color: #c0c0c0; text-decoration-color: #c0c0c0\">raw_summary, summary, summary_prompt, text</span>                                                                      <span style=\"color: #008000; text-decoration-color: #008000\">│</span>\n",
       "<span style=\"color: #008000; text-decoration-color: #008000\">╰─────────────────────────────────────────────────────────────────────────────────────────────────────────────────╯</span>\n",
       "</pre>\n"
      ],
      "text/plain": [
       "\u001b[32m╭─\u001b[0m\u001b[32m──────────────────────────────────────\u001b[0m\u001b[32m \u001b[0m\u001b[1;32mbuild_entities_prompt - Complete\u001b[0m\u001b[32m \u001b[0m\u001b[32m───────────────────────────────────────\u001b[0m\u001b[32m─╮\u001b[0m\n",
       "\u001b[32m│\u001b[0m \u001b[1;32m✅ Processing Complete\u001b[0m                                                                                          \u001b[32m│\u001b[0m\n",
       "\u001b[32m│\u001b[0m \u001b[36mRows: 50 → 50\u001b[0m                                                                                                   \u001b[32m│\u001b[0m\n",
       "\u001b[32m│\u001b[0m \u001b[36mColumns: 11 → 12\u001b[0m                                                                                                \u001b[32m│\u001b[0m\n",
       "\u001b[32m│\u001b[0m \u001b[32m🟢 Added: entities_prompt\u001b[0m                                                                                       \u001b[32m│\u001b[0m\n",
       "\u001b[32m│\u001b[0m \u001b[37m📋 Final Columns: Date, Headline, Journalists, Link, entities_prompt, keywords, keywords_prompt, raw_keywords, \u001b[0m \u001b[32m│\u001b[0m\n",
       "\u001b[32m│\u001b[0m \u001b[37mraw_summary, summary, summary_prompt, text\u001b[0m                                                                      \u001b[32m│\u001b[0m\n",
       "\u001b[32m╰─────────────────────────────────────────────────────────────────────────────────────────────────────────────────╯\u001b[0m\n"
      ]
     },
     "metadata": {},
     "output_type": "display_data"
    },
    {
     "data": {
      "text/html": [
       "<pre style=\"white-space:pre;overflow-x:auto;line-height:normal;font-family:Menlo,'DejaVu Sans Mono',consolas,'Courier New',monospace\"><span style=\"color: #7fbfbf; text-decoration-color: #7fbfbf\">           </span><span style=\"color: #000080; text-decoration-color: #000080\">INFO    </span> Block <span style=\"color: #008000; text-decoration-color: #008000\">'build_entities_prompt'</span> completed successfully: <span style=\"color: #008080; text-decoration-color: #008080; font-weight: bold\">50</span> samples, <span style=\"color: #008080; text-decoration-color: #008080; font-weight: bold\">12</span> columns        <a href=\"file:///Users/shiv/workspace/sdg_hub_add-structured-summary-nb/src/sdg_hub/core/flow/base.py\" target=\"_blank\"><span style=\"color: #7f7f7f; text-decoration-color: #7f7f7f\">base.py</span></a><span style=\"color: #7f7f7f; text-decoration-color: #7f7f7f\">:</span><a href=\"file:///Users/shiv/workspace/sdg_hub_add-structured-summary-nb/src/sdg_hub/core/flow/base.py#646\" target=\"_blank\"><span style=\"color: #7f7f7f; text-decoration-color: #7f7f7f\">646</span></a>\n",
       "</pre>\n"
      ],
      "text/plain": [
       "\u001b[2;36m          \u001b[0m\u001b[2;36m \u001b[0m\u001b[34mINFO    \u001b[0m Block \u001b[32m'build_entities_prompt'\u001b[0m completed successfully: \u001b[1;36m50\u001b[0m samples, \u001b[1;36m12\u001b[0m columns        \u001b]8;id=1765;file:///Users/shiv/workspace/sdg_hub_add-structured-summary-nb/src/sdg_hub/core/flow/base.py\u001b\\\u001b[2mbase.py\u001b[0m\u001b]8;;\u001b\\\u001b[2m:\u001b[0m\u001b]8;id=605287;file:///Users/shiv/workspace/sdg_hub_add-structured-summary-nb/src/sdg_hub/core/flow/base.py#646\u001b\\\u001b[2m646\u001b[0m\u001b]8;;\u001b\\\n"
      ]
     },
     "metadata": {},
     "output_type": "display_data"
    },
    {
     "data": {
      "text/html": [
       "<pre style=\"white-space:pre;overflow-x:auto;line-height:normal;font-family:Menlo,'DejaVu Sans Mono',consolas,'Courier New',monospace\"><span style=\"color: #7fbfbf; text-decoration-color: #7fbfbf\">           </span><span style=\"color: #000080; text-decoration-color: #000080\">INFO    </span> Executing block <span style=\"color: #008080; text-decoration-color: #008080; font-weight: bold\">8</span>/<span style=\"color: #008080; text-decoration-color: #008080; font-weight: bold\">16</span>: generate_entities <span style=\"font-weight: bold\">(</span>LLMChatBlock<span style=\"font-weight: bold\">)</span>                              <a href=\"file:///Users/shiv/workspace/sdg_hub_add-structured-summary-nb/src/sdg_hub/core/flow/base.py\" target=\"_blank\"><span style=\"color: #7f7f7f; text-decoration-color: #7f7f7f\">base.py</span></a><span style=\"color: #7f7f7f; text-decoration-color: #7f7f7f\">:</span><a href=\"file:///Users/shiv/workspace/sdg_hub_add-structured-summary-nb/src/sdg_hub/core/flow/base.py#610\" target=\"_blank\"><span style=\"color: #7f7f7f; text-decoration-color: #7f7f7f\">610</span></a>\n",
       "</pre>\n"
      ],
      "text/plain": [
       "\u001b[2;36m          \u001b[0m\u001b[2;36m \u001b[0m\u001b[34mINFO    \u001b[0m Executing block \u001b[1;36m8\u001b[0m/\u001b[1;36m16\u001b[0m: generate_entities \u001b[1m(\u001b[0mLLMChatBlock\u001b[1m)\u001b[0m                              \u001b]8;id=267028;file:///Users/shiv/workspace/sdg_hub_add-structured-summary-nb/src/sdg_hub/core/flow/base.py\u001b\\\u001b[2mbase.py\u001b[0m\u001b]8;;\u001b\\\u001b[2m:\u001b[0m\u001b]8;id=759546;file:///Users/shiv/workspace/sdg_hub_add-structured-summary-nb/src/sdg_hub/core/flow/base.py#610\u001b\\\u001b[2m610\u001b[0m\u001b]8;;\u001b\\\n"
      ]
     },
     "metadata": {},
     "output_type": "display_data"
    },
    {
     "data": {
      "text/html": [
       "<pre style=\"white-space:pre;overflow-x:auto;line-height:normal;font-family:Menlo,'DejaVu Sans Mono',consolas,'Courier New',monospace\"><span style=\"color: #000080; text-decoration-color: #000080\">╭─────────────────────────────────────────────── </span><span style=\"color: #000080; text-decoration-color: #000080; font-weight: bold\">generate_entities</span><span style=\"color: #000080; text-decoration-color: #000080\"> ───────────────────────────────────────────────╮</span>\n",
       "<span style=\"color: #000080; text-decoration-color: #000080\">│</span> <span style=\"color: #000080; text-decoration-color: #000080; font-weight: bold\">📊 Processing Input Data</span>                                                                                        <span style=\"color: #000080; text-decoration-color: #000080\">│</span>\n",
       "<span style=\"color: #000080; text-decoration-color: #000080\">│</span> <span style=\"color: #008080; text-decoration-color: #008080\">Block Type: LLMChatBlock</span>                                                                                        <span style=\"color: #000080; text-decoration-color: #000080\">│</span>\n",
       "<span style=\"color: #000080; text-decoration-color: #000080\">│</span> <span style=\"color: #008080; text-decoration-color: #008080; font-weight: bold\">Input Rows: 50</span>                                                                                                  <span style=\"color: #000080; text-decoration-color: #000080\">│</span>\n",
       "<span style=\"color: #000080; text-decoration-color: #000080\">│</span> <span style=\"color: #008080; text-decoration-color: #008080\">Input Columns: 12</span>                                                                                               <span style=\"color: #000080; text-decoration-color: #000080\">│</span>\n",
       "<span style=\"color: #000080; text-decoration-color: #000080\">│</span> <span style=\"color: #c0c0c0; text-decoration-color: #c0c0c0\">Column Names: Headline, Journalists, Date, Link, text, summary_prompt, raw_summary, summary, keywords_prompt, </span>  <span style=\"color: #000080; text-decoration-color: #000080\">│</span>\n",
       "<span style=\"color: #000080; text-decoration-color: #000080\">│</span> <span style=\"color: #c0c0c0; text-decoration-color: #c0c0c0\">raw_keywords, keywords, entities_prompt</span>                                                                         <span style=\"color: #000080; text-decoration-color: #000080\">│</span>\n",
       "<span style=\"color: #000080; text-decoration-color: #000080\">│</span> <span style=\"color: #008000; text-decoration-color: #008000\">Expected Output Columns: raw_entities</span>                                                                           <span style=\"color: #000080; text-decoration-color: #000080\">│</span>\n",
       "<span style=\"color: #000080; text-decoration-color: #000080\">╰─────────────────────────────────────────────────────────────────────────────────────────────────────────────────╯</span>\n",
       "</pre>\n"
      ],
      "text/plain": [
       "\u001b[34m╭─\u001b[0m\u001b[34m──────────────────────────────────────────────\u001b[0m\u001b[34m \u001b[0m\u001b[1;34mgenerate_entities\u001b[0m\u001b[34m \u001b[0m\u001b[34m──────────────────────────────────────────────\u001b[0m\u001b[34m─╮\u001b[0m\n",
       "\u001b[34m│\u001b[0m \u001b[1;34m📊 Processing Input Data\u001b[0m                                                                                        \u001b[34m│\u001b[0m\n",
       "\u001b[34m│\u001b[0m \u001b[36mBlock Type: LLMChatBlock\u001b[0m                                                                                        \u001b[34m│\u001b[0m\n",
       "\u001b[34m│\u001b[0m \u001b[1;36mInput Rows: 50\u001b[0m                                                                                                  \u001b[34m│\u001b[0m\n",
       "\u001b[34m│\u001b[0m \u001b[36mInput Columns: 12\u001b[0m                                                                                               \u001b[34m│\u001b[0m\n",
       "\u001b[34m│\u001b[0m \u001b[37mColumn Names: Headline, Journalists, Date, Link, text, summary_prompt, raw_summary, summary, keywords_prompt, \u001b[0m  \u001b[34m│\u001b[0m\n",
       "\u001b[34m│\u001b[0m \u001b[37mraw_keywords, keywords, entities_prompt\u001b[0m                                                                         \u001b[34m│\u001b[0m\n",
       "\u001b[34m│\u001b[0m \u001b[32mExpected Output Columns: raw_entities\u001b[0m                                                                           \u001b[34m│\u001b[0m\n",
       "\u001b[34m╰─────────────────────────────────────────────────────────────────────────────────────────────────────────────────╯\u001b[0m\n"
      ]
     },
     "metadata": {},
     "output_type": "display_data"
    },
    {
     "data": {
      "text/html": [
       "<pre style=\"white-space:pre;overflow-x:auto;line-height:normal;font-family:Menlo,'DejaVu Sans Mono',consolas,'Courier New',monospace\"><span style=\"color: #7fbfbf; text-decoration-color: #7fbfbf\">           </span><span style=\"color: #000080; text-decoration-color: #000080\">INFO    </span> Starting async generation for <span style=\"color: #008080; text-decoration-color: #008080; font-weight: bold\">50</span> samples                                  <a href=\"file:///Users/shiv/workspace/sdg_hub_add-structured-summary-nb/src/sdg_hub/core/blocks/llm/llm_chat_block.py\" target=\"_blank\"><span style=\"color: #7f7f7f; text-decoration-color: #7f7f7f\">llm_chat_block.py</span></a><span style=\"color: #7f7f7f; text-decoration-color: #7f7f7f\">:</span><a href=\"file:///Users/shiv/workspace/sdg_hub_add-structured-summary-nb/src/sdg_hub/core/blocks/llm/llm_chat_block.py#329\" target=\"_blank\"><span style=\"color: #7f7f7f; text-decoration-color: #7f7f7f\">329</span></a>\n",
       "</pre>\n"
      ],
      "text/plain": [
       "\u001b[2;36m          \u001b[0m\u001b[2;36m \u001b[0m\u001b[34mINFO    \u001b[0m Starting async generation for \u001b[1;36m50\u001b[0m samples                                  \u001b]8;id=269484;file:///Users/shiv/workspace/sdg_hub_add-structured-summary-nb/src/sdg_hub/core/blocks/llm/llm_chat_block.py\u001b\\\u001b[2mllm_chat_block.py\u001b[0m\u001b]8;;\u001b\\\u001b[2m:\u001b[0m\u001b]8;id=796402;file:///Users/shiv/workspace/sdg_hub_add-structured-summary-nb/src/sdg_hub/core/blocks/llm/llm_chat_block.py#329\u001b\\\u001b[2m329\u001b[0m\u001b]8;;\u001b\\\n"
      ]
     },
     "metadata": {},
     "output_type": "display_data"
    },
    {
     "data": {
      "text/html": [
       "<pre style=\"white-space:pre;overflow-x:auto;line-height:normal;font-family:Menlo,'DejaVu Sans Mono',consolas,'Courier New',monospace\"><span style=\"color: #7fbfbf; text-decoration-color: #7fbfbf\">[15:26:30] </span><span style=\"color: #000080; text-decoration-color: #000080\">INFO    </span> Generation completed successfully for <span style=\"color: #008080; text-decoration-color: #008080; font-weight: bold\">50</span> samples                          <a href=\"file:///Users/shiv/workspace/sdg_hub_add-structured-summary-nb/src/sdg_hub/core/blocks/llm/llm_chat_block.py\" target=\"_blank\"><span style=\"color: #7f7f7f; text-decoration-color: #7f7f7f\">llm_chat_block.py</span></a><span style=\"color: #7f7f7f; text-decoration-color: #7f7f7f\">:</span><a href=\"file:///Users/shiv/workspace/sdg_hub_add-structured-summary-nb/src/sdg_hub/core/blocks/llm/llm_chat_block.py#393\" target=\"_blank\"><span style=\"color: #7f7f7f; text-decoration-color: #7f7f7f\">393</span></a>\n",
       "</pre>\n"
      ],
      "text/plain": [
       "\u001b[2;36m[15:26:30]\u001b[0m\u001b[2;36m \u001b[0m\u001b[34mINFO    \u001b[0m Generation completed successfully for \u001b[1;36m50\u001b[0m samples                          \u001b]8;id=311426;file:///Users/shiv/workspace/sdg_hub_add-structured-summary-nb/src/sdg_hub/core/blocks/llm/llm_chat_block.py\u001b\\\u001b[2mllm_chat_block.py\u001b[0m\u001b]8;;\u001b\\\u001b[2m:\u001b[0m\u001b]8;id=868601;file:///Users/shiv/workspace/sdg_hub_add-structured-summary-nb/src/sdg_hub/core/blocks/llm/llm_chat_block.py#393\u001b\\\u001b[2m393\u001b[0m\u001b]8;;\u001b\\\n"
      ]
     },
     "metadata": {},
     "output_type": "display_data"
    },
    {
     "data": {
      "text/html": [
       "<pre style=\"white-space:pre;overflow-x:auto;line-height:normal;font-family:Menlo,'DejaVu Sans Mono',consolas,'Courier New',monospace\"><span style=\"color: #008000; text-decoration-color: #008000\">╭───────────────────────────────────────── </span><span style=\"color: #008000; text-decoration-color: #008000; font-weight: bold\">generate_entities - Complete</span><span style=\"color: #008000; text-decoration-color: #008000\"> ──────────────────────────────────────────╮</span>\n",
       "<span style=\"color: #008000; text-decoration-color: #008000\">│</span> <span style=\"color: #008000; text-decoration-color: #008000; font-weight: bold\">✅ Processing Complete</span>                                                                                          <span style=\"color: #008000; text-decoration-color: #008000\">│</span>\n",
       "<span style=\"color: #008000; text-decoration-color: #008000\">│</span> <span style=\"color: #008080; text-decoration-color: #008080\">Rows: 50 → 50</span>                                                                                                   <span style=\"color: #008000; text-decoration-color: #008000\">│</span>\n",
       "<span style=\"color: #008000; text-decoration-color: #008000\">│</span> <span style=\"color: #008080; text-decoration-color: #008080\">Columns: 12 → 13</span>                                                                                                <span style=\"color: #008000; text-decoration-color: #008000\">│</span>\n",
       "<span style=\"color: #008000; text-decoration-color: #008000\">│</span> <span style=\"color: #008000; text-decoration-color: #008000\">🟢 Added: raw_entities</span>                                                                                          <span style=\"color: #008000; text-decoration-color: #008000\">│</span>\n",
       "<span style=\"color: #008000; text-decoration-color: #008000\">│</span> <span style=\"color: #c0c0c0; text-decoration-color: #c0c0c0\">📋 Final Columns: Date, Headline, Journalists, Link, entities_prompt, keywords, keywords_prompt, raw_entities, </span> <span style=\"color: #008000; text-decoration-color: #008000\">│</span>\n",
       "<span style=\"color: #008000; text-decoration-color: #008000\">│</span> <span style=\"color: #c0c0c0; text-decoration-color: #c0c0c0\">raw_keywords, raw_summary, summary, summary_prompt, text</span>                                                        <span style=\"color: #008000; text-decoration-color: #008000\">│</span>\n",
       "<span style=\"color: #008000; text-decoration-color: #008000\">╰─────────────────────────────────────────────────────────────────────────────────────────────────────────────────╯</span>\n",
       "</pre>\n"
      ],
      "text/plain": [
       "\u001b[32m╭─\u001b[0m\u001b[32m────────────────────────────────────────\u001b[0m\u001b[32m \u001b[0m\u001b[1;32mgenerate_entities - Complete\u001b[0m\u001b[32m \u001b[0m\u001b[32m─────────────────────────────────────────\u001b[0m\u001b[32m─╮\u001b[0m\n",
       "\u001b[32m│\u001b[0m \u001b[1;32m✅ Processing Complete\u001b[0m                                                                                          \u001b[32m│\u001b[0m\n",
       "\u001b[32m│\u001b[0m \u001b[36mRows: 50 → 50\u001b[0m                                                                                                   \u001b[32m│\u001b[0m\n",
       "\u001b[32m│\u001b[0m \u001b[36mColumns: 12 → 13\u001b[0m                                                                                                \u001b[32m│\u001b[0m\n",
       "\u001b[32m│\u001b[0m \u001b[32m🟢 Added: raw_entities\u001b[0m                                                                                          \u001b[32m│\u001b[0m\n",
       "\u001b[32m│\u001b[0m \u001b[37m📋 Final Columns: Date, Headline, Journalists, Link, entities_prompt, keywords, keywords_prompt, raw_entities, \u001b[0m \u001b[32m│\u001b[0m\n",
       "\u001b[32m│\u001b[0m \u001b[37mraw_keywords, raw_summary, summary, summary_prompt, text\u001b[0m                                                        \u001b[32m│\u001b[0m\n",
       "\u001b[32m╰─────────────────────────────────────────────────────────────────────────────────────────────────────────────────╯\u001b[0m\n"
      ]
     },
     "metadata": {},
     "output_type": "display_data"
    },
    {
     "data": {
      "text/html": [
       "<pre style=\"white-space:pre;overflow-x:auto;line-height:normal;font-family:Menlo,'DejaVu Sans Mono',consolas,'Courier New',monospace\"><span style=\"color: #7fbfbf; text-decoration-color: #7fbfbf\">[15:26:30] </span><span style=\"color: #000080; text-decoration-color: #000080\">INFO    </span> Block <span style=\"color: #008000; text-decoration-color: #008000\">'generate_entities'</span> completed successfully: <span style=\"color: #008080; text-decoration-color: #008080; font-weight: bold\">50</span> samples, <span style=\"color: #008080; text-decoration-color: #008080; font-weight: bold\">13</span> columns            <a href=\"file:///Users/shiv/workspace/sdg_hub_add-structured-summary-nb/src/sdg_hub/core/flow/base.py\" target=\"_blank\"><span style=\"color: #7f7f7f; text-decoration-color: #7f7f7f\">base.py</span></a><span style=\"color: #7f7f7f; text-decoration-color: #7f7f7f\">:</span><a href=\"file:///Users/shiv/workspace/sdg_hub_add-structured-summary-nb/src/sdg_hub/core/flow/base.py#646\" target=\"_blank\"><span style=\"color: #7f7f7f; text-decoration-color: #7f7f7f\">646</span></a>\n",
       "</pre>\n"
      ],
      "text/plain": [
       "\u001b[2;36m[15:26:30]\u001b[0m\u001b[2;36m \u001b[0m\u001b[34mINFO    \u001b[0m Block \u001b[32m'generate_entities'\u001b[0m completed successfully: \u001b[1;36m50\u001b[0m samples, \u001b[1;36m13\u001b[0m columns            \u001b]8;id=663396;file:///Users/shiv/workspace/sdg_hub_add-structured-summary-nb/src/sdg_hub/core/flow/base.py\u001b\\\u001b[2mbase.py\u001b[0m\u001b]8;;\u001b\\\u001b[2m:\u001b[0m\u001b]8;id=288737;file:///Users/shiv/workspace/sdg_hub_add-structured-summary-nb/src/sdg_hub/core/flow/base.py#646\u001b\\\u001b[2m646\u001b[0m\u001b]8;;\u001b\\\n"
      ]
     },
     "metadata": {},
     "output_type": "display_data"
    },
    {
     "data": {
      "text/html": [
       "<pre style=\"white-space:pre;overflow-x:auto;line-height:normal;font-family:Menlo,'DejaVu Sans Mono',consolas,'Courier New',monospace\"><span style=\"color: #7fbfbf; text-decoration-color: #7fbfbf\">           </span><span style=\"color: #000080; text-decoration-color: #000080\">INFO    </span> Executing block <span style=\"color: #008080; text-decoration-color: #008080; font-weight: bold\">9</span>/<span style=\"color: #008080; text-decoration-color: #008080; font-weight: bold\">16</span>: parse_entities <span style=\"font-weight: bold\">(</span>TextParserBlock<span style=\"font-weight: bold\">)</span>                              <a href=\"file:///Users/shiv/workspace/sdg_hub_add-structured-summary-nb/src/sdg_hub/core/flow/base.py\" target=\"_blank\"><span style=\"color: #7f7f7f; text-decoration-color: #7f7f7f\">base.py</span></a><span style=\"color: #7f7f7f; text-decoration-color: #7f7f7f\">:</span><a href=\"file:///Users/shiv/workspace/sdg_hub_add-structured-summary-nb/src/sdg_hub/core/flow/base.py#610\" target=\"_blank\"><span style=\"color: #7f7f7f; text-decoration-color: #7f7f7f\">610</span></a>\n",
       "</pre>\n"
      ],
      "text/plain": [
       "\u001b[2;36m          \u001b[0m\u001b[2;36m \u001b[0m\u001b[34mINFO    \u001b[0m Executing block \u001b[1;36m9\u001b[0m/\u001b[1;36m16\u001b[0m: parse_entities \u001b[1m(\u001b[0mTextParserBlock\u001b[1m)\u001b[0m                              \u001b]8;id=296437;file:///Users/shiv/workspace/sdg_hub_add-structured-summary-nb/src/sdg_hub/core/flow/base.py\u001b\\\u001b[2mbase.py\u001b[0m\u001b]8;;\u001b\\\u001b[2m:\u001b[0m\u001b]8;id=934703;file:///Users/shiv/workspace/sdg_hub_add-structured-summary-nb/src/sdg_hub/core/flow/base.py#610\u001b\\\u001b[2m610\u001b[0m\u001b]8;;\u001b\\\n"
      ]
     },
     "metadata": {},
     "output_type": "display_data"
    },
    {
     "data": {
      "text/html": [
       "<pre style=\"white-space:pre;overflow-x:auto;line-height:normal;font-family:Menlo,'DejaVu Sans Mono',consolas,'Courier New',monospace\"><span style=\"color: #000080; text-decoration-color: #000080\">╭──────────────────────────────────────────────── </span><span style=\"color: #000080; text-decoration-color: #000080; font-weight: bold\">parse_entities</span><span style=\"color: #000080; text-decoration-color: #000080\"> ─────────────────────────────────────────────────╮</span>\n",
       "<span style=\"color: #000080; text-decoration-color: #000080\">│</span> <span style=\"color: #000080; text-decoration-color: #000080; font-weight: bold\">📊 Processing Input Data</span>                                                                                        <span style=\"color: #000080; text-decoration-color: #000080\">│</span>\n",
       "<span style=\"color: #000080; text-decoration-color: #000080\">│</span> <span style=\"color: #008080; text-decoration-color: #008080\">Block Type: TextParserBlock</span>                                                                                     <span style=\"color: #000080; text-decoration-color: #000080\">│</span>\n",
       "<span style=\"color: #000080; text-decoration-color: #000080\">│</span> <span style=\"color: #008080; text-decoration-color: #008080; font-weight: bold\">Input Rows: 50</span>                                                                                                  <span style=\"color: #000080; text-decoration-color: #000080\">│</span>\n",
       "<span style=\"color: #000080; text-decoration-color: #000080\">│</span> <span style=\"color: #008080; text-decoration-color: #008080\">Input Columns: 13</span>                                                                                               <span style=\"color: #000080; text-decoration-color: #000080\">│</span>\n",
       "<span style=\"color: #000080; text-decoration-color: #000080\">│</span> <span style=\"color: #c0c0c0; text-decoration-color: #c0c0c0\">Column Names: Headline, Journalists, Date, Link, text, summary_prompt, raw_summary, summary, keywords_prompt, </span>  <span style=\"color: #000080; text-decoration-color: #000080\">│</span>\n",
       "<span style=\"color: #000080; text-decoration-color: #000080\">│</span> <span style=\"color: #c0c0c0; text-decoration-color: #c0c0c0\">raw_keywords, keywords, entities_prompt, raw_entities</span>                                                           <span style=\"color: #000080; text-decoration-color: #000080\">│</span>\n",
       "<span style=\"color: #000080; text-decoration-color: #000080\">│</span> <span style=\"color: #008000; text-decoration-color: #008000\">Expected Output Columns: entities</span>                                                                               <span style=\"color: #000080; text-decoration-color: #000080\">│</span>\n",
       "<span style=\"color: #000080; text-decoration-color: #000080\">╰─────────────────────────────────────────────────────────────────────────────────────────────────────────────────╯</span>\n",
       "</pre>\n"
      ],
      "text/plain": [
       "\u001b[34m╭─\u001b[0m\u001b[34m───────────────────────────────────────────────\u001b[0m\u001b[34m \u001b[0m\u001b[1;34mparse_entities\u001b[0m\u001b[34m \u001b[0m\u001b[34m────────────────────────────────────────────────\u001b[0m\u001b[34m─╮\u001b[0m\n",
       "\u001b[34m│\u001b[0m \u001b[1;34m📊 Processing Input Data\u001b[0m                                                                                        \u001b[34m│\u001b[0m\n",
       "\u001b[34m│\u001b[0m \u001b[36mBlock Type: TextParserBlock\u001b[0m                                                                                     \u001b[34m│\u001b[0m\n",
       "\u001b[34m│\u001b[0m \u001b[1;36mInput Rows: 50\u001b[0m                                                                                                  \u001b[34m│\u001b[0m\n",
       "\u001b[34m│\u001b[0m \u001b[36mInput Columns: 13\u001b[0m                                                                                               \u001b[34m│\u001b[0m\n",
       "\u001b[34m│\u001b[0m \u001b[37mColumn Names: Headline, Journalists, Date, Link, text, summary_prompt, raw_summary, summary, keywords_prompt, \u001b[0m  \u001b[34m│\u001b[0m\n",
       "\u001b[34m│\u001b[0m \u001b[37mraw_keywords, keywords, entities_prompt, raw_entities\u001b[0m                                                           \u001b[34m│\u001b[0m\n",
       "\u001b[34m│\u001b[0m \u001b[32mExpected Output Columns: entities\u001b[0m                                                                               \u001b[34m│\u001b[0m\n",
       "\u001b[34m╰─────────────────────────────────────────────────────────────────────────────────────────────────────────────────╯\u001b[0m\n"
      ]
     },
     "metadata": {},
     "output_type": "display_data"
    },
    {
     "data": {
      "text/html": [
       "<pre style=\"white-space:pre;overflow-x:auto;line-height:normal;font-family:Menlo,'DejaVu Sans Mono',consolas,'Courier New',monospace\"><span style=\"color: #7fbfbf; text-decoration-color: #7fbfbf\">[15:26:30] </span><span style=\"color: #808000; text-decoration-color: #808000\">WARNING </span> Failed to parse any content from input. Raw output length: <span style=\"color: #008080; text-decoration-color: #008080; font-weight: bold\">4</span>, parsing  <a href=\"file:///Users/shiv/workspace/sdg_hub_add-structured-summary-nb/src/sdg_hub/core/blocks/llm/text_parser_block.py\" target=\"_blank\"><span style=\"color: #7f7f7f; text-decoration-color: #7f7f7f\">text_parser_block.py</span></a><span style=\"color: #7f7f7f; text-decoration-color: #7f7f7f\">:</span><a href=\"file:///Users/shiv/workspace/sdg_hub_add-structured-summary-nb/src/sdg_hub/core/blocks/llm/text_parser_block.py#385\" target=\"_blank\"><span style=\"color: #7f7f7f; text-decoration-color: #7f7f7f\">385</span></a>\n",
       "<span style=\"color: #7fbfbf; text-decoration-color: #7fbfbf\">           </span>         method: tags                                                           <span style=\"color: #7f7f7f; text-decoration-color: #7f7f7f\">                        </span>\n",
       "</pre>\n"
      ],
      "text/plain": [
       "\u001b[2;36m[15:26:30]\u001b[0m\u001b[2;36m \u001b[0m\u001b[33mWARNING \u001b[0m Failed to parse any content from input. Raw output length: \u001b[1;36m4\u001b[0m, parsing  \u001b]8;id=489776;file:///Users/shiv/workspace/sdg_hub_add-structured-summary-nb/src/sdg_hub/core/blocks/llm/text_parser_block.py\u001b\\\u001b[2mtext_parser_block.py\u001b[0m\u001b]8;;\u001b\\\u001b[2m:\u001b[0m\u001b]8;id=984578;file:///Users/shiv/workspace/sdg_hub_add-structured-summary-nb/src/sdg_hub/core/blocks/llm/text_parser_block.py#385\u001b\\\u001b[2m385\u001b[0m\u001b]8;;\u001b\\\n",
       "\u001b[2;36m           \u001b[0m         method: tags                                                           \u001b[2m                        \u001b[0m\n"
      ]
     },
     "metadata": {},
     "output_type": "display_data"
    },
    {
     "data": {
      "text/html": [
       "<pre style=\"white-space:pre;overflow-x:auto;line-height:normal;font-family:Menlo,'DejaVu Sans Mono',consolas,'Courier New',monospace\"><span style=\"color: #008000; text-decoration-color: #008000\">╭─────────────────────────────────────────── </span><span style=\"color: #008000; text-decoration-color: #008000; font-weight: bold\">parse_entities - Complete</span><span style=\"color: #008000; text-decoration-color: #008000\"> ───────────────────────────────────────────╮</span>\n",
       "<span style=\"color: #008000; text-decoration-color: #008000\">│</span> <span style=\"color: #008000; text-decoration-color: #008000; font-weight: bold\">✅ Processing Complete</span>                                                                                          <span style=\"color: #008000; text-decoration-color: #008000\">│</span>\n",
       "<span style=\"color: #008000; text-decoration-color: #008000\">│</span> <span style=\"color: #008080; text-decoration-color: #008080\">Rows: 50 → 49</span>                                                                                                   <span style=\"color: #008000; text-decoration-color: #008000\">│</span>\n",
       "<span style=\"color: #008000; text-decoration-color: #008000\">│</span> <span style=\"color: #008080; text-decoration-color: #008080\">Columns: 13 → 14</span>                                                                                                <span style=\"color: #008000; text-decoration-color: #008000\">│</span>\n",
       "<span style=\"color: #008000; text-decoration-color: #008000\">│</span> <span style=\"color: #008000; text-decoration-color: #008000\">🟢 Added: entities</span>                                                                                              <span style=\"color: #008000; text-decoration-color: #008000\">│</span>\n",
       "<span style=\"color: #008000; text-decoration-color: #008000\">│</span> <span style=\"color: #c0c0c0; text-decoration-color: #c0c0c0\">📋 Final Columns: Date, Headline, Journalists, Link, entities, entities_prompt, keywords, keywords_prompt, </span>     <span style=\"color: #008000; text-decoration-color: #008000\">│</span>\n",
       "<span style=\"color: #008000; text-decoration-color: #008000\">│</span> <span style=\"color: #c0c0c0; text-decoration-color: #c0c0c0\">raw_entities, raw_keywords, raw_summary, summary, summary_prompt, text</span>                                          <span style=\"color: #008000; text-decoration-color: #008000\">│</span>\n",
       "<span style=\"color: #008000; text-decoration-color: #008000\">╰─────────────────────────────────────────────────────────────────────────────────────────────────────────────────╯</span>\n",
       "</pre>\n"
      ],
      "text/plain": [
       "\u001b[32m╭─\u001b[0m\u001b[32m──────────────────────────────────────────\u001b[0m\u001b[32m \u001b[0m\u001b[1;32mparse_entities - Complete\u001b[0m\u001b[32m \u001b[0m\u001b[32m──────────────────────────────────────────\u001b[0m\u001b[32m─╮\u001b[0m\n",
       "\u001b[32m│\u001b[0m \u001b[1;32m✅ Processing Complete\u001b[0m                                                                                          \u001b[32m│\u001b[0m\n",
       "\u001b[32m│\u001b[0m \u001b[36mRows: 50 → 49\u001b[0m                                                                                                   \u001b[32m│\u001b[0m\n",
       "\u001b[32m│\u001b[0m \u001b[36mColumns: 13 → 14\u001b[0m                                                                                                \u001b[32m│\u001b[0m\n",
       "\u001b[32m│\u001b[0m \u001b[32m🟢 Added: entities\u001b[0m                                                                                              \u001b[32m│\u001b[0m\n",
       "\u001b[32m│\u001b[0m \u001b[37m📋 Final Columns: Date, Headline, Journalists, Link, entities, entities_prompt, keywords, keywords_prompt, \u001b[0m     \u001b[32m│\u001b[0m\n",
       "\u001b[32m│\u001b[0m \u001b[37mraw_entities, raw_keywords, raw_summary, summary, summary_prompt, text\u001b[0m                                          \u001b[32m│\u001b[0m\n",
       "\u001b[32m╰─────────────────────────────────────────────────────────────────────────────────────────────────────────────────╯\u001b[0m\n"
      ]
     },
     "metadata": {},
     "output_type": "display_data"
    },
    {
     "data": {
      "text/html": [
       "<pre style=\"white-space:pre;overflow-x:auto;line-height:normal;font-family:Menlo,'DejaVu Sans Mono',consolas,'Courier New',monospace\"><span style=\"color: #7fbfbf; text-decoration-color: #7fbfbf\">           </span><span style=\"color: #000080; text-decoration-color: #000080\">INFO    </span> Block <span style=\"color: #008000; text-decoration-color: #008000\">'parse_entities'</span> completed successfully: <span style=\"color: #008080; text-decoration-color: #008080; font-weight: bold\">49</span> samples, <span style=\"color: #008080; text-decoration-color: #008080; font-weight: bold\">14</span> columns               <a href=\"file:///Users/shiv/workspace/sdg_hub_add-structured-summary-nb/src/sdg_hub/core/flow/base.py\" target=\"_blank\"><span style=\"color: #7f7f7f; text-decoration-color: #7f7f7f\">base.py</span></a><span style=\"color: #7f7f7f; text-decoration-color: #7f7f7f\">:</span><a href=\"file:///Users/shiv/workspace/sdg_hub_add-structured-summary-nb/src/sdg_hub/core/flow/base.py#646\" target=\"_blank\"><span style=\"color: #7f7f7f; text-decoration-color: #7f7f7f\">646</span></a>\n",
       "</pre>\n"
      ],
      "text/plain": [
       "\u001b[2;36m          \u001b[0m\u001b[2;36m \u001b[0m\u001b[34mINFO    \u001b[0m Block \u001b[32m'parse_entities'\u001b[0m completed successfully: \u001b[1;36m49\u001b[0m samples, \u001b[1;36m14\u001b[0m columns               \u001b]8;id=942984;file:///Users/shiv/workspace/sdg_hub_add-structured-summary-nb/src/sdg_hub/core/flow/base.py\u001b\\\u001b[2mbase.py\u001b[0m\u001b]8;;\u001b\\\u001b[2m:\u001b[0m\u001b]8;id=648830;file:///Users/shiv/workspace/sdg_hub_add-structured-summary-nb/src/sdg_hub/core/flow/base.py#646\u001b\\\u001b[2m646\u001b[0m\u001b]8;;\u001b\\\n"
      ]
     },
     "metadata": {},
     "output_type": "display_data"
    },
    {
     "data": {
      "text/html": [
       "<pre style=\"white-space:pre;overflow-x:auto;line-height:normal;font-family:Menlo,'DejaVu Sans Mono',consolas,'Courier New',monospace\"><span style=\"color: #7fbfbf; text-decoration-color: #7fbfbf\">           </span><span style=\"color: #000080; text-decoration-color: #000080\">INFO    </span> Executing block <span style=\"color: #008080; text-decoration-color: #008080; font-weight: bold\">10</span>/<span style=\"color: #008080; text-decoration-color: #008080; font-weight: bold\">16</span>: build_sentiment_prompt <span style=\"font-weight: bold\">(</span>PromptBuilderBlock<span style=\"font-weight: bold\">)</span>                  <a href=\"file:///Users/shiv/workspace/sdg_hub_add-structured-summary-nb/src/sdg_hub/core/flow/base.py\" target=\"_blank\"><span style=\"color: #7f7f7f; text-decoration-color: #7f7f7f\">base.py</span></a><span style=\"color: #7f7f7f; text-decoration-color: #7f7f7f\">:</span><a href=\"file:///Users/shiv/workspace/sdg_hub_add-structured-summary-nb/src/sdg_hub/core/flow/base.py#610\" target=\"_blank\"><span style=\"color: #7f7f7f; text-decoration-color: #7f7f7f\">610</span></a>\n",
       "</pre>\n"
      ],
      "text/plain": [
       "\u001b[2;36m          \u001b[0m\u001b[2;36m \u001b[0m\u001b[34mINFO    \u001b[0m Executing block \u001b[1;36m10\u001b[0m/\u001b[1;36m16\u001b[0m: build_sentiment_prompt \u001b[1m(\u001b[0mPromptBuilderBlock\u001b[1m)\u001b[0m                  \u001b]8;id=492451;file:///Users/shiv/workspace/sdg_hub_add-structured-summary-nb/src/sdg_hub/core/flow/base.py\u001b\\\u001b[2mbase.py\u001b[0m\u001b]8;;\u001b\\\u001b[2m:\u001b[0m\u001b]8;id=777528;file:///Users/shiv/workspace/sdg_hub_add-structured-summary-nb/src/sdg_hub/core/flow/base.py#610\u001b\\\u001b[2m610\u001b[0m\u001b]8;;\u001b\\\n"
      ]
     },
     "metadata": {},
     "output_type": "display_data"
    },
    {
     "data": {
      "text/html": [
       "<pre style=\"white-space:pre;overflow-x:auto;line-height:normal;font-family:Menlo,'DejaVu Sans Mono',consolas,'Courier New',monospace\"><span style=\"color: #000080; text-decoration-color: #000080\">╭──────────────────────────────────────────── </span><span style=\"color: #000080; text-decoration-color: #000080; font-weight: bold\">build_sentiment_prompt</span><span style=\"color: #000080; text-decoration-color: #000080\"> ─────────────────────────────────────────────╮</span>\n",
       "<span style=\"color: #000080; text-decoration-color: #000080\">│</span> <span style=\"color: #000080; text-decoration-color: #000080; font-weight: bold\">📊 Processing Input Data</span>                                                                                        <span style=\"color: #000080; text-decoration-color: #000080\">│</span>\n",
       "<span style=\"color: #000080; text-decoration-color: #000080\">│</span> <span style=\"color: #008080; text-decoration-color: #008080\">Block Type: PromptBuilderBlock</span>                                                                                  <span style=\"color: #000080; text-decoration-color: #000080\">│</span>\n",
       "<span style=\"color: #000080; text-decoration-color: #000080\">│</span> <span style=\"color: #008080; text-decoration-color: #008080; font-weight: bold\">Input Rows: 49</span>                                                                                                  <span style=\"color: #000080; text-decoration-color: #000080\">│</span>\n",
       "<span style=\"color: #000080; text-decoration-color: #000080\">│</span> <span style=\"color: #008080; text-decoration-color: #008080\">Input Columns: 14</span>                                                                                               <span style=\"color: #000080; text-decoration-color: #000080\">│</span>\n",
       "<span style=\"color: #000080; text-decoration-color: #000080\">│</span> <span style=\"color: #c0c0c0; text-decoration-color: #c0c0c0\">Column Names: Headline, Journalists, Date, Link, text, summary_prompt, raw_summary, summary, keywords_prompt, </span>  <span style=\"color: #000080; text-decoration-color: #000080\">│</span>\n",
       "<span style=\"color: #000080; text-decoration-color: #000080\">│</span> <span style=\"color: #c0c0c0; text-decoration-color: #c0c0c0\">raw_keywords, keywords, entities_prompt, raw_entities, entities</span>                                                 <span style=\"color: #000080; text-decoration-color: #000080\">│</span>\n",
       "<span style=\"color: #000080; text-decoration-color: #000080\">│</span> <span style=\"color: #008000; text-decoration-color: #008000\">Expected Output Columns: sentiment_prompt</span>                                                                       <span style=\"color: #000080; text-decoration-color: #000080\">│</span>\n",
       "<span style=\"color: #000080; text-decoration-color: #000080\">╰─────────────────────────────────────────────────────────────────────────────────────────────────────────────────╯</span>\n",
       "</pre>\n"
      ],
      "text/plain": [
       "\u001b[34m╭─\u001b[0m\u001b[34m───────────────────────────────────────────\u001b[0m\u001b[34m \u001b[0m\u001b[1;34mbuild_sentiment_prompt\u001b[0m\u001b[34m \u001b[0m\u001b[34m────────────────────────────────────────────\u001b[0m\u001b[34m─╮\u001b[0m\n",
       "\u001b[34m│\u001b[0m \u001b[1;34m📊 Processing Input Data\u001b[0m                                                                                        \u001b[34m│\u001b[0m\n",
       "\u001b[34m│\u001b[0m \u001b[36mBlock Type: PromptBuilderBlock\u001b[0m                                                                                  \u001b[34m│\u001b[0m\n",
       "\u001b[34m│\u001b[0m \u001b[1;36mInput Rows: 49\u001b[0m                                                                                                  \u001b[34m│\u001b[0m\n",
       "\u001b[34m│\u001b[0m \u001b[36mInput Columns: 14\u001b[0m                                                                                               \u001b[34m│\u001b[0m\n",
       "\u001b[34m│\u001b[0m \u001b[37mColumn Names: Headline, Journalists, Date, Link, text, summary_prompt, raw_summary, summary, keywords_prompt, \u001b[0m  \u001b[34m│\u001b[0m\n",
       "\u001b[34m│\u001b[0m \u001b[37mraw_keywords, keywords, entities_prompt, raw_entities, entities\u001b[0m                                                 \u001b[34m│\u001b[0m\n",
       "\u001b[34m│\u001b[0m \u001b[32mExpected Output Columns: sentiment_prompt\u001b[0m                                                                       \u001b[34m│\u001b[0m\n",
       "\u001b[34m╰─────────────────────────────────────────────────────────────────────────────────────────────────────────────────╯\u001b[0m\n"
      ]
     },
     "metadata": {},
     "output_type": "display_data"
    },
    {
     "name": "stderr",
     "output_type": "stream",
     "text": [
      "Map: 100%|██████████| 49/49 [00:00<00:00, 6146.51 examples/s]\n"
     ]
    },
    {
     "data": {
      "text/html": [
       "<pre style=\"white-space:pre;overflow-x:auto;line-height:normal;font-family:Menlo,'DejaVu Sans Mono',consolas,'Courier New',monospace\"><span style=\"color: #008000; text-decoration-color: #008000\">╭─────────────────────────────────────── </span><span style=\"color: #008000; text-decoration-color: #008000; font-weight: bold\">build_sentiment_prompt - Complete</span><span style=\"color: #008000; text-decoration-color: #008000\"> ───────────────────────────────────────╮</span>\n",
       "<span style=\"color: #008000; text-decoration-color: #008000\">│</span> <span style=\"color: #008000; text-decoration-color: #008000; font-weight: bold\">✅ Processing Complete</span>                                                                                          <span style=\"color: #008000; text-decoration-color: #008000\">│</span>\n",
       "<span style=\"color: #008000; text-decoration-color: #008000\">│</span> <span style=\"color: #008080; text-decoration-color: #008080\">Rows: 49 → 49</span>                                                                                                   <span style=\"color: #008000; text-decoration-color: #008000\">│</span>\n",
       "<span style=\"color: #008000; text-decoration-color: #008000\">│</span> <span style=\"color: #008080; text-decoration-color: #008080\">Columns: 14 → 15</span>                                                                                                <span style=\"color: #008000; text-decoration-color: #008000\">│</span>\n",
       "<span style=\"color: #008000; text-decoration-color: #008000\">│</span> <span style=\"color: #008000; text-decoration-color: #008000\">🟢 Added: sentiment_prompt</span>                                                                                      <span style=\"color: #008000; text-decoration-color: #008000\">│</span>\n",
       "<span style=\"color: #008000; text-decoration-color: #008000\">│</span> <span style=\"color: #c0c0c0; text-decoration-color: #c0c0c0\">📋 Final Columns: Date, Headline, Journalists, Link, entities, entities_prompt, keywords, keywords_prompt, </span>     <span style=\"color: #008000; text-decoration-color: #008000\">│</span>\n",
       "<span style=\"color: #008000; text-decoration-color: #008000\">│</span> <span style=\"color: #c0c0c0; text-decoration-color: #c0c0c0\">raw_entities, raw_keywords, raw_summary, sentiment_prompt, summary, summary_prompt, text</span>                        <span style=\"color: #008000; text-decoration-color: #008000\">│</span>\n",
       "<span style=\"color: #008000; text-decoration-color: #008000\">╰─────────────────────────────────────────────────────────────────────────────────────────────────────────────────╯</span>\n",
       "</pre>\n"
      ],
      "text/plain": [
       "\u001b[32m╭─\u001b[0m\u001b[32m──────────────────────────────────────\u001b[0m\u001b[32m \u001b[0m\u001b[1;32mbuild_sentiment_prompt - Complete\u001b[0m\u001b[32m \u001b[0m\u001b[32m──────────────────────────────────────\u001b[0m\u001b[32m─╮\u001b[0m\n",
       "\u001b[32m│\u001b[0m \u001b[1;32m✅ Processing Complete\u001b[0m                                                                                          \u001b[32m│\u001b[0m\n",
       "\u001b[32m│\u001b[0m \u001b[36mRows: 49 → 49\u001b[0m                                                                                                   \u001b[32m│\u001b[0m\n",
       "\u001b[32m│\u001b[0m \u001b[36mColumns: 14 → 15\u001b[0m                                                                                                \u001b[32m│\u001b[0m\n",
       "\u001b[32m│\u001b[0m \u001b[32m🟢 Added: sentiment_prompt\u001b[0m                                                                                      \u001b[32m│\u001b[0m\n",
       "\u001b[32m│\u001b[0m \u001b[37m📋 Final Columns: Date, Headline, Journalists, Link, entities, entities_prompt, keywords, keywords_prompt, \u001b[0m     \u001b[32m│\u001b[0m\n",
       "\u001b[32m│\u001b[0m \u001b[37mraw_entities, raw_keywords, raw_summary, sentiment_prompt, summary, summary_prompt, text\u001b[0m                        \u001b[32m│\u001b[0m\n",
       "\u001b[32m╰─────────────────────────────────────────────────────────────────────────────────────────────────────────────────╯\u001b[0m\n"
      ]
     },
     "metadata": {},
     "output_type": "display_data"
    },
    {
     "data": {
      "text/html": [
       "<pre style=\"white-space:pre;overflow-x:auto;line-height:normal;font-family:Menlo,'DejaVu Sans Mono',consolas,'Courier New',monospace\"><span style=\"color: #7fbfbf; text-decoration-color: #7fbfbf\">           </span><span style=\"color: #000080; text-decoration-color: #000080\">INFO    </span> Block <span style=\"color: #008000; text-decoration-color: #008000\">'build_sentiment_prompt'</span> completed successfully: <span style=\"color: #008080; text-decoration-color: #008080; font-weight: bold\">49</span> samples, <span style=\"color: #008080; text-decoration-color: #008080; font-weight: bold\">15</span> columns       <a href=\"file:///Users/shiv/workspace/sdg_hub_add-structured-summary-nb/src/sdg_hub/core/flow/base.py\" target=\"_blank\"><span style=\"color: #7f7f7f; text-decoration-color: #7f7f7f\">base.py</span></a><span style=\"color: #7f7f7f; text-decoration-color: #7f7f7f\">:</span><a href=\"file:///Users/shiv/workspace/sdg_hub_add-structured-summary-nb/src/sdg_hub/core/flow/base.py#646\" target=\"_blank\"><span style=\"color: #7f7f7f; text-decoration-color: #7f7f7f\">646</span></a>\n",
       "</pre>\n"
      ],
      "text/plain": [
       "\u001b[2;36m          \u001b[0m\u001b[2;36m \u001b[0m\u001b[34mINFO    \u001b[0m Block \u001b[32m'build_sentiment_prompt'\u001b[0m completed successfully: \u001b[1;36m49\u001b[0m samples, \u001b[1;36m15\u001b[0m columns       \u001b]8;id=245182;file:///Users/shiv/workspace/sdg_hub_add-structured-summary-nb/src/sdg_hub/core/flow/base.py\u001b\\\u001b[2mbase.py\u001b[0m\u001b]8;;\u001b\\\u001b[2m:\u001b[0m\u001b]8;id=199536;file:///Users/shiv/workspace/sdg_hub_add-structured-summary-nb/src/sdg_hub/core/flow/base.py#646\u001b\\\u001b[2m646\u001b[0m\u001b]8;;\u001b\\\n"
      ]
     },
     "metadata": {},
     "output_type": "display_data"
    },
    {
     "data": {
      "text/html": [
       "<pre style=\"white-space:pre;overflow-x:auto;line-height:normal;font-family:Menlo,'DejaVu Sans Mono',consolas,'Courier New',monospace\"><span style=\"color: #7fbfbf; text-decoration-color: #7fbfbf\">           </span><span style=\"color: #000080; text-decoration-color: #000080\">INFO    </span> Executing block <span style=\"color: #008080; text-decoration-color: #008080; font-weight: bold\">11</span>/<span style=\"color: #008080; text-decoration-color: #008080; font-weight: bold\">16</span>: generate_sentiment <span style=\"font-weight: bold\">(</span>LLMChatBlock<span style=\"font-weight: bold\">)</span>                            <a href=\"file:///Users/shiv/workspace/sdg_hub_add-structured-summary-nb/src/sdg_hub/core/flow/base.py\" target=\"_blank\"><span style=\"color: #7f7f7f; text-decoration-color: #7f7f7f\">base.py</span></a><span style=\"color: #7f7f7f; text-decoration-color: #7f7f7f\">:</span><a href=\"file:///Users/shiv/workspace/sdg_hub_add-structured-summary-nb/src/sdg_hub/core/flow/base.py#610\" target=\"_blank\"><span style=\"color: #7f7f7f; text-decoration-color: #7f7f7f\">610</span></a>\n",
       "</pre>\n"
      ],
      "text/plain": [
       "\u001b[2;36m          \u001b[0m\u001b[2;36m \u001b[0m\u001b[34mINFO    \u001b[0m Executing block \u001b[1;36m11\u001b[0m/\u001b[1;36m16\u001b[0m: generate_sentiment \u001b[1m(\u001b[0mLLMChatBlock\u001b[1m)\u001b[0m                            \u001b]8;id=575042;file:///Users/shiv/workspace/sdg_hub_add-structured-summary-nb/src/sdg_hub/core/flow/base.py\u001b\\\u001b[2mbase.py\u001b[0m\u001b]8;;\u001b\\\u001b[2m:\u001b[0m\u001b]8;id=762376;file:///Users/shiv/workspace/sdg_hub_add-structured-summary-nb/src/sdg_hub/core/flow/base.py#610\u001b\\\u001b[2m610\u001b[0m\u001b]8;;\u001b\\\n"
      ]
     },
     "metadata": {},
     "output_type": "display_data"
    },
    {
     "data": {
      "text/html": [
       "<pre style=\"white-space:pre;overflow-x:auto;line-height:normal;font-family:Menlo,'DejaVu Sans Mono',consolas,'Courier New',monospace\"><span style=\"color: #000080; text-decoration-color: #000080\">╭────────────────────────────────────────────── </span><span style=\"color: #000080; text-decoration-color: #000080; font-weight: bold\">generate_sentiment</span><span style=\"color: #000080; text-decoration-color: #000080\"> ───────────────────────────────────────────────╮</span>\n",
       "<span style=\"color: #000080; text-decoration-color: #000080\">│</span> <span style=\"color: #000080; text-decoration-color: #000080; font-weight: bold\">📊 Processing Input Data</span>                                                                                        <span style=\"color: #000080; text-decoration-color: #000080\">│</span>\n",
       "<span style=\"color: #000080; text-decoration-color: #000080\">│</span> <span style=\"color: #008080; text-decoration-color: #008080\">Block Type: LLMChatBlock</span>                                                                                        <span style=\"color: #000080; text-decoration-color: #000080\">│</span>\n",
       "<span style=\"color: #000080; text-decoration-color: #000080\">│</span> <span style=\"color: #008080; text-decoration-color: #008080; font-weight: bold\">Input Rows: 49</span>                                                                                                  <span style=\"color: #000080; text-decoration-color: #000080\">│</span>\n",
       "<span style=\"color: #000080; text-decoration-color: #000080\">│</span> <span style=\"color: #008080; text-decoration-color: #008080\">Input Columns: 15</span>                                                                                               <span style=\"color: #000080; text-decoration-color: #000080\">│</span>\n",
       "<span style=\"color: #000080; text-decoration-color: #000080\">│</span> <span style=\"color: #c0c0c0; text-decoration-color: #c0c0c0\">Column Names: Headline, Journalists, Date, Link, text, summary_prompt, raw_summary, summary, keywords_prompt, </span>  <span style=\"color: #000080; text-decoration-color: #000080\">│</span>\n",
       "<span style=\"color: #000080; text-decoration-color: #000080\">│</span> <span style=\"color: #c0c0c0; text-decoration-color: #c0c0c0\">raw_keywords, keywords, entities_prompt, raw_entities, entities, sentiment_prompt</span>                               <span style=\"color: #000080; text-decoration-color: #000080\">│</span>\n",
       "<span style=\"color: #000080; text-decoration-color: #000080\">│</span> <span style=\"color: #008000; text-decoration-color: #008000\">Expected Output Columns: raw_sentiment</span>                                                                          <span style=\"color: #000080; text-decoration-color: #000080\">│</span>\n",
       "<span style=\"color: #000080; text-decoration-color: #000080\">╰─────────────────────────────────────────────────────────────────────────────────────────────────────────────────╯</span>\n",
       "</pre>\n"
      ],
      "text/plain": [
       "\u001b[34m╭─\u001b[0m\u001b[34m─────────────────────────────────────────────\u001b[0m\u001b[34m \u001b[0m\u001b[1;34mgenerate_sentiment\u001b[0m\u001b[34m \u001b[0m\u001b[34m──────────────────────────────────────────────\u001b[0m\u001b[34m─╮\u001b[0m\n",
       "\u001b[34m│\u001b[0m \u001b[1;34m📊 Processing Input Data\u001b[0m                                                                                        \u001b[34m│\u001b[0m\n",
       "\u001b[34m│\u001b[0m \u001b[36mBlock Type: LLMChatBlock\u001b[0m                                                                                        \u001b[34m│\u001b[0m\n",
       "\u001b[34m│\u001b[0m \u001b[1;36mInput Rows: 49\u001b[0m                                                                                                  \u001b[34m│\u001b[0m\n",
       "\u001b[34m│\u001b[0m \u001b[36mInput Columns: 15\u001b[0m                                                                                               \u001b[34m│\u001b[0m\n",
       "\u001b[34m│\u001b[0m \u001b[37mColumn Names: Headline, Journalists, Date, Link, text, summary_prompt, raw_summary, summary, keywords_prompt, \u001b[0m  \u001b[34m│\u001b[0m\n",
       "\u001b[34m│\u001b[0m \u001b[37mraw_keywords, keywords, entities_prompt, raw_entities, entities, sentiment_prompt\u001b[0m                               \u001b[34m│\u001b[0m\n",
       "\u001b[34m│\u001b[0m \u001b[32mExpected Output Columns: raw_sentiment\u001b[0m                                                                          \u001b[34m│\u001b[0m\n",
       "\u001b[34m╰─────────────────────────────────────────────────────────────────────────────────────────────────────────────────╯\u001b[0m\n"
      ]
     },
     "metadata": {},
     "output_type": "display_data"
    },
    {
     "data": {
      "text/html": [
       "<pre style=\"white-space:pre;overflow-x:auto;line-height:normal;font-family:Menlo,'DejaVu Sans Mono',consolas,'Courier New',monospace\"><span style=\"color: #7fbfbf; text-decoration-color: #7fbfbf\">           </span><span style=\"color: #000080; text-decoration-color: #000080\">INFO    </span> Starting async generation for <span style=\"color: #008080; text-decoration-color: #008080; font-weight: bold\">49</span> samples                                  <a href=\"file:///Users/shiv/workspace/sdg_hub_add-structured-summary-nb/src/sdg_hub/core/blocks/llm/llm_chat_block.py\" target=\"_blank\"><span style=\"color: #7f7f7f; text-decoration-color: #7f7f7f\">llm_chat_block.py</span></a><span style=\"color: #7f7f7f; text-decoration-color: #7f7f7f\">:</span><a href=\"file:///Users/shiv/workspace/sdg_hub_add-structured-summary-nb/src/sdg_hub/core/blocks/llm/llm_chat_block.py#329\" target=\"_blank\"><span style=\"color: #7f7f7f; text-decoration-color: #7f7f7f\">329</span></a>\n",
       "</pre>\n"
      ],
      "text/plain": [
       "\u001b[2;36m          \u001b[0m\u001b[2;36m \u001b[0m\u001b[34mINFO    \u001b[0m Starting async generation for \u001b[1;36m49\u001b[0m samples                                  \u001b]8;id=874622;file:///Users/shiv/workspace/sdg_hub_add-structured-summary-nb/src/sdg_hub/core/blocks/llm/llm_chat_block.py\u001b\\\u001b[2mllm_chat_block.py\u001b[0m\u001b]8;;\u001b\\\u001b[2m:\u001b[0m\u001b]8;id=583005;file:///Users/shiv/workspace/sdg_hub_add-structured-summary-nb/src/sdg_hub/core/blocks/llm/llm_chat_block.py#329\u001b\\\u001b[2m329\u001b[0m\u001b]8;;\u001b\\\n"
      ]
     },
     "metadata": {},
     "output_type": "display_data"
    },
    {
     "data": {
      "text/html": [
       "<pre style=\"white-space:pre;overflow-x:auto;line-height:normal;font-family:Menlo,'DejaVu Sans Mono',consolas,'Courier New',monospace\"><span style=\"color: #7fbfbf; text-decoration-color: #7fbfbf\">[15:26:35] </span><span style=\"color: #000080; text-decoration-color: #000080\">INFO    </span> Generation completed successfully for <span style=\"color: #008080; text-decoration-color: #008080; font-weight: bold\">49</span> samples                          <a href=\"file:///Users/shiv/workspace/sdg_hub_add-structured-summary-nb/src/sdg_hub/core/blocks/llm/llm_chat_block.py\" target=\"_blank\"><span style=\"color: #7f7f7f; text-decoration-color: #7f7f7f\">llm_chat_block.py</span></a><span style=\"color: #7f7f7f; text-decoration-color: #7f7f7f\">:</span><a href=\"file:///Users/shiv/workspace/sdg_hub_add-structured-summary-nb/src/sdg_hub/core/blocks/llm/llm_chat_block.py#393\" target=\"_blank\"><span style=\"color: #7f7f7f; text-decoration-color: #7f7f7f\">393</span></a>\n",
       "</pre>\n"
      ],
      "text/plain": [
       "\u001b[2;36m[15:26:35]\u001b[0m\u001b[2;36m \u001b[0m\u001b[34mINFO    \u001b[0m Generation completed successfully for \u001b[1;36m49\u001b[0m samples                          \u001b]8;id=913504;file:///Users/shiv/workspace/sdg_hub_add-structured-summary-nb/src/sdg_hub/core/blocks/llm/llm_chat_block.py\u001b\\\u001b[2mllm_chat_block.py\u001b[0m\u001b]8;;\u001b\\\u001b[2m:\u001b[0m\u001b]8;id=621493;file:///Users/shiv/workspace/sdg_hub_add-structured-summary-nb/src/sdg_hub/core/blocks/llm/llm_chat_block.py#393\u001b\\\u001b[2m393\u001b[0m\u001b]8;;\u001b\\\n"
      ]
     },
     "metadata": {},
     "output_type": "display_data"
    },
    {
     "data": {
      "text/html": [
       "<pre style=\"white-space:pre;overflow-x:auto;line-height:normal;font-family:Menlo,'DejaVu Sans Mono',consolas,'Courier New',monospace\"><span style=\"color: #008000; text-decoration-color: #008000\">╭───────────────────────────────────────── </span><span style=\"color: #008000; text-decoration-color: #008000; font-weight: bold\">generate_sentiment - Complete</span><span style=\"color: #008000; text-decoration-color: #008000\"> ─────────────────────────────────────────╮</span>\n",
       "<span style=\"color: #008000; text-decoration-color: #008000\">│</span> <span style=\"color: #008000; text-decoration-color: #008000; font-weight: bold\">✅ Processing Complete</span>                                                                                          <span style=\"color: #008000; text-decoration-color: #008000\">│</span>\n",
       "<span style=\"color: #008000; text-decoration-color: #008000\">│</span> <span style=\"color: #008080; text-decoration-color: #008080\">Rows: 49 → 49</span>                                                                                                   <span style=\"color: #008000; text-decoration-color: #008000\">│</span>\n",
       "<span style=\"color: #008000; text-decoration-color: #008000\">│</span> <span style=\"color: #008080; text-decoration-color: #008080\">Columns: 15 → 16</span>                                                                                                <span style=\"color: #008000; text-decoration-color: #008000\">│</span>\n",
       "<span style=\"color: #008000; text-decoration-color: #008000\">│</span> <span style=\"color: #008000; text-decoration-color: #008000\">🟢 Added: raw_sentiment</span>                                                                                         <span style=\"color: #008000; text-decoration-color: #008000\">│</span>\n",
       "<span style=\"color: #008000; text-decoration-color: #008000\">│</span> <span style=\"color: #c0c0c0; text-decoration-color: #c0c0c0\">📋 Final Columns: Date, Headline, Journalists, Link, entities, entities_prompt, keywords, keywords_prompt, </span>     <span style=\"color: #008000; text-decoration-color: #008000\">│</span>\n",
       "<span style=\"color: #008000; text-decoration-color: #008000\">│</span> <span style=\"color: #c0c0c0; text-decoration-color: #c0c0c0\">raw_entities, raw_keywords, raw_sentiment, raw_summary, sentiment_prompt, summary, summary_prompt, text</span>         <span style=\"color: #008000; text-decoration-color: #008000\">│</span>\n",
       "<span style=\"color: #008000; text-decoration-color: #008000\">╰─────────────────────────────────────────────────────────────────────────────────────────────────────────────────╯</span>\n",
       "</pre>\n"
      ],
      "text/plain": [
       "\u001b[32m╭─\u001b[0m\u001b[32m────────────────────────────────────────\u001b[0m\u001b[32m \u001b[0m\u001b[1;32mgenerate_sentiment - Complete\u001b[0m\u001b[32m \u001b[0m\u001b[32m────────────────────────────────────────\u001b[0m\u001b[32m─╮\u001b[0m\n",
       "\u001b[32m│\u001b[0m \u001b[1;32m✅ Processing Complete\u001b[0m                                                                                          \u001b[32m│\u001b[0m\n",
       "\u001b[32m│\u001b[0m \u001b[36mRows: 49 → 49\u001b[0m                                                                                                   \u001b[32m│\u001b[0m\n",
       "\u001b[32m│\u001b[0m \u001b[36mColumns: 15 → 16\u001b[0m                                                                                                \u001b[32m│\u001b[0m\n",
       "\u001b[32m│\u001b[0m \u001b[32m🟢 Added: raw_sentiment\u001b[0m                                                                                         \u001b[32m│\u001b[0m\n",
       "\u001b[32m│\u001b[0m \u001b[37m📋 Final Columns: Date, Headline, Journalists, Link, entities, entities_prompt, keywords, keywords_prompt, \u001b[0m     \u001b[32m│\u001b[0m\n",
       "\u001b[32m│\u001b[0m \u001b[37mraw_entities, raw_keywords, raw_sentiment, raw_summary, sentiment_prompt, summary, summary_prompt, text\u001b[0m         \u001b[32m│\u001b[0m\n",
       "\u001b[32m╰─────────────────────────────────────────────────────────────────────────────────────────────────────────────────╯\u001b[0m\n"
      ]
     },
     "metadata": {},
     "output_type": "display_data"
    },
    {
     "data": {
      "text/html": [
       "<pre style=\"white-space:pre;overflow-x:auto;line-height:normal;font-family:Menlo,'DejaVu Sans Mono',consolas,'Courier New',monospace\"><span style=\"color: #7fbfbf; text-decoration-color: #7fbfbf\">[15:26:35] </span><span style=\"color: #000080; text-decoration-color: #000080\">INFO    </span> Block <span style=\"color: #008000; text-decoration-color: #008000\">'generate_sentiment'</span> completed successfully: <span style=\"color: #008080; text-decoration-color: #008080; font-weight: bold\">49</span> samples, <span style=\"color: #008080; text-decoration-color: #008080; font-weight: bold\">16</span> columns           <a href=\"file:///Users/shiv/workspace/sdg_hub_add-structured-summary-nb/src/sdg_hub/core/flow/base.py\" target=\"_blank\"><span style=\"color: #7f7f7f; text-decoration-color: #7f7f7f\">base.py</span></a><span style=\"color: #7f7f7f; text-decoration-color: #7f7f7f\">:</span><a href=\"file:///Users/shiv/workspace/sdg_hub_add-structured-summary-nb/src/sdg_hub/core/flow/base.py#646\" target=\"_blank\"><span style=\"color: #7f7f7f; text-decoration-color: #7f7f7f\">646</span></a>\n",
       "</pre>\n"
      ],
      "text/plain": [
       "\u001b[2;36m[15:26:35]\u001b[0m\u001b[2;36m \u001b[0m\u001b[34mINFO    \u001b[0m Block \u001b[32m'generate_sentiment'\u001b[0m completed successfully: \u001b[1;36m49\u001b[0m samples, \u001b[1;36m16\u001b[0m columns           \u001b]8;id=511640;file:///Users/shiv/workspace/sdg_hub_add-structured-summary-nb/src/sdg_hub/core/flow/base.py\u001b\\\u001b[2mbase.py\u001b[0m\u001b]8;;\u001b\\\u001b[2m:\u001b[0m\u001b]8;id=371019;file:///Users/shiv/workspace/sdg_hub_add-structured-summary-nb/src/sdg_hub/core/flow/base.py#646\u001b\\\u001b[2m646\u001b[0m\u001b]8;;\u001b\\\n"
      ]
     },
     "metadata": {},
     "output_type": "display_data"
    },
    {
     "data": {
      "text/html": [
       "<pre style=\"white-space:pre;overflow-x:auto;line-height:normal;font-family:Menlo,'DejaVu Sans Mono',consolas,'Courier New',monospace\"><span style=\"color: #7fbfbf; text-decoration-color: #7fbfbf\">           </span><span style=\"color: #000080; text-decoration-color: #000080\">INFO    </span> Executing block <span style=\"color: #008080; text-decoration-color: #008080; font-weight: bold\">12</span>/<span style=\"color: #008080; text-decoration-color: #008080; font-weight: bold\">16</span>: parse_sentiment <span style=\"font-weight: bold\">(</span>TextParserBlock<span style=\"font-weight: bold\">)</span>                            <a href=\"file:///Users/shiv/workspace/sdg_hub_add-structured-summary-nb/src/sdg_hub/core/flow/base.py\" target=\"_blank\"><span style=\"color: #7f7f7f; text-decoration-color: #7f7f7f\">base.py</span></a><span style=\"color: #7f7f7f; text-decoration-color: #7f7f7f\">:</span><a href=\"file:///Users/shiv/workspace/sdg_hub_add-structured-summary-nb/src/sdg_hub/core/flow/base.py#610\" target=\"_blank\"><span style=\"color: #7f7f7f; text-decoration-color: #7f7f7f\">610</span></a>\n",
       "</pre>\n"
      ],
      "text/plain": [
       "\u001b[2;36m          \u001b[0m\u001b[2;36m \u001b[0m\u001b[34mINFO    \u001b[0m Executing block \u001b[1;36m12\u001b[0m/\u001b[1;36m16\u001b[0m: parse_sentiment \u001b[1m(\u001b[0mTextParserBlock\u001b[1m)\u001b[0m                            \u001b]8;id=253711;file:///Users/shiv/workspace/sdg_hub_add-structured-summary-nb/src/sdg_hub/core/flow/base.py\u001b\\\u001b[2mbase.py\u001b[0m\u001b]8;;\u001b\\\u001b[2m:\u001b[0m\u001b]8;id=636438;file:///Users/shiv/workspace/sdg_hub_add-structured-summary-nb/src/sdg_hub/core/flow/base.py#610\u001b\\\u001b[2m610\u001b[0m\u001b]8;;\u001b\\\n"
      ]
     },
     "metadata": {},
     "output_type": "display_data"
    },
    {
     "data": {
      "text/html": [
       "<pre style=\"white-space:pre;overflow-x:auto;line-height:normal;font-family:Menlo,'DejaVu Sans Mono',consolas,'Courier New',monospace\"><span style=\"color: #000080; text-decoration-color: #000080\">╭──────────────────────────────────────────────── </span><span style=\"color: #000080; text-decoration-color: #000080; font-weight: bold\">parse_sentiment</span><span style=\"color: #000080; text-decoration-color: #000080\"> ────────────────────────────────────────────────╮</span>\n",
       "<span style=\"color: #000080; text-decoration-color: #000080\">│</span> <span style=\"color: #000080; text-decoration-color: #000080; font-weight: bold\">📊 Processing Input Data</span>                                                                                        <span style=\"color: #000080; text-decoration-color: #000080\">│</span>\n",
       "<span style=\"color: #000080; text-decoration-color: #000080\">│</span> <span style=\"color: #008080; text-decoration-color: #008080\">Block Type: TextParserBlock</span>                                                                                     <span style=\"color: #000080; text-decoration-color: #000080\">│</span>\n",
       "<span style=\"color: #000080; text-decoration-color: #000080\">│</span> <span style=\"color: #008080; text-decoration-color: #008080; font-weight: bold\">Input Rows: 49</span>                                                                                                  <span style=\"color: #000080; text-decoration-color: #000080\">│</span>\n",
       "<span style=\"color: #000080; text-decoration-color: #000080\">│</span> <span style=\"color: #008080; text-decoration-color: #008080\">Input Columns: 16</span>                                                                                               <span style=\"color: #000080; text-decoration-color: #000080\">│</span>\n",
       "<span style=\"color: #000080; text-decoration-color: #000080\">│</span> <span style=\"color: #c0c0c0; text-decoration-color: #c0c0c0\">Column Names: Headline, Journalists, Date, Link, text, summary_prompt, raw_summary, summary, keywords_prompt, </span>  <span style=\"color: #000080; text-decoration-color: #000080\">│</span>\n",
       "<span style=\"color: #000080; text-decoration-color: #000080\">│</span> <span style=\"color: #c0c0c0; text-decoration-color: #c0c0c0\">raw_keywords, keywords, entities_prompt, raw_entities, entities, sentiment_prompt, raw_sentiment</span>                <span style=\"color: #000080; text-decoration-color: #000080\">│</span>\n",
       "<span style=\"color: #000080; text-decoration-color: #000080\">│</span> <span style=\"color: #008000; text-decoration-color: #008000\">Expected Output Columns: sentiment</span>                                                                              <span style=\"color: #000080; text-decoration-color: #000080\">│</span>\n",
       "<span style=\"color: #000080; text-decoration-color: #000080\">╰─────────────────────────────────────────────────────────────────────────────────────────────────────────────────╯</span>\n",
       "</pre>\n"
      ],
      "text/plain": [
       "\u001b[34m╭─\u001b[0m\u001b[34m───────────────────────────────────────────────\u001b[0m\u001b[34m \u001b[0m\u001b[1;34mparse_sentiment\u001b[0m\u001b[34m \u001b[0m\u001b[34m───────────────────────────────────────────────\u001b[0m\u001b[34m─╮\u001b[0m\n",
       "\u001b[34m│\u001b[0m \u001b[1;34m📊 Processing Input Data\u001b[0m                                                                                        \u001b[34m│\u001b[0m\n",
       "\u001b[34m│\u001b[0m \u001b[36mBlock Type: TextParserBlock\u001b[0m                                                                                     \u001b[34m│\u001b[0m\n",
       "\u001b[34m│\u001b[0m \u001b[1;36mInput Rows: 49\u001b[0m                                                                                                  \u001b[34m│\u001b[0m\n",
       "\u001b[34m│\u001b[0m \u001b[36mInput Columns: 16\u001b[0m                                                                                               \u001b[34m│\u001b[0m\n",
       "\u001b[34m│\u001b[0m \u001b[37mColumn Names: Headline, Journalists, Date, Link, text, summary_prompt, raw_summary, summary, keywords_prompt, \u001b[0m  \u001b[34m│\u001b[0m\n",
       "\u001b[34m│\u001b[0m \u001b[37mraw_keywords, keywords, entities_prompt, raw_entities, entities, sentiment_prompt, raw_sentiment\u001b[0m                \u001b[34m│\u001b[0m\n",
       "\u001b[34m│\u001b[0m \u001b[32mExpected Output Columns: sentiment\u001b[0m                                                                              \u001b[34m│\u001b[0m\n",
       "\u001b[34m╰─────────────────────────────────────────────────────────────────────────────────────────────────────────────────╯\u001b[0m\n"
      ]
     },
     "metadata": {},
     "output_type": "display_data"
    },
    {
     "data": {
      "text/html": [
       "<pre style=\"white-space:pre;overflow-x:auto;line-height:normal;font-family:Menlo,'DejaVu Sans Mono',consolas,'Courier New',monospace\"><span style=\"color: #008000; text-decoration-color: #008000\">╭────────────────────────────────────────── </span><span style=\"color: #008000; text-decoration-color: #008000; font-weight: bold\">parse_sentiment - Complete</span><span style=\"color: #008000; text-decoration-color: #008000\"> ───────────────────────────────────────────╮</span>\n",
       "<span style=\"color: #008000; text-decoration-color: #008000\">│</span> <span style=\"color: #008000; text-decoration-color: #008000; font-weight: bold\">✅ Processing Complete</span>                                                                                          <span style=\"color: #008000; text-decoration-color: #008000\">│</span>\n",
       "<span style=\"color: #008000; text-decoration-color: #008000\">│</span> <span style=\"color: #008080; text-decoration-color: #008080\">Rows: 49 → 49</span>                                                                                                   <span style=\"color: #008000; text-decoration-color: #008000\">│</span>\n",
       "<span style=\"color: #008000; text-decoration-color: #008000\">│</span> <span style=\"color: #008080; text-decoration-color: #008080\">Columns: 16 → 17</span>                                                                                                <span style=\"color: #008000; text-decoration-color: #008000\">│</span>\n",
       "<span style=\"color: #008000; text-decoration-color: #008000\">│</span> <span style=\"color: #008000; text-decoration-color: #008000\">🟢 Added: sentiment</span>                                                                                             <span style=\"color: #008000; text-decoration-color: #008000\">│</span>\n",
       "<span style=\"color: #008000; text-decoration-color: #008000\">│</span> <span style=\"color: #c0c0c0; text-decoration-color: #c0c0c0\">📋 Final Columns: Date, Headline, Journalists, Link, entities, entities_prompt, keywords, keywords_prompt, </span>     <span style=\"color: #008000; text-decoration-color: #008000\">│</span>\n",
       "<span style=\"color: #008000; text-decoration-color: #008000\">│</span> <span style=\"color: #c0c0c0; text-decoration-color: #c0c0c0\">raw_entities, raw_keywords, raw_sentiment, raw_summary, sentiment, sentiment_prompt, summary, summary_prompt, </span>  <span style=\"color: #008000; text-decoration-color: #008000\">│</span>\n",
       "<span style=\"color: #008000; text-decoration-color: #008000\">│</span> <span style=\"color: #c0c0c0; text-decoration-color: #c0c0c0\">text</span>                                                                                                            <span style=\"color: #008000; text-decoration-color: #008000\">│</span>\n",
       "<span style=\"color: #008000; text-decoration-color: #008000\">╰─────────────────────────────────────────────────────────────────────────────────────────────────────────────────╯</span>\n",
       "</pre>\n"
      ],
      "text/plain": [
       "\u001b[32m╭─\u001b[0m\u001b[32m─────────────────────────────────────────\u001b[0m\u001b[32m \u001b[0m\u001b[1;32mparse_sentiment - Complete\u001b[0m\u001b[32m \u001b[0m\u001b[32m──────────────────────────────────────────\u001b[0m\u001b[32m─╮\u001b[0m\n",
       "\u001b[32m│\u001b[0m \u001b[1;32m✅ Processing Complete\u001b[0m                                                                                          \u001b[32m│\u001b[0m\n",
       "\u001b[32m│\u001b[0m \u001b[36mRows: 49 → 49\u001b[0m                                                                                                   \u001b[32m│\u001b[0m\n",
       "\u001b[32m│\u001b[0m \u001b[36mColumns: 16 → 17\u001b[0m                                                                                                \u001b[32m│\u001b[0m\n",
       "\u001b[32m│\u001b[0m \u001b[32m🟢 Added: sentiment\u001b[0m                                                                                             \u001b[32m│\u001b[0m\n",
       "\u001b[32m│\u001b[0m \u001b[37m📋 Final Columns: Date, Headline, Journalists, Link, entities, entities_prompt, keywords, keywords_prompt, \u001b[0m     \u001b[32m│\u001b[0m\n",
       "\u001b[32m│\u001b[0m \u001b[37mraw_entities, raw_keywords, raw_sentiment, raw_summary, sentiment, sentiment_prompt, summary, summary_prompt, \u001b[0m  \u001b[32m│\u001b[0m\n",
       "\u001b[32m│\u001b[0m \u001b[37mtext\u001b[0m                                                                                                            \u001b[32m│\u001b[0m\n",
       "\u001b[32m╰─────────────────────────────────────────────────────────────────────────────────────────────────────────────────╯\u001b[0m\n"
      ]
     },
     "metadata": {},
     "output_type": "display_data"
    },
    {
     "data": {
      "text/html": [
       "<pre style=\"white-space:pre;overflow-x:auto;line-height:normal;font-family:Menlo,'DejaVu Sans Mono',consolas,'Courier New',monospace\"><span style=\"color: #7fbfbf; text-decoration-color: #7fbfbf\">           </span><span style=\"color: #000080; text-decoration-color: #000080\">INFO    </span> Block <span style=\"color: #008000; text-decoration-color: #008000\">'parse_sentiment'</span> completed successfully: <span style=\"color: #008080; text-decoration-color: #008080; font-weight: bold\">49</span> samples, <span style=\"color: #008080; text-decoration-color: #008080; font-weight: bold\">17</span> columns              <a href=\"file:///Users/shiv/workspace/sdg_hub_add-structured-summary-nb/src/sdg_hub/core/flow/base.py\" target=\"_blank\"><span style=\"color: #7f7f7f; text-decoration-color: #7f7f7f\">base.py</span></a><span style=\"color: #7f7f7f; text-decoration-color: #7f7f7f\">:</span><a href=\"file:///Users/shiv/workspace/sdg_hub_add-structured-summary-nb/src/sdg_hub/core/flow/base.py#646\" target=\"_blank\"><span style=\"color: #7f7f7f; text-decoration-color: #7f7f7f\">646</span></a>\n",
       "</pre>\n"
      ],
      "text/plain": [
       "\u001b[2;36m          \u001b[0m\u001b[2;36m \u001b[0m\u001b[34mINFO    \u001b[0m Block \u001b[32m'parse_sentiment'\u001b[0m completed successfully: \u001b[1;36m49\u001b[0m samples, \u001b[1;36m17\u001b[0m columns              \u001b]8;id=901879;file:///Users/shiv/workspace/sdg_hub_add-structured-summary-nb/src/sdg_hub/core/flow/base.py\u001b\\\u001b[2mbase.py\u001b[0m\u001b]8;;\u001b\\\u001b[2m:\u001b[0m\u001b]8;id=610692;file:///Users/shiv/workspace/sdg_hub_add-structured-summary-nb/src/sdg_hub/core/flow/base.py#646\u001b\\\u001b[2m646\u001b[0m\u001b]8;;\u001b\\\n"
      ]
     },
     "metadata": {},
     "output_type": "display_data"
    },
    {
     "data": {
      "text/html": [
       "<pre style=\"white-space:pre;overflow-x:auto;line-height:normal;font-family:Menlo,'DejaVu Sans Mono',consolas,'Courier New',monospace\"><span style=\"color: #7fbfbf; text-decoration-color: #7fbfbf\">           </span><span style=\"color: #000080; text-decoration-color: #000080\">INFO    </span> Executing block <span style=\"color: #008080; text-decoration-color: #008080; font-weight: bold\">13</span>/<span style=\"color: #008080; text-decoration-color: #008080; font-weight: bold\">16</span>: stock_ticker_prompt <span style=\"font-weight: bold\">(</span>PromptBuilderBlock<span style=\"font-weight: bold\">)</span>                     <a href=\"file:///Users/shiv/workspace/sdg_hub_add-structured-summary-nb/src/sdg_hub/core/flow/base.py\" target=\"_blank\"><span style=\"color: #7f7f7f; text-decoration-color: #7f7f7f\">base.py</span></a><span style=\"color: #7f7f7f; text-decoration-color: #7f7f7f\">:</span><a href=\"file:///Users/shiv/workspace/sdg_hub_add-structured-summary-nb/src/sdg_hub/core/flow/base.py#610\" target=\"_blank\"><span style=\"color: #7f7f7f; text-decoration-color: #7f7f7f\">610</span></a>\n",
       "</pre>\n"
      ],
      "text/plain": [
       "\u001b[2;36m          \u001b[0m\u001b[2;36m \u001b[0m\u001b[34mINFO    \u001b[0m Executing block \u001b[1;36m13\u001b[0m/\u001b[1;36m16\u001b[0m: stock_ticker_prompt \u001b[1m(\u001b[0mPromptBuilderBlock\u001b[1m)\u001b[0m                     \u001b]8;id=3360;file:///Users/shiv/workspace/sdg_hub_add-structured-summary-nb/src/sdg_hub/core/flow/base.py\u001b\\\u001b[2mbase.py\u001b[0m\u001b]8;;\u001b\\\u001b[2m:\u001b[0m\u001b]8;id=331446;file:///Users/shiv/workspace/sdg_hub_add-structured-summary-nb/src/sdg_hub/core/flow/base.py#610\u001b\\\u001b[2m610\u001b[0m\u001b]8;;\u001b\\\n"
      ]
     },
     "metadata": {},
     "output_type": "display_data"
    },
    {
     "data": {
      "text/html": [
       "<pre style=\"white-space:pre;overflow-x:auto;line-height:normal;font-family:Menlo,'DejaVu Sans Mono',consolas,'Courier New',monospace\"><span style=\"color: #000080; text-decoration-color: #000080\">╭────────────────────────────────────────────── </span><span style=\"color: #000080; text-decoration-color: #000080; font-weight: bold\">stock_ticker_prompt</span><span style=\"color: #000080; text-decoration-color: #000080\"> ──────────────────────────────────────────────╮</span>\n",
       "<span style=\"color: #000080; text-decoration-color: #000080\">│</span> <span style=\"color: #000080; text-decoration-color: #000080; font-weight: bold\">📊 Processing Input Data</span>                                                                                        <span style=\"color: #000080; text-decoration-color: #000080\">│</span>\n",
       "<span style=\"color: #000080; text-decoration-color: #000080\">│</span> <span style=\"color: #008080; text-decoration-color: #008080\">Block Type: PromptBuilderBlock</span>                                                                                  <span style=\"color: #000080; text-decoration-color: #000080\">│</span>\n",
       "<span style=\"color: #000080; text-decoration-color: #000080\">│</span> <span style=\"color: #008080; text-decoration-color: #008080; font-weight: bold\">Input Rows: 49</span>                                                                                                  <span style=\"color: #000080; text-decoration-color: #000080\">│</span>\n",
       "<span style=\"color: #000080; text-decoration-color: #000080\">│</span> <span style=\"color: #008080; text-decoration-color: #008080\">Input Columns: 17</span>                                                                                               <span style=\"color: #000080; text-decoration-color: #000080\">│</span>\n",
       "<span style=\"color: #000080; text-decoration-color: #000080\">│</span> <span style=\"color: #c0c0c0; text-decoration-color: #c0c0c0\">Column Names: Headline, Journalists, Date, Link, text, summary_prompt, raw_summary, summary, keywords_prompt, </span>  <span style=\"color: #000080; text-decoration-color: #000080\">│</span>\n",
       "<span style=\"color: #000080; text-decoration-color: #000080\">│</span> <span style=\"color: #c0c0c0; text-decoration-color: #c0c0c0\">raw_keywords, keywords, entities_prompt, raw_entities, entities, sentiment_prompt, raw_sentiment, sentiment</span>     <span style=\"color: #000080; text-decoration-color: #000080\">│</span>\n",
       "<span style=\"color: #000080; text-decoration-color: #000080\">│</span> <span style=\"color: #008000; text-decoration-color: #008000\">Expected Output Columns: ticker_prompt</span>                                                                          <span style=\"color: #000080; text-decoration-color: #000080\">│</span>\n",
       "<span style=\"color: #000080; text-decoration-color: #000080\">╰─────────────────────────────────────────────────────────────────────────────────────────────────────────────────╯</span>\n",
       "</pre>\n"
      ],
      "text/plain": [
       "\u001b[34m╭─\u001b[0m\u001b[34m─────────────────────────────────────────────\u001b[0m\u001b[34m \u001b[0m\u001b[1;34mstock_ticker_prompt\u001b[0m\u001b[34m \u001b[0m\u001b[34m─────────────────────────────────────────────\u001b[0m\u001b[34m─╮\u001b[0m\n",
       "\u001b[34m│\u001b[0m \u001b[1;34m📊 Processing Input Data\u001b[0m                                                                                        \u001b[34m│\u001b[0m\n",
       "\u001b[34m│\u001b[0m \u001b[36mBlock Type: PromptBuilderBlock\u001b[0m                                                                                  \u001b[34m│\u001b[0m\n",
       "\u001b[34m│\u001b[0m \u001b[1;36mInput Rows: 49\u001b[0m                                                                                                  \u001b[34m│\u001b[0m\n",
       "\u001b[34m│\u001b[0m \u001b[36mInput Columns: 17\u001b[0m                                                                                               \u001b[34m│\u001b[0m\n",
       "\u001b[34m│\u001b[0m \u001b[37mColumn Names: Headline, Journalists, Date, Link, text, summary_prompt, raw_summary, summary, keywords_prompt, \u001b[0m  \u001b[34m│\u001b[0m\n",
       "\u001b[34m│\u001b[0m \u001b[37mraw_keywords, keywords, entities_prompt, raw_entities, entities, sentiment_prompt, raw_sentiment, sentiment\u001b[0m     \u001b[34m│\u001b[0m\n",
       "\u001b[34m│\u001b[0m \u001b[32mExpected Output Columns: ticker_prompt\u001b[0m                                                                          \u001b[34m│\u001b[0m\n",
       "\u001b[34m╰─────────────────────────────────────────────────────────────────────────────────────────────────────────────────╯\u001b[0m\n"
      ]
     },
     "metadata": {},
     "output_type": "display_data"
    },
    {
     "name": "stderr",
     "output_type": "stream",
     "text": [
      "Map: 100%|██████████| 49/49 [00:00<00:00, 5205.56 examples/s]\n"
     ]
    },
    {
     "data": {
      "text/html": [
       "<pre style=\"white-space:pre;overflow-x:auto;line-height:normal;font-family:Menlo,'DejaVu Sans Mono',consolas,'Courier New',monospace\"><span style=\"color: #008000; text-decoration-color: #008000\">╭──────────────────────────────────────── </span><span style=\"color: #008000; text-decoration-color: #008000; font-weight: bold\">stock_ticker_prompt - Complete</span><span style=\"color: #008000; text-decoration-color: #008000\"> ─────────────────────────────────────────╮</span>\n",
       "<span style=\"color: #008000; text-decoration-color: #008000\">│</span> <span style=\"color: #008000; text-decoration-color: #008000; font-weight: bold\">✅ Processing Complete</span>                                                                                          <span style=\"color: #008000; text-decoration-color: #008000\">│</span>\n",
       "<span style=\"color: #008000; text-decoration-color: #008000\">│</span> <span style=\"color: #008080; text-decoration-color: #008080\">Rows: 49 → 49</span>                                                                                                   <span style=\"color: #008000; text-decoration-color: #008000\">│</span>\n",
       "<span style=\"color: #008000; text-decoration-color: #008000\">│</span> <span style=\"color: #008080; text-decoration-color: #008080\">Columns: 17 → 18</span>                                                                                                <span style=\"color: #008000; text-decoration-color: #008000\">│</span>\n",
       "<span style=\"color: #008000; text-decoration-color: #008000\">│</span> <span style=\"color: #008000; text-decoration-color: #008000\">🟢 Added: ticker_prompt</span>                                                                                         <span style=\"color: #008000; text-decoration-color: #008000\">│</span>\n",
       "<span style=\"color: #008000; text-decoration-color: #008000\">│</span> <span style=\"color: #c0c0c0; text-decoration-color: #c0c0c0\">📋 Final Columns: Date, Headline, Journalists, Link, entities, entities_prompt, keywords, keywords_prompt, </span>     <span style=\"color: #008000; text-decoration-color: #008000\">│</span>\n",
       "<span style=\"color: #008000; text-decoration-color: #008000\">│</span> <span style=\"color: #c0c0c0; text-decoration-color: #c0c0c0\">raw_entities, raw_keywords, raw_sentiment, raw_summary, sentiment, sentiment_prompt, summary, summary_prompt, </span>  <span style=\"color: #008000; text-decoration-color: #008000\">│</span>\n",
       "<span style=\"color: #008000; text-decoration-color: #008000\">│</span> <span style=\"color: #c0c0c0; text-decoration-color: #c0c0c0\">text, ticker_prompt</span>                                                                                             <span style=\"color: #008000; text-decoration-color: #008000\">│</span>\n",
       "<span style=\"color: #008000; text-decoration-color: #008000\">╰─────────────────────────────────────────────────────────────────────────────────────────────────────────────────╯</span>\n",
       "</pre>\n"
      ],
      "text/plain": [
       "\u001b[32m╭─\u001b[0m\u001b[32m───────────────────────────────────────\u001b[0m\u001b[32m \u001b[0m\u001b[1;32mstock_ticker_prompt - Complete\u001b[0m\u001b[32m \u001b[0m\u001b[32m────────────────────────────────────────\u001b[0m\u001b[32m─╮\u001b[0m\n",
       "\u001b[32m│\u001b[0m \u001b[1;32m✅ Processing Complete\u001b[0m                                                                                          \u001b[32m│\u001b[0m\n",
       "\u001b[32m│\u001b[0m \u001b[36mRows: 49 → 49\u001b[0m                                                                                                   \u001b[32m│\u001b[0m\n",
       "\u001b[32m│\u001b[0m \u001b[36mColumns: 17 → 18\u001b[0m                                                                                                \u001b[32m│\u001b[0m\n",
       "\u001b[32m│\u001b[0m \u001b[32m🟢 Added: ticker_prompt\u001b[0m                                                                                         \u001b[32m│\u001b[0m\n",
       "\u001b[32m│\u001b[0m \u001b[37m📋 Final Columns: Date, Headline, Journalists, Link, entities, entities_prompt, keywords, keywords_prompt, \u001b[0m     \u001b[32m│\u001b[0m\n",
       "\u001b[32m│\u001b[0m \u001b[37mraw_entities, raw_keywords, raw_sentiment, raw_summary, sentiment, sentiment_prompt, summary, summary_prompt, \u001b[0m  \u001b[32m│\u001b[0m\n",
       "\u001b[32m│\u001b[0m \u001b[37mtext, ticker_prompt\u001b[0m                                                                                             \u001b[32m│\u001b[0m\n",
       "\u001b[32m╰─────────────────────────────────────────────────────────────────────────────────────────────────────────────────╯\u001b[0m\n"
      ]
     },
     "metadata": {},
     "output_type": "display_data"
    },
    {
     "data": {
      "text/html": [
       "<pre style=\"white-space:pre;overflow-x:auto;line-height:normal;font-family:Menlo,'DejaVu Sans Mono',consolas,'Courier New',monospace\"><span style=\"color: #7fbfbf; text-decoration-color: #7fbfbf\">           </span><span style=\"color: #000080; text-decoration-color: #000080\">INFO    </span> Block <span style=\"color: #008000; text-decoration-color: #008000\">'stock_ticker_prompt'</span> completed successfully: <span style=\"color: #008080; text-decoration-color: #008080; font-weight: bold\">49</span> samples, <span style=\"color: #008080; text-decoration-color: #008080; font-weight: bold\">18</span> columns          <a href=\"file:///Users/shiv/workspace/sdg_hub_add-structured-summary-nb/src/sdg_hub/core/flow/base.py\" target=\"_blank\"><span style=\"color: #7f7f7f; text-decoration-color: #7f7f7f\">base.py</span></a><span style=\"color: #7f7f7f; text-decoration-color: #7f7f7f\">:</span><a href=\"file:///Users/shiv/workspace/sdg_hub_add-structured-summary-nb/src/sdg_hub/core/flow/base.py#646\" target=\"_blank\"><span style=\"color: #7f7f7f; text-decoration-color: #7f7f7f\">646</span></a>\n",
       "</pre>\n"
      ],
      "text/plain": [
       "\u001b[2;36m          \u001b[0m\u001b[2;36m \u001b[0m\u001b[34mINFO    \u001b[0m Block \u001b[32m'stock_ticker_prompt'\u001b[0m completed successfully: \u001b[1;36m49\u001b[0m samples, \u001b[1;36m18\u001b[0m columns          \u001b]8;id=489575;file:///Users/shiv/workspace/sdg_hub_add-structured-summary-nb/src/sdg_hub/core/flow/base.py\u001b\\\u001b[2mbase.py\u001b[0m\u001b]8;;\u001b\\\u001b[2m:\u001b[0m\u001b]8;id=445456;file:///Users/shiv/workspace/sdg_hub_add-structured-summary-nb/src/sdg_hub/core/flow/base.py#646\u001b\\\u001b[2m646\u001b[0m\u001b]8;;\u001b\\\n"
      ]
     },
     "metadata": {},
     "output_type": "display_data"
    },
    {
     "data": {
      "text/html": [
       "<pre style=\"white-space:pre;overflow-x:auto;line-height:normal;font-family:Menlo,'DejaVu Sans Mono',consolas,'Courier New',monospace\"><span style=\"color: #7fbfbf; text-decoration-color: #7fbfbf\">           </span><span style=\"color: #000080; text-decoration-color: #000080\">INFO    </span> Executing block <span style=\"color: #008080; text-decoration-color: #008080; font-weight: bold\">14</span>/<span style=\"color: #008080; text-decoration-color: #008080; font-weight: bold\">16</span>: extract_stock_tickers <span style=\"font-weight: bold\">(</span>LLMChatBlock<span style=\"font-weight: bold\">)</span>                         <a href=\"file:///Users/shiv/workspace/sdg_hub_add-structured-summary-nb/src/sdg_hub/core/flow/base.py\" target=\"_blank\"><span style=\"color: #7f7f7f; text-decoration-color: #7f7f7f\">base.py</span></a><span style=\"color: #7f7f7f; text-decoration-color: #7f7f7f\">:</span><a href=\"file:///Users/shiv/workspace/sdg_hub_add-structured-summary-nb/src/sdg_hub/core/flow/base.py#610\" target=\"_blank\"><span style=\"color: #7f7f7f; text-decoration-color: #7f7f7f\">610</span></a>\n",
       "</pre>\n"
      ],
      "text/plain": [
       "\u001b[2;36m          \u001b[0m\u001b[2;36m \u001b[0m\u001b[34mINFO    \u001b[0m Executing block \u001b[1;36m14\u001b[0m/\u001b[1;36m16\u001b[0m: extract_stock_tickers \u001b[1m(\u001b[0mLLMChatBlock\u001b[1m)\u001b[0m                         \u001b]8;id=735880;file:///Users/shiv/workspace/sdg_hub_add-structured-summary-nb/src/sdg_hub/core/flow/base.py\u001b\\\u001b[2mbase.py\u001b[0m\u001b]8;;\u001b\\\u001b[2m:\u001b[0m\u001b]8;id=258850;file:///Users/shiv/workspace/sdg_hub_add-structured-summary-nb/src/sdg_hub/core/flow/base.py#610\u001b\\\u001b[2m610\u001b[0m\u001b]8;;\u001b\\\n"
      ]
     },
     "metadata": {},
     "output_type": "display_data"
    },
    {
     "data": {
      "text/html": [
       "<pre style=\"white-space:pre;overflow-x:auto;line-height:normal;font-family:Menlo,'DejaVu Sans Mono',consolas,'Courier New',monospace\"><span style=\"color: #000080; text-decoration-color: #000080\">╭───────────────────────────────────────────── </span><span style=\"color: #000080; text-decoration-color: #000080; font-weight: bold\">extract_stock_tickers</span><span style=\"color: #000080; text-decoration-color: #000080\"> ─────────────────────────────────────────────╮</span>\n",
       "<span style=\"color: #000080; text-decoration-color: #000080\">│</span> <span style=\"color: #000080; text-decoration-color: #000080; font-weight: bold\">📊 Processing Input Data</span>                                                                                        <span style=\"color: #000080; text-decoration-color: #000080\">│</span>\n",
       "<span style=\"color: #000080; text-decoration-color: #000080\">│</span> <span style=\"color: #008080; text-decoration-color: #008080\">Block Type: LLMChatBlock</span>                                                                                        <span style=\"color: #000080; text-decoration-color: #000080\">│</span>\n",
       "<span style=\"color: #000080; text-decoration-color: #000080\">│</span> <span style=\"color: #008080; text-decoration-color: #008080; font-weight: bold\">Input Rows: 49</span>                                                                                                  <span style=\"color: #000080; text-decoration-color: #000080\">│</span>\n",
       "<span style=\"color: #000080; text-decoration-color: #000080\">│</span> <span style=\"color: #008080; text-decoration-color: #008080\">Input Columns: 18</span>                                                                                               <span style=\"color: #000080; text-decoration-color: #000080\">│</span>\n",
       "<span style=\"color: #000080; text-decoration-color: #000080\">│</span> <span style=\"color: #c0c0c0; text-decoration-color: #c0c0c0\">Column Names: Headline, Journalists, Date, Link, text, summary_prompt, raw_summary, summary, keywords_prompt, </span>  <span style=\"color: #000080; text-decoration-color: #000080\">│</span>\n",
       "<span style=\"color: #000080; text-decoration-color: #000080\">│</span> <span style=\"color: #c0c0c0; text-decoration-color: #c0c0c0\">raw_keywords, keywords, entities_prompt, raw_entities, entities, sentiment_prompt, raw_sentiment, sentiment, </span>   <span style=\"color: #000080; text-decoration-color: #000080\">│</span>\n",
       "<span style=\"color: #000080; text-decoration-color: #000080\">│</span> <span style=\"color: #c0c0c0; text-decoration-color: #c0c0c0\">ticker_prompt</span>                                                                                                   <span style=\"color: #000080; text-decoration-color: #000080\">│</span>\n",
       "<span style=\"color: #000080; text-decoration-color: #000080\">│</span> <span style=\"color: #008000; text-decoration-color: #008000\">Expected Output Columns: raw_stock_tickers</span>                                                                      <span style=\"color: #000080; text-decoration-color: #000080\">│</span>\n",
       "<span style=\"color: #000080; text-decoration-color: #000080\">╰─────────────────────────────────────────────────────────────────────────────────────────────────────────────────╯</span>\n",
       "</pre>\n"
      ],
      "text/plain": [
       "\u001b[34m╭─\u001b[0m\u001b[34m────────────────────────────────────────────\u001b[0m\u001b[34m \u001b[0m\u001b[1;34mextract_stock_tickers\u001b[0m\u001b[34m \u001b[0m\u001b[34m────────────────────────────────────────────\u001b[0m\u001b[34m─╮\u001b[0m\n",
       "\u001b[34m│\u001b[0m \u001b[1;34m📊 Processing Input Data\u001b[0m                                                                                        \u001b[34m│\u001b[0m\n",
       "\u001b[34m│\u001b[0m \u001b[36mBlock Type: LLMChatBlock\u001b[0m                                                                                        \u001b[34m│\u001b[0m\n",
       "\u001b[34m│\u001b[0m \u001b[1;36mInput Rows: 49\u001b[0m                                                                                                  \u001b[34m│\u001b[0m\n",
       "\u001b[34m│\u001b[0m \u001b[36mInput Columns: 18\u001b[0m                                                                                               \u001b[34m│\u001b[0m\n",
       "\u001b[34m│\u001b[0m \u001b[37mColumn Names: Headline, Journalists, Date, Link, text, summary_prompt, raw_summary, summary, keywords_prompt, \u001b[0m  \u001b[34m│\u001b[0m\n",
       "\u001b[34m│\u001b[0m \u001b[37mraw_keywords, keywords, entities_prompt, raw_entities, entities, sentiment_prompt, raw_sentiment, sentiment, \u001b[0m   \u001b[34m│\u001b[0m\n",
       "\u001b[34m│\u001b[0m \u001b[37mticker_prompt\u001b[0m                                                                                                   \u001b[34m│\u001b[0m\n",
       "\u001b[34m│\u001b[0m \u001b[32mExpected Output Columns: raw_stock_tickers\u001b[0m                                                                      \u001b[34m│\u001b[0m\n",
       "\u001b[34m╰─────────────────────────────────────────────────────────────────────────────────────────────────────────────────╯\u001b[0m\n"
      ]
     },
     "metadata": {},
     "output_type": "display_data"
    },
    {
     "data": {
      "text/html": [
       "<pre style=\"white-space:pre;overflow-x:auto;line-height:normal;font-family:Menlo,'DejaVu Sans Mono',consolas,'Courier New',monospace\"><span style=\"color: #7fbfbf; text-decoration-color: #7fbfbf\">           </span><span style=\"color: #000080; text-decoration-color: #000080\">INFO    </span> Starting sync generation for <span style=\"color: #008080; text-decoration-color: #008080; font-weight: bold\">49</span> samples                                   <a href=\"file:///Users/shiv/workspace/sdg_hub_add-structured-summary-nb/src/sdg_hub/core/blocks/llm/llm_chat_block.py\" target=\"_blank\"><span style=\"color: #7f7f7f; text-decoration-color: #7f7f7f\">llm_chat_block.py</span></a><span style=\"color: #7f7f7f; text-decoration-color: #7f7f7f\">:</span><a href=\"file:///Users/shiv/workspace/sdg_hub_add-structured-summary-nb/src/sdg_hub/core/blocks/llm/llm_chat_block.py#329\" target=\"_blank\"><span style=\"color: #7f7f7f; text-decoration-color: #7f7f7f\">329</span></a>\n",
       "</pre>\n"
      ],
      "text/plain": [
       "\u001b[2;36m          \u001b[0m\u001b[2;36m \u001b[0m\u001b[34mINFO    \u001b[0m Starting sync generation for \u001b[1;36m49\u001b[0m samples                                   \u001b]8;id=343567;file:///Users/shiv/workspace/sdg_hub_add-structured-summary-nb/src/sdg_hub/core/blocks/llm/llm_chat_block.py\u001b\\\u001b[2mllm_chat_block.py\u001b[0m\u001b]8;;\u001b\\\u001b[2m:\u001b[0m\u001b]8;id=290626;file:///Users/shiv/workspace/sdg_hub_add-structured-summary-nb/src/sdg_hub/core/blocks/llm/llm_chat_block.py#329\u001b\\\u001b[2m329\u001b[0m\u001b]8;;\u001b\\\n"
      ]
     },
     "metadata": {},
     "output_type": "display_data"
    },
    {
     "data": {
      "text/html": [
       "<pre style=\"white-space:pre;overflow-x:auto;line-height:normal;font-family:Menlo,'DejaVu Sans Mono',consolas,'Courier New',monospace\"><span style=\"color: #7fbfbf; text-decoration-color: #7fbfbf\">[15:26:52] </span><span style=\"color: #000080; text-decoration-color: #000080\">INFO    </span> Generation completed successfully for <span style=\"color: #008080; text-decoration-color: #008080; font-weight: bold\">49</span> samples                          <a href=\"file:///Users/shiv/workspace/sdg_hub_add-structured-summary-nb/src/sdg_hub/core/blocks/llm/llm_chat_block.py\" target=\"_blank\"><span style=\"color: #7f7f7f; text-decoration-color: #7f7f7f\">llm_chat_block.py</span></a><span style=\"color: #7f7f7f; text-decoration-color: #7f7f7f\">:</span><a href=\"file:///Users/shiv/workspace/sdg_hub_add-structured-summary-nb/src/sdg_hub/core/blocks/llm/llm_chat_block.py#393\" target=\"_blank\"><span style=\"color: #7f7f7f; text-decoration-color: #7f7f7f\">393</span></a>\n",
       "</pre>\n"
      ],
      "text/plain": [
       "\u001b[2;36m[15:26:52]\u001b[0m\u001b[2;36m \u001b[0m\u001b[34mINFO    \u001b[0m Generation completed successfully for \u001b[1;36m49\u001b[0m samples                          \u001b]8;id=328107;file:///Users/shiv/workspace/sdg_hub_add-structured-summary-nb/src/sdg_hub/core/blocks/llm/llm_chat_block.py\u001b\\\u001b[2mllm_chat_block.py\u001b[0m\u001b]8;;\u001b\\\u001b[2m:\u001b[0m\u001b]8;id=928899;file:///Users/shiv/workspace/sdg_hub_add-structured-summary-nb/src/sdg_hub/core/blocks/llm/llm_chat_block.py#393\u001b\\\u001b[2m393\u001b[0m\u001b]8;;\u001b\\\n"
      ]
     },
     "metadata": {},
     "output_type": "display_data"
    },
    {
     "data": {
      "text/html": [
       "<pre style=\"white-space:pre;overflow-x:auto;line-height:normal;font-family:Menlo,'DejaVu Sans Mono',consolas,'Courier New',monospace\"><span style=\"color: #008000; text-decoration-color: #008000\">╭─────────────────────────────────────── </span><span style=\"color: #008000; text-decoration-color: #008000; font-weight: bold\">extract_stock_tickers - Complete</span><span style=\"color: #008000; text-decoration-color: #008000\"> ────────────────────────────────────────╮</span>\n",
       "<span style=\"color: #008000; text-decoration-color: #008000\">│</span> <span style=\"color: #008000; text-decoration-color: #008000; font-weight: bold\">✅ Processing Complete</span>                                                                                          <span style=\"color: #008000; text-decoration-color: #008000\">│</span>\n",
       "<span style=\"color: #008000; text-decoration-color: #008000\">│</span> <span style=\"color: #008080; text-decoration-color: #008080\">Rows: 49 → 49</span>                                                                                                   <span style=\"color: #008000; text-decoration-color: #008000\">│</span>\n",
       "<span style=\"color: #008000; text-decoration-color: #008000\">│</span> <span style=\"color: #008080; text-decoration-color: #008080\">Columns: 18 → 19</span>                                                                                                <span style=\"color: #008000; text-decoration-color: #008000\">│</span>\n",
       "<span style=\"color: #008000; text-decoration-color: #008000\">│</span> <span style=\"color: #008000; text-decoration-color: #008000\">🟢 Added: raw_stock_tickers</span>                                                                                     <span style=\"color: #008000; text-decoration-color: #008000\">│</span>\n",
       "<span style=\"color: #008000; text-decoration-color: #008000\">│</span> <span style=\"color: #c0c0c0; text-decoration-color: #c0c0c0\">📋 Final Columns: Date, Headline, Journalists, Link, entities, entities_prompt, keywords, keywords_prompt, </span>     <span style=\"color: #008000; text-decoration-color: #008000\">│</span>\n",
       "<span style=\"color: #008000; text-decoration-color: #008000\">│</span> <span style=\"color: #c0c0c0; text-decoration-color: #c0c0c0\">raw_entities, raw_keywords, raw_sentiment, raw_stock_tickers, raw_summary, sentiment, sentiment_prompt, </span>        <span style=\"color: #008000; text-decoration-color: #008000\">│</span>\n",
       "<span style=\"color: #008000; text-decoration-color: #008000\">│</span> <span style=\"color: #c0c0c0; text-decoration-color: #c0c0c0\">summary, summary_prompt, text, ticker_prompt</span>                                                                    <span style=\"color: #008000; text-decoration-color: #008000\">│</span>\n",
       "<span style=\"color: #008000; text-decoration-color: #008000\">╰─────────────────────────────────────────────────────────────────────────────────────────────────────────────────╯</span>\n",
       "</pre>\n"
      ],
      "text/plain": [
       "\u001b[32m╭─\u001b[0m\u001b[32m──────────────────────────────────────\u001b[0m\u001b[32m \u001b[0m\u001b[1;32mextract_stock_tickers - Complete\u001b[0m\u001b[32m \u001b[0m\u001b[32m───────────────────────────────────────\u001b[0m\u001b[32m─╮\u001b[0m\n",
       "\u001b[32m│\u001b[0m \u001b[1;32m✅ Processing Complete\u001b[0m                                                                                          \u001b[32m│\u001b[0m\n",
       "\u001b[32m│\u001b[0m \u001b[36mRows: 49 → 49\u001b[0m                                                                                                   \u001b[32m│\u001b[0m\n",
       "\u001b[32m│\u001b[0m \u001b[36mColumns: 18 → 19\u001b[0m                                                                                                \u001b[32m│\u001b[0m\n",
       "\u001b[32m│\u001b[0m \u001b[32m🟢 Added: raw_stock_tickers\u001b[0m                                                                                     \u001b[32m│\u001b[0m\n",
       "\u001b[32m│\u001b[0m \u001b[37m📋 Final Columns: Date, Headline, Journalists, Link, entities, entities_prompt, keywords, keywords_prompt, \u001b[0m     \u001b[32m│\u001b[0m\n",
       "\u001b[32m│\u001b[0m \u001b[37mraw_entities, raw_keywords, raw_sentiment, raw_stock_tickers, raw_summary, sentiment, sentiment_prompt, \u001b[0m        \u001b[32m│\u001b[0m\n",
       "\u001b[32m│\u001b[0m \u001b[37msummary, summary_prompt, text, ticker_prompt\u001b[0m                                                                    \u001b[32m│\u001b[0m\n",
       "\u001b[32m╰─────────────────────────────────────────────────────────────────────────────────────────────────────────────────╯\u001b[0m\n"
      ]
     },
     "metadata": {},
     "output_type": "display_data"
    },
    {
     "data": {
      "text/html": [
       "<pre style=\"white-space:pre;overflow-x:auto;line-height:normal;font-family:Menlo,'DejaVu Sans Mono',consolas,'Courier New',monospace\"><span style=\"color: #7fbfbf; text-decoration-color: #7fbfbf\">[15:26:52] </span><span style=\"color: #000080; text-decoration-color: #000080\">INFO    </span> Block <span style=\"color: #008000; text-decoration-color: #008000\">'extract_stock_tickers'</span> completed successfully: <span style=\"color: #008080; text-decoration-color: #008080; font-weight: bold\">49</span> samples, <span style=\"color: #008080; text-decoration-color: #008080; font-weight: bold\">19</span> columns        <a href=\"file:///Users/shiv/workspace/sdg_hub_add-structured-summary-nb/src/sdg_hub/core/flow/base.py\" target=\"_blank\"><span style=\"color: #7f7f7f; text-decoration-color: #7f7f7f\">base.py</span></a><span style=\"color: #7f7f7f; text-decoration-color: #7f7f7f\">:</span><a href=\"file:///Users/shiv/workspace/sdg_hub_add-structured-summary-nb/src/sdg_hub/core/flow/base.py#646\" target=\"_blank\"><span style=\"color: #7f7f7f; text-decoration-color: #7f7f7f\">646</span></a>\n",
       "</pre>\n"
      ],
      "text/plain": [
       "\u001b[2;36m[15:26:52]\u001b[0m\u001b[2;36m \u001b[0m\u001b[34mINFO    \u001b[0m Block \u001b[32m'extract_stock_tickers'\u001b[0m completed successfully: \u001b[1;36m49\u001b[0m samples, \u001b[1;36m19\u001b[0m columns        \u001b]8;id=690225;file:///Users/shiv/workspace/sdg_hub_add-structured-summary-nb/src/sdg_hub/core/flow/base.py\u001b\\\u001b[2mbase.py\u001b[0m\u001b]8;;\u001b\\\u001b[2m:\u001b[0m\u001b]8;id=259462;file:///Users/shiv/workspace/sdg_hub_add-structured-summary-nb/src/sdg_hub/core/flow/base.py#646\u001b\\\u001b[2m646\u001b[0m\u001b]8;;\u001b\\\n"
      ]
     },
     "metadata": {},
     "output_type": "display_data"
    },
    {
     "data": {
      "text/html": [
       "<pre style=\"white-space:pre;overflow-x:auto;line-height:normal;font-family:Menlo,'DejaVu Sans Mono',consolas,'Courier New',monospace\"><span style=\"color: #7fbfbf; text-decoration-color: #7fbfbf\">           </span><span style=\"color: #000080; text-decoration-color: #000080\">INFO    </span> Executing block <span style=\"color: #008080; text-decoration-color: #008080; font-weight: bold\">15</span>/<span style=\"color: #008080; text-decoration-color: #008080; font-weight: bold\">16</span>: parse_stock_tickers <span style=\"font-weight: bold\">(</span>TextParserBlock<span style=\"font-weight: bold\">)</span>                        <a href=\"file:///Users/shiv/workspace/sdg_hub_add-structured-summary-nb/src/sdg_hub/core/flow/base.py\" target=\"_blank\"><span style=\"color: #7f7f7f; text-decoration-color: #7f7f7f\">base.py</span></a><span style=\"color: #7f7f7f; text-decoration-color: #7f7f7f\">:</span><a href=\"file:///Users/shiv/workspace/sdg_hub_add-structured-summary-nb/src/sdg_hub/core/flow/base.py#610\" target=\"_blank\"><span style=\"color: #7f7f7f; text-decoration-color: #7f7f7f\">610</span></a>\n",
       "</pre>\n"
      ],
      "text/plain": [
       "\u001b[2;36m          \u001b[0m\u001b[2;36m \u001b[0m\u001b[34mINFO    \u001b[0m Executing block \u001b[1;36m15\u001b[0m/\u001b[1;36m16\u001b[0m: parse_stock_tickers \u001b[1m(\u001b[0mTextParserBlock\u001b[1m)\u001b[0m                        \u001b]8;id=535995;file:///Users/shiv/workspace/sdg_hub_add-structured-summary-nb/src/sdg_hub/core/flow/base.py\u001b\\\u001b[2mbase.py\u001b[0m\u001b]8;;\u001b\\\u001b[2m:\u001b[0m\u001b]8;id=95811;file:///Users/shiv/workspace/sdg_hub_add-structured-summary-nb/src/sdg_hub/core/flow/base.py#610\u001b\\\u001b[2m610\u001b[0m\u001b]8;;\u001b\\\n"
      ]
     },
     "metadata": {},
     "output_type": "display_data"
    },
    {
     "data": {
      "text/html": [
       "<pre style=\"white-space:pre;overflow-x:auto;line-height:normal;font-family:Menlo,'DejaVu Sans Mono',consolas,'Courier New',monospace\"><span style=\"color: #000080; text-decoration-color: #000080\">╭────────────────────────────────────────────── </span><span style=\"color: #000080; text-decoration-color: #000080; font-weight: bold\">parse_stock_tickers</span><span style=\"color: #000080; text-decoration-color: #000080\"> ──────────────────────────────────────────────╮</span>\n",
       "<span style=\"color: #000080; text-decoration-color: #000080\">│</span> <span style=\"color: #000080; text-decoration-color: #000080; font-weight: bold\">📊 Processing Input Data</span>                                                                                        <span style=\"color: #000080; text-decoration-color: #000080\">│</span>\n",
       "<span style=\"color: #000080; text-decoration-color: #000080\">│</span> <span style=\"color: #008080; text-decoration-color: #008080\">Block Type: TextParserBlock</span>                                                                                     <span style=\"color: #000080; text-decoration-color: #000080\">│</span>\n",
       "<span style=\"color: #000080; text-decoration-color: #000080\">│</span> <span style=\"color: #008080; text-decoration-color: #008080; font-weight: bold\">Input Rows: 49</span>                                                                                                  <span style=\"color: #000080; text-decoration-color: #000080\">│</span>\n",
       "<span style=\"color: #000080; text-decoration-color: #000080\">│</span> <span style=\"color: #008080; text-decoration-color: #008080\">Input Columns: 19</span>                                                                                               <span style=\"color: #000080; text-decoration-color: #000080\">│</span>\n",
       "<span style=\"color: #000080; text-decoration-color: #000080\">│</span> <span style=\"color: #c0c0c0; text-decoration-color: #c0c0c0\">Column Names: Headline, Journalists, Date, Link, text, summary_prompt, raw_summary, summary, keywords_prompt, </span>  <span style=\"color: #000080; text-decoration-color: #000080\">│</span>\n",
       "<span style=\"color: #000080; text-decoration-color: #000080\">│</span> <span style=\"color: #c0c0c0; text-decoration-color: #c0c0c0\">raw_keywords, keywords, entities_prompt, raw_entities, entities, sentiment_prompt, raw_sentiment, sentiment, </span>   <span style=\"color: #000080; text-decoration-color: #000080\">│</span>\n",
       "<span style=\"color: #000080; text-decoration-color: #000080\">│</span> <span style=\"color: #c0c0c0; text-decoration-color: #c0c0c0\">ticker_prompt, raw_stock_tickers</span>                                                                                <span style=\"color: #000080; text-decoration-color: #000080\">│</span>\n",
       "<span style=\"color: #000080; text-decoration-color: #000080\">│</span> <span style=\"color: #008000; text-decoration-color: #008000\">Expected Output Columns: stock_tickers</span>                                                                          <span style=\"color: #000080; text-decoration-color: #000080\">│</span>\n",
       "<span style=\"color: #000080; text-decoration-color: #000080\">╰─────────────────────────────────────────────────────────────────────────────────────────────────────────────────╯</span>\n",
       "</pre>\n"
      ],
      "text/plain": [
       "\u001b[34m╭─\u001b[0m\u001b[34m─────────────────────────────────────────────\u001b[0m\u001b[34m \u001b[0m\u001b[1;34mparse_stock_tickers\u001b[0m\u001b[34m \u001b[0m\u001b[34m─────────────────────────────────────────────\u001b[0m\u001b[34m─╮\u001b[0m\n",
       "\u001b[34m│\u001b[0m \u001b[1;34m📊 Processing Input Data\u001b[0m                                                                                        \u001b[34m│\u001b[0m\n",
       "\u001b[34m│\u001b[0m \u001b[36mBlock Type: TextParserBlock\u001b[0m                                                                                     \u001b[34m│\u001b[0m\n",
       "\u001b[34m│\u001b[0m \u001b[1;36mInput Rows: 49\u001b[0m                                                                                                  \u001b[34m│\u001b[0m\n",
       "\u001b[34m│\u001b[0m \u001b[36mInput Columns: 19\u001b[0m                                                                                               \u001b[34m│\u001b[0m\n",
       "\u001b[34m│\u001b[0m \u001b[37mColumn Names: Headline, Journalists, Date, Link, text, summary_prompt, raw_summary, summary, keywords_prompt, \u001b[0m  \u001b[34m│\u001b[0m\n",
       "\u001b[34m│\u001b[0m \u001b[37mraw_keywords, keywords, entities_prompt, raw_entities, entities, sentiment_prompt, raw_sentiment, sentiment, \u001b[0m   \u001b[34m│\u001b[0m\n",
       "\u001b[34m│\u001b[0m \u001b[37mticker_prompt, raw_stock_tickers\u001b[0m                                                                                \u001b[34m│\u001b[0m\n",
       "\u001b[34m│\u001b[0m \u001b[32mExpected Output Columns: stock_tickers\u001b[0m                                                                          \u001b[34m│\u001b[0m\n",
       "\u001b[34m╰─────────────────────────────────────────────────────────────────────────────────────────────────────────────────╯\u001b[0m\n"
      ]
     },
     "metadata": {},
     "output_type": "display_data"
    },
    {
     "data": {
      "text/html": [
       "<pre style=\"white-space:pre;overflow-x:auto;line-height:normal;font-family:Menlo,'DejaVu Sans Mono',consolas,'Courier New',monospace\"><span style=\"color: #7fbfbf; text-decoration-color: #7fbfbf\">[15:26:52] </span><span style=\"color: #808000; text-decoration-color: #808000\">WARNING </span> Failed to parse any content from input. Raw output length: <span style=\"color: #008080; text-decoration-color: #008080; font-weight: bold\">4</span>, parsing  <a href=\"file:///Users/shiv/workspace/sdg_hub_add-structured-summary-nb/src/sdg_hub/core/blocks/llm/text_parser_block.py\" target=\"_blank\"><span style=\"color: #7f7f7f; text-decoration-color: #7f7f7f\">text_parser_block.py</span></a><span style=\"color: #7f7f7f; text-decoration-color: #7f7f7f\">:</span><a href=\"file:///Users/shiv/workspace/sdg_hub_add-structured-summary-nb/src/sdg_hub/core/blocks/llm/text_parser_block.py#385\" target=\"_blank\"><span style=\"color: #7f7f7f; text-decoration-color: #7f7f7f\">385</span></a>\n",
       "<span style=\"color: #7fbfbf; text-decoration-color: #7fbfbf\">           </span>         method: tags                                                           <span style=\"color: #7f7f7f; text-decoration-color: #7f7f7f\">                        </span>\n",
       "</pre>\n"
      ],
      "text/plain": [
       "\u001b[2;36m[15:26:52]\u001b[0m\u001b[2;36m \u001b[0m\u001b[33mWARNING \u001b[0m Failed to parse any content from input. Raw output length: \u001b[1;36m4\u001b[0m, parsing  \u001b]8;id=421317;file:///Users/shiv/workspace/sdg_hub_add-structured-summary-nb/src/sdg_hub/core/blocks/llm/text_parser_block.py\u001b\\\u001b[2mtext_parser_block.py\u001b[0m\u001b]8;;\u001b\\\u001b[2m:\u001b[0m\u001b]8;id=894749;file:///Users/shiv/workspace/sdg_hub_add-structured-summary-nb/src/sdg_hub/core/blocks/llm/text_parser_block.py#385\u001b\\\u001b[2m385\u001b[0m\u001b]8;;\u001b\\\n",
       "\u001b[2;36m           \u001b[0m         method: tags                                                           \u001b[2m                        \u001b[0m\n"
      ]
     },
     "metadata": {},
     "output_type": "display_data"
    },
    {
     "data": {
      "text/html": [
       "<pre style=\"white-space:pre;overflow-x:auto;line-height:normal;font-family:Menlo,'DejaVu Sans Mono',consolas,'Courier New',monospace\"><span style=\"color: #7fbfbf; text-decoration-color: #7fbfbf\">           </span><span style=\"color: #808000; text-decoration-color: #808000\">WARNING </span> Failed to parse any content from input. Raw output length: <span style=\"color: #008080; text-decoration-color: #008080; font-weight: bold\">4</span>, parsing  <a href=\"file:///Users/shiv/workspace/sdg_hub_add-structured-summary-nb/src/sdg_hub/core/blocks/llm/text_parser_block.py\" target=\"_blank\"><span style=\"color: #7f7f7f; text-decoration-color: #7f7f7f\">text_parser_block.py</span></a><span style=\"color: #7f7f7f; text-decoration-color: #7f7f7f\">:</span><a href=\"file:///Users/shiv/workspace/sdg_hub_add-structured-summary-nb/src/sdg_hub/core/blocks/llm/text_parser_block.py#385\" target=\"_blank\"><span style=\"color: #7f7f7f; text-decoration-color: #7f7f7f\">385</span></a>\n",
       "<span style=\"color: #7fbfbf; text-decoration-color: #7fbfbf\">           </span>         method: tags                                                           <span style=\"color: #7f7f7f; text-decoration-color: #7f7f7f\">                        </span>\n",
       "</pre>\n"
      ],
      "text/plain": [
       "\u001b[2;36m          \u001b[0m\u001b[2;36m \u001b[0m\u001b[33mWARNING \u001b[0m Failed to parse any content from input. Raw output length: \u001b[1;36m4\u001b[0m, parsing  \u001b]8;id=591022;file:///Users/shiv/workspace/sdg_hub_add-structured-summary-nb/src/sdg_hub/core/blocks/llm/text_parser_block.py\u001b\\\u001b[2mtext_parser_block.py\u001b[0m\u001b]8;;\u001b\\\u001b[2m:\u001b[0m\u001b]8;id=721478;file:///Users/shiv/workspace/sdg_hub_add-structured-summary-nb/src/sdg_hub/core/blocks/llm/text_parser_block.py#385\u001b\\\u001b[2m385\u001b[0m\u001b]8;;\u001b\\\n",
       "\u001b[2;36m           \u001b[0m         method: tags                                                           \u001b[2m                        \u001b[0m\n"
      ]
     },
     "metadata": {},
     "output_type": "display_data"
    },
    {
     "data": {
      "text/html": [
       "<pre style=\"white-space:pre;overflow-x:auto;line-height:normal;font-family:Menlo,'DejaVu Sans Mono',consolas,'Courier New',monospace\"><span style=\"color: #7fbfbf; text-decoration-color: #7fbfbf\">           </span><span style=\"color: #808000; text-decoration-color: #808000\">WARNING </span> Failed to parse any content from input. Raw output length: <span style=\"color: #008080; text-decoration-color: #008080; font-weight: bold\">4</span>, parsing  <a href=\"file:///Users/shiv/workspace/sdg_hub_add-structured-summary-nb/src/sdg_hub/core/blocks/llm/text_parser_block.py\" target=\"_blank\"><span style=\"color: #7f7f7f; text-decoration-color: #7f7f7f\">text_parser_block.py</span></a><span style=\"color: #7f7f7f; text-decoration-color: #7f7f7f\">:</span><a href=\"file:///Users/shiv/workspace/sdg_hub_add-structured-summary-nb/src/sdg_hub/core/blocks/llm/text_parser_block.py#385\" target=\"_blank\"><span style=\"color: #7f7f7f; text-decoration-color: #7f7f7f\">385</span></a>\n",
       "<span style=\"color: #7fbfbf; text-decoration-color: #7fbfbf\">           </span>         method: tags                                                           <span style=\"color: #7f7f7f; text-decoration-color: #7f7f7f\">                        </span>\n",
       "</pre>\n"
      ],
      "text/plain": [
       "\u001b[2;36m          \u001b[0m\u001b[2;36m \u001b[0m\u001b[33mWARNING \u001b[0m Failed to parse any content from input. Raw output length: \u001b[1;36m4\u001b[0m, parsing  \u001b]8;id=196436;file:///Users/shiv/workspace/sdg_hub_add-structured-summary-nb/src/sdg_hub/core/blocks/llm/text_parser_block.py\u001b\\\u001b[2mtext_parser_block.py\u001b[0m\u001b]8;;\u001b\\\u001b[2m:\u001b[0m\u001b]8;id=913906;file:///Users/shiv/workspace/sdg_hub_add-structured-summary-nb/src/sdg_hub/core/blocks/llm/text_parser_block.py#385\u001b\\\u001b[2m385\u001b[0m\u001b]8;;\u001b\\\n",
       "\u001b[2;36m           \u001b[0m         method: tags                                                           \u001b[2m                        \u001b[0m\n"
      ]
     },
     "metadata": {},
     "output_type": "display_data"
    },
    {
     "data": {
      "text/html": [
       "<pre style=\"white-space:pre;overflow-x:auto;line-height:normal;font-family:Menlo,'DejaVu Sans Mono',consolas,'Courier New',monospace\"><span style=\"color: #008000; text-decoration-color: #008000\">╭──────────────────────────────────────── </span><span style=\"color: #008000; text-decoration-color: #008000; font-weight: bold\">parse_stock_tickers - Complete</span><span style=\"color: #008000; text-decoration-color: #008000\"> ─────────────────────────────────────────╮</span>\n",
       "<span style=\"color: #008000; text-decoration-color: #008000\">│</span> <span style=\"color: #008000; text-decoration-color: #008000; font-weight: bold\">✅ Processing Complete</span>                                                                                          <span style=\"color: #008000; text-decoration-color: #008000\">│</span>\n",
       "<span style=\"color: #008000; text-decoration-color: #008000\">│</span> <span style=\"color: #008080; text-decoration-color: #008080\">Rows: 49 → 46</span>                                                                                                   <span style=\"color: #008000; text-decoration-color: #008000\">│</span>\n",
       "<span style=\"color: #008000; text-decoration-color: #008000\">│</span> <span style=\"color: #008080; text-decoration-color: #008080\">Columns: 19 → 20</span>                                                                                                <span style=\"color: #008000; text-decoration-color: #008000\">│</span>\n",
       "<span style=\"color: #008000; text-decoration-color: #008000\">│</span> <span style=\"color: #008000; text-decoration-color: #008000\">🟢 Added: stock_tickers</span>                                                                                         <span style=\"color: #008000; text-decoration-color: #008000\">│</span>\n",
       "<span style=\"color: #008000; text-decoration-color: #008000\">│</span> <span style=\"color: #c0c0c0; text-decoration-color: #c0c0c0\">📋 Final Columns: Date, Headline, Journalists, Link, entities, entities_prompt, keywords, keywords_prompt, </span>     <span style=\"color: #008000; text-decoration-color: #008000\">│</span>\n",
       "<span style=\"color: #008000; text-decoration-color: #008000\">│</span> <span style=\"color: #c0c0c0; text-decoration-color: #c0c0c0\">raw_entities, raw_keywords, raw_sentiment, raw_stock_tickers, raw_summary, sentiment, sentiment_prompt, </span>        <span style=\"color: #008000; text-decoration-color: #008000\">│</span>\n",
       "<span style=\"color: #008000; text-decoration-color: #008000\">│</span> <span style=\"color: #c0c0c0; text-decoration-color: #c0c0c0\">stock_tickers, summary, summary_prompt, text, ticker_prompt</span>                                                     <span style=\"color: #008000; text-decoration-color: #008000\">│</span>\n",
       "<span style=\"color: #008000; text-decoration-color: #008000\">╰─────────────────────────────────────────────────────────────────────────────────────────────────────────────────╯</span>\n",
       "</pre>\n"
      ],
      "text/plain": [
       "\u001b[32m╭─\u001b[0m\u001b[32m───────────────────────────────────────\u001b[0m\u001b[32m \u001b[0m\u001b[1;32mparse_stock_tickers - Complete\u001b[0m\u001b[32m \u001b[0m\u001b[32m────────────────────────────────────────\u001b[0m\u001b[32m─╮\u001b[0m\n",
       "\u001b[32m│\u001b[0m \u001b[1;32m✅ Processing Complete\u001b[0m                                                                                          \u001b[32m│\u001b[0m\n",
       "\u001b[32m│\u001b[0m \u001b[36mRows: 49 → 46\u001b[0m                                                                                                   \u001b[32m│\u001b[0m\n",
       "\u001b[32m│\u001b[0m \u001b[36mColumns: 19 → 20\u001b[0m                                                                                                \u001b[32m│\u001b[0m\n",
       "\u001b[32m│\u001b[0m \u001b[32m🟢 Added: stock_tickers\u001b[0m                                                                                         \u001b[32m│\u001b[0m\n",
       "\u001b[32m│\u001b[0m \u001b[37m📋 Final Columns: Date, Headline, Journalists, Link, entities, entities_prompt, keywords, keywords_prompt, \u001b[0m     \u001b[32m│\u001b[0m\n",
       "\u001b[32m│\u001b[0m \u001b[37mraw_entities, raw_keywords, raw_sentiment, raw_stock_tickers, raw_summary, sentiment, sentiment_prompt, \u001b[0m        \u001b[32m│\u001b[0m\n",
       "\u001b[32m│\u001b[0m \u001b[37mstock_tickers, summary, summary_prompt, text, ticker_prompt\u001b[0m                                                     \u001b[32m│\u001b[0m\n",
       "\u001b[32m╰─────────────────────────────────────────────────────────────────────────────────────────────────────────────────╯\u001b[0m\n"
      ]
     },
     "metadata": {},
     "output_type": "display_data"
    },
    {
     "data": {
      "text/html": [
       "<pre style=\"white-space:pre;overflow-x:auto;line-height:normal;font-family:Menlo,'DejaVu Sans Mono',consolas,'Courier New',monospace\"><span style=\"color: #7fbfbf; text-decoration-color: #7fbfbf\">           </span><span style=\"color: #000080; text-decoration-color: #000080\">INFO    </span> Block <span style=\"color: #008000; text-decoration-color: #008000\">'parse_stock_tickers'</span> completed successfully: <span style=\"color: #008080; text-decoration-color: #008080; font-weight: bold\">46</span> samples, <span style=\"color: #008080; text-decoration-color: #008080; font-weight: bold\">20</span> columns          <a href=\"file:///Users/shiv/workspace/sdg_hub_add-structured-summary-nb/src/sdg_hub/core/flow/base.py\" target=\"_blank\"><span style=\"color: #7f7f7f; text-decoration-color: #7f7f7f\">base.py</span></a><span style=\"color: #7f7f7f; text-decoration-color: #7f7f7f\">:</span><a href=\"file:///Users/shiv/workspace/sdg_hub_add-structured-summary-nb/src/sdg_hub/core/flow/base.py#646\" target=\"_blank\"><span style=\"color: #7f7f7f; text-decoration-color: #7f7f7f\">646</span></a>\n",
       "</pre>\n"
      ],
      "text/plain": [
       "\u001b[2;36m          \u001b[0m\u001b[2;36m \u001b[0m\u001b[34mINFO    \u001b[0m Block \u001b[32m'parse_stock_tickers'\u001b[0m completed successfully: \u001b[1;36m46\u001b[0m samples, \u001b[1;36m20\u001b[0m columns          \u001b]8;id=575880;file:///Users/shiv/workspace/sdg_hub_add-structured-summary-nb/src/sdg_hub/core/flow/base.py\u001b\\\u001b[2mbase.py\u001b[0m\u001b]8;;\u001b\\\u001b[2m:\u001b[0m\u001b]8;id=523049;file:///Users/shiv/workspace/sdg_hub_add-structured-summary-nb/src/sdg_hub/core/flow/base.py#646\u001b\\\u001b[2m646\u001b[0m\u001b]8;;\u001b\\\n"
      ]
     },
     "metadata": {},
     "output_type": "display_data"
    },
    {
     "data": {
      "text/html": [
       "<pre style=\"white-space:pre;overflow-x:auto;line-height:normal;font-family:Menlo,'DejaVu Sans Mono',consolas,'Courier New',monospace\"><span style=\"color: #7fbfbf; text-decoration-color: #7fbfbf\">           </span><span style=\"color: #000080; text-decoration-color: #000080\">INFO    </span> Executing block <span style=\"color: #008080; text-decoration-color: #008080; font-weight: bold\">16</span>/<span style=\"color: #008080; text-decoration-color: #008080; font-weight: bold\">16</span>: create_enhanced_structured_insights <span style=\"font-weight: bold\">(</span>JSONStructureBlock<span style=\"font-weight: bold\">)</span>     <a href=\"file:///Users/shiv/workspace/sdg_hub_add-structured-summary-nb/src/sdg_hub/core/flow/base.py\" target=\"_blank\"><span style=\"color: #7f7f7f; text-decoration-color: #7f7f7f\">base.py</span></a><span style=\"color: #7f7f7f; text-decoration-color: #7f7f7f\">:</span><a href=\"file:///Users/shiv/workspace/sdg_hub_add-structured-summary-nb/src/sdg_hub/core/flow/base.py#610\" target=\"_blank\"><span style=\"color: #7f7f7f; text-decoration-color: #7f7f7f\">610</span></a>\n",
       "</pre>\n"
      ],
      "text/plain": [
       "\u001b[2;36m          \u001b[0m\u001b[2;36m \u001b[0m\u001b[34mINFO    \u001b[0m Executing block \u001b[1;36m16\u001b[0m/\u001b[1;36m16\u001b[0m: create_enhanced_structured_insights \u001b[1m(\u001b[0mJSONStructureBlock\u001b[1m)\u001b[0m     \u001b]8;id=393540;file:///Users/shiv/workspace/sdg_hub_add-structured-summary-nb/src/sdg_hub/core/flow/base.py\u001b\\\u001b[2mbase.py\u001b[0m\u001b]8;;\u001b\\\u001b[2m:\u001b[0m\u001b]8;id=589643;file:///Users/shiv/workspace/sdg_hub_add-structured-summary-nb/src/sdg_hub/core/flow/base.py#610\u001b\\\u001b[2m610\u001b[0m\u001b]8;;\u001b\\\n"
      ]
     },
     "metadata": {},
     "output_type": "display_data"
    },
    {
     "data": {
      "text/html": [
       "<pre style=\"white-space:pre;overflow-x:auto;line-height:normal;font-family:Menlo,'DejaVu Sans Mono',consolas,'Courier New',monospace\"><span style=\"color: #000080; text-decoration-color: #000080\">╭────────────────────────────────────── </span><span style=\"color: #000080; text-decoration-color: #000080; font-weight: bold\">create_enhanced_structured_insights</span><span style=\"color: #000080; text-decoration-color: #000080\"> ──────────────────────────────────────╮</span>\n",
       "<span style=\"color: #000080; text-decoration-color: #000080\">│</span> <span style=\"color: #000080; text-decoration-color: #000080; font-weight: bold\">📊 Processing Input Data</span>                                                                                        <span style=\"color: #000080; text-decoration-color: #000080\">│</span>\n",
       "<span style=\"color: #000080; text-decoration-color: #000080\">│</span> <span style=\"color: #008080; text-decoration-color: #008080\">Block Type: JSONStructureBlock</span>                                                                                  <span style=\"color: #000080; text-decoration-color: #000080\">│</span>\n",
       "<span style=\"color: #000080; text-decoration-color: #000080\">│</span> <span style=\"color: #008080; text-decoration-color: #008080; font-weight: bold\">Input Rows: 46</span>                                                                                                  <span style=\"color: #000080; text-decoration-color: #000080\">│</span>\n",
       "<span style=\"color: #000080; text-decoration-color: #000080\">│</span> <span style=\"color: #008080; text-decoration-color: #008080\">Input Columns: 20</span>                                                                                               <span style=\"color: #000080; text-decoration-color: #000080\">│</span>\n",
       "<span style=\"color: #000080; text-decoration-color: #000080\">│</span> <span style=\"color: #c0c0c0; text-decoration-color: #c0c0c0\">Column Names: Headline, Journalists, Date, Link, text, summary_prompt, raw_summary, summary, keywords_prompt, </span>  <span style=\"color: #000080; text-decoration-color: #000080\">│</span>\n",
       "<span style=\"color: #000080; text-decoration-color: #000080\">│</span> <span style=\"color: #c0c0c0; text-decoration-color: #c0c0c0\">raw_keywords, keywords, entities_prompt, raw_entities, entities, sentiment_prompt, raw_sentiment, sentiment, </span>   <span style=\"color: #000080; text-decoration-color: #000080\">│</span>\n",
       "<span style=\"color: #000080; text-decoration-color: #000080\">│</span> <span style=\"color: #c0c0c0; text-decoration-color: #c0c0c0\">ticker_prompt, raw_stock_tickers, stock_tickers</span>                                                                 <span style=\"color: #000080; text-decoration-color: #000080\">│</span>\n",
       "<span style=\"color: #000080; text-decoration-color: #000080\">│</span> <span style=\"color: #008000; text-decoration-color: #008000\">Expected Output Columns: enhanced_structured_insights</span>                                                           <span style=\"color: #000080; text-decoration-color: #000080\">│</span>\n",
       "<span style=\"color: #000080; text-decoration-color: #000080\">╰─────────────────────────────────────────────────────────────────────────────────────────────────────────────────╯</span>\n",
       "</pre>\n"
      ],
      "text/plain": [
       "\u001b[34m╭─\u001b[0m\u001b[34m─────────────────────────────────────\u001b[0m\u001b[34m \u001b[0m\u001b[1;34mcreate_enhanced_structured_insights\u001b[0m\u001b[34m \u001b[0m\u001b[34m─────────────────────────────────────\u001b[0m\u001b[34m─╮\u001b[0m\n",
       "\u001b[34m│\u001b[0m \u001b[1;34m📊 Processing Input Data\u001b[0m                                                                                        \u001b[34m│\u001b[0m\n",
       "\u001b[34m│\u001b[0m \u001b[36mBlock Type: JSONStructureBlock\u001b[0m                                                                                  \u001b[34m│\u001b[0m\n",
       "\u001b[34m│\u001b[0m \u001b[1;36mInput Rows: 46\u001b[0m                                                                                                  \u001b[34m│\u001b[0m\n",
       "\u001b[34m│\u001b[0m \u001b[36mInput Columns: 20\u001b[0m                                                                                               \u001b[34m│\u001b[0m\n",
       "\u001b[34m│\u001b[0m \u001b[37mColumn Names: Headline, Journalists, Date, Link, text, summary_prompt, raw_summary, summary, keywords_prompt, \u001b[0m  \u001b[34m│\u001b[0m\n",
       "\u001b[34m│\u001b[0m \u001b[37mraw_keywords, keywords, entities_prompt, raw_entities, entities, sentiment_prompt, raw_sentiment, sentiment, \u001b[0m   \u001b[34m│\u001b[0m\n",
       "\u001b[34m│\u001b[0m \u001b[37mticker_prompt, raw_stock_tickers, stock_tickers\u001b[0m                                                                 \u001b[34m│\u001b[0m\n",
       "\u001b[34m│\u001b[0m \u001b[32mExpected Output Columns: enhanced_structured_insights\u001b[0m                                                           \u001b[34m│\u001b[0m\n",
       "\u001b[34m╰─────────────────────────────────────────────────────────────────────────────────────────────────────────────────╯\u001b[0m\n"
      ]
     },
     "metadata": {},
     "output_type": "display_data"
    },
    {
     "name": "stderr",
     "output_type": "stream",
     "text": [
      "Map: 100%|██████████| 46/46 [00:00<00:00, 4345.74 examples/s]\n"
     ]
    },
    {
     "data": {
      "text/html": [
       "<pre style=\"white-space:pre;overflow-x:auto;line-height:normal;font-family:Menlo,'DejaVu Sans Mono',consolas,'Courier New',monospace\"><span style=\"color: #008000; text-decoration-color: #008000\">╭──────────────────────────────── </span><span style=\"color: #008000; text-decoration-color: #008000; font-weight: bold\">create_enhanced_structured_insights - Complete</span><span style=\"color: #008000; text-decoration-color: #008000\"> ─────────────────────────────────╮</span>\n",
       "<span style=\"color: #008000; text-decoration-color: #008000\">│</span> <span style=\"color: #008000; text-decoration-color: #008000; font-weight: bold\">✅ Processing Complete</span>                                                                                          <span style=\"color: #008000; text-decoration-color: #008000\">│</span>\n",
       "<span style=\"color: #008000; text-decoration-color: #008000\">│</span> <span style=\"color: #008080; text-decoration-color: #008080\">Rows: 46 → 46</span>                                                                                                   <span style=\"color: #008000; text-decoration-color: #008000\">│</span>\n",
       "<span style=\"color: #008000; text-decoration-color: #008000\">│</span> <span style=\"color: #008080; text-decoration-color: #008080\">Columns: 20 → 21</span>                                                                                                <span style=\"color: #008000; text-decoration-color: #008000\">│</span>\n",
       "<span style=\"color: #008000; text-decoration-color: #008000\">│</span> <span style=\"color: #008000; text-decoration-color: #008000\">🟢 Added: enhanced_structured_insights</span>                                                                          <span style=\"color: #008000; text-decoration-color: #008000\">│</span>\n",
       "<span style=\"color: #008000; text-decoration-color: #008000\">│</span> <span style=\"color: #c0c0c0; text-decoration-color: #c0c0c0\">📋 Final Columns: Date, Headline, Journalists, Link, enhanced_structured_insights, entities, entities_prompt, </span>  <span style=\"color: #008000; text-decoration-color: #008000\">│</span>\n",
       "<span style=\"color: #008000; text-decoration-color: #008000\">│</span> <span style=\"color: #c0c0c0; text-decoration-color: #c0c0c0\">keywords, keywords_prompt, raw_entities, raw_keywords, raw_sentiment, raw_stock_tickers, raw_summary, </span>          <span style=\"color: #008000; text-decoration-color: #008000\">│</span>\n",
       "<span style=\"color: #008000; text-decoration-color: #008000\">│</span> <span style=\"color: #c0c0c0; text-decoration-color: #c0c0c0\">sentiment, sentiment_prompt, stock_tickers, summary, summary_prompt, text, ticker_prompt</span>                        <span style=\"color: #008000; text-decoration-color: #008000\">│</span>\n",
       "<span style=\"color: #008000; text-decoration-color: #008000\">╰─────────────────────────────────────────────────────────────────────────────────────────────────────────────────╯</span>\n",
       "</pre>\n"
      ],
      "text/plain": [
       "\u001b[32m╭─\u001b[0m\u001b[32m───────────────────────────────\u001b[0m\u001b[32m \u001b[0m\u001b[1;32mcreate_enhanced_structured_insights - Complete\u001b[0m\u001b[32m \u001b[0m\u001b[32m────────────────────────────────\u001b[0m\u001b[32m─╮\u001b[0m\n",
       "\u001b[32m│\u001b[0m \u001b[1;32m✅ Processing Complete\u001b[0m                                                                                          \u001b[32m│\u001b[0m\n",
       "\u001b[32m│\u001b[0m \u001b[36mRows: 46 → 46\u001b[0m                                                                                                   \u001b[32m│\u001b[0m\n",
       "\u001b[32m│\u001b[0m \u001b[36mColumns: 20 → 21\u001b[0m                                                                                                \u001b[32m│\u001b[0m\n",
       "\u001b[32m│\u001b[0m \u001b[32m🟢 Added: enhanced_structured_insights\u001b[0m                                                                          \u001b[32m│\u001b[0m\n",
       "\u001b[32m│\u001b[0m \u001b[37m📋 Final Columns: Date, Headline, Journalists, Link, enhanced_structured_insights, entities, entities_prompt, \u001b[0m  \u001b[32m│\u001b[0m\n",
       "\u001b[32m│\u001b[0m \u001b[37mkeywords, keywords_prompt, raw_entities, raw_keywords, raw_sentiment, raw_stock_tickers, raw_summary, \u001b[0m          \u001b[32m│\u001b[0m\n",
       "\u001b[32m│\u001b[0m \u001b[37msentiment, sentiment_prompt, stock_tickers, summary, summary_prompt, text, ticker_prompt\u001b[0m                        \u001b[32m│\u001b[0m\n",
       "\u001b[32m╰─────────────────────────────────────────────────────────────────────────────────────────────────────────────────╯\u001b[0m\n"
      ]
     },
     "metadata": {},
     "output_type": "display_data"
    },
    {
     "data": {
      "text/html": [
       "<pre style=\"white-space:pre;overflow-x:auto;line-height:normal;font-family:Menlo,'DejaVu Sans Mono',consolas,'Courier New',monospace\"><span style=\"color: #7fbfbf; text-decoration-color: #7fbfbf\">           </span><span style=\"color: #000080; text-decoration-color: #000080\">INFO    </span> Block <span style=\"color: #008000; text-decoration-color: #008000\">'create_enhanced_structured_insights'</span> completed successfully: <span style=\"color: #008080; text-decoration-color: #008080; font-weight: bold\">46</span> samples, <span style=\"color: #008080; text-decoration-color: #008080; font-weight: bold\">21</span>  <a href=\"file:///Users/shiv/workspace/sdg_hub_add-structured-summary-nb/src/sdg_hub/core/flow/base.py\" target=\"_blank\"><span style=\"color: #7f7f7f; text-decoration-color: #7f7f7f\">base.py</span></a><span style=\"color: #7f7f7f; text-decoration-color: #7f7f7f\">:</span><a href=\"file:///Users/shiv/workspace/sdg_hub_add-structured-summary-nb/src/sdg_hub/core/flow/base.py#646\" target=\"_blank\"><span style=\"color: #7f7f7f; text-decoration-color: #7f7f7f\">646</span></a>\n",
       "<span style=\"color: #7fbfbf; text-decoration-color: #7fbfbf\">           </span>         columns                                                                             <span style=\"color: #7f7f7f; text-decoration-color: #7f7f7f\">           </span>\n",
       "</pre>\n"
      ],
      "text/plain": [
       "\u001b[2;36m          \u001b[0m\u001b[2;36m \u001b[0m\u001b[34mINFO    \u001b[0m Block \u001b[32m'create_enhanced_structured_insights'\u001b[0m completed successfully: \u001b[1;36m46\u001b[0m samples, \u001b[1;36m21\u001b[0m  \u001b]8;id=519964;file:///Users/shiv/workspace/sdg_hub_add-structured-summary-nb/src/sdg_hub/core/flow/base.py\u001b\\\u001b[2mbase.py\u001b[0m\u001b]8;;\u001b\\\u001b[2m:\u001b[0m\u001b]8;id=373559;file:///Users/shiv/workspace/sdg_hub_add-structured-summary-nb/src/sdg_hub/core/flow/base.py#646\u001b\\\u001b[2m646\u001b[0m\u001b]8;;\u001b\\\n",
       "\u001b[2;36m           \u001b[0m         columns                                                                             \u001b[2m           \u001b[0m\n"
      ]
     },
     "metadata": {},
     "output_type": "display_data"
    },
    {
     "data": {
      "text/html": [
       "<pre style=\"white-space:pre;overflow-x:auto;line-height:normal;font-family:Menlo,'DejaVu Sans Mono',consolas,'Courier New',monospace\"><span style=\"color: #7fbfbf; text-decoration-color: #7fbfbf\">           </span><span style=\"color: #000080; text-decoration-color: #000080\">INFO    </span> Flow <span style=\"color: #008000; text-decoration-color: #008000\">'Structured Text Insights Extraction Flow'</span> completed successfully: <span style=\"color: #008080; text-decoration-color: #008080; font-weight: bold\">46</span> final    <a href=\"file:///Users/shiv/workspace/sdg_hub_add-structured-summary-nb/src/sdg_hub/core/flow/base.py\" target=\"_blank\"><span style=\"color: #7f7f7f; text-decoration-color: #7f7f7f\">base.py</span></a><span style=\"color: #7f7f7f; text-decoration-color: #7f7f7f\">:</span><a href=\"file:///Users/shiv/workspace/sdg_hub_add-structured-summary-nb/src/sdg_hub/core/flow/base.py#571\" target=\"_blank\"><span style=\"color: #7f7f7f; text-decoration-color: #7f7f7f\">571</span></a>\n",
       "<span style=\"color: #7fbfbf; text-decoration-color: #7fbfbf\">           </span>         samples, <span style=\"color: #008080; text-decoration-color: #008080; font-weight: bold\">21</span> final columns                                                           <span style=\"color: #7f7f7f; text-decoration-color: #7f7f7f\">           </span>\n",
       "</pre>\n"
      ],
      "text/plain": [
       "\u001b[2;36m          \u001b[0m\u001b[2;36m \u001b[0m\u001b[34mINFO    \u001b[0m Flow \u001b[32m'Structured Text Insights Extraction Flow'\u001b[0m completed successfully: \u001b[1;36m46\u001b[0m final    \u001b]8;id=330232;file:///Users/shiv/workspace/sdg_hub_add-structured-summary-nb/src/sdg_hub/core/flow/base.py\u001b\\\u001b[2mbase.py\u001b[0m\u001b]8;;\u001b\\\u001b[2m:\u001b[0m\u001b]8;id=682246;file:///Users/shiv/workspace/sdg_hub_add-structured-summary-nb/src/sdg_hub/core/flow/base.py#571\u001b\\\u001b[2m571\u001b[0m\u001b]8;;\u001b\\\n",
       "\u001b[2;36m           \u001b[0m         samples, \u001b[1;36m21\u001b[0m final columns                                                           \u001b[2m           \u001b[0m\n"
      ]
     },
     "metadata": {},
     "output_type": "display_data"
    },
    {
     "name": "stdout",
     "output_type": "stream",
     "text": [
      "✅ Processing complete!\n",
      "📊 Generated insights for 46 articles\n",
      "📋 Result columns: ['Headline', 'Journalists', 'Date', 'Link', 'text', 'summary_prompt', 'raw_summary', 'summary', 'keywords_prompt', 'raw_keywords', 'keywords', 'entities_prompt', 'raw_entities', 'entities', 'sentiment_prompt', 'raw_sentiment', 'sentiment', 'ticker_prompt', 'raw_stock_tickers', 'stock_tickers', 'enhanced_structured_insights']\n"
     ]
    }
   ],
   "source": [
    "# Generate structured insights\n",
    "print(\"🚀 Running structured insights extraction...\")\n",
    "print(\"⏱️ This may take a few minutes depending on your model setup...\")\n",
    "\n",
    "# Run the flow\n",
    "results2 = flow.generate(demo_dataset)\n",
    "\n",
    "print(\"✅ Processing complete!\")\n",
    "print(f\"📊 Generated insights for {len(results2)} articles\")\n",
    "print(f\"📋 Result columns: {results2.column_names}\")"
   ]
  },
  {
   "cell_type": "code",
   "execution_count": null,
   "metadata": {},
   "outputs": [
    {
     "name": "stdout",
     "output_type": "stream",
     "text": [
      "=== First Article Analysis ===\n",
      "📰 Original headline: Ivory Coast Keeps Cocoa Export Tax Below 22%, Document Shows\n",
      "📅 Date: 2011-10-06 15:14:20\n",
      "✍️ Journalists: ['Baudelaire Mieu']\n",
      "📄 Article length: 1292 characters\n",
      "\n",
      "🔍 EXTRACTED INSIGHTS:\n",
      "{\n",
      "  \"summary\": \"DTE Energy, Enbridge, and Spectra Energy have agreed to jointly develop a $1.2-1.5 billion pipeline to transport natural gas from Ohio's Utica Shale to the Midwest and eastern Canada. The proposed Nexus Gas Transmission system will span 250 miles and have a daily capacity of 1 billion cubic feet of gas. The pipeline, expected to begin operating by November 2015, aims to serve power plants and industrial customers.\",\n",
      "  \"keywords\": \"Natural Gas, Utica Shale, Pipeline, DTE Energy, Enbridge, Spectra Energy, Midwest, Ontario, Energy Companies, Nexus Gas\",\n",
      "  \"entities\": \"DTE Energy Co., Enbridge Inc., Spectra Energy Corp., Nexus Gas Transmission, Ohio, Utica Shale, Midwest, Canada, Michigan, Ontario, Chesapeake Energy Corp., Devon Energy Corp., Exxon Mobil Corp., Kentucky, Department of Natural Resources, Mike Lee, Susan Warren, Bloomberg, Dallas\",\n",
      "  \"sentiment\": \"neutral\",\n",
      "  \"stock_tickers\": \"DTE, ENB, SE, CHK\"\n",
      "}\n"
     ]
    }
   ],
   "source": [
    "# Display a sample result\n",
    "sample_result2 = results2[random.randint(0, len(results2) - 1)]\n",
    "\n",
    "print(\"=== First Article Analysis ===\")\n",
    "print(f\"📰 Original headline: {dataset[0]['Headline']}\")\n",
    "print(f\"📅 Date: {dataset[0]['Date']}\")\n",
    "print(f\"✍️ Journalists: {dataset[0]['Journalists']}\")\n",
    "print(f\"📄 Article length: {len(sample_result2['text'])} characters\")\n",
    "print()\n",
    "\n",
    "# Parse and display the structured insights\n",
    "insights2 = json.loads(sample_result2[\"enhanced_structured_insights\"])\n",
    "print(\"🔍 EXTRACTED INSIGHTS:\")\n",
    "print(json.dumps(insights2, indent=2, ensure_ascii=False))"
   ]
  },
  {
   "cell_type": "markdown",
   "metadata": {},
   "source": [
    "## Next Steps\n",
    "\n",
    "### 🧪 **Experiment Further**\n",
    "1. **Scale up**: Process 100+ articles to see larger patterns\n",
    "2. **Time analysis**: Filter by date ranges to see trends over time\n",
    "3. **Model comparison**: Try different LLMs and compare results\n",
    "4. **Custom prompts**: Modify the prompt templates for your domain\n",
    "\n",
    "### 🔧 **Customize for Your Use Case**\n",
    "1. **Domain adaptation**: Modify prompts for your specific industry\n",
    "2. **Additional insights**: Add blocks for topic classification, urgency scoring, etc.\n",
    "3. **Output format**: Customize JSON structure for your applications\n",
    "4. **Quality filters**: Add validation and quality checks\n",
    "\n",
    "### 🚀 Build Your Own Model\n",
    "- Leverage the generated structured insights as high-quality training data for your own machine learning models.\n",
    "- Fine-tune LLMs or train classifiers to automate similar analyses at scale.\n",
    "- Refer to Training Hub (https://github.com/Red-Hat-AI-Innovation-Team/training_hub) to setup your own training pipeline.\n",
    "\n",
    "### 📚 **Learn More**\n",
    "- Explore other SDG Hub flows in the repository\n",
    "- Check the documentation for advanced configuration options\n",
    "- Join the community for questions and contributions"
   ]
  }
 ],
 "metadata": {
  "kernelspec": {
   "display_name": ".venv",
   "language": "python",
   "name": "python3"
  },
  "language_info": {
   "codemirror_mode": {
    "name": "ipython",
    "version": 3
   },
   "file_extension": ".py",
   "mimetype": "text/x-python",
   "name": "python",
   "nbconvert_exporter": "python",
   "pygments_lexer": "ipython3",
   "version": "3.12.7"
  }
 },
 "nbformat": 4,
 "nbformat_minor": 4
}
